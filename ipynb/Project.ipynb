{
  "nbformat": 4,
  "nbformat_minor": 0,
  "metadata": {
    "colab": {
      "name": "Project.ipynb",
      "provenance": [],
      "collapsed_sections": [],
      "authorship_tag": "ABX9TyNJRD0fgJEihmIt55sQWj+f",
      "include_colab_link": true
    },
    "kernelspec": {
      "name": "python3",
      "display_name": "Python 3"
    },
    "language_info": {
      "name": "python"
    }
  },
  "cells": [
    {
      "cell_type": "markdown",
      "metadata": {
        "id": "view-in-github",
        "colab_type": "text"
      },
      "source": [
        "<a href=\"https://colab.research.google.com/github/nahidosen/Group_5_CSE445_3_Spring_21/blob/main/ipynb/Project.ipynb\" target=\"_parent\"><img src=\"https://colab.research.google.com/assets/colab-badge.svg\" alt=\"Open In Colab\"/></a>"
      ]
    },
    {
      "cell_type": "code",
      "metadata": {
        "colab": {
          "base_uri": "https://localhost:8080/"
        },
        "id": "2Nm_NxUaHBSp",
        "outputId": "9d03a52e-8e55-449e-96e6-8bc46fb38279"
      },
      "source": [
        "!pip install scikit-plot"
      ],
      "execution_count": 360,
      "outputs": [
        {
          "output_type": "stream",
          "text": [
            "Requirement already satisfied: scikit-plot in /usr/local/lib/python3.7/dist-packages (0.3.7)\n",
            "Requirement already satisfied: scipy>=0.9 in /usr/local/lib/python3.7/dist-packages (from scikit-plot) (1.4.1)\n",
            "Requirement already satisfied: matplotlib>=1.4.0 in /usr/local/lib/python3.7/dist-packages (from scikit-plot) (3.2.2)\n",
            "Requirement already satisfied: joblib>=0.10 in /usr/local/lib/python3.7/dist-packages (from scikit-plot) (1.0.1)\n",
            "Requirement already satisfied: scikit-learn>=0.18 in /usr/local/lib/python3.7/dist-packages (from scikit-plot) (0.22.2.post1)\n",
            "Requirement already satisfied: numpy>=1.13.3 in /usr/local/lib/python3.7/dist-packages (from scipy>=0.9->scikit-plot) (1.19.5)\n",
            "Requirement already satisfied: kiwisolver>=1.0.1 in /usr/local/lib/python3.7/dist-packages (from matplotlib>=1.4.0->scikit-plot) (1.3.1)\n",
            "Requirement already satisfied: cycler>=0.10 in /usr/local/lib/python3.7/dist-packages (from matplotlib>=1.4.0->scikit-plot) (0.10.0)\n",
            "Requirement already satisfied: pyparsing!=2.0.4,!=2.1.2,!=2.1.6,>=2.0.1 in /usr/local/lib/python3.7/dist-packages (from matplotlib>=1.4.0->scikit-plot) (2.4.7)\n",
            "Requirement already satisfied: python-dateutil>=2.1 in /usr/local/lib/python3.7/dist-packages (from matplotlib>=1.4.0->scikit-plot) (2.8.1)\n",
            "Requirement already satisfied: six in /usr/local/lib/python3.7/dist-packages (from cycler>=0.10->matplotlib>=1.4.0->scikit-plot) (1.15.0)\n"
          ],
          "name": "stdout"
        }
      ]
    },
    {
      "cell_type": "code",
      "metadata": {
        "id": "IOfFEWZZsWVY"
      },
      "source": [
        "# Importing necessary packages\n",
        "\n",
        "import pandas as pd\n",
        "import numpy as np\n",
        "import matplotlib.pyplot as plt\n",
        "plt.style.use('ggplot')\n",
        "import seaborn as sns\n",
        "import scikitplot as skplt\n",
        "from sklearn.impute import SimpleImputer\n",
        "from sklearn import metrics\n",
        "from sklearn.model_selection import cross_val_score"
      ],
      "execution_count": 361,
      "outputs": []
    },
    {
      "cell_type": "code",
      "metadata": {
        "colab": {
          "base_uri": "https://localhost:8080/",
          "height": 830
        },
        "id": "LXdNuULVDDSR",
        "outputId": "842c31d5-53fd-42be-f6c4-9a1030ff296f"
      },
      "source": [
        "data = 'https://raw.githubusercontent.com/nahidosen/Group_5_CSE445_3_Spring_21/main/dataset/IPL%20Matches%202008-2020.csv'\n",
        "\n",
        "ipl = pd.read_csv(data)\n",
        "ipl"
      ],
      "execution_count": 362,
      "outputs": [
        {
          "output_type": "execute_result",
          "data": {
            "text/html": [
              "<div>\n",
              "<style scoped>\n",
              "    .dataframe tbody tr th:only-of-type {\n",
              "        vertical-align: middle;\n",
              "    }\n",
              "\n",
              "    .dataframe tbody tr th {\n",
              "        vertical-align: top;\n",
              "    }\n",
              "\n",
              "    .dataframe thead th {\n",
              "        text-align: right;\n",
              "    }\n",
              "</style>\n",
              "<table border=\"1\" class=\"dataframe\">\n",
              "  <thead>\n",
              "    <tr style=\"text-align: right;\">\n",
              "      <th></th>\n",
              "      <th>id</th>\n",
              "      <th>city</th>\n",
              "      <th>date</th>\n",
              "      <th>player_of_match</th>\n",
              "      <th>venue</th>\n",
              "      <th>neutral_venue</th>\n",
              "      <th>team1</th>\n",
              "      <th>team2</th>\n",
              "      <th>toss_winner</th>\n",
              "      <th>toss_decision</th>\n",
              "      <th>winner</th>\n",
              "      <th>result</th>\n",
              "      <th>result_margin</th>\n",
              "      <th>eliminator</th>\n",
              "      <th>method</th>\n",
              "      <th>umpire1</th>\n",
              "      <th>umpire2</th>\n",
              "    </tr>\n",
              "  </thead>\n",
              "  <tbody>\n",
              "    <tr>\n",
              "      <th>0</th>\n",
              "      <td>335982</td>\n",
              "      <td>Bangalore</td>\n",
              "      <td>2008-04-18</td>\n",
              "      <td>BB McCullum</td>\n",
              "      <td>M Chinnaswamy Stadium</td>\n",
              "      <td>0</td>\n",
              "      <td>Royal Challengers Bangalore</td>\n",
              "      <td>Kolkata Knight Riders</td>\n",
              "      <td>Royal Challengers Bangalore</td>\n",
              "      <td>field</td>\n",
              "      <td>Kolkata Knight Riders</td>\n",
              "      <td>runs</td>\n",
              "      <td>140.0</td>\n",
              "      <td>N</td>\n",
              "      <td>NaN</td>\n",
              "      <td>Asad Rauf</td>\n",
              "      <td>RE Koertzen</td>\n",
              "    </tr>\n",
              "    <tr>\n",
              "      <th>1</th>\n",
              "      <td>335983</td>\n",
              "      <td>Chandigarh</td>\n",
              "      <td>2008-04-19</td>\n",
              "      <td>MEK Hussey</td>\n",
              "      <td>Punjab Cricket Association Stadium, Mohali</td>\n",
              "      <td>0</td>\n",
              "      <td>Kings XI Punjab</td>\n",
              "      <td>Chennai Super Kings</td>\n",
              "      <td>Chennai Super Kings</td>\n",
              "      <td>bat</td>\n",
              "      <td>Chennai Super Kings</td>\n",
              "      <td>runs</td>\n",
              "      <td>33.0</td>\n",
              "      <td>N</td>\n",
              "      <td>NaN</td>\n",
              "      <td>MR Benson</td>\n",
              "      <td>SL Shastri</td>\n",
              "    </tr>\n",
              "    <tr>\n",
              "      <th>2</th>\n",
              "      <td>335984</td>\n",
              "      <td>Delhi</td>\n",
              "      <td>2008-04-19</td>\n",
              "      <td>MF Maharoof</td>\n",
              "      <td>Feroz Shah Kotla</td>\n",
              "      <td>0</td>\n",
              "      <td>Delhi Daredevils</td>\n",
              "      <td>Rajasthan Royals</td>\n",
              "      <td>Rajasthan Royals</td>\n",
              "      <td>bat</td>\n",
              "      <td>Delhi Daredevils</td>\n",
              "      <td>wickets</td>\n",
              "      <td>9.0</td>\n",
              "      <td>N</td>\n",
              "      <td>NaN</td>\n",
              "      <td>Aleem Dar</td>\n",
              "      <td>GA Pratapkumar</td>\n",
              "    </tr>\n",
              "    <tr>\n",
              "      <th>3</th>\n",
              "      <td>335985</td>\n",
              "      <td>Mumbai</td>\n",
              "      <td>2008-04-20</td>\n",
              "      <td>MV Boucher</td>\n",
              "      <td>Wankhede Stadium</td>\n",
              "      <td>0</td>\n",
              "      <td>Mumbai Indians</td>\n",
              "      <td>Royal Challengers Bangalore</td>\n",
              "      <td>Mumbai Indians</td>\n",
              "      <td>bat</td>\n",
              "      <td>Royal Challengers Bangalore</td>\n",
              "      <td>wickets</td>\n",
              "      <td>5.0</td>\n",
              "      <td>N</td>\n",
              "      <td>NaN</td>\n",
              "      <td>SJ Davis</td>\n",
              "      <td>DJ Harper</td>\n",
              "    </tr>\n",
              "    <tr>\n",
              "      <th>4</th>\n",
              "      <td>335986</td>\n",
              "      <td>Kolkata</td>\n",
              "      <td>2008-04-20</td>\n",
              "      <td>DJ Hussey</td>\n",
              "      <td>Eden Gardens</td>\n",
              "      <td>0</td>\n",
              "      <td>Kolkata Knight Riders</td>\n",
              "      <td>Deccan Chargers</td>\n",
              "      <td>Deccan Chargers</td>\n",
              "      <td>bat</td>\n",
              "      <td>Kolkata Knight Riders</td>\n",
              "      <td>wickets</td>\n",
              "      <td>5.0</td>\n",
              "      <td>N</td>\n",
              "      <td>NaN</td>\n",
              "      <td>BF Bowden</td>\n",
              "      <td>K Hariharan</td>\n",
              "    </tr>\n",
              "    <tr>\n",
              "      <th>...</th>\n",
              "      <td>...</td>\n",
              "      <td>...</td>\n",
              "      <td>...</td>\n",
              "      <td>...</td>\n",
              "      <td>...</td>\n",
              "      <td>...</td>\n",
              "      <td>...</td>\n",
              "      <td>...</td>\n",
              "      <td>...</td>\n",
              "      <td>...</td>\n",
              "      <td>...</td>\n",
              "      <td>...</td>\n",
              "      <td>...</td>\n",
              "      <td>...</td>\n",
              "      <td>...</td>\n",
              "      <td>...</td>\n",
              "      <td>...</td>\n",
              "    </tr>\n",
              "    <tr>\n",
              "      <th>811</th>\n",
              "      <td>1216547</td>\n",
              "      <td>Dubai</td>\n",
              "      <td>2020-09-28</td>\n",
              "      <td>AB de Villiers</td>\n",
              "      <td>Dubai International Cricket Stadium</td>\n",
              "      <td>0</td>\n",
              "      <td>Royal Challengers Bangalore</td>\n",
              "      <td>Mumbai Indians</td>\n",
              "      <td>Mumbai Indians</td>\n",
              "      <td>field</td>\n",
              "      <td>Royal Challengers Bangalore</td>\n",
              "      <td>tie</td>\n",
              "      <td>NaN</td>\n",
              "      <td>Y</td>\n",
              "      <td>NaN</td>\n",
              "      <td>Nitin Menon</td>\n",
              "      <td>PR Reiffel</td>\n",
              "    </tr>\n",
              "    <tr>\n",
              "      <th>812</th>\n",
              "      <td>1237177</td>\n",
              "      <td>Dubai</td>\n",
              "      <td>2020-11-05</td>\n",
              "      <td>JJ Bumrah</td>\n",
              "      <td>Dubai International Cricket Stadium</td>\n",
              "      <td>0</td>\n",
              "      <td>Mumbai Indians</td>\n",
              "      <td>Delhi Capitals</td>\n",
              "      <td>Delhi Capitals</td>\n",
              "      <td>field</td>\n",
              "      <td>Mumbai Indians</td>\n",
              "      <td>runs</td>\n",
              "      <td>57.0</td>\n",
              "      <td>N</td>\n",
              "      <td>NaN</td>\n",
              "      <td>CB Gaffaney</td>\n",
              "      <td>Nitin Menon</td>\n",
              "    </tr>\n",
              "    <tr>\n",
              "      <th>813</th>\n",
              "      <td>1237178</td>\n",
              "      <td>Abu Dhabi</td>\n",
              "      <td>2020-11-06</td>\n",
              "      <td>KS Williamson</td>\n",
              "      <td>Sheikh Zayed Stadium</td>\n",
              "      <td>0</td>\n",
              "      <td>Royal Challengers Bangalore</td>\n",
              "      <td>Sunrisers Hyderabad</td>\n",
              "      <td>Sunrisers Hyderabad</td>\n",
              "      <td>field</td>\n",
              "      <td>Sunrisers Hyderabad</td>\n",
              "      <td>wickets</td>\n",
              "      <td>6.0</td>\n",
              "      <td>N</td>\n",
              "      <td>NaN</td>\n",
              "      <td>PR Reiffel</td>\n",
              "      <td>S Ravi</td>\n",
              "    </tr>\n",
              "    <tr>\n",
              "      <th>814</th>\n",
              "      <td>1237180</td>\n",
              "      <td>Abu Dhabi</td>\n",
              "      <td>2020-11-08</td>\n",
              "      <td>MP Stoinis</td>\n",
              "      <td>Sheikh Zayed Stadium</td>\n",
              "      <td>0</td>\n",
              "      <td>Delhi Capitals</td>\n",
              "      <td>Sunrisers Hyderabad</td>\n",
              "      <td>Delhi Capitals</td>\n",
              "      <td>bat</td>\n",
              "      <td>Delhi Capitals</td>\n",
              "      <td>runs</td>\n",
              "      <td>17.0</td>\n",
              "      <td>N</td>\n",
              "      <td>NaN</td>\n",
              "      <td>PR Reiffel</td>\n",
              "      <td>S Ravi</td>\n",
              "    </tr>\n",
              "    <tr>\n",
              "      <th>815</th>\n",
              "      <td>1237181</td>\n",
              "      <td>Dubai</td>\n",
              "      <td>2020-11-10</td>\n",
              "      <td>TA Boult</td>\n",
              "      <td>Dubai International Cricket Stadium</td>\n",
              "      <td>0</td>\n",
              "      <td>Delhi Capitals</td>\n",
              "      <td>Mumbai Indians</td>\n",
              "      <td>Delhi Capitals</td>\n",
              "      <td>bat</td>\n",
              "      <td>Mumbai Indians</td>\n",
              "      <td>wickets</td>\n",
              "      <td>5.0</td>\n",
              "      <td>N</td>\n",
              "      <td>NaN</td>\n",
              "      <td>CB Gaffaney</td>\n",
              "      <td>Nitin Menon</td>\n",
              "    </tr>\n",
              "  </tbody>\n",
              "</table>\n",
              "<p>816 rows × 17 columns</p>\n",
              "</div>"
            ],
            "text/plain": [
              "          id        city        date  ... method      umpire1         umpire2\n",
              "0     335982   Bangalore  2008-04-18  ...    NaN    Asad Rauf     RE Koertzen\n",
              "1     335983  Chandigarh  2008-04-19  ...    NaN    MR Benson      SL Shastri\n",
              "2     335984       Delhi  2008-04-19  ...    NaN    Aleem Dar  GA Pratapkumar\n",
              "3     335985      Mumbai  2008-04-20  ...    NaN     SJ Davis       DJ Harper\n",
              "4     335986     Kolkata  2008-04-20  ...    NaN    BF Bowden     K Hariharan\n",
              "..       ...         ...         ...  ...    ...          ...             ...\n",
              "811  1216547       Dubai  2020-09-28  ...    NaN  Nitin Menon      PR Reiffel\n",
              "812  1237177       Dubai  2020-11-05  ...    NaN  CB Gaffaney     Nitin Menon\n",
              "813  1237178   Abu Dhabi  2020-11-06  ...    NaN   PR Reiffel          S Ravi\n",
              "814  1237180   Abu Dhabi  2020-11-08  ...    NaN   PR Reiffel          S Ravi\n",
              "815  1237181       Dubai  2020-11-10  ...    NaN  CB Gaffaney     Nitin Menon\n",
              "\n",
              "[816 rows x 17 columns]"
            ]
          },
          "metadata": {
            "tags": []
          },
          "execution_count": 362
        }
      ]
    },
    {
      "cell_type": "code",
      "metadata": {
        "colab": {
          "base_uri": "https://localhost:8080/"
        },
        "id": "mz620CKdJkdx",
        "outputId": "62ff18cc-8a3f-4577-b2e7-9c5afe3bd807"
      },
      "source": [
        "ipl.columns"
      ],
      "execution_count": 363,
      "outputs": [
        {
          "output_type": "execute_result",
          "data": {
            "text/plain": [
              "Index(['id', 'city', 'date', 'player_of_match', 'venue', 'neutral_venue',\n",
              "       'team1', 'team2', 'toss_winner', 'toss_decision', 'winner', 'result',\n",
              "       'result_margin', 'eliminator', 'method', 'umpire1', 'umpire2'],\n",
              "      dtype='object')"
            ]
          },
          "metadata": {
            "tags": []
          },
          "execution_count": 363
        }
      ]
    },
    {
      "cell_type": "code",
      "metadata": {
        "colab": {
          "base_uri": "https://localhost:8080/"
        },
        "id": "ixvbzZq1GE0P",
        "outputId": "f5ebdcb9-f18c-413a-8981-42ed8267d298"
      },
      "source": [
        "ipl.info()"
      ],
      "execution_count": 364,
      "outputs": [
        {
          "output_type": "stream",
          "text": [
            "<class 'pandas.core.frame.DataFrame'>\n",
            "RangeIndex: 816 entries, 0 to 815\n",
            "Data columns (total 17 columns):\n",
            " #   Column           Non-Null Count  Dtype  \n",
            "---  ------           --------------  -----  \n",
            " 0   id               816 non-null    int64  \n",
            " 1   city             803 non-null    object \n",
            " 2   date             816 non-null    object \n",
            " 3   player_of_match  812 non-null    object \n",
            " 4   venue            816 non-null    object \n",
            " 5   neutral_venue    816 non-null    int64  \n",
            " 6   team1            816 non-null    object \n",
            " 7   team2            816 non-null    object \n",
            " 8   toss_winner      816 non-null    object \n",
            " 9   toss_decision    816 non-null    object \n",
            " 10  winner           812 non-null    object \n",
            " 11  result           812 non-null    object \n",
            " 12  result_margin    799 non-null    float64\n",
            " 13  eliminator       812 non-null    object \n",
            " 14  method           19 non-null     object \n",
            " 15  umpire1          816 non-null    object \n",
            " 16  umpire2          816 non-null    object \n",
            "dtypes: float64(1), int64(2), object(14)\n",
            "memory usage: 108.5+ KB\n"
          ],
          "name": "stdout"
        }
      ]
    },
    {
      "cell_type": "code",
      "metadata": {
        "id": "hrmRr-gJhRXg"
      },
      "source": [
        "#ipl_2['city'] = ipl['city'].astype(str)\n",
        "#ipl_2.info()"
      ],
      "execution_count": 365,
      "outputs": []
    },
    {
      "cell_type": "code",
      "metadata": {
        "colab": {
          "base_uri": "https://localhost:8080/"
        },
        "id": "WstiqDPtS5OU",
        "outputId": "ad5cc664-6e3b-4f41-9c56-937039cfa8fb"
      },
      "source": [
        "ipl.isnull().sum() "
      ],
      "execution_count": 366,
      "outputs": [
        {
          "output_type": "execute_result",
          "data": {
            "text/plain": [
              "id                   0\n",
              "city                13\n",
              "date                 0\n",
              "player_of_match      4\n",
              "venue                0\n",
              "neutral_venue        0\n",
              "team1                0\n",
              "team2                0\n",
              "toss_winner          0\n",
              "toss_decision        0\n",
              "winner               4\n",
              "result               4\n",
              "result_margin       17\n",
              "eliminator           4\n",
              "method             797\n",
              "umpire1              0\n",
              "umpire2              0\n",
              "dtype: int64"
            ]
          },
          "metadata": {
            "tags": []
          },
          "execution_count": 366
        }
      ]
    },
    {
      "cell_type": "code",
      "metadata": {
        "colab": {
          "base_uri": "https://localhost:8080/"
        },
        "id": "AwU5zK3aXXtv",
        "outputId": "36a2c070-3e84-492b-ec69-9bf64302479d"
      },
      "source": [
        "ipl.nunique()"
      ],
      "execution_count": 367,
      "outputs": [
        {
          "output_type": "execute_result",
          "data": {
            "text/plain": [
              "id                 816\n",
              "city                32\n",
              "date               596\n",
              "player_of_match    233\n",
              "venue               36\n",
              "neutral_venue        2\n",
              "team1               15\n",
              "team2               15\n",
              "toss_winner         15\n",
              "toss_decision        2\n",
              "winner              15\n",
              "result               3\n",
              "result_margin       91\n",
              "eliminator           2\n",
              "method               1\n",
              "umpire1             48\n",
              "umpire2             47\n",
              "dtype: int64"
            ]
          },
          "metadata": {
            "tags": []
          },
          "execution_count": 367
        }
      ]
    },
    {
      "cell_type": "code",
      "metadata": {
        "colab": {
          "base_uri": "https://localhost:8080/"
        },
        "id": "YYDI1siBJQ4A",
        "outputId": "29466369-2ede-4653-95c6-1d441d84aae0"
      },
      "source": [
        "ipl['city'].value_counts().sort_index()"
      ],
      "execution_count": 368,
      "outputs": [
        {
          "output_type": "execute_result",
          "data": {
            "text/plain": [
              "Abu Dhabi          29\n",
              "Ahmedabad          12\n",
              "Bangalore          65\n",
              "Bengaluru          15\n",
              "Bloemfontein        2\n",
              "Cape Town           7\n",
              "Centurion          12\n",
              "Chandigarh         56\n",
              "Chennai            57\n",
              "Cuttack             7\n",
              "Delhi              74\n",
              "Dharamsala          9\n",
              "Dubai              26\n",
              "Durban             15\n",
              "East London         3\n",
              "Hyderabad          64\n",
              "Indore              9\n",
              "Jaipur             47\n",
              "Johannesburg        8\n",
              "Kanpur              4\n",
              "Kimberley           3\n",
              "Kochi               5\n",
              "Kolkata            77\n",
              "Mumbai            101\n",
              "Nagpur              3\n",
              "Port Elizabeth      7\n",
              "Pune               38\n",
              "Raipur              6\n",
              "Rajkot             10\n",
              "Ranchi              7\n",
              "Sharjah            12\n",
              "Visakhapatnam      13\n",
              "Name: city, dtype: int64"
            ]
          },
          "metadata": {
            "tags": []
          },
          "execution_count": 368
        }
      ]
    },
    {
      "cell_type": "code",
      "metadata": {
        "colab": {
          "base_uri": "https://localhost:8080/"
        },
        "id": "nRi0V6AQbqQu",
        "outputId": "7f957098-beb0-47cd-b647-bf07407bbb2b"
      },
      "source": [
        "ipl_2 = ipl\n",
        "ipl_2['city'] = ipl_2['city'].replace('Bengaluru', 'Bangalore')\n",
        "ipl_2['city'].value_counts().sort_index()"
      ],
      "execution_count": 369,
      "outputs": [
        {
          "output_type": "execute_result",
          "data": {
            "text/plain": [
              "Abu Dhabi          29\n",
              "Ahmedabad          12\n",
              "Bangalore          80\n",
              "Bloemfontein        2\n",
              "Cape Town           7\n",
              "Centurion          12\n",
              "Chandigarh         56\n",
              "Chennai            57\n",
              "Cuttack             7\n",
              "Delhi              74\n",
              "Dharamsala          9\n",
              "Dubai              26\n",
              "Durban             15\n",
              "East London         3\n",
              "Hyderabad          64\n",
              "Indore              9\n",
              "Jaipur             47\n",
              "Johannesburg        8\n",
              "Kanpur              4\n",
              "Kimberley           3\n",
              "Kochi               5\n",
              "Kolkata            77\n",
              "Mumbai            101\n",
              "Nagpur              3\n",
              "Port Elizabeth      7\n",
              "Pune               38\n",
              "Raipur              6\n",
              "Rajkot             10\n",
              "Ranchi              7\n",
              "Sharjah            12\n",
              "Visakhapatnam      13\n",
              "Name: city, dtype: int64"
            ]
          },
          "metadata": {
            "tags": []
          },
          "execution_count": 369
        }
      ]
    },
    {
      "cell_type": "code",
      "metadata": {
        "colab": {
          "base_uri": "https://localhost:8080/"
        },
        "id": "3IKTtDqpJaBP",
        "outputId": "a4da3855-4c83-423f-f68c-4647ca9a85bd"
      },
      "source": [
        "ipl_2['player_of_match'].sort_values().unique()"
      ],
      "execution_count": 370,
      "outputs": [
        {
          "output_type": "execute_result",
          "data": {
            "text/plain": [
              "array(['A Chandila', 'A Kumble', 'A Mishra', 'A Nehra', 'A Nortje',\n",
              "       'A Singh', 'A Symonds', 'A Zampa', 'AA Jhunjhunwala', 'AB Dinda',\n",
              "       'AB de Villiers', 'AC Gilchrist', 'AC Voges', 'AD Mascarenhas',\n",
              "       'AD Mathews', 'AD Russell', 'AJ Finch', 'AJ Tye', 'AM Rahane',\n",
              "       'AP Tare', 'AR Patel', 'AS Joseph', 'AS Rajpoot', 'AT Rayudu',\n",
              "       'Azhar Mahmood', 'B Kumar', 'B Lee', 'B Stanlake', 'BA Bhatt',\n",
              "       'BA Stokes', 'BB McCullum', 'BCJ Cutting', 'BJ Hodge',\n",
              "       'BW Hilfenhaus', 'CA Lynn', 'CH Gayle', 'CH Morris', 'CJ Anderson',\n",
              "       'CJ Jordan', 'CL White', 'CR Brathwaite', 'CRD Fernando',\n",
              "       'CV Varun', 'DA Miller', 'DA Warner', 'DE Bollinger', 'DJ Bravo',\n",
              "       'DJ Hooda', 'DJ Hussey', 'DJG Sammy', 'DL Chahar', 'DL Vettori',\n",
              "       'DP Nannes', 'DPMD Jayawardene', 'DR Smith', 'DW Steyn',\n",
              "       'EJG Morgan', 'F du Plessis', 'G Gambhir', 'GC Smith',\n",
              "       'GD McGrath', 'GH Vihari', 'GJ Bailey', 'GJ Maxwell', 'HF Gurney',\n",
              "       'HH Gibbs', 'HH Pandya', 'HM Amla', 'HV Patel', 'Harbhajan Singh',\n",
              "       'Harmeet Singh', 'I Sharma', 'IK Pathan', 'Imran Tahir',\n",
              "       'Iqbal Abdulla', 'Ishan Kishan', 'J Botha', 'J Theron',\n",
              "       'JA Morkel', 'JC Archer', 'JC Buttler', 'JD Ryder', 'JD Unadkat',\n",
              "       'JDP Oram', 'JEC Franklin', 'JH Kallis', 'JJ Bumrah', 'JJ Roy',\n",
              "       'JM Bairstow', 'JP Duminy', 'JP Faulkner', 'K Rabada',\n",
              "       'KA Pollard', 'KC Sangakkara', 'KD Karthik', 'KH Pandya',\n",
              "       'KK Ahmed', 'KK Cooper', 'KK Nair', 'KL Rahul', 'KM Jadhav',\n",
              "       'KMA Paul', 'KMDN Kulasekara', 'KP Pietersen', 'KS Williamson',\n",
              "       'KV Sharma', 'Kuldeep Yadav', 'L Balaji', 'L Ngidi', 'LH Ferguson',\n",
              "       'LJ Wright', 'LMP Simmons', 'LR Shukla', 'LRPL Taylor', 'M Kartik',\n",
              "       'M Morkel', 'M Muralitharan', 'M Ntini', 'M Vijay', 'M Vohra',\n",
              "       'MA Agarwal', 'MA Starc', 'MC Henriques', 'MD Mishra',\n",
              "       'MEK Hussey', 'MF Maharoof', 'MG Johnson', 'MJ Lumb',\n",
              "       'MJ McClenaghan', 'MK Pandey', 'MK Tiwary', 'ML Hayden',\n",
              "       'MM Patel', 'MM Sharma', 'MN Samuels', 'MP Stoinis', 'MR Marsh',\n",
              "       'MS Bisla', 'MS Dhoni', 'MS Gony', 'MV Boucher', 'Mandeep Singh',\n",
              "       'Mohammed Shami', 'Mohammed Siraj', 'Mujeeb Ur Rahman',\n",
              "       'Mustafizur Rahman', 'N Rana', 'NM Coulter-Nile', 'NV Ojha',\n",
              "       'P Kumar', 'P Negi', 'P Parameswaran', 'PA Patel', 'PC Valthaty',\n",
              "       'PD Collingwood', 'PJ Cummins', 'PK Garg', 'PP Chawla', 'PP Ojha',\n",
              "       'PP Shaw', 'PV Tambe', 'Q de Kock', 'R Ashwin', 'R Bhatia',\n",
              "       'R Dravid', 'R McLaren', 'R Sharma', 'R Tewatia', 'R Vinay Kumar',\n",
              "       'RA Jadeja', 'RA Tripathi', 'RD Gaikwad', 'RE Levi', 'RG Sharma',\n",
              "       'RJ Harris', 'RP Singh', 'RR Pant', 'RS Bopara', 'RV Uthappa',\n",
              "       'Rashid Khan', 'S Anirudha', 'S Aravind', 'S Badrinath',\n",
              "       'S Dhawan', 'S Gopal', 'S Nadeem', 'S Sohal', 'S Sreesanth',\n",
              "       'SA Asnodkar', 'SA Yadav', 'SB Jakati', 'SB Wagh', 'SC Ganguly',\n",
              "       'SE Marsh', 'SK Raina', 'SK Trivedi', 'SK Warne', 'SL Malinga',\n",
              "       'SM Curran', 'SM Katich', 'SM Pollock', 'SO Hetmyer', 'SP Goswami',\n",
              "       'SP Narine', 'SPD Smith', 'SR Tendulkar', 'SR Watson', 'SS Iyer',\n",
              "       'ST Jayasuriya', 'SV Samson', 'SW Billings', 'Sandeep Sharma',\n",
              "       'Shakib Al Hasan', 'Shivam Mavi', 'Shoaib Akhtar', 'Shubman Gill',\n",
              "       'Sohail Tanvir', 'TA Boult', 'TG Southee', 'TL Suman',\n",
              "       'TM Dilshan', 'UT Yadav', 'Umar Gul', 'V Kohli', 'V Sehwag',\n",
              "       'VR Aaron', 'WP Saha', 'WPUJC Vaas', 'Washington Sundar',\n",
              "       'YK Pathan', 'YS Chahal', 'Yuvraj Singh', 'Z Khan', nan],\n",
              "      dtype=object)"
            ]
          },
          "metadata": {
            "tags": []
          },
          "execution_count": 370
        }
      ]
    },
    {
      "cell_type": "code",
      "metadata": {
        "colab": {
          "base_uri": "https://localhost:8080/"
        },
        "id": "_2wpZsP3JhZ3",
        "outputId": "6e680769-24d5-44e3-8dff-586b0f06bc01"
      },
      "source": [
        "ipl_2['venue'].value_counts().sort_index()"
      ],
      "execution_count": 371,
      "outputs": [
        {
          "output_type": "execute_result",
          "data": {
            "text/plain": [
              "Barabati Stadium                                         7\n",
              "Brabourne Stadium                                       11\n",
              "Buffalo Park                                             3\n",
              "De Beers Diamond Oval                                    3\n",
              "Dr DY Patil Sports Academy                              17\n",
              "Dr. Y.S. Rajasekhara Reddy ACA-VDCA Cricket Stadium     13\n",
              "Dubai International Cricket Stadium                     33\n",
              "Eden Gardens                                            77\n",
              "Feroz Shah Kotla                                        74\n",
              "Green Park                                               4\n",
              "Himachal Pradesh Cricket Association Stadium             9\n",
              "Holkar Cricket Stadium                                   9\n",
              "JSCA International Stadium Complex                       7\n",
              "Kingsmead                                               15\n",
              "M Chinnaswamy Stadium                                   65\n",
              "M.Chinnaswamy Stadium                                   15\n",
              "MA Chidambaram Stadium, Chepauk                         57\n",
              "Maharashtra Cricket Association Stadium                 21\n",
              "Nehru Stadium                                            5\n",
              "New Wanderers Stadium                                    8\n",
              "Newlands                                                 7\n",
              "OUTsurance Oval                                          2\n",
              "Punjab Cricket Association IS Bindra Stadium, Mohali    21\n",
              "Punjab Cricket Association Stadium, Mohali              35\n",
              "Rajiv Gandhi International Stadium, Uppal               64\n",
              "Sardar Patel Stadium, Motera                            12\n",
              "Saurashtra Cricket Association Stadium                  10\n",
              "Sawai Mansingh Stadium                                  47\n",
              "Shaheed Veer Narayan Singh International Stadium         6\n",
              "Sharjah Cricket Stadium                                 18\n",
              "Sheikh Zayed Stadium                                    29\n",
              "St George's Park                                         7\n",
              "Subrata Roy Sahara Stadium                              17\n",
              "SuperSport Park                                         12\n",
              "Vidarbha Cricket Association Stadium, Jamtha             3\n",
              "Wankhede Stadium                                        73\n",
              "Name: venue, dtype: int64"
            ]
          },
          "metadata": {
            "tags": []
          },
          "execution_count": 371
        }
      ]
    },
    {
      "cell_type": "code",
      "metadata": {
        "colab": {
          "base_uri": "https://localhost:8080/"
        },
        "id": "MMJGQuttkJ3m",
        "outputId": "2cd1859d-4dd4-40f9-8cfe-bdd7fad9ca1b"
      },
      "source": [
        "ipl_2['venue'] = ipl_2['venue'].replace('M Chinnaswamy Stadium', 'M. Chinnaswamy Stadium')\n",
        "ipl_2['venue'].value_counts().sort_index()"
      ],
      "execution_count": 372,
      "outputs": [
        {
          "output_type": "execute_result",
          "data": {
            "text/plain": [
              "Barabati Stadium                                         7\n",
              "Brabourne Stadium                                       11\n",
              "Buffalo Park                                             3\n",
              "De Beers Diamond Oval                                    3\n",
              "Dr DY Patil Sports Academy                              17\n",
              "Dr. Y.S. Rajasekhara Reddy ACA-VDCA Cricket Stadium     13\n",
              "Dubai International Cricket Stadium                     33\n",
              "Eden Gardens                                            77\n",
              "Feroz Shah Kotla                                        74\n",
              "Green Park                                               4\n",
              "Himachal Pradesh Cricket Association Stadium             9\n",
              "Holkar Cricket Stadium                                   9\n",
              "JSCA International Stadium Complex                       7\n",
              "Kingsmead                                               15\n",
              "M. Chinnaswamy Stadium                                  65\n",
              "M.Chinnaswamy Stadium                                   15\n",
              "MA Chidambaram Stadium, Chepauk                         57\n",
              "Maharashtra Cricket Association Stadium                 21\n",
              "Nehru Stadium                                            5\n",
              "New Wanderers Stadium                                    8\n",
              "Newlands                                                 7\n",
              "OUTsurance Oval                                          2\n",
              "Punjab Cricket Association IS Bindra Stadium, Mohali    21\n",
              "Punjab Cricket Association Stadium, Mohali              35\n",
              "Rajiv Gandhi International Stadium, Uppal               64\n",
              "Sardar Patel Stadium, Motera                            12\n",
              "Saurashtra Cricket Association Stadium                  10\n",
              "Sawai Mansingh Stadium                                  47\n",
              "Shaheed Veer Narayan Singh International Stadium         6\n",
              "Sharjah Cricket Stadium                                 18\n",
              "Sheikh Zayed Stadium                                    29\n",
              "St George's Park                                         7\n",
              "Subrata Roy Sahara Stadium                              17\n",
              "SuperSport Park                                         12\n",
              "Vidarbha Cricket Association Stadium, Jamtha             3\n",
              "Wankhede Stadium                                        73\n",
              "Name: venue, dtype: int64"
            ]
          },
          "metadata": {
            "tags": []
          },
          "execution_count": 372
        }
      ]
    },
    {
      "cell_type": "code",
      "metadata": {
        "colab": {
          "base_uri": "https://localhost:8080/"
        },
        "id": "HA1G1WYylYPP",
        "outputId": "af1b29a5-7852-4652-b632-bb14337fa6a0"
      },
      "source": [
        "ipl_2['venue'] = ipl_2['venue'].replace('M.Chinnaswamy Stadium', 'M. Chinnaswamy Stadium')\n",
        "ipl_2['venue'].value_counts().sort_index()"
      ],
      "execution_count": 373,
      "outputs": [
        {
          "output_type": "execute_result",
          "data": {
            "text/plain": [
              "Barabati Stadium                                         7\n",
              "Brabourne Stadium                                       11\n",
              "Buffalo Park                                             3\n",
              "De Beers Diamond Oval                                    3\n",
              "Dr DY Patil Sports Academy                              17\n",
              "Dr. Y.S. Rajasekhara Reddy ACA-VDCA Cricket Stadium     13\n",
              "Dubai International Cricket Stadium                     33\n",
              "Eden Gardens                                            77\n",
              "Feroz Shah Kotla                                        74\n",
              "Green Park                                               4\n",
              "Himachal Pradesh Cricket Association Stadium             9\n",
              "Holkar Cricket Stadium                                   9\n",
              "JSCA International Stadium Complex                       7\n",
              "Kingsmead                                               15\n",
              "M. Chinnaswamy Stadium                                  80\n",
              "MA Chidambaram Stadium, Chepauk                         57\n",
              "Maharashtra Cricket Association Stadium                 21\n",
              "Nehru Stadium                                            5\n",
              "New Wanderers Stadium                                    8\n",
              "Newlands                                                 7\n",
              "OUTsurance Oval                                          2\n",
              "Punjab Cricket Association IS Bindra Stadium, Mohali    21\n",
              "Punjab Cricket Association Stadium, Mohali              35\n",
              "Rajiv Gandhi International Stadium, Uppal               64\n",
              "Sardar Patel Stadium, Motera                            12\n",
              "Saurashtra Cricket Association Stadium                  10\n",
              "Sawai Mansingh Stadium                                  47\n",
              "Shaheed Veer Narayan Singh International Stadium         6\n",
              "Sharjah Cricket Stadium                                 18\n",
              "Sheikh Zayed Stadium                                    29\n",
              "St George's Park                                         7\n",
              "Subrata Roy Sahara Stadium                              17\n",
              "SuperSport Park                                         12\n",
              "Vidarbha Cricket Association Stadium, Jamtha             3\n",
              "Wankhede Stadium                                        73\n",
              "Name: venue, dtype: int64"
            ]
          },
          "metadata": {
            "tags": []
          },
          "execution_count": 373
        }
      ]
    },
    {
      "cell_type": "code",
      "metadata": {
        "colab": {
          "base_uri": "https://localhost:8080/"
        },
        "id": "RbEDEx0ileYN",
        "outputId": "cf66bee9-8a22-4bcf-fa7b-43076436ff36"
      },
      "source": [
        "ipl_2['venue'] = ipl_2['venue'].replace('Punjab Cricket Association Stadium, Mohali', 'Punjab Cricket Association IS Bindra Stadium, Mohali')\n",
        "ipl_2['venue'].value_counts().sort_index()"
      ],
      "execution_count": 374,
      "outputs": [
        {
          "output_type": "execute_result",
          "data": {
            "text/plain": [
              "Barabati Stadium                                         7\n",
              "Brabourne Stadium                                       11\n",
              "Buffalo Park                                             3\n",
              "De Beers Diamond Oval                                    3\n",
              "Dr DY Patil Sports Academy                              17\n",
              "Dr. Y.S. Rajasekhara Reddy ACA-VDCA Cricket Stadium     13\n",
              "Dubai International Cricket Stadium                     33\n",
              "Eden Gardens                                            77\n",
              "Feroz Shah Kotla                                        74\n",
              "Green Park                                               4\n",
              "Himachal Pradesh Cricket Association Stadium             9\n",
              "Holkar Cricket Stadium                                   9\n",
              "JSCA International Stadium Complex                       7\n",
              "Kingsmead                                               15\n",
              "M. Chinnaswamy Stadium                                  80\n",
              "MA Chidambaram Stadium, Chepauk                         57\n",
              "Maharashtra Cricket Association Stadium                 21\n",
              "Nehru Stadium                                            5\n",
              "New Wanderers Stadium                                    8\n",
              "Newlands                                                 7\n",
              "OUTsurance Oval                                          2\n",
              "Punjab Cricket Association IS Bindra Stadium, Mohali    56\n",
              "Rajiv Gandhi International Stadium, Uppal               64\n",
              "Sardar Patel Stadium, Motera                            12\n",
              "Saurashtra Cricket Association Stadium                  10\n",
              "Sawai Mansingh Stadium                                  47\n",
              "Shaheed Veer Narayan Singh International Stadium         6\n",
              "Sharjah Cricket Stadium                                 18\n",
              "Sheikh Zayed Stadium                                    29\n",
              "St George's Park                                         7\n",
              "Subrata Roy Sahara Stadium                              17\n",
              "SuperSport Park                                         12\n",
              "Vidarbha Cricket Association Stadium, Jamtha             3\n",
              "Wankhede Stadium                                        73\n",
              "Name: venue, dtype: int64"
            ]
          },
          "metadata": {
            "tags": []
          },
          "execution_count": 374
        }
      ]
    },
    {
      "cell_type": "code",
      "metadata": {
        "colab": {
          "base_uri": "https://localhost:8080/"
        },
        "id": "r2P9mVTwQK2Q",
        "outputId": "c4bac5d4-242a-4306-85fb-eef63efd7686"
      },
      "source": [
        "ipl_2['neutral_venue'].value_counts().sort_index()"
      ],
      "execution_count": 375,
      "outputs": [
        {
          "output_type": "execute_result",
          "data": {
            "text/plain": [
              "0    739\n",
              "1     77\n",
              "Name: neutral_venue, dtype: int64"
            ]
          },
          "metadata": {
            "tags": []
          },
          "execution_count": 375
        }
      ]
    },
    {
      "cell_type": "code",
      "metadata": {
        "colab": {
          "base_uri": "https://localhost:8080/"
        },
        "id": "g6g_ImW-Tsyq",
        "outputId": "d5ead54d-0577-4df3-a5d7-660be9372557"
      },
      "source": [
        "ipl_2['team1'].value_counts().sort_index()"
      ],
      "execution_count": 376,
      "outputs": [
        {
          "output_type": "execute_result",
          "data": {
            "text/plain": [
              "Chennai Super Kings             94\n",
              "Deccan Chargers                 39\n",
              "Delhi Capitals                  19\n",
              "Delhi Daredevils                83\n",
              "Gujarat Lions                   16\n",
              "Kings XI Punjab                 92\n",
              "Kochi Tuskers Kerala             7\n",
              "Kolkata Knight Riders           95\n",
              "Mumbai Indians                  97\n",
              "Pune Warriors                   23\n",
              "Rajasthan Royals                70\n",
              "Rising Pune Supergiant           7\n",
              "Rising Pune Supergiants          7\n",
              "Royal Challengers Bangalore    108\n",
              "Sunrisers Hyderabad             59\n",
              "Name: team1, dtype: int64"
            ]
          },
          "metadata": {
            "tags": []
          },
          "execution_count": 376
        }
      ]
    },
    {
      "cell_type": "code",
      "metadata": {
        "colab": {
          "base_uri": "https://localhost:8080/"
        },
        "id": "cY1j1c6Kl7aa",
        "outputId": "340c9bc9-b4dd-4275-9d2d-a519fd828a3a"
      },
      "source": [
        "ipl_2 = ipl_2.replace('Rising Pune Supergiants', 'Rising Pune Supergiant')\n",
        "ipl_2['team1'].value_counts().sort_index()"
      ],
      "execution_count": 377,
      "outputs": [
        {
          "output_type": "execute_result",
          "data": {
            "text/plain": [
              "Chennai Super Kings             94\n",
              "Deccan Chargers                 39\n",
              "Delhi Capitals                  19\n",
              "Delhi Daredevils                83\n",
              "Gujarat Lions                   16\n",
              "Kings XI Punjab                 92\n",
              "Kochi Tuskers Kerala             7\n",
              "Kolkata Knight Riders           95\n",
              "Mumbai Indians                  97\n",
              "Pune Warriors                   23\n",
              "Rajasthan Royals                70\n",
              "Rising Pune Supergiant          14\n",
              "Royal Challengers Bangalore    108\n",
              "Sunrisers Hyderabad             59\n",
              "Name: team1, dtype: int64"
            ]
          },
          "metadata": {
            "tags": []
          },
          "execution_count": 377
        }
      ]
    },
    {
      "cell_type": "code",
      "metadata": {
        "colab": {
          "base_uri": "https://localhost:8080/"
        },
        "id": "yFwuU1yKT2E-",
        "outputId": "9e91d954-6dac-454d-ce26-26a2cfaa8d6b"
      },
      "source": [
        "ipl_2['team2'].value_counts().sort_index()"
      ],
      "execution_count": 378,
      "outputs": [
        {
          "output_type": "execute_result",
          "data": {
            "text/plain": [
              "Chennai Super Kings             84\n",
              "Deccan Chargers                 36\n",
              "Delhi Capitals                  14\n",
              "Delhi Daredevils                78\n",
              "Gujarat Lions                   14\n",
              "Kings XI Punjab                 98\n",
              "Kochi Tuskers Kerala             7\n",
              "Kolkata Knight Riders           97\n",
              "Mumbai Indians                 106\n",
              "Pune Warriors                   23\n",
              "Rajasthan Royals                91\n",
              "Rising Pune Supergiant          16\n",
              "Royal Challengers Bangalore     87\n",
              "Sunrisers Hyderabad             65\n",
              "Name: team2, dtype: int64"
            ]
          },
          "metadata": {
            "tags": []
          },
          "execution_count": 378
        }
      ]
    },
    {
      "cell_type": "code",
      "metadata": {
        "colab": {
          "base_uri": "https://localhost:8080/"
        },
        "id": "JRt07uhBT7r3",
        "outputId": "1afe7a22-86bd-4a21-e00e-0034c7bf39aa"
      },
      "source": [
        "ipl_2['toss_winner'].value_counts().sort_index()"
      ],
      "execution_count": 379,
      "outputs": [
        {
          "output_type": "execute_result",
          "data": {
            "text/plain": [
              "Chennai Super Kings             97\n",
              "Deccan Chargers                 43\n",
              "Delhi Capitals                  20\n",
              "Delhi Daredevils                80\n",
              "Gujarat Lions                   15\n",
              "Kings XI Punjab                 85\n",
              "Kochi Tuskers Kerala             8\n",
              "Kolkata Knight Riders           98\n",
              "Mumbai Indians                 106\n",
              "Pune Warriors                   20\n",
              "Rajasthan Royals                87\n",
              "Rising Pune Supergiant          13\n",
              "Royal Challengers Bangalore     87\n",
              "Sunrisers Hyderabad             57\n",
              "Name: toss_winner, dtype: int64"
            ]
          },
          "metadata": {
            "tags": []
          },
          "execution_count": 379
        }
      ]
    },
    {
      "cell_type": "code",
      "metadata": {
        "colab": {
          "base_uri": "https://localhost:8080/"
        },
        "id": "fKvfLGiwUD-u",
        "outputId": "9f03a858-40e0-4249-8716-fb2685cf4ac8"
      },
      "source": [
        "ipl_2['toss_decision'].value_counts().sort_index()"
      ],
      "execution_count": 380,
      "outputs": [
        {
          "output_type": "execute_result",
          "data": {
            "text/plain": [
              "bat      320\n",
              "field    496\n",
              "Name: toss_decision, dtype: int64"
            ]
          },
          "metadata": {
            "tags": []
          },
          "execution_count": 380
        }
      ]
    },
    {
      "cell_type": "code",
      "metadata": {
        "colab": {
          "base_uri": "https://localhost:8080/"
        },
        "id": "zPNm6C5DU0GW",
        "outputId": "89eef7ea-b107-4ad9-e6ba-cf6738ed85a2"
      },
      "source": [
        "ipl_2['winner'].value_counts().sort_index()"
      ],
      "execution_count": 381,
      "outputs": [
        {
          "output_type": "execute_result",
          "data": {
            "text/plain": [
              "Chennai Super Kings            106\n",
              "Deccan Chargers                 29\n",
              "Delhi Capitals                  19\n",
              "Delhi Daredevils                67\n",
              "Gujarat Lions                   13\n",
              "Kings XI Punjab                 88\n",
              "Kochi Tuskers Kerala             6\n",
              "Kolkata Knight Riders           99\n",
              "Mumbai Indians                 120\n",
              "Pune Warriors                   12\n",
              "Rajasthan Royals                81\n",
              "Rising Pune Supergiant          15\n",
              "Royal Challengers Bangalore     91\n",
              "Sunrisers Hyderabad             66\n",
              "Name: winner, dtype: int64"
            ]
          },
          "metadata": {
            "tags": []
          },
          "execution_count": 381
        }
      ]
    },
    {
      "cell_type": "code",
      "metadata": {
        "colab": {
          "base_uri": "https://localhost:8080/"
        },
        "id": "x84xjFdeU4Fd",
        "outputId": "1847bb42-8378-4eb1-d655-af3fd28115bd"
      },
      "source": [
        "ipl_2['result'].value_counts().sort_index()"
      ],
      "execution_count": 382,
      "outputs": [
        {
          "output_type": "execute_result",
          "data": {
            "text/plain": [
              "runs       364\n",
              "tie         13\n",
              "wickets    435\n",
              "Name: result, dtype: int64"
            ]
          },
          "metadata": {
            "tags": []
          },
          "execution_count": 382
        }
      ]
    },
    {
      "cell_type": "code",
      "metadata": {
        "colab": {
          "base_uri": "https://localhost:8080/"
        },
        "id": "JB6gphFJU7u1",
        "outputId": "3dc8409f-793e-49b4-e0bb-5c5868944bc8"
      },
      "source": [
        "ipl_2['result_margin'].value_counts()"
      ],
      "execution_count": 383,
      "outputs": [
        {
          "output_type": "execute_result",
          "data": {
            "text/plain": [
              "6.0      95\n",
              "7.0      94\n",
              "5.0      85\n",
              "8.0      67\n",
              "4.0      53\n",
              "         ..\n",
              "76.0      1\n",
              "88.0      1\n",
              "67.0      1\n",
              "36.0      1\n",
              "140.0     1\n",
              "Name: result_margin, Length: 91, dtype: int64"
            ]
          },
          "metadata": {
            "tags": []
          },
          "execution_count": 383
        }
      ]
    },
    {
      "cell_type": "code",
      "metadata": {
        "colab": {
          "base_uri": "https://localhost:8080/"
        },
        "id": "s91xLv_TU8bv",
        "outputId": "e49706c7-a550-471b-e9aa-d0c9e227f172"
      },
      "source": [
        "ipl_2['eliminator'].value_counts()"
      ],
      "execution_count": 384,
      "outputs": [
        {
          "output_type": "execute_result",
          "data": {
            "text/plain": [
              "N    799\n",
              "Y     13\n",
              "Name: eliminator, dtype: int64"
            ]
          },
          "metadata": {
            "tags": []
          },
          "execution_count": 384
        }
      ]
    },
    {
      "cell_type": "code",
      "metadata": {
        "colab": {
          "base_uri": "https://localhost:8080/"
        },
        "id": "iIK6hLIJU9B9",
        "outputId": "33b688ea-4c76-4857-c7d0-7a098148023a"
      },
      "source": [
        "ipl_2['method'].value_counts()"
      ],
      "execution_count": 385,
      "outputs": [
        {
          "output_type": "execute_result",
          "data": {
            "text/plain": [
              "D/L    19\n",
              "Name: method, dtype: int64"
            ]
          },
          "metadata": {
            "tags": []
          },
          "execution_count": 385
        }
      ]
    },
    {
      "cell_type": "code",
      "metadata": {
        "colab": {
          "base_uri": "https://localhost:8080/"
        },
        "id": "e5AWH9OoVD9v",
        "outputId": "93f820be-9667-4405-d08f-1ac284ca3ce0"
      },
      "source": [
        "ipl_2['umpire1'].value_counts().sort_index()"
      ],
      "execution_count": 386,
      "outputs": [
        {
          "output_type": "execute_result",
          "data": {
            "text/plain": [
              "A Deshmukh                5\n",
              "A Nand Kishore           14\n",
              "AK Chaudhary             56\n",
              "AM Saheba                 3\n",
              "AV Jayaprakash            2\n",
              "AY Dandekar              28\n",
              "Aleem Dar                38\n",
              "Asad Rauf                51\n",
              "BF Bowden                37\n",
              "BG Jerling               13\n",
              "BNJ Oxenford             16\n",
              "BR Doctrove              34\n",
              "C Shamshuddin            22\n",
              "CB Gaffaney              34\n",
              "CK Nandan                 8\n",
              "DJ Harper                 9\n",
              "GAV Baxter                7\n",
              "HDPK Dharmasena          78\n",
              "IJ Gould                  3\n",
              "IL Howell                 7\n",
              "JD Cloete                16\n",
              "K Bharatan                3\n",
              "K Hariharan              10\n",
              "K Srinath                 2\n",
              "KN Ananthapadmanabhan    33\n",
              "M Erasmus                40\n",
              "MR Benson                10\n",
              "NJ Llong                 21\n",
              "Nitin Menon              20\n",
              "PG Pathak                 4\n",
              "PR Reiffel                5\n",
              "RE Koertzen              20\n",
              "RJ Tucker                 5\n",
              "RK Illingworth           13\n",
              "RM Deshpande              7\n",
              "S Asnani                 19\n",
              "S Das                    10\n",
              "S Ravi                   37\n",
              "SD Fry                    5\n",
              "SJ Davis                  6\n",
              "SJA Taufel                1\n",
              "SK Tarapore               5\n",
              "SL Shastri                1\n",
              "SS Hazare                11\n",
              "UV Gandhe                 8\n",
              "VA Kulkarni              19\n",
              "VK Sharma                 6\n",
              "YC Barde                 14\n",
              "Name: umpire1, dtype: int64"
            ]
          },
          "metadata": {
            "tags": []
          },
          "execution_count": 386
        }
      ]
    },
    {
      "cell_type": "code",
      "metadata": {
        "colab": {
          "base_uri": "https://localhost:8080/"
        },
        "id": "hpAs3IOvVDqT",
        "outputId": "5fccad63-59a0-4eb6-ab1c-5918f62346b3"
      },
      "source": [
        "ipl_2['umpire2'].value_counts().sort_index()"
      ],
      "execution_count": 387,
      "outputs": [
        {
          "output_type": "execute_result",
          "data": {
            "text/plain": [
              "A Deshmukh          7\n",
              "A Nand Kishore     11\n",
              "AK Chaudhary       31\n",
              "AL Hill             6\n",
              "AM Saheba          23\n",
              "AV Jayaprakash      4\n",
              "BG Jerling          4\n",
              "BNJ Oxenford       32\n",
              "BR Doctrove         8\n",
              "C Shamshuddin      60\n",
              "CB Gaffaney        13\n",
              "CK Nandan          49\n",
              "DJ Harper          18\n",
              "GA Pratapkumar      6\n",
              "HDPK Dharmasena    16\n",
              "I Shivram           6\n",
              "IJ Gould            3\n",
              "IL Howell           7\n",
              "JD Cloete           1\n",
              "K Hariharan        11\n",
              "K Srinath          13\n",
              "K Srinivasan        6\n",
              "M Erasmus          25\n",
              "MR Benson           2\n",
              "NJ Llong           16\n",
              "Nitin Menon        37\n",
              "PG Pathak           7\n",
              "PR Reiffel         19\n",
              "RB Tiffin          30\n",
              "RE Koertzen        21\n",
              "RJ Tucker          41\n",
              "RK Illingworth     18\n",
              "S Asnani           11\n",
              "S Das               5\n",
              "S Ravi             84\n",
              "SD Fry              1\n",
              "SD Ranade           2\n",
              "SJ Davis            1\n",
              "SJA Taufel         54\n",
              "SK Tarapore        26\n",
              "SL Shastri         13\n",
              "SS Hazare           6\n",
              "Subroto Das         1\n",
              "TH Wijewardene      5\n",
              "VA Kulkarni        31\n",
              "VK Sharma          20\n",
              "YC Barde            5\n",
              "Name: umpire2, dtype: int64"
            ]
          },
          "metadata": {
            "tags": []
          },
          "execution_count": 387
        }
      ]
    },
    {
      "cell_type": "code",
      "metadata": {
        "colab": {
          "base_uri": "https://localhost:8080/"
        },
        "id": "Rq0I3kyHTwxU",
        "outputId": "56421049-f55c-4bc1-dd23-e847260c38ac"
      },
      "source": [
        "ipl_2 = ipl_2.drop_duplicates(keep = 'first')\n",
        "ipl_2.info()"
      ],
      "execution_count": 388,
      "outputs": [
        {
          "output_type": "stream",
          "text": [
            "<class 'pandas.core.frame.DataFrame'>\n",
            "Int64Index: 816 entries, 0 to 815\n",
            "Data columns (total 17 columns):\n",
            " #   Column           Non-Null Count  Dtype  \n",
            "---  ------           --------------  -----  \n",
            " 0   id               816 non-null    int64  \n",
            " 1   city             803 non-null    object \n",
            " 2   date             816 non-null    object \n",
            " 3   player_of_match  812 non-null    object \n",
            " 4   venue            816 non-null    object \n",
            " 5   neutral_venue    816 non-null    int64  \n",
            " 6   team1            816 non-null    object \n",
            " 7   team2            816 non-null    object \n",
            " 8   toss_winner      816 non-null    object \n",
            " 9   toss_decision    816 non-null    object \n",
            " 10  winner           812 non-null    object \n",
            " 11  result           812 non-null    object \n",
            " 12  result_margin    799 non-null    float64\n",
            " 13  eliminator       812 non-null    object \n",
            " 14  method           19 non-null     object \n",
            " 15  umpire1          816 non-null    object \n",
            " 16  umpire2          816 non-null    object \n",
            "dtypes: float64(1), int64(2), object(14)\n",
            "memory usage: 114.8+ KB\n"
          ],
          "name": "stdout"
        }
      ]
    },
    {
      "cell_type": "code",
      "metadata": {
        "colab": {
          "base_uri": "https://localhost:8080/"
        },
        "id": "uQA0QmbloMZv",
        "outputId": "78e8893c-1693-4e1a-8f04-37456729e78c"
      },
      "source": [
        "ipl_3 = ipl_2\n",
        "ipl_3 = ipl_3.drop(['id'], axis = 1)\n",
        "ipl_3 = ipl_3.drop(['player_of_match'], axis = 1)\n",
        "ipl_3 = ipl_3.drop(['result'], axis = 1)\n",
        "ipl_3 = ipl_3.drop(['result_margin'], axis = 1)\n",
        "ipl_3 = ipl_3.drop(['method'], axis = 1)\n",
        "ipl_3.info()"
      ],
      "execution_count": 389,
      "outputs": [
        {
          "output_type": "stream",
          "text": [
            "<class 'pandas.core.frame.DataFrame'>\n",
            "Int64Index: 816 entries, 0 to 815\n",
            "Data columns (total 12 columns):\n",
            " #   Column         Non-Null Count  Dtype \n",
            "---  ------         --------------  ----- \n",
            " 0   city           803 non-null    object\n",
            " 1   date           816 non-null    object\n",
            " 2   venue          816 non-null    object\n",
            " 3   neutral_venue  816 non-null    int64 \n",
            " 4   team1          816 non-null    object\n",
            " 5   team2          816 non-null    object\n",
            " 6   toss_winner    816 non-null    object\n",
            " 7   toss_decision  816 non-null    object\n",
            " 8   winner         812 non-null    object\n",
            " 9   eliminator     812 non-null    object\n",
            " 10  umpire1        816 non-null    object\n",
            " 11  umpire2        816 non-null    object\n",
            "dtypes: int64(1), object(11)\n",
            "memory usage: 82.9+ KB\n"
          ],
          "name": "stdout"
        }
      ]
    },
    {
      "cell_type": "code",
      "metadata": {
        "colab": {
          "base_uri": "https://localhost:8080/"
        },
        "id": "IRKG0lGlt6Ug",
        "outputId": "def7a50c-e02e-426b-9e1b-fdb643841e1d"
      },
      "source": [
        "ipl_3['winner'].fillna('Tie', inplace=True)\n",
        "ipl_3.info()"
      ],
      "execution_count": 390,
      "outputs": [
        {
          "output_type": "stream",
          "text": [
            "<class 'pandas.core.frame.DataFrame'>\n",
            "Int64Index: 816 entries, 0 to 815\n",
            "Data columns (total 12 columns):\n",
            " #   Column         Non-Null Count  Dtype \n",
            "---  ------         --------------  ----- \n",
            " 0   city           803 non-null    object\n",
            " 1   date           816 non-null    object\n",
            " 2   venue          816 non-null    object\n",
            " 3   neutral_venue  816 non-null    int64 \n",
            " 4   team1          816 non-null    object\n",
            " 5   team2          816 non-null    object\n",
            " 6   toss_winner    816 non-null    object\n",
            " 7   toss_decision  816 non-null    object\n",
            " 8   winner         816 non-null    object\n",
            " 9   eliminator     812 non-null    object\n",
            " 10  umpire1        816 non-null    object\n",
            " 11  umpire2        816 non-null    object\n",
            "dtypes: int64(1), object(11)\n",
            "memory usage: 82.9+ KB\n"
          ],
          "name": "stdout"
        }
      ]
    },
    {
      "cell_type": "code",
      "metadata": {
        "colab": {
          "base_uri": "https://localhost:8080/",
          "height": 292
        },
        "id": "UyjDNxNfyjYh",
        "outputId": "58558051-2e78-49ae-80b6-1b85e9729cd6"
      },
      "source": [
        "ipl_3[ipl_3['eliminator'].isnull() == True]"
      ],
      "execution_count": 391,
      "outputs": [
        {
          "output_type": "execute_result",
          "data": {
            "text/html": [
              "<div>\n",
              "<style scoped>\n",
              "    .dataframe tbody tr th:only-of-type {\n",
              "        vertical-align: middle;\n",
              "    }\n",
              "\n",
              "    .dataframe tbody tr th {\n",
              "        vertical-align: top;\n",
              "    }\n",
              "\n",
              "    .dataframe thead th {\n",
              "        text-align: right;\n",
              "    }\n",
              "</style>\n",
              "<table border=\"1\" class=\"dataframe\">\n",
              "  <thead>\n",
              "    <tr style=\"text-align: right;\">\n",
              "      <th></th>\n",
              "      <th>city</th>\n",
              "      <th>date</th>\n",
              "      <th>venue</th>\n",
              "      <th>neutral_venue</th>\n",
              "      <th>team1</th>\n",
              "      <th>team2</th>\n",
              "      <th>toss_winner</th>\n",
              "      <th>toss_decision</th>\n",
              "      <th>winner</th>\n",
              "      <th>eliminator</th>\n",
              "      <th>umpire1</th>\n",
              "      <th>umpire2</th>\n",
              "    </tr>\n",
              "  </thead>\n",
              "  <tbody>\n",
              "    <tr>\n",
              "      <th>241</th>\n",
              "      <td>Delhi</td>\n",
              "      <td>2011-05-21</td>\n",
              "      <td>Feroz Shah Kotla</td>\n",
              "      <td>0</td>\n",
              "      <td>Delhi Daredevils</td>\n",
              "      <td>Pune Warriors</td>\n",
              "      <td>Delhi Daredevils</td>\n",
              "      <td>bat</td>\n",
              "      <td>Tie</td>\n",
              "      <td>NaN</td>\n",
              "      <td>SS Hazare</td>\n",
              "      <td>RJ Tucker</td>\n",
              "    </tr>\n",
              "    <tr>\n",
              "      <th>486</th>\n",
              "      <td>Bangalore</td>\n",
              "      <td>2015-04-29</td>\n",
              "      <td>M. Chinnaswamy Stadium</td>\n",
              "      <td>0</td>\n",
              "      <td>Royal Challengers Bangalore</td>\n",
              "      <td>Rajasthan Royals</td>\n",
              "      <td>Rajasthan Royals</td>\n",
              "      <td>field</td>\n",
              "      <td>Tie</td>\n",
              "      <td>NaN</td>\n",
              "      <td>JD Cloete</td>\n",
              "      <td>PG Pathak</td>\n",
              "    </tr>\n",
              "    <tr>\n",
              "      <th>511</th>\n",
              "      <td>Bangalore</td>\n",
              "      <td>2015-05-17</td>\n",
              "      <td>M. Chinnaswamy Stadium</td>\n",
              "      <td>0</td>\n",
              "      <td>Royal Challengers Bangalore</td>\n",
              "      <td>Delhi Daredevils</td>\n",
              "      <td>Royal Challengers Bangalore</td>\n",
              "      <td>field</td>\n",
              "      <td>Tie</td>\n",
              "      <td>NaN</td>\n",
              "      <td>HDPK Dharmasena</td>\n",
              "      <td>K Srinivasan</td>\n",
              "    </tr>\n",
              "    <tr>\n",
              "      <th>744</th>\n",
              "      <td>Bangalore</td>\n",
              "      <td>2019-04-30</td>\n",
              "      <td>M. Chinnaswamy Stadium</td>\n",
              "      <td>0</td>\n",
              "      <td>Royal Challengers Bangalore</td>\n",
              "      <td>Rajasthan Royals</td>\n",
              "      <td>Rajasthan Royals</td>\n",
              "      <td>field</td>\n",
              "      <td>Tie</td>\n",
              "      <td>NaN</td>\n",
              "      <td>UV Gandhe</td>\n",
              "      <td>NJ Llong</td>\n",
              "    </tr>\n",
              "  </tbody>\n",
              "</table>\n",
              "</div>"
            ],
            "text/plain": [
              "          city        date  ...          umpire1       umpire2\n",
              "241      Delhi  2011-05-21  ...        SS Hazare     RJ Tucker\n",
              "486  Bangalore  2015-04-29  ...        JD Cloete     PG Pathak\n",
              "511  Bangalore  2015-05-17  ...  HDPK Dharmasena  K Srinivasan\n",
              "744  Bangalore  2019-04-30  ...        UV Gandhe      NJ Llong\n",
              "\n",
              "[4 rows x 12 columns]"
            ]
          },
          "metadata": {
            "tags": []
          },
          "execution_count": 391
        }
      ]
    },
    {
      "cell_type": "code",
      "metadata": {
        "colab": {
          "base_uri": "https://localhost:8080/"
        },
        "id": "uWykrchF0ZEP",
        "outputId": "6358f2cb-caef-44b7-f4bc-11eea2a869fe"
      },
      "source": [
        "ipl_3['eliminator'].fillna('N', inplace=True)\n",
        "ipl_3.info()"
      ],
      "execution_count": 392,
      "outputs": [
        {
          "output_type": "stream",
          "text": [
            "<class 'pandas.core.frame.DataFrame'>\n",
            "Int64Index: 816 entries, 0 to 815\n",
            "Data columns (total 12 columns):\n",
            " #   Column         Non-Null Count  Dtype \n",
            "---  ------         --------------  ----- \n",
            " 0   city           803 non-null    object\n",
            " 1   date           816 non-null    object\n",
            " 2   venue          816 non-null    object\n",
            " 3   neutral_venue  816 non-null    int64 \n",
            " 4   team1          816 non-null    object\n",
            " 5   team2          816 non-null    object\n",
            " 6   toss_winner    816 non-null    object\n",
            " 7   toss_decision  816 non-null    object\n",
            " 8   winner         816 non-null    object\n",
            " 9   eliminator     816 non-null    object\n",
            " 10  umpire1        816 non-null    object\n",
            " 11  umpire2        816 non-null    object\n",
            "dtypes: int64(1), object(11)\n",
            "memory usage: 82.9+ KB\n"
          ],
          "name": "stdout"
        }
      ]
    },
    {
      "cell_type": "code",
      "metadata": {
        "colab": {
          "base_uri": "https://localhost:8080/",
          "height": 826
        },
        "id": "LMJlyQJE2Fvx",
        "outputId": "9b53ae43-2d7e-4d90-c82c-e59e52901826"
      },
      "source": [
        "ipl_3[ipl_3['city'].isnull() == True]"
      ],
      "execution_count": 393,
      "outputs": [
        {
          "output_type": "execute_result",
          "data": {
            "text/html": [
              "<div>\n",
              "<style scoped>\n",
              "    .dataframe tbody tr th:only-of-type {\n",
              "        vertical-align: middle;\n",
              "    }\n",
              "\n",
              "    .dataframe tbody tr th {\n",
              "        vertical-align: top;\n",
              "    }\n",
              "\n",
              "    .dataframe thead th {\n",
              "        text-align: right;\n",
              "    }\n",
              "</style>\n",
              "<table border=\"1\" class=\"dataframe\">\n",
              "  <thead>\n",
              "    <tr style=\"text-align: right;\">\n",
              "      <th></th>\n",
              "      <th>city</th>\n",
              "      <th>date</th>\n",
              "      <th>venue</th>\n",
              "      <th>neutral_venue</th>\n",
              "      <th>team1</th>\n",
              "      <th>team2</th>\n",
              "      <th>toss_winner</th>\n",
              "      <th>toss_decision</th>\n",
              "      <th>winner</th>\n",
              "      <th>eliminator</th>\n",
              "      <th>umpire1</th>\n",
              "      <th>umpire2</th>\n",
              "    </tr>\n",
              "  </thead>\n",
              "  <tbody>\n",
              "    <tr>\n",
              "      <th>399</th>\n",
              "      <td>NaN</td>\n",
              "      <td>2014-04-17</td>\n",
              "      <td>Sharjah Cricket Stadium</td>\n",
              "      <td>1</td>\n",
              "      <td>Delhi Daredevils</td>\n",
              "      <td>Royal Challengers Bangalore</td>\n",
              "      <td>Royal Challengers Bangalore</td>\n",
              "      <td>field</td>\n",
              "      <td>Royal Challengers Bangalore</td>\n",
              "      <td>N</td>\n",
              "      <td>Aleem Dar</td>\n",
              "      <td>S Ravi</td>\n",
              "    </tr>\n",
              "    <tr>\n",
              "      <th>402</th>\n",
              "      <td>NaN</td>\n",
              "      <td>2014-04-19</td>\n",
              "      <td>Dubai International Cricket Stadium</td>\n",
              "      <td>1</td>\n",
              "      <td>Royal Challengers Bangalore</td>\n",
              "      <td>Mumbai Indians</td>\n",
              "      <td>Royal Challengers Bangalore</td>\n",
              "      <td>field</td>\n",
              "      <td>Royal Challengers Bangalore</td>\n",
              "      <td>N</td>\n",
              "      <td>Aleem Dar</td>\n",
              "      <td>AK Chaudhary</td>\n",
              "    </tr>\n",
              "    <tr>\n",
              "      <th>403</th>\n",
              "      <td>NaN</td>\n",
              "      <td>2014-04-19</td>\n",
              "      <td>Dubai International Cricket Stadium</td>\n",
              "      <td>1</td>\n",
              "      <td>Kolkata Knight Riders</td>\n",
              "      <td>Delhi Daredevils</td>\n",
              "      <td>Kolkata Knight Riders</td>\n",
              "      <td>bat</td>\n",
              "      <td>Delhi Daredevils</td>\n",
              "      <td>N</td>\n",
              "      <td>Aleem Dar</td>\n",
              "      <td>VA Kulkarni</td>\n",
              "    </tr>\n",
              "    <tr>\n",
              "      <th>404</th>\n",
              "      <td>NaN</td>\n",
              "      <td>2014-04-20</td>\n",
              "      <td>Sharjah Cricket Stadium</td>\n",
              "      <td>1</td>\n",
              "      <td>Rajasthan Royals</td>\n",
              "      <td>Kings XI Punjab</td>\n",
              "      <td>Kings XI Punjab</td>\n",
              "      <td>field</td>\n",
              "      <td>Kings XI Punjab</td>\n",
              "      <td>N</td>\n",
              "      <td>BF Bowden</td>\n",
              "      <td>M Erasmus</td>\n",
              "    </tr>\n",
              "    <tr>\n",
              "      <th>406</th>\n",
              "      <td>NaN</td>\n",
              "      <td>2014-04-22</td>\n",
              "      <td>Sharjah Cricket Stadium</td>\n",
              "      <td>1</td>\n",
              "      <td>Kings XI Punjab</td>\n",
              "      <td>Sunrisers Hyderabad</td>\n",
              "      <td>Sunrisers Hyderabad</td>\n",
              "      <td>field</td>\n",
              "      <td>Kings XI Punjab</td>\n",
              "      <td>N</td>\n",
              "      <td>M Erasmus</td>\n",
              "      <td>S Ravi</td>\n",
              "    </tr>\n",
              "    <tr>\n",
              "      <th>407</th>\n",
              "      <td>NaN</td>\n",
              "      <td>2014-04-23</td>\n",
              "      <td>Dubai International Cricket Stadium</td>\n",
              "      <td>1</td>\n",
              "      <td>Rajasthan Royals</td>\n",
              "      <td>Chennai Super Kings</td>\n",
              "      <td>Rajasthan Royals</td>\n",
              "      <td>field</td>\n",
              "      <td>Chennai Super Kings</td>\n",
              "      <td>N</td>\n",
              "      <td>HDPK Dharmasena</td>\n",
              "      <td>RK Illingworth</td>\n",
              "    </tr>\n",
              "    <tr>\n",
              "      <th>408</th>\n",
              "      <td>NaN</td>\n",
              "      <td>2014-04-24</td>\n",
              "      <td>Sharjah Cricket Stadium</td>\n",
              "      <td>1</td>\n",
              "      <td>Royal Challengers Bangalore</td>\n",
              "      <td>Kolkata Knight Riders</td>\n",
              "      <td>Royal Challengers Bangalore</td>\n",
              "      <td>field</td>\n",
              "      <td>Kolkata Knight Riders</td>\n",
              "      <td>N</td>\n",
              "      <td>Aleem Dar</td>\n",
              "      <td>VA Kulkarni</td>\n",
              "    </tr>\n",
              "    <tr>\n",
              "      <th>409</th>\n",
              "      <td>NaN</td>\n",
              "      <td>2014-04-25</td>\n",
              "      <td>Dubai International Cricket Stadium</td>\n",
              "      <td>1</td>\n",
              "      <td>Sunrisers Hyderabad</td>\n",
              "      <td>Delhi Daredevils</td>\n",
              "      <td>Sunrisers Hyderabad</td>\n",
              "      <td>bat</td>\n",
              "      <td>Sunrisers Hyderabad</td>\n",
              "      <td>N</td>\n",
              "      <td>M Erasmus</td>\n",
              "      <td>S Ravi</td>\n",
              "    </tr>\n",
              "    <tr>\n",
              "      <th>410</th>\n",
              "      <td>NaN</td>\n",
              "      <td>2014-04-25</td>\n",
              "      <td>Dubai International Cricket Stadium</td>\n",
              "      <td>1</td>\n",
              "      <td>Chennai Super Kings</td>\n",
              "      <td>Mumbai Indians</td>\n",
              "      <td>Mumbai Indians</td>\n",
              "      <td>bat</td>\n",
              "      <td>Chennai Super Kings</td>\n",
              "      <td>N</td>\n",
              "      <td>BF Bowden</td>\n",
              "      <td>M Erasmus</td>\n",
              "    </tr>\n",
              "    <tr>\n",
              "      <th>413</th>\n",
              "      <td>NaN</td>\n",
              "      <td>2014-04-27</td>\n",
              "      <td>Sharjah Cricket Stadium</td>\n",
              "      <td>1</td>\n",
              "      <td>Delhi Daredevils</td>\n",
              "      <td>Mumbai Indians</td>\n",
              "      <td>Mumbai Indians</td>\n",
              "      <td>bat</td>\n",
              "      <td>Delhi Daredevils</td>\n",
              "      <td>N</td>\n",
              "      <td>Aleem Dar</td>\n",
              "      <td>VA Kulkarni</td>\n",
              "    </tr>\n",
              "    <tr>\n",
              "      <th>414</th>\n",
              "      <td>NaN</td>\n",
              "      <td>2014-04-27</td>\n",
              "      <td>Sharjah Cricket Stadium</td>\n",
              "      <td>1</td>\n",
              "      <td>Sunrisers Hyderabad</td>\n",
              "      <td>Chennai Super Kings</td>\n",
              "      <td>Sunrisers Hyderabad</td>\n",
              "      <td>bat</td>\n",
              "      <td>Chennai Super Kings</td>\n",
              "      <td>N</td>\n",
              "      <td>AK Chaudhary</td>\n",
              "      <td>VA Kulkarni</td>\n",
              "    </tr>\n",
              "    <tr>\n",
              "      <th>415</th>\n",
              "      <td>NaN</td>\n",
              "      <td>2014-04-28</td>\n",
              "      <td>Dubai International Cricket Stadium</td>\n",
              "      <td>1</td>\n",
              "      <td>Kings XI Punjab</td>\n",
              "      <td>Royal Challengers Bangalore</td>\n",
              "      <td>Kings XI Punjab</td>\n",
              "      <td>field</td>\n",
              "      <td>Kings XI Punjab</td>\n",
              "      <td>N</td>\n",
              "      <td>BF Bowden</td>\n",
              "      <td>S Ravi</td>\n",
              "    </tr>\n",
              "    <tr>\n",
              "      <th>417</th>\n",
              "      <td>NaN</td>\n",
              "      <td>2014-04-30</td>\n",
              "      <td>Dubai International Cricket Stadium</td>\n",
              "      <td>1</td>\n",
              "      <td>Mumbai Indians</td>\n",
              "      <td>Sunrisers Hyderabad</td>\n",
              "      <td>Mumbai Indians</td>\n",
              "      <td>field</td>\n",
              "      <td>Sunrisers Hyderabad</td>\n",
              "      <td>N</td>\n",
              "      <td>HDPK Dharmasena</td>\n",
              "      <td>M Erasmus</td>\n",
              "    </tr>\n",
              "  </tbody>\n",
              "</table>\n",
              "</div>"
            ],
            "text/plain": [
              "    city        date  ...          umpire1         umpire2\n",
              "399  NaN  2014-04-17  ...        Aleem Dar          S Ravi\n",
              "402  NaN  2014-04-19  ...        Aleem Dar    AK Chaudhary\n",
              "403  NaN  2014-04-19  ...        Aleem Dar     VA Kulkarni\n",
              "404  NaN  2014-04-20  ...        BF Bowden       M Erasmus\n",
              "406  NaN  2014-04-22  ...        M Erasmus          S Ravi\n",
              "407  NaN  2014-04-23  ...  HDPK Dharmasena  RK Illingworth\n",
              "408  NaN  2014-04-24  ...        Aleem Dar     VA Kulkarni\n",
              "409  NaN  2014-04-25  ...        M Erasmus          S Ravi\n",
              "410  NaN  2014-04-25  ...        BF Bowden       M Erasmus\n",
              "413  NaN  2014-04-27  ...        Aleem Dar     VA Kulkarni\n",
              "414  NaN  2014-04-27  ...     AK Chaudhary     VA Kulkarni\n",
              "415  NaN  2014-04-28  ...        BF Bowden          S Ravi\n",
              "417  NaN  2014-04-30  ...  HDPK Dharmasena       M Erasmus\n",
              "\n",
              "[13 rows x 12 columns]"
            ]
          },
          "metadata": {
            "tags": []
          },
          "execution_count": 393
        }
      ]
    },
    {
      "cell_type": "code",
      "metadata": {
        "colab": {
          "base_uri": "https://localhost:8080/",
          "height": 439
        },
        "id": "p1egC6DO5V4x",
        "outputId": "ab687422-3032-4bd8-a311-6eeb020bcda4"
      },
      "source": [
        "ipl_3[(ipl_3['city'].isnull() == True) & (ipl_3['venue'] == 'Sharjah Cricket Stadium')]"
      ],
      "execution_count": 394,
      "outputs": [
        {
          "output_type": "execute_result",
          "data": {
            "text/html": [
              "<div>\n",
              "<style scoped>\n",
              "    .dataframe tbody tr th:only-of-type {\n",
              "        vertical-align: middle;\n",
              "    }\n",
              "\n",
              "    .dataframe tbody tr th {\n",
              "        vertical-align: top;\n",
              "    }\n",
              "\n",
              "    .dataframe thead th {\n",
              "        text-align: right;\n",
              "    }\n",
              "</style>\n",
              "<table border=\"1\" class=\"dataframe\">\n",
              "  <thead>\n",
              "    <tr style=\"text-align: right;\">\n",
              "      <th></th>\n",
              "      <th>city</th>\n",
              "      <th>date</th>\n",
              "      <th>venue</th>\n",
              "      <th>neutral_venue</th>\n",
              "      <th>team1</th>\n",
              "      <th>team2</th>\n",
              "      <th>toss_winner</th>\n",
              "      <th>toss_decision</th>\n",
              "      <th>winner</th>\n",
              "      <th>eliminator</th>\n",
              "      <th>umpire1</th>\n",
              "      <th>umpire2</th>\n",
              "    </tr>\n",
              "  </thead>\n",
              "  <tbody>\n",
              "    <tr>\n",
              "      <th>399</th>\n",
              "      <td>NaN</td>\n",
              "      <td>2014-04-17</td>\n",
              "      <td>Sharjah Cricket Stadium</td>\n",
              "      <td>1</td>\n",
              "      <td>Delhi Daredevils</td>\n",
              "      <td>Royal Challengers Bangalore</td>\n",
              "      <td>Royal Challengers Bangalore</td>\n",
              "      <td>field</td>\n",
              "      <td>Royal Challengers Bangalore</td>\n",
              "      <td>N</td>\n",
              "      <td>Aleem Dar</td>\n",
              "      <td>S Ravi</td>\n",
              "    </tr>\n",
              "    <tr>\n",
              "      <th>404</th>\n",
              "      <td>NaN</td>\n",
              "      <td>2014-04-20</td>\n",
              "      <td>Sharjah Cricket Stadium</td>\n",
              "      <td>1</td>\n",
              "      <td>Rajasthan Royals</td>\n",
              "      <td>Kings XI Punjab</td>\n",
              "      <td>Kings XI Punjab</td>\n",
              "      <td>field</td>\n",
              "      <td>Kings XI Punjab</td>\n",
              "      <td>N</td>\n",
              "      <td>BF Bowden</td>\n",
              "      <td>M Erasmus</td>\n",
              "    </tr>\n",
              "    <tr>\n",
              "      <th>406</th>\n",
              "      <td>NaN</td>\n",
              "      <td>2014-04-22</td>\n",
              "      <td>Sharjah Cricket Stadium</td>\n",
              "      <td>1</td>\n",
              "      <td>Kings XI Punjab</td>\n",
              "      <td>Sunrisers Hyderabad</td>\n",
              "      <td>Sunrisers Hyderabad</td>\n",
              "      <td>field</td>\n",
              "      <td>Kings XI Punjab</td>\n",
              "      <td>N</td>\n",
              "      <td>M Erasmus</td>\n",
              "      <td>S Ravi</td>\n",
              "    </tr>\n",
              "    <tr>\n",
              "      <th>408</th>\n",
              "      <td>NaN</td>\n",
              "      <td>2014-04-24</td>\n",
              "      <td>Sharjah Cricket Stadium</td>\n",
              "      <td>1</td>\n",
              "      <td>Royal Challengers Bangalore</td>\n",
              "      <td>Kolkata Knight Riders</td>\n",
              "      <td>Royal Challengers Bangalore</td>\n",
              "      <td>field</td>\n",
              "      <td>Kolkata Knight Riders</td>\n",
              "      <td>N</td>\n",
              "      <td>Aleem Dar</td>\n",
              "      <td>VA Kulkarni</td>\n",
              "    </tr>\n",
              "    <tr>\n",
              "      <th>413</th>\n",
              "      <td>NaN</td>\n",
              "      <td>2014-04-27</td>\n",
              "      <td>Sharjah Cricket Stadium</td>\n",
              "      <td>1</td>\n",
              "      <td>Delhi Daredevils</td>\n",
              "      <td>Mumbai Indians</td>\n",
              "      <td>Mumbai Indians</td>\n",
              "      <td>bat</td>\n",
              "      <td>Delhi Daredevils</td>\n",
              "      <td>N</td>\n",
              "      <td>Aleem Dar</td>\n",
              "      <td>VA Kulkarni</td>\n",
              "    </tr>\n",
              "    <tr>\n",
              "      <th>414</th>\n",
              "      <td>NaN</td>\n",
              "      <td>2014-04-27</td>\n",
              "      <td>Sharjah Cricket Stadium</td>\n",
              "      <td>1</td>\n",
              "      <td>Sunrisers Hyderabad</td>\n",
              "      <td>Chennai Super Kings</td>\n",
              "      <td>Sunrisers Hyderabad</td>\n",
              "      <td>bat</td>\n",
              "      <td>Chennai Super Kings</td>\n",
              "      <td>N</td>\n",
              "      <td>AK Chaudhary</td>\n",
              "      <td>VA Kulkarni</td>\n",
              "    </tr>\n",
              "  </tbody>\n",
              "</table>\n",
              "</div>"
            ],
            "text/plain": [
              "    city        date  ...       umpire1      umpire2\n",
              "399  NaN  2014-04-17  ...     Aleem Dar       S Ravi\n",
              "404  NaN  2014-04-20  ...     BF Bowden    M Erasmus\n",
              "406  NaN  2014-04-22  ...     M Erasmus       S Ravi\n",
              "408  NaN  2014-04-24  ...     Aleem Dar  VA Kulkarni\n",
              "413  NaN  2014-04-27  ...     Aleem Dar  VA Kulkarni\n",
              "414  NaN  2014-04-27  ...  AK Chaudhary  VA Kulkarni\n",
              "\n",
              "[6 rows x 12 columns]"
            ]
          },
          "metadata": {
            "tags": []
          },
          "execution_count": 394
        }
      ]
    },
    {
      "cell_type": "code",
      "metadata": {
        "colab": {
          "base_uri": "https://localhost:8080/",
          "height": 114
        },
        "id": "PIJ9GI01Rfjg",
        "outputId": "8d06f91e-86de-4d22-a273-5cf42ff41e8b"
      },
      "source": [
        "ipl_3['city'] = np.where((ipl_3['city'].isnull() == True) & (ipl_3['venue'] == 'Sharjah Cricket Stadium'), 'Sharjah', ipl_3['city'])\n",
        "ipl_3[ipl_3.index == 399]"
      ],
      "execution_count": 395,
      "outputs": [
        {
          "output_type": "execute_result",
          "data": {
            "text/html": [
              "<div>\n",
              "<style scoped>\n",
              "    .dataframe tbody tr th:only-of-type {\n",
              "        vertical-align: middle;\n",
              "    }\n",
              "\n",
              "    .dataframe tbody tr th {\n",
              "        vertical-align: top;\n",
              "    }\n",
              "\n",
              "    .dataframe thead th {\n",
              "        text-align: right;\n",
              "    }\n",
              "</style>\n",
              "<table border=\"1\" class=\"dataframe\">\n",
              "  <thead>\n",
              "    <tr style=\"text-align: right;\">\n",
              "      <th></th>\n",
              "      <th>city</th>\n",
              "      <th>date</th>\n",
              "      <th>venue</th>\n",
              "      <th>neutral_venue</th>\n",
              "      <th>team1</th>\n",
              "      <th>team2</th>\n",
              "      <th>toss_winner</th>\n",
              "      <th>toss_decision</th>\n",
              "      <th>winner</th>\n",
              "      <th>eliminator</th>\n",
              "      <th>umpire1</th>\n",
              "      <th>umpire2</th>\n",
              "    </tr>\n",
              "  </thead>\n",
              "  <tbody>\n",
              "    <tr>\n",
              "      <th>399</th>\n",
              "      <td>Sharjah</td>\n",
              "      <td>2014-04-17</td>\n",
              "      <td>Sharjah Cricket Stadium</td>\n",
              "      <td>1</td>\n",
              "      <td>Delhi Daredevils</td>\n",
              "      <td>Royal Challengers Bangalore</td>\n",
              "      <td>Royal Challengers Bangalore</td>\n",
              "      <td>field</td>\n",
              "      <td>Royal Challengers Bangalore</td>\n",
              "      <td>N</td>\n",
              "      <td>Aleem Dar</td>\n",
              "      <td>S Ravi</td>\n",
              "    </tr>\n",
              "  </tbody>\n",
              "</table>\n",
              "</div>"
            ],
            "text/plain": [
              "        city        date                    venue  ...  eliminator    umpire1 umpire2\n",
              "399  Sharjah  2014-04-17  Sharjah Cricket Stadium  ...           N  Aleem Dar  S Ravi\n",
              "\n",
              "[1 rows x 12 columns]"
            ]
          },
          "metadata": {
            "tags": []
          },
          "execution_count": 395
        }
      ]
    },
    {
      "cell_type": "code",
      "metadata": {
        "colab": {
          "base_uri": "https://localhost:8080/",
          "height": 504
        },
        "id": "33didd4e6xcY",
        "outputId": "9ffbc7d7-c6af-4b3f-e074-d75ee9e2f88b"
      },
      "source": [
        "ipl_3[(ipl_3['city'].isnull() == True) & (ipl_3['venue'] == 'Dubai International Cricket Stadium')]"
      ],
      "execution_count": 396,
      "outputs": [
        {
          "output_type": "execute_result",
          "data": {
            "text/html": [
              "<div>\n",
              "<style scoped>\n",
              "    .dataframe tbody tr th:only-of-type {\n",
              "        vertical-align: middle;\n",
              "    }\n",
              "\n",
              "    .dataframe tbody tr th {\n",
              "        vertical-align: top;\n",
              "    }\n",
              "\n",
              "    .dataframe thead th {\n",
              "        text-align: right;\n",
              "    }\n",
              "</style>\n",
              "<table border=\"1\" class=\"dataframe\">\n",
              "  <thead>\n",
              "    <tr style=\"text-align: right;\">\n",
              "      <th></th>\n",
              "      <th>city</th>\n",
              "      <th>date</th>\n",
              "      <th>venue</th>\n",
              "      <th>neutral_venue</th>\n",
              "      <th>team1</th>\n",
              "      <th>team2</th>\n",
              "      <th>toss_winner</th>\n",
              "      <th>toss_decision</th>\n",
              "      <th>winner</th>\n",
              "      <th>eliminator</th>\n",
              "      <th>umpire1</th>\n",
              "      <th>umpire2</th>\n",
              "    </tr>\n",
              "  </thead>\n",
              "  <tbody>\n",
              "    <tr>\n",
              "      <th>402</th>\n",
              "      <td>NaN</td>\n",
              "      <td>2014-04-19</td>\n",
              "      <td>Dubai International Cricket Stadium</td>\n",
              "      <td>1</td>\n",
              "      <td>Royal Challengers Bangalore</td>\n",
              "      <td>Mumbai Indians</td>\n",
              "      <td>Royal Challengers Bangalore</td>\n",
              "      <td>field</td>\n",
              "      <td>Royal Challengers Bangalore</td>\n",
              "      <td>N</td>\n",
              "      <td>Aleem Dar</td>\n",
              "      <td>AK Chaudhary</td>\n",
              "    </tr>\n",
              "    <tr>\n",
              "      <th>403</th>\n",
              "      <td>NaN</td>\n",
              "      <td>2014-04-19</td>\n",
              "      <td>Dubai International Cricket Stadium</td>\n",
              "      <td>1</td>\n",
              "      <td>Kolkata Knight Riders</td>\n",
              "      <td>Delhi Daredevils</td>\n",
              "      <td>Kolkata Knight Riders</td>\n",
              "      <td>bat</td>\n",
              "      <td>Delhi Daredevils</td>\n",
              "      <td>N</td>\n",
              "      <td>Aleem Dar</td>\n",
              "      <td>VA Kulkarni</td>\n",
              "    </tr>\n",
              "    <tr>\n",
              "      <th>407</th>\n",
              "      <td>NaN</td>\n",
              "      <td>2014-04-23</td>\n",
              "      <td>Dubai International Cricket Stadium</td>\n",
              "      <td>1</td>\n",
              "      <td>Rajasthan Royals</td>\n",
              "      <td>Chennai Super Kings</td>\n",
              "      <td>Rajasthan Royals</td>\n",
              "      <td>field</td>\n",
              "      <td>Chennai Super Kings</td>\n",
              "      <td>N</td>\n",
              "      <td>HDPK Dharmasena</td>\n",
              "      <td>RK Illingworth</td>\n",
              "    </tr>\n",
              "    <tr>\n",
              "      <th>409</th>\n",
              "      <td>NaN</td>\n",
              "      <td>2014-04-25</td>\n",
              "      <td>Dubai International Cricket Stadium</td>\n",
              "      <td>1</td>\n",
              "      <td>Sunrisers Hyderabad</td>\n",
              "      <td>Delhi Daredevils</td>\n",
              "      <td>Sunrisers Hyderabad</td>\n",
              "      <td>bat</td>\n",
              "      <td>Sunrisers Hyderabad</td>\n",
              "      <td>N</td>\n",
              "      <td>M Erasmus</td>\n",
              "      <td>S Ravi</td>\n",
              "    </tr>\n",
              "    <tr>\n",
              "      <th>410</th>\n",
              "      <td>NaN</td>\n",
              "      <td>2014-04-25</td>\n",
              "      <td>Dubai International Cricket Stadium</td>\n",
              "      <td>1</td>\n",
              "      <td>Chennai Super Kings</td>\n",
              "      <td>Mumbai Indians</td>\n",
              "      <td>Mumbai Indians</td>\n",
              "      <td>bat</td>\n",
              "      <td>Chennai Super Kings</td>\n",
              "      <td>N</td>\n",
              "      <td>BF Bowden</td>\n",
              "      <td>M Erasmus</td>\n",
              "    </tr>\n",
              "    <tr>\n",
              "      <th>415</th>\n",
              "      <td>NaN</td>\n",
              "      <td>2014-04-28</td>\n",
              "      <td>Dubai International Cricket Stadium</td>\n",
              "      <td>1</td>\n",
              "      <td>Kings XI Punjab</td>\n",
              "      <td>Royal Challengers Bangalore</td>\n",
              "      <td>Kings XI Punjab</td>\n",
              "      <td>field</td>\n",
              "      <td>Kings XI Punjab</td>\n",
              "      <td>N</td>\n",
              "      <td>BF Bowden</td>\n",
              "      <td>S Ravi</td>\n",
              "    </tr>\n",
              "    <tr>\n",
              "      <th>417</th>\n",
              "      <td>NaN</td>\n",
              "      <td>2014-04-30</td>\n",
              "      <td>Dubai International Cricket Stadium</td>\n",
              "      <td>1</td>\n",
              "      <td>Mumbai Indians</td>\n",
              "      <td>Sunrisers Hyderabad</td>\n",
              "      <td>Mumbai Indians</td>\n",
              "      <td>field</td>\n",
              "      <td>Sunrisers Hyderabad</td>\n",
              "      <td>N</td>\n",
              "      <td>HDPK Dharmasena</td>\n",
              "      <td>M Erasmus</td>\n",
              "    </tr>\n",
              "  </tbody>\n",
              "</table>\n",
              "</div>"
            ],
            "text/plain": [
              "    city        date  ...          umpire1         umpire2\n",
              "402  NaN  2014-04-19  ...        Aleem Dar    AK Chaudhary\n",
              "403  NaN  2014-04-19  ...        Aleem Dar     VA Kulkarni\n",
              "407  NaN  2014-04-23  ...  HDPK Dharmasena  RK Illingworth\n",
              "409  NaN  2014-04-25  ...        M Erasmus          S Ravi\n",
              "410  NaN  2014-04-25  ...        BF Bowden       M Erasmus\n",
              "415  NaN  2014-04-28  ...        BF Bowden          S Ravi\n",
              "417  NaN  2014-04-30  ...  HDPK Dharmasena       M Erasmus\n",
              "\n",
              "[7 rows x 12 columns]"
            ]
          },
          "metadata": {
            "tags": []
          },
          "execution_count": 396
        }
      ]
    },
    {
      "cell_type": "code",
      "metadata": {
        "colab": {
          "base_uri": "https://localhost:8080/",
          "height": 97
        },
        "id": "QS1LHcdxRdvu",
        "outputId": "fbf8ce99-4f46-4222-99a7-e9005e92862c"
      },
      "source": [
        "ipl_3['city'] = np.where((ipl_3['city'].isnull() == True) & (ipl_3['venue'] == 'Dubai International Cricket Stadium'), 'Dubai', ipl_3['city'])\n",
        "ipl_3[ipl_3.index == 407]"
      ],
      "execution_count": 397,
      "outputs": [
        {
          "output_type": "execute_result",
          "data": {
            "text/html": [
              "<div>\n",
              "<style scoped>\n",
              "    .dataframe tbody tr th:only-of-type {\n",
              "        vertical-align: middle;\n",
              "    }\n",
              "\n",
              "    .dataframe tbody tr th {\n",
              "        vertical-align: top;\n",
              "    }\n",
              "\n",
              "    .dataframe thead th {\n",
              "        text-align: right;\n",
              "    }\n",
              "</style>\n",
              "<table border=\"1\" class=\"dataframe\">\n",
              "  <thead>\n",
              "    <tr style=\"text-align: right;\">\n",
              "      <th></th>\n",
              "      <th>city</th>\n",
              "      <th>date</th>\n",
              "      <th>venue</th>\n",
              "      <th>neutral_venue</th>\n",
              "      <th>team1</th>\n",
              "      <th>team2</th>\n",
              "      <th>toss_winner</th>\n",
              "      <th>toss_decision</th>\n",
              "      <th>winner</th>\n",
              "      <th>eliminator</th>\n",
              "      <th>umpire1</th>\n",
              "      <th>umpire2</th>\n",
              "    </tr>\n",
              "  </thead>\n",
              "  <tbody>\n",
              "    <tr>\n",
              "      <th>407</th>\n",
              "      <td>Dubai</td>\n",
              "      <td>2014-04-23</td>\n",
              "      <td>Dubai International Cricket Stadium</td>\n",
              "      <td>1</td>\n",
              "      <td>Rajasthan Royals</td>\n",
              "      <td>Chennai Super Kings</td>\n",
              "      <td>Rajasthan Royals</td>\n",
              "      <td>field</td>\n",
              "      <td>Chennai Super Kings</td>\n",
              "      <td>N</td>\n",
              "      <td>HDPK Dharmasena</td>\n",
              "      <td>RK Illingworth</td>\n",
              "    </tr>\n",
              "  </tbody>\n",
              "</table>\n",
              "</div>"
            ],
            "text/plain": [
              "      city        date  ...          umpire1         umpire2\n",
              "407  Dubai  2014-04-23  ...  HDPK Dharmasena  RK Illingworth\n",
              "\n",
              "[1 rows x 12 columns]"
            ]
          },
          "metadata": {
            "tags": []
          },
          "execution_count": 397
        }
      ]
    },
    {
      "cell_type": "code",
      "metadata": {
        "colab": {
          "base_uri": "https://localhost:8080/"
        },
        "id": "LZPRJjcB2_o_",
        "outputId": "8f0e43a3-5693-46f4-b4aa-c0e01b15e4df"
      },
      "source": [
        "ipl_3.info()"
      ],
      "execution_count": 398,
      "outputs": [
        {
          "output_type": "stream",
          "text": [
            "<class 'pandas.core.frame.DataFrame'>\n",
            "Int64Index: 816 entries, 0 to 815\n",
            "Data columns (total 12 columns):\n",
            " #   Column         Non-Null Count  Dtype \n",
            "---  ------         --------------  ----- \n",
            " 0   city           816 non-null    object\n",
            " 1   date           816 non-null    object\n",
            " 2   venue          816 non-null    object\n",
            " 3   neutral_venue  816 non-null    int64 \n",
            " 4   team1          816 non-null    object\n",
            " 5   team2          816 non-null    object\n",
            " 6   toss_winner    816 non-null    object\n",
            " 7   toss_decision  816 non-null    object\n",
            " 8   winner         816 non-null    object\n",
            " 9   eliminator     816 non-null    object\n",
            " 10  umpire1        816 non-null    object\n",
            " 11  umpire2        816 non-null    object\n",
            "dtypes: int64(1), object(11)\n",
            "memory usage: 82.9+ KB\n"
          ],
          "name": "stdout"
        }
      ]
    },
    {
      "cell_type": "code",
      "metadata": {
        "colab": {
          "base_uri": "https://localhost:8080/"
        },
        "id": "Aq6U4tWu3M1O",
        "outputId": "fe87ba18-f307-4ee9-d8de-eef7c3d16a96"
      },
      "source": [
        "ipl_3['date'] = pd.to_datetime(ipl_3['date'])\n",
        "ipl_3['year'] = ipl_3['date'].dt.year\n",
        "ipl_3['month'] = ipl_3['date'].dt.month\n",
        "ipl_3['day'] = ipl_3['date'].dt.day\n",
        "ipl_3.info()"
      ],
      "execution_count": 399,
      "outputs": [
        {
          "output_type": "stream",
          "text": [
            "<class 'pandas.core.frame.DataFrame'>\n",
            "Int64Index: 816 entries, 0 to 815\n",
            "Data columns (total 15 columns):\n",
            " #   Column         Non-Null Count  Dtype         \n",
            "---  ------         --------------  -----         \n",
            " 0   city           816 non-null    object        \n",
            " 1   date           816 non-null    datetime64[ns]\n",
            " 2   venue          816 non-null    object        \n",
            " 3   neutral_venue  816 non-null    int64         \n",
            " 4   team1          816 non-null    object        \n",
            " 5   team2          816 non-null    object        \n",
            " 6   toss_winner    816 non-null    object        \n",
            " 7   toss_decision  816 non-null    object        \n",
            " 8   winner         816 non-null    object        \n",
            " 9   eliminator     816 non-null    object        \n",
            " 10  umpire1        816 non-null    object        \n",
            " 11  umpire2        816 non-null    object        \n",
            " 12  year           816 non-null    int64         \n",
            " 13  month          816 non-null    int64         \n",
            " 14  day            816 non-null    int64         \n",
            "dtypes: datetime64[ns](1), int64(4), object(10)\n",
            "memory usage: 102.0+ KB\n"
          ],
          "name": "stdout"
        }
      ]
    },
    {
      "cell_type": "code",
      "metadata": {
        "colab": {
          "base_uri": "https://localhost:8080/"
        },
        "id": "qc_j8A4k4Ij-",
        "outputId": "ab789d92-ae57-4218-9f5f-4bf994a3b0e9"
      },
      "source": [
        "print(min(ipl_3['date']))\n",
        "print(max(ipl_3['date']))"
      ],
      "execution_count": 400,
      "outputs": [
        {
          "output_type": "stream",
          "text": [
            "2008-04-18 00:00:00\n",
            "2020-11-10 00:00:00\n"
          ],
          "name": "stdout"
        }
      ]
    },
    {
      "cell_type": "code",
      "metadata": {
        "colab": {
          "base_uri": "https://localhost:8080/",
          "height": 830
        },
        "id": "oEMKD96a4E1R",
        "outputId": "c519192d-7037-434b-f21c-cdc24199bf8d"
      },
      "source": [
        "ipl_4 = ipl_3\n",
        "ipl_4 = ipl_4.drop(['date'], axis = 1)\n",
        "ipl_4"
      ],
      "execution_count": 401,
      "outputs": [
        {
          "output_type": "execute_result",
          "data": {
            "text/html": [
              "<div>\n",
              "<style scoped>\n",
              "    .dataframe tbody tr th:only-of-type {\n",
              "        vertical-align: middle;\n",
              "    }\n",
              "\n",
              "    .dataframe tbody tr th {\n",
              "        vertical-align: top;\n",
              "    }\n",
              "\n",
              "    .dataframe thead th {\n",
              "        text-align: right;\n",
              "    }\n",
              "</style>\n",
              "<table border=\"1\" class=\"dataframe\">\n",
              "  <thead>\n",
              "    <tr style=\"text-align: right;\">\n",
              "      <th></th>\n",
              "      <th>city</th>\n",
              "      <th>venue</th>\n",
              "      <th>neutral_venue</th>\n",
              "      <th>team1</th>\n",
              "      <th>team2</th>\n",
              "      <th>toss_winner</th>\n",
              "      <th>toss_decision</th>\n",
              "      <th>winner</th>\n",
              "      <th>eliminator</th>\n",
              "      <th>umpire1</th>\n",
              "      <th>umpire2</th>\n",
              "      <th>year</th>\n",
              "      <th>month</th>\n",
              "      <th>day</th>\n",
              "    </tr>\n",
              "  </thead>\n",
              "  <tbody>\n",
              "    <tr>\n",
              "      <th>0</th>\n",
              "      <td>Bangalore</td>\n",
              "      <td>M. Chinnaswamy Stadium</td>\n",
              "      <td>0</td>\n",
              "      <td>Royal Challengers Bangalore</td>\n",
              "      <td>Kolkata Knight Riders</td>\n",
              "      <td>Royal Challengers Bangalore</td>\n",
              "      <td>field</td>\n",
              "      <td>Kolkata Knight Riders</td>\n",
              "      <td>N</td>\n",
              "      <td>Asad Rauf</td>\n",
              "      <td>RE Koertzen</td>\n",
              "      <td>2008</td>\n",
              "      <td>4</td>\n",
              "      <td>18</td>\n",
              "    </tr>\n",
              "    <tr>\n",
              "      <th>1</th>\n",
              "      <td>Chandigarh</td>\n",
              "      <td>Punjab Cricket Association IS Bindra Stadium, ...</td>\n",
              "      <td>0</td>\n",
              "      <td>Kings XI Punjab</td>\n",
              "      <td>Chennai Super Kings</td>\n",
              "      <td>Chennai Super Kings</td>\n",
              "      <td>bat</td>\n",
              "      <td>Chennai Super Kings</td>\n",
              "      <td>N</td>\n",
              "      <td>MR Benson</td>\n",
              "      <td>SL Shastri</td>\n",
              "      <td>2008</td>\n",
              "      <td>4</td>\n",
              "      <td>19</td>\n",
              "    </tr>\n",
              "    <tr>\n",
              "      <th>2</th>\n",
              "      <td>Delhi</td>\n",
              "      <td>Feroz Shah Kotla</td>\n",
              "      <td>0</td>\n",
              "      <td>Delhi Daredevils</td>\n",
              "      <td>Rajasthan Royals</td>\n",
              "      <td>Rajasthan Royals</td>\n",
              "      <td>bat</td>\n",
              "      <td>Delhi Daredevils</td>\n",
              "      <td>N</td>\n",
              "      <td>Aleem Dar</td>\n",
              "      <td>GA Pratapkumar</td>\n",
              "      <td>2008</td>\n",
              "      <td>4</td>\n",
              "      <td>19</td>\n",
              "    </tr>\n",
              "    <tr>\n",
              "      <th>3</th>\n",
              "      <td>Mumbai</td>\n",
              "      <td>Wankhede Stadium</td>\n",
              "      <td>0</td>\n",
              "      <td>Mumbai Indians</td>\n",
              "      <td>Royal Challengers Bangalore</td>\n",
              "      <td>Mumbai Indians</td>\n",
              "      <td>bat</td>\n",
              "      <td>Royal Challengers Bangalore</td>\n",
              "      <td>N</td>\n",
              "      <td>SJ Davis</td>\n",
              "      <td>DJ Harper</td>\n",
              "      <td>2008</td>\n",
              "      <td>4</td>\n",
              "      <td>20</td>\n",
              "    </tr>\n",
              "    <tr>\n",
              "      <th>4</th>\n",
              "      <td>Kolkata</td>\n",
              "      <td>Eden Gardens</td>\n",
              "      <td>0</td>\n",
              "      <td>Kolkata Knight Riders</td>\n",
              "      <td>Deccan Chargers</td>\n",
              "      <td>Deccan Chargers</td>\n",
              "      <td>bat</td>\n",
              "      <td>Kolkata Knight Riders</td>\n",
              "      <td>N</td>\n",
              "      <td>BF Bowden</td>\n",
              "      <td>K Hariharan</td>\n",
              "      <td>2008</td>\n",
              "      <td>4</td>\n",
              "      <td>20</td>\n",
              "    </tr>\n",
              "    <tr>\n",
              "      <th>...</th>\n",
              "      <td>...</td>\n",
              "      <td>...</td>\n",
              "      <td>...</td>\n",
              "      <td>...</td>\n",
              "      <td>...</td>\n",
              "      <td>...</td>\n",
              "      <td>...</td>\n",
              "      <td>...</td>\n",
              "      <td>...</td>\n",
              "      <td>...</td>\n",
              "      <td>...</td>\n",
              "      <td>...</td>\n",
              "      <td>...</td>\n",
              "      <td>...</td>\n",
              "    </tr>\n",
              "    <tr>\n",
              "      <th>811</th>\n",
              "      <td>Dubai</td>\n",
              "      <td>Dubai International Cricket Stadium</td>\n",
              "      <td>0</td>\n",
              "      <td>Royal Challengers Bangalore</td>\n",
              "      <td>Mumbai Indians</td>\n",
              "      <td>Mumbai Indians</td>\n",
              "      <td>field</td>\n",
              "      <td>Royal Challengers Bangalore</td>\n",
              "      <td>Y</td>\n",
              "      <td>Nitin Menon</td>\n",
              "      <td>PR Reiffel</td>\n",
              "      <td>2020</td>\n",
              "      <td>9</td>\n",
              "      <td>28</td>\n",
              "    </tr>\n",
              "    <tr>\n",
              "      <th>812</th>\n",
              "      <td>Dubai</td>\n",
              "      <td>Dubai International Cricket Stadium</td>\n",
              "      <td>0</td>\n",
              "      <td>Mumbai Indians</td>\n",
              "      <td>Delhi Capitals</td>\n",
              "      <td>Delhi Capitals</td>\n",
              "      <td>field</td>\n",
              "      <td>Mumbai Indians</td>\n",
              "      <td>N</td>\n",
              "      <td>CB Gaffaney</td>\n",
              "      <td>Nitin Menon</td>\n",
              "      <td>2020</td>\n",
              "      <td>11</td>\n",
              "      <td>5</td>\n",
              "    </tr>\n",
              "    <tr>\n",
              "      <th>813</th>\n",
              "      <td>Abu Dhabi</td>\n",
              "      <td>Sheikh Zayed Stadium</td>\n",
              "      <td>0</td>\n",
              "      <td>Royal Challengers Bangalore</td>\n",
              "      <td>Sunrisers Hyderabad</td>\n",
              "      <td>Sunrisers Hyderabad</td>\n",
              "      <td>field</td>\n",
              "      <td>Sunrisers Hyderabad</td>\n",
              "      <td>N</td>\n",
              "      <td>PR Reiffel</td>\n",
              "      <td>S Ravi</td>\n",
              "      <td>2020</td>\n",
              "      <td>11</td>\n",
              "      <td>6</td>\n",
              "    </tr>\n",
              "    <tr>\n",
              "      <th>814</th>\n",
              "      <td>Abu Dhabi</td>\n",
              "      <td>Sheikh Zayed Stadium</td>\n",
              "      <td>0</td>\n",
              "      <td>Delhi Capitals</td>\n",
              "      <td>Sunrisers Hyderabad</td>\n",
              "      <td>Delhi Capitals</td>\n",
              "      <td>bat</td>\n",
              "      <td>Delhi Capitals</td>\n",
              "      <td>N</td>\n",
              "      <td>PR Reiffel</td>\n",
              "      <td>S Ravi</td>\n",
              "      <td>2020</td>\n",
              "      <td>11</td>\n",
              "      <td>8</td>\n",
              "    </tr>\n",
              "    <tr>\n",
              "      <th>815</th>\n",
              "      <td>Dubai</td>\n",
              "      <td>Dubai International Cricket Stadium</td>\n",
              "      <td>0</td>\n",
              "      <td>Delhi Capitals</td>\n",
              "      <td>Mumbai Indians</td>\n",
              "      <td>Delhi Capitals</td>\n",
              "      <td>bat</td>\n",
              "      <td>Mumbai Indians</td>\n",
              "      <td>N</td>\n",
              "      <td>CB Gaffaney</td>\n",
              "      <td>Nitin Menon</td>\n",
              "      <td>2020</td>\n",
              "      <td>11</td>\n",
              "      <td>10</td>\n",
              "    </tr>\n",
              "  </tbody>\n",
              "</table>\n",
              "<p>816 rows × 14 columns</p>\n",
              "</div>"
            ],
            "text/plain": [
              "           city                                              venue  ...  month day\n",
              "0     Bangalore                             M. Chinnaswamy Stadium  ...      4  18\n",
              "1    Chandigarh  Punjab Cricket Association IS Bindra Stadium, ...  ...      4  19\n",
              "2         Delhi                                   Feroz Shah Kotla  ...      4  19\n",
              "3        Mumbai                                   Wankhede Stadium  ...      4  20\n",
              "4       Kolkata                                       Eden Gardens  ...      4  20\n",
              "..          ...                                                ...  ...    ...  ..\n",
              "811       Dubai                Dubai International Cricket Stadium  ...      9  28\n",
              "812       Dubai                Dubai International Cricket Stadium  ...     11   5\n",
              "813   Abu Dhabi                               Sheikh Zayed Stadium  ...     11   6\n",
              "814   Abu Dhabi                               Sheikh Zayed Stadium  ...     11   8\n",
              "815       Dubai                Dubai International Cricket Stadium  ...     11  10\n",
              "\n",
              "[816 rows x 14 columns]"
            ]
          },
          "metadata": {
            "tags": []
          },
          "execution_count": 401
        }
      ]
    },
    {
      "cell_type": "code",
      "metadata": {
        "colab": {
          "base_uri": "https://localhost:8080/"
        },
        "id": "TsTpPNds4nmH",
        "outputId": "55e2125d-8aeb-426f-eb35-fe6db0526b6a"
      },
      "source": [
        "ipl_4.columns"
      ],
      "execution_count": 402,
      "outputs": [
        {
          "output_type": "execute_result",
          "data": {
            "text/plain": [
              "Index(['city', 'venue', 'neutral_venue', 'team1', 'team2', 'toss_winner',\n",
              "       'toss_decision', 'winner', 'eliminator', 'umpire1', 'umpire2', 'year',\n",
              "       'month', 'day'],\n",
              "      dtype='object')"
            ]
          },
          "metadata": {
            "tags": []
          },
          "execution_count": 402
        }
      ]
    },
    {
      "cell_type": "code",
      "metadata": {
        "colab": {
          "base_uri": "https://localhost:8080/",
          "height": 830
        },
        "id": "IENB1m-r4ZRF",
        "outputId": "f59752b4-ce74-42dc-c8ad-5985ca6c2719"
      },
      "source": [
        "ipl_4 = ipl_4[['year', 'month', 'day', 'city', 'venue', 'neutral_venue', 'team1', 'team2', 'toss_winner',\n",
        "       'toss_decision', 'winner', 'eliminator', 'umpire1', 'umpire2']]\n",
        "ipl_4"
      ],
      "execution_count": 403,
      "outputs": [
        {
          "output_type": "execute_result",
          "data": {
            "text/html": [
              "<div>\n",
              "<style scoped>\n",
              "    .dataframe tbody tr th:only-of-type {\n",
              "        vertical-align: middle;\n",
              "    }\n",
              "\n",
              "    .dataframe tbody tr th {\n",
              "        vertical-align: top;\n",
              "    }\n",
              "\n",
              "    .dataframe thead th {\n",
              "        text-align: right;\n",
              "    }\n",
              "</style>\n",
              "<table border=\"1\" class=\"dataframe\">\n",
              "  <thead>\n",
              "    <tr style=\"text-align: right;\">\n",
              "      <th></th>\n",
              "      <th>year</th>\n",
              "      <th>month</th>\n",
              "      <th>day</th>\n",
              "      <th>city</th>\n",
              "      <th>venue</th>\n",
              "      <th>neutral_venue</th>\n",
              "      <th>team1</th>\n",
              "      <th>team2</th>\n",
              "      <th>toss_winner</th>\n",
              "      <th>toss_decision</th>\n",
              "      <th>winner</th>\n",
              "      <th>eliminator</th>\n",
              "      <th>umpire1</th>\n",
              "      <th>umpire2</th>\n",
              "    </tr>\n",
              "  </thead>\n",
              "  <tbody>\n",
              "    <tr>\n",
              "      <th>0</th>\n",
              "      <td>2008</td>\n",
              "      <td>4</td>\n",
              "      <td>18</td>\n",
              "      <td>Bangalore</td>\n",
              "      <td>M. Chinnaswamy Stadium</td>\n",
              "      <td>0</td>\n",
              "      <td>Royal Challengers Bangalore</td>\n",
              "      <td>Kolkata Knight Riders</td>\n",
              "      <td>Royal Challengers Bangalore</td>\n",
              "      <td>field</td>\n",
              "      <td>Kolkata Knight Riders</td>\n",
              "      <td>N</td>\n",
              "      <td>Asad Rauf</td>\n",
              "      <td>RE Koertzen</td>\n",
              "    </tr>\n",
              "    <tr>\n",
              "      <th>1</th>\n",
              "      <td>2008</td>\n",
              "      <td>4</td>\n",
              "      <td>19</td>\n",
              "      <td>Chandigarh</td>\n",
              "      <td>Punjab Cricket Association IS Bindra Stadium, ...</td>\n",
              "      <td>0</td>\n",
              "      <td>Kings XI Punjab</td>\n",
              "      <td>Chennai Super Kings</td>\n",
              "      <td>Chennai Super Kings</td>\n",
              "      <td>bat</td>\n",
              "      <td>Chennai Super Kings</td>\n",
              "      <td>N</td>\n",
              "      <td>MR Benson</td>\n",
              "      <td>SL Shastri</td>\n",
              "    </tr>\n",
              "    <tr>\n",
              "      <th>2</th>\n",
              "      <td>2008</td>\n",
              "      <td>4</td>\n",
              "      <td>19</td>\n",
              "      <td>Delhi</td>\n",
              "      <td>Feroz Shah Kotla</td>\n",
              "      <td>0</td>\n",
              "      <td>Delhi Daredevils</td>\n",
              "      <td>Rajasthan Royals</td>\n",
              "      <td>Rajasthan Royals</td>\n",
              "      <td>bat</td>\n",
              "      <td>Delhi Daredevils</td>\n",
              "      <td>N</td>\n",
              "      <td>Aleem Dar</td>\n",
              "      <td>GA Pratapkumar</td>\n",
              "    </tr>\n",
              "    <tr>\n",
              "      <th>3</th>\n",
              "      <td>2008</td>\n",
              "      <td>4</td>\n",
              "      <td>20</td>\n",
              "      <td>Mumbai</td>\n",
              "      <td>Wankhede Stadium</td>\n",
              "      <td>0</td>\n",
              "      <td>Mumbai Indians</td>\n",
              "      <td>Royal Challengers Bangalore</td>\n",
              "      <td>Mumbai Indians</td>\n",
              "      <td>bat</td>\n",
              "      <td>Royal Challengers Bangalore</td>\n",
              "      <td>N</td>\n",
              "      <td>SJ Davis</td>\n",
              "      <td>DJ Harper</td>\n",
              "    </tr>\n",
              "    <tr>\n",
              "      <th>4</th>\n",
              "      <td>2008</td>\n",
              "      <td>4</td>\n",
              "      <td>20</td>\n",
              "      <td>Kolkata</td>\n",
              "      <td>Eden Gardens</td>\n",
              "      <td>0</td>\n",
              "      <td>Kolkata Knight Riders</td>\n",
              "      <td>Deccan Chargers</td>\n",
              "      <td>Deccan Chargers</td>\n",
              "      <td>bat</td>\n",
              "      <td>Kolkata Knight Riders</td>\n",
              "      <td>N</td>\n",
              "      <td>BF Bowden</td>\n",
              "      <td>K Hariharan</td>\n",
              "    </tr>\n",
              "    <tr>\n",
              "      <th>...</th>\n",
              "      <td>...</td>\n",
              "      <td>...</td>\n",
              "      <td>...</td>\n",
              "      <td>...</td>\n",
              "      <td>...</td>\n",
              "      <td>...</td>\n",
              "      <td>...</td>\n",
              "      <td>...</td>\n",
              "      <td>...</td>\n",
              "      <td>...</td>\n",
              "      <td>...</td>\n",
              "      <td>...</td>\n",
              "      <td>...</td>\n",
              "      <td>...</td>\n",
              "    </tr>\n",
              "    <tr>\n",
              "      <th>811</th>\n",
              "      <td>2020</td>\n",
              "      <td>9</td>\n",
              "      <td>28</td>\n",
              "      <td>Dubai</td>\n",
              "      <td>Dubai International Cricket Stadium</td>\n",
              "      <td>0</td>\n",
              "      <td>Royal Challengers Bangalore</td>\n",
              "      <td>Mumbai Indians</td>\n",
              "      <td>Mumbai Indians</td>\n",
              "      <td>field</td>\n",
              "      <td>Royal Challengers Bangalore</td>\n",
              "      <td>Y</td>\n",
              "      <td>Nitin Menon</td>\n",
              "      <td>PR Reiffel</td>\n",
              "    </tr>\n",
              "    <tr>\n",
              "      <th>812</th>\n",
              "      <td>2020</td>\n",
              "      <td>11</td>\n",
              "      <td>5</td>\n",
              "      <td>Dubai</td>\n",
              "      <td>Dubai International Cricket Stadium</td>\n",
              "      <td>0</td>\n",
              "      <td>Mumbai Indians</td>\n",
              "      <td>Delhi Capitals</td>\n",
              "      <td>Delhi Capitals</td>\n",
              "      <td>field</td>\n",
              "      <td>Mumbai Indians</td>\n",
              "      <td>N</td>\n",
              "      <td>CB Gaffaney</td>\n",
              "      <td>Nitin Menon</td>\n",
              "    </tr>\n",
              "    <tr>\n",
              "      <th>813</th>\n",
              "      <td>2020</td>\n",
              "      <td>11</td>\n",
              "      <td>6</td>\n",
              "      <td>Abu Dhabi</td>\n",
              "      <td>Sheikh Zayed Stadium</td>\n",
              "      <td>0</td>\n",
              "      <td>Royal Challengers Bangalore</td>\n",
              "      <td>Sunrisers Hyderabad</td>\n",
              "      <td>Sunrisers Hyderabad</td>\n",
              "      <td>field</td>\n",
              "      <td>Sunrisers Hyderabad</td>\n",
              "      <td>N</td>\n",
              "      <td>PR Reiffel</td>\n",
              "      <td>S Ravi</td>\n",
              "    </tr>\n",
              "    <tr>\n",
              "      <th>814</th>\n",
              "      <td>2020</td>\n",
              "      <td>11</td>\n",
              "      <td>8</td>\n",
              "      <td>Abu Dhabi</td>\n",
              "      <td>Sheikh Zayed Stadium</td>\n",
              "      <td>0</td>\n",
              "      <td>Delhi Capitals</td>\n",
              "      <td>Sunrisers Hyderabad</td>\n",
              "      <td>Delhi Capitals</td>\n",
              "      <td>bat</td>\n",
              "      <td>Delhi Capitals</td>\n",
              "      <td>N</td>\n",
              "      <td>PR Reiffel</td>\n",
              "      <td>S Ravi</td>\n",
              "    </tr>\n",
              "    <tr>\n",
              "      <th>815</th>\n",
              "      <td>2020</td>\n",
              "      <td>11</td>\n",
              "      <td>10</td>\n",
              "      <td>Dubai</td>\n",
              "      <td>Dubai International Cricket Stadium</td>\n",
              "      <td>0</td>\n",
              "      <td>Delhi Capitals</td>\n",
              "      <td>Mumbai Indians</td>\n",
              "      <td>Delhi Capitals</td>\n",
              "      <td>bat</td>\n",
              "      <td>Mumbai Indians</td>\n",
              "      <td>N</td>\n",
              "      <td>CB Gaffaney</td>\n",
              "      <td>Nitin Menon</td>\n",
              "    </tr>\n",
              "  </tbody>\n",
              "</table>\n",
              "<p>816 rows × 14 columns</p>\n",
              "</div>"
            ],
            "text/plain": [
              "     year  month  day  ... eliminator      umpire1         umpire2\n",
              "0    2008      4   18  ...          N    Asad Rauf     RE Koertzen\n",
              "1    2008      4   19  ...          N    MR Benson      SL Shastri\n",
              "2    2008      4   19  ...          N    Aleem Dar  GA Pratapkumar\n",
              "3    2008      4   20  ...          N     SJ Davis       DJ Harper\n",
              "4    2008      4   20  ...          N    BF Bowden     K Hariharan\n",
              "..    ...    ...  ...  ...        ...          ...             ...\n",
              "811  2020      9   28  ...          Y  Nitin Menon      PR Reiffel\n",
              "812  2020     11    5  ...          N  CB Gaffaney     Nitin Menon\n",
              "813  2020     11    6  ...          N   PR Reiffel          S Ravi\n",
              "814  2020     11    8  ...          N   PR Reiffel          S Ravi\n",
              "815  2020     11   10  ...          N  CB Gaffaney     Nitin Menon\n",
              "\n",
              "[816 rows x 14 columns]"
            ]
          },
          "metadata": {
            "tags": []
          },
          "execution_count": 403
        }
      ]
    },
    {
      "cell_type": "code",
      "metadata": {
        "colab": {
          "base_uri": "https://localhost:8080/"
        },
        "id": "pX4-cy4nj5ZP",
        "outputId": "f561591c-641b-4781-cc2f-122f3bafb4ab"
      },
      "source": [
        "ipl_4.columns"
      ],
      "execution_count": 404,
      "outputs": [
        {
          "output_type": "execute_result",
          "data": {
            "text/plain": [
              "Index(['year', 'month', 'day', 'city', 'venue', 'neutral_venue', 'team1',\n",
              "       'team2', 'toss_winner', 'toss_decision', 'winner', 'eliminator',\n",
              "       'umpire1', 'umpire2'],\n",
              "      dtype='object')"
            ]
          },
          "metadata": {
            "tags": []
          },
          "execution_count": 404
        }
      ]
    },
    {
      "cell_type": "code",
      "metadata": {
        "colab": {
          "base_uri": "https://localhost:8080/"
        },
        "id": "dVswlTCQjHbH",
        "outputId": "0aa24420-d267-401c-d327-47cb67dfb955"
      },
      "source": [
        "ipl_4['team1'].sort_values().unique()"
      ],
      "execution_count": 405,
      "outputs": [
        {
          "output_type": "execute_result",
          "data": {
            "text/plain": [
              "array(['Chennai Super Kings', 'Deccan Chargers', 'Delhi Capitals',\n",
              "       'Delhi Daredevils', 'Gujarat Lions', 'Kings XI Punjab',\n",
              "       'Kochi Tuskers Kerala', 'Kolkata Knight Riders', 'Mumbai Indians',\n",
              "       'Pune Warriors', 'Rajasthan Royals', 'Rising Pune Supergiant',\n",
              "       'Royal Challengers Bangalore', 'Sunrisers Hyderabad'], dtype=object)"
            ]
          },
          "metadata": {
            "tags": []
          },
          "execution_count": 405
        }
      ]
    },
    {
      "cell_type": "code",
      "metadata": {
        "colab": {
          "base_uri": "https://localhost:8080/"
        },
        "id": "INSYD1TzjW9E",
        "outputId": "d8ee1b18-032c-4ae2-e78f-87099e0e143d"
      },
      "source": [
        "ipl_4['team2'].sort_values().unique()"
      ],
      "execution_count": 406,
      "outputs": [
        {
          "output_type": "execute_result",
          "data": {
            "text/plain": [
              "array(['Chennai Super Kings', 'Deccan Chargers', 'Delhi Capitals',\n",
              "       'Delhi Daredevils', 'Gujarat Lions', 'Kings XI Punjab',\n",
              "       'Kochi Tuskers Kerala', 'Kolkata Knight Riders', 'Mumbai Indians',\n",
              "       'Pune Warriors', 'Rajasthan Royals', 'Rising Pune Supergiant',\n",
              "       'Royal Challengers Bangalore', 'Sunrisers Hyderabad'], dtype=object)"
            ]
          },
          "metadata": {
            "tags": []
          },
          "execution_count": 406
        }
      ]
    },
    {
      "cell_type": "code",
      "metadata": {
        "colab": {
          "base_uri": "https://localhost:8080/"
        },
        "id": "j0BA3cdFkBxX",
        "outputId": "5f19d75a-95bd-4940-b068-505df786a60c"
      },
      "source": [
        "ipl_4['toss_winner'].sort_values().unique()"
      ],
      "execution_count": 407,
      "outputs": [
        {
          "output_type": "execute_result",
          "data": {
            "text/plain": [
              "array(['Chennai Super Kings', 'Deccan Chargers', 'Delhi Capitals',\n",
              "       'Delhi Daredevils', 'Gujarat Lions', 'Kings XI Punjab',\n",
              "       'Kochi Tuskers Kerala', 'Kolkata Knight Riders', 'Mumbai Indians',\n",
              "       'Pune Warriors', 'Rajasthan Royals', 'Rising Pune Supergiant',\n",
              "       'Royal Challengers Bangalore', 'Sunrisers Hyderabad'], dtype=object)"
            ]
          },
          "metadata": {
            "tags": []
          },
          "execution_count": 407
        }
      ]
    },
    {
      "cell_type": "code",
      "metadata": {
        "colab": {
          "base_uri": "https://localhost:8080/"
        },
        "id": "IJRAxxqUj__n",
        "outputId": "bf321d62-5ba6-4a9d-fc78-dfff166a4600"
      },
      "source": [
        "ipl_4['winner'].sort_values().unique()"
      ],
      "execution_count": 408,
      "outputs": [
        {
          "output_type": "execute_result",
          "data": {
            "text/plain": [
              "array(['Chennai Super Kings', 'Deccan Chargers', 'Delhi Capitals',\n",
              "       'Delhi Daredevils', 'Gujarat Lions', 'Kings XI Punjab',\n",
              "       'Kochi Tuskers Kerala', 'Kolkata Knight Riders', 'Mumbai Indians',\n",
              "       'Pune Warriors', 'Rajasthan Royals', 'Rising Pune Supergiant',\n",
              "       'Royal Challengers Bangalore', 'Sunrisers Hyderabad', 'Tie'],\n",
              "      dtype=object)"
            ]
          },
          "metadata": {
            "tags": []
          },
          "execution_count": 408
        }
      ]
    },
    {
      "cell_type": "code",
      "metadata": {
        "colab": {
          "base_uri": "https://localhost:8080/",
          "height": 830
        },
        "id": "ION0_D85mR2A",
        "outputId": "590888b8-a04c-4436-d897-ecb350c3ac54"
      },
      "source": [
        "ipl_5 = ipl_4\n",
        "ipl_5"
      ],
      "execution_count": 409,
      "outputs": [
        {
          "output_type": "execute_result",
          "data": {
            "text/html": [
              "<div>\n",
              "<style scoped>\n",
              "    .dataframe tbody tr th:only-of-type {\n",
              "        vertical-align: middle;\n",
              "    }\n",
              "\n",
              "    .dataframe tbody tr th {\n",
              "        vertical-align: top;\n",
              "    }\n",
              "\n",
              "    .dataframe thead th {\n",
              "        text-align: right;\n",
              "    }\n",
              "</style>\n",
              "<table border=\"1\" class=\"dataframe\">\n",
              "  <thead>\n",
              "    <tr style=\"text-align: right;\">\n",
              "      <th></th>\n",
              "      <th>year</th>\n",
              "      <th>month</th>\n",
              "      <th>day</th>\n",
              "      <th>city</th>\n",
              "      <th>venue</th>\n",
              "      <th>neutral_venue</th>\n",
              "      <th>team1</th>\n",
              "      <th>team2</th>\n",
              "      <th>toss_winner</th>\n",
              "      <th>toss_decision</th>\n",
              "      <th>winner</th>\n",
              "      <th>eliminator</th>\n",
              "      <th>umpire1</th>\n",
              "      <th>umpire2</th>\n",
              "    </tr>\n",
              "  </thead>\n",
              "  <tbody>\n",
              "    <tr>\n",
              "      <th>0</th>\n",
              "      <td>2008</td>\n",
              "      <td>4</td>\n",
              "      <td>18</td>\n",
              "      <td>Bangalore</td>\n",
              "      <td>M. Chinnaswamy Stadium</td>\n",
              "      <td>0</td>\n",
              "      <td>Royal Challengers Bangalore</td>\n",
              "      <td>Kolkata Knight Riders</td>\n",
              "      <td>Royal Challengers Bangalore</td>\n",
              "      <td>field</td>\n",
              "      <td>Kolkata Knight Riders</td>\n",
              "      <td>N</td>\n",
              "      <td>Asad Rauf</td>\n",
              "      <td>RE Koertzen</td>\n",
              "    </tr>\n",
              "    <tr>\n",
              "      <th>1</th>\n",
              "      <td>2008</td>\n",
              "      <td>4</td>\n",
              "      <td>19</td>\n",
              "      <td>Chandigarh</td>\n",
              "      <td>Punjab Cricket Association IS Bindra Stadium, ...</td>\n",
              "      <td>0</td>\n",
              "      <td>Kings XI Punjab</td>\n",
              "      <td>Chennai Super Kings</td>\n",
              "      <td>Chennai Super Kings</td>\n",
              "      <td>bat</td>\n",
              "      <td>Chennai Super Kings</td>\n",
              "      <td>N</td>\n",
              "      <td>MR Benson</td>\n",
              "      <td>SL Shastri</td>\n",
              "    </tr>\n",
              "    <tr>\n",
              "      <th>2</th>\n",
              "      <td>2008</td>\n",
              "      <td>4</td>\n",
              "      <td>19</td>\n",
              "      <td>Delhi</td>\n",
              "      <td>Feroz Shah Kotla</td>\n",
              "      <td>0</td>\n",
              "      <td>Delhi Daredevils</td>\n",
              "      <td>Rajasthan Royals</td>\n",
              "      <td>Rajasthan Royals</td>\n",
              "      <td>bat</td>\n",
              "      <td>Delhi Daredevils</td>\n",
              "      <td>N</td>\n",
              "      <td>Aleem Dar</td>\n",
              "      <td>GA Pratapkumar</td>\n",
              "    </tr>\n",
              "    <tr>\n",
              "      <th>3</th>\n",
              "      <td>2008</td>\n",
              "      <td>4</td>\n",
              "      <td>20</td>\n",
              "      <td>Mumbai</td>\n",
              "      <td>Wankhede Stadium</td>\n",
              "      <td>0</td>\n",
              "      <td>Mumbai Indians</td>\n",
              "      <td>Royal Challengers Bangalore</td>\n",
              "      <td>Mumbai Indians</td>\n",
              "      <td>bat</td>\n",
              "      <td>Royal Challengers Bangalore</td>\n",
              "      <td>N</td>\n",
              "      <td>SJ Davis</td>\n",
              "      <td>DJ Harper</td>\n",
              "    </tr>\n",
              "    <tr>\n",
              "      <th>4</th>\n",
              "      <td>2008</td>\n",
              "      <td>4</td>\n",
              "      <td>20</td>\n",
              "      <td>Kolkata</td>\n",
              "      <td>Eden Gardens</td>\n",
              "      <td>0</td>\n",
              "      <td>Kolkata Knight Riders</td>\n",
              "      <td>Deccan Chargers</td>\n",
              "      <td>Deccan Chargers</td>\n",
              "      <td>bat</td>\n",
              "      <td>Kolkata Knight Riders</td>\n",
              "      <td>N</td>\n",
              "      <td>BF Bowden</td>\n",
              "      <td>K Hariharan</td>\n",
              "    </tr>\n",
              "    <tr>\n",
              "      <th>...</th>\n",
              "      <td>...</td>\n",
              "      <td>...</td>\n",
              "      <td>...</td>\n",
              "      <td>...</td>\n",
              "      <td>...</td>\n",
              "      <td>...</td>\n",
              "      <td>...</td>\n",
              "      <td>...</td>\n",
              "      <td>...</td>\n",
              "      <td>...</td>\n",
              "      <td>...</td>\n",
              "      <td>...</td>\n",
              "      <td>...</td>\n",
              "      <td>...</td>\n",
              "    </tr>\n",
              "    <tr>\n",
              "      <th>811</th>\n",
              "      <td>2020</td>\n",
              "      <td>9</td>\n",
              "      <td>28</td>\n",
              "      <td>Dubai</td>\n",
              "      <td>Dubai International Cricket Stadium</td>\n",
              "      <td>0</td>\n",
              "      <td>Royal Challengers Bangalore</td>\n",
              "      <td>Mumbai Indians</td>\n",
              "      <td>Mumbai Indians</td>\n",
              "      <td>field</td>\n",
              "      <td>Royal Challengers Bangalore</td>\n",
              "      <td>Y</td>\n",
              "      <td>Nitin Menon</td>\n",
              "      <td>PR Reiffel</td>\n",
              "    </tr>\n",
              "    <tr>\n",
              "      <th>812</th>\n",
              "      <td>2020</td>\n",
              "      <td>11</td>\n",
              "      <td>5</td>\n",
              "      <td>Dubai</td>\n",
              "      <td>Dubai International Cricket Stadium</td>\n",
              "      <td>0</td>\n",
              "      <td>Mumbai Indians</td>\n",
              "      <td>Delhi Capitals</td>\n",
              "      <td>Delhi Capitals</td>\n",
              "      <td>field</td>\n",
              "      <td>Mumbai Indians</td>\n",
              "      <td>N</td>\n",
              "      <td>CB Gaffaney</td>\n",
              "      <td>Nitin Menon</td>\n",
              "    </tr>\n",
              "    <tr>\n",
              "      <th>813</th>\n",
              "      <td>2020</td>\n",
              "      <td>11</td>\n",
              "      <td>6</td>\n",
              "      <td>Abu Dhabi</td>\n",
              "      <td>Sheikh Zayed Stadium</td>\n",
              "      <td>0</td>\n",
              "      <td>Royal Challengers Bangalore</td>\n",
              "      <td>Sunrisers Hyderabad</td>\n",
              "      <td>Sunrisers Hyderabad</td>\n",
              "      <td>field</td>\n",
              "      <td>Sunrisers Hyderabad</td>\n",
              "      <td>N</td>\n",
              "      <td>PR Reiffel</td>\n",
              "      <td>S Ravi</td>\n",
              "    </tr>\n",
              "    <tr>\n",
              "      <th>814</th>\n",
              "      <td>2020</td>\n",
              "      <td>11</td>\n",
              "      <td>8</td>\n",
              "      <td>Abu Dhabi</td>\n",
              "      <td>Sheikh Zayed Stadium</td>\n",
              "      <td>0</td>\n",
              "      <td>Delhi Capitals</td>\n",
              "      <td>Sunrisers Hyderabad</td>\n",
              "      <td>Delhi Capitals</td>\n",
              "      <td>bat</td>\n",
              "      <td>Delhi Capitals</td>\n",
              "      <td>N</td>\n",
              "      <td>PR Reiffel</td>\n",
              "      <td>S Ravi</td>\n",
              "    </tr>\n",
              "    <tr>\n",
              "      <th>815</th>\n",
              "      <td>2020</td>\n",
              "      <td>11</td>\n",
              "      <td>10</td>\n",
              "      <td>Dubai</td>\n",
              "      <td>Dubai International Cricket Stadium</td>\n",
              "      <td>0</td>\n",
              "      <td>Delhi Capitals</td>\n",
              "      <td>Mumbai Indians</td>\n",
              "      <td>Delhi Capitals</td>\n",
              "      <td>bat</td>\n",
              "      <td>Mumbai Indians</td>\n",
              "      <td>N</td>\n",
              "      <td>CB Gaffaney</td>\n",
              "      <td>Nitin Menon</td>\n",
              "    </tr>\n",
              "  </tbody>\n",
              "</table>\n",
              "<p>816 rows × 14 columns</p>\n",
              "</div>"
            ],
            "text/plain": [
              "     year  month  day  ... eliminator      umpire1         umpire2\n",
              "0    2008      4   18  ...          N    Asad Rauf     RE Koertzen\n",
              "1    2008      4   19  ...          N    MR Benson      SL Shastri\n",
              "2    2008      4   19  ...          N    Aleem Dar  GA Pratapkumar\n",
              "3    2008      4   20  ...          N     SJ Davis       DJ Harper\n",
              "4    2008      4   20  ...          N    BF Bowden     K Hariharan\n",
              "..    ...    ...  ...  ...        ...          ...             ...\n",
              "811  2020      9   28  ...          Y  Nitin Menon      PR Reiffel\n",
              "812  2020     11    5  ...          N  CB Gaffaney     Nitin Menon\n",
              "813  2020     11    6  ...          N   PR Reiffel          S Ravi\n",
              "814  2020     11    8  ...          N   PR Reiffel          S Ravi\n",
              "815  2020     11   10  ...          N  CB Gaffaney     Nitin Menon\n",
              "\n",
              "[816 rows x 14 columns]"
            ]
          },
          "metadata": {
            "tags": []
          },
          "execution_count": 409
        }
      ]
    },
    {
      "cell_type": "code",
      "metadata": {
        "colab": {
          "base_uri": "https://localhost:8080/",
          "height": 589
        },
        "id": "xvVAwzIefaoC",
        "outputId": "826c5430-f9fc-4741-dcb9-a64f15776a59"
      },
      "source": [
        "# Creating Dictionaries\n",
        "\n",
        "team_encodings = {\n",
        "    'Mumbai Indians': 1,\n",
        "    'Kolkata Knight Riders': 2,\n",
        "    'Royal Challengers Bangalore': 3,\n",
        "    'Deccan Chargers': 4,\n",
        "    'Chennai Super Kings': 5,\n",
        "    'Rajasthan Royals': 6,\n",
        "    'Delhi Daredevils': 7,\n",
        "    'Gujarat Lions': 8,\n",
        "    'Kings XI Punjab': 9,\n",
        "    'Sunrisers Hyderabad': 10,\n",
        "    'Rising Pune Supergiant': 11,\n",
        "    'Kochi Tuskers Kerala': 12,\n",
        "    'Pune Warriors': 13,\n",
        "    'Delhi Capitals': 14,\n",
        "    'Tie': 15\n",
        "}\n",
        "\n",
        "team_encode_dict = {\n",
        "    'team1': team_encodings,\n",
        "    'team2': team_encodings,\n",
        "    'toss_winner': team_encodings,\n",
        "    'winner': team_encodings\n",
        "}\n",
        "\n",
        "ipl_5.replace(team_encode_dict, inplace=True)\n",
        "ipl_5"
      ],
      "execution_count": 410,
      "outputs": [
        {
          "output_type": "execute_result",
          "data": {
            "text/html": [
              "<div>\n",
              "<style scoped>\n",
              "    .dataframe tbody tr th:only-of-type {\n",
              "        vertical-align: middle;\n",
              "    }\n",
              "\n",
              "    .dataframe tbody tr th {\n",
              "        vertical-align: top;\n",
              "    }\n",
              "\n",
              "    .dataframe thead th {\n",
              "        text-align: right;\n",
              "    }\n",
              "</style>\n",
              "<table border=\"1\" class=\"dataframe\">\n",
              "  <thead>\n",
              "    <tr style=\"text-align: right;\">\n",
              "      <th></th>\n",
              "      <th>year</th>\n",
              "      <th>month</th>\n",
              "      <th>day</th>\n",
              "      <th>city</th>\n",
              "      <th>venue</th>\n",
              "      <th>neutral_venue</th>\n",
              "      <th>team1</th>\n",
              "      <th>team2</th>\n",
              "      <th>toss_winner</th>\n",
              "      <th>toss_decision</th>\n",
              "      <th>winner</th>\n",
              "      <th>eliminator</th>\n",
              "      <th>umpire1</th>\n",
              "      <th>umpire2</th>\n",
              "    </tr>\n",
              "  </thead>\n",
              "  <tbody>\n",
              "    <tr>\n",
              "      <th>0</th>\n",
              "      <td>2008</td>\n",
              "      <td>4</td>\n",
              "      <td>18</td>\n",
              "      <td>Bangalore</td>\n",
              "      <td>M. Chinnaswamy Stadium</td>\n",
              "      <td>0</td>\n",
              "      <td>3</td>\n",
              "      <td>2</td>\n",
              "      <td>3</td>\n",
              "      <td>field</td>\n",
              "      <td>2</td>\n",
              "      <td>N</td>\n",
              "      <td>Asad Rauf</td>\n",
              "      <td>RE Koertzen</td>\n",
              "    </tr>\n",
              "    <tr>\n",
              "      <th>1</th>\n",
              "      <td>2008</td>\n",
              "      <td>4</td>\n",
              "      <td>19</td>\n",
              "      <td>Chandigarh</td>\n",
              "      <td>Punjab Cricket Association IS Bindra Stadium, ...</td>\n",
              "      <td>0</td>\n",
              "      <td>9</td>\n",
              "      <td>5</td>\n",
              "      <td>5</td>\n",
              "      <td>bat</td>\n",
              "      <td>5</td>\n",
              "      <td>N</td>\n",
              "      <td>MR Benson</td>\n",
              "      <td>SL Shastri</td>\n",
              "    </tr>\n",
              "    <tr>\n",
              "      <th>2</th>\n",
              "      <td>2008</td>\n",
              "      <td>4</td>\n",
              "      <td>19</td>\n",
              "      <td>Delhi</td>\n",
              "      <td>Feroz Shah Kotla</td>\n",
              "      <td>0</td>\n",
              "      <td>7</td>\n",
              "      <td>6</td>\n",
              "      <td>6</td>\n",
              "      <td>bat</td>\n",
              "      <td>7</td>\n",
              "      <td>N</td>\n",
              "      <td>Aleem Dar</td>\n",
              "      <td>GA Pratapkumar</td>\n",
              "    </tr>\n",
              "    <tr>\n",
              "      <th>3</th>\n",
              "      <td>2008</td>\n",
              "      <td>4</td>\n",
              "      <td>20</td>\n",
              "      <td>Mumbai</td>\n",
              "      <td>Wankhede Stadium</td>\n",
              "      <td>0</td>\n",
              "      <td>1</td>\n",
              "      <td>3</td>\n",
              "      <td>1</td>\n",
              "      <td>bat</td>\n",
              "      <td>3</td>\n",
              "      <td>N</td>\n",
              "      <td>SJ Davis</td>\n",
              "      <td>DJ Harper</td>\n",
              "    </tr>\n",
              "    <tr>\n",
              "      <th>4</th>\n",
              "      <td>2008</td>\n",
              "      <td>4</td>\n",
              "      <td>20</td>\n",
              "      <td>Kolkata</td>\n",
              "      <td>Eden Gardens</td>\n",
              "      <td>0</td>\n",
              "      <td>2</td>\n",
              "      <td>4</td>\n",
              "      <td>4</td>\n",
              "      <td>bat</td>\n",
              "      <td>2</td>\n",
              "      <td>N</td>\n",
              "      <td>BF Bowden</td>\n",
              "      <td>K Hariharan</td>\n",
              "    </tr>\n",
              "    <tr>\n",
              "      <th>...</th>\n",
              "      <td>...</td>\n",
              "      <td>...</td>\n",
              "      <td>...</td>\n",
              "      <td>...</td>\n",
              "      <td>...</td>\n",
              "      <td>...</td>\n",
              "      <td>...</td>\n",
              "      <td>...</td>\n",
              "      <td>...</td>\n",
              "      <td>...</td>\n",
              "      <td>...</td>\n",
              "      <td>...</td>\n",
              "      <td>...</td>\n",
              "      <td>...</td>\n",
              "    </tr>\n",
              "    <tr>\n",
              "      <th>811</th>\n",
              "      <td>2020</td>\n",
              "      <td>9</td>\n",
              "      <td>28</td>\n",
              "      <td>Dubai</td>\n",
              "      <td>Dubai International Cricket Stadium</td>\n",
              "      <td>0</td>\n",
              "      <td>3</td>\n",
              "      <td>1</td>\n",
              "      <td>1</td>\n",
              "      <td>field</td>\n",
              "      <td>3</td>\n",
              "      <td>Y</td>\n",
              "      <td>Nitin Menon</td>\n",
              "      <td>PR Reiffel</td>\n",
              "    </tr>\n",
              "    <tr>\n",
              "      <th>812</th>\n",
              "      <td>2020</td>\n",
              "      <td>11</td>\n",
              "      <td>5</td>\n",
              "      <td>Dubai</td>\n",
              "      <td>Dubai International Cricket Stadium</td>\n",
              "      <td>0</td>\n",
              "      <td>1</td>\n",
              "      <td>14</td>\n",
              "      <td>14</td>\n",
              "      <td>field</td>\n",
              "      <td>1</td>\n",
              "      <td>N</td>\n",
              "      <td>CB Gaffaney</td>\n",
              "      <td>Nitin Menon</td>\n",
              "    </tr>\n",
              "    <tr>\n",
              "      <th>813</th>\n",
              "      <td>2020</td>\n",
              "      <td>11</td>\n",
              "      <td>6</td>\n",
              "      <td>Abu Dhabi</td>\n",
              "      <td>Sheikh Zayed Stadium</td>\n",
              "      <td>0</td>\n",
              "      <td>3</td>\n",
              "      <td>10</td>\n",
              "      <td>10</td>\n",
              "      <td>field</td>\n",
              "      <td>10</td>\n",
              "      <td>N</td>\n",
              "      <td>PR Reiffel</td>\n",
              "      <td>S Ravi</td>\n",
              "    </tr>\n",
              "    <tr>\n",
              "      <th>814</th>\n",
              "      <td>2020</td>\n",
              "      <td>11</td>\n",
              "      <td>8</td>\n",
              "      <td>Abu Dhabi</td>\n",
              "      <td>Sheikh Zayed Stadium</td>\n",
              "      <td>0</td>\n",
              "      <td>14</td>\n",
              "      <td>10</td>\n",
              "      <td>14</td>\n",
              "      <td>bat</td>\n",
              "      <td>14</td>\n",
              "      <td>N</td>\n",
              "      <td>PR Reiffel</td>\n",
              "      <td>S Ravi</td>\n",
              "    </tr>\n",
              "    <tr>\n",
              "      <th>815</th>\n",
              "      <td>2020</td>\n",
              "      <td>11</td>\n",
              "      <td>10</td>\n",
              "      <td>Dubai</td>\n",
              "      <td>Dubai International Cricket Stadium</td>\n",
              "      <td>0</td>\n",
              "      <td>14</td>\n",
              "      <td>1</td>\n",
              "      <td>14</td>\n",
              "      <td>bat</td>\n",
              "      <td>1</td>\n",
              "      <td>N</td>\n",
              "      <td>CB Gaffaney</td>\n",
              "      <td>Nitin Menon</td>\n",
              "    </tr>\n",
              "  </tbody>\n",
              "</table>\n",
              "<p>816 rows × 14 columns</p>\n",
              "</div>"
            ],
            "text/plain": [
              "     year  month  day  ... eliminator      umpire1         umpire2\n",
              "0    2008      4   18  ...          N    Asad Rauf     RE Koertzen\n",
              "1    2008      4   19  ...          N    MR Benson      SL Shastri\n",
              "2    2008      4   19  ...          N    Aleem Dar  GA Pratapkumar\n",
              "3    2008      4   20  ...          N     SJ Davis       DJ Harper\n",
              "4    2008      4   20  ...          N    BF Bowden     K Hariharan\n",
              "..    ...    ...  ...  ...        ...          ...             ...\n",
              "811  2020      9   28  ...          Y  Nitin Menon      PR Reiffel\n",
              "812  2020     11    5  ...          N  CB Gaffaney     Nitin Menon\n",
              "813  2020     11    6  ...          N   PR Reiffel          S Ravi\n",
              "814  2020     11    8  ...          N   PR Reiffel          S Ravi\n",
              "815  2020     11   10  ...          N  CB Gaffaney     Nitin Menon\n",
              "\n",
              "[816 rows x 14 columns]"
            ]
          },
          "metadata": {
            "tags": []
          },
          "execution_count": 410
        }
      ]
    },
    {
      "cell_type": "code",
      "metadata": {
        "colab": {
          "base_uri": "https://localhost:8080/"
        },
        "id": "nEnUEkMWmq_T",
        "outputId": "a59977dd-81db-4465-c398-b5565d8533dd"
      },
      "source": [
        "ipl_5.info()"
      ],
      "execution_count": 411,
      "outputs": [
        {
          "output_type": "stream",
          "text": [
            "<class 'pandas.core.frame.DataFrame'>\n",
            "Int64Index: 816 entries, 0 to 815\n",
            "Data columns (total 14 columns):\n",
            " #   Column         Non-Null Count  Dtype \n",
            "---  ------         --------------  ----- \n",
            " 0   year           816 non-null    int64 \n",
            " 1   month          816 non-null    int64 \n",
            " 2   day            816 non-null    int64 \n",
            " 3   city           816 non-null    object\n",
            " 4   venue          816 non-null    object\n",
            " 5   neutral_venue  816 non-null    int64 \n",
            " 6   team1          816 non-null    int64 \n",
            " 7   team2          816 non-null    int64 \n",
            " 8   toss_winner    816 non-null    int64 \n",
            " 9   toss_decision  816 non-null    object\n",
            " 10  winner         816 non-null    int64 \n",
            " 11  eliminator     816 non-null    object\n",
            " 12  umpire1        816 non-null    object\n",
            " 13  umpire2        816 non-null    object\n",
            "dtypes: int64(8), object(6)\n",
            "memory usage: 95.6+ KB\n"
          ],
          "name": "stdout"
        }
      ]
    },
    {
      "cell_type": "code",
      "metadata": {
        "colab": {
          "base_uri": "https://localhost:8080/",
          "height": 1000
        },
        "id": "0pSpSAVqnfVI",
        "outputId": "dbb65bf2-1f83-49a3-8715-bd73bca4494e"
      },
      "source": [
        "from sklearn.preprocessing import LabelEncoder\n",
        "\n",
        "ftr_list = ['city', 'venue', 'toss_decision', 'eliminator', 'umpire1', 'umpire2']\n",
        "encoder = LabelEncoder()\n",
        "for ftr in ftr_list:\n",
        "    ipl_5[ftr] = encoder.fit_transform(ipl_5[ftr])\n",
        "    print(encoder.classes_)\n",
        "\n",
        "ipl_5"
      ],
      "execution_count": 412,
      "outputs": [
        {
          "output_type": "stream",
          "text": [
            "['Abu Dhabi' 'Ahmedabad' 'Bangalore' 'Bloemfontein' 'Cape Town'\n",
            " 'Centurion' 'Chandigarh' 'Chennai' 'Cuttack' 'Delhi' 'Dharamsala' 'Dubai'\n",
            " 'Durban' 'East London' 'Hyderabad' 'Indore' 'Jaipur' 'Johannesburg'\n",
            " 'Kanpur' 'Kimberley' 'Kochi' 'Kolkata' 'Mumbai' 'Nagpur' 'Port Elizabeth'\n",
            " 'Pune' 'Raipur' 'Rajkot' 'Ranchi' 'Sharjah' 'Visakhapatnam']\n",
            "['Barabati Stadium' 'Brabourne Stadium' 'Buffalo Park'\n",
            " 'De Beers Diamond Oval' 'Dr DY Patil Sports Academy'\n",
            " 'Dr. Y.S. Rajasekhara Reddy ACA-VDCA Cricket Stadium'\n",
            " 'Dubai International Cricket Stadium' 'Eden Gardens' 'Feroz Shah Kotla'\n",
            " 'Green Park' 'Himachal Pradesh Cricket Association Stadium'\n",
            " 'Holkar Cricket Stadium' 'JSCA International Stadium Complex' 'Kingsmead'\n",
            " 'M. Chinnaswamy Stadium' 'MA Chidambaram Stadium, Chepauk'\n",
            " 'Maharashtra Cricket Association Stadium' 'Nehru Stadium'\n",
            " 'New Wanderers Stadium' 'Newlands' 'OUTsurance Oval'\n",
            " 'Punjab Cricket Association IS Bindra Stadium, Mohali'\n",
            " 'Rajiv Gandhi International Stadium, Uppal'\n",
            " 'Sardar Patel Stadium, Motera' 'Saurashtra Cricket Association Stadium'\n",
            " 'Sawai Mansingh Stadium'\n",
            " 'Shaheed Veer Narayan Singh International Stadium'\n",
            " 'Sharjah Cricket Stadium' 'Sheikh Zayed Stadium' \"St George's Park\"\n",
            " 'Subrata Roy Sahara Stadium' 'SuperSport Park'\n",
            " 'Vidarbha Cricket Association Stadium, Jamtha' 'Wankhede Stadium']\n",
            "['bat' 'field']\n",
            "['N' 'Y']\n",
            "['A Deshmukh' 'A Nand Kishore' 'AK Chaudhary' 'AM Saheba' 'AV Jayaprakash'\n",
            " 'AY Dandekar' 'Aleem Dar' 'Asad Rauf' 'BF Bowden' 'BG Jerling'\n",
            " 'BNJ Oxenford' 'BR Doctrove' 'C Shamshuddin' 'CB Gaffaney' 'CK Nandan'\n",
            " 'DJ Harper' 'GAV Baxter' 'HDPK Dharmasena' 'IJ Gould' 'IL Howell'\n",
            " 'JD Cloete' 'K Bharatan' 'K Hariharan' 'K Srinath'\n",
            " 'KN Ananthapadmanabhan' 'M Erasmus' 'MR Benson' 'NJ Llong' 'Nitin Menon'\n",
            " 'PG Pathak' 'PR Reiffel' 'RE Koertzen' 'RJ Tucker' 'RK Illingworth'\n",
            " 'RM Deshpande' 'S Asnani' 'S Das' 'S Ravi' 'SD Fry' 'SJ Davis'\n",
            " 'SJA Taufel' 'SK Tarapore' 'SL Shastri' 'SS Hazare' 'UV Gandhe'\n",
            " 'VA Kulkarni' 'VK Sharma' 'YC Barde']\n",
            "['A Deshmukh' 'A Nand Kishore' 'AK Chaudhary' 'AL Hill' 'AM Saheba'\n",
            " 'AV Jayaprakash' 'BG Jerling' 'BNJ Oxenford' 'BR Doctrove'\n",
            " 'C Shamshuddin' 'CB Gaffaney' 'CK Nandan' 'DJ Harper' 'GA Pratapkumar'\n",
            " 'HDPK Dharmasena' 'I Shivram' 'IJ Gould' 'IL Howell' 'JD Cloete'\n",
            " 'K Hariharan' 'K Srinath' 'K Srinivasan' 'M Erasmus' 'MR Benson'\n",
            " 'NJ Llong' 'Nitin Menon' 'PG Pathak' 'PR Reiffel' 'RB Tiffin'\n",
            " 'RE Koertzen' 'RJ Tucker' 'RK Illingworth' 'S Asnani' 'S Das' 'S Ravi'\n",
            " 'SD Fry' 'SD Ranade' 'SJ Davis' 'SJA Taufel' 'SK Tarapore' 'SL Shastri'\n",
            " 'SS Hazare' 'Subroto Das' 'TH Wijewardene' 'VA Kulkarni' 'VK Sharma'\n",
            " 'YC Barde']\n"
          ],
          "name": "stdout"
        },
        {
          "output_type": "execute_result",
          "data": {
            "text/html": [
              "<div>\n",
              "<style scoped>\n",
              "    .dataframe tbody tr th:only-of-type {\n",
              "        vertical-align: middle;\n",
              "    }\n",
              "\n",
              "    .dataframe tbody tr th {\n",
              "        vertical-align: top;\n",
              "    }\n",
              "\n",
              "    .dataframe thead th {\n",
              "        text-align: right;\n",
              "    }\n",
              "</style>\n",
              "<table border=\"1\" class=\"dataframe\">\n",
              "  <thead>\n",
              "    <tr style=\"text-align: right;\">\n",
              "      <th></th>\n",
              "      <th>year</th>\n",
              "      <th>month</th>\n",
              "      <th>day</th>\n",
              "      <th>city</th>\n",
              "      <th>venue</th>\n",
              "      <th>neutral_venue</th>\n",
              "      <th>team1</th>\n",
              "      <th>team2</th>\n",
              "      <th>toss_winner</th>\n",
              "      <th>toss_decision</th>\n",
              "      <th>winner</th>\n",
              "      <th>eliminator</th>\n",
              "      <th>umpire1</th>\n",
              "      <th>umpire2</th>\n",
              "    </tr>\n",
              "  </thead>\n",
              "  <tbody>\n",
              "    <tr>\n",
              "      <th>0</th>\n",
              "      <td>2008</td>\n",
              "      <td>4</td>\n",
              "      <td>18</td>\n",
              "      <td>2</td>\n",
              "      <td>14</td>\n",
              "      <td>0</td>\n",
              "      <td>3</td>\n",
              "      <td>2</td>\n",
              "      <td>3</td>\n",
              "      <td>1</td>\n",
              "      <td>2</td>\n",
              "      <td>0</td>\n",
              "      <td>7</td>\n",
              "      <td>29</td>\n",
              "    </tr>\n",
              "    <tr>\n",
              "      <th>1</th>\n",
              "      <td>2008</td>\n",
              "      <td>4</td>\n",
              "      <td>19</td>\n",
              "      <td>6</td>\n",
              "      <td>21</td>\n",
              "      <td>0</td>\n",
              "      <td>9</td>\n",
              "      <td>5</td>\n",
              "      <td>5</td>\n",
              "      <td>0</td>\n",
              "      <td>5</td>\n",
              "      <td>0</td>\n",
              "      <td>26</td>\n",
              "      <td>40</td>\n",
              "    </tr>\n",
              "    <tr>\n",
              "      <th>2</th>\n",
              "      <td>2008</td>\n",
              "      <td>4</td>\n",
              "      <td>19</td>\n",
              "      <td>9</td>\n",
              "      <td>8</td>\n",
              "      <td>0</td>\n",
              "      <td>7</td>\n",
              "      <td>6</td>\n",
              "      <td>6</td>\n",
              "      <td>0</td>\n",
              "      <td>7</td>\n",
              "      <td>0</td>\n",
              "      <td>6</td>\n",
              "      <td>13</td>\n",
              "    </tr>\n",
              "    <tr>\n",
              "      <th>3</th>\n",
              "      <td>2008</td>\n",
              "      <td>4</td>\n",
              "      <td>20</td>\n",
              "      <td>22</td>\n",
              "      <td>33</td>\n",
              "      <td>0</td>\n",
              "      <td>1</td>\n",
              "      <td>3</td>\n",
              "      <td>1</td>\n",
              "      <td>0</td>\n",
              "      <td>3</td>\n",
              "      <td>0</td>\n",
              "      <td>39</td>\n",
              "      <td>12</td>\n",
              "    </tr>\n",
              "    <tr>\n",
              "      <th>4</th>\n",
              "      <td>2008</td>\n",
              "      <td>4</td>\n",
              "      <td>20</td>\n",
              "      <td>21</td>\n",
              "      <td>7</td>\n",
              "      <td>0</td>\n",
              "      <td>2</td>\n",
              "      <td>4</td>\n",
              "      <td>4</td>\n",
              "      <td>0</td>\n",
              "      <td>2</td>\n",
              "      <td>0</td>\n",
              "      <td>8</td>\n",
              "      <td>19</td>\n",
              "    </tr>\n",
              "    <tr>\n",
              "      <th>...</th>\n",
              "      <td>...</td>\n",
              "      <td>...</td>\n",
              "      <td>...</td>\n",
              "      <td>...</td>\n",
              "      <td>...</td>\n",
              "      <td>...</td>\n",
              "      <td>...</td>\n",
              "      <td>...</td>\n",
              "      <td>...</td>\n",
              "      <td>...</td>\n",
              "      <td>...</td>\n",
              "      <td>...</td>\n",
              "      <td>...</td>\n",
              "      <td>...</td>\n",
              "    </tr>\n",
              "    <tr>\n",
              "      <th>811</th>\n",
              "      <td>2020</td>\n",
              "      <td>9</td>\n",
              "      <td>28</td>\n",
              "      <td>11</td>\n",
              "      <td>6</td>\n",
              "      <td>0</td>\n",
              "      <td>3</td>\n",
              "      <td>1</td>\n",
              "      <td>1</td>\n",
              "      <td>1</td>\n",
              "      <td>3</td>\n",
              "      <td>1</td>\n",
              "      <td>28</td>\n",
              "      <td>27</td>\n",
              "    </tr>\n",
              "    <tr>\n",
              "      <th>812</th>\n",
              "      <td>2020</td>\n",
              "      <td>11</td>\n",
              "      <td>5</td>\n",
              "      <td>11</td>\n",
              "      <td>6</td>\n",
              "      <td>0</td>\n",
              "      <td>1</td>\n",
              "      <td>14</td>\n",
              "      <td>14</td>\n",
              "      <td>1</td>\n",
              "      <td>1</td>\n",
              "      <td>0</td>\n",
              "      <td>13</td>\n",
              "      <td>25</td>\n",
              "    </tr>\n",
              "    <tr>\n",
              "      <th>813</th>\n",
              "      <td>2020</td>\n",
              "      <td>11</td>\n",
              "      <td>6</td>\n",
              "      <td>0</td>\n",
              "      <td>28</td>\n",
              "      <td>0</td>\n",
              "      <td>3</td>\n",
              "      <td>10</td>\n",
              "      <td>10</td>\n",
              "      <td>1</td>\n",
              "      <td>10</td>\n",
              "      <td>0</td>\n",
              "      <td>30</td>\n",
              "      <td>34</td>\n",
              "    </tr>\n",
              "    <tr>\n",
              "      <th>814</th>\n",
              "      <td>2020</td>\n",
              "      <td>11</td>\n",
              "      <td>8</td>\n",
              "      <td>0</td>\n",
              "      <td>28</td>\n",
              "      <td>0</td>\n",
              "      <td>14</td>\n",
              "      <td>10</td>\n",
              "      <td>14</td>\n",
              "      <td>0</td>\n",
              "      <td>14</td>\n",
              "      <td>0</td>\n",
              "      <td>30</td>\n",
              "      <td>34</td>\n",
              "    </tr>\n",
              "    <tr>\n",
              "      <th>815</th>\n",
              "      <td>2020</td>\n",
              "      <td>11</td>\n",
              "      <td>10</td>\n",
              "      <td>11</td>\n",
              "      <td>6</td>\n",
              "      <td>0</td>\n",
              "      <td>14</td>\n",
              "      <td>1</td>\n",
              "      <td>14</td>\n",
              "      <td>0</td>\n",
              "      <td>1</td>\n",
              "      <td>0</td>\n",
              "      <td>13</td>\n",
              "      <td>25</td>\n",
              "    </tr>\n",
              "  </tbody>\n",
              "</table>\n",
              "<p>816 rows × 14 columns</p>\n",
              "</div>"
            ],
            "text/plain": [
              "     year  month  day  city  ...  winner  eliminator  umpire1  umpire2\n",
              "0    2008      4   18     2  ...       2           0        7       29\n",
              "1    2008      4   19     6  ...       5           0       26       40\n",
              "2    2008      4   19     9  ...       7           0        6       13\n",
              "3    2008      4   20    22  ...       3           0       39       12\n",
              "4    2008      4   20    21  ...       2           0        8       19\n",
              "..    ...    ...  ...   ...  ...     ...         ...      ...      ...\n",
              "811  2020      9   28    11  ...       3           1       28       27\n",
              "812  2020     11    5    11  ...       1           0       13       25\n",
              "813  2020     11    6     0  ...      10           0       30       34\n",
              "814  2020     11    8     0  ...      14           0       30       34\n",
              "815  2020     11   10    11  ...       1           0       13       25\n",
              "\n",
              "[816 rows x 14 columns]"
            ]
          },
          "metadata": {
            "tags": []
          },
          "execution_count": 412
        }
      ]
    },
    {
      "cell_type": "code",
      "metadata": {
        "colab": {
          "base_uri": "https://localhost:8080/"
        },
        "id": "beGKS4vsn6sx",
        "outputId": "0062e718-d732-406e-eaeb-f4993e7fca01"
      },
      "source": [
        "ipl_5.info()"
      ],
      "execution_count": 413,
      "outputs": [
        {
          "output_type": "stream",
          "text": [
            "<class 'pandas.core.frame.DataFrame'>\n",
            "Int64Index: 816 entries, 0 to 815\n",
            "Data columns (total 14 columns):\n",
            " #   Column         Non-Null Count  Dtype\n",
            "---  ------         --------------  -----\n",
            " 0   year           816 non-null    int64\n",
            " 1   month          816 non-null    int64\n",
            " 2   day            816 non-null    int64\n",
            " 3   city           816 non-null    int64\n",
            " 4   venue          816 non-null    int64\n",
            " 5   neutral_venue  816 non-null    int64\n",
            " 6   team1          816 non-null    int64\n",
            " 7   team2          816 non-null    int64\n",
            " 8   toss_winner    816 non-null    int64\n",
            " 9   toss_decision  816 non-null    int64\n",
            " 10  winner         816 non-null    int64\n",
            " 11  eliminator     816 non-null    int64\n",
            " 12  umpire1        816 non-null    int64\n",
            " 13  umpire2        816 non-null    int64\n",
            "dtypes: int64(14)\n",
            "memory usage: 95.6 KB\n"
          ],
          "name": "stdout"
        }
      ]
    },
    {
      "cell_type": "code",
      "metadata": {
        "colab": {
          "base_uri": "https://localhost:8080/",
          "height": 1000
        },
        "id": "fdUfRVDun_nd",
        "outputId": "2d52018c-fc38-4c05-ffcf-bed220046df5"
      },
      "source": [
        "ipl_5.hist(figsize = (20,20))"
      ],
      "execution_count": 414,
      "outputs": [
        {
          "output_type": "execute_result",
          "data": {
            "text/plain": [
              "array([[<matplotlib.axes._subplots.AxesSubplot object at 0x7f09c39dfe10>,\n",
              "        <matplotlib.axes._subplots.AxesSubplot object at 0x7f09c3943590>,\n",
              "        <matplotlib.axes._subplots.AxesSubplot object at 0x7f09c3978690>,\n",
              "        <matplotlib.axes._subplots.AxesSubplot object at 0x7f09c3929c10>],\n",
              "       [<matplotlib.axes._subplots.AxesSubplot object at 0x7f09c38e61d0>,\n",
              "        <matplotlib.axes._subplots.AxesSubplot object at 0x7f09c3897750>,\n",
              "        <matplotlib.axes._subplots.AxesSubplot object at 0x7f09c384bd50>,\n",
              "        <matplotlib.axes._subplots.AxesSubplot object at 0x7f09c380d250>],\n",
              "       [<matplotlib.axes._subplots.AxesSubplot object at 0x7f09c380d290>,\n",
              "        <matplotlib.axes._subplots.AxesSubplot object at 0x7f09c37c3910>,\n",
              "        <matplotlib.axes._subplots.AxesSubplot object at 0x7f09c37b9290>,\n",
              "        <matplotlib.axes._subplots.AxesSubplot object at 0x7f09c3771790>],\n",
              "       [<matplotlib.axes._subplots.AxesSubplot object at 0x7f09c3727cd0>,\n",
              "        <matplotlib.axes._subplots.AxesSubplot object at 0x7f09c36e7290>,\n",
              "        <matplotlib.axes._subplots.AxesSubplot object at 0x7f09c369e810>,\n",
              "        <matplotlib.axes._subplots.AxesSubplot object at 0x7f09c3650d90>]],\n",
              "      dtype=object)"
            ]
          },
          "metadata": {
            "tags": []
          },
          "execution_count": 414
        },
        {
          "output_type": "display_data",
          "data": {
            "image/png": "[encoded data removed]",
            "text/plain": [
              "<Figure size 1440x1440 with 16 Axes>"
            ]
          },
          "metadata": {
            "tags": []
          }
        }
      ]
    },
    {
      "cell_type": "code",
      "metadata": {
        "colab": {
          "base_uri": "https://localhost:8080/",
          "height": 502
        },
        "id": "ftly2ZHspHgi",
        "outputId": "e176c423-1527-41d2-ea9b-7c57f9529111"
      },
      "source": [
        "ipl_5['winner'].hist(bins=50)"
      ],
      "execution_count": 415,
      "outputs": [
        {
          "output_type": "execute_result",
          "data": {
            "text/plain": [
              "<matplotlib.axes._subplots.AxesSubplot at 0x7f09c35c4510>"
            ]
          },
          "metadata": {
            "tags": []
          },
          "execution_count": 415
        },
        {
          "output_type": "display_data",
          "data": {
            "image/png": "[encoded data removed]",
            "text/plain": [
              "<Figure size 864x576 with 1 Axes>"
            ]
          },
          "metadata": {
            "tags": []
          }
        }
      ]
    },
    {
      "cell_type": "code",
      "metadata": {
        "colab": {
          "base_uri": "https://localhost:8080/",
          "height": 502
        },
        "id": "qUBuPYvQpIDs",
        "outputId": "172304f3-0c45-4c15-fc42-4cce24bd8204"
      },
      "source": [
        "ipl_5['toss_winner'].hist(bins=50)"
      ],
      "execution_count": 416,
      "outputs": [
        {
          "output_type": "execute_result",
          "data": {
            "text/plain": [
              "<matplotlib.axes._subplots.AxesSubplot at 0x7f09c31971d0>"
            ]
          },
          "metadata": {
            "tags": []
          },
          "execution_count": 416
        },
        {
          "output_type": "display_data",
          "data": {
            "image/png": "[encoded data removed]",
            "text/plain": [
              "<Figure size 864x576 with 1 Axes>"
            ]
          },
          "metadata": {
            "tags": []
          }
        }
      ]
    },
    {
      "cell_type": "code",
      "metadata": {
        "colab": {
          "base_uri": "https://localhost:8080/"
        },
        "id": "FRLhAlAfo8u4",
        "outputId": "85308780-c5e0-4a33-f72f-a77db159d999"
      },
      "source": [
        "ipl_5.isnull().sum()"
      ],
      "execution_count": 417,
      "outputs": [
        {
          "output_type": "execute_result",
          "data": {
            "text/plain": [
              "year             0\n",
              "month            0\n",
              "day              0\n",
              "city             0\n",
              "venue            0\n",
              "neutral_venue    0\n",
              "team1            0\n",
              "team2            0\n",
              "toss_winner      0\n",
              "toss_decision    0\n",
              "winner           0\n",
              "eliminator       0\n",
              "umpire1          0\n",
              "umpire2          0\n",
              "dtype: int64"
            ]
          },
          "metadata": {
            "tags": []
          },
          "execution_count": 417
        }
      ]
    },
    {
      "cell_type": "code",
      "metadata": {
        "colab": {
          "base_uri": "https://localhost:8080/",
          "height": 559
        },
        "id": "TtCS9GXvpwFk",
        "outputId": "c77e3f3a-896e-41d3-9b86-ab1b863232ac"
      },
      "source": [
        "# Confusion Matrix\n",
        "\n",
        "import seaborn as sns\n",
        "sns.set(rc={'figure.figsize': (12,8)})\n",
        "ax = sns.heatmap(ipl_5.corr(), annot=True)"
      ],
      "execution_count": 418,
      "outputs": [
        {
          "output_type": "display_data",
          "data": {
            "image/png": "[encoded data removed]",
            "text/plain": [
              "<Figure size 864x576 with 2 Axes>"
            ]
          },
          "metadata": {
            "tags": []
          }
        }
      ]
    },
    {
      "cell_type": "code",
      "metadata": {
        "id": "xzVv1mf3s8oq"
      },
      "source": [
        "def correlation(dataset, threshold):\n",
        "    col_corr = []\n",
        "    corr_matrix = dataset.corr()\n",
        "    for i in range(len(corr_matrix.columns)):\n",
        "        for j in range(i):\n",
        "            if abs(corr_matrix.iloc[i, j]) >= threshold and i!=j:\n",
        "                colname = corr_matrix.columns[i]\n",
        "                col_corr.append(colname)\n",
        "    return col_corr"
      ],
      "execution_count": 419,
      "outputs": []
    },
    {
      "cell_type": "code",
      "metadata": {
        "colab": {
          "base_uri": "https://localhost:8080/"
        },
        "id": "zHUSNN83tI2Z",
        "outputId": "3657707c-7a1c-47ca-9d42-418e1b4d5e0a"
      },
      "source": [
        "corr_columns = correlation(ipl_5, 0.1)\n",
        "corr_columns = list(dict.fromkeys(corr_columns))\n",
        "corr_columns"
      ],
      "execution_count": 420,
      "outputs": [
        {
          "output_type": "execute_result",
          "data": {
            "text/plain": [
              "['month',\n",
              " 'day',\n",
              " 'neutral_venue',\n",
              " 'team1',\n",
              " 'team2',\n",
              " 'toss_winner',\n",
              " 'toss_decision',\n",
              " 'winner',\n",
              " 'umpire2']"
            ]
          },
          "metadata": {
            "tags": []
          },
          "execution_count": 420
        }
      ]
    },
    {
      "cell_type": "code",
      "metadata": {
        "colab": {
          "base_uri": "https://localhost:8080/"
        },
        "id": "AoVnOg5OqA3d",
        "outputId": "b0fa4e9d-c841-4b5c-d3b6-0077e0c89079"
      },
      "source": [
        "from sklearn.model_selection import train_test_split\n",
        "\n",
        "train_df, test_df = train_test_split(ipl_5, test_size=0.2, random_state=5)\n",
        "\n",
        "print(train_df.columns)\n",
        "print(train_df.shape)\n",
        "\n",
        "print(test_df.columns)\n",
        "print(test_df.shape)"
      ],
      "execution_count": 421,
      "outputs": [
        {
          "output_type": "stream",
          "text": [
            "Index(['year', 'month', 'day', 'city', 'venue', 'neutral_venue', 'team1',\n",
            "       'team2', 'toss_winner', 'toss_decision', 'winner', 'eliminator',\n",
            "       'umpire1', 'umpire2'],\n",
            "      dtype='object')\n",
            "(652, 14)\n",
            "Index(['year', 'month', 'day', 'city', 'venue', 'neutral_venue', 'team1',\n",
            "       'team2', 'toss_winner', 'toss_decision', 'winner', 'eliminator',\n",
            "       'umpire1', 'umpire2'],\n",
            "      dtype='object')\n",
            "(164, 14)\n"
          ],
          "name": "stdout"
        }
      ]
    },
    {
      "cell_type": "code",
      "metadata": {
        "id": "spq1zqNYrnM-"
      },
      "source": [
        "from sklearn.linear_model import LogisticRegression\n",
        "from sklearn.ensemble import RandomForestClassifier\n",
        "from sklearn.metrics import accuracy_score\n",
        "from sklearn.model_selection import cross_val_score\n",
        "import warnings\n",
        "warnings.filterwarnings('ignore')\n",
        "\n",
        "def print_model_scores(model, data, predictor, target):\n",
        "    model.fit(data[predictor], data[target])\n",
        "    predictions = model.predict(data[predictor])\n",
        "    accuracy = accuracy_score(predictions, data[target])\n",
        "    print('Accuracy: %s' % '{0:.2}'.format(accuracy))\n",
        "    scores = cross_val_score(model, data[predictor], data[target], scoring=\"neg_mean_squared_error\", cv=5)\n",
        "    print('Cross-Validation Scores: {}'.format(np.sqrt(-scores)))\n",
        "    print(f'Average RMSE: {np.sqrt(-scores).mean()}')"
      ],
      "execution_count": 422,
      "outputs": []
    },
    {
      "cell_type": "code",
      "metadata": {
        "id": "Ns4-ORe6rr4H",
        "colab": {
          "base_uri": "https://localhost:8080/"
        },
        "outputId": "41cd2190-0590-4884-de4d-568366de4b1f"
      },
      "source": [
        "# Logistic Regression\n",
        "\n",
        "target_var = [\"winner\"]\n",
        "predictor_var = ['year', 'month', 'day', 'city', 'venue', 'neutral_venue', 'team1',\n",
        "       'team2', 'toss_winner', 'toss_decision', 'eliminator',\n",
        "       'umpire1', 'umpire2']\n",
        "model = LogisticRegression()\n",
        "\n",
        "print_model_scores(model, train_df, predictor_var, target_var)"
      ],
      "execution_count": 423,
      "outputs": [
        {
          "output_type": "stream",
          "text": [
            "Accuracy: 0.3\n",
            "Cross-Validation Scores: [4.04082223 3.79533663 4.01918476 3.88191071 3.5970073 ]\n",
            "Average RMSE: 3.866852327291803\n"
          ],
          "name": "stdout"
        }
      ]
    },
    {
      "cell_type": "code",
      "metadata": {
        "colab": {
          "base_uri": "https://localhost:8080/"
        },
        "id": "5tM1oQvgt4p3",
        "outputId": "9b081802-824f-4056-d7d0-2dd4716e4da2"
      },
      "source": [
        "# Random Forest Classifier\n",
        "\n",
        "model = RandomForestClassifier()\n",
        "\n",
        "print_model_scores(model, train_df, predictor_var, target_var)"
      ],
      "execution_count": 424,
      "outputs": [
        {
          "output_type": "stream",
          "text": [
            "Accuracy: 1.0\n",
            "Cross-Validation Scores: [3.96357461 3.62560866 3.44852254 3.73651421 3.33973744]\n",
            "Average RMSE: 3.62279149134212\n"
          ],
          "name": "stdout"
        }
      ]
    },
    {
      "cell_type": "code",
      "metadata": {
        "colab": {
          "base_uri": "https://localhost:8080/"
        },
        "id": "Ud6a-oHnxFYh",
        "outputId": "afd6a090-eb21-4224-f903-331c539c744f"
      },
      "source": [
        "train_df.columns"
      ],
      "execution_count": 425,
      "outputs": [
        {
          "output_type": "execute_result",
          "data": {
            "text/plain": [
              "Index(['year', 'month', 'day', 'city', 'venue', 'neutral_venue', 'team1',\n",
              "       'team2', 'toss_winner', 'toss_decision', 'winner', 'eliminator',\n",
              "       'umpire1', 'umpire2'],\n",
              "      dtype='object')"
            ]
          },
          "metadata": {
            "tags": []
          },
          "execution_count": 425
        }
      ]
    },
    {
      "cell_type": "code",
      "metadata": {
        "colab": {
          "base_uri": "https://localhost:8080/"
        },
        "id": "PfEGSvKO0ifn",
        "outputId": "dd6aaa97-7e1d-41ec-8eaf-8180b0450fe5"
      },
      "source": [
        "ipl['neutral_venue'].value_counts().sort_index()"
      ],
      "execution_count": 426,
      "outputs": [
        {
          "output_type": "execute_result",
          "data": {
            "text/plain": [
              "0    739\n",
              "1     77\n",
              "Name: neutral_venue, dtype: int64"
            ]
          },
          "metadata": {
            "tags": []
          },
          "execution_count": 426
        }
      ]
    },
    {
      "cell_type": "code",
      "metadata": {
        "colab": {
          "base_uri": "https://localhost:8080/"
        },
        "id": "i1qTV1gR006Q",
        "outputId": "3695df0d-1960-4984-92b7-f99528c27fe0"
      },
      "source": [
        "ipl['eliminator'].value_counts().sort_index()"
      ],
      "execution_count": 427,
      "outputs": [
        {
          "output_type": "execute_result",
          "data": {
            "text/plain": [
              "N    799\n",
              "Y     13\n",
              "Name: eliminator, dtype: int64"
            ]
          },
          "metadata": {
            "tags": []
          },
          "execution_count": 427
        }
      ]
    },
    {
      "cell_type": "code",
      "metadata": {
        "colab": {
          "base_uri": "https://localhost:8080/"
        },
        "id": "Y2WOlUpc2bfQ",
        "outputId": "9ebba468-732e-4d27-e8ed-2550e0b7d2f2"
      },
      "source": [
        "ipl['toss_decision'].value_counts().sort_index()"
      ],
      "execution_count": 471,
      "outputs": [
        {
          "output_type": "execute_result",
          "data": {
            "text/plain": [
              "bat      320\n",
              "field    496\n",
              "Name: toss_decision, dtype: int64"
            ]
          },
          "metadata": {
            "tags": []
          },
          "execution_count": 471
        }
      ]
    },
    {
      "cell_type": "code",
      "metadata": {
        "colab": {
          "base_uri": "https://localhost:8080/"
        },
        "id": "GcBRqPVG8AcS",
        "outputId": "c410b772-4725-400f-9628-0747ad2f804e"
      },
      "source": [
        ""
      ],
      "execution_count": 479,
      "outputs": [
        {
          "output_type": "stream",
          "text": [
            "[2012, 5, 20, 14, 22, 0, 4, 3, 3, 1, 4, 0, 37, 38]\n"
          ],
          "name": "stdout"
        }
      ]
    },
    {
      "cell_type": "code",
      "metadata": {
        "colab": {
          "base_uri": "https://localhost:8080/"
        },
        "id": "2O1C-3IeuHiv",
        "outputId": "24a55082-2403-468d-9c3a-7d6e4f4a326d"
      },
      "source": [
        "# Sample Test\n",
        "import re\n",
        "t = test_df.sample().to_numpy().tolist()\n",
        "t = str(t)[1:-1]\n",
        "temp = re.findall(r'\\d+', t)\n",
        "res = list(map(int, temp))\n",
        "\n",
        "year, month, day, city, venue, neutral_venue, team1, team2, toss_winner, toss_decision, winner, eliminator, umpire1, umpire2 = res\n",
        "\n",
        "inp = [year,\n",
        "       month,\n",
        "       day,\n",
        "       city,\n",
        "       venue,\n",
        "       neutral_venue,\n",
        "       team1,\n",
        "       team2,\n",
        "       toss_winner,\n",
        "       toss_decision,\n",
        "       eliminator,\n",
        "       umpire1,\n",
        "       umpire2,\n",
        "]\n",
        "\n",
        "print(inp)\n",
        "inp = np.array(inp).reshape((1, -1))\n",
        "print(inp)\n",
        "output = model.predict(inp)\n",
        "print(output)\n",
        "print(f\"team1: {list(team_encodings.keys())[list(team_encode_dict['team1'].values()).index(team1)]}\")\n",
        "print(f\"team2: {list(team_encodings.keys())[list(team_encode_dict['team1'].values()).index(team2)]}\")\n",
        "print(f\"Actual winner is: {list(team_encodings.keys())[list(team_encode_dict['team1'].values()).index(winner)]}\")\n",
        "print(f\"The winner would be: {list(team_encodings.keys())[list(team_encode_dict['team1'].values()).index(output)]}\")"
      ],
      "execution_count": 541,
      "outputs": [
        {
          "output_type": "stream",
          "text": [
            "[2010, 3, 28, 1, 23, 0, 6, 5, 6, 0, 0, 43, 38]\n",
            "[[2010    3   28    1   23    0    6    5    6    0    0   43   38]]\n",
            "[6]\n",
            "team1: Rajasthan Royals\n",
            "team2: Chennai Super Kings\n",
            "Actual winner is: Rajasthan Royals\n",
            "The winner would be: Rajasthan Royals\n"
          ],
          "name": "stdout"
        }
      ]
    },
    {
      "cell_type": "code",
      "metadata": {
        "colab": {
          "base_uri": "https://localhost:8080/"
        },
        "id": "g0Udc5_lWRs-",
        "outputId": "046f7042-1878-42fc-b1d4-77b02cdbb635"
      },
      "source": [
        "pd.Series(index=predictor_var, data=model.feature_importances_)"
      ],
      "execution_count": 542,
      "outputs": [
        {
          "output_type": "execute_result",
          "data": {
            "text/plain": [
              "year             0.081041\n",
              "month            0.039925\n",
              "day              0.103774\n",
              "city             0.078880\n",
              "venue            0.085951\n",
              "neutral_venue    0.011963\n",
              "team1            0.139838\n",
              "team2            0.128586\n",
              "toss_winner      0.116149\n",
              "toss_decision    0.023555\n",
              "eliminator       0.003065\n",
              "umpire1          0.093497\n",
              "umpire2          0.093775\n",
              "dtype: float64"
            ]
          },
          "metadata": {
            "tags": []
          },
          "execution_count": 542
        }
      ]
    }
  ]
}