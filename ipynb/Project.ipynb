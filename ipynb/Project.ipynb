{
  "nbformat": 4,
  "nbformat_minor": 0,
  "metadata": {
    "colab": {
      "name": "Project.ipynb",
      "provenance": [],
      "authorship_tag": "ABX9TyOZbdefC0Maycimr7zTIfiS",
      "include_colab_link": true
    },
    "kernelspec": {
      "name": "python3",
      "display_name": "Python 3"
    },
    "language_info": {
      "name": "python"
    }
  },
  "cells": [
    {
      "cell_type": "markdown",
      "metadata": {
        "id": "view-in-github",
        "colab_type": "text"
      },
      "source": [
        "<a href=\"https://colab.research.google.com/github/nahidosen/Group_5_CSE445_3_Spring_21/blob/main/ipynb/Project.ipynb\" target=\"_parent\"><img src=\"https://colab.research.google.com/assets/colab-badge.svg\" alt=\"Open In Colab\"/></a>"
      ]
    },
    {
      "cell_type": "code",
      "metadata": {
        "colab": {
          "base_uri": "https://localhost:8080/"
        },
        "id": "2Nm_NxUaHBSp",
        "outputId": "d07b3e6e-4856-40e6-f2e9-8f033e2a73da"
      },
      "source": [
        "!pip install scikit-plot"
      ],
      "execution_count": 196,
      "outputs": [
        {
          "output_type": "stream",
          "text": [
            "Requirement already satisfied: scikit-plot in /usr/local/lib/python3.7/dist-packages (0.3.7)\n",
            "Requirement already satisfied: joblib>=0.10 in /usr/local/lib/python3.7/dist-packages (from scikit-plot) (1.0.1)\n",
            "Requirement already satisfied: scipy>=0.9 in /usr/local/lib/python3.7/dist-packages (from scikit-plot) (1.4.1)\n",
            "Requirement already satisfied: matplotlib>=1.4.0 in /usr/local/lib/python3.7/dist-packages (from scikit-plot) (3.2.2)\n",
            "Requirement already satisfied: scikit-learn>=0.18 in /usr/local/lib/python3.7/dist-packages (from scikit-plot) (0.22.2.post1)\n",
            "Requirement already satisfied: numpy>=1.13.3 in /usr/local/lib/python3.7/dist-packages (from scipy>=0.9->scikit-plot) (1.19.5)\n",
            "Requirement already satisfied: cycler>=0.10 in /usr/local/lib/python3.7/dist-packages (from matplotlib>=1.4.0->scikit-plot) (0.10.0)\n",
            "Requirement already satisfied: pyparsing!=2.0.4,!=2.1.2,!=2.1.6,>=2.0.1 in /usr/local/lib/python3.7/dist-packages (from matplotlib>=1.4.0->scikit-plot) (2.4.7)\n",
            "Requirement already satisfied: python-dateutil>=2.1 in /usr/local/lib/python3.7/dist-packages (from matplotlib>=1.4.0->scikit-plot) (2.8.1)\n",
            "Requirement already satisfied: kiwisolver>=1.0.1 in /usr/local/lib/python3.7/dist-packages (from matplotlib>=1.4.0->scikit-plot) (1.3.1)\n",
            "Requirement already satisfied: six in /usr/local/lib/python3.7/dist-packages (from cycler>=0.10->matplotlib>=1.4.0->scikit-plot) (1.15.0)\n"
          ],
          "name": "stdout"
        }
      ]
    },
    {
      "cell_type": "code",
      "metadata": {
        "id": "IOfFEWZZsWVY"
      },
      "source": [
        "# Importing necessary packages\n",
        "\n",
        "import pandas as pd\n",
        "import numpy as np\n",
        "import matplotlib.pyplot as plt\n",
        "plt.style.use('ggplot')\n",
        "import seaborn as sns\n",
        "import scikitplot as skplt\n",
        "from sklearn.impute import SimpleImputer\n",
        "from sklearn import metrics\n",
        "from sklearn.model_selection import cross_val_score"
      ],
      "execution_count": 197,
      "outputs": []
    },
    {
      "cell_type": "code",
      "metadata": {
        "colab": {
          "base_uri": "https://localhost:8080/",
          "height": 830
        },
        "id": "LXdNuULVDDSR",
        "outputId": "4956e6c5-1bda-49ff-afa8-bc3b15fd11c7"
      },
      "source": [
        "data = 'https://raw.githubusercontent.com/nahidosen/Group_5_CSE445_3_Spring_21/main/dataset/IPL%20Matches%202008-2020.csv'\n",
        "\n",
        "ipl = pd.read_csv(data)\n",
        "ipl"
      ],
      "execution_count": 198,
      "outputs": [
        {
          "output_type": "execute_result",
          "data": {
            "text/html": [
              "<div>\n",
              "<style scoped>\n",
              "    .dataframe tbody tr th:only-of-type {\n",
              "        vertical-align: middle;\n",
              "    }\n",
              "\n",
              "    .dataframe tbody tr th {\n",
              "        vertical-align: top;\n",
              "    }\n",
              "\n",
              "    .dataframe thead th {\n",
              "        text-align: right;\n",
              "    }\n",
              "</style>\n",
              "<table border=\"1\" class=\"dataframe\">\n",
              "  <thead>\n",
              "    <tr style=\"text-align: right;\">\n",
              "      <th></th>\n",
              "      <th>id</th>\n",
              "      <th>city</th>\n",
              "      <th>date</th>\n",
              "      <th>player_of_match</th>\n",
              "      <th>venue</th>\n",
              "      <th>neutral_venue</th>\n",
              "      <th>team1</th>\n",
              "      <th>team2</th>\n",
              "      <th>toss_winner</th>\n",
              "      <th>toss_decision</th>\n",
              "      <th>winner</th>\n",
              "      <th>result</th>\n",
              "      <th>result_margin</th>\n",
              "      <th>eliminator</th>\n",
              "      <th>method</th>\n",
              "      <th>umpire1</th>\n",
              "      <th>umpire2</th>\n",
              "    </tr>\n",
              "  </thead>\n",
              "  <tbody>\n",
              "    <tr>\n",
              "      <th>0</th>\n",
              "      <td>335982</td>\n",
              "      <td>Bangalore</td>\n",
              "      <td>2008-04-18</td>\n",
              "      <td>BB McCullum</td>\n",
              "      <td>M Chinnaswamy Stadium</td>\n",
              "      <td>0</td>\n",
              "      <td>Royal Challengers Bangalore</td>\n",
              "      <td>Kolkata Knight Riders</td>\n",
              "      <td>Royal Challengers Bangalore</td>\n",
              "      <td>field</td>\n",
              "      <td>Kolkata Knight Riders</td>\n",
              "      <td>runs</td>\n",
              "      <td>140.0</td>\n",
              "      <td>N</td>\n",
              "      <td>NaN</td>\n",
              "      <td>Asad Rauf</td>\n",
              "      <td>RE Koertzen</td>\n",
              "    </tr>\n",
              "    <tr>\n",
              "      <th>1</th>\n",
              "      <td>335983</td>\n",
              "      <td>Chandigarh</td>\n",
              "      <td>2008-04-19</td>\n",
              "      <td>MEK Hussey</td>\n",
              "      <td>Punjab Cricket Association Stadium, Mohali</td>\n",
              "      <td>0</td>\n",
              "      <td>Kings XI Punjab</td>\n",
              "      <td>Chennai Super Kings</td>\n",
              "      <td>Chennai Super Kings</td>\n",
              "      <td>bat</td>\n",
              "      <td>Chennai Super Kings</td>\n",
              "      <td>runs</td>\n",
              "      <td>33.0</td>\n",
              "      <td>N</td>\n",
              "      <td>NaN</td>\n",
              "      <td>MR Benson</td>\n",
              "      <td>SL Shastri</td>\n",
              "    </tr>\n",
              "    <tr>\n",
              "      <th>2</th>\n",
              "      <td>335984</td>\n",
              "      <td>Delhi</td>\n",
              "      <td>2008-04-19</td>\n",
              "      <td>MF Maharoof</td>\n",
              "      <td>Feroz Shah Kotla</td>\n",
              "      <td>0</td>\n",
              "      <td>Delhi Daredevils</td>\n",
              "      <td>Rajasthan Royals</td>\n",
              "      <td>Rajasthan Royals</td>\n",
              "      <td>bat</td>\n",
              "      <td>Delhi Daredevils</td>\n",
              "      <td>wickets</td>\n",
              "      <td>9.0</td>\n",
              "      <td>N</td>\n",
              "      <td>NaN</td>\n",
              "      <td>Aleem Dar</td>\n",
              "      <td>GA Pratapkumar</td>\n",
              "    </tr>\n",
              "    <tr>\n",
              "      <th>3</th>\n",
              "      <td>335985</td>\n",
              "      <td>Mumbai</td>\n",
              "      <td>2008-04-20</td>\n",
              "      <td>MV Boucher</td>\n",
              "      <td>Wankhede Stadium</td>\n",
              "      <td>0</td>\n",
              "      <td>Mumbai Indians</td>\n",
              "      <td>Royal Challengers Bangalore</td>\n",
              "      <td>Mumbai Indians</td>\n",
              "      <td>bat</td>\n",
              "      <td>Royal Challengers Bangalore</td>\n",
              "      <td>wickets</td>\n",
              "      <td>5.0</td>\n",
              "      <td>N</td>\n",
              "      <td>NaN</td>\n",
              "      <td>SJ Davis</td>\n",
              "      <td>DJ Harper</td>\n",
              "    </tr>\n",
              "    <tr>\n",
              "      <th>4</th>\n",
              "      <td>335986</td>\n",
              "      <td>Kolkata</td>\n",
              "      <td>2008-04-20</td>\n",
              "      <td>DJ Hussey</td>\n",
              "      <td>Eden Gardens</td>\n",
              "      <td>0</td>\n",
              "      <td>Kolkata Knight Riders</td>\n",
              "      <td>Deccan Chargers</td>\n",
              "      <td>Deccan Chargers</td>\n",
              "      <td>bat</td>\n",
              "      <td>Kolkata Knight Riders</td>\n",
              "      <td>wickets</td>\n",
              "      <td>5.0</td>\n",
              "      <td>N</td>\n",
              "      <td>NaN</td>\n",
              "      <td>BF Bowden</td>\n",
              "      <td>K Hariharan</td>\n",
              "    </tr>\n",
              "    <tr>\n",
              "      <th>...</th>\n",
              "      <td>...</td>\n",
              "      <td>...</td>\n",
              "      <td>...</td>\n",
              "      <td>...</td>\n",
              "      <td>...</td>\n",
              "      <td>...</td>\n",
              "      <td>...</td>\n",
              "      <td>...</td>\n",
              "      <td>...</td>\n",
              "      <td>...</td>\n",
              "      <td>...</td>\n",
              "      <td>...</td>\n",
              "      <td>...</td>\n",
              "      <td>...</td>\n",
              "      <td>...</td>\n",
              "      <td>...</td>\n",
              "      <td>...</td>\n",
              "    </tr>\n",
              "    <tr>\n",
              "      <th>811</th>\n",
              "      <td>1216547</td>\n",
              "      <td>Dubai</td>\n",
              "      <td>2020-09-28</td>\n",
              "      <td>AB de Villiers</td>\n",
              "      <td>Dubai International Cricket Stadium</td>\n",
              "      <td>0</td>\n",
              "      <td>Royal Challengers Bangalore</td>\n",
              "      <td>Mumbai Indians</td>\n",
              "      <td>Mumbai Indians</td>\n",
              "      <td>field</td>\n",
              "      <td>Royal Challengers Bangalore</td>\n",
              "      <td>tie</td>\n",
              "      <td>NaN</td>\n",
              "      <td>Y</td>\n",
              "      <td>NaN</td>\n",
              "      <td>Nitin Menon</td>\n",
              "      <td>PR Reiffel</td>\n",
              "    </tr>\n",
              "    <tr>\n",
              "      <th>812</th>\n",
              "      <td>1237177</td>\n",
              "      <td>Dubai</td>\n",
              "      <td>2020-11-05</td>\n",
              "      <td>JJ Bumrah</td>\n",
              "      <td>Dubai International Cricket Stadium</td>\n",
              "      <td>0</td>\n",
              "      <td>Mumbai Indians</td>\n",
              "      <td>Delhi Capitals</td>\n",
              "      <td>Delhi Capitals</td>\n",
              "      <td>field</td>\n",
              "      <td>Mumbai Indians</td>\n",
              "      <td>runs</td>\n",
              "      <td>57.0</td>\n",
              "      <td>N</td>\n",
              "      <td>NaN</td>\n",
              "      <td>CB Gaffaney</td>\n",
              "      <td>Nitin Menon</td>\n",
              "    </tr>\n",
              "    <tr>\n",
              "      <th>813</th>\n",
              "      <td>1237178</td>\n",
              "      <td>Abu Dhabi</td>\n",
              "      <td>2020-11-06</td>\n",
              "      <td>KS Williamson</td>\n",
              "      <td>Sheikh Zayed Stadium</td>\n",
              "      <td>0</td>\n",
              "      <td>Royal Challengers Bangalore</td>\n",
              "      <td>Sunrisers Hyderabad</td>\n",
              "      <td>Sunrisers Hyderabad</td>\n",
              "      <td>field</td>\n",
              "      <td>Sunrisers Hyderabad</td>\n",
              "      <td>wickets</td>\n",
              "      <td>6.0</td>\n",
              "      <td>N</td>\n",
              "      <td>NaN</td>\n",
              "      <td>PR Reiffel</td>\n",
              "      <td>S Ravi</td>\n",
              "    </tr>\n",
              "    <tr>\n",
              "      <th>814</th>\n",
              "      <td>1237180</td>\n",
              "      <td>Abu Dhabi</td>\n",
              "      <td>2020-11-08</td>\n",
              "      <td>MP Stoinis</td>\n",
              "      <td>Sheikh Zayed Stadium</td>\n",
              "      <td>0</td>\n",
              "      <td>Delhi Capitals</td>\n",
              "      <td>Sunrisers Hyderabad</td>\n",
              "      <td>Delhi Capitals</td>\n",
              "      <td>bat</td>\n",
              "      <td>Delhi Capitals</td>\n",
              "      <td>runs</td>\n",
              "      <td>17.0</td>\n",
              "      <td>N</td>\n",
              "      <td>NaN</td>\n",
              "      <td>PR Reiffel</td>\n",
              "      <td>S Ravi</td>\n",
              "    </tr>\n",
              "    <tr>\n",
              "      <th>815</th>\n",
              "      <td>1237181</td>\n",
              "      <td>Dubai</td>\n",
              "      <td>2020-11-10</td>\n",
              "      <td>TA Boult</td>\n",
              "      <td>Dubai International Cricket Stadium</td>\n",
              "      <td>0</td>\n",
              "      <td>Delhi Capitals</td>\n",
              "      <td>Mumbai Indians</td>\n",
              "      <td>Delhi Capitals</td>\n",
              "      <td>bat</td>\n",
              "      <td>Mumbai Indians</td>\n",
              "      <td>wickets</td>\n",
              "      <td>5.0</td>\n",
              "      <td>N</td>\n",
              "      <td>NaN</td>\n",
              "      <td>CB Gaffaney</td>\n",
              "      <td>Nitin Menon</td>\n",
              "    </tr>\n",
              "  </tbody>\n",
              "</table>\n",
              "<p>816 rows × 17 columns</p>\n",
              "</div>"
            ],
            "text/plain": [
              "          id        city        date  ... method      umpire1         umpire2\n",
              "0     335982   Bangalore  2008-04-18  ...    NaN    Asad Rauf     RE Koertzen\n",
              "1     335983  Chandigarh  2008-04-19  ...    NaN    MR Benson      SL Shastri\n",
              "2     335984       Delhi  2008-04-19  ...    NaN    Aleem Dar  GA Pratapkumar\n",
              "3     335985      Mumbai  2008-04-20  ...    NaN     SJ Davis       DJ Harper\n",
              "4     335986     Kolkata  2008-04-20  ...    NaN    BF Bowden     K Hariharan\n",
              "..       ...         ...         ...  ...    ...          ...             ...\n",
              "811  1216547       Dubai  2020-09-28  ...    NaN  Nitin Menon      PR Reiffel\n",
              "812  1237177       Dubai  2020-11-05  ...    NaN  CB Gaffaney     Nitin Menon\n",
              "813  1237178   Abu Dhabi  2020-11-06  ...    NaN   PR Reiffel          S Ravi\n",
              "814  1237180   Abu Dhabi  2020-11-08  ...    NaN   PR Reiffel          S Ravi\n",
              "815  1237181       Dubai  2020-11-10  ...    NaN  CB Gaffaney     Nitin Menon\n",
              "\n",
              "[816 rows x 17 columns]"
            ]
          },
          "metadata": {
            "tags": []
          },
          "execution_count": 198
        }
      ]
    },
    {
      "cell_type": "code",
      "metadata": {
        "colab": {
          "base_uri": "https://localhost:8080/"
        },
        "id": "mz620CKdJkdx",
        "outputId": "e3fba948-2f68-44ed-933f-ec7cf33a1093"
      },
      "source": [
        "ipl.columns"
      ],
      "execution_count": 199,
      "outputs": [
        {
          "output_type": "execute_result",
          "data": {
            "text/plain": [
              "Index(['id', 'city', 'date', 'player_of_match', 'venue', 'neutral_venue',\n",
              "       'team1', 'team2', 'toss_winner', 'toss_decision', 'winner', 'result',\n",
              "       'result_margin', 'eliminator', 'method', 'umpire1', 'umpire2'],\n",
              "      dtype='object')"
            ]
          },
          "metadata": {
            "tags": []
          },
          "execution_count": 199
        }
      ]
    },
    {
      "cell_type": "code",
      "metadata": {
        "colab": {
          "base_uri": "https://localhost:8080/"
        },
        "id": "ixvbzZq1GE0P",
        "outputId": "c7c2c78f-1d1c-43de-989d-49be8ad6bc36"
      },
      "source": [
        "ipl.info()"
      ],
      "execution_count": 200,
      "outputs": [
        {
          "output_type": "stream",
          "text": [
            "<class 'pandas.core.frame.DataFrame'>\n",
            "RangeIndex: 816 entries, 0 to 815\n",
            "Data columns (total 17 columns):\n",
            " #   Column           Non-Null Count  Dtype  \n",
            "---  ------           --------------  -----  \n",
            " 0   id               816 non-null    int64  \n",
            " 1   city             803 non-null    object \n",
            " 2   date             816 non-null    object \n",
            " 3   player_of_match  812 non-null    object \n",
            " 4   venue            816 non-null    object \n",
            " 5   neutral_venue    816 non-null    int64  \n",
            " 6   team1            816 non-null    object \n",
            " 7   team2            816 non-null    object \n",
            " 8   toss_winner      816 non-null    object \n",
            " 9   toss_decision    816 non-null    object \n",
            " 10  winner           812 non-null    object \n",
            " 11  result           812 non-null    object \n",
            " 12  result_margin    799 non-null    float64\n",
            " 13  eliminator       812 non-null    object \n",
            " 14  method           19 non-null     object \n",
            " 15  umpire1          816 non-null    object \n",
            " 16  umpire2          816 non-null    object \n",
            "dtypes: float64(1), int64(2), object(14)\n",
            "memory usage: 108.5+ KB\n"
          ],
          "name": "stdout"
        }
      ]
    },
    {
      "cell_type": "code",
      "metadata": {
        "id": "hrmRr-gJhRXg"
      },
      "source": [
        "#ipl_2['city'] = ipl['city'].astype(str)\n",
        "#ipl_2.info()"
      ],
      "execution_count": 201,
      "outputs": []
    },
    {
      "cell_type": "code",
      "metadata": {
        "colab": {
          "base_uri": "https://localhost:8080/"
        },
        "id": "WstiqDPtS5OU",
        "outputId": "057dfe8f-008e-4651-ba18-6d3af719e1ac"
      },
      "source": [
        "ipl_df.isnull().sum() "
      ],
      "execution_count": 202,
      "outputs": [
        {
          "output_type": "execute_result",
          "data": {
            "text/plain": [
              "id                   0\n",
              "city                13\n",
              "date                 0\n",
              "player_of_match      4\n",
              "venue                0\n",
              "neutral_venue        0\n",
              "team1                0\n",
              "team2                0\n",
              "toss_winner          0\n",
              "toss_decision        0\n",
              "winner               4\n",
              "result               4\n",
              "result_margin       17\n",
              "eliminator           4\n",
              "method             797\n",
              "umpire1              0\n",
              "umpire2              0\n",
              "dtype: int64"
            ]
          },
          "metadata": {
            "tags": []
          },
          "execution_count": 202
        }
      ]
    },
    {
      "cell_type": "code",
      "metadata": {
        "colab": {
          "base_uri": "https://localhost:8080/"
        },
        "id": "AwU5zK3aXXtv",
        "outputId": "dfeb700b-f800-48d5-96e4-351a02a5fdb2"
      },
      "source": [
        "ipl.nunique()"
      ],
      "execution_count": 203,
      "outputs": [
        {
          "output_type": "execute_result",
          "data": {
            "text/plain": [
              "id                 816\n",
              "city                32\n",
              "date               596\n",
              "player_of_match    233\n",
              "venue               36\n",
              "neutral_venue        2\n",
              "team1               15\n",
              "team2               15\n",
              "toss_winner         15\n",
              "toss_decision        2\n",
              "winner              15\n",
              "result               3\n",
              "result_margin       91\n",
              "eliminator           2\n",
              "method               1\n",
              "umpire1             48\n",
              "umpire2             47\n",
              "dtype: int64"
            ]
          },
          "metadata": {
            "tags": []
          },
          "execution_count": 203
        }
      ]
    },
    {
      "cell_type": "code",
      "metadata": {
        "colab": {
          "base_uri": "https://localhost:8080/"
        },
        "id": "YYDI1siBJQ4A",
        "outputId": "4819902e-2307-4183-d01b-d1b58c2f0e15"
      },
      "source": [
        "ipl['city'].value_counts().sort_index()"
      ],
      "execution_count": 204,
      "outputs": [
        {
          "output_type": "execute_result",
          "data": {
            "text/plain": [
              "Abu Dhabi          29\n",
              "Ahmedabad          12\n",
              "Bangalore          65\n",
              "Bengaluru          15\n",
              "Bloemfontein        2\n",
              "Cape Town           7\n",
              "Centurion          12\n",
              "Chandigarh         56\n",
              "Chennai            57\n",
              "Cuttack             7\n",
              "Delhi              74\n",
              "Dharamsala          9\n",
              "Dubai              26\n",
              "Durban             15\n",
              "East London         3\n",
              "Hyderabad          64\n",
              "Indore              9\n",
              "Jaipur             47\n",
              "Johannesburg        8\n",
              "Kanpur              4\n",
              "Kimberley           3\n",
              "Kochi               5\n",
              "Kolkata            77\n",
              "Mumbai            101\n",
              "Nagpur              3\n",
              "Port Elizabeth      7\n",
              "Pune               38\n",
              "Raipur              6\n",
              "Rajkot             10\n",
              "Ranchi              7\n",
              "Sharjah            12\n",
              "Visakhapatnam      13\n",
              "Name: city, dtype: int64"
            ]
          },
          "metadata": {
            "tags": []
          },
          "execution_count": 204
        }
      ]
    },
    {
      "cell_type": "code",
      "metadata": {
        "colab": {
          "base_uri": "https://localhost:8080/"
        },
        "id": "nRi0V6AQbqQu",
        "outputId": "1a07e2a3-8c83-41b4-ed0b-3641e49d3f68"
      },
      "source": [
        "ipl_2 = ipl\n",
        "ipl_2['city'] = ipl_2['city'].replace('Bangalore', 'Bengaluru')\n",
        "ipl_2['city'].value_counts().sort_index()"
      ],
      "execution_count": 205,
      "outputs": [
        {
          "output_type": "execute_result",
          "data": {
            "text/plain": [
              "Abu Dhabi          29\n",
              "Ahmedabad          12\n",
              "Bengaluru          80\n",
              "Bloemfontein        2\n",
              "Cape Town           7\n",
              "Centurion          12\n",
              "Chandigarh         56\n",
              "Chennai            57\n",
              "Cuttack             7\n",
              "Delhi              74\n",
              "Dharamsala          9\n",
              "Dubai              26\n",
              "Durban             15\n",
              "East London         3\n",
              "Hyderabad          64\n",
              "Indore              9\n",
              "Jaipur             47\n",
              "Johannesburg        8\n",
              "Kanpur              4\n",
              "Kimberley           3\n",
              "Kochi               5\n",
              "Kolkata            77\n",
              "Mumbai            101\n",
              "Nagpur              3\n",
              "Port Elizabeth      7\n",
              "Pune               38\n",
              "Raipur              6\n",
              "Rajkot             10\n",
              "Ranchi              7\n",
              "Sharjah            12\n",
              "Visakhapatnam      13\n",
              "Name: city, dtype: int64"
            ]
          },
          "metadata": {
            "tags": []
          },
          "execution_count": 205
        }
      ]
    },
    {
      "cell_type": "code",
      "metadata": {
        "colab": {
          "base_uri": "https://localhost:8080/"
        },
        "id": "3IKTtDqpJaBP",
        "outputId": "645d2e06-1b35-4988-c5f9-a1c55dbb0c22"
      },
      "source": [
        "ipl_2['player_of_match'].sort_values().unique()"
      ],
      "execution_count": 206,
      "outputs": [
        {
          "output_type": "execute_result",
          "data": {
            "text/plain": [
              "array(['A Chandila', 'A Kumble', 'A Mishra', 'A Nehra', 'A Nortje',\n",
              "       'A Singh', 'A Symonds', 'A Zampa', 'AA Jhunjhunwala', 'AB Dinda',\n",
              "       'AB de Villiers', 'AC Gilchrist', 'AC Voges', 'AD Mascarenhas',\n",
              "       'AD Mathews', 'AD Russell', 'AJ Finch', 'AJ Tye', 'AM Rahane',\n",
              "       'AP Tare', 'AR Patel', 'AS Joseph', 'AS Rajpoot', 'AT Rayudu',\n",
              "       'Azhar Mahmood', 'B Kumar', 'B Lee', 'B Stanlake', 'BA Bhatt',\n",
              "       'BA Stokes', 'BB McCullum', 'BCJ Cutting', 'BJ Hodge',\n",
              "       'BW Hilfenhaus', 'CA Lynn', 'CH Gayle', 'CH Morris', 'CJ Anderson',\n",
              "       'CJ Jordan', 'CL White', 'CR Brathwaite', 'CRD Fernando',\n",
              "       'CV Varun', 'DA Miller', 'DA Warner', 'DE Bollinger', 'DJ Bravo',\n",
              "       'DJ Hooda', 'DJ Hussey', 'DJG Sammy', 'DL Chahar', 'DL Vettori',\n",
              "       'DP Nannes', 'DPMD Jayawardene', 'DR Smith', 'DW Steyn',\n",
              "       'EJG Morgan', 'F du Plessis', 'G Gambhir', 'GC Smith',\n",
              "       'GD McGrath', 'GH Vihari', 'GJ Bailey', 'GJ Maxwell', 'HF Gurney',\n",
              "       'HH Gibbs', 'HH Pandya', 'HM Amla', 'HV Patel', 'Harbhajan Singh',\n",
              "       'Harmeet Singh', 'I Sharma', 'IK Pathan', 'Imran Tahir',\n",
              "       'Iqbal Abdulla', 'Ishan Kishan', 'J Botha', 'J Theron',\n",
              "       'JA Morkel', 'JC Archer', 'JC Buttler', 'JD Ryder', 'JD Unadkat',\n",
              "       'JDP Oram', 'JEC Franklin', 'JH Kallis', 'JJ Bumrah', 'JJ Roy',\n",
              "       'JM Bairstow', 'JP Duminy', 'JP Faulkner', 'K Rabada',\n",
              "       'KA Pollard', 'KC Sangakkara', 'KD Karthik', 'KH Pandya',\n",
              "       'KK Ahmed', 'KK Cooper', 'KK Nair', 'KL Rahul', 'KM Jadhav',\n",
              "       'KMA Paul', 'KMDN Kulasekara', 'KP Pietersen', 'KS Williamson',\n",
              "       'KV Sharma', 'Kuldeep Yadav', 'L Balaji', 'L Ngidi', 'LH Ferguson',\n",
              "       'LJ Wright', 'LMP Simmons', 'LR Shukla', 'LRPL Taylor', 'M Kartik',\n",
              "       'M Morkel', 'M Muralitharan', 'M Ntini', 'M Vijay', 'M Vohra',\n",
              "       'MA Agarwal', 'MA Starc', 'MC Henriques', 'MD Mishra',\n",
              "       'MEK Hussey', 'MF Maharoof', 'MG Johnson', 'MJ Lumb',\n",
              "       'MJ McClenaghan', 'MK Pandey', 'MK Tiwary', 'ML Hayden',\n",
              "       'MM Patel', 'MM Sharma', 'MN Samuels', 'MP Stoinis', 'MR Marsh',\n",
              "       'MS Bisla', 'MS Dhoni', 'MS Gony', 'MV Boucher', 'Mandeep Singh',\n",
              "       'Mohammed Shami', 'Mohammed Siraj', 'Mujeeb Ur Rahman',\n",
              "       'Mustafizur Rahman', 'N Rana', 'NM Coulter-Nile', 'NV Ojha',\n",
              "       'P Kumar', 'P Negi', 'P Parameswaran', 'PA Patel', 'PC Valthaty',\n",
              "       'PD Collingwood', 'PJ Cummins', 'PK Garg', 'PP Chawla', 'PP Ojha',\n",
              "       'PP Shaw', 'PV Tambe', 'Q de Kock', 'R Ashwin', 'R Bhatia',\n",
              "       'R Dravid', 'R McLaren', 'R Sharma', 'R Tewatia', 'R Vinay Kumar',\n",
              "       'RA Jadeja', 'RA Tripathi', 'RD Gaikwad', 'RE Levi', 'RG Sharma',\n",
              "       'RJ Harris', 'RP Singh', 'RR Pant', 'RS Bopara', 'RV Uthappa',\n",
              "       'Rashid Khan', 'S Anirudha', 'S Aravind', 'S Badrinath',\n",
              "       'S Dhawan', 'S Gopal', 'S Nadeem', 'S Sohal', 'S Sreesanth',\n",
              "       'SA Asnodkar', 'SA Yadav', 'SB Jakati', 'SB Wagh', 'SC Ganguly',\n",
              "       'SE Marsh', 'SK Raina', 'SK Trivedi', 'SK Warne', 'SL Malinga',\n",
              "       'SM Curran', 'SM Katich', 'SM Pollock', 'SO Hetmyer', 'SP Goswami',\n",
              "       'SP Narine', 'SPD Smith', 'SR Tendulkar', 'SR Watson', 'SS Iyer',\n",
              "       'ST Jayasuriya', 'SV Samson', 'SW Billings', 'Sandeep Sharma',\n",
              "       'Shakib Al Hasan', 'Shivam Mavi', 'Shoaib Akhtar', 'Shubman Gill',\n",
              "       'Sohail Tanvir', 'TA Boult', 'TG Southee', 'TL Suman',\n",
              "       'TM Dilshan', 'UT Yadav', 'Umar Gul', 'V Kohli', 'V Sehwag',\n",
              "       'VR Aaron', 'WP Saha', 'WPUJC Vaas', 'Washington Sundar',\n",
              "       'YK Pathan', 'YS Chahal', 'Yuvraj Singh', 'Z Khan', nan],\n",
              "      dtype=object)"
            ]
          },
          "metadata": {
            "tags": []
          },
          "execution_count": 206
        }
      ]
    },
    {
      "cell_type": "code",
      "metadata": {
        "colab": {
          "base_uri": "https://localhost:8080/"
        },
        "id": "_2wpZsP3JhZ3",
        "outputId": "26fd25ea-2c22-4277-b1ae-7169b9f1b89c"
      },
      "source": [
        "ipl_2['venue'].value_counts().sort_index()"
      ],
      "execution_count": 207,
      "outputs": [
        {
          "output_type": "execute_result",
          "data": {
            "text/plain": [
              "Barabati Stadium                                         7\n",
              "Brabourne Stadium                                       11\n",
              "Buffalo Park                                             3\n",
              "De Beers Diamond Oval                                    3\n",
              "Dr DY Patil Sports Academy                              17\n",
              "Dr. Y.S. Rajasekhara Reddy ACA-VDCA Cricket Stadium     13\n",
              "Dubai International Cricket Stadium                     33\n",
              "Eden Gardens                                            77\n",
              "Feroz Shah Kotla                                        74\n",
              "Green Park                                               4\n",
              "Himachal Pradesh Cricket Association Stadium             9\n",
              "Holkar Cricket Stadium                                   9\n",
              "JSCA International Stadium Complex                       7\n",
              "Kingsmead                                               15\n",
              "M Chinnaswamy Stadium                                   65\n",
              "M.Chinnaswamy Stadium                                   15\n",
              "MA Chidambaram Stadium, Chepauk                         57\n",
              "Maharashtra Cricket Association Stadium                 21\n",
              "Nehru Stadium                                            5\n",
              "New Wanderers Stadium                                    8\n",
              "Newlands                                                 7\n",
              "OUTsurance Oval                                          2\n",
              "Punjab Cricket Association IS Bindra Stadium, Mohali    21\n",
              "Punjab Cricket Association Stadium, Mohali              35\n",
              "Rajiv Gandhi International Stadium, Uppal               64\n",
              "Sardar Patel Stadium, Motera                            12\n",
              "Saurashtra Cricket Association Stadium                  10\n",
              "Sawai Mansingh Stadium                                  47\n",
              "Shaheed Veer Narayan Singh International Stadium         6\n",
              "Sharjah Cricket Stadium                                 18\n",
              "Sheikh Zayed Stadium                                    29\n",
              "St George's Park                                         7\n",
              "Subrata Roy Sahara Stadium                              17\n",
              "SuperSport Park                                         12\n",
              "Vidarbha Cricket Association Stadium, Jamtha             3\n",
              "Wankhede Stadium                                        73\n",
              "Name: venue, dtype: int64"
            ]
          },
          "metadata": {
            "tags": []
          },
          "execution_count": 207
        }
      ]
    },
    {
      "cell_type": "code",
      "metadata": {
        "colab": {
          "base_uri": "https://localhost:8080/"
        },
        "id": "MMJGQuttkJ3m",
        "outputId": "0ed4270d-1c68-404a-e4a2-de334c962487"
      },
      "source": [
        "ipl_2['venue'] = ipl_2['venue'].replace('M Chinnaswamy Stadium', 'M. Chinnaswamy Stadium')\n",
        "ipl_2['venue'].value_counts().sort_index()"
      ],
      "execution_count": 208,
      "outputs": [
        {
          "output_type": "execute_result",
          "data": {
            "text/plain": [
              "Barabati Stadium                                         7\n",
              "Brabourne Stadium                                       11\n",
              "Buffalo Park                                             3\n",
              "De Beers Diamond Oval                                    3\n",
              "Dr DY Patil Sports Academy                              17\n",
              "Dr. Y.S. Rajasekhara Reddy ACA-VDCA Cricket Stadium     13\n",
              "Dubai International Cricket Stadium                     33\n",
              "Eden Gardens                                            77\n",
              "Feroz Shah Kotla                                        74\n",
              "Green Park                                               4\n",
              "Himachal Pradesh Cricket Association Stadium             9\n",
              "Holkar Cricket Stadium                                   9\n",
              "JSCA International Stadium Complex                       7\n",
              "Kingsmead                                               15\n",
              "M. Chinnaswamy Stadium                                  65\n",
              "M.Chinnaswamy Stadium                                   15\n",
              "MA Chidambaram Stadium, Chepauk                         57\n",
              "Maharashtra Cricket Association Stadium                 21\n",
              "Nehru Stadium                                            5\n",
              "New Wanderers Stadium                                    8\n",
              "Newlands                                                 7\n",
              "OUTsurance Oval                                          2\n",
              "Punjab Cricket Association IS Bindra Stadium, Mohali    21\n",
              "Punjab Cricket Association Stadium, Mohali              35\n",
              "Rajiv Gandhi International Stadium, Uppal               64\n",
              "Sardar Patel Stadium, Motera                            12\n",
              "Saurashtra Cricket Association Stadium                  10\n",
              "Sawai Mansingh Stadium                                  47\n",
              "Shaheed Veer Narayan Singh International Stadium         6\n",
              "Sharjah Cricket Stadium                                 18\n",
              "Sheikh Zayed Stadium                                    29\n",
              "St George's Park                                         7\n",
              "Subrata Roy Sahara Stadium                              17\n",
              "SuperSport Park                                         12\n",
              "Vidarbha Cricket Association Stadium, Jamtha             3\n",
              "Wankhede Stadium                                        73\n",
              "Name: venue, dtype: int64"
            ]
          },
          "metadata": {
            "tags": []
          },
          "execution_count": 208
        }
      ]
    },
    {
      "cell_type": "code",
      "metadata": {
        "colab": {
          "base_uri": "https://localhost:8080/"
        },
        "id": "HA1G1WYylYPP",
        "outputId": "83b02c74-fdae-4101-f88e-bfde5ae59284"
      },
      "source": [
        "ipl_2['venue'] = ipl_2['venue'].replace('M.Chinnaswamy Stadium', 'M. Chinnaswamy Stadium')\n",
        "ipl_2['venue'].value_counts().sort_index()"
      ],
      "execution_count": 209,
      "outputs": [
        {
          "output_type": "execute_result",
          "data": {
            "text/plain": [
              "Barabati Stadium                                         7\n",
              "Brabourne Stadium                                       11\n",
              "Buffalo Park                                             3\n",
              "De Beers Diamond Oval                                    3\n",
              "Dr DY Patil Sports Academy                              17\n",
              "Dr. Y.S. Rajasekhara Reddy ACA-VDCA Cricket Stadium     13\n",
              "Dubai International Cricket Stadium                     33\n",
              "Eden Gardens                                            77\n",
              "Feroz Shah Kotla                                        74\n",
              "Green Park                                               4\n",
              "Himachal Pradesh Cricket Association Stadium             9\n",
              "Holkar Cricket Stadium                                   9\n",
              "JSCA International Stadium Complex                       7\n",
              "Kingsmead                                               15\n",
              "M. Chinnaswamy Stadium                                  80\n",
              "MA Chidambaram Stadium, Chepauk                         57\n",
              "Maharashtra Cricket Association Stadium                 21\n",
              "Nehru Stadium                                            5\n",
              "New Wanderers Stadium                                    8\n",
              "Newlands                                                 7\n",
              "OUTsurance Oval                                          2\n",
              "Punjab Cricket Association IS Bindra Stadium, Mohali    21\n",
              "Punjab Cricket Association Stadium, Mohali              35\n",
              "Rajiv Gandhi International Stadium, Uppal               64\n",
              "Sardar Patel Stadium, Motera                            12\n",
              "Saurashtra Cricket Association Stadium                  10\n",
              "Sawai Mansingh Stadium                                  47\n",
              "Shaheed Veer Narayan Singh International Stadium         6\n",
              "Sharjah Cricket Stadium                                 18\n",
              "Sheikh Zayed Stadium                                    29\n",
              "St George's Park                                         7\n",
              "Subrata Roy Sahara Stadium                              17\n",
              "SuperSport Park                                         12\n",
              "Vidarbha Cricket Association Stadium, Jamtha             3\n",
              "Wankhede Stadium                                        73\n",
              "Name: venue, dtype: int64"
            ]
          },
          "metadata": {
            "tags": []
          },
          "execution_count": 209
        }
      ]
    },
    {
      "cell_type": "code",
      "metadata": {
        "colab": {
          "base_uri": "https://localhost:8080/"
        },
        "id": "RbEDEx0ileYN",
        "outputId": "f5397a8a-2e8f-4d84-e8ba-da4798f5aee3"
      },
      "source": [
        "ipl_2['venue'] = ipl_2['venue'].replace('Punjab Cricket Association Stadium, Mohali', 'Punjab Cricket Association IS Bindra Stadium, Mohali')\n",
        "ipl_2['venue'].value_counts().sort_index()"
      ],
      "execution_count": 210,
      "outputs": [
        {
          "output_type": "execute_result",
          "data": {
            "text/plain": [
              "Barabati Stadium                                         7\n",
              "Brabourne Stadium                                       11\n",
              "Buffalo Park                                             3\n",
              "De Beers Diamond Oval                                    3\n",
              "Dr DY Patil Sports Academy                              17\n",
              "Dr. Y.S. Rajasekhara Reddy ACA-VDCA Cricket Stadium     13\n",
              "Dubai International Cricket Stadium                     33\n",
              "Eden Gardens                                            77\n",
              "Feroz Shah Kotla                                        74\n",
              "Green Park                                               4\n",
              "Himachal Pradesh Cricket Association Stadium             9\n",
              "Holkar Cricket Stadium                                   9\n",
              "JSCA International Stadium Complex                       7\n",
              "Kingsmead                                               15\n",
              "M. Chinnaswamy Stadium                                  80\n",
              "MA Chidambaram Stadium, Chepauk                         57\n",
              "Maharashtra Cricket Association Stadium                 21\n",
              "Nehru Stadium                                            5\n",
              "New Wanderers Stadium                                    8\n",
              "Newlands                                                 7\n",
              "OUTsurance Oval                                          2\n",
              "Punjab Cricket Association IS Bindra Stadium, Mohali    56\n",
              "Rajiv Gandhi International Stadium, Uppal               64\n",
              "Sardar Patel Stadium, Motera                            12\n",
              "Saurashtra Cricket Association Stadium                  10\n",
              "Sawai Mansingh Stadium                                  47\n",
              "Shaheed Veer Narayan Singh International Stadium         6\n",
              "Sharjah Cricket Stadium                                 18\n",
              "Sheikh Zayed Stadium                                    29\n",
              "St George's Park                                         7\n",
              "Subrata Roy Sahara Stadium                              17\n",
              "SuperSport Park                                         12\n",
              "Vidarbha Cricket Association Stadium, Jamtha             3\n",
              "Wankhede Stadium                                        73\n",
              "Name: venue, dtype: int64"
            ]
          },
          "metadata": {
            "tags": []
          },
          "execution_count": 210
        }
      ]
    },
    {
      "cell_type": "code",
      "metadata": {
        "colab": {
          "base_uri": "https://localhost:8080/"
        },
        "id": "r2P9mVTwQK2Q",
        "outputId": "6fc35bfb-d7d9-483e-daab-0a39245b237f"
      },
      "source": [
        "ipl_2['neutral_venue'].value_counts().sort_index()"
      ],
      "execution_count": 211,
      "outputs": [
        {
          "output_type": "execute_result",
          "data": {
            "text/plain": [
              "0    739\n",
              "1     77\n",
              "Name: neutral_venue, dtype: int64"
            ]
          },
          "metadata": {
            "tags": []
          },
          "execution_count": 211
        }
      ]
    },
    {
      "cell_type": "code",
      "metadata": {
        "colab": {
          "base_uri": "https://localhost:8080/"
        },
        "id": "g6g_ImW-Tsyq",
        "outputId": "428a0947-a4b9-4c23-d6a2-b57751ab1acc"
      },
      "source": [
        "ipl_2['team1'].value_counts().sort_index()"
      ],
      "execution_count": 212,
      "outputs": [
        {
          "output_type": "execute_result",
          "data": {
            "text/plain": [
              "Chennai Super Kings             94\n",
              "Deccan Chargers                 39\n",
              "Delhi Capitals                  19\n",
              "Delhi Daredevils                83\n",
              "Gujarat Lions                   16\n",
              "Kings XI Punjab                 92\n",
              "Kochi Tuskers Kerala             7\n",
              "Kolkata Knight Riders           95\n",
              "Mumbai Indians                  97\n",
              "Pune Warriors                   23\n",
              "Rajasthan Royals                70\n",
              "Rising Pune Supergiant           7\n",
              "Rising Pune Supergiants          7\n",
              "Royal Challengers Bangalore    108\n",
              "Sunrisers Hyderabad             59\n",
              "Name: team1, dtype: int64"
            ]
          },
          "metadata": {
            "tags": []
          },
          "execution_count": 212
        }
      ]
    },
    {
      "cell_type": "code",
      "metadata": {
        "colab": {
          "base_uri": "https://localhost:8080/"
        },
        "id": "cY1j1c6Kl7aa",
        "outputId": "044a699d-91b3-450b-9872-2ed2a10622d8"
      },
      "source": [
        "ipl_2 = ipl_2.replace('Rising Pune Supergiants', 'Rising Pune Supergiant')\n",
        "ipl_2['team1'].value_counts().sort_index()"
      ],
      "execution_count": 213,
      "outputs": [
        {
          "output_type": "execute_result",
          "data": {
            "text/plain": [
              "Chennai Super Kings             94\n",
              "Deccan Chargers                 39\n",
              "Delhi Capitals                  19\n",
              "Delhi Daredevils                83\n",
              "Gujarat Lions                   16\n",
              "Kings XI Punjab                 92\n",
              "Kochi Tuskers Kerala             7\n",
              "Kolkata Knight Riders           95\n",
              "Mumbai Indians                  97\n",
              "Pune Warriors                   23\n",
              "Rajasthan Royals                70\n",
              "Rising Pune Supergiant          14\n",
              "Royal Challengers Bangalore    108\n",
              "Sunrisers Hyderabad             59\n",
              "Name: team1, dtype: int64"
            ]
          },
          "metadata": {
            "tags": []
          },
          "execution_count": 213
        }
      ]
    },
    {
      "cell_type": "code",
      "metadata": {
        "colab": {
          "base_uri": "https://localhost:8080/"
        },
        "id": "yFwuU1yKT2E-",
        "outputId": "8eb8a97a-b6d7-4562-ee49-e72c647bf5f5"
      },
      "source": [
        "ipl_2['team2'].value_counts().sort_index()"
      ],
      "execution_count": 214,
      "outputs": [
        {
          "output_type": "execute_result",
          "data": {
            "text/plain": [
              "Chennai Super Kings             84\n",
              "Deccan Chargers                 36\n",
              "Delhi Capitals                  14\n",
              "Delhi Daredevils                78\n",
              "Gujarat Lions                   14\n",
              "Kings XI Punjab                 98\n",
              "Kochi Tuskers Kerala             7\n",
              "Kolkata Knight Riders           97\n",
              "Mumbai Indians                 106\n",
              "Pune Warriors                   23\n",
              "Rajasthan Royals                91\n",
              "Rising Pune Supergiant          16\n",
              "Royal Challengers Bangalore     87\n",
              "Sunrisers Hyderabad             65\n",
              "Name: team2, dtype: int64"
            ]
          },
          "metadata": {
            "tags": []
          },
          "execution_count": 214
        }
      ]
    },
    {
      "cell_type": "code",
      "metadata": {
        "colab": {
          "base_uri": "https://localhost:8080/"
        },
        "id": "JRt07uhBT7r3",
        "outputId": "bd2a6c02-1f0b-4270-e894-c92bf214623f"
      },
      "source": [
        "ipl_2['toss_winner'].value_counts().sort_index()"
      ],
      "execution_count": 215,
      "outputs": [
        {
          "output_type": "execute_result",
          "data": {
            "text/plain": [
              "Chennai Super Kings             97\n",
              "Deccan Chargers                 43\n",
              "Delhi Capitals                  20\n",
              "Delhi Daredevils                80\n",
              "Gujarat Lions                   15\n",
              "Kings XI Punjab                 85\n",
              "Kochi Tuskers Kerala             8\n",
              "Kolkata Knight Riders           98\n",
              "Mumbai Indians                 106\n",
              "Pune Warriors                   20\n",
              "Rajasthan Royals                87\n",
              "Rising Pune Supergiant          13\n",
              "Royal Challengers Bangalore     87\n",
              "Sunrisers Hyderabad             57\n",
              "Name: toss_winner, dtype: int64"
            ]
          },
          "metadata": {
            "tags": []
          },
          "execution_count": 215
        }
      ]
    },
    {
      "cell_type": "code",
      "metadata": {
        "colab": {
          "base_uri": "https://localhost:8080/"
        },
        "id": "fKvfLGiwUD-u",
        "outputId": "fd51f364-b010-4818-b3e5-1f6caadadf96"
      },
      "source": [
        "ipl_2['toss_decision'].value_counts().sort_index()"
      ],
      "execution_count": 216,
      "outputs": [
        {
          "output_type": "execute_result",
          "data": {
            "text/plain": [
              "bat      320\n",
              "field    496\n",
              "Name: toss_decision, dtype: int64"
            ]
          },
          "metadata": {
            "tags": []
          },
          "execution_count": 216
        }
      ]
    },
    {
      "cell_type": "code",
      "metadata": {
        "colab": {
          "base_uri": "https://localhost:8080/"
        },
        "id": "zPNm6C5DU0GW",
        "outputId": "84b8bb7a-8fad-4b11-d2fb-0920a44acab7"
      },
      "source": [
        "ipl_2['winner'].value_counts().sort_index()"
      ],
      "execution_count": 217,
      "outputs": [
        {
          "output_type": "execute_result",
          "data": {
            "text/plain": [
              "Chennai Super Kings            106\n",
              "Deccan Chargers                 29\n",
              "Delhi Capitals                  19\n",
              "Delhi Daredevils                67\n",
              "Gujarat Lions                   13\n",
              "Kings XI Punjab                 88\n",
              "Kochi Tuskers Kerala             6\n",
              "Kolkata Knight Riders           99\n",
              "Mumbai Indians                 120\n",
              "Pune Warriors                   12\n",
              "Rajasthan Royals                81\n",
              "Rising Pune Supergiant          15\n",
              "Royal Challengers Bangalore     91\n",
              "Sunrisers Hyderabad             66\n",
              "Name: winner, dtype: int64"
            ]
          },
          "metadata": {
            "tags": []
          },
          "execution_count": 217
        }
      ]
    },
    {
      "cell_type": "code",
      "metadata": {
        "colab": {
          "base_uri": "https://localhost:8080/"
        },
        "id": "x84xjFdeU4Fd",
        "outputId": "ac873563-dda8-499b-8468-f737a275f396"
      },
      "source": [
        "ipl_2['result'].value_counts().sort_index()"
      ],
      "execution_count": 218,
      "outputs": [
        {
          "output_type": "execute_result",
          "data": {
            "text/plain": [
              "runs       364\n",
              "tie         13\n",
              "wickets    435\n",
              "Name: result, dtype: int64"
            ]
          },
          "metadata": {
            "tags": []
          },
          "execution_count": 218
        }
      ]
    },
    {
      "cell_type": "code",
      "metadata": {
        "colab": {
          "base_uri": "https://localhost:8080/"
        },
        "id": "JB6gphFJU7u1",
        "outputId": "6f9bc25f-6665-4da7-a67f-cd698912ce1b"
      },
      "source": [
        "ipl_2['result_margin'].value_counts()"
      ],
      "execution_count": 219,
      "outputs": [
        {
          "output_type": "execute_result",
          "data": {
            "text/plain": [
              "6.0      95\n",
              "7.0      94\n",
              "5.0      85\n",
              "8.0      67\n",
              "4.0      53\n",
              "         ..\n",
              "76.0      1\n",
              "88.0      1\n",
              "67.0      1\n",
              "36.0      1\n",
              "140.0     1\n",
              "Name: result_margin, Length: 91, dtype: int64"
            ]
          },
          "metadata": {
            "tags": []
          },
          "execution_count": 219
        }
      ]
    },
    {
      "cell_type": "code",
      "metadata": {
        "colab": {
          "base_uri": "https://localhost:8080/"
        },
        "id": "s91xLv_TU8bv",
        "outputId": "23b9ebe1-4b3c-4aa3-fc2d-3b98ff352ae7"
      },
      "source": [
        "ipl_2['eliminator'].value_counts()"
      ],
      "execution_count": 220,
      "outputs": [
        {
          "output_type": "execute_result",
          "data": {
            "text/plain": [
              "N    799\n",
              "Y     13\n",
              "Name: eliminator, dtype: int64"
            ]
          },
          "metadata": {
            "tags": []
          },
          "execution_count": 220
        }
      ]
    },
    {
      "cell_type": "code",
      "metadata": {
        "colab": {
          "base_uri": "https://localhost:8080/"
        },
        "id": "iIK6hLIJU9B9",
        "outputId": "c057e998-5bfc-4b42-87cd-d398b4d2f557"
      },
      "source": [
        "ipl_2['method'].value_counts()"
      ],
      "execution_count": 221,
      "outputs": [
        {
          "output_type": "execute_result",
          "data": {
            "text/plain": [
              "D/L    19\n",
              "Name: method, dtype: int64"
            ]
          },
          "metadata": {
            "tags": []
          },
          "execution_count": 221
        }
      ]
    },
    {
      "cell_type": "code",
      "metadata": {
        "colab": {
          "base_uri": "https://localhost:8080/"
        },
        "id": "e5AWH9OoVD9v",
        "outputId": "2ed91866-2cc6-4160-b5eb-0c37af9e8e36"
      },
      "source": [
        "ipl_2['umpire1'].value_counts().sort_index()"
      ],
      "execution_count": 222,
      "outputs": [
        {
          "output_type": "execute_result",
          "data": {
            "text/plain": [
              "A Deshmukh                5\n",
              "A Nand Kishore           14\n",
              "AK Chaudhary             56\n",
              "AM Saheba                 3\n",
              "AV Jayaprakash            2\n",
              "AY Dandekar              28\n",
              "Aleem Dar                38\n",
              "Asad Rauf                51\n",
              "BF Bowden                37\n",
              "BG Jerling               13\n",
              "BNJ Oxenford             16\n",
              "BR Doctrove              34\n",
              "C Shamshuddin            22\n",
              "CB Gaffaney              34\n",
              "CK Nandan                 8\n",
              "DJ Harper                 9\n",
              "GAV Baxter                7\n",
              "HDPK Dharmasena          78\n",
              "IJ Gould                  3\n",
              "IL Howell                 7\n",
              "JD Cloete                16\n",
              "K Bharatan                3\n",
              "K Hariharan              10\n",
              "K Srinath                 2\n",
              "KN Ananthapadmanabhan    33\n",
              "M Erasmus                40\n",
              "MR Benson                10\n",
              "NJ Llong                 21\n",
              "Nitin Menon              20\n",
              "PG Pathak                 4\n",
              "PR Reiffel                5\n",
              "RE Koertzen              20\n",
              "RJ Tucker                 5\n",
              "RK Illingworth           13\n",
              "RM Deshpande              7\n",
              "S Asnani                 19\n",
              "S Das                    10\n",
              "S Ravi                   37\n",
              "SD Fry                    5\n",
              "SJ Davis                  6\n",
              "SJA Taufel                1\n",
              "SK Tarapore               5\n",
              "SL Shastri                1\n",
              "SS Hazare                11\n",
              "UV Gandhe                 8\n",
              "VA Kulkarni              19\n",
              "VK Sharma                 6\n",
              "YC Barde                 14\n",
              "Name: umpire1, dtype: int64"
            ]
          },
          "metadata": {
            "tags": []
          },
          "execution_count": 222
        }
      ]
    },
    {
      "cell_type": "code",
      "metadata": {
        "colab": {
          "base_uri": "https://localhost:8080/"
        },
        "id": "hpAs3IOvVDqT",
        "outputId": "dbfa3043-b29e-43b6-e8ff-88dd74eff3ff"
      },
      "source": [
        "ipl_2['umpire2'].value_counts().sort_index()"
      ],
      "execution_count": 223,
      "outputs": [
        {
          "output_type": "execute_result",
          "data": {
            "text/plain": [
              "A Deshmukh          7\n",
              "A Nand Kishore     11\n",
              "AK Chaudhary       31\n",
              "AL Hill             6\n",
              "AM Saheba          23\n",
              "AV Jayaprakash      4\n",
              "BG Jerling          4\n",
              "BNJ Oxenford       32\n",
              "BR Doctrove         8\n",
              "C Shamshuddin      60\n",
              "CB Gaffaney        13\n",
              "CK Nandan          49\n",
              "DJ Harper          18\n",
              "GA Pratapkumar      6\n",
              "HDPK Dharmasena    16\n",
              "I Shivram           6\n",
              "IJ Gould            3\n",
              "IL Howell           7\n",
              "JD Cloete           1\n",
              "K Hariharan        11\n",
              "K Srinath          13\n",
              "K Srinivasan        6\n",
              "M Erasmus          25\n",
              "MR Benson           2\n",
              "NJ Llong           16\n",
              "Nitin Menon        37\n",
              "PG Pathak           7\n",
              "PR Reiffel         19\n",
              "RB Tiffin          30\n",
              "RE Koertzen        21\n",
              "RJ Tucker          41\n",
              "RK Illingworth     18\n",
              "S Asnani           11\n",
              "S Das               5\n",
              "S Ravi             84\n",
              "SD Fry              1\n",
              "SD Ranade           2\n",
              "SJ Davis            1\n",
              "SJA Taufel         54\n",
              "SK Tarapore        26\n",
              "SL Shastri         13\n",
              "SS Hazare           6\n",
              "Subroto Das         1\n",
              "TH Wijewardene      5\n",
              "VA Kulkarni        31\n",
              "VK Sharma          20\n",
              "YC Barde            5\n",
              "Name: umpire2, dtype: int64"
            ]
          },
          "metadata": {
            "tags": []
          },
          "execution_count": 223
        }
      ]
    },
    {
      "cell_type": "code",
      "metadata": {
        "colab": {
          "base_uri": "https://localhost:8080/"
        },
        "id": "Rq0I3kyHTwxU",
        "outputId": "b1aed3fb-517b-4de0-c659-3a1a785eff8e"
      },
      "source": [
        "ipl_2 = ipl_2.drop_duplicates(keep = 'first')\n",
        "ipl_2.info()"
      ],
      "execution_count": 224,
      "outputs": [
        {
          "output_type": "stream",
          "text": [
            "<class 'pandas.core.frame.DataFrame'>\n",
            "Int64Index: 816 entries, 0 to 815\n",
            "Data columns (total 17 columns):\n",
            " #   Column           Non-Null Count  Dtype  \n",
            "---  ------           --------------  -----  \n",
            " 0   id               816 non-null    int64  \n",
            " 1   city             803 non-null    object \n",
            " 2   date             816 non-null    object \n",
            " 3   player_of_match  812 non-null    object \n",
            " 4   venue            816 non-null    object \n",
            " 5   neutral_venue    816 non-null    int64  \n",
            " 6   team1            816 non-null    object \n",
            " 7   team2            816 non-null    object \n",
            " 8   toss_winner      816 non-null    object \n",
            " 9   toss_decision    816 non-null    object \n",
            " 10  winner           812 non-null    object \n",
            " 11  result           812 non-null    object \n",
            " 12  result_margin    799 non-null    float64\n",
            " 13  eliminator       812 non-null    object \n",
            " 14  method           19 non-null     object \n",
            " 15  umpire1          816 non-null    object \n",
            " 16  umpire2          816 non-null    object \n",
            "dtypes: float64(1), int64(2), object(14)\n",
            "memory usage: 114.8+ KB\n"
          ],
          "name": "stdout"
        }
      ]
    },
    {
      "cell_type": "code",
      "metadata": {
        "colab": {
          "base_uri": "https://localhost:8080/"
        },
        "id": "uQA0QmbloMZv",
        "outputId": "ef7fb691-0538-4c86-b274-4135dada0984"
      },
      "source": [
        "ipl_3 = ipl_2\n",
        "ipl_3 = ipl_3.drop(['id'], axis = 1)\n",
        "ipl_3 = ipl_3.drop(['player_of_match'], axis = 1)\n",
        "ipl_3 = ipl_3.drop(['result'], axis = 1)\n",
        "ipl_3 = ipl_3.drop(['result_margin'], axis = 1)\n",
        "ipl_3 = ipl_3.drop(['method'], axis = 1)\n",
        "ipl_3.info()"
      ],
      "execution_count": 225,
      "outputs": [
        {
          "output_type": "stream",
          "text": [
            "<class 'pandas.core.frame.DataFrame'>\n",
            "Int64Index: 816 entries, 0 to 815\n",
            "Data columns (total 12 columns):\n",
            " #   Column         Non-Null Count  Dtype \n",
            "---  ------         --------------  ----- \n",
            " 0   city           803 non-null    object\n",
            " 1   date           816 non-null    object\n",
            " 2   venue          816 non-null    object\n",
            " 3   neutral_venue  816 non-null    int64 \n",
            " 4   team1          816 non-null    object\n",
            " 5   team2          816 non-null    object\n",
            " 6   toss_winner    816 non-null    object\n",
            " 7   toss_decision  816 non-null    object\n",
            " 8   winner         812 non-null    object\n",
            " 9   eliminator     812 non-null    object\n",
            " 10  umpire1        816 non-null    object\n",
            " 11  umpire2        816 non-null    object\n",
            "dtypes: int64(1), object(11)\n",
            "memory usage: 82.9+ KB\n"
          ],
          "name": "stdout"
        }
      ]
    },
    {
      "cell_type": "code",
      "metadata": {
        "colab": {
          "base_uri": "https://localhost:8080/"
        },
        "id": "IRKG0lGlt6Ug",
        "outputId": "942a9fac-8b37-438f-dcec-ecd74e351d3b"
      },
      "source": [
        "ipl_3['winner'].fillna('Tie', inplace=True)\n",
        "ipl_3.info()"
      ],
      "execution_count": 226,
      "outputs": [
        {
          "output_type": "stream",
          "text": [
            "<class 'pandas.core.frame.DataFrame'>\n",
            "Int64Index: 816 entries, 0 to 815\n",
            "Data columns (total 12 columns):\n",
            " #   Column         Non-Null Count  Dtype \n",
            "---  ------         --------------  ----- \n",
            " 0   city           803 non-null    object\n",
            " 1   date           816 non-null    object\n",
            " 2   venue          816 non-null    object\n",
            " 3   neutral_venue  816 non-null    int64 \n",
            " 4   team1          816 non-null    object\n",
            " 5   team2          816 non-null    object\n",
            " 6   toss_winner    816 non-null    object\n",
            " 7   toss_decision  816 non-null    object\n",
            " 8   winner         816 non-null    object\n",
            " 9   eliminator     812 non-null    object\n",
            " 10  umpire1        816 non-null    object\n",
            " 11  umpire2        816 non-null    object\n",
            "dtypes: int64(1), object(11)\n",
            "memory usage: 82.9+ KB\n"
          ],
          "name": "stdout"
        }
      ]
    },
    {
      "cell_type": "code",
      "metadata": {
        "colab": {
          "base_uri": "https://localhost:8080/",
          "height": 292
        },
        "id": "UyjDNxNfyjYh",
        "outputId": "9fc2427f-46f7-494b-9ed2-56d0daf0a3a8"
      },
      "source": [
        "ipl_3[ipl_3['eliminator'].isnull() == True]"
      ],
      "execution_count": 227,
      "outputs": [
        {
          "output_type": "execute_result",
          "data": {
            "text/html": [
              "<div>\n",
              "<style scoped>\n",
              "    .dataframe tbody tr th:only-of-type {\n",
              "        vertical-align: middle;\n",
              "    }\n",
              "\n",
              "    .dataframe tbody tr th {\n",
              "        vertical-align: top;\n",
              "    }\n",
              "\n",
              "    .dataframe thead th {\n",
              "        text-align: right;\n",
              "    }\n",
              "</style>\n",
              "<table border=\"1\" class=\"dataframe\">\n",
              "  <thead>\n",
              "    <tr style=\"text-align: right;\">\n",
              "      <th></th>\n",
              "      <th>city</th>\n",
              "      <th>date</th>\n",
              "      <th>venue</th>\n",
              "      <th>neutral_venue</th>\n",
              "      <th>team1</th>\n",
              "      <th>team2</th>\n",
              "      <th>toss_winner</th>\n",
              "      <th>toss_decision</th>\n",
              "      <th>winner</th>\n",
              "      <th>eliminator</th>\n",
              "      <th>umpire1</th>\n",
              "      <th>umpire2</th>\n",
              "    </tr>\n",
              "  </thead>\n",
              "  <tbody>\n",
              "    <tr>\n",
              "      <th>241</th>\n",
              "      <td>Delhi</td>\n",
              "      <td>2011-05-21</td>\n",
              "      <td>Feroz Shah Kotla</td>\n",
              "      <td>0</td>\n",
              "      <td>Delhi Daredevils</td>\n",
              "      <td>Pune Warriors</td>\n",
              "      <td>Delhi Daredevils</td>\n",
              "      <td>bat</td>\n",
              "      <td>Tie</td>\n",
              "      <td>NaN</td>\n",
              "      <td>SS Hazare</td>\n",
              "      <td>RJ Tucker</td>\n",
              "    </tr>\n",
              "    <tr>\n",
              "      <th>486</th>\n",
              "      <td>Bengaluru</td>\n",
              "      <td>2015-04-29</td>\n",
              "      <td>M. Chinnaswamy Stadium</td>\n",
              "      <td>0</td>\n",
              "      <td>Royal Challengers Bangalore</td>\n",
              "      <td>Rajasthan Royals</td>\n",
              "      <td>Rajasthan Royals</td>\n",
              "      <td>field</td>\n",
              "      <td>Tie</td>\n",
              "      <td>NaN</td>\n",
              "      <td>JD Cloete</td>\n",
              "      <td>PG Pathak</td>\n",
              "    </tr>\n",
              "    <tr>\n",
              "      <th>511</th>\n",
              "      <td>Bengaluru</td>\n",
              "      <td>2015-05-17</td>\n",
              "      <td>M. Chinnaswamy Stadium</td>\n",
              "      <td>0</td>\n",
              "      <td>Royal Challengers Bangalore</td>\n",
              "      <td>Delhi Daredevils</td>\n",
              "      <td>Royal Challengers Bangalore</td>\n",
              "      <td>field</td>\n",
              "      <td>Tie</td>\n",
              "      <td>NaN</td>\n",
              "      <td>HDPK Dharmasena</td>\n",
              "      <td>K Srinivasan</td>\n",
              "    </tr>\n",
              "    <tr>\n",
              "      <th>744</th>\n",
              "      <td>Bengaluru</td>\n",
              "      <td>2019-04-30</td>\n",
              "      <td>M. Chinnaswamy Stadium</td>\n",
              "      <td>0</td>\n",
              "      <td>Royal Challengers Bangalore</td>\n",
              "      <td>Rajasthan Royals</td>\n",
              "      <td>Rajasthan Royals</td>\n",
              "      <td>field</td>\n",
              "      <td>Tie</td>\n",
              "      <td>NaN</td>\n",
              "      <td>UV Gandhe</td>\n",
              "      <td>NJ Llong</td>\n",
              "    </tr>\n",
              "  </tbody>\n",
              "</table>\n",
              "</div>"
            ],
            "text/plain": [
              "          city        date  ...          umpire1       umpire2\n",
              "241      Delhi  2011-05-21  ...        SS Hazare     RJ Tucker\n",
              "486  Bengaluru  2015-04-29  ...        JD Cloete     PG Pathak\n",
              "511  Bengaluru  2015-05-17  ...  HDPK Dharmasena  K Srinivasan\n",
              "744  Bengaluru  2019-04-30  ...        UV Gandhe      NJ Llong\n",
              "\n",
              "[4 rows x 12 columns]"
            ]
          },
          "metadata": {
            "tags": []
          },
          "execution_count": 227
        }
      ]
    }
  ]
}