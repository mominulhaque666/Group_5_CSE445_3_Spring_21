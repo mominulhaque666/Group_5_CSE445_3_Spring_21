{
  "nbformat": 4,
  "nbformat_minor": 0,
  "metadata": {
    "colab": {
      "name": "Project.ipynb",
      "provenance": [],
      "collapsed_sections": [],
      "authorship_tag": "ABX9TyPUN5QXB9tqt3xJaoXCgcPD",
      "include_colab_link": true
    },
    "kernelspec": {
      "name": "python3",
      "display_name": "Python 3"
    },
    "language_info": {
      "name": "python"
    }
  },
  "cells": [
    {
      "cell_type": "markdown",
      "metadata": {
        "id": "view-in-github",
        "colab_type": "text"
      },
      "source": [
        "<a href=\"https://colab.research.google.com/github/nahidosen/Group_5_CSE445_3_Spring_21/blob/main/ipynb/Project.ipynb\" target=\"_parent\"><img src=\"https://colab.research.google.com/assets/colab-badge.svg\" alt=\"Open In Colab\"/></a>"
      ]
    },
    {
      "cell_type": "code",
      "metadata": {
        "colab": {
          "base_uri": "https://localhost:8080/"
        },
        "id": "2Nm_NxUaHBSp",
        "outputId": "71d081df-7c9c-478c-8c7b-2a23feefa039"
      },
      "source": [
        "!pip install scikit-plot"
      ],
      "execution_count": 332,
      "outputs": [
        {
          "output_type": "stream",
          "text": [
            "Requirement already satisfied: scikit-plot in /usr/local/lib/python3.7/dist-packages (0.3.7)\n",
            "Requirement already satisfied: matplotlib>=1.4.0 in /usr/local/lib/python3.7/dist-packages (from scikit-plot) (3.2.2)\n",
            "Requirement already satisfied: joblib>=0.10 in /usr/local/lib/python3.7/dist-packages (from scikit-plot) (1.0.1)\n",
            "Requirement already satisfied: scikit-learn>=0.18 in /usr/local/lib/python3.7/dist-packages (from scikit-plot) (0.22.2.post1)\n",
            "Requirement already satisfied: scipy>=0.9 in /usr/local/lib/python3.7/dist-packages (from scikit-plot) (1.4.1)\n",
            "Requirement already satisfied: kiwisolver>=1.0.1 in /usr/local/lib/python3.7/dist-packages (from matplotlib>=1.4.0->scikit-plot) (1.3.1)\n",
            "Requirement already satisfied: python-dateutil>=2.1 in /usr/local/lib/python3.7/dist-packages (from matplotlib>=1.4.0->scikit-plot) (2.8.1)\n",
            "Requirement already satisfied: pyparsing!=2.0.4,!=2.1.2,!=2.1.6,>=2.0.1 in /usr/local/lib/python3.7/dist-packages (from matplotlib>=1.4.0->scikit-plot) (2.4.7)\n",
            "Requirement already satisfied: numpy>=1.11 in /usr/local/lib/python3.7/dist-packages (from matplotlib>=1.4.0->scikit-plot) (1.19.5)\n",
            "Requirement already satisfied: cycler>=0.10 in /usr/local/lib/python3.7/dist-packages (from matplotlib>=1.4.0->scikit-plot) (0.10.0)\n",
            "Requirement already satisfied: six>=1.5 in /usr/local/lib/python3.7/dist-packages (from python-dateutil>=2.1->matplotlib>=1.4.0->scikit-plot) (1.15.0)\n"
          ],
          "name": "stdout"
        }
      ]
    },
    {
      "cell_type": "code",
      "metadata": {
        "id": "IOfFEWZZsWVY"
      },
      "source": [
        "# Importing necessary packages\n",
        "\n",
        "import pandas as pd\n",
        "import numpy as np\n",
        "import matplotlib.pyplot as plt\n",
        "plt.style.use('ggplot')\n",
        "import seaborn as sns\n",
        "import scikitplot as skplt\n",
        "from sklearn.impute import SimpleImputer\n",
        "from sklearn import metrics\n",
        "from sklearn.model_selection import cross_val_score"
      ],
      "execution_count": 333,
      "outputs": []
    },
    {
      "cell_type": "code",
      "metadata": {
        "colab": {
          "base_uri": "https://localhost:8080/",
          "height": 830
        },
        "id": "LXdNuULVDDSR",
        "outputId": "2d043c97-1287-462b-e916-9d829d57e3b3"
      },
      "source": [
        "data = 'https://raw.githubusercontent.com/nahidosen/Group_5_CSE445_3_Spring_21/main/dataset/IPL%20Matches%202008-2020.csv'\n",
        "\n",
        "ipl = pd.read_csv(data)\n",
        "ipl"
      ],
      "execution_count": 334,
      "outputs": [
        {
          "output_type": "execute_result",
          "data": {
            "text/html": [
              "<div>\n",
              "<style scoped>\n",
              "    .dataframe tbody tr th:only-of-type {\n",
              "        vertical-align: middle;\n",
              "    }\n",
              "\n",
              "    .dataframe tbody tr th {\n",
              "        vertical-align: top;\n",
              "    }\n",
              "\n",
              "    .dataframe thead th {\n",
              "        text-align: right;\n",
              "    }\n",
              "</style>\n",
              "<table border=\"1\" class=\"dataframe\">\n",
              "  <thead>\n",
              "    <tr style=\"text-align: right;\">\n",
              "      <th></th>\n",
              "      <th>id</th>\n",
              "      <th>city</th>\n",
              "      <th>date</th>\n",
              "      <th>player_of_match</th>\n",
              "      <th>venue</th>\n",
              "      <th>neutral_venue</th>\n",
              "      <th>team1</th>\n",
              "      <th>team2</th>\n",
              "      <th>toss_winner</th>\n",
              "      <th>toss_decision</th>\n",
              "      <th>winner</th>\n",
              "      <th>result</th>\n",
              "      <th>result_margin</th>\n",
              "      <th>eliminator</th>\n",
              "      <th>method</th>\n",
              "      <th>umpire1</th>\n",
              "      <th>umpire2</th>\n",
              "    </tr>\n",
              "  </thead>\n",
              "  <tbody>\n",
              "    <tr>\n",
              "      <th>0</th>\n",
              "      <td>335982</td>\n",
              "      <td>Bangalore</td>\n",
              "      <td>2008-04-18</td>\n",
              "      <td>BB McCullum</td>\n",
              "      <td>M Chinnaswamy Stadium</td>\n",
              "      <td>0</td>\n",
              "      <td>Royal Challengers Bangalore</td>\n",
              "      <td>Kolkata Knight Riders</td>\n",
              "      <td>Royal Challengers Bangalore</td>\n",
              "      <td>field</td>\n",
              "      <td>Kolkata Knight Riders</td>\n",
              "      <td>runs</td>\n",
              "      <td>140.0</td>\n",
              "      <td>N</td>\n",
              "      <td>NaN</td>\n",
              "      <td>Asad Rauf</td>\n",
              "      <td>RE Koertzen</td>\n",
              "    </tr>\n",
              "    <tr>\n",
              "      <th>1</th>\n",
              "      <td>335983</td>\n",
              "      <td>Chandigarh</td>\n",
              "      <td>2008-04-19</td>\n",
              "      <td>MEK Hussey</td>\n",
              "      <td>Punjab Cricket Association Stadium, Mohali</td>\n",
              "      <td>0</td>\n",
              "      <td>Kings XI Punjab</td>\n",
              "      <td>Chennai Super Kings</td>\n",
              "      <td>Chennai Super Kings</td>\n",
              "      <td>bat</td>\n",
              "      <td>Chennai Super Kings</td>\n",
              "      <td>runs</td>\n",
              "      <td>33.0</td>\n",
              "      <td>N</td>\n",
              "      <td>NaN</td>\n",
              "      <td>MR Benson</td>\n",
              "      <td>SL Shastri</td>\n",
              "    </tr>\n",
              "    <tr>\n",
              "      <th>2</th>\n",
              "      <td>335984</td>\n",
              "      <td>Delhi</td>\n",
              "      <td>2008-04-19</td>\n",
              "      <td>MF Maharoof</td>\n",
              "      <td>Feroz Shah Kotla</td>\n",
              "      <td>0</td>\n",
              "      <td>Delhi Daredevils</td>\n",
              "      <td>Rajasthan Royals</td>\n",
              "      <td>Rajasthan Royals</td>\n",
              "      <td>bat</td>\n",
              "      <td>Delhi Daredevils</td>\n",
              "      <td>wickets</td>\n",
              "      <td>9.0</td>\n",
              "      <td>N</td>\n",
              "      <td>NaN</td>\n",
              "      <td>Aleem Dar</td>\n",
              "      <td>GA Pratapkumar</td>\n",
              "    </tr>\n",
              "    <tr>\n",
              "      <th>3</th>\n",
              "      <td>335985</td>\n",
              "      <td>Mumbai</td>\n",
              "      <td>2008-04-20</td>\n",
              "      <td>MV Boucher</td>\n",
              "      <td>Wankhede Stadium</td>\n",
              "      <td>0</td>\n",
              "      <td>Mumbai Indians</td>\n",
              "      <td>Royal Challengers Bangalore</td>\n",
              "      <td>Mumbai Indians</td>\n",
              "      <td>bat</td>\n",
              "      <td>Royal Challengers Bangalore</td>\n",
              "      <td>wickets</td>\n",
              "      <td>5.0</td>\n",
              "      <td>N</td>\n",
              "      <td>NaN</td>\n",
              "      <td>SJ Davis</td>\n",
              "      <td>DJ Harper</td>\n",
              "    </tr>\n",
              "    <tr>\n",
              "      <th>4</th>\n",
              "      <td>335986</td>\n",
              "      <td>Kolkata</td>\n",
              "      <td>2008-04-20</td>\n",
              "      <td>DJ Hussey</td>\n",
              "      <td>Eden Gardens</td>\n",
              "      <td>0</td>\n",
              "      <td>Kolkata Knight Riders</td>\n",
              "      <td>Deccan Chargers</td>\n",
              "      <td>Deccan Chargers</td>\n",
              "      <td>bat</td>\n",
              "      <td>Kolkata Knight Riders</td>\n",
              "      <td>wickets</td>\n",
              "      <td>5.0</td>\n",
              "      <td>N</td>\n",
              "      <td>NaN</td>\n",
              "      <td>BF Bowden</td>\n",
              "      <td>K Hariharan</td>\n",
              "    </tr>\n",
              "    <tr>\n",
              "      <th>...</th>\n",
              "      <td>...</td>\n",
              "      <td>...</td>\n",
              "      <td>...</td>\n",
              "      <td>...</td>\n",
              "      <td>...</td>\n",
              "      <td>...</td>\n",
              "      <td>...</td>\n",
              "      <td>...</td>\n",
              "      <td>...</td>\n",
              "      <td>...</td>\n",
              "      <td>...</td>\n",
              "      <td>...</td>\n",
              "      <td>...</td>\n",
              "      <td>...</td>\n",
              "      <td>...</td>\n",
              "      <td>...</td>\n",
              "      <td>...</td>\n",
              "    </tr>\n",
              "    <tr>\n",
              "      <th>811</th>\n",
              "      <td>1216547</td>\n",
              "      <td>Dubai</td>\n",
              "      <td>2020-09-28</td>\n",
              "      <td>AB de Villiers</td>\n",
              "      <td>Dubai International Cricket Stadium</td>\n",
              "      <td>0</td>\n",
              "      <td>Royal Challengers Bangalore</td>\n",
              "      <td>Mumbai Indians</td>\n",
              "      <td>Mumbai Indians</td>\n",
              "      <td>field</td>\n",
              "      <td>Royal Challengers Bangalore</td>\n",
              "      <td>tie</td>\n",
              "      <td>NaN</td>\n",
              "      <td>Y</td>\n",
              "      <td>NaN</td>\n",
              "      <td>Nitin Menon</td>\n",
              "      <td>PR Reiffel</td>\n",
              "    </tr>\n",
              "    <tr>\n",
              "      <th>812</th>\n",
              "      <td>1237177</td>\n",
              "      <td>Dubai</td>\n",
              "      <td>2020-11-05</td>\n",
              "      <td>JJ Bumrah</td>\n",
              "      <td>Dubai International Cricket Stadium</td>\n",
              "      <td>0</td>\n",
              "      <td>Mumbai Indians</td>\n",
              "      <td>Delhi Capitals</td>\n",
              "      <td>Delhi Capitals</td>\n",
              "      <td>field</td>\n",
              "      <td>Mumbai Indians</td>\n",
              "      <td>runs</td>\n",
              "      <td>57.0</td>\n",
              "      <td>N</td>\n",
              "      <td>NaN</td>\n",
              "      <td>CB Gaffaney</td>\n",
              "      <td>Nitin Menon</td>\n",
              "    </tr>\n",
              "    <tr>\n",
              "      <th>813</th>\n",
              "      <td>1237178</td>\n",
              "      <td>Abu Dhabi</td>\n",
              "      <td>2020-11-06</td>\n",
              "      <td>KS Williamson</td>\n",
              "      <td>Sheikh Zayed Stadium</td>\n",
              "      <td>0</td>\n",
              "      <td>Royal Challengers Bangalore</td>\n",
              "      <td>Sunrisers Hyderabad</td>\n",
              "      <td>Sunrisers Hyderabad</td>\n",
              "      <td>field</td>\n",
              "      <td>Sunrisers Hyderabad</td>\n",
              "      <td>wickets</td>\n",
              "      <td>6.0</td>\n",
              "      <td>N</td>\n",
              "      <td>NaN</td>\n",
              "      <td>PR Reiffel</td>\n",
              "      <td>S Ravi</td>\n",
              "    </tr>\n",
              "    <tr>\n",
              "      <th>814</th>\n",
              "      <td>1237180</td>\n",
              "      <td>Abu Dhabi</td>\n",
              "      <td>2020-11-08</td>\n",
              "      <td>MP Stoinis</td>\n",
              "      <td>Sheikh Zayed Stadium</td>\n",
              "      <td>0</td>\n",
              "      <td>Delhi Capitals</td>\n",
              "      <td>Sunrisers Hyderabad</td>\n",
              "      <td>Delhi Capitals</td>\n",
              "      <td>bat</td>\n",
              "      <td>Delhi Capitals</td>\n",
              "      <td>runs</td>\n",
              "      <td>17.0</td>\n",
              "      <td>N</td>\n",
              "      <td>NaN</td>\n",
              "      <td>PR Reiffel</td>\n",
              "      <td>S Ravi</td>\n",
              "    </tr>\n",
              "    <tr>\n",
              "      <th>815</th>\n",
              "      <td>1237181</td>\n",
              "      <td>Dubai</td>\n",
              "      <td>2020-11-10</td>\n",
              "      <td>TA Boult</td>\n",
              "      <td>Dubai International Cricket Stadium</td>\n",
              "      <td>0</td>\n",
              "      <td>Delhi Capitals</td>\n",
              "      <td>Mumbai Indians</td>\n",
              "      <td>Delhi Capitals</td>\n",
              "      <td>bat</td>\n",
              "      <td>Mumbai Indians</td>\n",
              "      <td>wickets</td>\n",
              "      <td>5.0</td>\n",
              "      <td>N</td>\n",
              "      <td>NaN</td>\n",
              "      <td>CB Gaffaney</td>\n",
              "      <td>Nitin Menon</td>\n",
              "    </tr>\n",
              "  </tbody>\n",
              "</table>\n",
              "<p>816 rows × 17 columns</p>\n",
              "</div>"
            ],
            "text/plain": [
              "          id        city        date  ... method      umpire1         umpire2\n",
              "0     335982   Bangalore  2008-04-18  ...    NaN    Asad Rauf     RE Koertzen\n",
              "1     335983  Chandigarh  2008-04-19  ...    NaN    MR Benson      SL Shastri\n",
              "2     335984       Delhi  2008-04-19  ...    NaN    Aleem Dar  GA Pratapkumar\n",
              "3     335985      Mumbai  2008-04-20  ...    NaN     SJ Davis       DJ Harper\n",
              "4     335986     Kolkata  2008-04-20  ...    NaN    BF Bowden     K Hariharan\n",
              "..       ...         ...         ...  ...    ...          ...             ...\n",
              "811  1216547       Dubai  2020-09-28  ...    NaN  Nitin Menon      PR Reiffel\n",
              "812  1237177       Dubai  2020-11-05  ...    NaN  CB Gaffaney     Nitin Menon\n",
              "813  1237178   Abu Dhabi  2020-11-06  ...    NaN   PR Reiffel          S Ravi\n",
              "814  1237180   Abu Dhabi  2020-11-08  ...    NaN   PR Reiffel          S Ravi\n",
              "815  1237181       Dubai  2020-11-10  ...    NaN  CB Gaffaney     Nitin Menon\n",
              "\n",
              "[816 rows x 17 columns]"
            ]
          },
          "metadata": {
            "tags": []
          },
          "execution_count": 334
        }
      ]
    },
    {
      "cell_type": "code",
      "metadata": {
        "colab": {
          "base_uri": "https://localhost:8080/"
        },
        "id": "mz620CKdJkdx",
        "outputId": "6dcfc918-12ae-4981-c0ce-a133463860c8"
      },
      "source": [
        "ipl.columns"
      ],
      "execution_count": 335,
      "outputs": [
        {
          "output_type": "execute_result",
          "data": {
            "text/plain": [
              "Index(['id', 'city', 'date', 'player_of_match', 'venue', 'neutral_venue',\n",
              "       'team1', 'team2', 'toss_winner', 'toss_decision', 'winner', 'result',\n",
              "       'result_margin', 'eliminator', 'method', 'umpire1', 'umpire2'],\n",
              "      dtype='object')"
            ]
          },
          "metadata": {
            "tags": []
          },
          "execution_count": 335
        }
      ]
    },
    {
      "cell_type": "code",
      "metadata": {
        "colab": {
          "base_uri": "https://localhost:8080/"
        },
        "id": "ixvbzZq1GE0P",
        "outputId": "229b1f06-0477-4f61-9892-5d43adda1e2e"
      },
      "source": [
        "ipl.info()"
      ],
      "execution_count": 336,
      "outputs": [
        {
          "output_type": "stream",
          "text": [
            "<class 'pandas.core.frame.DataFrame'>\n",
            "RangeIndex: 816 entries, 0 to 815\n",
            "Data columns (total 17 columns):\n",
            " #   Column           Non-Null Count  Dtype  \n",
            "---  ------           --------------  -----  \n",
            " 0   id               816 non-null    int64  \n",
            " 1   city             803 non-null    object \n",
            " 2   date             816 non-null    object \n",
            " 3   player_of_match  812 non-null    object \n",
            " 4   venue            816 non-null    object \n",
            " 5   neutral_venue    816 non-null    int64  \n",
            " 6   team1            816 non-null    object \n",
            " 7   team2            816 non-null    object \n",
            " 8   toss_winner      816 non-null    object \n",
            " 9   toss_decision    816 non-null    object \n",
            " 10  winner           812 non-null    object \n",
            " 11  result           812 non-null    object \n",
            " 12  result_margin    799 non-null    float64\n",
            " 13  eliminator       812 non-null    object \n",
            " 14  method           19 non-null     object \n",
            " 15  umpire1          816 non-null    object \n",
            " 16  umpire2          816 non-null    object \n",
            "dtypes: float64(1), int64(2), object(14)\n",
            "memory usage: 108.5+ KB\n"
          ],
          "name": "stdout"
        }
      ]
    },
    {
      "cell_type": "code",
      "metadata": {
        "id": "hrmRr-gJhRXg"
      },
      "source": [
        "#ipl_2['city'] = ipl['city'].astype(str)\n",
        "#ipl_2.info()"
      ],
      "execution_count": 337,
      "outputs": []
    },
    {
      "cell_type": "code",
      "metadata": {
        "colab": {
          "base_uri": "https://localhost:8080/"
        },
        "id": "WstiqDPtS5OU",
        "outputId": "18e5fa3c-83da-45d6-d6bc-d4176a2c1302"
      },
      "source": [
        "ipl_df.isnull().sum() "
      ],
      "execution_count": 338,
      "outputs": [
        {
          "output_type": "execute_result",
          "data": {
            "text/plain": [
              "id                   0\n",
              "city                13\n",
              "date                 0\n",
              "player_of_match      4\n",
              "venue                0\n",
              "neutral_venue        0\n",
              "team1                0\n",
              "team2                0\n",
              "toss_winner          0\n",
              "toss_decision        0\n",
              "winner               4\n",
              "result               4\n",
              "result_margin       17\n",
              "eliminator           4\n",
              "method             797\n",
              "umpire1              0\n",
              "umpire2              0\n",
              "dtype: int64"
            ]
          },
          "metadata": {
            "tags": []
          },
          "execution_count": 338
        }
      ]
    },
    {
      "cell_type": "code",
      "metadata": {
        "colab": {
          "base_uri": "https://localhost:8080/"
        },
        "id": "AwU5zK3aXXtv",
        "outputId": "78dbbd13-1cb0-44cc-af18-5db60da24e06"
      },
      "source": [
        "ipl.nunique()"
      ],
      "execution_count": 339,
      "outputs": [
        {
          "output_type": "execute_result",
          "data": {
            "text/plain": [
              "id                 816\n",
              "city                32\n",
              "date               596\n",
              "player_of_match    233\n",
              "venue               36\n",
              "neutral_venue        2\n",
              "team1               15\n",
              "team2               15\n",
              "toss_winner         15\n",
              "toss_decision        2\n",
              "winner              15\n",
              "result               3\n",
              "result_margin       91\n",
              "eliminator           2\n",
              "method               1\n",
              "umpire1             48\n",
              "umpire2             47\n",
              "dtype: int64"
            ]
          },
          "metadata": {
            "tags": []
          },
          "execution_count": 339
        }
      ]
    },
    {
      "cell_type": "code",
      "metadata": {
        "colab": {
          "base_uri": "https://localhost:8080/"
        },
        "id": "YYDI1siBJQ4A",
        "outputId": "a0650706-67bf-4b33-936f-fce2e7667068"
      },
      "source": [
        "ipl['city'].value_counts().sort_index()"
      ],
      "execution_count": 340,
      "outputs": [
        {
          "output_type": "execute_result",
          "data": {
            "text/plain": [
              "Abu Dhabi          29\n",
              "Ahmedabad          12\n",
              "Bangalore          65\n",
              "Bengaluru          15\n",
              "Bloemfontein        2\n",
              "Cape Town           7\n",
              "Centurion          12\n",
              "Chandigarh         56\n",
              "Chennai            57\n",
              "Cuttack             7\n",
              "Delhi              74\n",
              "Dharamsala          9\n",
              "Dubai              26\n",
              "Durban             15\n",
              "East London         3\n",
              "Hyderabad          64\n",
              "Indore              9\n",
              "Jaipur             47\n",
              "Johannesburg        8\n",
              "Kanpur              4\n",
              "Kimberley           3\n",
              "Kochi               5\n",
              "Kolkata            77\n",
              "Mumbai            101\n",
              "Nagpur              3\n",
              "Port Elizabeth      7\n",
              "Pune               38\n",
              "Raipur              6\n",
              "Rajkot             10\n",
              "Ranchi              7\n",
              "Sharjah            12\n",
              "Visakhapatnam      13\n",
              "Name: city, dtype: int64"
            ]
          },
          "metadata": {
            "tags": []
          },
          "execution_count": 340
        }
      ]
    },
    {
      "cell_type": "code",
      "metadata": {
        "colab": {
          "base_uri": "https://localhost:8080/"
        },
        "id": "nRi0V6AQbqQu",
        "outputId": "35d2fe88-ebf5-4f7e-fbcc-9f6d9099c044"
      },
      "source": [
        "ipl_2 = ipl\n",
        "ipl_2['city'] = ipl_2['city'].replace('Bengaluru', 'Bangalore')\n",
        "ipl_2['city'].value_counts().sort_index()"
      ],
      "execution_count": 341,
      "outputs": [
        {
          "output_type": "execute_result",
          "data": {
            "text/plain": [
              "Abu Dhabi          29\n",
              "Ahmedabad          12\n",
              "Bangalore          80\n",
              "Bloemfontein        2\n",
              "Cape Town           7\n",
              "Centurion          12\n",
              "Chandigarh         56\n",
              "Chennai            57\n",
              "Cuttack             7\n",
              "Delhi              74\n",
              "Dharamsala          9\n",
              "Dubai              26\n",
              "Durban             15\n",
              "East London         3\n",
              "Hyderabad          64\n",
              "Indore              9\n",
              "Jaipur             47\n",
              "Johannesburg        8\n",
              "Kanpur              4\n",
              "Kimberley           3\n",
              "Kochi               5\n",
              "Kolkata            77\n",
              "Mumbai            101\n",
              "Nagpur              3\n",
              "Port Elizabeth      7\n",
              "Pune               38\n",
              "Raipur              6\n",
              "Rajkot             10\n",
              "Ranchi              7\n",
              "Sharjah            12\n",
              "Visakhapatnam      13\n",
              "Name: city, dtype: int64"
            ]
          },
          "metadata": {
            "tags": []
          },
          "execution_count": 341
        }
      ]
    },
    {
      "cell_type": "code",
      "metadata": {
        "colab": {
          "base_uri": "https://localhost:8080/"
        },
        "id": "3IKTtDqpJaBP",
        "outputId": "4a1053a9-b8b5-4d9b-b974-a7dabc2e6748"
      },
      "source": [
        "ipl_2['player_of_match'].sort_values().unique()"
      ],
      "execution_count": 342,
      "outputs": [
        {
          "output_type": "execute_result",
          "data": {
            "text/plain": [
              "array(['A Chandila', 'A Kumble', 'A Mishra', 'A Nehra', 'A Nortje',\n",
              "       'A Singh', 'A Symonds', 'A Zampa', 'AA Jhunjhunwala', 'AB Dinda',\n",
              "       'AB de Villiers', 'AC Gilchrist', 'AC Voges', 'AD Mascarenhas',\n",
              "       'AD Mathews', 'AD Russell', 'AJ Finch', 'AJ Tye', 'AM Rahane',\n",
              "       'AP Tare', 'AR Patel', 'AS Joseph', 'AS Rajpoot', 'AT Rayudu',\n",
              "       'Azhar Mahmood', 'B Kumar', 'B Lee', 'B Stanlake', 'BA Bhatt',\n",
              "       'BA Stokes', 'BB McCullum', 'BCJ Cutting', 'BJ Hodge',\n",
              "       'BW Hilfenhaus', 'CA Lynn', 'CH Gayle', 'CH Morris', 'CJ Anderson',\n",
              "       'CJ Jordan', 'CL White', 'CR Brathwaite', 'CRD Fernando',\n",
              "       'CV Varun', 'DA Miller', 'DA Warner', 'DE Bollinger', 'DJ Bravo',\n",
              "       'DJ Hooda', 'DJ Hussey', 'DJG Sammy', 'DL Chahar', 'DL Vettori',\n",
              "       'DP Nannes', 'DPMD Jayawardene', 'DR Smith', 'DW Steyn',\n",
              "       'EJG Morgan', 'F du Plessis', 'G Gambhir', 'GC Smith',\n",
              "       'GD McGrath', 'GH Vihari', 'GJ Bailey', 'GJ Maxwell', 'HF Gurney',\n",
              "       'HH Gibbs', 'HH Pandya', 'HM Amla', 'HV Patel', 'Harbhajan Singh',\n",
              "       'Harmeet Singh', 'I Sharma', 'IK Pathan', 'Imran Tahir',\n",
              "       'Iqbal Abdulla', 'Ishan Kishan', 'J Botha', 'J Theron',\n",
              "       'JA Morkel', 'JC Archer', 'JC Buttler', 'JD Ryder', 'JD Unadkat',\n",
              "       'JDP Oram', 'JEC Franklin', 'JH Kallis', 'JJ Bumrah', 'JJ Roy',\n",
              "       'JM Bairstow', 'JP Duminy', 'JP Faulkner', 'K Rabada',\n",
              "       'KA Pollard', 'KC Sangakkara', 'KD Karthik', 'KH Pandya',\n",
              "       'KK Ahmed', 'KK Cooper', 'KK Nair', 'KL Rahul', 'KM Jadhav',\n",
              "       'KMA Paul', 'KMDN Kulasekara', 'KP Pietersen', 'KS Williamson',\n",
              "       'KV Sharma', 'Kuldeep Yadav', 'L Balaji', 'L Ngidi', 'LH Ferguson',\n",
              "       'LJ Wright', 'LMP Simmons', 'LR Shukla', 'LRPL Taylor', 'M Kartik',\n",
              "       'M Morkel', 'M Muralitharan', 'M Ntini', 'M Vijay', 'M Vohra',\n",
              "       'MA Agarwal', 'MA Starc', 'MC Henriques', 'MD Mishra',\n",
              "       'MEK Hussey', 'MF Maharoof', 'MG Johnson', 'MJ Lumb',\n",
              "       'MJ McClenaghan', 'MK Pandey', 'MK Tiwary', 'ML Hayden',\n",
              "       'MM Patel', 'MM Sharma', 'MN Samuels', 'MP Stoinis', 'MR Marsh',\n",
              "       'MS Bisla', 'MS Dhoni', 'MS Gony', 'MV Boucher', 'Mandeep Singh',\n",
              "       'Mohammed Shami', 'Mohammed Siraj', 'Mujeeb Ur Rahman',\n",
              "       'Mustafizur Rahman', 'N Rana', 'NM Coulter-Nile', 'NV Ojha',\n",
              "       'P Kumar', 'P Negi', 'P Parameswaran', 'PA Patel', 'PC Valthaty',\n",
              "       'PD Collingwood', 'PJ Cummins', 'PK Garg', 'PP Chawla', 'PP Ojha',\n",
              "       'PP Shaw', 'PV Tambe', 'Q de Kock', 'R Ashwin', 'R Bhatia',\n",
              "       'R Dravid', 'R McLaren', 'R Sharma', 'R Tewatia', 'R Vinay Kumar',\n",
              "       'RA Jadeja', 'RA Tripathi', 'RD Gaikwad', 'RE Levi', 'RG Sharma',\n",
              "       'RJ Harris', 'RP Singh', 'RR Pant', 'RS Bopara', 'RV Uthappa',\n",
              "       'Rashid Khan', 'S Anirudha', 'S Aravind', 'S Badrinath',\n",
              "       'S Dhawan', 'S Gopal', 'S Nadeem', 'S Sohal', 'S Sreesanth',\n",
              "       'SA Asnodkar', 'SA Yadav', 'SB Jakati', 'SB Wagh', 'SC Ganguly',\n",
              "       'SE Marsh', 'SK Raina', 'SK Trivedi', 'SK Warne', 'SL Malinga',\n",
              "       'SM Curran', 'SM Katich', 'SM Pollock', 'SO Hetmyer', 'SP Goswami',\n",
              "       'SP Narine', 'SPD Smith', 'SR Tendulkar', 'SR Watson', 'SS Iyer',\n",
              "       'ST Jayasuriya', 'SV Samson', 'SW Billings', 'Sandeep Sharma',\n",
              "       'Shakib Al Hasan', 'Shivam Mavi', 'Shoaib Akhtar', 'Shubman Gill',\n",
              "       'Sohail Tanvir', 'TA Boult', 'TG Southee', 'TL Suman',\n",
              "       'TM Dilshan', 'UT Yadav', 'Umar Gul', 'V Kohli', 'V Sehwag',\n",
              "       'VR Aaron', 'WP Saha', 'WPUJC Vaas', 'Washington Sundar',\n",
              "       'YK Pathan', 'YS Chahal', 'Yuvraj Singh', 'Z Khan', nan],\n",
              "      dtype=object)"
            ]
          },
          "metadata": {
            "tags": []
          },
          "execution_count": 342
        }
      ]
    },
    {
      "cell_type": "code",
      "metadata": {
        "colab": {
          "base_uri": "https://localhost:8080/"
        },
        "id": "_2wpZsP3JhZ3",
        "outputId": "786c9373-04e2-4c15-eab3-802c1f24534a"
      },
      "source": [
        "ipl_2['venue'].value_counts().sort_index()"
      ],
      "execution_count": 343,
      "outputs": [
        {
          "output_type": "execute_result",
          "data": {
            "text/plain": [
              "Barabati Stadium                                         7\n",
              "Brabourne Stadium                                       11\n",
              "Buffalo Park                                             3\n",
              "De Beers Diamond Oval                                    3\n",
              "Dr DY Patil Sports Academy                              17\n",
              "Dr. Y.S. Rajasekhara Reddy ACA-VDCA Cricket Stadium     13\n",
              "Dubai International Cricket Stadium                     33\n",
              "Eden Gardens                                            77\n",
              "Feroz Shah Kotla                                        74\n",
              "Green Park                                               4\n",
              "Himachal Pradesh Cricket Association Stadium             9\n",
              "Holkar Cricket Stadium                                   9\n",
              "JSCA International Stadium Complex                       7\n",
              "Kingsmead                                               15\n",
              "M Chinnaswamy Stadium                                   65\n",
              "M.Chinnaswamy Stadium                                   15\n",
              "MA Chidambaram Stadium, Chepauk                         57\n",
              "Maharashtra Cricket Association Stadium                 21\n",
              "Nehru Stadium                                            5\n",
              "New Wanderers Stadium                                    8\n",
              "Newlands                                                 7\n",
              "OUTsurance Oval                                          2\n",
              "Punjab Cricket Association IS Bindra Stadium, Mohali    21\n",
              "Punjab Cricket Association Stadium, Mohali              35\n",
              "Rajiv Gandhi International Stadium, Uppal               64\n",
              "Sardar Patel Stadium, Motera                            12\n",
              "Saurashtra Cricket Association Stadium                  10\n",
              "Sawai Mansingh Stadium                                  47\n",
              "Shaheed Veer Narayan Singh International Stadium         6\n",
              "Sharjah Cricket Stadium                                 18\n",
              "Sheikh Zayed Stadium                                    29\n",
              "St George's Park                                         7\n",
              "Subrata Roy Sahara Stadium                              17\n",
              "SuperSport Park                                         12\n",
              "Vidarbha Cricket Association Stadium, Jamtha             3\n",
              "Wankhede Stadium                                        73\n",
              "Name: venue, dtype: int64"
            ]
          },
          "metadata": {
            "tags": []
          },
          "execution_count": 343
        }
      ]
    },
    {
      "cell_type": "code",
      "metadata": {
        "colab": {
          "base_uri": "https://localhost:8080/"
        },
        "id": "MMJGQuttkJ3m",
        "outputId": "efc81590-2cdc-4492-c31d-0ddf7f6dbb09"
      },
      "source": [
        "ipl_2['venue'] = ipl_2['venue'].replace('M Chinnaswamy Stadium', 'M. Chinnaswamy Stadium')\n",
        "ipl_2['venue'].value_counts().sort_index()"
      ],
      "execution_count": 344,
      "outputs": [
        {
          "output_type": "execute_result",
          "data": {
            "text/plain": [
              "Barabati Stadium                                         7\n",
              "Brabourne Stadium                                       11\n",
              "Buffalo Park                                             3\n",
              "De Beers Diamond Oval                                    3\n",
              "Dr DY Patil Sports Academy                              17\n",
              "Dr. Y.S. Rajasekhara Reddy ACA-VDCA Cricket Stadium     13\n",
              "Dubai International Cricket Stadium                     33\n",
              "Eden Gardens                                            77\n",
              "Feroz Shah Kotla                                        74\n",
              "Green Park                                               4\n",
              "Himachal Pradesh Cricket Association Stadium             9\n",
              "Holkar Cricket Stadium                                   9\n",
              "JSCA International Stadium Complex                       7\n",
              "Kingsmead                                               15\n",
              "M. Chinnaswamy Stadium                                  65\n",
              "M.Chinnaswamy Stadium                                   15\n",
              "MA Chidambaram Stadium, Chepauk                         57\n",
              "Maharashtra Cricket Association Stadium                 21\n",
              "Nehru Stadium                                            5\n",
              "New Wanderers Stadium                                    8\n",
              "Newlands                                                 7\n",
              "OUTsurance Oval                                          2\n",
              "Punjab Cricket Association IS Bindra Stadium, Mohali    21\n",
              "Punjab Cricket Association Stadium, Mohali              35\n",
              "Rajiv Gandhi International Stadium, Uppal               64\n",
              "Sardar Patel Stadium, Motera                            12\n",
              "Saurashtra Cricket Association Stadium                  10\n",
              "Sawai Mansingh Stadium                                  47\n",
              "Shaheed Veer Narayan Singh International Stadium         6\n",
              "Sharjah Cricket Stadium                                 18\n",
              "Sheikh Zayed Stadium                                    29\n",
              "St George's Park                                         7\n",
              "Subrata Roy Sahara Stadium                              17\n",
              "SuperSport Park                                         12\n",
              "Vidarbha Cricket Association Stadium, Jamtha             3\n",
              "Wankhede Stadium                                        73\n",
              "Name: venue, dtype: int64"
            ]
          },
          "metadata": {
            "tags": []
          },
          "execution_count": 344
        }
      ]
    },
    {
      "cell_type": "code",
      "metadata": {
        "colab": {
          "base_uri": "https://localhost:8080/"
        },
        "id": "HA1G1WYylYPP",
        "outputId": "15b87b41-1c4d-4f8a-e788-b12305bbc559"
      },
      "source": [
        "ipl_2['venue'] = ipl_2['venue'].replace('M.Chinnaswamy Stadium', 'M. Chinnaswamy Stadium')\n",
        "ipl_2['venue'].value_counts().sort_index()"
      ],
      "execution_count": 345,
      "outputs": [
        {
          "output_type": "execute_result",
          "data": {
            "text/plain": [
              "Barabati Stadium                                         7\n",
              "Brabourne Stadium                                       11\n",
              "Buffalo Park                                             3\n",
              "De Beers Diamond Oval                                    3\n",
              "Dr DY Patil Sports Academy                              17\n",
              "Dr. Y.S. Rajasekhara Reddy ACA-VDCA Cricket Stadium     13\n",
              "Dubai International Cricket Stadium                     33\n",
              "Eden Gardens                                            77\n",
              "Feroz Shah Kotla                                        74\n",
              "Green Park                                               4\n",
              "Himachal Pradesh Cricket Association Stadium             9\n",
              "Holkar Cricket Stadium                                   9\n",
              "JSCA International Stadium Complex                       7\n",
              "Kingsmead                                               15\n",
              "M. Chinnaswamy Stadium                                  80\n",
              "MA Chidambaram Stadium, Chepauk                         57\n",
              "Maharashtra Cricket Association Stadium                 21\n",
              "Nehru Stadium                                            5\n",
              "New Wanderers Stadium                                    8\n",
              "Newlands                                                 7\n",
              "OUTsurance Oval                                          2\n",
              "Punjab Cricket Association IS Bindra Stadium, Mohali    21\n",
              "Punjab Cricket Association Stadium, Mohali              35\n",
              "Rajiv Gandhi International Stadium, Uppal               64\n",
              "Sardar Patel Stadium, Motera                            12\n",
              "Saurashtra Cricket Association Stadium                  10\n",
              "Sawai Mansingh Stadium                                  47\n",
              "Shaheed Veer Narayan Singh International Stadium         6\n",
              "Sharjah Cricket Stadium                                 18\n",
              "Sheikh Zayed Stadium                                    29\n",
              "St George's Park                                         7\n",
              "Subrata Roy Sahara Stadium                              17\n",
              "SuperSport Park                                         12\n",
              "Vidarbha Cricket Association Stadium, Jamtha             3\n",
              "Wankhede Stadium                                        73\n",
              "Name: venue, dtype: int64"
            ]
          },
          "metadata": {
            "tags": []
          },
          "execution_count": 345
        }
      ]
    },
    {
      "cell_type": "code",
      "metadata": {
        "colab": {
          "base_uri": "https://localhost:8080/"
        },
        "id": "RbEDEx0ileYN",
        "outputId": "6ea69c5c-c7f5-4665-8009-1a11017966e3"
      },
      "source": [
        "ipl_2['venue'] = ipl_2['venue'].replace('Punjab Cricket Association Stadium, Mohali', 'Punjab Cricket Association IS Bindra Stadium, Mohali')\n",
        "ipl_2['venue'].value_counts().sort_index()"
      ],
      "execution_count": 346,
      "outputs": [
        {
          "output_type": "execute_result",
          "data": {
            "text/plain": [
              "Barabati Stadium                                         7\n",
              "Brabourne Stadium                                       11\n",
              "Buffalo Park                                             3\n",
              "De Beers Diamond Oval                                    3\n",
              "Dr DY Patil Sports Academy                              17\n",
              "Dr. Y.S. Rajasekhara Reddy ACA-VDCA Cricket Stadium     13\n",
              "Dubai International Cricket Stadium                     33\n",
              "Eden Gardens                                            77\n",
              "Feroz Shah Kotla                                        74\n",
              "Green Park                                               4\n",
              "Himachal Pradesh Cricket Association Stadium             9\n",
              "Holkar Cricket Stadium                                   9\n",
              "JSCA International Stadium Complex                       7\n",
              "Kingsmead                                               15\n",
              "M. Chinnaswamy Stadium                                  80\n",
              "MA Chidambaram Stadium, Chepauk                         57\n",
              "Maharashtra Cricket Association Stadium                 21\n",
              "Nehru Stadium                                            5\n",
              "New Wanderers Stadium                                    8\n",
              "Newlands                                                 7\n",
              "OUTsurance Oval                                          2\n",
              "Punjab Cricket Association IS Bindra Stadium, Mohali    56\n",
              "Rajiv Gandhi International Stadium, Uppal               64\n",
              "Sardar Patel Stadium, Motera                            12\n",
              "Saurashtra Cricket Association Stadium                  10\n",
              "Sawai Mansingh Stadium                                  47\n",
              "Shaheed Veer Narayan Singh International Stadium         6\n",
              "Sharjah Cricket Stadium                                 18\n",
              "Sheikh Zayed Stadium                                    29\n",
              "St George's Park                                         7\n",
              "Subrata Roy Sahara Stadium                              17\n",
              "SuperSport Park                                         12\n",
              "Vidarbha Cricket Association Stadium, Jamtha             3\n",
              "Wankhede Stadium                                        73\n",
              "Name: venue, dtype: int64"
            ]
          },
          "metadata": {
            "tags": []
          },
          "execution_count": 346
        }
      ]
    },
    {
      "cell_type": "code",
      "metadata": {
        "colab": {
          "base_uri": "https://localhost:8080/"
        },
        "id": "r2P9mVTwQK2Q",
        "outputId": "24e7cc93-48c9-4e1a-da46-19188984359d"
      },
      "source": [
        "ipl_2['neutral_venue'].value_counts().sort_index()"
      ],
      "execution_count": 347,
      "outputs": [
        {
          "output_type": "execute_result",
          "data": {
            "text/plain": [
              "0    739\n",
              "1     77\n",
              "Name: neutral_venue, dtype: int64"
            ]
          },
          "metadata": {
            "tags": []
          },
          "execution_count": 347
        }
      ]
    },
    {
      "cell_type": "code",
      "metadata": {
        "colab": {
          "base_uri": "https://localhost:8080/"
        },
        "id": "g6g_ImW-Tsyq",
        "outputId": "127453bf-7cb8-4a2b-d700-4ddf77ad9fd5"
      },
      "source": [
        "ipl_2['team1'].value_counts().sort_index()"
      ],
      "execution_count": 348,
      "outputs": [
        {
          "output_type": "execute_result",
          "data": {
            "text/plain": [
              "Chennai Super Kings             94\n",
              "Deccan Chargers                 39\n",
              "Delhi Capitals                  19\n",
              "Delhi Daredevils                83\n",
              "Gujarat Lions                   16\n",
              "Kings XI Punjab                 92\n",
              "Kochi Tuskers Kerala             7\n",
              "Kolkata Knight Riders           95\n",
              "Mumbai Indians                  97\n",
              "Pune Warriors                   23\n",
              "Rajasthan Royals                70\n",
              "Rising Pune Supergiant           7\n",
              "Rising Pune Supergiants          7\n",
              "Royal Challengers Bangalore    108\n",
              "Sunrisers Hyderabad             59\n",
              "Name: team1, dtype: int64"
            ]
          },
          "metadata": {
            "tags": []
          },
          "execution_count": 348
        }
      ]
    },
    {
      "cell_type": "code",
      "metadata": {
        "colab": {
          "base_uri": "https://localhost:8080/"
        },
        "id": "cY1j1c6Kl7aa",
        "outputId": "10c9ee94-60fb-4737-c3ec-877476a8742f"
      },
      "source": [
        "ipl_2 = ipl_2.replace('Rising Pune Supergiants', 'Rising Pune Supergiant')\n",
        "ipl_2['team1'].value_counts().sort_index()"
      ],
      "execution_count": 349,
      "outputs": [
        {
          "output_type": "execute_result",
          "data": {
            "text/plain": [
              "Chennai Super Kings             94\n",
              "Deccan Chargers                 39\n",
              "Delhi Capitals                  19\n",
              "Delhi Daredevils                83\n",
              "Gujarat Lions                   16\n",
              "Kings XI Punjab                 92\n",
              "Kochi Tuskers Kerala             7\n",
              "Kolkata Knight Riders           95\n",
              "Mumbai Indians                  97\n",
              "Pune Warriors                   23\n",
              "Rajasthan Royals                70\n",
              "Rising Pune Supergiant          14\n",
              "Royal Challengers Bangalore    108\n",
              "Sunrisers Hyderabad             59\n",
              "Name: team1, dtype: int64"
            ]
          },
          "metadata": {
            "tags": []
          },
          "execution_count": 349
        }
      ]
    },
    {
      "cell_type": "code",
      "metadata": {
        "colab": {
          "base_uri": "https://localhost:8080/"
        },
        "id": "yFwuU1yKT2E-",
        "outputId": "770a778d-d84a-48ac-d794-6448c214a565"
      },
      "source": [
        "ipl_2['team2'].value_counts().sort_index()"
      ],
      "execution_count": 350,
      "outputs": [
        {
          "output_type": "execute_result",
          "data": {
            "text/plain": [
              "Chennai Super Kings             84\n",
              "Deccan Chargers                 36\n",
              "Delhi Capitals                  14\n",
              "Delhi Daredevils                78\n",
              "Gujarat Lions                   14\n",
              "Kings XI Punjab                 98\n",
              "Kochi Tuskers Kerala             7\n",
              "Kolkata Knight Riders           97\n",
              "Mumbai Indians                 106\n",
              "Pune Warriors                   23\n",
              "Rajasthan Royals                91\n",
              "Rising Pune Supergiant          16\n",
              "Royal Challengers Bangalore     87\n",
              "Sunrisers Hyderabad             65\n",
              "Name: team2, dtype: int64"
            ]
          },
          "metadata": {
            "tags": []
          },
          "execution_count": 350
        }
      ]
    },
    {
      "cell_type": "code",
      "metadata": {
        "colab": {
          "base_uri": "https://localhost:8080/"
        },
        "id": "JRt07uhBT7r3",
        "outputId": "6c40fb86-edc9-4040-bd20-16080e16de62"
      },
      "source": [
        "ipl_2['toss_winner'].value_counts().sort_index()"
      ],
      "execution_count": 351,
      "outputs": [
        {
          "output_type": "execute_result",
          "data": {
            "text/plain": [
              "Chennai Super Kings             97\n",
              "Deccan Chargers                 43\n",
              "Delhi Capitals                  20\n",
              "Delhi Daredevils                80\n",
              "Gujarat Lions                   15\n",
              "Kings XI Punjab                 85\n",
              "Kochi Tuskers Kerala             8\n",
              "Kolkata Knight Riders           98\n",
              "Mumbai Indians                 106\n",
              "Pune Warriors                   20\n",
              "Rajasthan Royals                87\n",
              "Rising Pune Supergiant          13\n",
              "Royal Challengers Bangalore     87\n",
              "Sunrisers Hyderabad             57\n",
              "Name: toss_winner, dtype: int64"
            ]
          },
          "metadata": {
            "tags": []
          },
          "execution_count": 351
        }
      ]
    },
    {
      "cell_type": "code",
      "metadata": {
        "colab": {
          "base_uri": "https://localhost:8080/"
        },
        "id": "fKvfLGiwUD-u",
        "outputId": "3211f3c9-3cf1-43e6-92a0-cb97fd16a7e9"
      },
      "source": [
        "ipl_2['toss_decision'].value_counts().sort_index()"
      ],
      "execution_count": 352,
      "outputs": [
        {
          "output_type": "execute_result",
          "data": {
            "text/plain": [
              "bat      320\n",
              "field    496\n",
              "Name: toss_decision, dtype: int64"
            ]
          },
          "metadata": {
            "tags": []
          },
          "execution_count": 352
        }
      ]
    },
    {
      "cell_type": "code",
      "metadata": {
        "colab": {
          "base_uri": "https://localhost:8080/"
        },
        "id": "zPNm6C5DU0GW",
        "outputId": "f4f566cb-a904-4d60-9bc4-f7671dd7cbe0"
      },
      "source": [
        "ipl_2['winner'].value_counts().sort_index()"
      ],
      "execution_count": 353,
      "outputs": [
        {
          "output_type": "execute_result",
          "data": {
            "text/plain": [
              "Chennai Super Kings            106\n",
              "Deccan Chargers                 29\n",
              "Delhi Capitals                  19\n",
              "Delhi Daredevils                67\n",
              "Gujarat Lions                   13\n",
              "Kings XI Punjab                 88\n",
              "Kochi Tuskers Kerala             6\n",
              "Kolkata Knight Riders           99\n",
              "Mumbai Indians                 120\n",
              "Pune Warriors                   12\n",
              "Rajasthan Royals                81\n",
              "Rising Pune Supergiant          15\n",
              "Royal Challengers Bangalore     91\n",
              "Sunrisers Hyderabad             66\n",
              "Name: winner, dtype: int64"
            ]
          },
          "metadata": {
            "tags": []
          },
          "execution_count": 353
        }
      ]
    },
    {
      "cell_type": "code",
      "metadata": {
        "colab": {
          "base_uri": "https://localhost:8080/"
        },
        "id": "x84xjFdeU4Fd",
        "outputId": "77c245cf-69aa-4c3a-e090-caa35757f8be"
      },
      "source": [
        "ipl_2['result'].value_counts().sort_index()"
      ],
      "execution_count": 354,
      "outputs": [
        {
          "output_type": "execute_result",
          "data": {
            "text/plain": [
              "runs       364\n",
              "tie         13\n",
              "wickets    435\n",
              "Name: result, dtype: int64"
            ]
          },
          "metadata": {
            "tags": []
          },
          "execution_count": 354
        }
      ]
    },
    {
      "cell_type": "code",
      "metadata": {
        "colab": {
          "base_uri": "https://localhost:8080/"
        },
        "id": "JB6gphFJU7u1",
        "outputId": "09484262-ad23-4e31-d13e-6b33de77674a"
      },
      "source": [
        "ipl_2['result_margin'].value_counts()"
      ],
      "execution_count": 355,
      "outputs": [
        {
          "output_type": "execute_result",
          "data": {
            "text/plain": [
              "6.0      95\n",
              "7.0      94\n",
              "5.0      85\n",
              "8.0      67\n",
              "4.0      53\n",
              "         ..\n",
              "76.0      1\n",
              "88.0      1\n",
              "67.0      1\n",
              "36.0      1\n",
              "140.0     1\n",
              "Name: result_margin, Length: 91, dtype: int64"
            ]
          },
          "metadata": {
            "tags": []
          },
          "execution_count": 355
        }
      ]
    },
    {
      "cell_type": "code",
      "metadata": {
        "colab": {
          "base_uri": "https://localhost:8080/"
        },
        "id": "s91xLv_TU8bv",
        "outputId": "c42c7e2a-f198-44fb-e811-b34f53320183"
      },
      "source": [
        "ipl_2['eliminator'].value_counts()"
      ],
      "execution_count": 356,
      "outputs": [
        {
          "output_type": "execute_result",
          "data": {
            "text/plain": [
              "N    799\n",
              "Y     13\n",
              "Name: eliminator, dtype: int64"
            ]
          },
          "metadata": {
            "tags": []
          },
          "execution_count": 356
        }
      ]
    },
    {
      "cell_type": "code",
      "metadata": {
        "colab": {
          "base_uri": "https://localhost:8080/"
        },
        "id": "iIK6hLIJU9B9",
        "outputId": "ffae8dbb-5657-4c00-f4b4-eb7e68f1e9d0"
      },
      "source": [
        "ipl_2['method'].value_counts()"
      ],
      "execution_count": 357,
      "outputs": [
        {
          "output_type": "execute_result",
          "data": {
            "text/plain": [
              "D/L    19\n",
              "Name: method, dtype: int64"
            ]
          },
          "metadata": {
            "tags": []
          },
          "execution_count": 357
        }
      ]
    },
    {
      "cell_type": "code",
      "metadata": {
        "colab": {
          "base_uri": "https://localhost:8080/"
        },
        "id": "e5AWH9OoVD9v",
        "outputId": "c3c432c9-446a-4173-c90d-33523ae95765"
      },
      "source": [
        "ipl_2['umpire1'].value_counts().sort_index()"
      ],
      "execution_count": 358,
      "outputs": [
        {
          "output_type": "execute_result",
          "data": {
            "text/plain": [
              "A Deshmukh                5\n",
              "A Nand Kishore           14\n",
              "AK Chaudhary             56\n",
              "AM Saheba                 3\n",
              "AV Jayaprakash            2\n",
              "AY Dandekar              28\n",
              "Aleem Dar                38\n",
              "Asad Rauf                51\n",
              "BF Bowden                37\n",
              "BG Jerling               13\n",
              "BNJ Oxenford             16\n",
              "BR Doctrove              34\n",
              "C Shamshuddin            22\n",
              "CB Gaffaney              34\n",
              "CK Nandan                 8\n",
              "DJ Harper                 9\n",
              "GAV Baxter                7\n",
              "HDPK Dharmasena          78\n",
              "IJ Gould                  3\n",
              "IL Howell                 7\n",
              "JD Cloete                16\n",
              "K Bharatan                3\n",
              "K Hariharan              10\n",
              "K Srinath                 2\n",
              "KN Ananthapadmanabhan    33\n",
              "M Erasmus                40\n",
              "MR Benson                10\n",
              "NJ Llong                 21\n",
              "Nitin Menon              20\n",
              "PG Pathak                 4\n",
              "PR Reiffel                5\n",
              "RE Koertzen              20\n",
              "RJ Tucker                 5\n",
              "RK Illingworth           13\n",
              "RM Deshpande              7\n",
              "S Asnani                 19\n",
              "S Das                    10\n",
              "S Ravi                   37\n",
              "SD Fry                    5\n",
              "SJ Davis                  6\n",
              "SJA Taufel                1\n",
              "SK Tarapore               5\n",
              "SL Shastri                1\n",
              "SS Hazare                11\n",
              "UV Gandhe                 8\n",
              "VA Kulkarni              19\n",
              "VK Sharma                 6\n",
              "YC Barde                 14\n",
              "Name: umpire1, dtype: int64"
            ]
          },
          "metadata": {
            "tags": []
          },
          "execution_count": 358
        }
      ]
    },
    {
      "cell_type": "code",
      "metadata": {
        "colab": {
          "base_uri": "https://localhost:8080/"
        },
        "id": "hpAs3IOvVDqT",
        "outputId": "77e71f75-d17e-4391-bfb2-a87dbc7d489b"
      },
      "source": [
        "ipl_2['umpire2'].value_counts().sort_index()"
      ],
      "execution_count": 359,
      "outputs": [
        {
          "output_type": "execute_result",
          "data": {
            "text/plain": [
              "A Deshmukh          7\n",
              "A Nand Kishore     11\n",
              "AK Chaudhary       31\n",
              "AL Hill             6\n",
              "AM Saheba          23\n",
              "AV Jayaprakash      4\n",
              "BG Jerling          4\n",
              "BNJ Oxenford       32\n",
              "BR Doctrove         8\n",
              "C Shamshuddin      60\n",
              "CB Gaffaney        13\n",
              "CK Nandan          49\n",
              "DJ Harper          18\n",
              "GA Pratapkumar      6\n",
              "HDPK Dharmasena    16\n",
              "I Shivram           6\n",
              "IJ Gould            3\n",
              "IL Howell           7\n",
              "JD Cloete           1\n",
              "K Hariharan        11\n",
              "K Srinath          13\n",
              "K Srinivasan        6\n",
              "M Erasmus          25\n",
              "MR Benson           2\n",
              "NJ Llong           16\n",
              "Nitin Menon        37\n",
              "PG Pathak           7\n",
              "PR Reiffel         19\n",
              "RB Tiffin          30\n",
              "RE Koertzen        21\n",
              "RJ Tucker          41\n",
              "RK Illingworth     18\n",
              "S Asnani           11\n",
              "S Das               5\n",
              "S Ravi             84\n",
              "SD Fry              1\n",
              "SD Ranade           2\n",
              "SJ Davis            1\n",
              "SJA Taufel         54\n",
              "SK Tarapore        26\n",
              "SL Shastri         13\n",
              "SS Hazare           6\n",
              "Subroto Das         1\n",
              "TH Wijewardene      5\n",
              "VA Kulkarni        31\n",
              "VK Sharma          20\n",
              "YC Barde            5\n",
              "Name: umpire2, dtype: int64"
            ]
          },
          "metadata": {
            "tags": []
          },
          "execution_count": 359
        }
      ]
    },
    {
      "cell_type": "code",
      "metadata": {
        "colab": {
          "base_uri": "https://localhost:8080/"
        },
        "id": "Rq0I3kyHTwxU",
        "outputId": "b69f2c87-e013-4ae5-f223-0782b9b61b5a"
      },
      "source": [
        "ipl_2 = ipl_2.drop_duplicates(keep = 'first')\n",
        "ipl_2.info()"
      ],
      "execution_count": 360,
      "outputs": [
        {
          "output_type": "stream",
          "text": [
            "<class 'pandas.core.frame.DataFrame'>\n",
            "Int64Index: 816 entries, 0 to 815\n",
            "Data columns (total 17 columns):\n",
            " #   Column           Non-Null Count  Dtype  \n",
            "---  ------           --------------  -----  \n",
            " 0   id               816 non-null    int64  \n",
            " 1   city             803 non-null    object \n",
            " 2   date             816 non-null    object \n",
            " 3   player_of_match  812 non-null    object \n",
            " 4   venue            816 non-null    object \n",
            " 5   neutral_venue    816 non-null    int64  \n",
            " 6   team1            816 non-null    object \n",
            " 7   team2            816 non-null    object \n",
            " 8   toss_winner      816 non-null    object \n",
            " 9   toss_decision    816 non-null    object \n",
            " 10  winner           812 non-null    object \n",
            " 11  result           812 non-null    object \n",
            " 12  result_margin    799 non-null    float64\n",
            " 13  eliminator       812 non-null    object \n",
            " 14  method           19 non-null     object \n",
            " 15  umpire1          816 non-null    object \n",
            " 16  umpire2          816 non-null    object \n",
            "dtypes: float64(1), int64(2), object(14)\n",
            "memory usage: 114.8+ KB\n"
          ],
          "name": "stdout"
        }
      ]
    },
    {
      "cell_type": "code",
      "metadata": {
        "colab": {
          "base_uri": "https://localhost:8080/"
        },
        "id": "uQA0QmbloMZv",
        "outputId": "f2c55513-1039-4684-b55b-bdaf735357d6"
      },
      "source": [
        "ipl_3 = ipl_2\n",
        "ipl_3 = ipl_3.drop(['id'], axis = 1)\n",
        "ipl_3 = ipl_3.drop(['player_of_match'], axis = 1)\n",
        "ipl_3 = ipl_3.drop(['result'], axis = 1)\n",
        "ipl_3 = ipl_3.drop(['result_margin'], axis = 1)\n",
        "ipl_3 = ipl_3.drop(['method'], axis = 1)\n",
        "ipl_3.info()"
      ],
      "execution_count": 361,
      "outputs": [
        {
          "output_type": "stream",
          "text": [
            "<class 'pandas.core.frame.DataFrame'>\n",
            "Int64Index: 816 entries, 0 to 815\n",
            "Data columns (total 12 columns):\n",
            " #   Column         Non-Null Count  Dtype \n",
            "---  ------         --------------  ----- \n",
            " 0   city           803 non-null    object\n",
            " 1   date           816 non-null    object\n",
            " 2   venue          816 non-null    object\n",
            " 3   neutral_venue  816 non-null    int64 \n",
            " 4   team1          816 non-null    object\n",
            " 5   team2          816 non-null    object\n",
            " 6   toss_winner    816 non-null    object\n",
            " 7   toss_decision  816 non-null    object\n",
            " 8   winner         812 non-null    object\n",
            " 9   eliminator     812 non-null    object\n",
            " 10  umpire1        816 non-null    object\n",
            " 11  umpire2        816 non-null    object\n",
            "dtypes: int64(1), object(11)\n",
            "memory usage: 82.9+ KB\n"
          ],
          "name": "stdout"
        }
      ]
    },
    {
      "cell_type": "code",
      "metadata": {
        "colab": {
          "base_uri": "https://localhost:8080/"
        },
        "id": "IRKG0lGlt6Ug",
        "outputId": "5aeb5f8c-2bb7-4f1d-9ef3-c06d547cb863"
      },
      "source": [
        "ipl_3['winner'].fillna('Tie', inplace=True)\n",
        "ipl_3.info()"
      ],
      "execution_count": 362,
      "outputs": [
        {
          "output_type": "stream",
          "text": [
            "<class 'pandas.core.frame.DataFrame'>\n",
            "Int64Index: 816 entries, 0 to 815\n",
            "Data columns (total 12 columns):\n",
            " #   Column         Non-Null Count  Dtype \n",
            "---  ------         --------------  ----- \n",
            " 0   city           803 non-null    object\n",
            " 1   date           816 non-null    object\n",
            " 2   venue          816 non-null    object\n",
            " 3   neutral_venue  816 non-null    int64 \n",
            " 4   team1          816 non-null    object\n",
            " 5   team2          816 non-null    object\n",
            " 6   toss_winner    816 non-null    object\n",
            " 7   toss_decision  816 non-null    object\n",
            " 8   winner         816 non-null    object\n",
            " 9   eliminator     812 non-null    object\n",
            " 10  umpire1        816 non-null    object\n",
            " 11  umpire2        816 non-null    object\n",
            "dtypes: int64(1), object(11)\n",
            "memory usage: 82.9+ KB\n"
          ],
          "name": "stdout"
        }
      ]
    },
    {
      "cell_type": "code",
      "metadata": {
        "colab": {
          "base_uri": "https://localhost:8080/",
          "height": 292
        },
        "id": "UyjDNxNfyjYh",
        "outputId": "59709361-1c41-4abf-9ff2-e4a52e924a10"
      },
      "source": [
        "ipl_3[ipl_3['eliminator'].isnull() == True]"
      ],
      "execution_count": 363,
      "outputs": [
        {
          "output_type": "execute_result",
          "data": {
            "text/html": [
              "<div>\n",
              "<style scoped>\n",
              "    .dataframe tbody tr th:only-of-type {\n",
              "        vertical-align: middle;\n",
              "    }\n",
              "\n",
              "    .dataframe tbody tr th {\n",
              "        vertical-align: top;\n",
              "    }\n",
              "\n",
              "    .dataframe thead th {\n",
              "        text-align: right;\n",
              "    }\n",
              "</style>\n",
              "<table border=\"1\" class=\"dataframe\">\n",
              "  <thead>\n",
              "    <tr style=\"text-align: right;\">\n",
              "      <th></th>\n",
              "      <th>city</th>\n",
              "      <th>date</th>\n",
              "      <th>venue</th>\n",
              "      <th>neutral_venue</th>\n",
              "      <th>team1</th>\n",
              "      <th>team2</th>\n",
              "      <th>toss_winner</th>\n",
              "      <th>toss_decision</th>\n",
              "      <th>winner</th>\n",
              "      <th>eliminator</th>\n",
              "      <th>umpire1</th>\n",
              "      <th>umpire2</th>\n",
              "    </tr>\n",
              "  </thead>\n",
              "  <tbody>\n",
              "    <tr>\n",
              "      <th>241</th>\n",
              "      <td>Delhi</td>\n",
              "      <td>2011-05-21</td>\n",
              "      <td>Feroz Shah Kotla</td>\n",
              "      <td>0</td>\n",
              "      <td>Delhi Daredevils</td>\n",
              "      <td>Pune Warriors</td>\n",
              "      <td>Delhi Daredevils</td>\n",
              "      <td>bat</td>\n",
              "      <td>Tie</td>\n",
              "      <td>NaN</td>\n",
              "      <td>SS Hazare</td>\n",
              "      <td>RJ Tucker</td>\n",
              "    </tr>\n",
              "    <tr>\n",
              "      <th>486</th>\n",
              "      <td>Bangalore</td>\n",
              "      <td>2015-04-29</td>\n",
              "      <td>M. Chinnaswamy Stadium</td>\n",
              "      <td>0</td>\n",
              "      <td>Royal Challengers Bangalore</td>\n",
              "      <td>Rajasthan Royals</td>\n",
              "      <td>Rajasthan Royals</td>\n",
              "      <td>field</td>\n",
              "      <td>Tie</td>\n",
              "      <td>NaN</td>\n",
              "      <td>JD Cloete</td>\n",
              "      <td>PG Pathak</td>\n",
              "    </tr>\n",
              "    <tr>\n",
              "      <th>511</th>\n",
              "      <td>Bangalore</td>\n",
              "      <td>2015-05-17</td>\n",
              "      <td>M. Chinnaswamy Stadium</td>\n",
              "      <td>0</td>\n",
              "      <td>Royal Challengers Bangalore</td>\n",
              "      <td>Delhi Daredevils</td>\n",
              "      <td>Royal Challengers Bangalore</td>\n",
              "      <td>field</td>\n",
              "      <td>Tie</td>\n",
              "      <td>NaN</td>\n",
              "      <td>HDPK Dharmasena</td>\n",
              "      <td>K Srinivasan</td>\n",
              "    </tr>\n",
              "    <tr>\n",
              "      <th>744</th>\n",
              "      <td>Bangalore</td>\n",
              "      <td>2019-04-30</td>\n",
              "      <td>M. Chinnaswamy Stadium</td>\n",
              "      <td>0</td>\n",
              "      <td>Royal Challengers Bangalore</td>\n",
              "      <td>Rajasthan Royals</td>\n",
              "      <td>Rajasthan Royals</td>\n",
              "      <td>field</td>\n",
              "      <td>Tie</td>\n",
              "      <td>NaN</td>\n",
              "      <td>UV Gandhe</td>\n",
              "      <td>NJ Llong</td>\n",
              "    </tr>\n",
              "  </tbody>\n",
              "</table>\n",
              "</div>"
            ],
            "text/plain": [
              "          city        date  ...          umpire1       umpire2\n",
              "241      Delhi  2011-05-21  ...        SS Hazare     RJ Tucker\n",
              "486  Bangalore  2015-04-29  ...        JD Cloete     PG Pathak\n",
              "511  Bangalore  2015-05-17  ...  HDPK Dharmasena  K Srinivasan\n",
              "744  Bangalore  2019-04-30  ...        UV Gandhe      NJ Llong\n",
              "\n",
              "[4 rows x 12 columns]"
            ]
          },
          "metadata": {
            "tags": []
          },
          "execution_count": 363
        }
      ]
    },
    {
      "cell_type": "code",
      "metadata": {
        "colab": {
          "base_uri": "https://localhost:8080/"
        },
        "id": "uWykrchF0ZEP",
        "outputId": "ac76d554-6384-432a-a28b-9a4b719cce8f"
      },
      "source": [
        "ipl_3['eliminator'].fillna('N', inplace=True)\n",
        "ipl_3.info()"
      ],
      "execution_count": 364,
      "outputs": [
        {
          "output_type": "stream",
          "text": [
            "<class 'pandas.core.frame.DataFrame'>\n",
            "Int64Index: 816 entries, 0 to 815\n",
            "Data columns (total 12 columns):\n",
            " #   Column         Non-Null Count  Dtype \n",
            "---  ------         --------------  ----- \n",
            " 0   city           803 non-null    object\n",
            " 1   date           816 non-null    object\n",
            " 2   venue          816 non-null    object\n",
            " 3   neutral_venue  816 non-null    int64 \n",
            " 4   team1          816 non-null    object\n",
            " 5   team2          816 non-null    object\n",
            " 6   toss_winner    816 non-null    object\n",
            " 7   toss_decision  816 non-null    object\n",
            " 8   winner         816 non-null    object\n",
            " 9   eliminator     816 non-null    object\n",
            " 10  umpire1        816 non-null    object\n",
            " 11  umpire2        816 non-null    object\n",
            "dtypes: int64(1), object(11)\n",
            "memory usage: 82.9+ KB\n"
          ],
          "name": "stdout"
        }
      ]
    },
    {
      "cell_type": "code",
      "metadata": {
        "colab": {
          "base_uri": "https://localhost:8080/",
          "height": 826
        },
        "id": "LMJlyQJE2Fvx",
        "outputId": "0c0fdd19-f5e2-4590-b767-25586fd5027b"
      },
      "source": [
        "ipl_3[ipl_3['city'].isnull() == True]"
      ],
      "execution_count": 365,
      "outputs": [
        {
          "output_type": "execute_result",
          "data": {
            "text/html": [
              "<div>\n",
              "<style scoped>\n",
              "    .dataframe tbody tr th:only-of-type {\n",
              "        vertical-align: middle;\n",
              "    }\n",
              "\n",
              "    .dataframe tbody tr th {\n",
              "        vertical-align: top;\n",
              "    }\n",
              "\n",
              "    .dataframe thead th {\n",
              "        text-align: right;\n",
              "    }\n",
              "</style>\n",
              "<table border=\"1\" class=\"dataframe\">\n",
              "  <thead>\n",
              "    <tr style=\"text-align: right;\">\n",
              "      <th></th>\n",
              "      <th>city</th>\n",
              "      <th>date</th>\n",
              "      <th>venue</th>\n",
              "      <th>neutral_venue</th>\n",
              "      <th>team1</th>\n",
              "      <th>team2</th>\n",
              "      <th>toss_winner</th>\n",
              "      <th>toss_decision</th>\n",
              "      <th>winner</th>\n",
              "      <th>eliminator</th>\n",
              "      <th>umpire1</th>\n",
              "      <th>umpire2</th>\n",
              "    </tr>\n",
              "  </thead>\n",
              "  <tbody>\n",
              "    <tr>\n",
              "      <th>399</th>\n",
              "      <td>NaN</td>\n",
              "      <td>2014-04-17</td>\n",
              "      <td>Sharjah Cricket Stadium</td>\n",
              "      <td>1</td>\n",
              "      <td>Delhi Daredevils</td>\n",
              "      <td>Royal Challengers Bangalore</td>\n",
              "      <td>Royal Challengers Bangalore</td>\n",
              "      <td>field</td>\n",
              "      <td>Royal Challengers Bangalore</td>\n",
              "      <td>N</td>\n",
              "      <td>Aleem Dar</td>\n",
              "      <td>S Ravi</td>\n",
              "    </tr>\n",
              "    <tr>\n",
              "      <th>402</th>\n",
              "      <td>NaN</td>\n",
              "      <td>2014-04-19</td>\n",
              "      <td>Dubai International Cricket Stadium</td>\n",
              "      <td>1</td>\n",
              "      <td>Royal Challengers Bangalore</td>\n",
              "      <td>Mumbai Indians</td>\n",
              "      <td>Royal Challengers Bangalore</td>\n",
              "      <td>field</td>\n",
              "      <td>Royal Challengers Bangalore</td>\n",
              "      <td>N</td>\n",
              "      <td>Aleem Dar</td>\n",
              "      <td>AK Chaudhary</td>\n",
              "    </tr>\n",
              "    <tr>\n",
              "      <th>403</th>\n",
              "      <td>NaN</td>\n",
              "      <td>2014-04-19</td>\n",
              "      <td>Dubai International Cricket Stadium</td>\n",
              "      <td>1</td>\n",
              "      <td>Kolkata Knight Riders</td>\n",
              "      <td>Delhi Daredevils</td>\n",
              "      <td>Kolkata Knight Riders</td>\n",
              "      <td>bat</td>\n",
              "      <td>Delhi Daredevils</td>\n",
              "      <td>N</td>\n",
              "      <td>Aleem Dar</td>\n",
              "      <td>VA Kulkarni</td>\n",
              "    </tr>\n",
              "    <tr>\n",
              "      <th>404</th>\n",
              "      <td>NaN</td>\n",
              "      <td>2014-04-20</td>\n",
              "      <td>Sharjah Cricket Stadium</td>\n",
              "      <td>1</td>\n",
              "      <td>Rajasthan Royals</td>\n",
              "      <td>Kings XI Punjab</td>\n",
              "      <td>Kings XI Punjab</td>\n",
              "      <td>field</td>\n",
              "      <td>Kings XI Punjab</td>\n",
              "      <td>N</td>\n",
              "      <td>BF Bowden</td>\n",
              "      <td>M Erasmus</td>\n",
              "    </tr>\n",
              "    <tr>\n",
              "      <th>406</th>\n",
              "      <td>NaN</td>\n",
              "      <td>2014-04-22</td>\n",
              "      <td>Sharjah Cricket Stadium</td>\n",
              "      <td>1</td>\n",
              "      <td>Kings XI Punjab</td>\n",
              "      <td>Sunrisers Hyderabad</td>\n",
              "      <td>Sunrisers Hyderabad</td>\n",
              "      <td>field</td>\n",
              "      <td>Kings XI Punjab</td>\n",
              "      <td>N</td>\n",
              "      <td>M Erasmus</td>\n",
              "      <td>S Ravi</td>\n",
              "    </tr>\n",
              "    <tr>\n",
              "      <th>407</th>\n",
              "      <td>NaN</td>\n",
              "      <td>2014-04-23</td>\n",
              "      <td>Dubai International Cricket Stadium</td>\n",
              "      <td>1</td>\n",
              "      <td>Rajasthan Royals</td>\n",
              "      <td>Chennai Super Kings</td>\n",
              "      <td>Rajasthan Royals</td>\n",
              "      <td>field</td>\n",
              "      <td>Chennai Super Kings</td>\n",
              "      <td>N</td>\n",
              "      <td>HDPK Dharmasena</td>\n",
              "      <td>RK Illingworth</td>\n",
              "    </tr>\n",
              "    <tr>\n",
              "      <th>408</th>\n",
              "      <td>NaN</td>\n",
              "      <td>2014-04-24</td>\n",
              "      <td>Sharjah Cricket Stadium</td>\n",
              "      <td>1</td>\n",
              "      <td>Royal Challengers Bangalore</td>\n",
              "      <td>Kolkata Knight Riders</td>\n",
              "      <td>Royal Challengers Bangalore</td>\n",
              "      <td>field</td>\n",
              "      <td>Kolkata Knight Riders</td>\n",
              "      <td>N</td>\n",
              "      <td>Aleem Dar</td>\n",
              "      <td>VA Kulkarni</td>\n",
              "    </tr>\n",
              "    <tr>\n",
              "      <th>409</th>\n",
              "      <td>NaN</td>\n",
              "      <td>2014-04-25</td>\n",
              "      <td>Dubai International Cricket Stadium</td>\n",
              "      <td>1</td>\n",
              "      <td>Sunrisers Hyderabad</td>\n",
              "      <td>Delhi Daredevils</td>\n",
              "      <td>Sunrisers Hyderabad</td>\n",
              "      <td>bat</td>\n",
              "      <td>Sunrisers Hyderabad</td>\n",
              "      <td>N</td>\n",
              "      <td>M Erasmus</td>\n",
              "      <td>S Ravi</td>\n",
              "    </tr>\n",
              "    <tr>\n",
              "      <th>410</th>\n",
              "      <td>NaN</td>\n",
              "      <td>2014-04-25</td>\n",
              "      <td>Dubai International Cricket Stadium</td>\n",
              "      <td>1</td>\n",
              "      <td>Chennai Super Kings</td>\n",
              "      <td>Mumbai Indians</td>\n",
              "      <td>Mumbai Indians</td>\n",
              "      <td>bat</td>\n",
              "      <td>Chennai Super Kings</td>\n",
              "      <td>N</td>\n",
              "      <td>BF Bowden</td>\n",
              "      <td>M Erasmus</td>\n",
              "    </tr>\n",
              "    <tr>\n",
              "      <th>413</th>\n",
              "      <td>NaN</td>\n",
              "      <td>2014-04-27</td>\n",
              "      <td>Sharjah Cricket Stadium</td>\n",
              "      <td>1</td>\n",
              "      <td>Delhi Daredevils</td>\n",
              "      <td>Mumbai Indians</td>\n",
              "      <td>Mumbai Indians</td>\n",
              "      <td>bat</td>\n",
              "      <td>Delhi Daredevils</td>\n",
              "      <td>N</td>\n",
              "      <td>Aleem Dar</td>\n",
              "      <td>VA Kulkarni</td>\n",
              "    </tr>\n",
              "    <tr>\n",
              "      <th>414</th>\n",
              "      <td>NaN</td>\n",
              "      <td>2014-04-27</td>\n",
              "      <td>Sharjah Cricket Stadium</td>\n",
              "      <td>1</td>\n",
              "      <td>Sunrisers Hyderabad</td>\n",
              "      <td>Chennai Super Kings</td>\n",
              "      <td>Sunrisers Hyderabad</td>\n",
              "      <td>bat</td>\n",
              "      <td>Chennai Super Kings</td>\n",
              "      <td>N</td>\n",
              "      <td>AK Chaudhary</td>\n",
              "      <td>VA Kulkarni</td>\n",
              "    </tr>\n",
              "    <tr>\n",
              "      <th>415</th>\n",
              "      <td>NaN</td>\n",
              "      <td>2014-04-28</td>\n",
              "      <td>Dubai International Cricket Stadium</td>\n",
              "      <td>1</td>\n",
              "      <td>Kings XI Punjab</td>\n",
              "      <td>Royal Challengers Bangalore</td>\n",
              "      <td>Kings XI Punjab</td>\n",
              "      <td>field</td>\n",
              "      <td>Kings XI Punjab</td>\n",
              "      <td>N</td>\n",
              "      <td>BF Bowden</td>\n",
              "      <td>S Ravi</td>\n",
              "    </tr>\n",
              "    <tr>\n",
              "      <th>417</th>\n",
              "      <td>NaN</td>\n",
              "      <td>2014-04-30</td>\n",
              "      <td>Dubai International Cricket Stadium</td>\n",
              "      <td>1</td>\n",
              "      <td>Mumbai Indians</td>\n",
              "      <td>Sunrisers Hyderabad</td>\n",
              "      <td>Mumbai Indians</td>\n",
              "      <td>field</td>\n",
              "      <td>Sunrisers Hyderabad</td>\n",
              "      <td>N</td>\n",
              "      <td>HDPK Dharmasena</td>\n",
              "      <td>M Erasmus</td>\n",
              "    </tr>\n",
              "  </tbody>\n",
              "</table>\n",
              "</div>"
            ],
            "text/plain": [
              "    city        date  ...          umpire1         umpire2\n",
              "399  NaN  2014-04-17  ...        Aleem Dar          S Ravi\n",
              "402  NaN  2014-04-19  ...        Aleem Dar    AK Chaudhary\n",
              "403  NaN  2014-04-19  ...        Aleem Dar     VA Kulkarni\n",
              "404  NaN  2014-04-20  ...        BF Bowden       M Erasmus\n",
              "406  NaN  2014-04-22  ...        M Erasmus          S Ravi\n",
              "407  NaN  2014-04-23  ...  HDPK Dharmasena  RK Illingworth\n",
              "408  NaN  2014-04-24  ...        Aleem Dar     VA Kulkarni\n",
              "409  NaN  2014-04-25  ...        M Erasmus          S Ravi\n",
              "410  NaN  2014-04-25  ...        BF Bowden       M Erasmus\n",
              "413  NaN  2014-04-27  ...        Aleem Dar     VA Kulkarni\n",
              "414  NaN  2014-04-27  ...     AK Chaudhary     VA Kulkarni\n",
              "415  NaN  2014-04-28  ...        BF Bowden          S Ravi\n",
              "417  NaN  2014-04-30  ...  HDPK Dharmasena       M Erasmus\n",
              "\n",
              "[13 rows x 12 columns]"
            ]
          },
          "metadata": {
            "tags": []
          },
          "execution_count": 365
        }
      ]
    },
    {
      "cell_type": "code",
      "metadata": {
        "colab": {
          "base_uri": "https://localhost:8080/"
        },
        "id": "p1egC6DO5V4x",
        "outputId": "f7985781-e7f2-4f88-d9cb-e6e94211e359"
      },
      "source": [
        "ipl_3[(ipl_3['city'].isnull() == True) & (ipl_3['venue'] == 'Sharjah Cricket Stadium')].fillna('Sharjah', inplace=True)"
      ],
      "execution_count": 366,
      "outputs": [
        {
          "output_type": "stream",
          "text": [
            "/usr/local/lib/python3.7/dist-packages/pandas/core/frame.py:4327: SettingWithCopyWarning: \n",
            "A value is trying to be set on a copy of a slice from a DataFrame\n",
            "\n",
            "See the caveats in the documentation: https://pandas.pydata.org/pandas-docs/stable/user_guide/indexing.html#returning-a-view-versus-a-copy\n",
            "  downcast=downcast,\n"
          ],
          "name": "stderr"
        }
      ]
    },
    {
      "cell_type": "code",
      "metadata": {
        "colab": {
          "base_uri": "https://localhost:8080/"
        },
        "id": "33didd4e6xcY",
        "outputId": "7628df08-b965-40a6-f719-ac733b5168e5"
      },
      "source": [
        "ipl_3[(ipl_3['city'].isnull() == True) & (ipl_3['venue'] == 'Dubai International Cricket Stadium')].fillna('Dubai', inplace=True)"
      ],
      "execution_count": 367,
      "outputs": [
        {
          "output_type": "stream",
          "text": [
            "/usr/local/lib/python3.7/dist-packages/pandas/core/frame.py:4327: SettingWithCopyWarning: \n",
            "A value is trying to be set on a copy of a slice from a DataFrame\n",
            "\n",
            "See the caveats in the documentation: https://pandas.pydata.org/pandas-docs/stable/user_guide/indexing.html#returning-a-view-versus-a-copy\n",
            "  downcast=downcast,\n"
          ],
          "name": "stderr"
        }
      ]
    },
    {
      "cell_type": "code",
      "metadata": {
        "colab": {
          "base_uri": "https://localhost:8080/"
        },
        "id": "LZPRJjcB2_o_",
        "outputId": "6d609dac-ceea-40f8-cef5-6097e2e32914"
      },
      "source": [
        "ipl_3.info()"
      ],
      "execution_count": 368,
      "outputs": [
        {
          "output_type": "stream",
          "text": [
            "<class 'pandas.core.frame.DataFrame'>\n",
            "Int64Index: 816 entries, 0 to 815\n",
            "Data columns (total 12 columns):\n",
            " #   Column         Non-Null Count  Dtype \n",
            "---  ------         --------------  ----- \n",
            " 0   city           803 non-null    object\n",
            " 1   date           816 non-null    object\n",
            " 2   venue          816 non-null    object\n",
            " 3   neutral_venue  816 non-null    int64 \n",
            " 4   team1          816 non-null    object\n",
            " 5   team2          816 non-null    object\n",
            " 6   toss_winner    816 non-null    object\n",
            " 7   toss_decision  816 non-null    object\n",
            " 8   winner         816 non-null    object\n",
            " 9   eliminator     816 non-null    object\n",
            " 10  umpire1        816 non-null    object\n",
            " 11  umpire2        816 non-null    object\n",
            "dtypes: int64(1), object(11)\n",
            "memory usage: 82.9+ KB\n"
          ],
          "name": "stdout"
        }
      ]
    },
    {
      "cell_type": "code",
      "metadata": {
        "colab": {
          "base_uri": "https://localhost:8080/"
        },
        "id": "Aq6U4tWu3M1O",
        "outputId": "cf43e4cd-ffb6-486b-b213-a6642fc618b2"
      },
      "source": [
        "ipl_3['date'] = pd.to_datetime(ipl_3['date'])\n",
        "ipl_3['year'] = ipl_3['date'].dt.year\n",
        "ipl_3['month'] = ipl_3['date'].dt.month\n",
        "ipl_3['day'] = ipl_3['date'].dt.day\n",
        "ipl_3.info()"
      ],
      "execution_count": 369,
      "outputs": [
        {
          "output_type": "stream",
          "text": [
            "<class 'pandas.core.frame.DataFrame'>\n",
            "Int64Index: 816 entries, 0 to 815\n",
            "Data columns (total 15 columns):\n",
            " #   Column         Non-Null Count  Dtype         \n",
            "---  ------         --------------  -----         \n",
            " 0   city           803 non-null    object        \n",
            " 1   date           816 non-null    datetime64[ns]\n",
            " 2   venue          816 non-null    object        \n",
            " 3   neutral_venue  816 non-null    int64         \n",
            " 4   team1          816 non-null    object        \n",
            " 5   team2          816 non-null    object        \n",
            " 6   toss_winner    816 non-null    object        \n",
            " 7   toss_decision  816 non-null    object        \n",
            " 8   winner         816 non-null    object        \n",
            " 9   eliminator     816 non-null    object        \n",
            " 10  umpire1        816 non-null    object        \n",
            " 11  umpire2        816 non-null    object        \n",
            " 12  year           816 non-null    int64         \n",
            " 13  month          816 non-null    int64         \n",
            " 14  day            816 non-null    int64         \n",
            "dtypes: datetime64[ns](1), int64(4), object(10)\n",
            "memory usage: 102.0+ KB\n"
          ],
          "name": "stdout"
        }
      ]
    },
    {
      "cell_type": "code",
      "metadata": {
        "colab": {
          "base_uri": "https://localhost:8080/"
        },
        "id": "qc_j8A4k4Ij-",
        "outputId": "52459783-3eac-4e37-8fc0-9c1d9b7e5701"
      },
      "source": [
        "print(min(ipl_3['date']))\n",
        "print(max(ipl_3['date']))"
      ],
      "execution_count": 370,
      "outputs": [
        {
          "output_type": "stream",
          "text": [
            "2008-04-18 00:00:00\n",
            "2020-11-10 00:00:00\n"
          ],
          "name": "stdout"
        }
      ]
    },
    {
      "cell_type": "code",
      "metadata": {
        "colab": {
          "base_uri": "https://localhost:8080/",
          "height": 830
        },
        "id": "oEMKD96a4E1R",
        "outputId": "7e68a48a-8394-41bc-d1aa-e055a82014ff"
      },
      "source": [
        "ipl_4 = ipl_3\n",
        "ipl_4 = ipl_4.drop(['date'], axis = 1)\n",
        "ipl_4"
      ],
      "execution_count": 371,
      "outputs": [
        {
          "output_type": "execute_result",
          "data": {
            "text/html": [
              "<div>\n",
              "<style scoped>\n",
              "    .dataframe tbody tr th:only-of-type {\n",
              "        vertical-align: middle;\n",
              "    }\n",
              "\n",
              "    .dataframe tbody tr th {\n",
              "        vertical-align: top;\n",
              "    }\n",
              "\n",
              "    .dataframe thead th {\n",
              "        text-align: right;\n",
              "    }\n",
              "</style>\n",
              "<table border=\"1\" class=\"dataframe\">\n",
              "  <thead>\n",
              "    <tr style=\"text-align: right;\">\n",
              "      <th></th>\n",
              "      <th>city</th>\n",
              "      <th>venue</th>\n",
              "      <th>neutral_venue</th>\n",
              "      <th>team1</th>\n",
              "      <th>team2</th>\n",
              "      <th>toss_winner</th>\n",
              "      <th>toss_decision</th>\n",
              "      <th>winner</th>\n",
              "      <th>eliminator</th>\n",
              "      <th>umpire1</th>\n",
              "      <th>umpire2</th>\n",
              "      <th>year</th>\n",
              "      <th>month</th>\n",
              "      <th>day</th>\n",
              "    </tr>\n",
              "  </thead>\n",
              "  <tbody>\n",
              "    <tr>\n",
              "      <th>0</th>\n",
              "      <td>Bangalore</td>\n",
              "      <td>M. Chinnaswamy Stadium</td>\n",
              "      <td>0</td>\n",
              "      <td>Royal Challengers Bangalore</td>\n",
              "      <td>Kolkata Knight Riders</td>\n",
              "      <td>Royal Challengers Bangalore</td>\n",
              "      <td>field</td>\n",
              "      <td>Kolkata Knight Riders</td>\n",
              "      <td>N</td>\n",
              "      <td>Asad Rauf</td>\n",
              "      <td>RE Koertzen</td>\n",
              "      <td>2008</td>\n",
              "      <td>4</td>\n",
              "      <td>18</td>\n",
              "    </tr>\n",
              "    <tr>\n",
              "      <th>1</th>\n",
              "      <td>Chandigarh</td>\n",
              "      <td>Punjab Cricket Association IS Bindra Stadium, ...</td>\n",
              "      <td>0</td>\n",
              "      <td>Kings XI Punjab</td>\n",
              "      <td>Chennai Super Kings</td>\n",
              "      <td>Chennai Super Kings</td>\n",
              "      <td>bat</td>\n",
              "      <td>Chennai Super Kings</td>\n",
              "      <td>N</td>\n",
              "      <td>MR Benson</td>\n",
              "      <td>SL Shastri</td>\n",
              "      <td>2008</td>\n",
              "      <td>4</td>\n",
              "      <td>19</td>\n",
              "    </tr>\n",
              "    <tr>\n",
              "      <th>2</th>\n",
              "      <td>Delhi</td>\n",
              "      <td>Feroz Shah Kotla</td>\n",
              "      <td>0</td>\n",
              "      <td>Delhi Daredevils</td>\n",
              "      <td>Rajasthan Royals</td>\n",
              "      <td>Rajasthan Royals</td>\n",
              "      <td>bat</td>\n",
              "      <td>Delhi Daredevils</td>\n",
              "      <td>N</td>\n",
              "      <td>Aleem Dar</td>\n",
              "      <td>GA Pratapkumar</td>\n",
              "      <td>2008</td>\n",
              "      <td>4</td>\n",
              "      <td>19</td>\n",
              "    </tr>\n",
              "    <tr>\n",
              "      <th>3</th>\n",
              "      <td>Mumbai</td>\n",
              "      <td>Wankhede Stadium</td>\n",
              "      <td>0</td>\n",
              "      <td>Mumbai Indians</td>\n",
              "      <td>Royal Challengers Bangalore</td>\n",
              "      <td>Mumbai Indians</td>\n",
              "      <td>bat</td>\n",
              "      <td>Royal Challengers Bangalore</td>\n",
              "      <td>N</td>\n",
              "      <td>SJ Davis</td>\n",
              "      <td>DJ Harper</td>\n",
              "      <td>2008</td>\n",
              "      <td>4</td>\n",
              "      <td>20</td>\n",
              "    </tr>\n",
              "    <tr>\n",
              "      <th>4</th>\n",
              "      <td>Kolkata</td>\n",
              "      <td>Eden Gardens</td>\n",
              "      <td>0</td>\n",
              "      <td>Kolkata Knight Riders</td>\n",
              "      <td>Deccan Chargers</td>\n",
              "      <td>Deccan Chargers</td>\n",
              "      <td>bat</td>\n",
              "      <td>Kolkata Knight Riders</td>\n",
              "      <td>N</td>\n",
              "      <td>BF Bowden</td>\n",
              "      <td>K Hariharan</td>\n",
              "      <td>2008</td>\n",
              "      <td>4</td>\n",
              "      <td>20</td>\n",
              "    </tr>\n",
              "    <tr>\n",
              "      <th>...</th>\n",
              "      <td>...</td>\n",
              "      <td>...</td>\n",
              "      <td>...</td>\n",
              "      <td>...</td>\n",
              "      <td>...</td>\n",
              "      <td>...</td>\n",
              "      <td>...</td>\n",
              "      <td>...</td>\n",
              "      <td>...</td>\n",
              "      <td>...</td>\n",
              "      <td>...</td>\n",
              "      <td>...</td>\n",
              "      <td>...</td>\n",
              "      <td>...</td>\n",
              "    </tr>\n",
              "    <tr>\n",
              "      <th>811</th>\n",
              "      <td>Dubai</td>\n",
              "      <td>Dubai International Cricket Stadium</td>\n",
              "      <td>0</td>\n",
              "      <td>Royal Challengers Bangalore</td>\n",
              "      <td>Mumbai Indians</td>\n",
              "      <td>Mumbai Indians</td>\n",
              "      <td>field</td>\n",
              "      <td>Royal Challengers Bangalore</td>\n",
              "      <td>Y</td>\n",
              "      <td>Nitin Menon</td>\n",
              "      <td>PR Reiffel</td>\n",
              "      <td>2020</td>\n",
              "      <td>9</td>\n",
              "      <td>28</td>\n",
              "    </tr>\n",
              "    <tr>\n",
              "      <th>812</th>\n",
              "      <td>Dubai</td>\n",
              "      <td>Dubai International Cricket Stadium</td>\n",
              "      <td>0</td>\n",
              "      <td>Mumbai Indians</td>\n",
              "      <td>Delhi Capitals</td>\n",
              "      <td>Delhi Capitals</td>\n",
              "      <td>field</td>\n",
              "      <td>Mumbai Indians</td>\n",
              "      <td>N</td>\n",
              "      <td>CB Gaffaney</td>\n",
              "      <td>Nitin Menon</td>\n",
              "      <td>2020</td>\n",
              "      <td>11</td>\n",
              "      <td>5</td>\n",
              "    </tr>\n",
              "    <tr>\n",
              "      <th>813</th>\n",
              "      <td>Abu Dhabi</td>\n",
              "      <td>Sheikh Zayed Stadium</td>\n",
              "      <td>0</td>\n",
              "      <td>Royal Challengers Bangalore</td>\n",
              "      <td>Sunrisers Hyderabad</td>\n",
              "      <td>Sunrisers Hyderabad</td>\n",
              "      <td>field</td>\n",
              "      <td>Sunrisers Hyderabad</td>\n",
              "      <td>N</td>\n",
              "      <td>PR Reiffel</td>\n",
              "      <td>S Ravi</td>\n",
              "      <td>2020</td>\n",
              "      <td>11</td>\n",
              "      <td>6</td>\n",
              "    </tr>\n",
              "    <tr>\n",
              "      <th>814</th>\n",
              "      <td>Abu Dhabi</td>\n",
              "      <td>Sheikh Zayed Stadium</td>\n",
              "      <td>0</td>\n",
              "      <td>Delhi Capitals</td>\n",
              "      <td>Sunrisers Hyderabad</td>\n",
              "      <td>Delhi Capitals</td>\n",
              "      <td>bat</td>\n",
              "      <td>Delhi Capitals</td>\n",
              "      <td>N</td>\n",
              "      <td>PR Reiffel</td>\n",
              "      <td>S Ravi</td>\n",
              "      <td>2020</td>\n",
              "      <td>11</td>\n",
              "      <td>8</td>\n",
              "    </tr>\n",
              "    <tr>\n",
              "      <th>815</th>\n",
              "      <td>Dubai</td>\n",
              "      <td>Dubai International Cricket Stadium</td>\n",
              "      <td>0</td>\n",
              "      <td>Delhi Capitals</td>\n",
              "      <td>Mumbai Indians</td>\n",
              "      <td>Delhi Capitals</td>\n",
              "      <td>bat</td>\n",
              "      <td>Mumbai Indians</td>\n",
              "      <td>N</td>\n",
              "      <td>CB Gaffaney</td>\n",
              "      <td>Nitin Menon</td>\n",
              "      <td>2020</td>\n",
              "      <td>11</td>\n",
              "      <td>10</td>\n",
              "    </tr>\n",
              "  </tbody>\n",
              "</table>\n",
              "<p>816 rows × 14 columns</p>\n",
              "</div>"
            ],
            "text/plain": [
              "           city                                              venue  ...  month day\n",
              "0     Bangalore                             M. Chinnaswamy Stadium  ...      4  18\n",
              "1    Chandigarh  Punjab Cricket Association IS Bindra Stadium, ...  ...      4  19\n",
              "2         Delhi                                   Feroz Shah Kotla  ...      4  19\n",
              "3        Mumbai                                   Wankhede Stadium  ...      4  20\n",
              "4       Kolkata                                       Eden Gardens  ...      4  20\n",
              "..          ...                                                ...  ...    ...  ..\n",
              "811       Dubai                Dubai International Cricket Stadium  ...      9  28\n",
              "812       Dubai                Dubai International Cricket Stadium  ...     11   5\n",
              "813   Abu Dhabi                               Sheikh Zayed Stadium  ...     11   6\n",
              "814   Abu Dhabi                               Sheikh Zayed Stadium  ...     11   8\n",
              "815       Dubai                Dubai International Cricket Stadium  ...     11  10\n",
              "\n",
              "[816 rows x 14 columns]"
            ]
          },
          "metadata": {
            "tags": []
          },
          "execution_count": 371
        }
      ]
    },
    {
      "cell_type": "code",
      "metadata": {
        "colab": {
          "base_uri": "https://localhost:8080/"
        },
        "id": "TsTpPNds4nmH",
        "outputId": "fb8b3553-82d5-46ea-c93d-75b9b82aed1e"
      },
      "source": [
        "ipl_4.columns"
      ],
      "execution_count": 372,
      "outputs": [
        {
          "output_type": "execute_result",
          "data": {
            "text/plain": [
              "Index(['city', 'venue', 'neutral_venue', 'team1', 'team2', 'toss_winner',\n",
              "       'toss_decision', 'winner', 'eliminator', 'umpire1', 'umpire2', 'year',\n",
              "       'month', 'day'],\n",
              "      dtype='object')"
            ]
          },
          "metadata": {
            "tags": []
          },
          "execution_count": 372
        }
      ]
    },
    {
      "cell_type": "code",
      "metadata": {
        "colab": {
          "base_uri": "https://localhost:8080/",
          "height": 830
        },
        "id": "IENB1m-r4ZRF",
        "outputId": "6ea6cdb4-c820-47c1-f0d1-c2b5d3bf0260"
      },
      "source": [
        "ipl_4 = ipl_4[['year', 'month', 'day', 'city', 'venue', 'neutral_venue', 'team1', 'team2', 'toss_winner',\n",
        "       'toss_decision', 'winner', 'eliminator', 'umpire1', 'umpire2']]\n",
        "ipl_4"
      ],
      "execution_count": 373,
      "outputs": [
        {
          "output_type": "execute_result",
          "data": {
            "text/html": [
              "<div>\n",
              "<style scoped>\n",
              "    .dataframe tbody tr th:only-of-type {\n",
              "        vertical-align: middle;\n",
              "    }\n",
              "\n",
              "    .dataframe tbody tr th {\n",
              "        vertical-align: top;\n",
              "    }\n",
              "\n",
              "    .dataframe thead th {\n",
              "        text-align: right;\n",
              "    }\n",
              "</style>\n",
              "<table border=\"1\" class=\"dataframe\">\n",
              "  <thead>\n",
              "    <tr style=\"text-align: right;\">\n",
              "      <th></th>\n",
              "      <th>year</th>\n",
              "      <th>month</th>\n",
              "      <th>day</th>\n",
              "      <th>city</th>\n",
              "      <th>venue</th>\n",
              "      <th>neutral_venue</th>\n",
              "      <th>team1</th>\n",
              "      <th>team2</th>\n",
              "      <th>toss_winner</th>\n",
              "      <th>toss_decision</th>\n",
              "      <th>winner</th>\n",
              "      <th>eliminator</th>\n",
              "      <th>umpire1</th>\n",
              "      <th>umpire2</th>\n",
              "    </tr>\n",
              "  </thead>\n",
              "  <tbody>\n",
              "    <tr>\n",
              "      <th>0</th>\n",
              "      <td>2008</td>\n",
              "      <td>4</td>\n",
              "      <td>18</td>\n",
              "      <td>Bangalore</td>\n",
              "      <td>M. Chinnaswamy Stadium</td>\n",
              "      <td>0</td>\n",
              "      <td>Royal Challengers Bangalore</td>\n",
              "      <td>Kolkata Knight Riders</td>\n",
              "      <td>Royal Challengers Bangalore</td>\n",
              "      <td>field</td>\n",
              "      <td>Kolkata Knight Riders</td>\n",
              "      <td>N</td>\n",
              "      <td>Asad Rauf</td>\n",
              "      <td>RE Koertzen</td>\n",
              "    </tr>\n",
              "    <tr>\n",
              "      <th>1</th>\n",
              "      <td>2008</td>\n",
              "      <td>4</td>\n",
              "      <td>19</td>\n",
              "      <td>Chandigarh</td>\n",
              "      <td>Punjab Cricket Association IS Bindra Stadium, ...</td>\n",
              "      <td>0</td>\n",
              "      <td>Kings XI Punjab</td>\n",
              "      <td>Chennai Super Kings</td>\n",
              "      <td>Chennai Super Kings</td>\n",
              "      <td>bat</td>\n",
              "      <td>Chennai Super Kings</td>\n",
              "      <td>N</td>\n",
              "      <td>MR Benson</td>\n",
              "      <td>SL Shastri</td>\n",
              "    </tr>\n",
              "    <tr>\n",
              "      <th>2</th>\n",
              "      <td>2008</td>\n",
              "      <td>4</td>\n",
              "      <td>19</td>\n",
              "      <td>Delhi</td>\n",
              "      <td>Feroz Shah Kotla</td>\n",
              "      <td>0</td>\n",
              "      <td>Delhi Daredevils</td>\n",
              "      <td>Rajasthan Royals</td>\n",
              "      <td>Rajasthan Royals</td>\n",
              "      <td>bat</td>\n",
              "      <td>Delhi Daredevils</td>\n",
              "      <td>N</td>\n",
              "      <td>Aleem Dar</td>\n",
              "      <td>GA Pratapkumar</td>\n",
              "    </tr>\n",
              "    <tr>\n",
              "      <th>3</th>\n",
              "      <td>2008</td>\n",
              "      <td>4</td>\n",
              "      <td>20</td>\n",
              "      <td>Mumbai</td>\n",
              "      <td>Wankhede Stadium</td>\n",
              "      <td>0</td>\n",
              "      <td>Mumbai Indians</td>\n",
              "      <td>Royal Challengers Bangalore</td>\n",
              "      <td>Mumbai Indians</td>\n",
              "      <td>bat</td>\n",
              "      <td>Royal Challengers Bangalore</td>\n",
              "      <td>N</td>\n",
              "      <td>SJ Davis</td>\n",
              "      <td>DJ Harper</td>\n",
              "    </tr>\n",
              "    <tr>\n",
              "      <th>4</th>\n",
              "      <td>2008</td>\n",
              "      <td>4</td>\n",
              "      <td>20</td>\n",
              "      <td>Kolkata</td>\n",
              "      <td>Eden Gardens</td>\n",
              "      <td>0</td>\n",
              "      <td>Kolkata Knight Riders</td>\n",
              "      <td>Deccan Chargers</td>\n",
              "      <td>Deccan Chargers</td>\n",
              "      <td>bat</td>\n",
              "      <td>Kolkata Knight Riders</td>\n",
              "      <td>N</td>\n",
              "      <td>BF Bowden</td>\n",
              "      <td>K Hariharan</td>\n",
              "    </tr>\n",
              "    <tr>\n",
              "      <th>...</th>\n",
              "      <td>...</td>\n",
              "      <td>...</td>\n",
              "      <td>...</td>\n",
              "      <td>...</td>\n",
              "      <td>...</td>\n",
              "      <td>...</td>\n",
              "      <td>...</td>\n",
              "      <td>...</td>\n",
              "      <td>...</td>\n",
              "      <td>...</td>\n",
              "      <td>...</td>\n",
              "      <td>...</td>\n",
              "      <td>...</td>\n",
              "      <td>...</td>\n",
              "    </tr>\n",
              "    <tr>\n",
              "      <th>811</th>\n",
              "      <td>2020</td>\n",
              "      <td>9</td>\n",
              "      <td>28</td>\n",
              "      <td>Dubai</td>\n",
              "      <td>Dubai International Cricket Stadium</td>\n",
              "      <td>0</td>\n",
              "      <td>Royal Challengers Bangalore</td>\n",
              "      <td>Mumbai Indians</td>\n",
              "      <td>Mumbai Indians</td>\n",
              "      <td>field</td>\n",
              "      <td>Royal Challengers Bangalore</td>\n",
              "      <td>Y</td>\n",
              "      <td>Nitin Menon</td>\n",
              "      <td>PR Reiffel</td>\n",
              "    </tr>\n",
              "    <tr>\n",
              "      <th>812</th>\n",
              "      <td>2020</td>\n",
              "      <td>11</td>\n",
              "      <td>5</td>\n",
              "      <td>Dubai</td>\n",
              "      <td>Dubai International Cricket Stadium</td>\n",
              "      <td>0</td>\n",
              "      <td>Mumbai Indians</td>\n",
              "      <td>Delhi Capitals</td>\n",
              "      <td>Delhi Capitals</td>\n",
              "      <td>field</td>\n",
              "      <td>Mumbai Indians</td>\n",
              "      <td>N</td>\n",
              "      <td>CB Gaffaney</td>\n",
              "      <td>Nitin Menon</td>\n",
              "    </tr>\n",
              "    <tr>\n",
              "      <th>813</th>\n",
              "      <td>2020</td>\n",
              "      <td>11</td>\n",
              "      <td>6</td>\n",
              "      <td>Abu Dhabi</td>\n",
              "      <td>Sheikh Zayed Stadium</td>\n",
              "      <td>0</td>\n",
              "      <td>Royal Challengers Bangalore</td>\n",
              "      <td>Sunrisers Hyderabad</td>\n",
              "      <td>Sunrisers Hyderabad</td>\n",
              "      <td>field</td>\n",
              "      <td>Sunrisers Hyderabad</td>\n",
              "      <td>N</td>\n",
              "      <td>PR Reiffel</td>\n",
              "      <td>S Ravi</td>\n",
              "    </tr>\n",
              "    <tr>\n",
              "      <th>814</th>\n",
              "      <td>2020</td>\n",
              "      <td>11</td>\n",
              "      <td>8</td>\n",
              "      <td>Abu Dhabi</td>\n",
              "      <td>Sheikh Zayed Stadium</td>\n",
              "      <td>0</td>\n",
              "      <td>Delhi Capitals</td>\n",
              "      <td>Sunrisers Hyderabad</td>\n",
              "      <td>Delhi Capitals</td>\n",
              "      <td>bat</td>\n",
              "      <td>Delhi Capitals</td>\n",
              "      <td>N</td>\n",
              "      <td>PR Reiffel</td>\n",
              "      <td>S Ravi</td>\n",
              "    </tr>\n",
              "    <tr>\n",
              "      <th>815</th>\n",
              "      <td>2020</td>\n",
              "      <td>11</td>\n",
              "      <td>10</td>\n",
              "      <td>Dubai</td>\n",
              "      <td>Dubai International Cricket Stadium</td>\n",
              "      <td>0</td>\n",
              "      <td>Delhi Capitals</td>\n",
              "      <td>Mumbai Indians</td>\n",
              "      <td>Delhi Capitals</td>\n",
              "      <td>bat</td>\n",
              "      <td>Mumbai Indians</td>\n",
              "      <td>N</td>\n",
              "      <td>CB Gaffaney</td>\n",
              "      <td>Nitin Menon</td>\n",
              "    </tr>\n",
              "  </tbody>\n",
              "</table>\n",
              "<p>816 rows × 14 columns</p>\n",
              "</div>"
            ],
            "text/plain": [
              "     year  month  day  ... eliminator      umpire1         umpire2\n",
              "0    2008      4   18  ...          N    Asad Rauf     RE Koertzen\n",
              "1    2008      4   19  ...          N    MR Benson      SL Shastri\n",
              "2    2008      4   19  ...          N    Aleem Dar  GA Pratapkumar\n",
              "3    2008      4   20  ...          N     SJ Davis       DJ Harper\n",
              "4    2008      4   20  ...          N    BF Bowden     K Hariharan\n",
              "..    ...    ...  ...  ...        ...          ...             ...\n",
              "811  2020      9   28  ...          Y  Nitin Menon      PR Reiffel\n",
              "812  2020     11    5  ...          N  CB Gaffaney     Nitin Menon\n",
              "813  2020     11    6  ...          N   PR Reiffel          S Ravi\n",
              "814  2020     11    8  ...          N   PR Reiffel          S Ravi\n",
              "815  2020     11   10  ...          N  CB Gaffaney     Nitin Menon\n",
              "\n",
              "[816 rows x 14 columns]"
            ]
          },
          "metadata": {
            "tags": []
          },
          "execution_count": 373
        }
      ]
    }
  ]
}