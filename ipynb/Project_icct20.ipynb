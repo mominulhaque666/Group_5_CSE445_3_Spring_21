{
  "nbformat": 4,
  "nbformat_minor": 0,
  "metadata": {
    "colab": {
      "name": "Project_icct20.ipynb",
      "provenance": [],
      "collapsed_sections": [],
      "authorship_tag": "ABX9TyOJYbRxHbbNudoHnM/LAyqK",
      "include_colab_link": true
    },
    "kernelspec": {
      "name": "python3",
      "display_name": "Python 3"
    },
    "language_info": {
      "name": "python"
    }
  },
  "cells": [
    {
      "cell_type": "markdown",
      "metadata": {
        "id": "view-in-github",
        "colab_type": "text"
      },
      "source": [
        "<a href=\"https://colab.research.google.com/github/nahidosen/Group_5_CSE445_3_Spring_21/blob/main/ipynb/Project_icct20.ipynb\" target=\"_parent\"><img src=\"https://colab.research.google.com/assets/colab-badge.svg\" alt=\"Open In Colab\"/></a>"
      ]
    },
    {
      "cell_type": "code",
      "metadata": {
        "colab": {
          "base_uri": "https://localhost:8080/"
        },
        "id": "2Nm_NxUaHBSp",
        "outputId": "cae357e0-d116-4b79-83c4-9b09025575cd"
      },
      "source": [
        "!pip install scikit-plot"
      ],
      "execution_count": 1,
      "outputs": [
        {
          "output_type": "stream",
          "text": [
            "Collecting scikit-plot\n",
            "  Downloading https://files.pythonhosted.org/packages/7c/47/32520e259340c140a4ad27c1b97050dd3254fdc517b1d59974d47037510e/scikit_plot-0.3.7-py3-none-any.whl\n",
            "Requirement already satisfied: scipy>=0.9 in /usr/local/lib/python3.7/dist-packages (from scikit-plot) (1.4.1)\n",
            "Requirement already satisfied: joblib>=0.10 in /usr/local/lib/python3.7/dist-packages (from scikit-plot) (1.0.1)\n",
            "Requirement already satisfied: matplotlib>=1.4.0 in /usr/local/lib/python3.7/dist-packages (from scikit-plot) (3.2.2)\n",
            "Requirement already satisfied: scikit-learn>=0.18 in /usr/local/lib/python3.7/dist-packages (from scikit-plot) (0.22.2.post1)\n",
            "Requirement already satisfied: numpy>=1.13.3 in /usr/local/lib/python3.7/dist-packages (from scipy>=0.9->scikit-plot) (1.19.5)\n",
            "Requirement already satisfied: pyparsing!=2.0.4,!=2.1.2,!=2.1.6,>=2.0.1 in /usr/local/lib/python3.7/dist-packages (from matplotlib>=1.4.0->scikit-plot) (2.4.7)\n",
            "Requirement already satisfied: kiwisolver>=1.0.1 in /usr/local/lib/python3.7/dist-packages (from matplotlib>=1.4.0->scikit-plot) (1.3.1)\n",
            "Requirement already satisfied: python-dateutil>=2.1 in /usr/local/lib/python3.7/dist-packages (from matplotlib>=1.4.0->scikit-plot) (2.8.1)\n",
            "Requirement already satisfied: cycler>=0.10 in /usr/local/lib/python3.7/dist-packages (from matplotlib>=1.4.0->scikit-plot) (0.10.0)\n",
            "Requirement already satisfied: six>=1.5 in /usr/local/lib/python3.7/dist-packages (from python-dateutil>=2.1->matplotlib>=1.4.0->scikit-plot) (1.15.0)\n",
            "Installing collected packages: scikit-plot\n",
            "Successfully installed scikit-plot-0.3.7\n"
          ],
          "name": "stdout"
        }
      ]
    },
    {
      "cell_type": "code",
      "metadata": {
        "id": "IOfFEWZZsWVY"
      },
      "source": [
        "# Importing necessary packages\n",
        "\n",
        "import pandas as pd\n",
        "import numpy as np\n",
        "import matplotlib.pyplot as plt\n",
        "plt.style.use('ggplot')\n",
        "import seaborn as sns\n",
        "import scikitplot as skplt\n",
        "from sklearn.impute import SimpleImputer\n",
        "from sklearn import metrics\n",
        "from sklearn.model_selection import cross_val_score"
      ],
      "execution_count": 2,
      "outputs": []
    },
    {
      "cell_type": "code",
      "metadata": {
        "colab": {
          "base_uri": "https://localhost:8080/",
          "height": 710
        },
        "id": "LXdNuULVDDSR",
        "outputId": "59889e9b-98dd-4178-ad88-420a0a77b301"
      },
      "source": [
        "data = 'https://raw.githubusercontent.com/nahidosen/Group_5_CSE445_3_Spring_21/main/dataset/IT20%20.csv'\n",
        "t = pd.read_csv(data)\n",
        "t"
      ],
      "execution_count": 3,
      "outputs": [
        {
          "output_type": "execute_result",
          "data": {
            "text/html": [
              "<div>\n",
              "<style scoped>\n",
              "    .dataframe tbody tr th:only-of-type {\n",
              "        vertical-align: middle;\n",
              "    }\n",
              "\n",
              "    .dataframe tbody tr th {\n",
              "        vertical-align: top;\n",
              "    }\n",
              "\n",
              "    .dataframe thead th {\n",
              "        text-align: right;\n",
              "    }\n",
              "</style>\n",
              "<table border=\"1\" class=\"dataframe\">\n",
              "  <thead>\n",
              "    <tr style=\"text-align: right;\">\n",
              "      <th></th>\n",
              "      <th>dates</th>\n",
              "      <th>venue</th>\n",
              "      <th>city</th>\n",
              "      <th>home_team</th>\n",
              "      <th>team_1</th>\n",
              "      <th>team_2</th>\n",
              "      <th>total_matches_team1</th>\n",
              "      <th>total_matches_team2</th>\n",
              "      <th>toss_winner</th>\n",
              "      <th>total_wins_team1</th>\n",
              "      <th>total_wins_team2</th>\n",
              "      <th>toss_decision</th>\n",
              "      <th>umpire_1</th>\n",
              "      <th>umpire_2</th>\n",
              "      <th>match_winner</th>\n",
              "      <th>head_to_head</th>\n",
              "      <th>total_loses_team1</th>\n",
              "      <th>total_loses_team2</th>\n",
              "      <th>win_ratio_team1</th>\n",
              "      <th>win_ratio_team2</th>\n",
              "      <th>lose_ratio_team1</th>\n",
              "      <th>lose_ratio_team2</th>\n",
              "    </tr>\n",
              "  </thead>\n",
              "  <tbody>\n",
              "    <tr>\n",
              "      <th>0</th>\n",
              "      <td>2005-02-17</td>\n",
              "      <td>Eden Park</td>\n",
              "      <td>Auckland</td>\n",
              "      <td>New Zealand</td>\n",
              "      <td>New Zealand</td>\n",
              "      <td>Australia</td>\n",
              "      <td>NaN</td>\n",
              "      <td>0.0</td>\n",
              "      <td>Australia</td>\n",
              "      <td>NaN</td>\n",
              "      <td>1.0</td>\n",
              "      <td>bat</td>\n",
              "      <td>BF Bowden</td>\n",
              "      <td>AL Hill</td>\n",
              "      <td>Australia</td>\n",
              "      <td>1.0</td>\n",
              "      <td>NaN</td>\n",
              "      <td>NaN</td>\n",
              "      <td>NaN</td>\n",
              "      <td>NaN</td>\n",
              "      <td>NaN</td>\n",
              "      <td>NaN</td>\n",
              "    </tr>\n",
              "    <tr>\n",
              "      <th>1</th>\n",
              "      <td>2005-06-13</td>\n",
              "      <td>The Rose Bowl</td>\n",
              "      <td>Southampton</td>\n",
              "      <td>England</td>\n",
              "      <td>England</td>\n",
              "      <td>Australia</td>\n",
              "      <td>NaN</td>\n",
              "      <td>1.0</td>\n",
              "      <td>England</td>\n",
              "      <td>NaN</td>\n",
              "      <td>NaN</td>\n",
              "      <td>bat</td>\n",
              "      <td>NJ Llong</td>\n",
              "      <td>JW Lloyds</td>\n",
              "      <td>England</td>\n",
              "      <td>NaN</td>\n",
              "      <td>NaN</td>\n",
              "      <td>NaN</td>\n",
              "      <td>NaN</td>\n",
              "      <td>NaN</td>\n",
              "      <td>NaN</td>\n",
              "      <td>NaN</td>\n",
              "    </tr>\n",
              "    <tr>\n",
              "      <th>2</th>\n",
              "      <td>2005-10-21</td>\n",
              "      <td>New Wanderers Stadium</td>\n",
              "      <td>Johannesburg</td>\n",
              "      <td>South Africa</td>\n",
              "      <td>South Africa</td>\n",
              "      <td>New Zealand</td>\n",
              "      <td>NaN</td>\n",
              "      <td>NaN</td>\n",
              "      <td>New Zealand</td>\n",
              "      <td>NaN</td>\n",
              "      <td>NaN</td>\n",
              "      <td>field</td>\n",
              "      <td>IL Howell</td>\n",
              "      <td>BG Jerling</td>\n",
              "      <td>New Zealand</td>\n",
              "      <td>NaN</td>\n",
              "      <td>NaN</td>\n",
              "      <td>NaN</td>\n",
              "      <td>NaN</td>\n",
              "      <td>NaN</td>\n",
              "      <td>NaN</td>\n",
              "      <td>NaN</td>\n",
              "    </tr>\n",
              "    <tr>\n",
              "      <th>3</th>\n",
              "      <td>2006-01-09</td>\n",
              "      <td>Brisbane Cricket Ground</td>\n",
              "      <td>Brisbane</td>\n",
              "      <td>Australia</td>\n",
              "      <td>Australia</td>\n",
              "      <td>South Africa</td>\n",
              "      <td>2.0</td>\n",
              "      <td>NaN</td>\n",
              "      <td>Australia</td>\n",
              "      <td>NaN</td>\n",
              "      <td>NaN</td>\n",
              "      <td>bat</td>\n",
              "      <td>BNJ Oxenford</td>\n",
              "      <td>RL Parry</td>\n",
              "      <td>Australia</td>\n",
              "      <td>NaN</td>\n",
              "      <td>NaN</td>\n",
              "      <td>NaN</td>\n",
              "      <td>NaN</td>\n",
              "      <td>NaN</td>\n",
              "      <td>NaN</td>\n",
              "      <td>NaN</td>\n",
              "    </tr>\n",
              "    <tr>\n",
              "      <th>4</th>\n",
              "      <td>2006-02-16</td>\n",
              "      <td>Eden Park</td>\n",
              "      <td>Auckland</td>\n",
              "      <td>New Zealand</td>\n",
              "      <td>West Indies</td>\n",
              "      <td>New Zealand</td>\n",
              "      <td>NaN</td>\n",
              "      <td>NaN</td>\n",
              "      <td>New Zealand</td>\n",
              "      <td>NaN</td>\n",
              "      <td>NaN</td>\n",
              "      <td>field</td>\n",
              "      <td>BF Bowden</td>\n",
              "      <td>AL Hill</td>\n",
              "      <td>New Zealand</td>\n",
              "      <td>NaN</td>\n",
              "      <td>NaN</td>\n",
              "      <td>NaN</td>\n",
              "      <td>NaN</td>\n",
              "      <td>NaN</td>\n",
              "      <td>NaN</td>\n",
              "      <td>NaN</td>\n",
              "    </tr>\n",
              "    <tr>\n",
              "      <th>...</th>\n",
              "      <td>...</td>\n",
              "      <td>...</td>\n",
              "      <td>...</td>\n",
              "      <td>...</td>\n",
              "      <td>...</td>\n",
              "      <td>...</td>\n",
              "      <td>...</td>\n",
              "      <td>...</td>\n",
              "      <td>...</td>\n",
              "      <td>...</td>\n",
              "      <td>...</td>\n",
              "      <td>...</td>\n",
              "      <td>...</td>\n",
              "      <td>...</td>\n",
              "      <td>...</td>\n",
              "      <td>...</td>\n",
              "      <td>...</td>\n",
              "      <td>...</td>\n",
              "      <td>...</td>\n",
              "      <td>...</td>\n",
              "      <td>...</td>\n",
              "      <td>...</td>\n",
              "    </tr>\n",
              "    <tr>\n",
              "      <th>966</th>\n",
              "      <td>2021-03-17</td>\n",
              "      <td>Sheikh Zayed Stadium</td>\n",
              "      <td>Abu Dhabi</td>\n",
              "      <td>none</td>\n",
              "      <td>Afghanistan</td>\n",
              "      <td>Zimbabwe</td>\n",
              "      <td>NaN</td>\n",
              "      <td>NaN</td>\n",
              "      <td>Zimbabwe</td>\n",
              "      <td>NaN</td>\n",
              "      <td>NaN</td>\n",
              "      <td>field</td>\n",
              "      <td>Aleem Dar</td>\n",
              "      <td>Izatullah Safi</td>\n",
              "      <td>Afghanistan</td>\n",
              "      <td>NaN</td>\n",
              "      <td>NaN</td>\n",
              "      <td>NaN</td>\n",
              "      <td>NaN</td>\n",
              "      <td>NaN</td>\n",
              "      <td>NaN</td>\n",
              "      <td>NaN</td>\n",
              "    </tr>\n",
              "    <tr>\n",
              "      <th>967</th>\n",
              "      <td>2021-03-18</td>\n",
              "      <td>Narendra Modi Stadium</td>\n",
              "      <td>Ahmedabad</td>\n",
              "      <td>India</td>\n",
              "      <td>India</td>\n",
              "      <td>England</td>\n",
              "      <td>NaN</td>\n",
              "      <td>NaN</td>\n",
              "      <td>England</td>\n",
              "      <td>NaN</td>\n",
              "      <td>NaN</td>\n",
              "      <td>field</td>\n",
              "      <td>KN Ananthapadmanabhan</td>\n",
              "      <td>Nitin Menon</td>\n",
              "      <td>India</td>\n",
              "      <td>NaN</td>\n",
              "      <td>NaN</td>\n",
              "      <td>NaN</td>\n",
              "      <td>NaN</td>\n",
              "      <td>NaN</td>\n",
              "      <td>NaN</td>\n",
              "      <td>NaN</td>\n",
              "    </tr>\n",
              "    <tr>\n",
              "      <th>968</th>\n",
              "      <td>2021-03-19</td>\n",
              "      <td>Sheikh Zayed Stadium</td>\n",
              "      <td>Abu Dhabi</td>\n",
              "      <td>none</td>\n",
              "      <td>Afghanistan</td>\n",
              "      <td>Zimbabwe</td>\n",
              "      <td>NaN</td>\n",
              "      <td>NaN</td>\n",
              "      <td>Afghanistan</td>\n",
              "      <td>NaN</td>\n",
              "      <td>NaN</td>\n",
              "      <td>bat</td>\n",
              "      <td>Ahmed Shah Durrani</td>\n",
              "      <td>Aleem Dar</td>\n",
              "      <td>Afghanistan</td>\n",
              "      <td>NaN</td>\n",
              "      <td>NaN</td>\n",
              "      <td>NaN</td>\n",
              "      <td>NaN</td>\n",
              "      <td>NaN</td>\n",
              "      <td>NaN</td>\n",
              "      <td>NaN</td>\n",
              "    </tr>\n",
              "    <tr>\n",
              "      <th>969</th>\n",
              "      <td>2021-03-20</td>\n",
              "      <td>Narendra Modi Stadium</td>\n",
              "      <td>Ahmedabad</td>\n",
              "      <td>India</td>\n",
              "      <td>India</td>\n",
              "      <td>England</td>\n",
              "      <td>NaN</td>\n",
              "      <td>NaN</td>\n",
              "      <td>England</td>\n",
              "      <td>NaN</td>\n",
              "      <td>NaN</td>\n",
              "      <td>field</td>\n",
              "      <td>AK Chaudhary</td>\n",
              "      <td>Nitin Menon</td>\n",
              "      <td>India</td>\n",
              "      <td>NaN</td>\n",
              "      <td>NaN</td>\n",
              "      <td>NaN</td>\n",
              "      <td>NaN</td>\n",
              "      <td>NaN</td>\n",
              "      <td>NaN</td>\n",
              "      <td>NaN</td>\n",
              "    </tr>\n",
              "    <tr>\n",
              "      <th>970</th>\n",
              "      <td>2021-03-20</td>\n",
              "      <td>Sheikh Zayed Stadium</td>\n",
              "      <td>Abu Dhabi</td>\n",
              "      <td>none</td>\n",
              "      <td>Afghanistan</td>\n",
              "      <td>Zimbabwe</td>\n",
              "      <td>NaN</td>\n",
              "      <td>NaN</td>\n",
              "      <td>Afghanistan</td>\n",
              "      <td>NaN</td>\n",
              "      <td>NaN</td>\n",
              "      <td>bat</td>\n",
              "      <td>Aleem Dar</td>\n",
              "      <td>Izatullah Safi</td>\n",
              "      <td>Afghanistan</td>\n",
              "      <td>NaN</td>\n",
              "      <td>NaN</td>\n",
              "      <td>NaN</td>\n",
              "      <td>NaN</td>\n",
              "      <td>NaN</td>\n",
              "      <td>NaN</td>\n",
              "      <td>NaN</td>\n",
              "    </tr>\n",
              "  </tbody>\n",
              "</table>\n",
              "<p>971 rows × 22 columns</p>\n",
              "</div>"
            ],
            "text/plain": [
              "          dates                    venue  ... lose_ratio_team1 lose_ratio_team2\n",
              "0    2005-02-17                Eden Park  ...              NaN              NaN\n",
              "1    2005-06-13            The Rose Bowl  ...              NaN              NaN\n",
              "2    2005-10-21    New Wanderers Stadium  ...              NaN              NaN\n",
              "3    2006-01-09  Brisbane Cricket Ground  ...              NaN              NaN\n",
              "4    2006-02-16                Eden Park  ...              NaN              NaN\n",
              "..          ...                      ...  ...              ...              ...\n",
              "966  2021-03-17     Sheikh Zayed Stadium  ...              NaN              NaN\n",
              "967  2021-03-18    Narendra Modi Stadium  ...              NaN              NaN\n",
              "968  2021-03-19     Sheikh Zayed Stadium  ...              NaN              NaN\n",
              "969  2021-03-20    Narendra Modi Stadium  ...              NaN              NaN\n",
              "970  2021-03-20     Sheikh Zayed Stadium  ...              NaN              NaN\n",
              "\n",
              "[971 rows x 22 columns]"
            ]
          },
          "metadata": {
            "tags": []
          },
          "execution_count": 3
        }
      ]
    },
    {
      "cell_type": "markdown",
      "metadata": {
        "id": "CHXv3MQQPBKy"
      },
      "source": [
        "# EDA"
      ]
    },
    {
      "cell_type": "code",
      "metadata": {
        "colab": {
          "base_uri": "https://localhost:8080/"
        },
        "id": "mz620CKdJkdx",
        "outputId": "c35883ec-c10d-4912-fe74-a3a8143c67e8"
      },
      "source": [
        "t.columns"
      ],
      "execution_count": 4,
      "outputs": [
        {
          "output_type": "execute_result",
          "data": {
            "text/plain": [
              "Index(['dates', 'venue', 'city', 'home_team', 'team_1', 'team_2',\n",
              "       'total_matches_team1', 'total_matches_team2', 'toss_winner',\n",
              "       'total_wins_team1', 'total_wins_team2', 'toss_decision', 'umpire_1',\n",
              "       'umpire_2', 'match_winner', 'head_to_head', 'total_loses_team1',\n",
              "       'total_loses_team2', 'win_ratio_team1', 'win_ratio_team2',\n",
              "       'lose_ratio_team1', 'lose_ratio_team2'],\n",
              "      dtype='object')"
            ]
          },
          "metadata": {
            "tags": []
          },
          "execution_count": 4
        }
      ]
    },
    {
      "cell_type": "code",
      "metadata": {
        "colab": {
          "base_uri": "https://localhost:8080/"
        },
        "id": "ixvbzZq1GE0P",
        "outputId": "631dd0c5-3a86-48dc-9ede-54a270a2f5d6"
      },
      "source": [
        "t.info()"
      ],
      "execution_count": 5,
      "outputs": [
        {
          "output_type": "stream",
          "text": [
            "<class 'pandas.core.frame.DataFrame'>\n",
            "RangeIndex: 971 entries, 0 to 970\n",
            "Data columns (total 22 columns):\n",
            " #   Column               Non-Null Count  Dtype  \n",
            "---  ------               --------------  -----  \n",
            " 0   dates                971 non-null    object \n",
            " 1   venue                971 non-null    object \n",
            " 2   city                 971 non-null    object \n",
            " 3   home_team            971 non-null    object \n",
            " 4   team_1               971 non-null    object \n",
            " 5   team_2               971 non-null    object \n",
            " 6   total_matches_team1  80 non-null     float64\n",
            " 7   total_matches_team2  56 non-null     float64\n",
            " 8   toss_winner          971 non-null    object \n",
            " 9   total_wins_team1     0 non-null      float64\n",
            " 10  total_wins_team2     1 non-null      float64\n",
            " 11  toss_decision        971 non-null    object \n",
            " 12  umpire_1             971 non-null    object \n",
            " 13  umpire_2             971 non-null    object \n",
            " 14  match_winner         971 non-null    object \n",
            " 15  head_to_head         3 non-null      float64\n",
            " 16  total_loses_team1    0 non-null      float64\n",
            " 17  total_loses_team2    0 non-null      float64\n",
            " 18  win_ratio_team1      0 non-null      float64\n",
            " 19  win_ratio_team2      0 non-null      float64\n",
            " 20  lose_ratio_team1     0 non-null      float64\n",
            " 21  lose_ratio_team2     0 non-null      float64\n",
            "dtypes: float64(11), object(11)\n",
            "memory usage: 167.0+ KB\n"
          ],
          "name": "stdout"
        }
      ]
    },
    {
      "cell_type": "code",
      "metadata": {
        "colab": {
          "base_uri": "https://localhost:8080/"
        },
        "id": "dM1LL2G5mA00",
        "outputId": "a5dadbcf-46ed-4c37-bdcf-59d01de6fa5c"
      },
      "source": [
        "t2 = t\n",
        "t2 = t.dropna(axis=1)\n",
        "t2.info()"
      ],
      "execution_count": 6,
      "outputs": [
        {
          "output_type": "stream",
          "text": [
            "<class 'pandas.core.frame.DataFrame'>\n",
            "RangeIndex: 971 entries, 0 to 970\n",
            "Data columns (total 11 columns):\n",
            " #   Column         Non-Null Count  Dtype \n",
            "---  ------         --------------  ----- \n",
            " 0   dates          971 non-null    object\n",
            " 1   venue          971 non-null    object\n",
            " 2   city           971 non-null    object\n",
            " 3   home_team      971 non-null    object\n",
            " 4   team_1         971 non-null    object\n",
            " 5   team_2         971 non-null    object\n",
            " 6   toss_winner    971 non-null    object\n",
            " 7   toss_decision  971 non-null    object\n",
            " 8   umpire_1       971 non-null    object\n",
            " 9   umpire_2       971 non-null    object\n",
            " 10  match_winner   971 non-null    object\n",
            "dtypes: object(11)\n",
            "memory usage: 83.6+ KB\n"
          ],
          "name": "stdout"
        }
      ]
    },
    {
      "cell_type": "code",
      "metadata": {
        "colab": {
          "base_uri": "https://localhost:8080/"
        },
        "id": "WstiqDPtS5OU",
        "outputId": "aa96c042-18e4-4044-9b9c-d4846a0a39ef"
      },
      "source": [
        "t2.isnull().sum() "
      ],
      "execution_count": 7,
      "outputs": [
        {
          "output_type": "execute_result",
          "data": {
            "text/plain": [
              "dates            0\n",
              "venue            0\n",
              "city             0\n",
              "home_team        0\n",
              "team_1           0\n",
              "team_2           0\n",
              "toss_winner      0\n",
              "toss_decision    0\n",
              "umpire_1         0\n",
              "umpire_2         0\n",
              "match_winner     0\n",
              "dtype: int64"
            ]
          },
          "metadata": {
            "tags": []
          },
          "execution_count": 7
        }
      ]
    },
    {
      "cell_type": "code",
      "metadata": {
        "colab": {
          "base_uri": "https://localhost:8080/"
        },
        "id": "AwU5zK3aXXtv",
        "outputId": "edb708c6-a555-4e40-aed7-6a58ead541e7"
      },
      "source": [
        "t2.nunique()"
      ],
      "execution_count": 8,
      "outputs": [
        {
          "output_type": "execute_result",
          "data": {
            "text/plain": [
              "dates            722\n",
              "venue            138\n",
              "city             117\n",
              "home_team         28\n",
              "team_1            48\n",
              "team_2            46\n",
              "toss_winner       46\n",
              "toss_decision      2\n",
              "umpire_1         147\n",
              "umpire_2         152\n",
              "match_winner      42\n",
              "dtype: int64"
            ]
          },
          "metadata": {
            "tags": []
          },
          "execution_count": 8
        }
      ]
    },
    {
      "cell_type": "code",
      "metadata": {
        "colab": {
          "base_uri": "https://localhost:8080/"
        },
        "id": "YYDI1siBJQ4A",
        "outputId": "04313d8c-635e-4f48-b0fc-1ab5d0496250"
      },
      "source": [
        "t2['venue'].value_counts().sort_index()"
      ],
      "execution_count": 9,
      "outputs": [
        {
          "output_type": "execute_result",
          "data": {
            "text/plain": [
              "AMI Stadium                                               3\n",
              "Adelaide Oval                                             5\n",
              "Al Amerat Cricket Ground Oman Cricket Ministry Turf 1    19\n",
              "Al Amerat Cricket Ground Oman Cricket Ministry Turf 2     3\n",
              "Amini Park                                                6\n",
              "                                                         ..\n",
              "Western Australia Cricket Association Ground              2\n",
              "Westpac Stadium                                          14\n",
              "White Hill Field                                          8\n",
              "Windsor Park                                              2\n",
              "Zahur Ahmed Chowdhury Stadium                            20\n",
              "Name: venue, Length: 138, dtype: int64"
            ]
          },
          "metadata": {
            "tags": []
          },
          "execution_count": 9
        }
      ]
    },
    {
      "cell_type": "code",
      "metadata": {
        "id": "nRi0V6AQbqQu"
      },
      "source": [
        "#ipl_2 = ipl\n",
        "#ipl_2['city'] = ipl_2['city'].replace('Bengaluru', 'Bangalore')\n",
        "#ipl_2['city'].value_counts().sort_index()"
      ],
      "execution_count": 10,
      "outputs": []
    },
    {
      "cell_type": "code",
      "metadata": {
        "colab": {
          "base_uri": "https://localhost:8080/"
        },
        "id": "3IKTtDqpJaBP",
        "outputId": "047f33ec-7479-43ac-eee3-3d9d91bfb4a4"
      },
      "source": [
        "t2['city'].sort_values().unique()"
      ],
      "execution_count": 11,
      "outputs": [
        {
          "output_type": "execute_result",
          "data": {
            "text/plain": [
              "array(['Abu Dhabi', 'Adelaide', 'Ahmedabad', 'Al Amarat', 'Amstelveen',\n",
              "       'Antigua', 'Auckland', 'Bangalore', 'Bangkok', 'Barbados',\n",
              "       'Basseterre', 'Belfast', 'Birmingham', 'Bloemfontein', 'Bready',\n",
              "       'Brisbane', 'Bristol', 'Bulawayo', 'Canberra', 'Cape Town',\n",
              "       'Cardiff', 'Carrara', 'Castel', 'Centurion', 'Chandigarh',\n",
              "       'Chennai', 'Chester-le-Street', 'Chittagong', 'Christchurch',\n",
              "       'Colombo', 'Coolidge', 'Cuttack', 'Dehradun', 'Delhi', 'Derry',\n",
              "       'Deventer', 'Dhaka', 'Dharamsala', 'Dominica', 'Dubai', 'Dublin',\n",
              "       'Dunedin', 'Durban', 'East London', 'Edinburgh', 'Fatullah',\n",
              "       'Greater Noida', 'Gros Islet', 'Guwahati', 'Guyana', 'Hambantota',\n",
              "       'Hamilton', 'Harare', 'Hobart', 'Hong Kong', 'Hyderabad', 'Indore',\n",
              "       'Jamaica', 'Johannesburg', 'Kampala', 'Kandy', 'Kanpur', 'Karachi',\n",
              "       'Khulna', 'Kimberley', 'King City', 'Kirtipur', 'Kolkata',\n",
              "       'Kuala Lumpur', 'Lahore', 'Lauderhill', 'London', 'Londonderry',\n",
              "       'Lucknow', 'Manchester', 'Melbourne', 'Mirpur', 'Moara Vlasiei',\n",
              "       'Mombasa', 'Mount Maunganui', 'Mumbai', 'Nagpur', 'Nairobi',\n",
              "       'Napier', 'Nelson', 'Nottingham', 'Paarl', 'Perth',\n",
              "       'Port Elizabeth', 'Port Moresby', 'Potchefstroom', 'Providence',\n",
              "       'Pune', 'Rajkot', 'Ranchi', 'Rawalpindi', 'Rotterdam', 'Sharjah',\n",
              "       'Singapore', 'Southampton', 'St Georges', 'St Kitts', 'St Lucia',\n",
              "       'St Peter Port', 'St Vincent', 'Sydney', 'Sylhet', 'Taunton',\n",
              "       'The Hague', 'Thiruvananthapuram', 'Townsville', 'Trinidad',\n",
              "       'Utrecht', 'Victoria', 'Visakhapatnam', 'Wellington', 'Windhoek'],\n",
              "      dtype=object)"
            ]
          },
          "metadata": {
            "tags": []
          },
          "execution_count": 11
        }
      ]
    },
    {
      "cell_type": "code",
      "metadata": {
        "colab": {
          "base_uri": "https://localhost:8080/"
        },
        "id": "_2wpZsP3JhZ3",
        "outputId": "9b3415ef-6ba2-4e28-a215-6c5c7ba7a6a2"
      },
      "source": [
        "t2['home_team'].value_counts().sort_index()"
      ],
      "execution_count": 12,
      "outputs": [
        {
          "output_type": "execute_result",
          "data": {
            "text/plain": [
              "Australia                46\n",
              "Bangladesh               38\n",
              "Bermuda                   5\n",
              "England                  48\n",
              "Guernsey                  2\n",
              "Hong Kong                 2\n",
              "India                    51\n",
              "Ireland                  16\n",
              "Kenya                     5\n",
              "Malaysia                 15\n",
              "Namibia                   4\n",
              "Nepal                     3\n",
              "Netherlands              12\n",
              "New Zealand              70\n",
              "Oman                      7\n",
              "Pakistan                 18\n",
              "Papua New Guinea          4\n",
              "Romania                   3\n",
              "Scotland                  5\n",
              "Singapore                 6\n",
              "South Africa             62\n",
              "Sri Lanka                42\n",
              "Thailand                  4\n",
              "Uganda                    4\n",
              "United Arab Emirates     27\n",
              "West Indies              43\n",
              "Zimbabwe                 24\n",
              "none                    405\n",
              "Name: home_team, dtype: int64"
            ]
          },
          "metadata": {
            "tags": []
          },
          "execution_count": 12
        }
      ]
    },
    {
      "cell_type": "code",
      "metadata": {
        "id": "MMJGQuttkJ3m"
      },
      "source": [
        "#ipl_2['venue'] = ipl_2['venue'].replace('M Chinnaswamy Stadium', 'M. Chinnaswamy Stadium')\n",
        "#ipl_2['venue'].value_counts().sort_index()"
      ],
      "execution_count": 13,
      "outputs": []
    },
    {
      "cell_type": "code",
      "metadata": {
        "colab": {
          "base_uri": "https://localhost:8080/"
        },
        "id": "r2P9mVTwQK2Q",
        "outputId": "929b497c-7e49-4365-a5d6-4160af20bbe2"
      },
      "source": [
        "t2['team_1'].value_counts().sort_index()"
      ],
      "execution_count": 14,
      "outputs": [
        {
          "output_type": "execute_result",
          "data": {
            "text/plain": [
              "Afghanistan                 62\n",
              "Australia                   80\n",
              "Bahrain                      1\n",
              "Bangladesh                  56\n",
              "Bermuda                     10\n",
              "Bhutan                       1\n",
              "Botswana                     2\n",
              "Bulgaria                     2\n",
              "Canada                      19\n",
              "Cayman Islands               2\n",
              "Denmark                      5\n",
              "England                     70\n",
              "Germany                      3\n",
              "Ghana                        3\n",
              "Guernsey                     4\n",
              "Hong Kong                   27\n",
              "India                       77\n",
              "Iran                         1\n",
              "Ireland                     43\n",
              "Isle of Man                  1\n",
              "Italy                        1\n",
              "Jersey                       3\n",
              "Kenya                       16\n",
              "Kuwait                       5\n",
              "Malaysia                    17\n",
              "Maldives                     3\n",
              "Namibia                     10\n",
              "Nepal                       10\n",
              "Netherlands                 28\n",
              "New Zealand                 81\n",
              "Nigeria                      1\n",
              "Oman                        10\n",
              "Pakistan                    57\n",
              "Papua New Guinea             5\n",
              "Philippines                  3\n",
              "Qatar                        1\n",
              "Romania                      1\n",
              "Saudi Arabia                 1\n",
              "Scotland                     7\n",
              "Singapore                    6\n",
              "South Africa                69\n",
              "Sri Lanka                   51\n",
              "Thailand                     4\n",
              "Uganda                       4\n",
              "United Arab Emirates        27\n",
              "United States of America     2\n",
              "West Indies                 51\n",
              "Zimbabwe                    28\n",
              "Name: team_1, dtype: int64"
            ]
          },
          "metadata": {
            "tags": []
          },
          "execution_count": 14
        }
      ]
    },
    {
      "cell_type": "code",
      "metadata": {
        "colab": {
          "base_uri": "https://localhost:8080/"
        },
        "id": "g6g_ImW-Tsyq",
        "outputId": "a2614044-38f8-44d2-b56f-b71ee3f19d18"
      },
      "source": [
        "t2['team_2'].value_counts().sort_index()"
      ],
      "execution_count": 15,
      "outputs": [
        {
          "output_type": "execute_result",
          "data": {
            "text/plain": [
              "Afghanistan                  16\n",
              "Australia                    56\n",
              "Bahrain                       1\n",
              "Bangladesh                   35\n",
              "Bermuda                       2\n",
              "Bhutan                        1\n",
              "Botswana                      5\n",
              "Bulgaria                      1\n",
              "Canada                        2\n",
              "Cayman Islands                4\n",
              "Denmark                       1\n",
              "England                      61\n",
              "Germany                       2\n",
              "Ghana                         1\n",
              "Guernsey                      2\n",
              "Hong Kong                    15\n",
              "India                        63\n",
              "Ireland                      43\n",
              "Italy                         3\n",
              "Jersey                        7\n",
              "Kenya                        12\n",
              "Kuwait                        1\n",
              "Malaysia                      5\n",
              "Maldives                      4\n",
              "Namibia                       6\n",
              "Nepal                        21\n",
              "Netherlands                  36\n",
              "New Zealand                  61\n",
              "Nigeria                       7\n",
              "Norway                        4\n",
              "Oman                         21\n",
              "Pakistan                    100\n",
              "Papua New Guinea             15\n",
              "Philippines                   1\n",
              "Qatar                         5\n",
              "Romania                       2\n",
              "Scotland                     42\n",
              "Singapore                     9\n",
              "South Africa                 57\n",
              "Sri Lanka                    77\n",
              "Thailand                      4\n",
              "United Arab Emirates         18\n",
              "United States of America      6\n",
              "Vanuatu                       9\n",
              "West Indies                  78\n",
              "Zimbabwe                     49\n",
              "Name: team_2, dtype: int64"
            ]
          },
          "metadata": {
            "tags": []
          },
          "execution_count": 15
        }
      ]
    },
    {
      "cell_type": "code",
      "metadata": {
        "colab": {
          "base_uri": "https://localhost:8080/"
        },
        "id": "cY1j1c6Kl7aa",
        "outputId": "70989829-ff4a-415f-8a15-400ddcd8b71e"
      },
      "source": [
        "t2['toss_winner'].value_counts().sort_index()"
      ],
      "execution_count": 16,
      "outputs": [
        {
          "output_type": "execute_result",
          "data": {
            "text/plain": [
              "Afghanistan                 39\n",
              "Australia                   73\n",
              "Bahrain                      1\n",
              "Bangladesh                  48\n",
              "Bermuda                      5\n",
              "Bhutan                       1\n",
              "Botswana                     5\n",
              "Bulgaria                     2\n",
              "Canada                      10\n",
              "Cayman Islands               3\n",
              "Denmark                      4\n",
              "England                     66\n",
              "Germany                      4\n",
              "Ghana                        3\n",
              "Guernsey                     3\n",
              "Hong Kong                   22\n",
              "India                       64\n",
              "Ireland                     48\n",
              "Isle of Man                  1\n",
              "Italy                        2\n",
              "Jersey                       4\n",
              "Kenya                       14\n",
              "Kuwait                       2\n",
              "Malaysia                    14\n",
              "Maldives                     1\n",
              "Namibia                      7\n",
              "Nepal                       13\n",
              "Netherlands                 33\n",
              "New Zealand                 69\n",
              "Nigeria                      4\n",
              "Oman                        18\n",
              "Pakistan                    79\n",
              "Papua New Guinea            11\n",
              "Philippines                  1\n",
              "Qatar                        2\n",
              "Romania                      1\n",
              "Scotland                    19\n",
              "Singapore                   10\n",
              "South Africa                60\n",
              "Sri Lanka                   58\n",
              "Thailand                     7\n",
              "United Arab Emirates        25\n",
              "United States of America     3\n",
              "Vanuatu                      6\n",
              "West Indies                 67\n",
              "Zimbabwe                    39\n",
              "Name: toss_winner, dtype: int64"
            ]
          },
          "metadata": {
            "tags": []
          },
          "execution_count": 16
        }
      ]
    },
    {
      "cell_type": "code",
      "metadata": {
        "colab": {
          "base_uri": "https://localhost:8080/"
        },
        "id": "yFwuU1yKT2E-",
        "outputId": "abe24462-e11e-45a5-c386-35304b3787f6"
      },
      "source": [
        "t2['toss_decision'].value_counts().sort_index()"
      ],
      "execution_count": 17,
      "outputs": [
        {
          "output_type": "execute_result",
          "data": {
            "text/plain": [
              "bat      472\n",
              "field    499\n",
              "Name: toss_decision, dtype: int64"
            ]
          },
          "metadata": {
            "tags": []
          },
          "execution_count": 17
        }
      ]
    },
    {
      "cell_type": "code",
      "metadata": {
        "colab": {
          "base_uri": "https://localhost:8080/"
        },
        "id": "e5AWH9OoVD9v",
        "outputId": "830211b9-d57f-47e2-9304-990a68d0ad5c"
      },
      "source": [
        "t2['umpire_1'].value_counts().sort_index()"
      ],
      "execution_count": 18,
      "outputs": [
        {
          "output_type": "execute_result",
          "data": {
            "text/plain": [
              "A Kapa            3\n",
              "A Louw            3\n",
              "A Paleker        19\n",
              "AG Wharf          6\n",
              "AJ Neill          2\n",
              "                 ..\n",
              "V Kalidas        11\n",
              "VA Kulkarni      10\n",
              "Vinod Babu        2\n",
              "WPM van Liemt     1\n",
              "Zaidan Taha       2\n",
              "Name: umpire_1, Length: 147, dtype: int64"
            ]
          },
          "metadata": {
            "tags": []
          },
          "execution_count": 18
        }
      ]
    },
    {
      "cell_type": "code",
      "metadata": {
        "colab": {
          "base_uri": "https://localhost:8080/"
        },
        "id": "hpAs3IOvVDqT",
        "outputId": "9aa43c11-d0b3-45f8-b5e1-10430be2d723"
      },
      "source": [
        "t2['umpire_2'].value_counts().sort_index()"
      ],
      "execution_count": 19,
      "outputs": [
        {
          "output_type": "execute_result",
          "data": {
            "text/plain": [
              "A Begg            1\n",
              "A Louw            1\n",
              "A Natarajan       2\n",
              "A Paleker         1\n",
              "AG Wharf         14\n",
              "                 ..\n",
              "VK Sharma         2\n",
              "Vinod Babu        3\n",
              "WPM van Liemt     2\n",
              "WR Knights       23\n",
              "Zameer Haider    12\n",
              "Name: umpire_2, Length: 152, dtype: int64"
            ]
          },
          "metadata": {
            "tags": []
          },
          "execution_count": 19
        }
      ]
    },
    {
      "cell_type": "code",
      "metadata": {
        "colab": {
          "base_uri": "https://localhost:8080/"
        },
        "id": "zPNm6C5DU0GW",
        "outputId": "3d18a405-d4e5-408d-e50d-0ffd5e03f8ba"
      },
      "source": [
        "t2['match_winner'].value_counts().sort_index()"
      ],
      "execution_count": 20,
      "outputs": [
        {
          "output_type": "execute_result",
          "data": {
            "text/plain": [
              "Afghanistan                 54\n",
              "Australia                   72\n",
              "Bahrain                      1\n",
              "Bangladesh                  30\n",
              "Bermuda                      5\n",
              "Bulgaria                     1\n",
              "Canada                       8\n",
              "Denmark                      2\n",
              "England                     70\n",
              "Germany                      4\n",
              "Guernsey                     4\n",
              "Hong Kong                   15\n",
              "India                       90\n",
              "Ireland                     39\n",
              "Italy                        2\n",
              "Jersey                       6\n",
              "Kenya                       11\n",
              "Kuwait                       3\n",
              "Malaysia                    12\n",
              "Maldives                     2\n",
              "Namibia                     12\n",
              "Nepal                       16\n",
              "Netherlands                 36\n",
              "New Zealand                 77\n",
              "Nigeria                      2\n",
              "Oman                        14\n",
              "Pakistan                    98\n",
              "Papua New Guinea            13\n",
              "Philippines                  1\n",
              "Qatar                        2\n",
              "Romania                      2\n",
              "Scotland                    23\n",
              "Singapore                    9\n",
              "South Africa                71\n",
              "Sri Lanka                   59\n",
              "Thailand                     1\n",
              "Uganda                       2\n",
              "United Arab Emirates        21\n",
              "United States of America     2\n",
              "Vanuatu                      4\n",
              "West Indies                 58\n",
              "Zimbabwe                    17\n",
              "Name: match_winner, dtype: int64"
            ]
          },
          "metadata": {
            "tags": []
          },
          "execution_count": 20
        }
      ]
    },
    {
      "cell_type": "code",
      "metadata": {
        "colab": {
          "base_uri": "https://localhost:8080/"
        },
        "id": "CamTiqe1qMlk",
        "outputId": "ebedce41-edf5-4553-97ea-c17e1d344997"
      },
      "source": [
        "t2.info()"
      ],
      "execution_count": 21,
      "outputs": [
        {
          "output_type": "stream",
          "text": [
            "<class 'pandas.core.frame.DataFrame'>\n",
            "RangeIndex: 971 entries, 0 to 970\n",
            "Data columns (total 11 columns):\n",
            " #   Column         Non-Null Count  Dtype \n",
            "---  ------         --------------  ----- \n",
            " 0   dates          971 non-null    object\n",
            " 1   venue          971 non-null    object\n",
            " 2   city           971 non-null    object\n",
            " 3   home_team      971 non-null    object\n",
            " 4   team_1         971 non-null    object\n",
            " 5   team_2         971 non-null    object\n",
            " 6   toss_winner    971 non-null    object\n",
            " 7   toss_decision  971 non-null    object\n",
            " 8   umpire_1       971 non-null    object\n",
            " 9   umpire_2       971 non-null    object\n",
            " 10  match_winner   971 non-null    object\n",
            "dtypes: object(11)\n",
            "memory usage: 83.6+ KB\n"
          ],
          "name": "stdout"
        }
      ]
    },
    {
      "cell_type": "code",
      "metadata": {
        "colab": {
          "base_uri": "https://localhost:8080/"
        },
        "id": "Rq0I3kyHTwxU",
        "outputId": "c5cb6cae-dbf2-45ed-995f-6880d7a26f4d"
      },
      "source": [
        "t2 = t2.drop_duplicates(keep = 'first')\n",
        "t2.info()"
      ],
      "execution_count": 22,
      "outputs": [
        {
          "output_type": "stream",
          "text": [
            "<class 'pandas.core.frame.DataFrame'>\n",
            "Int64Index: 971 entries, 0 to 970\n",
            "Data columns (total 11 columns):\n",
            " #   Column         Non-Null Count  Dtype \n",
            "---  ------         --------------  ----- \n",
            " 0   dates          971 non-null    object\n",
            " 1   venue          971 non-null    object\n",
            " 2   city           971 non-null    object\n",
            " 3   home_team      971 non-null    object\n",
            " 4   team_1         971 non-null    object\n",
            " 5   team_2         971 non-null    object\n",
            " 6   toss_winner    971 non-null    object\n",
            " 7   toss_decision  971 non-null    object\n",
            " 8   umpire_1       971 non-null    object\n",
            " 9   umpire_2       971 non-null    object\n",
            " 10  match_winner   971 non-null    object\n",
            "dtypes: object(11)\n",
            "memory usage: 91.0+ KB\n"
          ],
          "name": "stdout"
        }
      ]
    },
    {
      "cell_type": "code",
      "metadata": {
        "colab": {
          "base_uri": "https://localhost:8080/"
        },
        "id": "Aq6U4tWu3M1O",
        "outputId": "752464fd-f594-4f7b-cfb5-c5454b3ed4c7"
      },
      "source": [
        "t2['dates'] = pd.to_datetime(t2['dates'])\n",
        "t2['year'] = t2['dates'].dt.year\n",
        "t2['month'] = t2['dates'].dt.month\n",
        "t2['day'] = t2['dates'].dt.day\n",
        "t2.info()"
      ],
      "execution_count": 23,
      "outputs": [
        {
          "output_type": "stream",
          "text": [
            "<class 'pandas.core.frame.DataFrame'>\n",
            "Int64Index: 971 entries, 0 to 970\n",
            "Data columns (total 14 columns):\n",
            " #   Column         Non-Null Count  Dtype         \n",
            "---  ------         --------------  -----         \n",
            " 0   dates          971 non-null    datetime64[ns]\n",
            " 1   venue          971 non-null    object        \n",
            " 2   city           971 non-null    object        \n",
            " 3   home_team      971 non-null    object        \n",
            " 4   team_1         971 non-null    object        \n",
            " 5   team_2         971 non-null    object        \n",
            " 6   toss_winner    971 non-null    object        \n",
            " 7   toss_decision  971 non-null    object        \n",
            " 8   umpire_1       971 non-null    object        \n",
            " 9   umpire_2       971 non-null    object        \n",
            " 10  match_winner   971 non-null    object        \n",
            " 11  year           971 non-null    int64         \n",
            " 12  month          971 non-null    int64         \n",
            " 13  day            971 non-null    int64         \n",
            "dtypes: datetime64[ns](1), int64(3), object(10)\n",
            "memory usage: 113.8+ KB\n"
          ],
          "name": "stdout"
        }
      ]
    },
    {
      "cell_type": "code",
      "metadata": {
        "colab": {
          "base_uri": "https://localhost:8080/"
        },
        "id": "qc_j8A4k4Ij-",
        "outputId": "2f6fd7e1-5cb5-498c-9dd8-c6e0303522f5"
      },
      "source": [
        "print(min(t2['dates']))\n",
        "print(max(t2['dates']))"
      ],
      "execution_count": 24,
      "outputs": [
        {
          "output_type": "stream",
          "text": [
            "2005-02-17 00:00:00\n",
            "2021-03-20 00:00:00\n"
          ],
          "name": "stdout"
        }
      ]
    },
    {
      "cell_type": "code",
      "metadata": {
        "colab": {
          "base_uri": "https://localhost:8080/",
          "height": 406
        },
        "id": "oEMKD96a4E1R",
        "outputId": "cdf02a78-d99f-4f8c-bac6-5b4beacc7ef1"
      },
      "source": [
        "t3 = t2\n",
        "t3 = t3.drop(['dates'], axis = 1)\n",
        "t3"
      ],
      "execution_count": 25,
      "outputs": [
        {
          "output_type": "execute_result",
          "data": {
            "text/html": [
              "<div>\n",
              "<style scoped>\n",
              "    .dataframe tbody tr th:only-of-type {\n",
              "        vertical-align: middle;\n",
              "    }\n",
              "\n",
              "    .dataframe tbody tr th {\n",
              "        vertical-align: top;\n",
              "    }\n",
              "\n",
              "    .dataframe thead th {\n",
              "        text-align: right;\n",
              "    }\n",
              "</style>\n",
              "<table border=\"1\" class=\"dataframe\">\n",
              "  <thead>\n",
              "    <tr style=\"text-align: right;\">\n",
              "      <th></th>\n",
              "      <th>venue</th>\n",
              "      <th>city</th>\n",
              "      <th>home_team</th>\n",
              "      <th>team_1</th>\n",
              "      <th>team_2</th>\n",
              "      <th>toss_winner</th>\n",
              "      <th>toss_decision</th>\n",
              "      <th>umpire_1</th>\n",
              "      <th>umpire_2</th>\n",
              "      <th>match_winner</th>\n",
              "      <th>year</th>\n",
              "      <th>month</th>\n",
              "      <th>day</th>\n",
              "    </tr>\n",
              "  </thead>\n",
              "  <tbody>\n",
              "    <tr>\n",
              "      <th>0</th>\n",
              "      <td>Eden Park</td>\n",
              "      <td>Auckland</td>\n",
              "      <td>New Zealand</td>\n",
              "      <td>New Zealand</td>\n",
              "      <td>Australia</td>\n",
              "      <td>Australia</td>\n",
              "      <td>bat</td>\n",
              "      <td>BF Bowden</td>\n",
              "      <td>AL Hill</td>\n",
              "      <td>Australia</td>\n",
              "      <td>2005</td>\n",
              "      <td>2</td>\n",
              "      <td>17</td>\n",
              "    </tr>\n",
              "    <tr>\n",
              "      <th>1</th>\n",
              "      <td>The Rose Bowl</td>\n",
              "      <td>Southampton</td>\n",
              "      <td>England</td>\n",
              "      <td>England</td>\n",
              "      <td>Australia</td>\n",
              "      <td>England</td>\n",
              "      <td>bat</td>\n",
              "      <td>NJ Llong</td>\n",
              "      <td>JW Lloyds</td>\n",
              "      <td>England</td>\n",
              "      <td>2005</td>\n",
              "      <td>6</td>\n",
              "      <td>13</td>\n",
              "    </tr>\n",
              "    <tr>\n",
              "      <th>2</th>\n",
              "      <td>New Wanderers Stadium</td>\n",
              "      <td>Johannesburg</td>\n",
              "      <td>South Africa</td>\n",
              "      <td>South Africa</td>\n",
              "      <td>New Zealand</td>\n",
              "      <td>New Zealand</td>\n",
              "      <td>field</td>\n",
              "      <td>IL Howell</td>\n",
              "      <td>BG Jerling</td>\n",
              "      <td>New Zealand</td>\n",
              "      <td>2005</td>\n",
              "      <td>10</td>\n",
              "      <td>21</td>\n",
              "    </tr>\n",
              "    <tr>\n",
              "      <th>3</th>\n",
              "      <td>Brisbane Cricket Ground</td>\n",
              "      <td>Brisbane</td>\n",
              "      <td>Australia</td>\n",
              "      <td>Australia</td>\n",
              "      <td>South Africa</td>\n",
              "      <td>Australia</td>\n",
              "      <td>bat</td>\n",
              "      <td>BNJ Oxenford</td>\n",
              "      <td>RL Parry</td>\n",
              "      <td>Australia</td>\n",
              "      <td>2006</td>\n",
              "      <td>1</td>\n",
              "      <td>9</td>\n",
              "    </tr>\n",
              "    <tr>\n",
              "      <th>4</th>\n",
              "      <td>Eden Park</td>\n",
              "      <td>Auckland</td>\n",
              "      <td>New Zealand</td>\n",
              "      <td>West Indies</td>\n",
              "      <td>New Zealand</td>\n",
              "      <td>New Zealand</td>\n",
              "      <td>field</td>\n",
              "      <td>BF Bowden</td>\n",
              "      <td>AL Hill</td>\n",
              "      <td>New Zealand</td>\n",
              "      <td>2006</td>\n",
              "      <td>2</td>\n",
              "      <td>16</td>\n",
              "    </tr>\n",
              "    <tr>\n",
              "      <th>...</th>\n",
              "      <td>...</td>\n",
              "      <td>...</td>\n",
              "      <td>...</td>\n",
              "      <td>...</td>\n",
              "      <td>...</td>\n",
              "      <td>...</td>\n",
              "      <td>...</td>\n",
              "      <td>...</td>\n",
              "      <td>...</td>\n",
              "      <td>...</td>\n",
              "      <td>...</td>\n",
              "      <td>...</td>\n",
              "      <td>...</td>\n",
              "    </tr>\n",
              "    <tr>\n",
              "      <th>966</th>\n",
              "      <td>Sheikh Zayed Stadium</td>\n",
              "      <td>Abu Dhabi</td>\n",
              "      <td>none</td>\n",
              "      <td>Afghanistan</td>\n",
              "      <td>Zimbabwe</td>\n",
              "      <td>Zimbabwe</td>\n",
              "      <td>field</td>\n",
              "      <td>Aleem Dar</td>\n",
              "      <td>Izatullah Safi</td>\n",
              "      <td>Afghanistan</td>\n",
              "      <td>2021</td>\n",
              "      <td>3</td>\n",
              "      <td>17</td>\n",
              "    </tr>\n",
              "    <tr>\n",
              "      <th>967</th>\n",
              "      <td>Narendra Modi Stadium</td>\n",
              "      <td>Ahmedabad</td>\n",
              "      <td>India</td>\n",
              "      <td>India</td>\n",
              "      <td>England</td>\n",
              "      <td>England</td>\n",
              "      <td>field</td>\n",
              "      <td>KN Ananthapadmanabhan</td>\n",
              "      <td>Nitin Menon</td>\n",
              "      <td>India</td>\n",
              "      <td>2021</td>\n",
              "      <td>3</td>\n",
              "      <td>18</td>\n",
              "    </tr>\n",
              "    <tr>\n",
              "      <th>968</th>\n",
              "      <td>Sheikh Zayed Stadium</td>\n",
              "      <td>Abu Dhabi</td>\n",
              "      <td>none</td>\n",
              "      <td>Afghanistan</td>\n",
              "      <td>Zimbabwe</td>\n",
              "      <td>Afghanistan</td>\n",
              "      <td>bat</td>\n",
              "      <td>Ahmed Shah Durrani</td>\n",
              "      <td>Aleem Dar</td>\n",
              "      <td>Afghanistan</td>\n",
              "      <td>2021</td>\n",
              "      <td>3</td>\n",
              "      <td>19</td>\n",
              "    </tr>\n",
              "    <tr>\n",
              "      <th>969</th>\n",
              "      <td>Narendra Modi Stadium</td>\n",
              "      <td>Ahmedabad</td>\n",
              "      <td>India</td>\n",
              "      <td>India</td>\n",
              "      <td>England</td>\n",
              "      <td>England</td>\n",
              "      <td>field</td>\n",
              "      <td>AK Chaudhary</td>\n",
              "      <td>Nitin Menon</td>\n",
              "      <td>India</td>\n",
              "      <td>2021</td>\n",
              "      <td>3</td>\n",
              "      <td>20</td>\n",
              "    </tr>\n",
              "    <tr>\n",
              "      <th>970</th>\n",
              "      <td>Sheikh Zayed Stadium</td>\n",
              "      <td>Abu Dhabi</td>\n",
              "      <td>none</td>\n",
              "      <td>Afghanistan</td>\n",
              "      <td>Zimbabwe</td>\n",
              "      <td>Afghanistan</td>\n",
              "      <td>bat</td>\n",
              "      <td>Aleem Dar</td>\n",
              "      <td>Izatullah Safi</td>\n",
              "      <td>Afghanistan</td>\n",
              "      <td>2021</td>\n",
              "      <td>3</td>\n",
              "      <td>20</td>\n",
              "    </tr>\n",
              "  </tbody>\n",
              "</table>\n",
              "<p>971 rows × 13 columns</p>\n",
              "</div>"
            ],
            "text/plain": [
              "                       venue          city     home_team  ...  year month day\n",
              "0                  Eden Park      Auckland   New Zealand  ...  2005     2  17\n",
              "1              The Rose Bowl   Southampton       England  ...  2005     6  13\n",
              "2      New Wanderers Stadium  Johannesburg  South Africa  ...  2005    10  21\n",
              "3    Brisbane Cricket Ground      Brisbane     Australia  ...  2006     1   9\n",
              "4                  Eden Park      Auckland   New Zealand  ...  2006     2  16\n",
              "..                       ...           ...           ...  ...   ...   ...  ..\n",
              "966     Sheikh Zayed Stadium     Abu Dhabi          none  ...  2021     3  17\n",
              "967    Narendra Modi Stadium     Ahmedabad         India  ...  2021     3  18\n",
              "968     Sheikh Zayed Stadium     Abu Dhabi          none  ...  2021     3  19\n",
              "969    Narendra Modi Stadium     Ahmedabad         India  ...  2021     3  20\n",
              "970     Sheikh Zayed Stadium     Abu Dhabi          none  ...  2021     3  20\n",
              "\n",
              "[971 rows x 13 columns]"
            ]
          },
          "metadata": {
            "tags": []
          },
          "execution_count": 25
        }
      ]
    },
    {
      "cell_type": "code",
      "metadata": {
        "colab": {
          "base_uri": "https://localhost:8080/"
        },
        "id": "TsTpPNds4nmH",
        "outputId": "2e071374-6457-4338-8f48-2cade22a6d9d"
      },
      "source": [
        "t3.columns"
      ],
      "execution_count": 26,
      "outputs": [
        {
          "output_type": "execute_result",
          "data": {
            "text/plain": [
              "Index(['venue', 'city', 'home_team', 'team_1', 'team_2', 'toss_winner',\n",
              "       'toss_decision', 'umpire_1', 'umpire_2', 'match_winner', 'year',\n",
              "       'month', 'day'],\n",
              "      dtype='object')"
            ]
          },
          "metadata": {
            "tags": []
          },
          "execution_count": 26
        }
      ]
    },
    {
      "cell_type": "code",
      "metadata": {
        "colab": {
          "base_uri": "https://localhost:8080/",
          "height": 406
        },
        "id": "IENB1m-r4ZRF",
        "outputId": "752adc9a-c40c-47ee-f471-01a297415263"
      },
      "source": [
        "t3 = t3[['year', 'month', 'day', 'city', 'venue', 'home_team', 'team_1', 'team_2', 'toss_winner',\n",
        "       'toss_decision', 'umpire_1', 'umpire_2', 'match_winner']]\n",
        "t3"
      ],
      "execution_count": 27,
      "outputs": [
        {
          "output_type": "execute_result",
          "data": {
            "text/html": [
              "<div>\n",
              "<style scoped>\n",
              "    .dataframe tbody tr th:only-of-type {\n",
              "        vertical-align: middle;\n",
              "    }\n",
              "\n",
              "    .dataframe tbody tr th {\n",
              "        vertical-align: top;\n",
              "    }\n",
              "\n",
              "    .dataframe thead th {\n",
              "        text-align: right;\n",
              "    }\n",
              "</style>\n",
              "<table border=\"1\" class=\"dataframe\">\n",
              "  <thead>\n",
              "    <tr style=\"text-align: right;\">\n",
              "      <th></th>\n",
              "      <th>year</th>\n",
              "      <th>month</th>\n",
              "      <th>day</th>\n",
              "      <th>city</th>\n",
              "      <th>venue</th>\n",
              "      <th>home_team</th>\n",
              "      <th>team_1</th>\n",
              "      <th>team_2</th>\n",
              "      <th>toss_winner</th>\n",
              "      <th>toss_decision</th>\n",
              "      <th>umpire_1</th>\n",
              "      <th>umpire_2</th>\n",
              "      <th>match_winner</th>\n",
              "    </tr>\n",
              "  </thead>\n",
              "  <tbody>\n",
              "    <tr>\n",
              "      <th>0</th>\n",
              "      <td>2005</td>\n",
              "      <td>2</td>\n",
              "      <td>17</td>\n",
              "      <td>Auckland</td>\n",
              "      <td>Eden Park</td>\n",
              "      <td>New Zealand</td>\n",
              "      <td>New Zealand</td>\n",
              "      <td>Australia</td>\n",
              "      <td>Australia</td>\n",
              "      <td>bat</td>\n",
              "      <td>BF Bowden</td>\n",
              "      <td>AL Hill</td>\n",
              "      <td>Australia</td>\n",
              "    </tr>\n",
              "    <tr>\n",
              "      <th>1</th>\n",
              "      <td>2005</td>\n",
              "      <td>6</td>\n",
              "      <td>13</td>\n",
              "      <td>Southampton</td>\n",
              "      <td>The Rose Bowl</td>\n",
              "      <td>England</td>\n",
              "      <td>England</td>\n",
              "      <td>Australia</td>\n",
              "      <td>England</td>\n",
              "      <td>bat</td>\n",
              "      <td>NJ Llong</td>\n",
              "      <td>JW Lloyds</td>\n",
              "      <td>England</td>\n",
              "    </tr>\n",
              "    <tr>\n",
              "      <th>2</th>\n",
              "      <td>2005</td>\n",
              "      <td>10</td>\n",
              "      <td>21</td>\n",
              "      <td>Johannesburg</td>\n",
              "      <td>New Wanderers Stadium</td>\n",
              "      <td>South Africa</td>\n",
              "      <td>South Africa</td>\n",
              "      <td>New Zealand</td>\n",
              "      <td>New Zealand</td>\n",
              "      <td>field</td>\n",
              "      <td>IL Howell</td>\n",
              "      <td>BG Jerling</td>\n",
              "      <td>New Zealand</td>\n",
              "    </tr>\n",
              "    <tr>\n",
              "      <th>3</th>\n",
              "      <td>2006</td>\n",
              "      <td>1</td>\n",
              "      <td>9</td>\n",
              "      <td>Brisbane</td>\n",
              "      <td>Brisbane Cricket Ground</td>\n",
              "      <td>Australia</td>\n",
              "      <td>Australia</td>\n",
              "      <td>South Africa</td>\n",
              "      <td>Australia</td>\n",
              "      <td>bat</td>\n",
              "      <td>BNJ Oxenford</td>\n",
              "      <td>RL Parry</td>\n",
              "      <td>Australia</td>\n",
              "    </tr>\n",
              "    <tr>\n",
              "      <th>4</th>\n",
              "      <td>2006</td>\n",
              "      <td>2</td>\n",
              "      <td>16</td>\n",
              "      <td>Auckland</td>\n",
              "      <td>Eden Park</td>\n",
              "      <td>New Zealand</td>\n",
              "      <td>West Indies</td>\n",
              "      <td>New Zealand</td>\n",
              "      <td>New Zealand</td>\n",
              "      <td>field</td>\n",
              "      <td>BF Bowden</td>\n",
              "      <td>AL Hill</td>\n",
              "      <td>New Zealand</td>\n",
              "    </tr>\n",
              "    <tr>\n",
              "      <th>...</th>\n",
              "      <td>...</td>\n",
              "      <td>...</td>\n",
              "      <td>...</td>\n",
              "      <td>...</td>\n",
              "      <td>...</td>\n",
              "      <td>...</td>\n",
              "      <td>...</td>\n",
              "      <td>...</td>\n",
              "      <td>...</td>\n",
              "      <td>...</td>\n",
              "      <td>...</td>\n",
              "      <td>...</td>\n",
              "      <td>...</td>\n",
              "    </tr>\n",
              "    <tr>\n",
              "      <th>966</th>\n",
              "      <td>2021</td>\n",
              "      <td>3</td>\n",
              "      <td>17</td>\n",
              "      <td>Abu Dhabi</td>\n",
              "      <td>Sheikh Zayed Stadium</td>\n",
              "      <td>none</td>\n",
              "      <td>Afghanistan</td>\n",
              "      <td>Zimbabwe</td>\n",
              "      <td>Zimbabwe</td>\n",
              "      <td>field</td>\n",
              "      <td>Aleem Dar</td>\n",
              "      <td>Izatullah Safi</td>\n",
              "      <td>Afghanistan</td>\n",
              "    </tr>\n",
              "    <tr>\n",
              "      <th>967</th>\n",
              "      <td>2021</td>\n",
              "      <td>3</td>\n",
              "      <td>18</td>\n",
              "      <td>Ahmedabad</td>\n",
              "      <td>Narendra Modi Stadium</td>\n",
              "      <td>India</td>\n",
              "      <td>India</td>\n",
              "      <td>England</td>\n",
              "      <td>England</td>\n",
              "      <td>field</td>\n",
              "      <td>KN Ananthapadmanabhan</td>\n",
              "      <td>Nitin Menon</td>\n",
              "      <td>India</td>\n",
              "    </tr>\n",
              "    <tr>\n",
              "      <th>968</th>\n",
              "      <td>2021</td>\n",
              "      <td>3</td>\n",
              "      <td>19</td>\n",
              "      <td>Abu Dhabi</td>\n",
              "      <td>Sheikh Zayed Stadium</td>\n",
              "      <td>none</td>\n",
              "      <td>Afghanistan</td>\n",
              "      <td>Zimbabwe</td>\n",
              "      <td>Afghanistan</td>\n",
              "      <td>bat</td>\n",
              "      <td>Ahmed Shah Durrani</td>\n",
              "      <td>Aleem Dar</td>\n",
              "      <td>Afghanistan</td>\n",
              "    </tr>\n",
              "    <tr>\n",
              "      <th>969</th>\n",
              "      <td>2021</td>\n",
              "      <td>3</td>\n",
              "      <td>20</td>\n",
              "      <td>Ahmedabad</td>\n",
              "      <td>Narendra Modi Stadium</td>\n",
              "      <td>India</td>\n",
              "      <td>India</td>\n",
              "      <td>England</td>\n",
              "      <td>England</td>\n",
              "      <td>field</td>\n",
              "      <td>AK Chaudhary</td>\n",
              "      <td>Nitin Menon</td>\n",
              "      <td>India</td>\n",
              "    </tr>\n",
              "    <tr>\n",
              "      <th>970</th>\n",
              "      <td>2021</td>\n",
              "      <td>3</td>\n",
              "      <td>20</td>\n",
              "      <td>Abu Dhabi</td>\n",
              "      <td>Sheikh Zayed Stadium</td>\n",
              "      <td>none</td>\n",
              "      <td>Afghanistan</td>\n",
              "      <td>Zimbabwe</td>\n",
              "      <td>Afghanistan</td>\n",
              "      <td>bat</td>\n",
              "      <td>Aleem Dar</td>\n",
              "      <td>Izatullah Safi</td>\n",
              "      <td>Afghanistan</td>\n",
              "    </tr>\n",
              "  </tbody>\n",
              "</table>\n",
              "<p>971 rows × 13 columns</p>\n",
              "</div>"
            ],
            "text/plain": [
              "     year  month  day  ...               umpire_1        umpire_2 match_winner\n",
              "0    2005      2   17  ...              BF Bowden         AL Hill    Australia\n",
              "1    2005      6   13  ...               NJ Llong       JW Lloyds      England\n",
              "2    2005     10   21  ...              IL Howell      BG Jerling  New Zealand\n",
              "3    2006      1    9  ...           BNJ Oxenford        RL Parry    Australia\n",
              "4    2006      2   16  ...              BF Bowden         AL Hill  New Zealand\n",
              "..    ...    ...  ...  ...                    ...             ...          ...\n",
              "966  2021      3   17  ...              Aleem Dar  Izatullah Safi  Afghanistan\n",
              "967  2021      3   18  ...  KN Ananthapadmanabhan     Nitin Menon        India\n",
              "968  2021      3   19  ...     Ahmed Shah Durrani       Aleem Dar  Afghanistan\n",
              "969  2021      3   20  ...           AK Chaudhary     Nitin Menon        India\n",
              "970  2021      3   20  ...              Aleem Dar  Izatullah Safi  Afghanistan\n",
              "\n",
              "[971 rows x 13 columns]"
            ]
          },
          "metadata": {
            "tags": []
          },
          "execution_count": 27
        }
      ]
    },
    {
      "cell_type": "code",
      "metadata": {
        "colab": {
          "base_uri": "https://localhost:8080/"
        },
        "id": "pX4-cy4nj5ZP",
        "outputId": "22404a1c-9bb5-4c84-cb75-d2f5de28db45"
      },
      "source": [
        "t3.columns"
      ],
      "execution_count": 28,
      "outputs": [
        {
          "output_type": "execute_result",
          "data": {
            "text/plain": [
              "Index(['year', 'month', 'day', 'city', 'venue', 'home_team', 'team_1',\n",
              "       'team_2', 'toss_winner', 'toss_decision', 'umpire_1', 'umpire_2',\n",
              "       'match_winner'],\n",
              "      dtype='object')"
            ]
          },
          "metadata": {
            "tags": []
          },
          "execution_count": 28
        }
      ]
    },
    {
      "cell_type": "code",
      "metadata": {
        "colab": {
          "base_uri": "https://localhost:8080/"
        },
        "id": "dVswlTCQjHbH",
        "outputId": "8804b5da-c617-4004-8cb3-2e919db25de6"
      },
      "source": [
        "team1 = t3['team_1'].sort_values().unique()\n",
        "team1"
      ],
      "execution_count": 29,
      "outputs": [
        {
          "output_type": "execute_result",
          "data": {
            "text/plain": [
              "array(['Afghanistan', 'Australia', 'Bahrain', 'Bangladesh', 'Bermuda',\n",
              "       'Bhutan', 'Botswana', 'Bulgaria', 'Canada', 'Cayman Islands',\n",
              "       'Denmark', 'England', 'Germany', 'Ghana', 'Guernsey', 'Hong Kong',\n",
              "       'India', 'Iran', 'Ireland', 'Isle of Man', 'Italy', 'Jersey',\n",
              "       'Kenya', 'Kuwait', 'Malaysia', 'Maldives', 'Namibia', 'Nepal',\n",
              "       'Netherlands', 'New Zealand', 'Nigeria', 'Oman', 'Pakistan',\n",
              "       'Papua New Guinea', 'Philippines', 'Qatar', 'Romania',\n",
              "       'Saudi Arabia', 'Scotland', 'Singapore', 'South Africa',\n",
              "       'Sri Lanka', 'Thailand', 'Uganda', 'United Arab Emirates',\n",
              "       'United States of America', 'West Indies', 'Zimbabwe'],\n",
              "      dtype=object)"
            ]
          },
          "metadata": {
            "tags": []
          },
          "execution_count": 29
        }
      ]
    },
    {
      "cell_type": "code",
      "metadata": {
        "colab": {
          "base_uri": "https://localhost:8080/"
        },
        "id": "INSYD1TzjW9E",
        "outputId": "34cc24eb-330c-4e6b-fcbd-a391c5221014"
      },
      "source": [
        "t3['team_2'].sort_values().unique()"
      ],
      "execution_count": 30,
      "outputs": [
        {
          "output_type": "execute_result",
          "data": {
            "text/plain": [
              "array(['Afghanistan', 'Australia', 'Bahrain', 'Bangladesh', 'Bermuda',\n",
              "       'Bhutan', 'Botswana', 'Bulgaria', 'Canada', 'Cayman Islands',\n",
              "       'Denmark', 'England', 'Germany', 'Ghana', 'Guernsey', 'Hong Kong',\n",
              "       'India', 'Ireland', 'Italy', 'Jersey', 'Kenya', 'Kuwait',\n",
              "       'Malaysia', 'Maldives', 'Namibia', 'Nepal', 'Netherlands',\n",
              "       'New Zealand', 'Nigeria', 'Norway', 'Oman', 'Pakistan',\n",
              "       'Papua New Guinea', 'Philippines', 'Qatar', 'Romania', 'Scotland',\n",
              "       'Singapore', 'South Africa', 'Sri Lanka', 'Thailand',\n",
              "       'United Arab Emirates', 'United States of America', 'Vanuatu',\n",
              "       'West Indies', 'Zimbabwe'], dtype=object)"
            ]
          },
          "metadata": {
            "tags": []
          },
          "execution_count": 30
        }
      ]
    },
    {
      "cell_type": "code",
      "metadata": {
        "colab": {
          "base_uri": "https://localhost:8080/"
        },
        "id": "j0BA3cdFkBxX",
        "outputId": "ac84cdeb-5e5d-4e0b-92f9-0e6906f4b609"
      },
      "source": [
        "t3['toss_winner'].sort_values().unique()"
      ],
      "execution_count": 31,
      "outputs": [
        {
          "output_type": "execute_result",
          "data": {
            "text/plain": [
              "array(['Afghanistan', 'Australia', 'Bahrain', 'Bangladesh', 'Bermuda',\n",
              "       'Bhutan', 'Botswana', 'Bulgaria', 'Canada', 'Cayman Islands',\n",
              "       'Denmark', 'England', 'Germany', 'Ghana', 'Guernsey', 'Hong Kong',\n",
              "       'India', 'Ireland', 'Isle of Man', 'Italy', 'Jersey', 'Kenya',\n",
              "       'Kuwait', 'Malaysia', 'Maldives', 'Namibia', 'Nepal',\n",
              "       'Netherlands', 'New Zealand', 'Nigeria', 'Oman', 'Pakistan',\n",
              "       'Papua New Guinea', 'Philippines', 'Qatar', 'Romania', 'Scotland',\n",
              "       'Singapore', 'South Africa', 'Sri Lanka', 'Thailand',\n",
              "       'United Arab Emirates', 'United States of America', 'Vanuatu',\n",
              "       'West Indies', 'Zimbabwe'], dtype=object)"
            ]
          },
          "metadata": {
            "tags": []
          },
          "execution_count": 31
        }
      ]
    },
    {
      "cell_type": "code",
      "metadata": {
        "colab": {
          "base_uri": "https://localhost:8080/"
        },
        "id": "IJRAxxqUj__n",
        "outputId": "eb5dd7fc-8e28-4df3-aacc-11e73c81151a"
      },
      "source": [
        "winner = t3['match_winner'].sort_values().unique()\n",
        "winner"
      ],
      "execution_count": 32,
      "outputs": [
        {
          "output_type": "execute_result",
          "data": {
            "text/plain": [
              "array(['Afghanistan', 'Australia', 'Bahrain', 'Bangladesh', 'Bermuda',\n",
              "       'Bulgaria', 'Canada', 'Denmark', 'England', 'Germany', 'Guernsey',\n",
              "       'Hong Kong', 'India', 'Ireland', 'Italy', 'Jersey', 'Kenya',\n",
              "       'Kuwait', 'Malaysia', 'Maldives', 'Namibia', 'Nepal',\n",
              "       'Netherlands', 'New Zealand', 'Nigeria', 'Oman', 'Pakistan',\n",
              "       'Papua New Guinea', 'Philippines', 'Qatar', 'Romania', 'Scotland',\n",
              "       'Singapore', 'South Africa', 'Sri Lanka', 'Thailand', 'Uganda',\n",
              "       'United Arab Emirates', 'United States of America', 'Vanuatu',\n",
              "       'West Indies', 'Zimbabwe'], dtype=object)"
            ]
          },
          "metadata": {
            "tags": []
          },
          "execution_count": 32
        }
      ]
    },
    {
      "cell_type": "code",
      "metadata": {
        "colab": {
          "base_uri": "https://localhost:8080/"
        },
        "id": "ION0_D85mR2A",
        "outputId": "fee0eb8c-fd9a-44cc-d88d-4f3ea26f30d2"
      },
      "source": [
        "t4 = t3\n",
        "t4.info()"
      ],
      "execution_count": 33,
      "outputs": [
        {
          "output_type": "stream",
          "text": [
            "<class 'pandas.core.frame.DataFrame'>\n",
            "Int64Index: 971 entries, 0 to 970\n",
            "Data columns (total 13 columns):\n",
            " #   Column         Non-Null Count  Dtype \n",
            "---  ------         --------------  ----- \n",
            " 0   year           971 non-null    int64 \n",
            " 1   month          971 non-null    int64 \n",
            " 2   day            971 non-null    int64 \n",
            " 3   city           971 non-null    object\n",
            " 4   venue          971 non-null    object\n",
            " 5   home_team      971 non-null    object\n",
            " 6   team_1         971 non-null    object\n",
            " 7   team_2         971 non-null    object\n",
            " 8   toss_winner    971 non-null    object\n",
            " 9   toss_decision  971 non-null    object\n",
            " 10  umpire_1       971 non-null    object\n",
            " 11  umpire_2       971 non-null    object\n",
            " 12  match_winner   971 non-null    object\n",
            "dtypes: int64(3), object(10)\n",
            "memory usage: 106.2+ KB\n"
          ],
          "name": "stdout"
        }
      ]
    },
    {
      "cell_type": "code",
      "metadata": {
        "colab": {
          "base_uri": "https://localhost:8080/"
        },
        "id": "J454BEsrtX5u",
        "outputId": "de7456a9-db42-4511-f3cb-8531af7b35af"
      },
      "source": [
        "t4['team_1'].nunique()"
      ],
      "execution_count": 34,
      "outputs": [
        {
          "output_type": "execute_result",
          "data": {
            "text/plain": [
              "48"
            ]
          },
          "metadata": {
            "tags": []
          },
          "execution_count": 34
        }
      ]
    },
    {
      "cell_type": "code",
      "metadata": {
        "colab": {
          "base_uri": "https://localhost:8080/"
        },
        "id": "shes6X8etXj7",
        "outputId": "e09d3691-37b9-4610-dbb3-c09e3fc29239"
      },
      "source": [
        "t4['team_2'].nunique()"
      ],
      "execution_count": 35,
      "outputs": [
        {
          "output_type": "execute_result",
          "data": {
            "text/plain": [
              "46"
            ]
          },
          "metadata": {
            "tags": []
          },
          "execution_count": 35
        }
      ]
    },
    {
      "cell_type": "code",
      "metadata": {
        "colab": {
          "base_uri": "https://localhost:8080/"
        },
        "id": "cxO0_R5GtXR3",
        "outputId": "1da87c20-519e-4aaa-e584-9cc771e32b62"
      },
      "source": [
        "t4['toss_winner'].nunique()"
      ],
      "execution_count": 36,
      "outputs": [
        {
          "output_type": "execute_result",
          "data": {
            "text/plain": [
              "46"
            ]
          },
          "metadata": {
            "tags": []
          },
          "execution_count": 36
        }
      ]
    },
    {
      "cell_type": "code",
      "metadata": {
        "colab": {
          "base_uri": "https://localhost:8080/"
        },
        "id": "STCqWYg3r9zs",
        "outputId": "1ad842a7-7b54-4ee7-e7b7-b4bb9264584a"
      },
      "source": [
        "t4['match_winner'].nunique()"
      ],
      "execution_count": 37,
      "outputs": [
        {
          "output_type": "execute_result",
          "data": {
            "text/plain": [
              "42"
            ]
          },
          "metadata": {
            "tags": []
          },
          "execution_count": 37
        }
      ]
    },
    {
      "cell_type": "code",
      "metadata": {
        "colab": {
          "base_uri": "https://localhost:8080/"
        },
        "id": "bCr2uVFItWDp",
        "outputId": "80c562a4-c21e-4ab4-f4f3-b247708e0b05"
      },
      "source": [
        "t4['match_winner'].value_counts()"
      ],
      "execution_count": 38,
      "outputs": [
        {
          "output_type": "execute_result",
          "data": {
            "text/plain": [
              "Pakistan                    98\n",
              "India                       90\n",
              "New Zealand                 77\n",
              "Australia                   72\n",
              "South Africa                71\n",
              "England                     70\n",
              "Sri Lanka                   59\n",
              "West Indies                 58\n",
              "Afghanistan                 54\n",
              "Ireland                     39\n",
              "Netherlands                 36\n",
              "Bangladesh                  30\n",
              "Scotland                    23\n",
              "United Arab Emirates        21\n",
              "Zimbabwe                    17\n",
              "Nepal                       16\n",
              "Hong Kong                   15\n",
              "Oman                        14\n",
              "Papua New Guinea            13\n",
              "Namibia                     12\n",
              "Malaysia                    12\n",
              "Kenya                       11\n",
              "Singapore                    9\n",
              "Canada                       8\n",
              "Jersey                       6\n",
              "Bermuda                      5\n",
              "Germany                      4\n",
              "Vanuatu                      4\n",
              "Guernsey                     4\n",
              "Kuwait                       3\n",
              "Italy                        2\n",
              "Denmark                      2\n",
              "United States of America     2\n",
              "Maldives                     2\n",
              "Nigeria                      2\n",
              "Romania                      2\n",
              "Qatar                        2\n",
              "Uganda                       2\n",
              "Philippines                  1\n",
              "Thailand                     1\n",
              "Bulgaria                     1\n",
              "Bahrain                      1\n",
              "Name: match_winner, dtype: int64"
            ]
          },
          "metadata": {
            "tags": []
          },
          "execution_count": 38
        }
      ]
    },
    {
      "cell_type": "code",
      "metadata": {
        "colab": {
          "base_uri": "https://localhost:8080/"
        },
        "id": "y13fCh5GDhf9",
        "outputId": "cd566694-0018-4789-fbf2-5243a86d81f7"
      },
      "source": [
        "t4['home_team'].value_counts()"
      ],
      "execution_count": 39,
      "outputs": [
        {
          "output_type": "execute_result",
          "data": {
            "text/plain": [
              "none                    405\n",
              "New Zealand              70\n",
              "South Africa             62\n",
              "India                    51\n",
              "England                  48\n",
              "Australia                46\n",
              "West Indies              43\n",
              "Sri Lanka                42\n",
              "Bangladesh               38\n",
              "United Arab Emirates     27\n",
              "Zimbabwe                 24\n",
              "Pakistan                 18\n",
              "Ireland                  16\n",
              "Malaysia                 15\n",
              "Netherlands              12\n",
              "Oman                      7\n",
              "Singapore                 6\n",
              "Kenya                     5\n",
              "Bermuda                   5\n",
              "Scotland                  5\n",
              "Papua New Guinea          4\n",
              "Thailand                  4\n",
              "Uganda                    4\n",
              "Namibia                   4\n",
              "Romania                   3\n",
              "Nepal                     3\n",
              "Hong Kong                 2\n",
              "Guernsey                  2\n",
              "Name: home_team, dtype: int64"
            ]
          },
          "metadata": {
            "tags": []
          },
          "execution_count": 39
        }
      ]
    },
    {
      "cell_type": "code",
      "metadata": {
        "colab": {
          "base_uri": "https://localhost:8080/"
        },
        "id": "jl5hbuj_ugIQ",
        "outputId": "090bbd9d-3fec-4db4-fd57-452da494c5ef"
      },
      "source": [
        "neverwon = np.setdiff1d(team1, winner)\n",
        "neverwon"
      ],
      "execution_count": 40,
      "outputs": [
        {
          "output_type": "execute_result",
          "data": {
            "text/plain": [
              "array(['Bhutan', 'Botswana', 'Cayman Islands', 'Ghana', 'Iran',\n",
              "       'Isle of Man', 'Saudi Arabia'], dtype=object)"
            ]
          },
          "metadata": {
            "tags": []
          },
          "execution_count": 40
        }
      ]
    },
    {
      "cell_type": "code",
      "metadata": {
        "colab": {
          "base_uri": "https://localhost:8080/",
          "height": 406
        },
        "id": "xvVAwzIefaoC",
        "outputId": "59ea04ac-4227-4264-e183-008e36d0e3fb"
      },
      "source": [
        "# Creating Dictionaries\n",
        "\n",
        "team_encodings = {\n",
        "    'Pakistan'                    : 98,\n",
        "    'India'                       : 90,\n",
        "    'New Zealand'                 : 77,\n",
        "    'Australia'                   : 72,\n",
        "    'South Africa'                : 71,\n",
        "    'England'                     : 70,\n",
        "    'Sri Lanka'                   : 59,\n",
        "    'West Indies'                 : 58,\n",
        "    'Afghanistan'                 : 54,\n",
        "    'Ireland'                     : 41,\n",
        "    'Netherlands'                 : 40,\n",
        "    'Bangladesh'                  : 39,\n",
        "    'Scotland'                    : 38,\n",
        "    'United Arab Emirates'        : 37,\n",
        "    'Zimbabwe'                    : 36,\n",
        "    'Nepal'                       : 35,\n",
        "    'Hong Kong'                   : 34,\n",
        "    'Oman'                        : 33,\n",
        "    'Papua New Guinea'            : 32,\n",
        "    'Malaysia'                    : 31,\n",
        "    'Namibia'                     : 30,\n",
        "    'Kenya'                       : 29,\n",
        "    'Singapore'                   : 28,\n",
        "    'Canada'                      : 27,\n",
        "    'Jersey'                      : 26,\n",
        "    'Bermuda'                     : 25,\n",
        "    'Germany'                     : 24,\n",
        "    'Guernsey'                    : 23,\n",
        "    'Vanuatu'                     : 22,\n",
        "    'Kuwait'                      : 21,\n",
        "    'Qatar'                       : 20,\n",
        "    'Denmark'                     : 19,\n",
        "    'Romania'                     : 18,\n",
        "    'Italy'                       : 17,\n",
        "    'Maldives'                    : 16,\n",
        "    'Uganda'                      : 15,\n",
        "    'Nigeria'                     : 14,\n",
        "    'United States of America'    : 13,\n",
        "    'Philippines'                 : 12,\n",
        "    'Thailand'                    : 11,    \n",
        "    'Bahrain'                     : 10,    \n",
        "    'Bulgaria'                    : 9,\n",
        "    'Norway'                      : 8,\n",
        "    'Bhutan'                      : 7,\n",
        "    'Botswana'                    : 6,\n",
        "    'Cayman Islands'              : 5,\n",
        "    'Ghana'                       : 4,\n",
        "    'Iran'                        : 3,\n",
        "    'Isle of Man'                 : 2,\n",
        "    'Saudi Arabia'                : 1,\n",
        "    'none'                        : 0\n",
        "}\n",
        "\n",
        "team_encode_dict = {\n",
        "    'all_teams': team_encodings,\n",
        "    'team_1': team_encodings,\n",
        "    'team_2': team_encodings,\n",
        "    'home_team': team_encodings,\n",
        "    'toss_winner': team_encodings,\n",
        "    'match_winner': team_encodings\n",
        "}\n",
        "t4.replace(team_encode_dict, inplace=True)\n",
        "t4"
      ],
      "execution_count": 41,
      "outputs": [
        {
          "output_type": "execute_result",
          "data": {
            "text/html": [
              "<div>\n",
              "<style scoped>\n",
              "    .dataframe tbody tr th:only-of-type {\n",
              "        vertical-align: middle;\n",
              "    }\n",
              "\n",
              "    .dataframe tbody tr th {\n",
              "        vertical-align: top;\n",
              "    }\n",
              "\n",
              "    .dataframe thead th {\n",
              "        text-align: right;\n",
              "    }\n",
              "</style>\n",
              "<table border=\"1\" class=\"dataframe\">\n",
              "  <thead>\n",
              "    <tr style=\"text-align: right;\">\n",
              "      <th></th>\n",
              "      <th>year</th>\n",
              "      <th>month</th>\n",
              "      <th>day</th>\n",
              "      <th>city</th>\n",
              "      <th>venue</th>\n",
              "      <th>home_team</th>\n",
              "      <th>team_1</th>\n",
              "      <th>team_2</th>\n",
              "      <th>toss_winner</th>\n",
              "      <th>toss_decision</th>\n",
              "      <th>umpire_1</th>\n",
              "      <th>umpire_2</th>\n",
              "      <th>match_winner</th>\n",
              "    </tr>\n",
              "  </thead>\n",
              "  <tbody>\n",
              "    <tr>\n",
              "      <th>0</th>\n",
              "      <td>2005</td>\n",
              "      <td>2</td>\n",
              "      <td>17</td>\n",
              "      <td>Auckland</td>\n",
              "      <td>Eden Park</td>\n",
              "      <td>77</td>\n",
              "      <td>77</td>\n",
              "      <td>72</td>\n",
              "      <td>72</td>\n",
              "      <td>bat</td>\n",
              "      <td>BF Bowden</td>\n",
              "      <td>AL Hill</td>\n",
              "      <td>72</td>\n",
              "    </tr>\n",
              "    <tr>\n",
              "      <th>1</th>\n",
              "      <td>2005</td>\n",
              "      <td>6</td>\n",
              "      <td>13</td>\n",
              "      <td>Southampton</td>\n",
              "      <td>The Rose Bowl</td>\n",
              "      <td>70</td>\n",
              "      <td>70</td>\n",
              "      <td>72</td>\n",
              "      <td>70</td>\n",
              "      <td>bat</td>\n",
              "      <td>NJ Llong</td>\n",
              "      <td>JW Lloyds</td>\n",
              "      <td>70</td>\n",
              "    </tr>\n",
              "    <tr>\n",
              "      <th>2</th>\n",
              "      <td>2005</td>\n",
              "      <td>10</td>\n",
              "      <td>21</td>\n",
              "      <td>Johannesburg</td>\n",
              "      <td>New Wanderers Stadium</td>\n",
              "      <td>71</td>\n",
              "      <td>71</td>\n",
              "      <td>77</td>\n",
              "      <td>77</td>\n",
              "      <td>field</td>\n",
              "      <td>IL Howell</td>\n",
              "      <td>BG Jerling</td>\n",
              "      <td>77</td>\n",
              "    </tr>\n",
              "    <tr>\n",
              "      <th>3</th>\n",
              "      <td>2006</td>\n",
              "      <td>1</td>\n",
              "      <td>9</td>\n",
              "      <td>Brisbane</td>\n",
              "      <td>Brisbane Cricket Ground</td>\n",
              "      <td>72</td>\n",
              "      <td>72</td>\n",
              "      <td>71</td>\n",
              "      <td>72</td>\n",
              "      <td>bat</td>\n",
              "      <td>BNJ Oxenford</td>\n",
              "      <td>RL Parry</td>\n",
              "      <td>72</td>\n",
              "    </tr>\n",
              "    <tr>\n",
              "      <th>4</th>\n",
              "      <td>2006</td>\n",
              "      <td>2</td>\n",
              "      <td>16</td>\n",
              "      <td>Auckland</td>\n",
              "      <td>Eden Park</td>\n",
              "      <td>77</td>\n",
              "      <td>58</td>\n",
              "      <td>77</td>\n",
              "      <td>77</td>\n",
              "      <td>field</td>\n",
              "      <td>BF Bowden</td>\n",
              "      <td>AL Hill</td>\n",
              "      <td>77</td>\n",
              "    </tr>\n",
              "    <tr>\n",
              "      <th>...</th>\n",
              "      <td>...</td>\n",
              "      <td>...</td>\n",
              "      <td>...</td>\n",
              "      <td>...</td>\n",
              "      <td>...</td>\n",
              "      <td>...</td>\n",
              "      <td>...</td>\n",
              "      <td>...</td>\n",
              "      <td>...</td>\n",
              "      <td>...</td>\n",
              "      <td>...</td>\n",
              "      <td>...</td>\n",
              "      <td>...</td>\n",
              "    </tr>\n",
              "    <tr>\n",
              "      <th>966</th>\n",
              "      <td>2021</td>\n",
              "      <td>3</td>\n",
              "      <td>17</td>\n",
              "      <td>Abu Dhabi</td>\n",
              "      <td>Sheikh Zayed Stadium</td>\n",
              "      <td>0</td>\n",
              "      <td>54</td>\n",
              "      <td>36</td>\n",
              "      <td>36</td>\n",
              "      <td>field</td>\n",
              "      <td>Aleem Dar</td>\n",
              "      <td>Izatullah Safi</td>\n",
              "      <td>54</td>\n",
              "    </tr>\n",
              "    <tr>\n",
              "      <th>967</th>\n",
              "      <td>2021</td>\n",
              "      <td>3</td>\n",
              "      <td>18</td>\n",
              "      <td>Ahmedabad</td>\n",
              "      <td>Narendra Modi Stadium</td>\n",
              "      <td>90</td>\n",
              "      <td>90</td>\n",
              "      <td>70</td>\n",
              "      <td>70</td>\n",
              "      <td>field</td>\n",
              "      <td>KN Ananthapadmanabhan</td>\n",
              "      <td>Nitin Menon</td>\n",
              "      <td>90</td>\n",
              "    </tr>\n",
              "    <tr>\n",
              "      <th>968</th>\n",
              "      <td>2021</td>\n",
              "      <td>3</td>\n",
              "      <td>19</td>\n",
              "      <td>Abu Dhabi</td>\n",
              "      <td>Sheikh Zayed Stadium</td>\n",
              "      <td>0</td>\n",
              "      <td>54</td>\n",
              "      <td>36</td>\n",
              "      <td>54</td>\n",
              "      <td>bat</td>\n",
              "      <td>Ahmed Shah Durrani</td>\n",
              "      <td>Aleem Dar</td>\n",
              "      <td>54</td>\n",
              "    </tr>\n",
              "    <tr>\n",
              "      <th>969</th>\n",
              "      <td>2021</td>\n",
              "      <td>3</td>\n",
              "      <td>20</td>\n",
              "      <td>Ahmedabad</td>\n",
              "      <td>Narendra Modi Stadium</td>\n",
              "      <td>90</td>\n",
              "      <td>90</td>\n",
              "      <td>70</td>\n",
              "      <td>70</td>\n",
              "      <td>field</td>\n",
              "      <td>AK Chaudhary</td>\n",
              "      <td>Nitin Menon</td>\n",
              "      <td>90</td>\n",
              "    </tr>\n",
              "    <tr>\n",
              "      <th>970</th>\n",
              "      <td>2021</td>\n",
              "      <td>3</td>\n",
              "      <td>20</td>\n",
              "      <td>Abu Dhabi</td>\n",
              "      <td>Sheikh Zayed Stadium</td>\n",
              "      <td>0</td>\n",
              "      <td>54</td>\n",
              "      <td>36</td>\n",
              "      <td>54</td>\n",
              "      <td>bat</td>\n",
              "      <td>Aleem Dar</td>\n",
              "      <td>Izatullah Safi</td>\n",
              "      <td>54</td>\n",
              "    </tr>\n",
              "  </tbody>\n",
              "</table>\n",
              "<p>971 rows × 13 columns</p>\n",
              "</div>"
            ],
            "text/plain": [
              "     year  month  day  ...               umpire_1        umpire_2  match_winner\n",
              "0    2005      2   17  ...              BF Bowden         AL Hill            72\n",
              "1    2005      6   13  ...               NJ Llong       JW Lloyds            70\n",
              "2    2005     10   21  ...              IL Howell      BG Jerling            77\n",
              "3    2006      1    9  ...           BNJ Oxenford        RL Parry            72\n",
              "4    2006      2   16  ...              BF Bowden         AL Hill            77\n",
              "..    ...    ...  ...  ...                    ...             ...           ...\n",
              "966  2021      3   17  ...              Aleem Dar  Izatullah Safi            54\n",
              "967  2021      3   18  ...  KN Ananthapadmanabhan     Nitin Menon            90\n",
              "968  2021      3   19  ...     Ahmed Shah Durrani       Aleem Dar            54\n",
              "969  2021      3   20  ...           AK Chaudhary     Nitin Menon            90\n",
              "970  2021      3   20  ...              Aleem Dar  Izatullah Safi            54\n",
              "\n",
              "[971 rows x 13 columns]"
            ]
          },
          "metadata": {
            "tags": []
          },
          "execution_count": 41
        }
      ]
    },
    {
      "cell_type": "code",
      "metadata": {
        "colab": {
          "base_uri": "https://localhost:8080/"
        },
        "id": "gKm62AW7L_Y8",
        "outputId": "1097e192-ee3b-42c3-f24f-1fc6ba9b74d4"
      },
      "source": [
        "print(team_encode_dict['all_teams'])"
      ],
      "execution_count": 42,
      "outputs": [
        {
          "output_type": "stream",
          "text": [
            "{'Pakistan': 98, 'India': 90, 'New Zealand': 77, 'Australia': 72, 'South Africa': 71, 'England': 70, 'Sri Lanka': 59, 'West Indies': 58, 'Afghanistan': 54, 'Ireland': 41, 'Netherlands': 40, 'Bangladesh': 39, 'Scotland': 38, 'United Arab Emirates': 37, 'Zimbabwe': 36, 'Nepal': 35, 'Hong Kong': 34, 'Oman': 33, 'Papua New Guinea': 32, 'Malaysia': 31, 'Namibia': 30, 'Kenya': 29, 'Singapore': 28, 'Canada': 27, 'Jersey': 26, 'Bermuda': 25, 'Germany': 24, 'Guernsey': 23, 'Vanuatu': 22, 'Kuwait': 21, 'Qatar': 20, 'Denmark': 19, 'Romania': 18, 'Italy': 17, 'Maldives': 16, 'Uganda': 15, 'Nigeria': 14, 'United States of America': 13, 'Philippines': 12, 'Thailand': 11, 'Bahrain': 10, 'Bulgaria': 9, 'Norway': 8, 'Bhutan': 7, 'Botswana': 6, 'Cayman Islands': 5, 'Ghana': 4, 'Iran': 3, 'Isle of Man': 2, 'Saudi Arabia': 1, 'none': 0}\n"
          ],
          "name": "stdout"
        }
      ]
    },
    {
      "cell_type": "code",
      "metadata": {
        "colab": {
          "base_uri": "https://localhost:8080/"
        },
        "id": "OIz5L21O13iq",
        "outputId": "5dcfce9a-6216-4197-ed59-51b33efae574"
      },
      "source": [
        "t4['team_1'].value_counts()"
      ],
      "execution_count": 43,
      "outputs": [
        {
          "output_type": "execute_result",
          "data": {
            "text/plain": [
              "77    81\n",
              "72    80\n",
              "90    77\n",
              "70    70\n",
              "71    69\n",
              "54    62\n",
              "98    57\n",
              "39    56\n",
              "59    51\n",
              "58    51\n",
              "41    43\n",
              "36    28\n",
              "40    28\n",
              "34    27\n",
              "37    27\n",
              "27    19\n",
              "31    17\n",
              "29    16\n",
              "30    10\n",
              "35    10\n",
              "33    10\n",
              "25    10\n",
              "38     7\n",
              "28     6\n",
              "21     5\n",
              "32     5\n",
              "19     5\n",
              "11     4\n",
              "15     4\n",
              "23     4\n",
              "4      3\n",
              "12     3\n",
              "16     3\n",
              "26     3\n",
              "24     3\n",
              "13     2\n",
              "9      2\n",
              "6      2\n",
              "5      2\n",
              "17     1\n",
              "14     1\n",
              "18     1\n",
              "20     1\n",
              "10     1\n",
              "7      1\n",
              "3      1\n",
              "2      1\n",
              "1      1\n",
              "Name: team_1, dtype: int64"
            ]
          },
          "metadata": {
            "tags": []
          },
          "execution_count": 43
        }
      ]
    },
    {
      "cell_type": "code",
      "metadata": {
        "colab": {
          "base_uri": "https://localhost:8080/"
        },
        "id": "fl6siv2V15QS",
        "outputId": "fbdbee80-7c52-4c10-d575-df3709faf0b7"
      },
      "source": [
        "t4['team_2'].value_counts()"
      ],
      "execution_count": 44,
      "outputs": [
        {
          "output_type": "execute_result",
          "data": {
            "text/plain": [
              "98    100\n",
              "58     78\n",
              "59     77\n",
              "90     63\n",
              "77     61\n",
              "70     61\n",
              "71     57\n",
              "72     56\n",
              "36     49\n",
              "41     43\n",
              "38     42\n",
              "40     36\n",
              "39     35\n",
              "35     21\n",
              "33     21\n",
              "37     18\n",
              "54     16\n",
              "32     15\n",
              "34     15\n",
              "29     12\n",
              "22      9\n",
              "28      9\n",
              "14      7\n",
              "26      7\n",
              "30      6\n",
              "13      6\n",
              "6       5\n",
              "31      5\n",
              "20      5\n",
              "5       4\n",
              "8       4\n",
              "11      4\n",
              "16      4\n",
              "17      3\n",
              "27      2\n",
              "18      2\n",
              "23      2\n",
              "24      2\n",
              "25      2\n",
              "19      1\n",
              "12      1\n",
              "21      1\n",
              "10      1\n",
              "9       1\n",
              "7       1\n",
              "4       1\n",
              "Name: team_2, dtype: int64"
            ]
          },
          "metadata": {
            "tags": []
          },
          "execution_count": 44
        }
      ]
    },
    {
      "cell_type": "code",
      "metadata": {
        "colab": {
          "base_uri": "https://localhost:8080/"
        },
        "id": "chU6eaWmEhf4",
        "outputId": "69a660f1-98d5-4c85-84ba-b78e0b6896ee"
      },
      "source": [
        "t4['home_team'].value_counts()"
      ],
      "execution_count": 45,
      "outputs": [
        {
          "output_type": "execute_result",
          "data": {
            "text/plain": [
              "0     405\n",
              "77     70\n",
              "71     62\n",
              "90     51\n",
              "70     48\n",
              "72     46\n",
              "58     43\n",
              "59     42\n",
              "39     38\n",
              "37     27\n",
              "36     24\n",
              "98     18\n",
              "41     16\n",
              "31     15\n",
              "40     12\n",
              "33      7\n",
              "28      6\n",
              "38      5\n",
              "29      5\n",
              "25      5\n",
              "32      4\n",
              "30      4\n",
              "15      4\n",
              "11      4\n",
              "18      3\n",
              "35      3\n",
              "34      2\n",
              "23      2\n",
              "Name: home_team, dtype: int64"
            ]
          },
          "metadata": {
            "tags": []
          },
          "execution_count": 45
        }
      ]
    },
    {
      "cell_type": "code",
      "metadata": {
        "colab": {
          "base_uri": "https://localhost:8080/"
        },
        "id": "O3Y2dKuf143g",
        "outputId": "a71c175b-c6b1-4b54-c9fc-51c5f335ae64"
      },
      "source": [
        "t4['toss_winner'].value_counts()"
      ],
      "execution_count": 46,
      "outputs": [
        {
          "output_type": "execute_result",
          "data": {
            "text/plain": [
              "98    79\n",
              "72    73\n",
              "77    69\n",
              "58    67\n",
              "70    66\n",
              "90    64\n",
              "71    60\n",
              "59    58\n",
              "41    48\n",
              "39    48\n",
              "36    39\n",
              "54    39\n",
              "40    33\n",
              "37    25\n",
              "34    22\n",
              "38    19\n",
              "33    18\n",
              "31    14\n",
              "29    14\n",
              "35    13\n",
              "32    11\n",
              "28    10\n",
              "27    10\n",
              "30     7\n",
              "11     7\n",
              "22     6\n",
              "25     5\n",
              "6      5\n",
              "26     4\n",
              "24     4\n",
              "19     4\n",
              "14     4\n",
              "5      3\n",
              "13     3\n",
              "4      3\n",
              "23     3\n",
              "17     2\n",
              "20     2\n",
              "21     2\n",
              "9      2\n",
              "7      1\n",
              "16     1\n",
              "10     1\n",
              "12     1\n",
              "18     1\n",
              "2      1\n",
              "Name: toss_winner, dtype: int64"
            ]
          },
          "metadata": {
            "tags": []
          },
          "execution_count": 46
        }
      ]
    },
    {
      "cell_type": "code",
      "metadata": {
        "colab": {
          "base_uri": "https://localhost:8080/"
        },
        "id": "TdFDhYT714es",
        "outputId": "2368a45e-6a5d-4697-d271-a69c8a245ec2"
      },
      "source": [
        "t4['match_winner'].value_counts()"
      ],
      "execution_count": 47,
      "outputs": [
        {
          "output_type": "execute_result",
          "data": {
            "text/plain": [
              "98    98\n",
              "90    90\n",
              "77    77\n",
              "72    72\n",
              "71    71\n",
              "70    70\n",
              "59    59\n",
              "58    58\n",
              "54    54\n",
              "41    39\n",
              "40    36\n",
              "39    30\n",
              "38    23\n",
              "37    21\n",
              "36    17\n",
              "35    16\n",
              "34    15\n",
              "33    14\n",
              "32    13\n",
              "31    12\n",
              "30    12\n",
              "29    11\n",
              "28     9\n",
              "27     8\n",
              "26     6\n",
              "25     5\n",
              "24     4\n",
              "23     4\n",
              "22     4\n",
              "21     3\n",
              "16     2\n",
              "13     2\n",
              "14     2\n",
              "15     2\n",
              "18     2\n",
              "17     2\n",
              "19     2\n",
              "20     2\n",
              "12     1\n",
              "11     1\n",
              "10     1\n",
              "9      1\n",
              "Name: match_winner, dtype: int64"
            ]
          },
          "metadata": {
            "tags": []
          },
          "execution_count": 47
        }
      ]
    },
    {
      "cell_type": "code",
      "metadata": {
        "colab": {
          "base_uri": "https://localhost:8080/"
        },
        "id": "nEnUEkMWmq_T",
        "outputId": "1249735e-1b29-453b-808f-b9969f471b7a"
      },
      "source": [
        "t4.info()"
      ],
      "execution_count": 48,
      "outputs": [
        {
          "output_type": "stream",
          "text": [
            "<class 'pandas.core.frame.DataFrame'>\n",
            "Int64Index: 971 entries, 0 to 970\n",
            "Data columns (total 13 columns):\n",
            " #   Column         Non-Null Count  Dtype \n",
            "---  ------         --------------  ----- \n",
            " 0   year           971 non-null    int64 \n",
            " 1   month          971 non-null    int64 \n",
            " 2   day            971 non-null    int64 \n",
            " 3   city           971 non-null    object\n",
            " 4   venue          971 non-null    object\n",
            " 5   home_team      971 non-null    int64 \n",
            " 6   team_1         971 non-null    int64 \n",
            " 7   team_2         971 non-null    int64 \n",
            " 8   toss_winner    971 non-null    int64 \n",
            " 9   toss_decision  971 non-null    object\n",
            " 10  umpire_1       971 non-null    object\n",
            " 11  umpire_2       971 non-null    object\n",
            " 12  match_winner   971 non-null    int64 \n",
            "dtypes: int64(8), object(5)\n",
            "memory usage: 106.2+ KB\n"
          ],
          "name": "stdout"
        }
      ]
    },
    {
      "cell_type": "code",
      "metadata": {
        "colab": {
          "base_uri": "https://localhost:8080/",
          "height": 1000
        },
        "id": "0pSpSAVqnfVI",
        "outputId": "1f205904-a059-4d4c-db20-8b826831f29f"
      },
      "source": [
        "from sklearn.preprocessing import LabelEncoder\n",
        "\n",
        "ftr_list = ['city', 'venue', 'toss_decision', 'umpire_1', 'umpire_2']\n",
        "encoder = LabelEncoder()\n",
        "for ftr in ftr_list:\n",
        "    t4[ftr] = encoder.fit_transform(t4[ftr])\n",
        "    print(encoder.classes_)\n",
        "\n",
        "t4"
      ],
      "execution_count": 49,
      "outputs": [
        {
          "output_type": "stream",
          "text": [
            "['Abu Dhabi' 'Adelaide' 'Ahmedabad' 'Al Amarat' 'Amstelveen' 'Antigua'\n",
            " 'Auckland' 'Bangalore' 'Bangkok' 'Barbados' 'Basseterre' 'Belfast'\n",
            " 'Birmingham' 'Bloemfontein' 'Bready' 'Brisbane' 'Bristol' 'Bulawayo'\n",
            " 'Canberra' 'Cape Town' 'Cardiff' 'Carrara' 'Castel' 'Centurion'\n",
            " 'Chandigarh' 'Chennai' 'Chester-le-Street' 'Chittagong' 'Christchurch'\n",
            " 'Colombo' 'Coolidge' 'Cuttack' 'Dehradun' 'Delhi' 'Derry' 'Deventer'\n",
            " 'Dhaka' 'Dharamsala' 'Dominica' 'Dubai' 'Dublin' 'Dunedin' 'Durban'\n",
            " 'East London' 'Edinburgh' 'Fatullah' 'Greater Noida' 'Gros Islet'\n",
            " 'Guwahati' 'Guyana' 'Hambantota' 'Hamilton' 'Harare' 'Hobart' 'Hong Kong'\n",
            " 'Hyderabad' 'Indore' 'Jamaica' 'Johannesburg' 'Kampala' 'Kandy' 'Kanpur'\n",
            " 'Karachi' 'Khulna' 'Kimberley' 'King City' 'Kirtipur' 'Kolkata'\n",
            " 'Kuala Lumpur' 'Lahore' 'Lauderhill' 'London' 'Londonderry' 'Lucknow'\n",
            " 'Manchester' 'Melbourne' 'Mirpur' 'Moara Vlasiei' 'Mombasa'\n",
            " 'Mount Maunganui' 'Mumbai' 'Nagpur' 'Nairobi' 'Napier' 'Nelson'\n",
            " 'Nottingham' 'Paarl' 'Perth' 'Port Elizabeth' 'Port Moresby'\n",
            " 'Potchefstroom' 'Providence' 'Pune' 'Rajkot' 'Ranchi' 'Rawalpindi'\n",
            " 'Rotterdam' 'Sharjah' 'Singapore' 'Southampton' 'St Georges' 'St Kitts'\n",
            " 'St Lucia' 'St Peter Port' 'St Vincent' 'Sydney' 'Sylhet' 'Taunton'\n",
            " 'The Hague' 'Thiruvananthapuram' 'Townsville' 'Trinidad' 'Utrecht'\n",
            " 'Victoria' 'Visakhapatnam' 'Wellington' 'Windhoek']\n",
            "['AMI Stadium' 'Adelaide Oval'\n",
            " 'Al Amerat Cricket Ground Oman Cricket Ministry Turf 1'\n",
            " 'Al Amerat Cricket Ground Oman Cricket Ministry Turf 2' 'Amini Park'\n",
            " 'Arnos Vale Ground' 'Arun Jaitley Stadium' 'Barabati Stadium'\n",
            " 'Barsapara Cricket Stadium' 'Bay Oval' 'Beausejour Stadium'\n",
            " 'Bellerive Oval' 'Bermuda National Stadium'\n",
            " 'Bharat Ratna Shri Atal Bihari Vajpayee Ekana Cricket Stadium'\n",
            " 'Boland Park' 'Brabourne Stadium' 'Bready Cricket Club'\n",
            " 'Brisbane Cricket Ground' 'Buffalo Park' 'Carrara Oval'\n",
            " 'Central Broward Regional Park Stadium Turf Ground'\n",
            " 'Civil Service Cricket Club' 'Clontarf Cricket Club Ground'\n",
            " 'College Field' 'Coolidge Cricket Ground' 'County Ground'\n",
            " 'Darren Sammy National Cricket Stadium' 'De Beers Diamond Oval'\n",
            " 'Dr. Y.S. Rajasekhara Reddy ACA-VDCA Cricket Stadium'\n",
            " 'Dubai International Cricket Stadium' 'Eden Gardens' 'Eden Park'\n",
            " 'Edgbaston' 'Feroz Shah Kotla' 'Gaddafi Stadium'\n",
            " 'Grange Cricket Club Ground' 'Greater Noida Sports Complex Ground'\n",
            " 'Green Park' 'Greenfield International Stadium' 'Gymkhana Club Ground'\n",
            " 'Hagley Oval' 'Harare Sports Club' 'Hazelaarweg'\n",
            " 'Himachal Pradesh Cricket Association Stadium' 'Holkar Cricket Stadium'\n",
            " 'ICC Academy' 'ICC Academy Ground No 2' 'ICC Global Cricket Academy'\n",
            " 'Indian Association Ground' 'JSCA International Stadium Complex'\n",
            " 'Jade Stadium' 'Kennington Oval' 'Kensington Oval'\n",
            " 'Khan Shaheb Osman Ali Stadium' 'King George V Sports Ground' 'Kingsmead'\n",
            " 'Kinrara Academy Oval' 'Kyambogo Cricket Oval' 'Lords'\n",
            " 'Lugogo Cricket Oval' 'M Chinnaswamy Stadium' 'M.Chinnaswamy Stadium'\n",
            " 'MA Chidambaram Stadium' 'Maharashtra Cricket Association Stadium'\n",
            " 'Mahinda Rajapaksa International Cricket Stadium' 'Mangaung Oval'\n",
            " 'Manuka Oval' 'Maple Leaf North-West Ground' 'McLean Park'\n",
            " 'Melbourne Cricket Ground' 'Mission Road Ground'\n",
            " 'Moara Vlasiei Cricket Ground' 'Mombasa Sports Club Ground'\n",
            " 'Moses Mabhida Stadium' 'Narendra Modi Stadium'\n",
            " 'National Cricket Stadium' 'National Stadium' 'New Wanderers Stadium'\n",
            " 'Newlands' 'OUTsurance Oval' 'Old Trafford' 'P Sara Oval'\n",
            " 'Pallekele International Cricket Stadium' 'Perth Stadium'\n",
            " 'Providence Stadium' 'Punjab Cricket Association IS Bindra Stadium'\n",
            " 'Punjab Cricket Association Stadium' 'Queens Park Oval'\n",
            " 'Queens Sports Club' 'R Premadasa Stadium' 'R.Premadasa Stadium'\n",
            " 'Rajiv Gandhi International Cricket Stadium'\n",
            " 'Rajiv Gandhi International Stadium' 'Rawalpindi Cricket Stadium'\n",
            " 'Riverside Ground' 'Sabina Park' 'Sardar Patel Stadium'\n",
            " 'Saurashtra Cricket Association Stadium' 'Saxton Oval' 'Seddon Park'\n",
            " 'Senwes Park' 'Sharjah Cricket Stadium' 'Sheikh Abu Naser Stadium'\n",
            " 'Sheikh Zayed Stadium' 'Shere Bangla National Stadium' 'Simonds Stadium'\n",
            " 'Sir Vivian Richards Stadium' 'Sky Stadium' 'Sophia Gardens'\n",
            " 'Sportpark Het Schootsveld' 'Sportpark Maarschalkerweerd'\n",
            " 'Sportpark Westvliet' 'St Georges Park' 'Stadium Australia'\n",
            " 'Subrata Roy Sahara Stadium' 'SuperSport Park' 'Sydney Cricket Ground'\n",
            " 'Sylhet International Cricket Stadium' 'Terdthai Cricket Ground'\n",
            " 'The Rose Bowl' 'The Village' 'The Wanderers Stadium' 'Tolerance Oval'\n",
            " 'Tony Ireland Stadium' 'Trent Bridge'\n",
            " 'Tribhuvan University International Cricket Ground'\n",
            " 'United Cricket Club Ground' 'University Oval' 'VRA Ground'\n",
            " 'Vidarbha Cricket Association Stadium' 'Wanderers Cricket Ground'\n",
            " 'Wankhede Stadium' 'Warner Park'\n",
            " 'Western Australia Cricket Association Ground' 'Westpac Stadium'\n",
            " 'White Hill Field' 'Windsor Park' 'Zahur Ahmed Chowdhury Stadium']\n",
            "['bat' 'field']\n",
            "['A Kapa' 'A Louw' 'A Paleker' 'AG Wharf' 'AJ Neill' 'AJT Dowdalls'\n",
            " 'AK Chaudhary' 'AL Hill' 'AM Saheba' 'AT Holdstock'\n",
            " 'Adriaan van den Dries' 'Afzal Pathan' 'Afzalkhan Pathan'\n",
            " 'Ahmed Shah Durrani' 'Ahmed Shah Pakteen' 'Ahmed Shahab' 'Ahsan Raza'\n",
            " 'Akbar Ali' 'Aleem Dar' 'Anantha Rajamani' 'Anisur Rahman' 'Arif Ansari'\n",
            " 'Asad Rauf' 'Asif Yaqoob' 'B Manikandan' 'BB Pradhan' 'BF Bowden'\n",
            " 'BG Jerling' 'BNJ Oxenford' 'BP Jele' 'BR Doctrove' 'Bismillah Shinwari'\n",
            " 'C Brooks' 'C Shamshuddin' 'CB Gaffaney' 'CK Nandan' 'CM Brown'\n",
            " 'CR Duncan' 'D Odhiambo' 'D Sevakumaran' 'DA Haggo' 'DB Hair' 'DH Mclean'\n",
            " 'DJ Harper' 'Dharmendra Manani' 'EAR de Silva' 'Emmanuel Byiringiro'\n",
            " 'Emmerson Carrington' 'Enamul Haque' 'GA Abood' 'GAV Baxter'\n",
            " 'GO Brathwaite' 'HDPK Dharmasena' 'HE Kearns' 'HKG Jansen'\n",
            " 'Hardeep Jadeja' 'Harikrishna Pillai' 'I Chabi' 'ID Gunawardene'\n",
            " 'IJ Gould' 'IL Howell' 'IN Ramage' 'Iftikhar Ali' 'Imran Mustafa'\n",
            " 'JD Cloete' 'JD Ward' 'JJ Luck' 'JM Williams' 'JS Wilson' 'K Bayney'\n",
            " 'KN Ananthapadmanabhan' 'Kehinde Olanbiwonnu' 'L Poobalan' 'L Rusere'\n",
            " 'LE Hannibal' 'LS Reifer' 'M Burns' 'M Erasmus' 'M Hawthorne' 'MA Gough'\n",
            " 'MD Martell' 'MG Silva' 'MJ Saggers' 'MR Benson' 'Marthinus Louw'\n",
            " 'Masudur Rahman' 'Mathan Kumar' 'N Duguid' 'N Sivan' 'NA Malcolm'\n",
            " 'NG Bagh' 'NJ Llong' 'Nadeem Ghauri' 'Nadir Shah' 'Nasir Ali'\n",
            " 'Nitin Menon' 'O Chirombe' 'P Wilson' 'PA Gustard' 'PD Jones' 'PD Parker'\n",
            " 'PJ Hartley' 'PJ Nero' 'PK Baldwin' 'PR Reiffel' 'R Black' 'R DMello'\n",
            " 'RA Kettleborough' 'RB Tiffin' 'RE Koertzen' 'REJ Martinesz' 'RJ Bailey'\n",
            " 'RJ Tucker' 'RK Illingworth' 'RMPJ Rambukwella' 'RR Wimalasiri'\n",
            " 'RSA Palliyaguruge' 'RT Robinson' 'Rahul Asher' 'Rashid Riaz'\n",
            " 'Riyaz Kurupkar' 'Rizwan Akram' 'Rudy Ismandy' 'S Asnani' 'S George'\n",
            " 'S Ravi' 'SB Haig' 'SD Fry' 'SJ Davis' 'SJ Nogajski' 'SJA Taufel'\n",
            " 'SR Modi' 'SS Hazare' 'SV Sarda' 'Samad Akbar' 'Sarika Prasad'\n",
            " 'Sharfuddoula' 'Shozab Raza' 'Syed Atif Naqvi' 'TJ Matibiri'\n",
            " 'Tabarak Dar' 'Tanvir Ahmed' 'V Kalidas' 'VA Kulkarni' 'Vinod Babu'\n",
            " 'WPM van Liemt' 'Zaidan Taha']\n",
            "['A Begg' 'A Louw' 'A Natarajan' 'A Paleker' 'AG Wharf' 'AJ Neill'\n",
            " 'AK Chaudhary' 'AK Rana' 'AL Hill' 'AM Saheba' 'AT Holdstock'\n",
            " 'Adriaan van den Dries' 'Afzal Pathan' 'Afzalkhan Pathan'\n",
            " 'Ahmed Shah Durrani' 'Ahmed Shah Pakteen' 'Ahsan Raza' 'Akbar Ali'\n",
            " 'Aleem Dar' 'Anisur Rahman' 'Asad Rauf' 'B Manikandan' 'BB Pradhan'\n",
            " 'BF Bowden' 'BG Frost' 'BG Jerling' 'BNJ Oxenford' 'BP Jele'\n",
            " 'BR Doctrove' 'C Shamshuddin' 'C Thorburn' 'CB Gaffaney' 'CK Nandan'\n",
            " 'CR Duncan' 'Claus Schumacher' 'D Odhiambo' 'D Sevakumaran' 'DA Haggo'\n",
            " 'DH Mclean' 'DJ Harper' 'DJ Millns' 'DJ Walker' 'EA Watkin'\n",
            " 'EAR de Silva' 'Emmanuel Byiringiro' 'Emmerson Carrington' 'Enamul Haque'\n",
            " 'GA Abood' 'GO Brathwaite' 'Gazi Sohel' 'H Grewal' 'HDPK Dharmasena'\n",
            " 'HKG Jansen' 'Hardeep Jadeja' 'I Chabi' 'IA De Silva' 'ID Gunawardene'\n",
            " 'IJ Gould' 'IL Howell' 'IN Ramage' 'IO Oyieko' 'Iftikhar Ali'\n",
            " 'Imran Mustafa' 'Izatullah Safi' 'Izmir Azraf' 'JD Cloete' 'JD Ward'\n",
            " 'JM Williams' 'JS Wilson' 'JW Lloyds' 'KH Hurter' 'KN Ananthapadmanabhan'\n",
            " 'Kehinde Olanbiwonnu' 'L Rusere' 'LE Hannibal' 'LS Reifer' 'M Burns'\n",
            " 'M Erasmus' 'M Hawthorne' 'M Savage' 'MA Gough' 'MD Martell' 'MR Benson'\n",
            " 'MV Waldron' 'Marthinus Louw' 'Masudur Rahman' 'Mathan Kumar'\n",
            " 'Mohammed Younis' 'N Duguid' 'N Sivan' 'NA Malcolm' 'NJ Llong'\n",
            " 'Nadeem Ghauri' 'Nadir Shah' 'Nitin Menon' 'P Wilson' 'PA Gustard'\n",
            " 'PA Reynolds' 'PD Jones' 'PD Parker' 'PJ Hartley' 'PJ Nero' 'PK Baldwin'\n",
            " 'PR Reiffel' 'R Black' 'RA Kettleborough' 'RB Tiffin' 'RE Koertzen'\n",
            " 'REJ Martinesz' 'RJ Bailey' 'RJ Tucker' 'RK Illingworth' 'RL Parry'\n",
            " 'RMPJ Rambukwella' 'RP Smith' 'RR Wimalasiri' 'RSA Palliyaguruge'\n",
            " 'RT Robinson' 'Rabiul Hoque' 'Rahat Ali Chaudhry' 'Rahul Asher'\n",
            " 'Rashid Riaz' 'Rizwan Akram' 'S George' 'S Ravi' 'SAJ Craig' 'SB Haig'\n",
            " 'SD Fry' 'SJ Davis' 'SJ Nogajski' 'SJA Taufel' 'SK Tarapore' 'SL Shastri'\n",
            " 'SR Modi' 'Sanjay Gurung' 'Sarika Prasad' 'Sharfuddoula' 'Shiju Sam'\n",
            " 'Shozab Raza' 'T Senthil Kumar' 'TH Wijewardene' 'TJ Matibiri'\n",
            " 'Tabarak Dar' 'Tanvir Ahmed' 'Taranjeet Singh' 'V Kalidas' 'VA Kulkarni'\n",
            " 'VK Sharma' 'Vinod Babu' 'WPM van Liemt' 'WR Knights' 'Zameer Haider']\n"
          ],
          "name": "stdout"
        },
        {
          "output_type": "execute_result",
          "data": {
            "text/html": [
              "<div>\n",
              "<style scoped>\n",
              "    .dataframe tbody tr th:only-of-type {\n",
              "        vertical-align: middle;\n",
              "    }\n",
              "\n",
              "    .dataframe tbody tr th {\n",
              "        vertical-align: top;\n",
              "    }\n",
              "\n",
              "    .dataframe thead th {\n",
              "        text-align: right;\n",
              "    }\n",
              "</style>\n",
              "<table border=\"1\" class=\"dataframe\">\n",
              "  <thead>\n",
              "    <tr style=\"text-align: right;\">\n",
              "      <th></th>\n",
              "      <th>year</th>\n",
              "      <th>month</th>\n",
              "      <th>day</th>\n",
              "      <th>city</th>\n",
              "      <th>venue</th>\n",
              "      <th>home_team</th>\n",
              "      <th>team_1</th>\n",
              "      <th>team_2</th>\n",
              "      <th>toss_winner</th>\n",
              "      <th>toss_decision</th>\n",
              "      <th>umpire_1</th>\n",
              "      <th>umpire_2</th>\n",
              "      <th>match_winner</th>\n",
              "    </tr>\n",
              "  </thead>\n",
              "  <tbody>\n",
              "    <tr>\n",
              "      <th>0</th>\n",
              "      <td>2005</td>\n",
              "      <td>2</td>\n",
              "      <td>17</td>\n",
              "      <td>6</td>\n",
              "      <td>31</td>\n",
              "      <td>77</td>\n",
              "      <td>77</td>\n",
              "      <td>72</td>\n",
              "      <td>72</td>\n",
              "      <td>0</td>\n",
              "      <td>26</td>\n",
              "      <td>8</td>\n",
              "      <td>72</td>\n",
              "    </tr>\n",
              "    <tr>\n",
              "      <th>1</th>\n",
              "      <td>2005</td>\n",
              "      <td>6</td>\n",
              "      <td>13</td>\n",
              "      <td>99</td>\n",
              "      <td>119</td>\n",
              "      <td>70</td>\n",
              "      <td>70</td>\n",
              "      <td>72</td>\n",
              "      <td>70</td>\n",
              "      <td>0</td>\n",
              "      <td>91</td>\n",
              "      <td>69</td>\n",
              "      <td>70</td>\n",
              "    </tr>\n",
              "    <tr>\n",
              "      <th>2</th>\n",
              "      <td>2005</td>\n",
              "      <td>10</td>\n",
              "      <td>21</td>\n",
              "      <td>58</td>\n",
              "      <td>77</td>\n",
              "      <td>71</td>\n",
              "      <td>71</td>\n",
              "      <td>77</td>\n",
              "      <td>77</td>\n",
              "      <td>1</td>\n",
              "      <td>60</td>\n",
              "      <td>25</td>\n",
              "      <td>77</td>\n",
              "    </tr>\n",
              "    <tr>\n",
              "      <th>3</th>\n",
              "      <td>2006</td>\n",
              "      <td>1</td>\n",
              "      <td>9</td>\n",
              "      <td>15</td>\n",
              "      <td>17</td>\n",
              "      <td>72</td>\n",
              "      <td>72</td>\n",
              "      <td>71</td>\n",
              "      <td>72</td>\n",
              "      <td>0</td>\n",
              "      <td>28</td>\n",
              "      <td>112</td>\n",
              "      <td>72</td>\n",
              "    </tr>\n",
              "    <tr>\n",
              "      <th>4</th>\n",
              "      <td>2006</td>\n",
              "      <td>2</td>\n",
              "      <td>16</td>\n",
              "      <td>6</td>\n",
              "      <td>31</td>\n",
              "      <td>77</td>\n",
              "      <td>58</td>\n",
              "      <td>77</td>\n",
              "      <td>77</td>\n",
              "      <td>1</td>\n",
              "      <td>26</td>\n",
              "      <td>8</td>\n",
              "      <td>77</td>\n",
              "    </tr>\n",
              "    <tr>\n",
              "      <th>...</th>\n",
              "      <td>...</td>\n",
              "      <td>...</td>\n",
              "      <td>...</td>\n",
              "      <td>...</td>\n",
              "      <td>...</td>\n",
              "      <td>...</td>\n",
              "      <td>...</td>\n",
              "      <td>...</td>\n",
              "      <td>...</td>\n",
              "      <td>...</td>\n",
              "      <td>...</td>\n",
              "      <td>...</td>\n",
              "      <td>...</td>\n",
              "    </tr>\n",
              "    <tr>\n",
              "      <th>966</th>\n",
              "      <td>2021</td>\n",
              "      <td>3</td>\n",
              "      <td>17</td>\n",
              "      <td>0</td>\n",
              "      <td>103</td>\n",
              "      <td>0</td>\n",
              "      <td>54</td>\n",
              "      <td>36</td>\n",
              "      <td>36</td>\n",
              "      <td>1</td>\n",
              "      <td>18</td>\n",
              "      <td>63</td>\n",
              "      <td>54</td>\n",
              "    </tr>\n",
              "    <tr>\n",
              "      <th>967</th>\n",
              "      <td>2021</td>\n",
              "      <td>3</td>\n",
              "      <td>18</td>\n",
              "      <td>2</td>\n",
              "      <td>74</td>\n",
              "      <td>90</td>\n",
              "      <td>90</td>\n",
              "      <td>70</td>\n",
              "      <td>70</td>\n",
              "      <td>1</td>\n",
              "      <td>70</td>\n",
              "      <td>94</td>\n",
              "      <td>90</td>\n",
              "    </tr>\n",
              "    <tr>\n",
              "      <th>968</th>\n",
              "      <td>2021</td>\n",
              "      <td>3</td>\n",
              "      <td>19</td>\n",
              "      <td>0</td>\n",
              "      <td>103</td>\n",
              "      <td>0</td>\n",
              "      <td>54</td>\n",
              "      <td>36</td>\n",
              "      <td>54</td>\n",
              "      <td>0</td>\n",
              "      <td>13</td>\n",
              "      <td>18</td>\n",
              "      <td>54</td>\n",
              "    </tr>\n",
              "    <tr>\n",
              "      <th>969</th>\n",
              "      <td>2021</td>\n",
              "      <td>3</td>\n",
              "      <td>20</td>\n",
              "      <td>2</td>\n",
              "      <td>74</td>\n",
              "      <td>90</td>\n",
              "      <td>90</td>\n",
              "      <td>70</td>\n",
              "      <td>70</td>\n",
              "      <td>1</td>\n",
              "      <td>6</td>\n",
              "      <td>94</td>\n",
              "      <td>90</td>\n",
              "    </tr>\n",
              "    <tr>\n",
              "      <th>970</th>\n",
              "      <td>2021</td>\n",
              "      <td>3</td>\n",
              "      <td>20</td>\n",
              "      <td>0</td>\n",
              "      <td>103</td>\n",
              "      <td>0</td>\n",
              "      <td>54</td>\n",
              "      <td>36</td>\n",
              "      <td>54</td>\n",
              "      <td>0</td>\n",
              "      <td>18</td>\n",
              "      <td>63</td>\n",
              "      <td>54</td>\n",
              "    </tr>\n",
              "  </tbody>\n",
              "</table>\n",
              "<p>971 rows × 13 columns</p>\n",
              "</div>"
            ],
            "text/plain": [
              "     year  month  day  city  ...  toss_decision  umpire_1  umpire_2  match_winner\n",
              "0    2005      2   17     6  ...              0        26         8            72\n",
              "1    2005      6   13    99  ...              0        91        69            70\n",
              "2    2005     10   21    58  ...              1        60        25            77\n",
              "3    2006      1    9    15  ...              0        28       112            72\n",
              "4    2006      2   16     6  ...              1        26         8            77\n",
              "..    ...    ...  ...   ...  ...            ...       ...       ...           ...\n",
              "966  2021      3   17     0  ...              1        18        63            54\n",
              "967  2021      3   18     2  ...              1        70        94            90\n",
              "968  2021      3   19     0  ...              0        13        18            54\n",
              "969  2021      3   20     2  ...              1         6        94            90\n",
              "970  2021      3   20     0  ...              0        18        63            54\n",
              "\n",
              "[971 rows x 13 columns]"
            ]
          },
          "metadata": {
            "tags": []
          },
          "execution_count": 49
        }
      ]
    },
    {
      "cell_type": "code",
      "metadata": {
        "colab": {
          "base_uri": "https://localhost:8080/"
        },
        "id": "beGKS4vsn6sx",
        "outputId": "9b6b8c59-9c2c-446a-8ebd-a345648702f8"
      },
      "source": [
        "t4.info()"
      ],
      "execution_count": 50,
      "outputs": [
        {
          "output_type": "stream",
          "text": [
            "<class 'pandas.core.frame.DataFrame'>\n",
            "Int64Index: 971 entries, 0 to 970\n",
            "Data columns (total 13 columns):\n",
            " #   Column         Non-Null Count  Dtype\n",
            "---  ------         --------------  -----\n",
            " 0   year           971 non-null    int64\n",
            " 1   month          971 non-null    int64\n",
            " 2   day            971 non-null    int64\n",
            " 3   city           971 non-null    int64\n",
            " 4   venue          971 non-null    int64\n",
            " 5   home_team      971 non-null    int64\n",
            " 6   team_1         971 non-null    int64\n",
            " 7   team_2         971 non-null    int64\n",
            " 8   toss_winner    971 non-null    int64\n",
            " 9   toss_decision  971 non-null    int64\n",
            " 10  umpire_1       971 non-null    int64\n",
            " 11  umpire_2       971 non-null    int64\n",
            " 12  match_winner   971 non-null    int64\n",
            "dtypes: int64(13)\n",
            "memory usage: 106.2 KB\n"
          ],
          "name": "stdout"
        }
      ]
    },
    {
      "cell_type": "code",
      "metadata": {
        "colab": {
          "base_uri": "https://localhost:8080/",
          "height": 1000
        },
        "id": "fdUfRVDun_nd",
        "outputId": "da8036d2-e1a8-48f1-d557-c5c5c4119f44"
      },
      "source": [
        "t4.hist(bins = 50, figsize = (20,20))"
      ],
      "execution_count": 51,
      "outputs": [
        {
          "output_type": "execute_result",
          "data": {
            "text/plain": [
              "array([[<matplotlib.axes._subplots.AxesSubplot object at 0x7f2fdda525d0>,\n",
              "        <matplotlib.axes._subplots.AxesSubplot object at 0x7f2fdda1ccd0>,\n",
              "        <matplotlib.axes._subplots.AxesSubplot object at 0x7f2fdd9dd390>,\n",
              "        <matplotlib.axes._subplots.AxesSubplot object at 0x7f2fdd98fa10>],\n",
              "       [<matplotlib.axes._subplots.AxesSubplot object at 0x7f2fdd9510d0>,\n",
              "        <matplotlib.axes._subplots.AxesSubplot object at 0x7f2fdd906750>,\n",
              "        <matplotlib.axes._subplots.AxesSubplot object at 0x7f2fdd8bbe50>,\n",
              "        <matplotlib.axes._subplots.AxesSubplot object at 0x7f2fdd87d450>],\n",
              "       [<matplotlib.axes._subplots.AxesSubplot object at 0x7f2fdd87d490>,\n",
              "        <matplotlib.axes._subplots.AxesSubplot object at 0x7f2fdd831c10>,\n",
              "        <matplotlib.axes._subplots.AxesSubplot object at 0x7f2fdd82a7d0>,\n",
              "        <matplotlib.axes._subplots.AxesSubplot object at 0x7f2fdd7dedd0>],\n",
              "       [<matplotlib.axes._subplots.AxesSubplot object at 0x7f2fdd8cd650>,\n",
              "        <matplotlib.axes._subplots.AxesSubplot object at 0x7f2fdd747dd0>,\n",
              "        <matplotlib.axes._subplots.AxesSubplot object at 0x7f2fdd70e990>,\n",
              "        <matplotlib.axes._subplots.AxesSubplot object at 0x7f2fdd6d10d0>]],\n",
              "      dtype=object)"
            ]
          },
          "metadata": {
            "tags": []
          },
          "execution_count": 51
        },
        {
          "output_type": "display_data",
          "data": {
            "image/png": "[encoded data removed]",
            "text/plain": [
              "<Figure size 1440x1440 with 16 Axes>"
            ]
          },
          "metadata": {
            "tags": []
          }
        }
      ]
    },
    {
      "cell_type": "code",
      "metadata": {
        "colab": {
          "base_uri": "https://localhost:8080/",
          "height": 281
        },
        "id": "ftly2ZHspHgi",
        "outputId": "46918c5d-f90f-4843-c2d1-26c677dbcef5"
      },
      "source": [
        "t4['match_winner'].hist(bins=50)"
      ],
      "execution_count": 52,
      "outputs": [
        {
          "output_type": "execute_result",
          "data": {
            "text/plain": [
              "<matplotlib.axes._subplots.AxesSubplot at 0x7f2fdd123790>"
            ]
          },
          "metadata": {
            "tags": []
          },
          "execution_count": 52
        },
        {
          "output_type": "display_data",
          "data": {
            "image/png": "[encoded data removed]",
            "text/plain": [
              "<Figure size 432x288 with 1 Axes>"
            ]
          },
          "metadata": {
            "tags": []
          }
        }
      ]
    },
    {
      "cell_type": "code",
      "metadata": {
        "colab": {
          "base_uri": "https://localhost:8080/",
          "height": 281
        },
        "id": "qUBuPYvQpIDs",
        "outputId": "aabb014a-5d7e-47b4-f79d-b1b1ff115212"
      },
      "source": [
        "t4['toss_winner'].hist(bins=50)"
      ],
      "execution_count": 53,
      "outputs": [
        {
          "output_type": "execute_result",
          "data": {
            "text/plain": [
              "<matplotlib.axes._subplots.AxesSubplot at 0x7f2fdda7f890>"
            ]
          },
          "metadata": {
            "tags": []
          },
          "execution_count": 53
        },
        {
          "output_type": "display_data",
          "data": {
            "image/png": "[encoded data removed]",
            "text/plain": [
              "<Figure size 432x288 with 1 Axes>"
            ]
          },
          "metadata": {
            "tags": []
          }
        }
      ]
    },
    {
      "cell_type": "code",
      "metadata": {
        "colab": {
          "base_uri": "https://localhost:8080/"
        },
        "id": "FRLhAlAfo8u4",
        "outputId": "47dc0089-aa09-4f2b-aec1-ebe972845b34"
      },
      "source": [
        "t4.isnull().sum()"
      ],
      "execution_count": 54,
      "outputs": [
        {
          "output_type": "execute_result",
          "data": {
            "text/plain": [
              "year             0\n",
              "month            0\n",
              "day              0\n",
              "city             0\n",
              "venue            0\n",
              "home_team        0\n",
              "team_1           0\n",
              "team_2           0\n",
              "toss_winner      0\n",
              "toss_decision    0\n",
              "umpire_1         0\n",
              "umpire_2         0\n",
              "match_winner     0\n",
              "dtype: int64"
            ]
          },
          "metadata": {
            "tags": []
          },
          "execution_count": 54
        }
      ]
    },
    {
      "cell_type": "code",
      "metadata": {
        "colab": {
          "base_uri": "https://localhost:8080/",
          "height": 556
        },
        "id": "TtCS9GXvpwFk",
        "outputId": "6a633290-9049-4448-a333-ddd633f6b3af"
      },
      "source": [
        "# Confusion Matrix\n",
        "\n",
        "import seaborn as sns\n",
        "sns.set(rc={'figure.figsize': (12,8)})\n",
        "ax = sns.heatmap(t4.corr(), annot=True)"
      ],
      "execution_count": 55,
      "outputs": [
        {
          "output_type": "display_data",
          "data": {
            "image/png": "[encoded data removed]",
            "text/plain": [
              "<Figure size 864x576 with 2 Axes>"
            ]
          },
          "metadata": {
            "tags": []
          }
        }
      ]
    },
    {
      "cell_type": "code",
      "metadata": {
        "id": "xzVv1mf3s8oq"
      },
      "source": [
        "def correlation(dataset, threshold):\n",
        "    col_corr = []\n",
        "    corr_matrix = dataset.corr()\n",
        "    for i in range(len(corr_matrix.columns)):\n",
        "        for j in range(i):\n",
        "            if abs(corr_matrix.iloc[i, j]) >= threshold and i!=j:\n",
        "                colname = corr_matrix.columns[i]\n",
        "                col_corr.append(colname)\n",
        "    return col_corr"
      ],
      "execution_count": 56,
      "outputs": []
    },
    {
      "cell_type": "code",
      "metadata": {
        "colab": {
          "base_uri": "https://localhost:8080/"
        },
        "id": "9NZZdkLHF59x",
        "outputId": "15ea6aa6-3a86-4e67-f92a-5319172cde26"
      },
      "source": [
        "t4.columns"
      ],
      "execution_count": 57,
      "outputs": [
        {
          "output_type": "execute_result",
          "data": {
            "text/plain": [
              "Index(['year', 'month', 'day', 'city', 'venue', 'home_team', 'team_1',\n",
              "       'team_2', 'toss_winner', 'toss_decision', 'umpire_1', 'umpire_2',\n",
              "       'match_winner'],\n",
              "      dtype='object')"
            ]
          },
          "metadata": {
            "tags": []
          },
          "execution_count": 57
        }
      ]
    },
    {
      "cell_type": "code",
      "metadata": {
        "colab": {
          "base_uri": "https://localhost:8080/"
        },
        "id": "zHUSNN83tI2Z",
        "outputId": "ddf9206b-e029-4cbe-9e3d-5938ce4470fe"
      },
      "source": [
        "corr_columns = correlation(t4, 0.15)\n",
        "corr_columns = list(dict.fromkeys(corr_columns))\n",
        "corr_columns"
      ],
      "execution_count": 58,
      "outputs": [
        {
          "output_type": "execute_result",
          "data": {
            "text/plain": [
              "['venue', 'team_1', 'team_2', 'toss_winner', 'match_winner']"
            ]
          },
          "metadata": {
            "tags": []
          },
          "execution_count": 58
        }
      ]
    },
    {
      "cell_type": "code",
      "metadata": {
        "id": "Liy0o5GeZKlv"
      },
      "source": [
        "X = t4.drop(['match_winner', 'year', 'month', 'day', 'umpire_1', 'umpire_2'], axis = 1)\n",
        "y = t4['match_winner']"
      ],
      "execution_count": 59,
      "outputs": []
    },
    {
      "cell_type": "code",
      "metadata": {
        "colab": {
          "base_uri": "https://localhost:8080/",
          "height": 406
        },
        "id": "n-CCHYGuZbju",
        "outputId": "00f39a4d-89fe-4411-d02d-8a1cdf68b6b6"
      },
      "source": [
        "X"
      ],
      "execution_count": 60,
      "outputs": [
        {
          "output_type": "execute_result",
          "data": {
            "text/html": [
              "<div>\n",
              "<style scoped>\n",
              "    .dataframe tbody tr th:only-of-type {\n",
              "        vertical-align: middle;\n",
              "    }\n",
              "\n",
              "    .dataframe tbody tr th {\n",
              "        vertical-align: top;\n",
              "    }\n",
              "\n",
              "    .dataframe thead th {\n",
              "        text-align: right;\n",
              "    }\n",
              "</style>\n",
              "<table border=\"1\" class=\"dataframe\">\n",
              "  <thead>\n",
              "    <tr style=\"text-align: right;\">\n",
              "      <th></th>\n",
              "      <th>city</th>\n",
              "      <th>venue</th>\n",
              "      <th>home_team</th>\n",
              "      <th>team_1</th>\n",
              "      <th>team_2</th>\n",
              "      <th>toss_winner</th>\n",
              "      <th>toss_decision</th>\n",
              "    </tr>\n",
              "  </thead>\n",
              "  <tbody>\n",
              "    <tr>\n",
              "      <th>0</th>\n",
              "      <td>6</td>\n",
              "      <td>31</td>\n",
              "      <td>77</td>\n",
              "      <td>77</td>\n",
              "      <td>72</td>\n",
              "      <td>72</td>\n",
              "      <td>0</td>\n",
              "    </tr>\n",
              "    <tr>\n",
              "      <th>1</th>\n",
              "      <td>99</td>\n",
              "      <td>119</td>\n",
              "      <td>70</td>\n",
              "      <td>70</td>\n",
              "      <td>72</td>\n",
              "      <td>70</td>\n",
              "      <td>0</td>\n",
              "    </tr>\n",
              "    <tr>\n",
              "      <th>2</th>\n",
              "      <td>58</td>\n",
              "      <td>77</td>\n",
              "      <td>71</td>\n",
              "      <td>71</td>\n",
              "      <td>77</td>\n",
              "      <td>77</td>\n",
              "      <td>1</td>\n",
              "    </tr>\n",
              "    <tr>\n",
              "      <th>3</th>\n",
              "      <td>15</td>\n",
              "      <td>17</td>\n",
              "      <td>72</td>\n",
              "      <td>72</td>\n",
              "      <td>71</td>\n",
              "      <td>72</td>\n",
              "      <td>0</td>\n",
              "    </tr>\n",
              "    <tr>\n",
              "      <th>4</th>\n",
              "      <td>6</td>\n",
              "      <td>31</td>\n",
              "      <td>77</td>\n",
              "      <td>58</td>\n",
              "      <td>77</td>\n",
              "      <td>77</td>\n",
              "      <td>1</td>\n",
              "    </tr>\n",
              "    <tr>\n",
              "      <th>...</th>\n",
              "      <td>...</td>\n",
              "      <td>...</td>\n",
              "      <td>...</td>\n",
              "      <td>...</td>\n",
              "      <td>...</td>\n",
              "      <td>...</td>\n",
              "      <td>...</td>\n",
              "    </tr>\n",
              "    <tr>\n",
              "      <th>966</th>\n",
              "      <td>0</td>\n",
              "      <td>103</td>\n",
              "      <td>0</td>\n",
              "      <td>54</td>\n",
              "      <td>36</td>\n",
              "      <td>36</td>\n",
              "      <td>1</td>\n",
              "    </tr>\n",
              "    <tr>\n",
              "      <th>967</th>\n",
              "      <td>2</td>\n",
              "      <td>74</td>\n",
              "      <td>90</td>\n",
              "      <td>90</td>\n",
              "      <td>70</td>\n",
              "      <td>70</td>\n",
              "      <td>1</td>\n",
              "    </tr>\n",
              "    <tr>\n",
              "      <th>968</th>\n",
              "      <td>0</td>\n",
              "      <td>103</td>\n",
              "      <td>0</td>\n",
              "      <td>54</td>\n",
              "      <td>36</td>\n",
              "      <td>54</td>\n",
              "      <td>0</td>\n",
              "    </tr>\n",
              "    <tr>\n",
              "      <th>969</th>\n",
              "      <td>2</td>\n",
              "      <td>74</td>\n",
              "      <td>90</td>\n",
              "      <td>90</td>\n",
              "      <td>70</td>\n",
              "      <td>70</td>\n",
              "      <td>1</td>\n",
              "    </tr>\n",
              "    <tr>\n",
              "      <th>970</th>\n",
              "      <td>0</td>\n",
              "      <td>103</td>\n",
              "      <td>0</td>\n",
              "      <td>54</td>\n",
              "      <td>36</td>\n",
              "      <td>54</td>\n",
              "      <td>0</td>\n",
              "    </tr>\n",
              "  </tbody>\n",
              "</table>\n",
              "<p>971 rows × 7 columns</p>\n",
              "</div>"
            ],
            "text/plain": [
              "     city  venue  home_team  team_1  team_2  toss_winner  toss_decision\n",
              "0       6     31         77      77      72           72              0\n",
              "1      99    119         70      70      72           70              0\n",
              "2      58     77         71      71      77           77              1\n",
              "3      15     17         72      72      71           72              0\n",
              "4       6     31         77      58      77           77              1\n",
              "..    ...    ...        ...     ...     ...          ...            ...\n",
              "966     0    103          0      54      36           36              1\n",
              "967     2     74         90      90      70           70              1\n",
              "968     0    103          0      54      36           54              0\n",
              "969     2     74         90      90      70           70              1\n",
              "970     0    103          0      54      36           54              0\n",
              "\n",
              "[971 rows x 7 columns]"
            ]
          },
          "metadata": {
            "tags": []
          },
          "execution_count": 60
        }
      ]
    },
    {
      "cell_type": "code",
      "metadata": {
        "colab": {
          "base_uri": "https://localhost:8080/"
        },
        "id": "hNS0RxoyZgz7",
        "outputId": "b0b7497f-f246-4310-b0b5-734bf9a3ff19"
      },
      "source": [
        "y"
      ],
      "execution_count": 61,
      "outputs": [
        {
          "output_type": "execute_result",
          "data": {
            "text/plain": [
              "0      72\n",
              "1      70\n",
              "2      77\n",
              "3      72\n",
              "4      77\n",
              "       ..\n",
              "966    54\n",
              "967    90\n",
              "968    54\n",
              "969    90\n",
              "970    54\n",
              "Name: match_winner, Length: 971, dtype: int64"
            ]
          },
          "metadata": {
            "tags": []
          },
          "execution_count": 61
        }
      ]
    },
    {
      "cell_type": "code",
      "metadata": {
        "id": "i0Eo5fkvZiNk"
      },
      "source": [
        "from sklearn.model_selection import train_test_split\n",
        "from sklearn.metrics import classification_report\n",
        "from sklearn.metrics import confusion_matrix\n",
        "from sklearn.metrics import roc_auc_score\n",
        "from sklearn.metrics import roc_curve\n",
        "\n",
        "X_train, X_test, y_train, y_test = train_test_split(X, y, test_size = 0.25, random_state = 42)"
      ],
      "execution_count": 62,
      "outputs": []
    },
    {
      "cell_type": "markdown",
      "metadata": {
        "id": "0W-HFDd3-U01"
      },
      "source": [
        "# DecisionTreeClassifier"
      ]
    },
    {
      "cell_type": "code",
      "metadata": {
        "colab": {
          "base_uri": "https://localhost:8080/"
        },
        "id": "vHpMRjdvZybs",
        "outputId": "4c5e64ac-6ce9-41a9-e77e-efa5ada9a36f"
      },
      "source": [
        "from sklearn.tree import DecisionTreeClassifier\n",
        "decisiontree = DecisionTreeClassifier()\n",
        "print(cross_val_score(decisiontree, X, y, cv=4))"
      ],
      "execution_count": 101,
      "outputs": [
        {
          "output_type": "stream",
          "text": [
            "[0.44032922 0.42798354 0.42386831 0.42975207]\n"
          ],
          "name": "stdout"
        }
      ]
    },
    {
      "cell_type": "code",
      "metadata": {
        "colab": {
          "base_uri": "https://localhost:8080/"
        },
        "id": "LBXcdGcDZ2B2",
        "outputId": "15976e35-797f-420c-a774-627fb23ebce6"
      },
      "source": [
        "decisiontree.fit(X_train, y_train)\n",
        "predictions = decisiontree.predict(X_train)\n",
        "score = decisiontree.score(X_train, y_train)\n",
        "print(score) # Accuracy "
      ],
      "execution_count": 102,
      "outputs": [
        {
          "output_type": "stream",
          "text": [
            "0.9629120879120879\n"
          ],
          "name": "stdout"
        }
      ]
    },
    {
      "cell_type": "code",
      "metadata": {
        "colab": {
          "base_uri": "https://localhost:8080/"
        },
        "id": "IcG0G_RS6k8i",
        "outputId": "ef40be5c-7048-4db6-ad25-02e112dae28b"
      },
      "source": [
        "predictions = decisiontree.predict(X_test)\n",
        "score = decisiontree.score(X_test, y_test)\n",
        "print(score) # Accuracy"
      ],
      "execution_count": 103,
      "outputs": [
        {
          "output_type": "stream",
          "text": [
            "0.551440329218107\n"
          ],
          "name": "stdout"
        }
      ]
    },
    {
      "cell_type": "code",
      "metadata": {
        "colab": {
          "base_uri": "https://localhost:8080/"
        },
        "id": "FXnppg9kZ7EO",
        "outputId": "1b6b3500-cb11-4973-fd81-55325b097d45"
      },
      "source": [
        "cm = metrics.confusion_matrix(y_test, predictions)\n",
        "print(cm)"
      ],
      "execution_count": 104,
      "outputs": [
        {
          "output_type": "stream",
          "text": [
            "[[ 0  0  0 ...  0  0  0]\n",
            " [ 0  0  0 ...  0  0  0]\n",
            " [ 0  0  0 ...  0  0  0]\n",
            " ...\n",
            " [ 0  0  0 ... 11  3  2]\n",
            " [ 0  0  0 ...  0 11  0]\n",
            " [ 0  0  0 ...  1  2 14]]\n"
          ],
          "name": "stdout"
        }
      ]
    },
    {
      "cell_type": "code",
      "metadata": {
        "colab": {
          "base_uri": "https://localhost:8080/",
          "height": 1000
        },
        "id": "fweC38q3a9TM",
        "outputId": "76663cef-4374-4e56-ada8-b99103e1f1cb"
      },
      "source": [
        "plt.figure(figsize=(20,20))\n",
        "sns.heatmap(cm, annot=True, fmt=\".3f\", linewidths=.5, square = True, cmap = 'Blues_r');\n",
        "plt.ylabel('y_test');\n",
        "plt.xlabel('predictions');\n",
        "all_sample_title = 'Accuracy Score: {0}'.format(score)\n",
        "plt.title(all_sample_title, size = 15);"
      ],
      "execution_count": 107,
      "outputs": [
        {
          "output_type": "display_data",
          "data": {
            "image/png": "[encoded data removed]",
            "text/plain": [
              "<Figure size 1440x1440 with 2 Axes>"
            ]
          },
          "metadata": {
            "tags": []
          }
        }
      ]
    },
    {
      "cell_type": "code",
      "metadata": {
        "colab": {
          "base_uri": "https://localhost:8080/"
        },
        "id": "TPnLPB5bbFh7",
        "outputId": "9f935ea4-24c0-4075-d86e-ddd2d75f7498"
      },
      "source": [
        "print(metrics.classification_report(y_test, predictions))\n",
        "confusion_matrix(y_test, predictions).ravel()"
      ],
      "execution_count": 68,
      "outputs": [
        {
          "output_type": "stream",
          "text": [
            "              precision    recall  f1-score   support\n",
            "\n",
            "           9       0.00      0.00      0.00         1\n",
            "          10       0.00      0.00      0.00         1\n",
            "          13       0.50      1.00      0.67         1\n",
            "          14       0.00      0.00      0.00         1\n",
            "          15       0.00      0.00      0.00         1\n",
            "          17       0.00      0.00      0.00         0\n",
            "          18       0.00      0.00      0.00         0\n",
            "          20       1.00      1.00      1.00         1\n",
            "          21       0.00      0.00      0.00         1\n",
            "          22       1.00      1.00      1.00         1\n",
            "          26       0.00      0.00      0.00         0\n",
            "          28       0.00      0.00      0.00         0\n",
            "          29       0.50      0.33      0.40         3\n",
            "          30       0.75      0.60      0.67         5\n",
            "          31       0.00      0.00      0.00         1\n",
            "          32       0.60      0.75      0.67         4\n",
            "          33       0.33      0.20      0.25         5\n",
            "          34       0.00      0.00      0.00         4\n",
            "          35       0.00      0.00      0.00         5\n",
            "          36       0.14      0.33      0.20         3\n",
            "          37       0.60      0.50      0.55         6\n",
            "          38       0.83      0.56      0.67         9\n",
            "          39       0.50      0.60      0.55         5\n",
            "          40       0.62      0.89      0.73         9\n",
            "          41       0.71      0.45      0.56        11\n",
            "          54       0.74      0.93      0.82        15\n",
            "          58       0.50      0.53      0.51        17\n",
            "          59       0.50      0.70      0.58        10\n",
            "          70       0.55      0.71      0.62        17\n",
            "          71       0.67      0.67      0.67        21\n",
            "          72       0.46      0.32      0.37        19\n",
            "          77       0.58      0.52      0.55        21\n",
            "          90       0.55      0.50      0.52        22\n",
            "          98       0.62      0.65      0.64        23\n",
            "\n",
            "    accuracy                           0.56       243\n",
            "   macro avg       0.39      0.40      0.39       243\n",
            "weighted avg       0.55      0.56      0.55       243\n",
            "\n"
          ],
          "name": "stdout"
        },
        {
          "output_type": "stream",
          "text": [
            "/usr/local/lib/python3.7/dist-packages/sklearn/metrics/_classification.py:1272: UndefinedMetricWarning: Precision and F-score are ill-defined and being set to 0.0 in labels with no predicted samples. Use `zero_division` parameter to control this behavior.\n",
            "  _warn_prf(average, modifier, msg_start, len(result))\n",
            "/usr/local/lib/python3.7/dist-packages/sklearn/metrics/_classification.py:1272: UndefinedMetricWarning: Recall and F-score are ill-defined and being set to 0.0 in labels with no true samples. Use `zero_division` parameter to control this behavior.\n",
            "  _warn_prf(average, modifier, msg_start, len(result))\n"
          ],
          "name": "stderr"
        },
        {
          "output_type": "execute_result",
          "data": {
            "text/plain": [
              "array([ 0,  0,  0, ...,  1,  2, 15])"
            ]
          },
          "metadata": {
            "tags": []
          },
          "execution_count": 68
        }
      ]
    },
    {
      "cell_type": "code",
      "metadata": {
        "id": "Gs68jtZC-jUW"
      },
      "source": [
        "#metrics.plot_roc_curve(decisiontree, X_test, y_test)  \n",
        "#plt.show()"
      ],
      "execution_count": 69,
      "outputs": []
    },
    {
      "cell_type": "markdown",
      "metadata": {
        "id": "7Bj8od4A-dT_"
      },
      "source": [
        "# Random Forest"
      ]
    },
    {
      "cell_type": "code",
      "metadata": {
        "colab": {
          "base_uri": "https://localhost:8080/"
        },
        "id": "ZvNhuOq-9qs0",
        "outputId": "229fa0fd-170a-40b2-ba87-530d45de8cd9"
      },
      "source": [
        "from sklearn.ensemble import RandomForestClassifier\n",
        "randomforest = RandomForestClassifier()\n",
        "print(cross_val_score(randomforest, X, y, cv=3))"
      ],
      "execution_count": 114,
      "outputs": [
        {
          "output_type": "stream",
          "text": [
            "[0.47530864 0.5308642  0.47678019]\n"
          ],
          "name": "stdout"
        }
      ]
    },
    {
      "cell_type": "code",
      "metadata": {
        "colab": {
          "base_uri": "https://localhost:8080/"
        },
        "id": "N4pqZfu8_Ou4",
        "outputId": "11f4b5df-a350-43b9-e119-5cf9b7de5dbb"
      },
      "source": [
        "randomforest.fit(X_train, y_train)\n",
        "predictions = randomforest.predict(X_train)\n",
        "score = randomforest.score(X_train, y_train)\n",
        "print(score) # Accuracy "
      ],
      "execution_count": 117,
      "outputs": [
        {
          "output_type": "stream",
          "text": [
            "0.9629120879120879\n"
          ],
          "name": "stdout"
        }
      ]
    },
    {
      "cell_type": "code",
      "metadata": {
        "colab": {
          "base_uri": "https://localhost:8080/"
        },
        "id": "z9qm5j4o_Yp_",
        "outputId": "b55c77a4-df20-45ab-be71-ad1c26135fd0"
      },
      "source": [
        "predictions = randomforest.predict(X_test)\n",
        "score = randomforest.score(X_test, y_test)\n",
        "print(score) # Accuracy"
      ],
      "execution_count": 118,
      "outputs": [
        {
          "output_type": "stream",
          "text": [
            "0.551440329218107\n"
          ],
          "name": "stdout"
        }
      ]
    },
    {
      "cell_type": "code",
      "metadata": {
        "colab": {
          "base_uri": "https://localhost:8080/"
        },
        "id": "AemMuT1uAjju",
        "outputId": "dcf7d282-579e-4c1f-db99-03a492bd2e37"
      },
      "source": [
        "cm = metrics.confusion_matrix(y_test, predictions)\n",
        "print(cm)"
      ],
      "execution_count": 119,
      "outputs": [
        {
          "output_type": "stream",
          "text": [
            "[[ 0  0  0 ...  0  0  0]\n",
            " [ 0  0  0 ...  0  0  0]\n",
            " [ 0  0  0 ...  0  0  0]\n",
            " ...\n",
            " [ 0  0  0 ... 11  4  2]\n",
            " [ 0  0  0 ...  0 16  0]\n",
            " [ 0  0  0 ...  0  2 17]]\n"
          ],
          "name": "stdout"
        }
      ]
    },
    {
      "cell_type": "code",
      "metadata": {
        "colab": {
          "base_uri": "https://localhost:8080/",
          "height": 1000
        },
        "id": "IKXcFMGgAlTn",
        "outputId": "244211e1-1759-45c3-bbe6-d86c868d432c"
      },
      "source": [
        "plt.figure(figsize=(20,20))\n",
        "sns.heatmap(cm, annot=True, fmt=\".3f\", linewidths=.5, square = True, cmap = 'Blues_r');\n",
        "plt.ylabel('y_test');\n",
        "plt.xlabel('predictions');\n",
        "all_sample_title = 'Accuracy Score: {0}'.format(score)\n",
        "plt.title(all_sample_title, size = 15);"
      ],
      "execution_count": 120,
      "outputs": [
        {
          "output_type": "display_data",
          "data": {
            "image/png": "[encoded data removed]",
            "text/plain": [
              "<Figure size 1440x1440 with 2 Axes>"
            ]
          },
          "metadata": {
            "tags": []
          }
        }
      ]
    },
    {
      "cell_type": "code",
      "metadata": {
        "colab": {
          "base_uri": "https://localhost:8080/"
        },
        "id": "6mbLtlLUAtSK",
        "outputId": "d0f65446-a27a-4bcb-fc7e-eb9008b8ca81"
      },
      "source": [
        "print(metrics.classification_report(y_test, predictions))\n",
        "confusion_matrix(y_test, predictions).ravel()"
      ],
      "execution_count": 121,
      "outputs": [
        {
          "output_type": "stream",
          "text": [
            "              precision    recall  f1-score   support\n",
            "\n",
            "           9       0.00      0.00      0.00         1\n",
            "          10       0.00      0.00      0.00         1\n",
            "          13       0.00      0.00      0.00         1\n",
            "          14       0.00      0.00      0.00         1\n",
            "          15       1.00      1.00      1.00         1\n",
            "          17       0.00      0.00      0.00         0\n",
            "          18       0.00      0.00      0.00         0\n",
            "          20       0.00      0.00      0.00         1\n",
            "          21       0.00      0.00      0.00         1\n",
            "          22       1.00      1.00      1.00         1\n",
            "          28       0.00      0.00      0.00         0\n",
            "          29       0.33      0.33      0.33         3\n",
            "          30       0.67      0.40      0.50         5\n",
            "          31       0.00      0.00      0.00         1\n",
            "          32       0.50      0.50      0.50         4\n",
            "          33       1.00      0.40      0.57         5\n",
            "          34       0.25      0.25      0.25         4\n",
            "          35       0.00      0.00      0.00         5\n",
            "          36       0.20      0.33      0.25         3\n",
            "          37       0.80      0.67      0.73         6\n",
            "          38       0.86      0.67      0.75         9\n",
            "          39       0.33      0.60      0.43         5\n",
            "          40       0.54      0.78      0.64         9\n",
            "          41       0.78      0.64      0.70        11\n",
            "          54       0.72      0.87      0.79        15\n",
            "          58       0.47      0.47      0.47        17\n",
            "          59       0.20      0.20      0.20        10\n",
            "          70       0.46      0.65      0.54        17\n",
            "          71       0.50      0.48      0.49        21\n",
            "          72       0.73      0.42      0.53        19\n",
            "          77       0.61      0.52      0.56        21\n",
            "          90       0.59      0.73      0.65        22\n",
            "          98       0.65      0.74      0.69        23\n",
            "\n",
            "    accuracy                           0.55       243\n",
            "   macro avg       0.40      0.38      0.38       243\n",
            "weighted avg       0.56      0.55      0.54       243\n",
            "\n"
          ],
          "name": "stdout"
        },
        {
          "output_type": "execute_result",
          "data": {
            "text/plain": [
              "array([ 0,  0,  0, ...,  0,  2, 17])"
            ]
          },
          "metadata": {
            "tags": []
          },
          "execution_count": 121
        }
      ]
    },
    {
      "cell_type": "code",
      "metadata": {
        "id": "CQglv_d1AxBK"
      },
      "source": [
        "#metrics.plot_roc_curve(randomforest, X_test, y_test)  \n",
        "#plt.show()"
      ],
      "execution_count": 76,
      "outputs": []
    },
    {
      "cell_type": "markdown",
      "metadata": {
        "id": "KqIbsWhrA_Pa"
      },
      "source": [
        "# SVM"
      ]
    },
    {
      "cell_type": "code",
      "metadata": {
        "colab": {
          "base_uri": "https://localhost:8080/"
        },
        "id": "0Id0i_Z9BGS4",
        "outputId": "191e3953-2dc2-4a6e-ac8c-69ef90df8d09"
      },
      "source": [
        "from sklearn import svm\n",
        "supvm = svm.SVC(kernel='poly', degree=7)\n",
        "print(cross_val_score(supvm, X, y, cv=3))"
      ],
      "execution_count": 122,
      "outputs": [
        {
          "output_type": "stream",
          "text": [
            "[0.29012346 0.32407407 0.26006192]\n"
          ],
          "name": "stdout"
        }
      ]
    },
    {
      "cell_type": "code",
      "metadata": {
        "colab": {
          "base_uri": "https://localhost:8080/"
        },
        "id": "4AYuFkmmBPq1",
        "outputId": "d78258d8-b947-4da3-c2c8-f0d433a38b88"
      },
      "source": [
        "supvm.fit(X_train, y_train)\n",
        "predictions = supvm.predict(X_train)\n",
        "score = supvm.score(X_train, y_train)\n",
        "print(score) # Accuracy "
      ],
      "execution_count": 123,
      "outputs": [
        {
          "output_type": "stream",
          "text": [
            "0.7486263736263736\n"
          ],
          "name": "stdout"
        }
      ]
    },
    {
      "cell_type": "code",
      "metadata": {
        "colab": {
          "base_uri": "https://localhost:8080/"
        },
        "id": "uTnu8J80BVC1",
        "outputId": "400b387b-8229-4d4f-ef84-61cc0f204b0b"
      },
      "source": [
        "predictions = supvm.predict(X_test)\n",
        "score = supvm.score(X_test, y_test)\n",
        "print(score) # Accuracy "
      ],
      "execution_count": 124,
      "outputs": [
        {
          "output_type": "stream",
          "text": [
            "0.36213991769547327\n"
          ],
          "name": "stdout"
        }
      ]
    },
    {
      "cell_type": "code",
      "metadata": {
        "colab": {
          "base_uri": "https://localhost:8080/"
        },
        "id": "Ox-nyhADBaGW",
        "outputId": "705bc70c-d6be-45d4-c7bb-c065224c84ae"
      },
      "source": [
        "cm = metrics.confusion_matrix(y_test, predictions)\n",
        "print(cm)"
      ],
      "execution_count": 125,
      "outputs": [
        {
          "output_type": "stream",
          "text": [
            "[[ 0  0  0 ...  0  0  0]\n",
            " [ 0  0  0 ...  0  0  0]\n",
            " [ 0  0  0 ...  0  0  0]\n",
            " ...\n",
            " [ 0  0  0 ...  6  1  3]\n",
            " [ 0  0  0 ...  1 10  0]\n",
            " [ 0  0  0 ...  4  5 11]]\n"
          ],
          "name": "stdout"
        }
      ]
    },
    {
      "cell_type": "code",
      "metadata": {
        "id": "w7p_uKSRBcgs",
        "colab": {
          "base_uri": "https://localhost:8080/",
          "height": 1000
        },
        "outputId": "3ff7a08b-2f18-4f51-8b1b-b2456f84c17f"
      },
      "source": [
        "plt.figure(figsize=(20,20))\n",
        "sns.heatmap(cm, annot=True, fmt=\".3f\", linewidths=.5, square = True, cmap = 'Blues_r');\n",
        "plt.ylabel('y_test');\n",
        "plt.xlabel('predictions');\n",
        "all_sample_title = 'Accuracy Score: {0}'.format(score)\n",
        "plt.title(all_sample_title, size = 15);"
      ],
      "execution_count": 126,
      "outputs": [
        {
          "output_type": "display_data",
          "data": {
            "image/png": "[encoded data removed]",
            "text/plain": [
              "<Figure size 1440x1440 with 2 Axes>"
            ]
          },
          "metadata": {
            "tags": []
          }
        }
      ]
    },
    {
      "cell_type": "code",
      "metadata": {
        "id": "mgEs8XnzBfSK",
        "colab": {
          "base_uri": "https://localhost:8080/"
        },
        "outputId": "4bb5a051-8dd1-4f23-8422-df2891b803ce"
      },
      "source": [
        "print(metrics.classification_report(y_test, predictions))\n",
        "\n",
        "confusion_matrix(y_test, predictions).ravel()"
      ],
      "execution_count": 82,
      "outputs": [
        {
          "output_type": "stream",
          "text": [
            "              precision    recall  f1-score   support\n",
            "\n",
            "           9       0.00      0.00      0.00         1\n",
            "          10       0.00      0.00      0.00         1\n",
            "          13       0.00      0.00      0.00         1\n",
            "          14       0.00      0.00      0.00         1\n",
            "          15       0.00      0.00      0.00         1\n",
            "          18       0.00      0.00      0.00         0\n",
            "          20       0.33      1.00      0.50         1\n",
            "          21       0.00      0.00      0.00         1\n",
            "          22       0.00      0.00      0.00         1\n",
            "          26       0.00      0.00      0.00         0\n",
            "          28       0.00      0.00      0.00         0\n",
            "          29       0.50      0.33      0.40         3\n",
            "          30       0.00      0.00      0.00         5\n",
            "          31       0.00      0.00      0.00         1\n",
            "          32       1.00      0.25      0.40         4\n",
            "          33       0.00      0.00      0.00         5\n",
            "          34       0.33      0.25      0.29         4\n",
            "          35       0.00      0.00      0.00         5\n",
            "          36       0.00      0.00      0.00         3\n",
            "          37       0.50      0.33      0.40         6\n",
            "          38       0.00      0.00      0.00         9\n",
            "          39       0.38      0.60      0.46         5\n",
            "          40       0.33      0.11      0.17         9\n",
            "          41       0.17      0.64      0.27        11\n",
            "          54       0.76      0.87      0.81        15\n",
            "          58       0.38      0.35      0.36        17\n",
            "          59       0.25      0.50      0.33        10\n",
            "          70       0.33      0.41      0.37        17\n",
            "          71       0.32      0.29      0.30        21\n",
            "          72       0.37      0.37      0.37        19\n",
            "          77       0.50      0.29      0.36        21\n",
            "          90       0.45      0.45      0.45        22\n",
            "          98       0.58      0.48      0.52        23\n",
            "\n",
            "    accuracy                           0.36       243\n",
            "   macro avg       0.23      0.23      0.21       243\n",
            "weighted avg       0.37      0.36      0.35       243\n",
            "\n"
          ],
          "name": "stdout"
        },
        {
          "output_type": "stream",
          "text": [
            "/usr/local/lib/python3.7/dist-packages/sklearn/metrics/_classification.py:1272: UndefinedMetricWarning: Precision and F-score are ill-defined and being set to 0.0 in labels with no predicted samples. Use `zero_division` parameter to control this behavior.\n",
            "  _warn_prf(average, modifier, msg_start, len(result))\n",
            "/usr/local/lib/python3.7/dist-packages/sklearn/metrics/_classification.py:1272: UndefinedMetricWarning: Recall and F-score are ill-defined and being set to 0.0 in labels with no true samples. Use `zero_division` parameter to control this behavior.\n",
            "  _warn_prf(average, modifier, msg_start, len(result))\n"
          ],
          "name": "stderr"
        },
        {
          "output_type": "execute_result",
          "data": {
            "text/plain": [
              "array([ 0,  0,  0, ...,  4,  5, 11])"
            ]
          },
          "metadata": {
            "tags": []
          },
          "execution_count": 82
        }
      ]
    },
    {
      "cell_type": "code",
      "metadata": {
        "id": "tbqU9-ARBkPN"
      },
      "source": [
        "#metrics.plot_roc_curve(supvm, X_test, y_test)  \n",
        "#plt.show()"
      ],
      "execution_count": 83,
      "outputs": []
    },
    {
      "cell_type": "markdown",
      "metadata": {
        "id": "7ihfviRc9rf7"
      },
      "source": [
        "# Prediction"
      ]
    },
    {
      "cell_type": "code",
      "metadata": {
        "id": "5tM1oQvgt4p3",
        "colab": {
          "base_uri": "https://localhost:8080/"
        },
        "outputId": "0ad4eaf7-3bb5-43a8-d3cd-65c4e4693376"
      },
      "source": [
        "# Decision Tree Classifier\n",
        "decisiontree.fit(X_train, y_train)\n",
        "predictions = decisiontree.predict(X_train)\n",
        "score = decisiontree.score(X_train, y_train)\n",
        "print(score) # Accuracy "
      ],
      "execution_count": 127,
      "outputs": [
        {
          "output_type": "stream",
          "text": [
            "0.9629120879120879\n"
          ],
          "name": "stdout"
        }
      ]
    },
    {
      "cell_type": "code",
      "metadata": {
        "id": "2O1C-3IeuHiv",
        "colab": {
          "base_uri": "https://localhost:8080/"
        },
        "outputId": "eff35425-45bb-4595-9944-f04333262736"
      },
      "source": [
        "# Sample Test\n",
        "import re\n",
        "t = test_df.sample().to_numpy().tolist()\n",
        "t = str(t)[1:-1]\n",
        "temp = re.findall(r'\\d+', t)\n",
        "res = list(map(int, temp))\n",
        "print(res)\n",
        "year, month, day, city, venue, home_team, team_1, team_2, toss_winner, toss_decision, umpire_1, umpire_2, match_winner = res\n",
        "\n",
        "inp = [city, venue, home_team, team_1, team_2, toss_winner, toss_decision]\n",
        "\n",
        "\n",
        "inp = np.array(inp).reshape((1, -1))\n",
        "print(inp)\n",
        "output = decisiontree.predict(inp)\n",
        "print(output)\n",
        "print(f\"team_1: {list(team_encodings.keys())[list(team_encode_dict['all_teams'].values()).index(team_1)]}\")\n",
        "print(f\"team_2: {list(team_encodings.keys())[list(team_encode_dict['all_teams'].values()).index(team_2)]}\")\n",
        "print(f\"Actual winner is: {list(team_encodings.keys())[list(team_encode_dict['all_teams'].values()).index(match_winner)]}\")\n",
        "print(f\"Predicted winner: {list(team_encodings.keys())[list(team_encode_dict['all_teams'].values()).index(output)]}\")"
      ],
      "execution_count": 153,
      "outputs": [
        {
          "output_type": "stream",
          "text": [
            "[2012, 2, 23, 78, 72, 29, 29, 41, 29, 0, 124, 35, 41]\n",
            "[[78 72 29 29 41 29  0]]\n",
            "[41]\n",
            "team_1: Kenya\n",
            "team_2: Ireland\n",
            "Actual winner is: Ireland\n",
            "Predicted winner: Ireland\n"
          ],
          "name": "stdout"
        }
      ]
    },
    {
      "cell_type": "code",
      "metadata": {
        "id": "kWEgSlUZC1to",
        "colab": {
          "base_uri": "https://localhost:8080/"
        },
        "outputId": "9be95fde-3a7b-4993-9706-32ca5a06d26d"
      },
      "source": [
        "# Decision Tree Classifier\n",
        "predictions = decisiontree.predict(X_test)\n",
        "score = decisiontree.score(X_test, y_test)\n",
        "print(score) # Accuracy "
      ],
      "execution_count": 154,
      "outputs": [
        {
          "output_type": "stream",
          "text": [
            "0.5473251028806584\n"
          ],
          "name": "stdout"
        }
      ]
    },
    {
      "cell_type": "code",
      "metadata": {
        "id": "g0Udc5_lWRs-",
        "colab": {
          "base_uri": "https://localhost:8080/"
        },
        "outputId": "5f3a7c8c-bfd7-4f12-8469-b87e94540447"
      },
      "source": [
        "pd.Series(index=predictor_var, data=decisiontree.feature_importances_)"
      ],
      "execution_count": 155,
      "outputs": [
        {
          "output_type": "execute_result",
          "data": {
            "text/plain": [
              "city             0.102109\n",
              "venue            0.132713\n",
              "home_team        0.074685\n",
              "team_1           0.301671\n",
              "team_2           0.281820\n",
              "toss_winner      0.061129\n",
              "toss_decision    0.045874\n",
              "dtype: float64"
            ]
          },
          "metadata": {
            "tags": []
          },
          "execution_count": 155
        }
      ]
    },
    {
      "cell_type": "code",
      "metadata": {
        "id": "5kEufFY-W5gQ",
        "colab": {
          "base_uri": "https://localhost:8080/"
        },
        "outputId": "e37ac7f5-1424-4921-c8b5-5330a4447791"
      },
      "source": [
        "# Random Forest Classifier\n",
        "randomforest.fit(X_train, y_train)\n",
        "predictions = randomforest.predict(X_train)\n",
        "score = randomforest.score(X_train, y_train)\n",
        "print(score) # Accuracy "
      ],
      "execution_count": 156,
      "outputs": [
        {
          "output_type": "stream",
          "text": [
            "0.9629120879120879\n"
          ],
          "name": "stdout"
        }
      ]
    },
    {
      "cell_type": "code",
      "metadata": {
        "id": "Tv5E3aRJXDb_",
        "colab": {
          "base_uri": "https://localhost:8080/"
        },
        "outputId": "5ef24484-87c8-4835-8fa3-892949017f13"
      },
      "source": [
        "# Sample Test\n",
        "import re\n",
        "t = test_df.sample().to_numpy().tolist()\n",
        "t = str(t)[1:-1]\n",
        "temp = re.findall(r'\\d+', t)\n",
        "res = list(map(int, temp))\n",
        "\n",
        "year, month, day, city, venue, home_team, team_1, team_2, toss_winner, toss_decision, umpire_1, umpire_2, match_winner = res\n",
        "\n",
        "inp = [city, venue, home_team, team_1, team_2, toss_winner, toss_decision]\n",
        "\n",
        "print(inp)\n",
        "inp = np.array(inp).reshape((1, -1))\n",
        "print(inp)\n",
        "output = randomforest.predict(inp)\n",
        "print(output)\n",
        "print(f\"team_1: {list(team_encodings.keys())[list(team_encode_dict['all_teams'].values()).index(team_1)]}\")\n",
        "print(f\"team_2: {list(team_encodings.keys())[list(team_encode_dict['all_teams'].values()).index(team_2)]}\")\n",
        "print(f\"Actual winner is: {list(team_encodings.keys())[list(team_encode_dict['all_teams'].values()).index(match_winner)]}\")\n",
        "print(f\"Predicted winner: {list(team_encodings.keys())[list(team_encode_dict['all_teams'].values()).index(output)]}\")"
      ],
      "execution_count": 174,
      "outputs": [
        {
          "output_type": "stream",
          "text": [
            "[60, 82, 0, 70, 58, 58, 0]\n",
            "[[60 82  0 70 58 58  0]]\n",
            "[58]\n",
            "team_1: England\n",
            "team_2: West Indies\n",
            "Actual winner is: West Indies\n",
            "Predicted winner: West Indies\n"
          ],
          "name": "stdout"
        }
      ]
    },
    {
      "cell_type": "code",
      "metadata": {
        "id": "NMGavLU1ERE6",
        "colab": {
          "base_uri": "https://localhost:8080/"
        },
        "outputId": "820e79c4-e117-48f3-9195-9a869270e375"
      },
      "source": [
        "# Random Forest Classifier\n",
        "predictions = randomforest.predict(X_test)\n",
        "score = randomforest.score(X_test, y_test)\n",
        "print(score) # Accuracy "
      ],
      "execution_count": 175,
      "outputs": [
        {
          "output_type": "stream",
          "text": [
            "0.522633744855967\n"
          ],
          "name": "stdout"
        }
      ]
    },
    {
      "cell_type": "code",
      "metadata": {
        "colab": {
          "base_uri": "https://localhost:8080/"
        },
        "id": "rhJC4etyw2TW",
        "outputId": "c2c7575f-5f34-4fd5-e404-3837f0c89cf9"
      },
      "source": [
        "pd.Series(index=predictor_var, data=randomforest.feature_importances_)"
      ],
      "execution_count": 176,
      "outputs": [
        {
          "output_type": "execute_result",
          "data": {
            "text/plain": [
              "city             0.133695\n",
              "venue            0.133692\n",
              "home_team        0.101200\n",
              "team_1           0.189609\n",
              "team_2           0.218586\n",
              "toss_winner      0.170990\n",
              "toss_decision    0.052229\n",
              "dtype: float64"
            ]
          },
          "metadata": {
            "tags": []
          },
          "execution_count": 176
        }
      ]
    }
  ]
}