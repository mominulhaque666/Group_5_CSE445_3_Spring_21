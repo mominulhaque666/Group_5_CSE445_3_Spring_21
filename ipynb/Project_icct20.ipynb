{
  "nbformat": 4,
  "nbformat_minor": 0,
  "metadata": {
    "colab": {
      "name": "Project_icct20.ipynb",
      "provenance": [],
      "collapsed_sections": [],
      "authorship_tag": "ABX9TyPJ6TttZBO+PYyzK09nLjih",
      "include_colab_link": true
    },
    "kernelspec": {
      "name": "python3",
      "display_name": "Python 3"
    },
    "language_info": {
      "name": "python"
    }
  },
  "cells": [
    {
      "cell_type": "markdown",
      "metadata": {
        "id": "view-in-github",
        "colab_type": "text"
      },
      "source": [
        "<a href=\"https://colab.research.google.com/github/nahidosen/Group_5_CSE445_3_Spring_21/blob/main/ipynb/Project_icct20.ipynb\" target=\"_parent\"><img src=\"https://colab.research.google.com/assets/colab-badge.svg\" alt=\"Open In Colab\"/></a>"
      ]
    },
    {
      "cell_type": "code",
      "metadata": {
        "colab": {
          "base_uri": "https://localhost:8080/"
        },
        "id": "2Nm_NxUaHBSp",
        "outputId": "922c3761-aea3-4a8e-deb6-ef2d9d28f97e"
      },
      "source": [
        "!pip install scikit-plot"
      ],
      "execution_count": 434,
      "outputs": [
        {
          "output_type": "stream",
          "text": [
            "Requirement already satisfied: scikit-plot in /usr/local/lib/python3.7/dist-packages (0.3.7)\n",
            "Requirement already satisfied: joblib>=0.10 in /usr/local/lib/python3.7/dist-packages (from scikit-plot) (1.0.1)\n",
            "Requirement already satisfied: scikit-learn>=0.18 in /usr/local/lib/python3.7/dist-packages (from scikit-plot) (0.22.2.post1)\n",
            "Requirement already satisfied: scipy>=0.9 in /usr/local/lib/python3.7/dist-packages (from scikit-plot) (1.4.1)\n",
            "Requirement already satisfied: matplotlib>=1.4.0 in /usr/local/lib/python3.7/dist-packages (from scikit-plot) (3.2.2)\n",
            "Requirement already satisfied: numpy>=1.11.0 in /usr/local/lib/python3.7/dist-packages (from scikit-learn>=0.18->scikit-plot) (1.19.5)\n",
            "Requirement already satisfied: kiwisolver>=1.0.1 in /usr/local/lib/python3.7/dist-packages (from matplotlib>=1.4.0->scikit-plot) (1.3.1)\n",
            "Requirement already satisfied: pyparsing!=2.0.4,!=2.1.2,!=2.1.6,>=2.0.1 in /usr/local/lib/python3.7/dist-packages (from matplotlib>=1.4.0->scikit-plot) (2.4.7)\n",
            "Requirement already satisfied: python-dateutil>=2.1 in /usr/local/lib/python3.7/dist-packages (from matplotlib>=1.4.0->scikit-plot) (2.8.1)\n",
            "Requirement already satisfied: cycler>=0.10 in /usr/local/lib/python3.7/dist-packages (from matplotlib>=1.4.0->scikit-plot) (0.10.0)\n",
            "Requirement already satisfied: six>=1.5 in /usr/local/lib/python3.7/dist-packages (from python-dateutil>=2.1->matplotlib>=1.4.0->scikit-plot) (1.15.0)\n"
          ],
          "name": "stdout"
        }
      ]
    },
    {
      "cell_type": "code",
      "metadata": {
        "id": "IOfFEWZZsWVY"
      },
      "source": [
        "# Importing necessary packages\n",
        "\n",
        "import pandas as pd\n",
        "import numpy as np\n",
        "import matplotlib.pyplot as plt\n",
        "plt.style.use('ggplot')\n",
        "import seaborn as sns\n",
        "import scikitplot as skplt\n",
        "from sklearn.impute import SimpleImputer\n",
        "from sklearn import metrics\n",
        "from sklearn.model_selection import cross_val_score"
      ],
      "execution_count": 435,
      "outputs": []
    },
    {
      "cell_type": "code",
      "metadata": {
        "colab": {
          "base_uri": "https://localhost:8080/",
          "height": 728
        },
        "id": "LXdNuULVDDSR",
        "outputId": "3cab392c-085c-4eb5-875c-d79d4b0ffa3f"
      },
      "source": [
        "data = 'https://raw.githubusercontent.com/nahidosen/Group_5_CSE445_3_Spring_21/main/dataset/IT20%20.csv'\n",
        "t = pd.read_csv(data)\n",
        "t"
      ],
      "execution_count": 436,
      "outputs": [
        {
          "output_type": "execute_result",
          "data": {
            "text/html": [
              "<div>\n",
              "<style scoped>\n",
              "    .dataframe tbody tr th:only-of-type {\n",
              "        vertical-align: middle;\n",
              "    }\n",
              "\n",
              "    .dataframe tbody tr th {\n",
              "        vertical-align: top;\n",
              "    }\n",
              "\n",
              "    .dataframe thead th {\n",
              "        text-align: right;\n",
              "    }\n",
              "</style>\n",
              "<table border=\"1\" class=\"dataframe\">\n",
              "  <thead>\n",
              "    <tr style=\"text-align: right;\">\n",
              "      <th></th>\n",
              "      <th>dates</th>\n",
              "      <th>venue</th>\n",
              "      <th>city</th>\n",
              "      <th>home_team</th>\n",
              "      <th>team_1</th>\n",
              "      <th>team_2</th>\n",
              "      <th>total_matches_team1</th>\n",
              "      <th>total_matches_team2</th>\n",
              "      <th>toss_winner</th>\n",
              "      <th>total_wins_team1</th>\n",
              "      <th>total_wins_team2</th>\n",
              "      <th>toss_decision</th>\n",
              "      <th>umpire_1</th>\n",
              "      <th>umpire_2</th>\n",
              "      <th>match_winner</th>\n",
              "      <th>head_to_head</th>\n",
              "      <th>total_loses_team1</th>\n",
              "      <th>total_loses_team2</th>\n",
              "      <th>win_ratio_team1</th>\n",
              "      <th>win_ratio_team2</th>\n",
              "      <th>lose_ratio_team1</th>\n",
              "      <th>lose_ratio_team2</th>\n",
              "    </tr>\n",
              "  </thead>\n",
              "  <tbody>\n",
              "    <tr>\n",
              "      <th>0</th>\n",
              "      <td>2005-02-17</td>\n",
              "      <td>Eden Park</td>\n",
              "      <td>Auckland</td>\n",
              "      <td>New Zealand</td>\n",
              "      <td>New Zealand</td>\n",
              "      <td>Australia</td>\n",
              "      <td>NaN</td>\n",
              "      <td>0.0</td>\n",
              "      <td>Australia</td>\n",
              "      <td>NaN</td>\n",
              "      <td>1.0</td>\n",
              "      <td>bat</td>\n",
              "      <td>BF Bowden</td>\n",
              "      <td>AL Hill</td>\n",
              "      <td>Australia</td>\n",
              "      <td>1.0</td>\n",
              "      <td>NaN</td>\n",
              "      <td>NaN</td>\n",
              "      <td>NaN</td>\n",
              "      <td>NaN</td>\n",
              "      <td>NaN</td>\n",
              "      <td>NaN</td>\n",
              "    </tr>\n",
              "    <tr>\n",
              "      <th>1</th>\n",
              "      <td>2005-06-13</td>\n",
              "      <td>The Rose Bowl</td>\n",
              "      <td>Southampton</td>\n",
              "      <td>England</td>\n",
              "      <td>England</td>\n",
              "      <td>Australia</td>\n",
              "      <td>NaN</td>\n",
              "      <td>1.0</td>\n",
              "      <td>England</td>\n",
              "      <td>NaN</td>\n",
              "      <td>NaN</td>\n",
              "      <td>bat</td>\n",
              "      <td>NJ Llong</td>\n",
              "      <td>JW Lloyds</td>\n",
              "      <td>England</td>\n",
              "      <td>NaN</td>\n",
              "      <td>NaN</td>\n",
              "      <td>NaN</td>\n",
              "      <td>NaN</td>\n",
              "      <td>NaN</td>\n",
              "      <td>NaN</td>\n",
              "      <td>NaN</td>\n",
              "    </tr>\n",
              "    <tr>\n",
              "      <th>2</th>\n",
              "      <td>2005-10-21</td>\n",
              "      <td>New Wanderers Stadium</td>\n",
              "      <td>Johannesburg</td>\n",
              "      <td>South Africa</td>\n",
              "      <td>South Africa</td>\n",
              "      <td>New Zealand</td>\n",
              "      <td>NaN</td>\n",
              "      <td>NaN</td>\n",
              "      <td>New Zealand</td>\n",
              "      <td>NaN</td>\n",
              "      <td>NaN</td>\n",
              "      <td>field</td>\n",
              "      <td>IL Howell</td>\n",
              "      <td>BG Jerling</td>\n",
              "      <td>New Zealand</td>\n",
              "      <td>NaN</td>\n",
              "      <td>NaN</td>\n",
              "      <td>NaN</td>\n",
              "      <td>NaN</td>\n",
              "      <td>NaN</td>\n",
              "      <td>NaN</td>\n",
              "      <td>NaN</td>\n",
              "    </tr>\n",
              "    <tr>\n",
              "      <th>3</th>\n",
              "      <td>2006-01-09</td>\n",
              "      <td>Brisbane Cricket Ground</td>\n",
              "      <td>Brisbane</td>\n",
              "      <td>Australia</td>\n",
              "      <td>Australia</td>\n",
              "      <td>South Africa</td>\n",
              "      <td>2.0</td>\n",
              "      <td>NaN</td>\n",
              "      <td>Australia</td>\n",
              "      <td>NaN</td>\n",
              "      <td>NaN</td>\n",
              "      <td>bat</td>\n",
              "      <td>BNJ Oxenford</td>\n",
              "      <td>RL Parry</td>\n",
              "      <td>Australia</td>\n",
              "      <td>NaN</td>\n",
              "      <td>NaN</td>\n",
              "      <td>NaN</td>\n",
              "      <td>NaN</td>\n",
              "      <td>NaN</td>\n",
              "      <td>NaN</td>\n",
              "      <td>NaN</td>\n",
              "    </tr>\n",
              "    <tr>\n",
              "      <th>4</th>\n",
              "      <td>2006-02-16</td>\n",
              "      <td>Eden Park</td>\n",
              "      <td>Auckland</td>\n",
              "      <td>New Zealand</td>\n",
              "      <td>West Indies</td>\n",
              "      <td>New Zealand</td>\n",
              "      <td>NaN</td>\n",
              "      <td>NaN</td>\n",
              "      <td>New Zealand</td>\n",
              "      <td>NaN</td>\n",
              "      <td>NaN</td>\n",
              "      <td>field</td>\n",
              "      <td>BF Bowden</td>\n",
              "      <td>AL Hill</td>\n",
              "      <td>New Zealand</td>\n",
              "      <td>NaN</td>\n",
              "      <td>NaN</td>\n",
              "      <td>NaN</td>\n",
              "      <td>NaN</td>\n",
              "      <td>NaN</td>\n",
              "      <td>NaN</td>\n",
              "      <td>NaN</td>\n",
              "    </tr>\n",
              "    <tr>\n",
              "      <th>...</th>\n",
              "      <td>...</td>\n",
              "      <td>...</td>\n",
              "      <td>...</td>\n",
              "      <td>...</td>\n",
              "      <td>...</td>\n",
              "      <td>...</td>\n",
              "      <td>...</td>\n",
              "      <td>...</td>\n",
              "      <td>...</td>\n",
              "      <td>...</td>\n",
              "      <td>...</td>\n",
              "      <td>...</td>\n",
              "      <td>...</td>\n",
              "      <td>...</td>\n",
              "      <td>...</td>\n",
              "      <td>...</td>\n",
              "      <td>...</td>\n",
              "      <td>...</td>\n",
              "      <td>...</td>\n",
              "      <td>...</td>\n",
              "      <td>...</td>\n",
              "      <td>...</td>\n",
              "    </tr>\n",
              "    <tr>\n",
              "      <th>966</th>\n",
              "      <td>2021-03-17</td>\n",
              "      <td>Sheikh Zayed Stadium</td>\n",
              "      <td>Abu Dhabi</td>\n",
              "      <td>none</td>\n",
              "      <td>Afghanistan</td>\n",
              "      <td>Zimbabwe</td>\n",
              "      <td>NaN</td>\n",
              "      <td>NaN</td>\n",
              "      <td>Zimbabwe</td>\n",
              "      <td>NaN</td>\n",
              "      <td>NaN</td>\n",
              "      <td>field</td>\n",
              "      <td>Aleem Dar</td>\n",
              "      <td>Izatullah Safi</td>\n",
              "      <td>Afghanistan</td>\n",
              "      <td>NaN</td>\n",
              "      <td>NaN</td>\n",
              "      <td>NaN</td>\n",
              "      <td>NaN</td>\n",
              "      <td>NaN</td>\n",
              "      <td>NaN</td>\n",
              "      <td>NaN</td>\n",
              "    </tr>\n",
              "    <tr>\n",
              "      <th>967</th>\n",
              "      <td>2021-03-18</td>\n",
              "      <td>Narendra Modi Stadium</td>\n",
              "      <td>Ahmedabad</td>\n",
              "      <td>India</td>\n",
              "      <td>India</td>\n",
              "      <td>England</td>\n",
              "      <td>NaN</td>\n",
              "      <td>NaN</td>\n",
              "      <td>England</td>\n",
              "      <td>NaN</td>\n",
              "      <td>NaN</td>\n",
              "      <td>field</td>\n",
              "      <td>KN Ananthapadmanabhan</td>\n",
              "      <td>Nitin Menon</td>\n",
              "      <td>India</td>\n",
              "      <td>NaN</td>\n",
              "      <td>NaN</td>\n",
              "      <td>NaN</td>\n",
              "      <td>NaN</td>\n",
              "      <td>NaN</td>\n",
              "      <td>NaN</td>\n",
              "      <td>NaN</td>\n",
              "    </tr>\n",
              "    <tr>\n",
              "      <th>968</th>\n",
              "      <td>2021-03-19</td>\n",
              "      <td>Sheikh Zayed Stadium</td>\n",
              "      <td>Abu Dhabi</td>\n",
              "      <td>none</td>\n",
              "      <td>Afghanistan</td>\n",
              "      <td>Zimbabwe</td>\n",
              "      <td>NaN</td>\n",
              "      <td>NaN</td>\n",
              "      <td>Afghanistan</td>\n",
              "      <td>NaN</td>\n",
              "      <td>NaN</td>\n",
              "      <td>bat</td>\n",
              "      <td>Ahmed Shah Durrani</td>\n",
              "      <td>Aleem Dar</td>\n",
              "      <td>Afghanistan</td>\n",
              "      <td>NaN</td>\n",
              "      <td>NaN</td>\n",
              "      <td>NaN</td>\n",
              "      <td>NaN</td>\n",
              "      <td>NaN</td>\n",
              "      <td>NaN</td>\n",
              "      <td>NaN</td>\n",
              "    </tr>\n",
              "    <tr>\n",
              "      <th>969</th>\n",
              "      <td>2021-03-20</td>\n",
              "      <td>Narendra Modi Stadium</td>\n",
              "      <td>Ahmedabad</td>\n",
              "      <td>India</td>\n",
              "      <td>India</td>\n",
              "      <td>England</td>\n",
              "      <td>NaN</td>\n",
              "      <td>NaN</td>\n",
              "      <td>England</td>\n",
              "      <td>NaN</td>\n",
              "      <td>NaN</td>\n",
              "      <td>field</td>\n",
              "      <td>AK Chaudhary</td>\n",
              "      <td>Nitin Menon</td>\n",
              "      <td>India</td>\n",
              "      <td>NaN</td>\n",
              "      <td>NaN</td>\n",
              "      <td>NaN</td>\n",
              "      <td>NaN</td>\n",
              "      <td>NaN</td>\n",
              "      <td>NaN</td>\n",
              "      <td>NaN</td>\n",
              "    </tr>\n",
              "    <tr>\n",
              "      <th>970</th>\n",
              "      <td>2021-03-20</td>\n",
              "      <td>Sheikh Zayed Stadium</td>\n",
              "      <td>Abu Dhabi</td>\n",
              "      <td>none</td>\n",
              "      <td>Afghanistan</td>\n",
              "      <td>Zimbabwe</td>\n",
              "      <td>NaN</td>\n",
              "      <td>NaN</td>\n",
              "      <td>Afghanistan</td>\n",
              "      <td>NaN</td>\n",
              "      <td>NaN</td>\n",
              "      <td>bat</td>\n",
              "      <td>Aleem Dar</td>\n",
              "      <td>Izatullah Safi</td>\n",
              "      <td>Afghanistan</td>\n",
              "      <td>NaN</td>\n",
              "      <td>NaN</td>\n",
              "      <td>NaN</td>\n",
              "      <td>NaN</td>\n",
              "      <td>NaN</td>\n",
              "      <td>NaN</td>\n",
              "      <td>NaN</td>\n",
              "    </tr>\n",
              "  </tbody>\n",
              "</table>\n",
              "<p>971 rows × 22 columns</p>\n",
              "</div>"
            ],
            "text/plain": [
              "          dates                    venue  ... lose_ratio_team1 lose_ratio_team2\n",
              "0    2005-02-17                Eden Park  ...              NaN              NaN\n",
              "1    2005-06-13            The Rose Bowl  ...              NaN              NaN\n",
              "2    2005-10-21    New Wanderers Stadium  ...              NaN              NaN\n",
              "3    2006-01-09  Brisbane Cricket Ground  ...              NaN              NaN\n",
              "4    2006-02-16                Eden Park  ...              NaN              NaN\n",
              "..          ...                      ...  ...              ...              ...\n",
              "966  2021-03-17     Sheikh Zayed Stadium  ...              NaN              NaN\n",
              "967  2021-03-18    Narendra Modi Stadium  ...              NaN              NaN\n",
              "968  2021-03-19     Sheikh Zayed Stadium  ...              NaN              NaN\n",
              "969  2021-03-20    Narendra Modi Stadium  ...              NaN              NaN\n",
              "970  2021-03-20     Sheikh Zayed Stadium  ...              NaN              NaN\n",
              "\n",
              "[971 rows x 22 columns]"
            ]
          },
          "metadata": {
            "tags": []
          },
          "execution_count": 436
        }
      ]
    },
    {
      "cell_type": "markdown",
      "metadata": {
        "id": "CHXv3MQQPBKy"
      },
      "source": [
        "# EDA"
      ]
    },
    {
      "cell_type": "code",
      "metadata": {
        "colab": {
          "base_uri": "https://localhost:8080/"
        },
        "id": "mz620CKdJkdx",
        "outputId": "fd0687d1-7503-4e92-b984-3e495ceba783"
      },
      "source": [
        "t.columns"
      ],
      "execution_count": 437,
      "outputs": [
        {
          "output_type": "execute_result",
          "data": {
            "text/plain": [
              "Index(['dates', 'venue', 'city', 'home_team', 'team_1', 'team_2',\n",
              "       'total_matches_team1', 'total_matches_team2', 'toss_winner',\n",
              "       'total_wins_team1', 'total_wins_team2', 'toss_decision', 'umpire_1',\n",
              "       'umpire_2', 'match_winner', 'head_to_head', 'total_loses_team1',\n",
              "       'total_loses_team2', 'win_ratio_team1', 'win_ratio_team2',\n",
              "       'lose_ratio_team1', 'lose_ratio_team2'],\n",
              "      dtype='object')"
            ]
          },
          "metadata": {
            "tags": []
          },
          "execution_count": 437
        }
      ]
    },
    {
      "cell_type": "code",
      "metadata": {
        "colab": {
          "base_uri": "https://localhost:8080/"
        },
        "id": "ixvbzZq1GE0P",
        "outputId": "05394124-ff45-4eb7-bdde-91e41b5dd960"
      },
      "source": [
        "t.info()"
      ],
      "execution_count": 438,
      "outputs": [
        {
          "output_type": "stream",
          "text": [
            "<class 'pandas.core.frame.DataFrame'>\n",
            "RangeIndex: 971 entries, 0 to 970\n",
            "Data columns (total 22 columns):\n",
            " #   Column               Non-Null Count  Dtype  \n",
            "---  ------               --------------  -----  \n",
            " 0   dates                971 non-null    object \n",
            " 1   venue                971 non-null    object \n",
            " 2   city                 971 non-null    object \n",
            " 3   home_team            971 non-null    object \n",
            " 4   team_1               971 non-null    object \n",
            " 5   team_2               971 non-null    object \n",
            " 6   total_matches_team1  80 non-null     float64\n",
            " 7   total_matches_team2  56 non-null     float64\n",
            " 8   toss_winner          971 non-null    object \n",
            " 9   total_wins_team1     0 non-null      float64\n",
            " 10  total_wins_team2     1 non-null      float64\n",
            " 11  toss_decision        971 non-null    object \n",
            " 12  umpire_1             971 non-null    object \n",
            " 13  umpire_2             971 non-null    object \n",
            " 14  match_winner         971 non-null    object \n",
            " 15  head_to_head         3 non-null      float64\n",
            " 16  total_loses_team1    0 non-null      float64\n",
            " 17  total_loses_team2    0 non-null      float64\n",
            " 18  win_ratio_team1      0 non-null      float64\n",
            " 19  win_ratio_team2      0 non-null      float64\n",
            " 20  lose_ratio_team1     0 non-null      float64\n",
            " 21  lose_ratio_team2     0 non-null      float64\n",
            "dtypes: float64(11), object(11)\n",
            "memory usage: 167.0+ KB\n"
          ],
          "name": "stdout"
        }
      ]
    },
    {
      "cell_type": "code",
      "metadata": {
        "colab": {
          "base_uri": "https://localhost:8080/"
        },
        "id": "dM1LL2G5mA00",
        "outputId": "fcd739d1-7d60-4cc6-dcea-c23047ef9dda"
      },
      "source": [
        "t2 = t\n",
        "t2 = t.dropna(axis=1)\n",
        "t2.info()"
      ],
      "execution_count": 439,
      "outputs": [
        {
          "output_type": "stream",
          "text": [
            "<class 'pandas.core.frame.DataFrame'>\n",
            "RangeIndex: 971 entries, 0 to 970\n",
            "Data columns (total 11 columns):\n",
            " #   Column         Non-Null Count  Dtype \n",
            "---  ------         --------------  ----- \n",
            " 0   dates          971 non-null    object\n",
            " 1   venue          971 non-null    object\n",
            " 2   city           971 non-null    object\n",
            " 3   home_team      971 non-null    object\n",
            " 4   team_1         971 non-null    object\n",
            " 5   team_2         971 non-null    object\n",
            " 6   toss_winner    971 non-null    object\n",
            " 7   toss_decision  971 non-null    object\n",
            " 8   umpire_1       971 non-null    object\n",
            " 9   umpire_2       971 non-null    object\n",
            " 10  match_winner   971 non-null    object\n",
            "dtypes: object(11)\n",
            "memory usage: 83.6+ KB\n"
          ],
          "name": "stdout"
        }
      ]
    },
    {
      "cell_type": "code",
      "metadata": {
        "colab": {
          "base_uri": "https://localhost:8080/"
        },
        "id": "WstiqDPtS5OU",
        "outputId": "b5383c9a-1611-4b4a-bcd4-a4e4bde5165e"
      },
      "source": [
        "t2.isnull().sum() "
      ],
      "execution_count": 440,
      "outputs": [
        {
          "output_type": "execute_result",
          "data": {
            "text/plain": [
              "dates            0\n",
              "venue            0\n",
              "city             0\n",
              "home_team        0\n",
              "team_1           0\n",
              "team_2           0\n",
              "toss_winner      0\n",
              "toss_decision    0\n",
              "umpire_1         0\n",
              "umpire_2         0\n",
              "match_winner     0\n",
              "dtype: int64"
            ]
          },
          "metadata": {
            "tags": []
          },
          "execution_count": 440
        }
      ]
    },
    {
      "cell_type": "code",
      "metadata": {
        "colab": {
          "base_uri": "https://localhost:8080/"
        },
        "id": "AwU5zK3aXXtv",
        "outputId": "78f9c543-d04f-4ee6-e98b-6acbe6c0b73a"
      },
      "source": [
        "t2.nunique()"
      ],
      "execution_count": 441,
      "outputs": [
        {
          "output_type": "execute_result",
          "data": {
            "text/plain": [
              "dates            722\n",
              "venue            138\n",
              "city             117\n",
              "home_team         28\n",
              "team_1            48\n",
              "team_2            46\n",
              "toss_winner       46\n",
              "toss_decision      2\n",
              "umpire_1         147\n",
              "umpire_2         152\n",
              "match_winner      42\n",
              "dtype: int64"
            ]
          },
          "metadata": {
            "tags": []
          },
          "execution_count": 441
        }
      ]
    },
    {
      "cell_type": "code",
      "metadata": {
        "colab": {
          "base_uri": "https://localhost:8080/"
        },
        "id": "YYDI1siBJQ4A",
        "outputId": "06488298-a5d6-4989-b56e-244c02a86efd"
      },
      "source": [
        "t2['venue'].value_counts().sort_index()"
      ],
      "execution_count": 442,
      "outputs": [
        {
          "output_type": "execute_result",
          "data": {
            "text/plain": [
              "AMI Stadium                                               3\n",
              "Adelaide Oval                                             5\n",
              "Al Amerat Cricket Ground Oman Cricket Ministry Turf 1    19\n",
              "Al Amerat Cricket Ground Oman Cricket Ministry Turf 2     3\n",
              "Amini Park                                                6\n",
              "                                                         ..\n",
              "Western Australia Cricket Association Ground              2\n",
              "Westpac Stadium                                          14\n",
              "White Hill Field                                          8\n",
              "Windsor Park                                              2\n",
              "Zahur Ahmed Chowdhury Stadium                            20\n",
              "Name: venue, Length: 138, dtype: int64"
            ]
          },
          "metadata": {
            "tags": []
          },
          "execution_count": 442
        }
      ]
    },
    {
      "cell_type": "code",
      "metadata": {
        "id": "nRi0V6AQbqQu"
      },
      "source": [
        "#ipl_2 = ipl\n",
        "#ipl_2['city'] = ipl_2['city'].replace('Bengaluru', 'Bangalore')\n",
        "#ipl_2['city'].value_counts().sort_index()"
      ],
      "execution_count": 443,
      "outputs": []
    },
    {
      "cell_type": "code",
      "metadata": {
        "colab": {
          "base_uri": "https://localhost:8080/"
        },
        "id": "3IKTtDqpJaBP",
        "outputId": "2fcf0eda-5357-46c7-97d8-0f76e6162b98"
      },
      "source": [
        "t2['city'].sort_values().unique()"
      ],
      "execution_count": 444,
      "outputs": [
        {
          "output_type": "execute_result",
          "data": {
            "text/plain": [
              "array(['Abu Dhabi', 'Adelaide', 'Ahmedabad', 'Al Amarat', 'Amstelveen',\n",
              "       'Antigua', 'Auckland', 'Bangalore', 'Bangkok', 'Barbados',\n",
              "       'Basseterre', 'Belfast', 'Birmingham', 'Bloemfontein', 'Bready',\n",
              "       'Brisbane', 'Bristol', 'Bulawayo', 'Canberra', 'Cape Town',\n",
              "       'Cardiff', 'Carrara', 'Castel', 'Centurion', 'Chandigarh',\n",
              "       'Chennai', 'Chester-le-Street', 'Chittagong', 'Christchurch',\n",
              "       'Colombo', 'Coolidge', 'Cuttack', 'Dehradun', 'Delhi', 'Derry',\n",
              "       'Deventer', 'Dhaka', 'Dharamsala', 'Dominica', 'Dubai', 'Dublin',\n",
              "       'Dunedin', 'Durban', 'East London', 'Edinburgh', 'Fatullah',\n",
              "       'Greater Noida', 'Gros Islet', 'Guwahati', 'Guyana', 'Hambantota',\n",
              "       'Hamilton', 'Harare', 'Hobart', 'Hong Kong', 'Hyderabad', 'Indore',\n",
              "       'Jamaica', 'Johannesburg', 'Kampala', 'Kandy', 'Kanpur', 'Karachi',\n",
              "       'Khulna', 'Kimberley', 'King City', 'Kirtipur', 'Kolkata',\n",
              "       'Kuala Lumpur', 'Lahore', 'Lauderhill', 'London', 'Londonderry',\n",
              "       'Lucknow', 'Manchester', 'Melbourne', 'Mirpur', 'Moara Vlasiei',\n",
              "       'Mombasa', 'Mount Maunganui', 'Mumbai', 'Nagpur', 'Nairobi',\n",
              "       'Napier', 'Nelson', 'Nottingham', 'Paarl', 'Perth',\n",
              "       'Port Elizabeth', 'Port Moresby', 'Potchefstroom', 'Providence',\n",
              "       'Pune', 'Rajkot', 'Ranchi', 'Rawalpindi', 'Rotterdam', 'Sharjah',\n",
              "       'Singapore', 'Southampton', 'St Georges', 'St Kitts', 'St Lucia',\n",
              "       'St Peter Port', 'St Vincent', 'Sydney', 'Sylhet', 'Taunton',\n",
              "       'The Hague', 'Thiruvananthapuram', 'Townsville', 'Trinidad',\n",
              "       'Utrecht', 'Victoria', 'Visakhapatnam', 'Wellington', 'Windhoek'],\n",
              "      dtype=object)"
            ]
          },
          "metadata": {
            "tags": []
          },
          "execution_count": 444
        }
      ]
    },
    {
      "cell_type": "code",
      "metadata": {
        "colab": {
          "base_uri": "https://localhost:8080/"
        },
        "id": "_2wpZsP3JhZ3",
        "outputId": "46a6917c-3150-49a1-efb5-38637f646567"
      },
      "source": [
        "t2['home_team'].value_counts().sort_index()"
      ],
      "execution_count": 445,
      "outputs": [
        {
          "output_type": "execute_result",
          "data": {
            "text/plain": [
              "Australia                46\n",
              "Bangladesh               38\n",
              "Bermuda                   5\n",
              "England                  48\n",
              "Guernsey                  2\n",
              "Hong Kong                 2\n",
              "India                    51\n",
              "Ireland                  16\n",
              "Kenya                     5\n",
              "Malaysia                 15\n",
              "Namibia                   4\n",
              "Nepal                     3\n",
              "Netherlands              12\n",
              "New Zealand              70\n",
              "Oman                      7\n",
              "Pakistan                 18\n",
              "Papua New Guinea          4\n",
              "Romania                   3\n",
              "Scotland                  5\n",
              "Singapore                 6\n",
              "South Africa             62\n",
              "Sri Lanka                42\n",
              "Thailand                  4\n",
              "Uganda                    4\n",
              "United Arab Emirates     27\n",
              "West Indies              43\n",
              "Zimbabwe                 24\n",
              "none                    405\n",
              "Name: home_team, dtype: int64"
            ]
          },
          "metadata": {
            "tags": []
          },
          "execution_count": 445
        }
      ]
    },
    {
      "cell_type": "code",
      "metadata": {
        "id": "MMJGQuttkJ3m"
      },
      "source": [
        "#ipl_2['venue'] = ipl_2['venue'].replace('M Chinnaswamy Stadium', 'M. Chinnaswamy Stadium')\n",
        "#ipl_2['venue'].value_counts().sort_index()"
      ],
      "execution_count": 446,
      "outputs": []
    },
    {
      "cell_type": "code",
      "metadata": {
        "colab": {
          "base_uri": "https://localhost:8080/"
        },
        "id": "r2P9mVTwQK2Q",
        "outputId": "fee8d769-bd4b-4733-b790-d398b60c240b"
      },
      "source": [
        "t2['team_1'].value_counts().sort_index()"
      ],
      "execution_count": 447,
      "outputs": [
        {
          "output_type": "execute_result",
          "data": {
            "text/plain": [
              "Afghanistan                 62\n",
              "Australia                   80\n",
              "Bahrain                      1\n",
              "Bangladesh                  56\n",
              "Bermuda                     10\n",
              "Bhutan                       1\n",
              "Botswana                     2\n",
              "Bulgaria                     2\n",
              "Canada                      19\n",
              "Cayman Islands               2\n",
              "Denmark                      5\n",
              "England                     70\n",
              "Germany                      3\n",
              "Ghana                        3\n",
              "Guernsey                     4\n",
              "Hong Kong                   27\n",
              "India                       77\n",
              "Iran                         1\n",
              "Ireland                     43\n",
              "Isle of Man                  1\n",
              "Italy                        1\n",
              "Jersey                       3\n",
              "Kenya                       16\n",
              "Kuwait                       5\n",
              "Malaysia                    17\n",
              "Maldives                     3\n",
              "Namibia                     10\n",
              "Nepal                       10\n",
              "Netherlands                 28\n",
              "New Zealand                 81\n",
              "Nigeria                      1\n",
              "Oman                        10\n",
              "Pakistan                    57\n",
              "Papua New Guinea             5\n",
              "Philippines                  3\n",
              "Qatar                        1\n",
              "Romania                      1\n",
              "Saudi Arabia                 1\n",
              "Scotland                     7\n",
              "Singapore                    6\n",
              "South Africa                69\n",
              "Sri Lanka                   51\n",
              "Thailand                     4\n",
              "Uganda                       4\n",
              "United Arab Emirates        27\n",
              "United States of America     2\n",
              "West Indies                 51\n",
              "Zimbabwe                    28\n",
              "Name: team_1, dtype: int64"
            ]
          },
          "metadata": {
            "tags": []
          },
          "execution_count": 447
        }
      ]
    },
    {
      "cell_type": "code",
      "metadata": {
        "colab": {
          "base_uri": "https://localhost:8080/"
        },
        "id": "g6g_ImW-Tsyq",
        "outputId": "faea097f-4430-4340-ad47-fecd9e22651a"
      },
      "source": [
        "t2['team_2'].value_counts().sort_index()"
      ],
      "execution_count": 448,
      "outputs": [
        {
          "output_type": "execute_result",
          "data": {
            "text/plain": [
              "Afghanistan                  16\n",
              "Australia                    56\n",
              "Bahrain                       1\n",
              "Bangladesh                   35\n",
              "Bermuda                       2\n",
              "Bhutan                        1\n",
              "Botswana                      5\n",
              "Bulgaria                      1\n",
              "Canada                        2\n",
              "Cayman Islands                4\n",
              "Denmark                       1\n",
              "England                      61\n",
              "Germany                       2\n",
              "Ghana                         1\n",
              "Guernsey                      2\n",
              "Hong Kong                    15\n",
              "India                        63\n",
              "Ireland                      43\n",
              "Italy                         3\n",
              "Jersey                        7\n",
              "Kenya                        12\n",
              "Kuwait                        1\n",
              "Malaysia                      5\n",
              "Maldives                      4\n",
              "Namibia                       6\n",
              "Nepal                        21\n",
              "Netherlands                  36\n",
              "New Zealand                  61\n",
              "Nigeria                       7\n",
              "Norway                        4\n",
              "Oman                         21\n",
              "Pakistan                    100\n",
              "Papua New Guinea             15\n",
              "Philippines                   1\n",
              "Qatar                         5\n",
              "Romania                       2\n",
              "Scotland                     42\n",
              "Singapore                     9\n",
              "South Africa                 57\n",
              "Sri Lanka                    77\n",
              "Thailand                      4\n",
              "United Arab Emirates         18\n",
              "United States of America      6\n",
              "Vanuatu                       9\n",
              "West Indies                  78\n",
              "Zimbabwe                     49\n",
              "Name: team_2, dtype: int64"
            ]
          },
          "metadata": {
            "tags": []
          },
          "execution_count": 448
        }
      ]
    },
    {
      "cell_type": "code",
      "metadata": {
        "colab": {
          "base_uri": "https://localhost:8080/"
        },
        "id": "cY1j1c6Kl7aa",
        "outputId": "31447727-d323-497b-c71c-1b7687ecbce6"
      },
      "source": [
        "t2['toss_winner'].value_counts().sort_index()"
      ],
      "execution_count": 449,
      "outputs": [
        {
          "output_type": "execute_result",
          "data": {
            "text/plain": [
              "Afghanistan                 39\n",
              "Australia                   73\n",
              "Bahrain                      1\n",
              "Bangladesh                  48\n",
              "Bermuda                      5\n",
              "Bhutan                       1\n",
              "Botswana                     5\n",
              "Bulgaria                     2\n",
              "Canada                      10\n",
              "Cayman Islands               3\n",
              "Denmark                      4\n",
              "England                     66\n",
              "Germany                      4\n",
              "Ghana                        3\n",
              "Guernsey                     3\n",
              "Hong Kong                   22\n",
              "India                       64\n",
              "Ireland                     48\n",
              "Isle of Man                  1\n",
              "Italy                        2\n",
              "Jersey                       4\n",
              "Kenya                       14\n",
              "Kuwait                       2\n",
              "Malaysia                    14\n",
              "Maldives                     1\n",
              "Namibia                      7\n",
              "Nepal                       13\n",
              "Netherlands                 33\n",
              "New Zealand                 69\n",
              "Nigeria                      4\n",
              "Oman                        18\n",
              "Pakistan                    79\n",
              "Papua New Guinea            11\n",
              "Philippines                  1\n",
              "Qatar                        2\n",
              "Romania                      1\n",
              "Scotland                    19\n",
              "Singapore                   10\n",
              "South Africa                60\n",
              "Sri Lanka                   58\n",
              "Thailand                     7\n",
              "United Arab Emirates        25\n",
              "United States of America     3\n",
              "Vanuatu                      6\n",
              "West Indies                 67\n",
              "Zimbabwe                    39\n",
              "Name: toss_winner, dtype: int64"
            ]
          },
          "metadata": {
            "tags": []
          },
          "execution_count": 449
        }
      ]
    },
    {
      "cell_type": "code",
      "metadata": {
        "colab": {
          "base_uri": "https://localhost:8080/"
        },
        "id": "yFwuU1yKT2E-",
        "outputId": "0565655d-04f0-42ce-a0f8-7e91dec169c0"
      },
      "source": [
        "t2['toss_decision'].value_counts().sort_index()"
      ],
      "execution_count": 450,
      "outputs": [
        {
          "output_type": "execute_result",
          "data": {
            "text/plain": [
              "bat      472\n",
              "field    499\n",
              "Name: toss_decision, dtype: int64"
            ]
          },
          "metadata": {
            "tags": []
          },
          "execution_count": 450
        }
      ]
    },
    {
      "cell_type": "code",
      "metadata": {
        "colab": {
          "base_uri": "https://localhost:8080/"
        },
        "id": "e5AWH9OoVD9v",
        "outputId": "98421d96-0699-4f93-bb2c-1372b7c63e2c"
      },
      "source": [
        "t2['umpire_1'].value_counts().sort_index()"
      ],
      "execution_count": 451,
      "outputs": [
        {
          "output_type": "execute_result",
          "data": {
            "text/plain": [
              "A Kapa            3\n",
              "A Louw            3\n",
              "A Paleker        19\n",
              "AG Wharf          6\n",
              "AJ Neill          2\n",
              "                 ..\n",
              "V Kalidas        11\n",
              "VA Kulkarni      10\n",
              "Vinod Babu        2\n",
              "WPM van Liemt     1\n",
              "Zaidan Taha       2\n",
              "Name: umpire_1, Length: 147, dtype: int64"
            ]
          },
          "metadata": {
            "tags": []
          },
          "execution_count": 451
        }
      ]
    },
    {
      "cell_type": "code",
      "metadata": {
        "colab": {
          "base_uri": "https://localhost:8080/"
        },
        "id": "hpAs3IOvVDqT",
        "outputId": "d046f176-6b83-4451-d1c6-10fcfaf1c89d"
      },
      "source": [
        "t2['umpire_2'].value_counts().sort_index()"
      ],
      "execution_count": 452,
      "outputs": [
        {
          "output_type": "execute_result",
          "data": {
            "text/plain": [
              "A Begg            1\n",
              "A Louw            1\n",
              "A Natarajan       2\n",
              "A Paleker         1\n",
              "AG Wharf         14\n",
              "                 ..\n",
              "VK Sharma         2\n",
              "Vinod Babu        3\n",
              "WPM van Liemt     2\n",
              "WR Knights       23\n",
              "Zameer Haider    12\n",
              "Name: umpire_2, Length: 152, dtype: int64"
            ]
          },
          "metadata": {
            "tags": []
          },
          "execution_count": 452
        }
      ]
    },
    {
      "cell_type": "code",
      "metadata": {
        "colab": {
          "base_uri": "https://localhost:8080/"
        },
        "id": "zPNm6C5DU0GW",
        "outputId": "f82893ed-288c-4686-8060-055018c272cb"
      },
      "source": [
        "t2['match_winner'].value_counts().sort_index()"
      ],
      "execution_count": 453,
      "outputs": [
        {
          "output_type": "execute_result",
          "data": {
            "text/plain": [
              "Afghanistan                 54\n",
              "Australia                   72\n",
              "Bahrain                      1\n",
              "Bangladesh                  30\n",
              "Bermuda                      5\n",
              "Bulgaria                     1\n",
              "Canada                       8\n",
              "Denmark                      2\n",
              "England                     70\n",
              "Germany                      4\n",
              "Guernsey                     4\n",
              "Hong Kong                   15\n",
              "India                       90\n",
              "Ireland                     39\n",
              "Italy                        2\n",
              "Jersey                       6\n",
              "Kenya                       11\n",
              "Kuwait                       3\n",
              "Malaysia                    12\n",
              "Maldives                     2\n",
              "Namibia                     12\n",
              "Nepal                       16\n",
              "Netherlands                 36\n",
              "New Zealand                 77\n",
              "Nigeria                      2\n",
              "Oman                        14\n",
              "Pakistan                    98\n",
              "Papua New Guinea            13\n",
              "Philippines                  1\n",
              "Qatar                        2\n",
              "Romania                      2\n",
              "Scotland                    23\n",
              "Singapore                    9\n",
              "South Africa                71\n",
              "Sri Lanka                   59\n",
              "Thailand                     1\n",
              "Uganda                       2\n",
              "United Arab Emirates        21\n",
              "United States of America     2\n",
              "Vanuatu                      4\n",
              "West Indies                 58\n",
              "Zimbabwe                    17\n",
              "Name: match_winner, dtype: int64"
            ]
          },
          "metadata": {
            "tags": []
          },
          "execution_count": 453
        }
      ]
    },
    {
      "cell_type": "code",
      "metadata": {
        "colab": {
          "base_uri": "https://localhost:8080/"
        },
        "id": "CamTiqe1qMlk",
        "outputId": "02c6670d-d1c5-440b-d4dc-3e125012bfca"
      },
      "source": [
        "t2.info()"
      ],
      "execution_count": 454,
      "outputs": [
        {
          "output_type": "stream",
          "text": [
            "<class 'pandas.core.frame.DataFrame'>\n",
            "RangeIndex: 971 entries, 0 to 970\n",
            "Data columns (total 11 columns):\n",
            " #   Column         Non-Null Count  Dtype \n",
            "---  ------         --------------  ----- \n",
            " 0   dates          971 non-null    object\n",
            " 1   venue          971 non-null    object\n",
            " 2   city           971 non-null    object\n",
            " 3   home_team      971 non-null    object\n",
            " 4   team_1         971 non-null    object\n",
            " 5   team_2         971 non-null    object\n",
            " 6   toss_winner    971 non-null    object\n",
            " 7   toss_decision  971 non-null    object\n",
            " 8   umpire_1       971 non-null    object\n",
            " 9   umpire_2       971 non-null    object\n",
            " 10  match_winner   971 non-null    object\n",
            "dtypes: object(11)\n",
            "memory usage: 83.6+ KB\n"
          ],
          "name": "stdout"
        }
      ]
    },
    {
      "cell_type": "code",
      "metadata": {
        "colab": {
          "base_uri": "https://localhost:8080/"
        },
        "id": "Rq0I3kyHTwxU",
        "outputId": "440cbf75-2fd0-41c6-dc80-80bf705d5715"
      },
      "source": [
        "t2 = t2.drop_duplicates(keep = 'first')\n",
        "t2.info()"
      ],
      "execution_count": 455,
      "outputs": [
        {
          "output_type": "stream",
          "text": [
            "<class 'pandas.core.frame.DataFrame'>\n",
            "Int64Index: 971 entries, 0 to 970\n",
            "Data columns (total 11 columns):\n",
            " #   Column         Non-Null Count  Dtype \n",
            "---  ------         --------------  ----- \n",
            " 0   dates          971 non-null    object\n",
            " 1   venue          971 non-null    object\n",
            " 2   city           971 non-null    object\n",
            " 3   home_team      971 non-null    object\n",
            " 4   team_1         971 non-null    object\n",
            " 5   team_2         971 non-null    object\n",
            " 6   toss_winner    971 non-null    object\n",
            " 7   toss_decision  971 non-null    object\n",
            " 8   umpire_1       971 non-null    object\n",
            " 9   umpire_2       971 non-null    object\n",
            " 10  match_winner   971 non-null    object\n",
            "dtypes: object(11)\n",
            "memory usage: 91.0+ KB\n"
          ],
          "name": "stdout"
        }
      ]
    },
    {
      "cell_type": "code",
      "metadata": {
        "colab": {
          "base_uri": "https://localhost:8080/"
        },
        "id": "Aq6U4tWu3M1O",
        "outputId": "a447b64d-a284-4142-c204-54ae2e471a52"
      },
      "source": [
        "t2['dates'] = pd.to_datetime(t2['dates'])\n",
        "t2['year'] = t2['dates'].dt.year\n",
        "t2['month'] = t2['dates'].dt.month\n",
        "t2['day'] = t2['dates'].dt.day\n",
        "t2.info()"
      ],
      "execution_count": 456,
      "outputs": [
        {
          "output_type": "stream",
          "text": [
            "<class 'pandas.core.frame.DataFrame'>\n",
            "Int64Index: 971 entries, 0 to 970\n",
            "Data columns (total 14 columns):\n",
            " #   Column         Non-Null Count  Dtype         \n",
            "---  ------         --------------  -----         \n",
            " 0   dates          971 non-null    datetime64[ns]\n",
            " 1   venue          971 non-null    object        \n",
            " 2   city           971 non-null    object        \n",
            " 3   home_team      971 non-null    object        \n",
            " 4   team_1         971 non-null    object        \n",
            " 5   team_2         971 non-null    object        \n",
            " 6   toss_winner    971 non-null    object        \n",
            " 7   toss_decision  971 non-null    object        \n",
            " 8   umpire_1       971 non-null    object        \n",
            " 9   umpire_2       971 non-null    object        \n",
            " 10  match_winner   971 non-null    object        \n",
            " 11  year           971 non-null    int64         \n",
            " 12  month          971 non-null    int64         \n",
            " 13  day            971 non-null    int64         \n",
            "dtypes: datetime64[ns](1), int64(3), object(10)\n",
            "memory usage: 113.8+ KB\n"
          ],
          "name": "stdout"
        }
      ]
    },
    {
      "cell_type": "code",
      "metadata": {
        "colab": {
          "base_uri": "https://localhost:8080/"
        },
        "id": "qc_j8A4k4Ij-",
        "outputId": "c981faf5-1dc3-4167-f486-a006f1ae0149"
      },
      "source": [
        "print(min(t2['dates']))\n",
        "print(max(t2['dates']))"
      ],
      "execution_count": 457,
      "outputs": [
        {
          "output_type": "stream",
          "text": [
            "2005-02-17 00:00:00\n",
            "2021-03-20 00:00:00\n"
          ],
          "name": "stdout"
        }
      ]
    },
    {
      "cell_type": "code",
      "metadata": {
        "colab": {
          "base_uri": "https://localhost:8080/",
          "height": 708
        },
        "id": "oEMKD96a4E1R",
        "outputId": "ca23bdb7-8a97-4833-e3ed-9123eb7a4498"
      },
      "source": [
        "t3 = t2\n",
        "t3 = t3.drop(['dates'], axis = 1)\n",
        "t3"
      ],
      "execution_count": 458,
      "outputs": [
        {
          "output_type": "execute_result",
          "data": {
            "text/html": [
              "<div>\n",
              "<style scoped>\n",
              "    .dataframe tbody tr th:only-of-type {\n",
              "        vertical-align: middle;\n",
              "    }\n",
              "\n",
              "    .dataframe tbody tr th {\n",
              "        vertical-align: top;\n",
              "    }\n",
              "\n",
              "    .dataframe thead th {\n",
              "        text-align: right;\n",
              "    }\n",
              "</style>\n",
              "<table border=\"1\" class=\"dataframe\">\n",
              "  <thead>\n",
              "    <tr style=\"text-align: right;\">\n",
              "      <th></th>\n",
              "      <th>venue</th>\n",
              "      <th>city</th>\n",
              "      <th>home_team</th>\n",
              "      <th>team_1</th>\n",
              "      <th>team_2</th>\n",
              "      <th>toss_winner</th>\n",
              "      <th>toss_decision</th>\n",
              "      <th>umpire_1</th>\n",
              "      <th>umpire_2</th>\n",
              "      <th>match_winner</th>\n",
              "      <th>year</th>\n",
              "      <th>month</th>\n",
              "      <th>day</th>\n",
              "    </tr>\n",
              "  </thead>\n",
              "  <tbody>\n",
              "    <tr>\n",
              "      <th>0</th>\n",
              "      <td>Eden Park</td>\n",
              "      <td>Auckland</td>\n",
              "      <td>New Zealand</td>\n",
              "      <td>New Zealand</td>\n",
              "      <td>Australia</td>\n",
              "      <td>Australia</td>\n",
              "      <td>bat</td>\n",
              "      <td>BF Bowden</td>\n",
              "      <td>AL Hill</td>\n",
              "      <td>Australia</td>\n",
              "      <td>2005</td>\n",
              "      <td>2</td>\n",
              "      <td>17</td>\n",
              "    </tr>\n",
              "    <tr>\n",
              "      <th>1</th>\n",
              "      <td>The Rose Bowl</td>\n",
              "      <td>Southampton</td>\n",
              "      <td>England</td>\n",
              "      <td>England</td>\n",
              "      <td>Australia</td>\n",
              "      <td>England</td>\n",
              "      <td>bat</td>\n",
              "      <td>NJ Llong</td>\n",
              "      <td>JW Lloyds</td>\n",
              "      <td>England</td>\n",
              "      <td>2005</td>\n",
              "      <td>6</td>\n",
              "      <td>13</td>\n",
              "    </tr>\n",
              "    <tr>\n",
              "      <th>2</th>\n",
              "      <td>New Wanderers Stadium</td>\n",
              "      <td>Johannesburg</td>\n",
              "      <td>South Africa</td>\n",
              "      <td>South Africa</td>\n",
              "      <td>New Zealand</td>\n",
              "      <td>New Zealand</td>\n",
              "      <td>field</td>\n",
              "      <td>IL Howell</td>\n",
              "      <td>BG Jerling</td>\n",
              "      <td>New Zealand</td>\n",
              "      <td>2005</td>\n",
              "      <td>10</td>\n",
              "      <td>21</td>\n",
              "    </tr>\n",
              "    <tr>\n",
              "      <th>3</th>\n",
              "      <td>Brisbane Cricket Ground</td>\n",
              "      <td>Brisbane</td>\n",
              "      <td>Australia</td>\n",
              "      <td>Australia</td>\n",
              "      <td>South Africa</td>\n",
              "      <td>Australia</td>\n",
              "      <td>bat</td>\n",
              "      <td>BNJ Oxenford</td>\n",
              "      <td>RL Parry</td>\n",
              "      <td>Australia</td>\n",
              "      <td>2006</td>\n",
              "      <td>1</td>\n",
              "      <td>9</td>\n",
              "    </tr>\n",
              "    <tr>\n",
              "      <th>4</th>\n",
              "      <td>Eden Park</td>\n",
              "      <td>Auckland</td>\n",
              "      <td>New Zealand</td>\n",
              "      <td>West Indies</td>\n",
              "      <td>New Zealand</td>\n",
              "      <td>New Zealand</td>\n",
              "      <td>field</td>\n",
              "      <td>BF Bowden</td>\n",
              "      <td>AL Hill</td>\n",
              "      <td>New Zealand</td>\n",
              "      <td>2006</td>\n",
              "      <td>2</td>\n",
              "      <td>16</td>\n",
              "    </tr>\n",
              "    <tr>\n",
              "      <th>...</th>\n",
              "      <td>...</td>\n",
              "      <td>...</td>\n",
              "      <td>...</td>\n",
              "      <td>...</td>\n",
              "      <td>...</td>\n",
              "      <td>...</td>\n",
              "      <td>...</td>\n",
              "      <td>...</td>\n",
              "      <td>...</td>\n",
              "      <td>...</td>\n",
              "      <td>...</td>\n",
              "      <td>...</td>\n",
              "      <td>...</td>\n",
              "    </tr>\n",
              "    <tr>\n",
              "      <th>966</th>\n",
              "      <td>Sheikh Zayed Stadium</td>\n",
              "      <td>Abu Dhabi</td>\n",
              "      <td>none</td>\n",
              "      <td>Afghanistan</td>\n",
              "      <td>Zimbabwe</td>\n",
              "      <td>Zimbabwe</td>\n",
              "      <td>field</td>\n",
              "      <td>Aleem Dar</td>\n",
              "      <td>Izatullah Safi</td>\n",
              "      <td>Afghanistan</td>\n",
              "      <td>2021</td>\n",
              "      <td>3</td>\n",
              "      <td>17</td>\n",
              "    </tr>\n",
              "    <tr>\n",
              "      <th>967</th>\n",
              "      <td>Narendra Modi Stadium</td>\n",
              "      <td>Ahmedabad</td>\n",
              "      <td>India</td>\n",
              "      <td>India</td>\n",
              "      <td>England</td>\n",
              "      <td>England</td>\n",
              "      <td>field</td>\n",
              "      <td>KN Ananthapadmanabhan</td>\n",
              "      <td>Nitin Menon</td>\n",
              "      <td>India</td>\n",
              "      <td>2021</td>\n",
              "      <td>3</td>\n",
              "      <td>18</td>\n",
              "    </tr>\n",
              "    <tr>\n",
              "      <th>968</th>\n",
              "      <td>Sheikh Zayed Stadium</td>\n",
              "      <td>Abu Dhabi</td>\n",
              "      <td>none</td>\n",
              "      <td>Afghanistan</td>\n",
              "      <td>Zimbabwe</td>\n",
              "      <td>Afghanistan</td>\n",
              "      <td>bat</td>\n",
              "      <td>Ahmed Shah Durrani</td>\n",
              "      <td>Aleem Dar</td>\n",
              "      <td>Afghanistan</td>\n",
              "      <td>2021</td>\n",
              "      <td>3</td>\n",
              "      <td>19</td>\n",
              "    </tr>\n",
              "    <tr>\n",
              "      <th>969</th>\n",
              "      <td>Narendra Modi Stadium</td>\n",
              "      <td>Ahmedabad</td>\n",
              "      <td>India</td>\n",
              "      <td>India</td>\n",
              "      <td>England</td>\n",
              "      <td>England</td>\n",
              "      <td>field</td>\n",
              "      <td>AK Chaudhary</td>\n",
              "      <td>Nitin Menon</td>\n",
              "      <td>India</td>\n",
              "      <td>2021</td>\n",
              "      <td>3</td>\n",
              "      <td>20</td>\n",
              "    </tr>\n",
              "    <tr>\n",
              "      <th>970</th>\n",
              "      <td>Sheikh Zayed Stadium</td>\n",
              "      <td>Abu Dhabi</td>\n",
              "      <td>none</td>\n",
              "      <td>Afghanistan</td>\n",
              "      <td>Zimbabwe</td>\n",
              "      <td>Afghanistan</td>\n",
              "      <td>bat</td>\n",
              "      <td>Aleem Dar</td>\n",
              "      <td>Izatullah Safi</td>\n",
              "      <td>Afghanistan</td>\n",
              "      <td>2021</td>\n",
              "      <td>3</td>\n",
              "      <td>20</td>\n",
              "    </tr>\n",
              "  </tbody>\n",
              "</table>\n",
              "<p>971 rows × 13 columns</p>\n",
              "</div>"
            ],
            "text/plain": [
              "                       venue          city     home_team  ...  year month day\n",
              "0                  Eden Park      Auckland   New Zealand  ...  2005     2  17\n",
              "1              The Rose Bowl   Southampton       England  ...  2005     6  13\n",
              "2      New Wanderers Stadium  Johannesburg  South Africa  ...  2005    10  21\n",
              "3    Brisbane Cricket Ground      Brisbane     Australia  ...  2006     1   9\n",
              "4                  Eden Park      Auckland   New Zealand  ...  2006     2  16\n",
              "..                       ...           ...           ...  ...   ...   ...  ..\n",
              "966     Sheikh Zayed Stadium     Abu Dhabi          none  ...  2021     3  17\n",
              "967    Narendra Modi Stadium     Ahmedabad         India  ...  2021     3  18\n",
              "968     Sheikh Zayed Stadium     Abu Dhabi          none  ...  2021     3  19\n",
              "969    Narendra Modi Stadium     Ahmedabad         India  ...  2021     3  20\n",
              "970     Sheikh Zayed Stadium     Abu Dhabi          none  ...  2021     3  20\n",
              "\n",
              "[971 rows x 13 columns]"
            ]
          },
          "metadata": {
            "tags": []
          },
          "execution_count": 458
        }
      ]
    },
    {
      "cell_type": "code",
      "metadata": {
        "colab": {
          "base_uri": "https://localhost:8080/"
        },
        "id": "TsTpPNds4nmH",
        "outputId": "4c50d1fa-092f-4551-b3b2-1779f7aa9b1d"
      },
      "source": [
        "t3.columns"
      ],
      "execution_count": 459,
      "outputs": [
        {
          "output_type": "execute_result",
          "data": {
            "text/plain": [
              "Index(['venue', 'city', 'home_team', 'team_1', 'team_2', 'toss_winner',\n",
              "       'toss_decision', 'umpire_1', 'umpire_2', 'match_winner', 'year',\n",
              "       'month', 'day'],\n",
              "      dtype='object')"
            ]
          },
          "metadata": {
            "tags": []
          },
          "execution_count": 459
        }
      ]
    },
    {
      "cell_type": "code",
      "metadata": {
        "colab": {
          "base_uri": "https://localhost:8080/",
          "height": 708
        },
        "id": "IENB1m-r4ZRF",
        "outputId": "64200530-9d97-4718-b458-933051651e28"
      },
      "source": [
        "t3 = t3[['year', 'month', 'day', 'city', 'venue', 'home_team', 'team_1', 'team_2', 'toss_winner',\n",
        "       'toss_decision', 'umpire_1', 'umpire_2', 'match_winner']]\n",
        "t3"
      ],
      "execution_count": 460,
      "outputs": [
        {
          "output_type": "execute_result",
          "data": {
            "text/html": [
              "<div>\n",
              "<style scoped>\n",
              "    .dataframe tbody tr th:only-of-type {\n",
              "        vertical-align: middle;\n",
              "    }\n",
              "\n",
              "    .dataframe tbody tr th {\n",
              "        vertical-align: top;\n",
              "    }\n",
              "\n",
              "    .dataframe thead th {\n",
              "        text-align: right;\n",
              "    }\n",
              "</style>\n",
              "<table border=\"1\" class=\"dataframe\">\n",
              "  <thead>\n",
              "    <tr style=\"text-align: right;\">\n",
              "      <th></th>\n",
              "      <th>year</th>\n",
              "      <th>month</th>\n",
              "      <th>day</th>\n",
              "      <th>city</th>\n",
              "      <th>venue</th>\n",
              "      <th>home_team</th>\n",
              "      <th>team_1</th>\n",
              "      <th>team_2</th>\n",
              "      <th>toss_winner</th>\n",
              "      <th>toss_decision</th>\n",
              "      <th>umpire_1</th>\n",
              "      <th>umpire_2</th>\n",
              "      <th>match_winner</th>\n",
              "    </tr>\n",
              "  </thead>\n",
              "  <tbody>\n",
              "    <tr>\n",
              "      <th>0</th>\n",
              "      <td>2005</td>\n",
              "      <td>2</td>\n",
              "      <td>17</td>\n",
              "      <td>Auckland</td>\n",
              "      <td>Eden Park</td>\n",
              "      <td>New Zealand</td>\n",
              "      <td>New Zealand</td>\n",
              "      <td>Australia</td>\n",
              "      <td>Australia</td>\n",
              "      <td>bat</td>\n",
              "      <td>BF Bowden</td>\n",
              "      <td>AL Hill</td>\n",
              "      <td>Australia</td>\n",
              "    </tr>\n",
              "    <tr>\n",
              "      <th>1</th>\n",
              "      <td>2005</td>\n",
              "      <td>6</td>\n",
              "      <td>13</td>\n",
              "      <td>Southampton</td>\n",
              "      <td>The Rose Bowl</td>\n",
              "      <td>England</td>\n",
              "      <td>England</td>\n",
              "      <td>Australia</td>\n",
              "      <td>England</td>\n",
              "      <td>bat</td>\n",
              "      <td>NJ Llong</td>\n",
              "      <td>JW Lloyds</td>\n",
              "      <td>England</td>\n",
              "    </tr>\n",
              "    <tr>\n",
              "      <th>2</th>\n",
              "      <td>2005</td>\n",
              "      <td>10</td>\n",
              "      <td>21</td>\n",
              "      <td>Johannesburg</td>\n",
              "      <td>New Wanderers Stadium</td>\n",
              "      <td>South Africa</td>\n",
              "      <td>South Africa</td>\n",
              "      <td>New Zealand</td>\n",
              "      <td>New Zealand</td>\n",
              "      <td>field</td>\n",
              "      <td>IL Howell</td>\n",
              "      <td>BG Jerling</td>\n",
              "      <td>New Zealand</td>\n",
              "    </tr>\n",
              "    <tr>\n",
              "      <th>3</th>\n",
              "      <td>2006</td>\n",
              "      <td>1</td>\n",
              "      <td>9</td>\n",
              "      <td>Brisbane</td>\n",
              "      <td>Brisbane Cricket Ground</td>\n",
              "      <td>Australia</td>\n",
              "      <td>Australia</td>\n",
              "      <td>South Africa</td>\n",
              "      <td>Australia</td>\n",
              "      <td>bat</td>\n",
              "      <td>BNJ Oxenford</td>\n",
              "      <td>RL Parry</td>\n",
              "      <td>Australia</td>\n",
              "    </tr>\n",
              "    <tr>\n",
              "      <th>4</th>\n",
              "      <td>2006</td>\n",
              "      <td>2</td>\n",
              "      <td>16</td>\n",
              "      <td>Auckland</td>\n",
              "      <td>Eden Park</td>\n",
              "      <td>New Zealand</td>\n",
              "      <td>West Indies</td>\n",
              "      <td>New Zealand</td>\n",
              "      <td>New Zealand</td>\n",
              "      <td>field</td>\n",
              "      <td>BF Bowden</td>\n",
              "      <td>AL Hill</td>\n",
              "      <td>New Zealand</td>\n",
              "    </tr>\n",
              "    <tr>\n",
              "      <th>...</th>\n",
              "      <td>...</td>\n",
              "      <td>...</td>\n",
              "      <td>...</td>\n",
              "      <td>...</td>\n",
              "      <td>...</td>\n",
              "      <td>...</td>\n",
              "      <td>...</td>\n",
              "      <td>...</td>\n",
              "      <td>...</td>\n",
              "      <td>...</td>\n",
              "      <td>...</td>\n",
              "      <td>...</td>\n",
              "      <td>...</td>\n",
              "    </tr>\n",
              "    <tr>\n",
              "      <th>966</th>\n",
              "      <td>2021</td>\n",
              "      <td>3</td>\n",
              "      <td>17</td>\n",
              "      <td>Abu Dhabi</td>\n",
              "      <td>Sheikh Zayed Stadium</td>\n",
              "      <td>none</td>\n",
              "      <td>Afghanistan</td>\n",
              "      <td>Zimbabwe</td>\n",
              "      <td>Zimbabwe</td>\n",
              "      <td>field</td>\n",
              "      <td>Aleem Dar</td>\n",
              "      <td>Izatullah Safi</td>\n",
              "      <td>Afghanistan</td>\n",
              "    </tr>\n",
              "    <tr>\n",
              "      <th>967</th>\n",
              "      <td>2021</td>\n",
              "      <td>3</td>\n",
              "      <td>18</td>\n",
              "      <td>Ahmedabad</td>\n",
              "      <td>Narendra Modi Stadium</td>\n",
              "      <td>India</td>\n",
              "      <td>India</td>\n",
              "      <td>England</td>\n",
              "      <td>England</td>\n",
              "      <td>field</td>\n",
              "      <td>KN Ananthapadmanabhan</td>\n",
              "      <td>Nitin Menon</td>\n",
              "      <td>India</td>\n",
              "    </tr>\n",
              "    <tr>\n",
              "      <th>968</th>\n",
              "      <td>2021</td>\n",
              "      <td>3</td>\n",
              "      <td>19</td>\n",
              "      <td>Abu Dhabi</td>\n",
              "      <td>Sheikh Zayed Stadium</td>\n",
              "      <td>none</td>\n",
              "      <td>Afghanistan</td>\n",
              "      <td>Zimbabwe</td>\n",
              "      <td>Afghanistan</td>\n",
              "      <td>bat</td>\n",
              "      <td>Ahmed Shah Durrani</td>\n",
              "      <td>Aleem Dar</td>\n",
              "      <td>Afghanistan</td>\n",
              "    </tr>\n",
              "    <tr>\n",
              "      <th>969</th>\n",
              "      <td>2021</td>\n",
              "      <td>3</td>\n",
              "      <td>20</td>\n",
              "      <td>Ahmedabad</td>\n",
              "      <td>Narendra Modi Stadium</td>\n",
              "      <td>India</td>\n",
              "      <td>India</td>\n",
              "      <td>England</td>\n",
              "      <td>England</td>\n",
              "      <td>field</td>\n",
              "      <td>AK Chaudhary</td>\n",
              "      <td>Nitin Menon</td>\n",
              "      <td>India</td>\n",
              "    </tr>\n",
              "    <tr>\n",
              "      <th>970</th>\n",
              "      <td>2021</td>\n",
              "      <td>3</td>\n",
              "      <td>20</td>\n",
              "      <td>Abu Dhabi</td>\n",
              "      <td>Sheikh Zayed Stadium</td>\n",
              "      <td>none</td>\n",
              "      <td>Afghanistan</td>\n",
              "      <td>Zimbabwe</td>\n",
              "      <td>Afghanistan</td>\n",
              "      <td>bat</td>\n",
              "      <td>Aleem Dar</td>\n",
              "      <td>Izatullah Safi</td>\n",
              "      <td>Afghanistan</td>\n",
              "    </tr>\n",
              "  </tbody>\n",
              "</table>\n",
              "<p>971 rows × 13 columns</p>\n",
              "</div>"
            ],
            "text/plain": [
              "     year  month  day  ...               umpire_1        umpire_2 match_winner\n",
              "0    2005      2   17  ...              BF Bowden         AL Hill    Australia\n",
              "1    2005      6   13  ...               NJ Llong       JW Lloyds      England\n",
              "2    2005     10   21  ...              IL Howell      BG Jerling  New Zealand\n",
              "3    2006      1    9  ...           BNJ Oxenford        RL Parry    Australia\n",
              "4    2006      2   16  ...              BF Bowden         AL Hill  New Zealand\n",
              "..    ...    ...  ...  ...                    ...             ...          ...\n",
              "966  2021      3   17  ...              Aleem Dar  Izatullah Safi  Afghanistan\n",
              "967  2021      3   18  ...  KN Ananthapadmanabhan     Nitin Menon        India\n",
              "968  2021      3   19  ...     Ahmed Shah Durrani       Aleem Dar  Afghanistan\n",
              "969  2021      3   20  ...           AK Chaudhary     Nitin Menon        India\n",
              "970  2021      3   20  ...              Aleem Dar  Izatullah Safi  Afghanistan\n",
              "\n",
              "[971 rows x 13 columns]"
            ]
          },
          "metadata": {
            "tags": []
          },
          "execution_count": 460
        }
      ]
    },
    {
      "cell_type": "code",
      "metadata": {
        "colab": {
          "base_uri": "https://localhost:8080/"
        },
        "id": "pX4-cy4nj5ZP",
        "outputId": "de2cf949-835c-4a68-914c-321a6d4a906e"
      },
      "source": [
        "t3.columns"
      ],
      "execution_count": 461,
      "outputs": [
        {
          "output_type": "execute_result",
          "data": {
            "text/plain": [
              "Index(['year', 'month', 'day', 'city', 'venue', 'home_team', 'team_1',\n",
              "       'team_2', 'toss_winner', 'toss_decision', 'umpire_1', 'umpire_2',\n",
              "       'match_winner'],\n",
              "      dtype='object')"
            ]
          },
          "metadata": {
            "tags": []
          },
          "execution_count": 461
        }
      ]
    },
    {
      "cell_type": "code",
      "metadata": {
        "colab": {
          "base_uri": "https://localhost:8080/"
        },
        "id": "dVswlTCQjHbH",
        "outputId": "5f189f7f-98ce-4b42-9b55-8e8c18cb71ad"
      },
      "source": [
        "team1 = t3['team_1'].sort_values().unique()\n",
        "team1"
      ],
      "execution_count": 462,
      "outputs": [
        {
          "output_type": "execute_result",
          "data": {
            "text/plain": [
              "array(['Afghanistan', 'Australia', 'Bahrain', 'Bangladesh', 'Bermuda',\n",
              "       'Bhutan', 'Botswana', 'Bulgaria', 'Canada', 'Cayman Islands',\n",
              "       'Denmark', 'England', 'Germany', 'Ghana', 'Guernsey', 'Hong Kong',\n",
              "       'India', 'Iran', 'Ireland', 'Isle of Man', 'Italy', 'Jersey',\n",
              "       'Kenya', 'Kuwait', 'Malaysia', 'Maldives', 'Namibia', 'Nepal',\n",
              "       'Netherlands', 'New Zealand', 'Nigeria', 'Oman', 'Pakistan',\n",
              "       'Papua New Guinea', 'Philippines', 'Qatar', 'Romania',\n",
              "       'Saudi Arabia', 'Scotland', 'Singapore', 'South Africa',\n",
              "       'Sri Lanka', 'Thailand', 'Uganda', 'United Arab Emirates',\n",
              "       'United States of America', 'West Indies', 'Zimbabwe'],\n",
              "      dtype=object)"
            ]
          },
          "metadata": {
            "tags": []
          },
          "execution_count": 462
        }
      ]
    },
    {
      "cell_type": "code",
      "metadata": {
        "colab": {
          "base_uri": "https://localhost:8080/"
        },
        "id": "INSYD1TzjW9E",
        "outputId": "a4c1154e-1437-4bfe-e131-dcc1b419fb13"
      },
      "source": [
        "t3['team_2'].sort_values().unique()"
      ],
      "execution_count": 463,
      "outputs": [
        {
          "output_type": "execute_result",
          "data": {
            "text/plain": [
              "array(['Afghanistan', 'Australia', 'Bahrain', 'Bangladesh', 'Bermuda',\n",
              "       'Bhutan', 'Botswana', 'Bulgaria', 'Canada', 'Cayman Islands',\n",
              "       'Denmark', 'England', 'Germany', 'Ghana', 'Guernsey', 'Hong Kong',\n",
              "       'India', 'Ireland', 'Italy', 'Jersey', 'Kenya', 'Kuwait',\n",
              "       'Malaysia', 'Maldives', 'Namibia', 'Nepal', 'Netherlands',\n",
              "       'New Zealand', 'Nigeria', 'Norway', 'Oman', 'Pakistan',\n",
              "       'Papua New Guinea', 'Philippines', 'Qatar', 'Romania', 'Scotland',\n",
              "       'Singapore', 'South Africa', 'Sri Lanka', 'Thailand',\n",
              "       'United Arab Emirates', 'United States of America', 'Vanuatu',\n",
              "       'West Indies', 'Zimbabwe'], dtype=object)"
            ]
          },
          "metadata": {
            "tags": []
          },
          "execution_count": 463
        }
      ]
    },
    {
      "cell_type": "code",
      "metadata": {
        "colab": {
          "base_uri": "https://localhost:8080/"
        },
        "id": "j0BA3cdFkBxX",
        "outputId": "4c430ed4-257b-4517-d736-6e614d58689b"
      },
      "source": [
        "t3['toss_winner'].sort_values().unique()"
      ],
      "execution_count": 464,
      "outputs": [
        {
          "output_type": "execute_result",
          "data": {
            "text/plain": [
              "array(['Afghanistan', 'Australia', 'Bahrain', 'Bangladesh', 'Bermuda',\n",
              "       'Bhutan', 'Botswana', 'Bulgaria', 'Canada', 'Cayman Islands',\n",
              "       'Denmark', 'England', 'Germany', 'Ghana', 'Guernsey', 'Hong Kong',\n",
              "       'India', 'Ireland', 'Isle of Man', 'Italy', 'Jersey', 'Kenya',\n",
              "       'Kuwait', 'Malaysia', 'Maldives', 'Namibia', 'Nepal',\n",
              "       'Netherlands', 'New Zealand', 'Nigeria', 'Oman', 'Pakistan',\n",
              "       'Papua New Guinea', 'Philippines', 'Qatar', 'Romania', 'Scotland',\n",
              "       'Singapore', 'South Africa', 'Sri Lanka', 'Thailand',\n",
              "       'United Arab Emirates', 'United States of America', 'Vanuatu',\n",
              "       'West Indies', 'Zimbabwe'], dtype=object)"
            ]
          },
          "metadata": {
            "tags": []
          },
          "execution_count": 464
        }
      ]
    },
    {
      "cell_type": "code",
      "metadata": {
        "colab": {
          "base_uri": "https://localhost:8080/"
        },
        "id": "IJRAxxqUj__n",
        "outputId": "e80ba8f7-7cd4-4095-8b75-800cf79e6153"
      },
      "source": [
        "winner = t3['match_winner'].sort_values().unique()\n",
        "winner"
      ],
      "execution_count": 465,
      "outputs": [
        {
          "output_type": "execute_result",
          "data": {
            "text/plain": [
              "array(['Afghanistan', 'Australia', 'Bahrain', 'Bangladesh', 'Bermuda',\n",
              "       'Bulgaria', 'Canada', 'Denmark', 'England', 'Germany', 'Guernsey',\n",
              "       'Hong Kong', 'India', 'Ireland', 'Italy', 'Jersey', 'Kenya',\n",
              "       'Kuwait', 'Malaysia', 'Maldives', 'Namibia', 'Nepal',\n",
              "       'Netherlands', 'New Zealand', 'Nigeria', 'Oman', 'Pakistan',\n",
              "       'Papua New Guinea', 'Philippines', 'Qatar', 'Romania', 'Scotland',\n",
              "       'Singapore', 'South Africa', 'Sri Lanka', 'Thailand', 'Uganda',\n",
              "       'United Arab Emirates', 'United States of America', 'Vanuatu',\n",
              "       'West Indies', 'Zimbabwe'], dtype=object)"
            ]
          },
          "metadata": {
            "tags": []
          },
          "execution_count": 465
        }
      ]
    },
    {
      "cell_type": "code",
      "metadata": {
        "colab": {
          "base_uri": "https://localhost:8080/"
        },
        "id": "ION0_D85mR2A",
        "outputId": "13d2a7e0-ed5c-4500-85bf-b12384816428"
      },
      "source": [
        "t4 = t3\n",
        "t4.info()"
      ],
      "execution_count": 466,
      "outputs": [
        {
          "output_type": "stream",
          "text": [
            "<class 'pandas.core.frame.DataFrame'>\n",
            "Int64Index: 971 entries, 0 to 970\n",
            "Data columns (total 13 columns):\n",
            " #   Column         Non-Null Count  Dtype \n",
            "---  ------         --------------  ----- \n",
            " 0   year           971 non-null    int64 \n",
            " 1   month          971 non-null    int64 \n",
            " 2   day            971 non-null    int64 \n",
            " 3   city           971 non-null    object\n",
            " 4   venue          971 non-null    object\n",
            " 5   home_team      971 non-null    object\n",
            " 6   team_1         971 non-null    object\n",
            " 7   team_2         971 non-null    object\n",
            " 8   toss_winner    971 non-null    object\n",
            " 9   toss_decision  971 non-null    object\n",
            " 10  umpire_1       971 non-null    object\n",
            " 11  umpire_2       971 non-null    object\n",
            " 12  match_winner   971 non-null    object\n",
            "dtypes: int64(3), object(10)\n",
            "memory usage: 106.2+ KB\n"
          ],
          "name": "stdout"
        }
      ]
    },
    {
      "cell_type": "code",
      "metadata": {
        "colab": {
          "base_uri": "https://localhost:8080/"
        },
        "id": "J454BEsrtX5u",
        "outputId": "3277917b-0728-471f-8111-58cbcdbdc0f4"
      },
      "source": [
        "t4['team_1'].nunique()"
      ],
      "execution_count": 467,
      "outputs": [
        {
          "output_type": "execute_result",
          "data": {
            "text/plain": [
              "48"
            ]
          },
          "metadata": {
            "tags": []
          },
          "execution_count": 467
        }
      ]
    },
    {
      "cell_type": "code",
      "metadata": {
        "colab": {
          "base_uri": "https://localhost:8080/"
        },
        "id": "shes6X8etXj7",
        "outputId": "f5cf1ccc-f3b3-4562-de0c-e2fb3d334383"
      },
      "source": [
        "t4['team_2'].nunique()"
      ],
      "execution_count": 468,
      "outputs": [
        {
          "output_type": "execute_result",
          "data": {
            "text/plain": [
              "46"
            ]
          },
          "metadata": {
            "tags": []
          },
          "execution_count": 468
        }
      ]
    },
    {
      "cell_type": "code",
      "metadata": {
        "colab": {
          "base_uri": "https://localhost:8080/"
        },
        "id": "cxO0_R5GtXR3",
        "outputId": "b1613841-58e6-44d0-db2f-a87c0612451f"
      },
      "source": [
        "t4['toss_winner'].nunique()"
      ],
      "execution_count": 469,
      "outputs": [
        {
          "output_type": "execute_result",
          "data": {
            "text/plain": [
              "46"
            ]
          },
          "metadata": {
            "tags": []
          },
          "execution_count": 469
        }
      ]
    },
    {
      "cell_type": "code",
      "metadata": {
        "colab": {
          "base_uri": "https://localhost:8080/"
        },
        "id": "STCqWYg3r9zs",
        "outputId": "180d6bc3-d604-4917-f046-828ae58ee465"
      },
      "source": [
        "t4['match_winner'].nunique()"
      ],
      "execution_count": 470,
      "outputs": [
        {
          "output_type": "execute_result",
          "data": {
            "text/plain": [
              "42"
            ]
          },
          "metadata": {
            "tags": []
          },
          "execution_count": 470
        }
      ]
    },
    {
      "cell_type": "code",
      "metadata": {
        "colab": {
          "base_uri": "https://localhost:8080/"
        },
        "id": "bCr2uVFItWDp",
        "outputId": "67f81bc1-05cd-4cd3-ca75-5b8a46109c79"
      },
      "source": [
        "t4['match_winner'].value_counts()"
      ],
      "execution_count": 471,
      "outputs": [
        {
          "output_type": "execute_result",
          "data": {
            "text/plain": [
              "Pakistan                    98\n",
              "India                       90\n",
              "New Zealand                 77\n",
              "Australia                   72\n",
              "South Africa                71\n",
              "England                     70\n",
              "Sri Lanka                   59\n",
              "West Indies                 58\n",
              "Afghanistan                 54\n",
              "Ireland                     39\n",
              "Netherlands                 36\n",
              "Bangladesh                  30\n",
              "Scotland                    23\n",
              "United Arab Emirates        21\n",
              "Zimbabwe                    17\n",
              "Nepal                       16\n",
              "Hong Kong                   15\n",
              "Oman                        14\n",
              "Papua New Guinea            13\n",
              "Malaysia                    12\n",
              "Namibia                     12\n",
              "Kenya                       11\n",
              "Singapore                    9\n",
              "Canada                       8\n",
              "Jersey                       6\n",
              "Bermuda                      5\n",
              "Germany                      4\n",
              "Guernsey                     4\n",
              "Vanuatu                      4\n",
              "Kuwait                       3\n",
              "Italy                        2\n",
              "Nigeria                      2\n",
              "Uganda                       2\n",
              "United States of America     2\n",
              "Denmark                      2\n",
              "Qatar                        2\n",
              "Romania                      2\n",
              "Maldives                     2\n",
              "Thailand                     1\n",
              "Philippines                  1\n",
              "Bahrain                      1\n",
              "Bulgaria                     1\n",
              "Name: match_winner, dtype: int64"
            ]
          },
          "metadata": {
            "tags": []
          },
          "execution_count": 471
        }
      ]
    },
    {
      "cell_type": "code",
      "metadata": {
        "colab": {
          "base_uri": "https://localhost:8080/"
        },
        "id": "y13fCh5GDhf9",
        "outputId": "1d401f26-73c7-4b30-e6a5-2df444e81fe1"
      },
      "source": [
        "t4['home_team'].value_counts()"
      ],
      "execution_count": 472,
      "outputs": [
        {
          "output_type": "execute_result",
          "data": {
            "text/plain": [
              "none                    405\n",
              "New Zealand              70\n",
              "South Africa             62\n",
              "India                    51\n",
              "England                  48\n",
              "Australia                46\n",
              "West Indies              43\n",
              "Sri Lanka                42\n",
              "Bangladesh               38\n",
              "United Arab Emirates     27\n",
              "Zimbabwe                 24\n",
              "Pakistan                 18\n",
              "Ireland                  16\n",
              "Malaysia                 15\n",
              "Netherlands              12\n",
              "Oman                      7\n",
              "Singapore                 6\n",
              "Scotland                  5\n",
              "Kenya                     5\n",
              "Bermuda                   5\n",
              "Namibia                   4\n",
              "Uganda                    4\n",
              "Papua New Guinea          4\n",
              "Thailand                  4\n",
              "Romania                   3\n",
              "Nepal                     3\n",
              "Hong Kong                 2\n",
              "Guernsey                  2\n",
              "Name: home_team, dtype: int64"
            ]
          },
          "metadata": {
            "tags": []
          },
          "execution_count": 472
        }
      ]
    },
    {
      "cell_type": "code",
      "metadata": {
        "colab": {
          "base_uri": "https://localhost:8080/"
        },
        "id": "jl5hbuj_ugIQ",
        "outputId": "8b6558a8-6557-4b12-ea57-87fb352e7fbd"
      },
      "source": [
        "neverwon = np.setdiff1d(team1, winner)\n",
        "neverwon"
      ],
      "execution_count": 473,
      "outputs": [
        {
          "output_type": "execute_result",
          "data": {
            "text/plain": [
              "array(['Bhutan', 'Botswana', 'Cayman Islands', 'Ghana', 'Iran',\n",
              "       'Isle of Man', 'Saudi Arabia'], dtype=object)"
            ]
          },
          "metadata": {
            "tags": []
          },
          "execution_count": 473
        }
      ]
    },
    {
      "cell_type": "code",
      "metadata": {
        "colab": {
          "base_uri": "https://localhost:8080/",
          "height": 538
        },
        "id": "xvVAwzIefaoC",
        "outputId": "c6bd11fb-098d-48b0-f7a9-a20da310fdfb"
      },
      "source": [
        "# Creating Dictionaries\n",
        "\n",
        "team_encodings = {\n",
        "    'Pakistan'                    : 98,\n",
        "    'India'                       : 90,\n",
        "    'New Zealand'                 : 77,\n",
        "    'Australia'                   : 72,\n",
        "    'South Africa'                : 71,\n",
        "    'England'                     : 70,\n",
        "    'Sri Lanka'                   : 59,\n",
        "    'West Indies'                 : 58,\n",
        "    'Afghanistan'                 : 54,\n",
        "    'Ireland'                     : 41,\n",
        "    'Netherlands'                 : 40,\n",
        "    'Bangladesh'                  : 39,\n",
        "    'Scotland'                    : 38,\n",
        "    'United Arab Emirates'        : 37,\n",
        "    'Zimbabwe'                    : 36,\n",
        "    'Nepal'                       : 35,\n",
        "    'Hong Kong'                   : 34,\n",
        "    'Oman'                        : 33,\n",
        "    'Papua New Guinea'            : 32,\n",
        "    'Malaysia'                    : 31,\n",
        "    'Namibia'                     : 30,\n",
        "    'Kenya'                       : 29,\n",
        "    'Singapore'                   : 28,\n",
        "    'Canada'                      : 27,\n",
        "    'Jersey'                      : 26,\n",
        "    'Bermuda'                     : 25,\n",
        "    'Germany'                     : 24,\n",
        "    'Guernsey'                    : 23,\n",
        "    'Vanuatu'                     : 22,\n",
        "    'Kuwait'                      : 21,\n",
        "    'Qatar'                       : 20,\n",
        "    'Denmark'                     : 19,\n",
        "    'Romania'                     : 18,\n",
        "    'Italy'                       : 17,\n",
        "    'Maldives'                    : 16,\n",
        "    'Uganda'                      : 15,\n",
        "    'Nigeria'                     : 14,\n",
        "    'United States of America'    : 13,\n",
        "    'Philippines'                 : 12,\n",
        "    'Thailand'                    : 11,    \n",
        "    'Bahrain'                     : 10,    \n",
        "    'Bulgaria'                    : 9,\n",
        "    'Norway'                      : 8,\n",
        "    'Bhutan'                      : 7,\n",
        "    'Botswana'                    : 6,\n",
        "    'Cayman Islands'              : 5,\n",
        "    'Ghana'                       : 4,\n",
        "    'Iran'                        : 3,\n",
        "    'Isle of Man'                 : 2,\n",
        "    'Saudi Arabia'                : 1,\n",
        "    'none'                        : 0\n",
        "}\n",
        "\n",
        "team_encode_dict = {\n",
        "    'all_teams': team_encodings,\n",
        "    'team_1': team_encodings,\n",
        "    'team_2': team_encodings,\n",
        "    'home_team': team_encodings,\n",
        "    'toss_winner': team_encodings,\n",
        "    'match_winner': team_encodings\n",
        "}\n",
        "t4.replace(team_encode_dict, inplace=True)\n",
        "t4"
      ],
      "execution_count": 474,
      "outputs": [
        {
          "output_type": "execute_result",
          "data": {
            "text/html": [
              "<div>\n",
              "<style scoped>\n",
              "    .dataframe tbody tr th:only-of-type {\n",
              "        vertical-align: middle;\n",
              "    }\n",
              "\n",
              "    .dataframe tbody tr th {\n",
              "        vertical-align: top;\n",
              "    }\n",
              "\n",
              "    .dataframe thead th {\n",
              "        text-align: right;\n",
              "    }\n",
              "</style>\n",
              "<table border=\"1\" class=\"dataframe\">\n",
              "  <thead>\n",
              "    <tr style=\"text-align: right;\">\n",
              "      <th></th>\n",
              "      <th>year</th>\n",
              "      <th>month</th>\n",
              "      <th>day</th>\n",
              "      <th>city</th>\n",
              "      <th>venue</th>\n",
              "      <th>home_team</th>\n",
              "      <th>team_1</th>\n",
              "      <th>team_2</th>\n",
              "      <th>toss_winner</th>\n",
              "      <th>toss_decision</th>\n",
              "      <th>umpire_1</th>\n",
              "      <th>umpire_2</th>\n",
              "      <th>match_winner</th>\n",
              "    </tr>\n",
              "  </thead>\n",
              "  <tbody>\n",
              "    <tr>\n",
              "      <th>0</th>\n",
              "      <td>2005</td>\n",
              "      <td>2</td>\n",
              "      <td>17</td>\n",
              "      <td>Auckland</td>\n",
              "      <td>Eden Park</td>\n",
              "      <td>77</td>\n",
              "      <td>77</td>\n",
              "      <td>72</td>\n",
              "      <td>72</td>\n",
              "      <td>bat</td>\n",
              "      <td>BF Bowden</td>\n",
              "      <td>AL Hill</td>\n",
              "      <td>72</td>\n",
              "    </tr>\n",
              "    <tr>\n",
              "      <th>1</th>\n",
              "      <td>2005</td>\n",
              "      <td>6</td>\n",
              "      <td>13</td>\n",
              "      <td>Southampton</td>\n",
              "      <td>The Rose Bowl</td>\n",
              "      <td>70</td>\n",
              "      <td>70</td>\n",
              "      <td>72</td>\n",
              "      <td>70</td>\n",
              "      <td>bat</td>\n",
              "      <td>NJ Llong</td>\n",
              "      <td>JW Lloyds</td>\n",
              "      <td>70</td>\n",
              "    </tr>\n",
              "    <tr>\n",
              "      <th>2</th>\n",
              "      <td>2005</td>\n",
              "      <td>10</td>\n",
              "      <td>21</td>\n",
              "      <td>Johannesburg</td>\n",
              "      <td>New Wanderers Stadium</td>\n",
              "      <td>71</td>\n",
              "      <td>71</td>\n",
              "      <td>77</td>\n",
              "      <td>77</td>\n",
              "      <td>field</td>\n",
              "      <td>IL Howell</td>\n",
              "      <td>BG Jerling</td>\n",
              "      <td>77</td>\n",
              "    </tr>\n",
              "    <tr>\n",
              "      <th>3</th>\n",
              "      <td>2006</td>\n",
              "      <td>1</td>\n",
              "      <td>9</td>\n",
              "      <td>Brisbane</td>\n",
              "      <td>Brisbane Cricket Ground</td>\n",
              "      <td>72</td>\n",
              "      <td>72</td>\n",
              "      <td>71</td>\n",
              "      <td>72</td>\n",
              "      <td>bat</td>\n",
              "      <td>BNJ Oxenford</td>\n",
              "      <td>RL Parry</td>\n",
              "      <td>72</td>\n",
              "    </tr>\n",
              "    <tr>\n",
              "      <th>4</th>\n",
              "      <td>2006</td>\n",
              "      <td>2</td>\n",
              "      <td>16</td>\n",
              "      <td>Auckland</td>\n",
              "      <td>Eden Park</td>\n",
              "      <td>77</td>\n",
              "      <td>58</td>\n",
              "      <td>77</td>\n",
              "      <td>77</td>\n",
              "      <td>field</td>\n",
              "      <td>BF Bowden</td>\n",
              "      <td>AL Hill</td>\n",
              "      <td>77</td>\n",
              "    </tr>\n",
              "    <tr>\n",
              "      <th>...</th>\n",
              "      <td>...</td>\n",
              "      <td>...</td>\n",
              "      <td>...</td>\n",
              "      <td>...</td>\n",
              "      <td>...</td>\n",
              "      <td>...</td>\n",
              "      <td>...</td>\n",
              "      <td>...</td>\n",
              "      <td>...</td>\n",
              "      <td>...</td>\n",
              "      <td>...</td>\n",
              "      <td>...</td>\n",
              "      <td>...</td>\n",
              "    </tr>\n",
              "    <tr>\n",
              "      <th>966</th>\n",
              "      <td>2021</td>\n",
              "      <td>3</td>\n",
              "      <td>17</td>\n",
              "      <td>Abu Dhabi</td>\n",
              "      <td>Sheikh Zayed Stadium</td>\n",
              "      <td>0</td>\n",
              "      <td>54</td>\n",
              "      <td>36</td>\n",
              "      <td>36</td>\n",
              "      <td>field</td>\n",
              "      <td>Aleem Dar</td>\n",
              "      <td>Izatullah Safi</td>\n",
              "      <td>54</td>\n",
              "    </tr>\n",
              "    <tr>\n",
              "      <th>967</th>\n",
              "      <td>2021</td>\n",
              "      <td>3</td>\n",
              "      <td>18</td>\n",
              "      <td>Ahmedabad</td>\n",
              "      <td>Narendra Modi Stadium</td>\n",
              "      <td>90</td>\n",
              "      <td>90</td>\n",
              "      <td>70</td>\n",
              "      <td>70</td>\n",
              "      <td>field</td>\n",
              "      <td>KN Ananthapadmanabhan</td>\n",
              "      <td>Nitin Menon</td>\n",
              "      <td>90</td>\n",
              "    </tr>\n",
              "    <tr>\n",
              "      <th>968</th>\n",
              "      <td>2021</td>\n",
              "      <td>3</td>\n",
              "      <td>19</td>\n",
              "      <td>Abu Dhabi</td>\n",
              "      <td>Sheikh Zayed Stadium</td>\n",
              "      <td>0</td>\n",
              "      <td>54</td>\n",
              "      <td>36</td>\n",
              "      <td>54</td>\n",
              "      <td>bat</td>\n",
              "      <td>Ahmed Shah Durrani</td>\n",
              "      <td>Aleem Dar</td>\n",
              "      <td>54</td>\n",
              "    </tr>\n",
              "    <tr>\n",
              "      <th>969</th>\n",
              "      <td>2021</td>\n",
              "      <td>3</td>\n",
              "      <td>20</td>\n",
              "      <td>Ahmedabad</td>\n",
              "      <td>Narendra Modi Stadium</td>\n",
              "      <td>90</td>\n",
              "      <td>90</td>\n",
              "      <td>70</td>\n",
              "      <td>70</td>\n",
              "      <td>field</td>\n",
              "      <td>AK Chaudhary</td>\n",
              "      <td>Nitin Menon</td>\n",
              "      <td>90</td>\n",
              "    </tr>\n",
              "    <tr>\n",
              "      <th>970</th>\n",
              "      <td>2021</td>\n",
              "      <td>3</td>\n",
              "      <td>20</td>\n",
              "      <td>Abu Dhabi</td>\n",
              "      <td>Sheikh Zayed Stadium</td>\n",
              "      <td>0</td>\n",
              "      <td>54</td>\n",
              "      <td>36</td>\n",
              "      <td>54</td>\n",
              "      <td>bat</td>\n",
              "      <td>Aleem Dar</td>\n",
              "      <td>Izatullah Safi</td>\n",
              "      <td>54</td>\n",
              "    </tr>\n",
              "  </tbody>\n",
              "</table>\n",
              "<p>971 rows × 13 columns</p>\n",
              "</div>"
            ],
            "text/plain": [
              "     year  month  day  ...               umpire_1        umpire_2  match_winner\n",
              "0    2005      2   17  ...              BF Bowden         AL Hill            72\n",
              "1    2005      6   13  ...               NJ Llong       JW Lloyds            70\n",
              "2    2005     10   21  ...              IL Howell      BG Jerling            77\n",
              "3    2006      1    9  ...           BNJ Oxenford        RL Parry            72\n",
              "4    2006      2   16  ...              BF Bowden         AL Hill            77\n",
              "..    ...    ...  ...  ...                    ...             ...           ...\n",
              "966  2021      3   17  ...              Aleem Dar  Izatullah Safi            54\n",
              "967  2021      3   18  ...  KN Ananthapadmanabhan     Nitin Menon            90\n",
              "968  2021      3   19  ...     Ahmed Shah Durrani       Aleem Dar            54\n",
              "969  2021      3   20  ...           AK Chaudhary     Nitin Menon            90\n",
              "970  2021      3   20  ...              Aleem Dar  Izatullah Safi            54\n",
              "\n",
              "[971 rows x 13 columns]"
            ]
          },
          "metadata": {
            "tags": []
          },
          "execution_count": 474
        }
      ]
    },
    {
      "cell_type": "code",
      "metadata": {
        "colab": {
          "base_uri": "https://localhost:8080/"
        },
        "id": "gKm62AW7L_Y8",
        "outputId": "3d041aa5-99c1-49b1-c101-a3be0ae71d49"
      },
      "source": [
        "print(team_encode_dict['all_teams'])"
      ],
      "execution_count": 475,
      "outputs": [
        {
          "output_type": "stream",
          "text": [
            "{'Pakistan': 98, 'India': 90, 'New Zealand': 77, 'Australia': 72, 'South Africa': 71, 'England': 70, 'Sri Lanka': 59, 'West Indies': 58, 'Afghanistan': 54, 'Ireland': 41, 'Netherlands': 40, 'Bangladesh': 39, 'Scotland': 38, 'United Arab Emirates': 37, 'Zimbabwe': 36, 'Nepal': 35, 'Hong Kong': 34, 'Oman': 33, 'Papua New Guinea': 32, 'Malaysia': 31, 'Namibia': 30, 'Kenya': 29, 'Singapore': 28, 'Canada': 27, 'Jersey': 26, 'Bermuda': 25, 'Germany': 24, 'Guernsey': 23, 'Vanuatu': 22, 'Kuwait': 21, 'Qatar': 20, 'Denmark': 19, 'Romania': 18, 'Italy': 17, 'Maldives': 16, 'Uganda': 15, 'Nigeria': 14, 'United States of America': 13, 'Philippines': 12, 'Thailand': 11, 'Bahrain': 10, 'Bulgaria': 9, 'Norway': 8, 'Bhutan': 7, 'Botswana': 6, 'Cayman Islands': 5, 'Ghana': 4, 'Iran': 3, 'Isle of Man': 2, 'Saudi Arabia': 1, 'none': 0}\n"
          ],
          "name": "stdout"
        }
      ]
    },
    {
      "cell_type": "code",
      "metadata": {
        "colab": {
          "base_uri": "https://localhost:8080/"
        },
        "id": "OIz5L21O13iq",
        "outputId": "e821ebda-bc25-4402-85af-a8048b13c231"
      },
      "source": [
        "t4['team_1'].value_counts()"
      ],
      "execution_count": 476,
      "outputs": [
        {
          "output_type": "execute_result",
          "data": {
            "text/plain": [
              "77    81\n",
              "72    80\n",
              "90    77\n",
              "70    70\n",
              "71    69\n",
              "54    62\n",
              "98    57\n",
              "39    56\n",
              "59    51\n",
              "58    51\n",
              "41    43\n",
              "36    28\n",
              "40    28\n",
              "34    27\n",
              "37    27\n",
              "27    19\n",
              "31    17\n",
              "29    16\n",
              "30    10\n",
              "35    10\n",
              "33    10\n",
              "25    10\n",
              "38     7\n",
              "28     6\n",
              "21     5\n",
              "32     5\n",
              "19     5\n",
              "11     4\n",
              "15     4\n",
              "23     4\n",
              "4      3\n",
              "12     3\n",
              "16     3\n",
              "26     3\n",
              "24     3\n",
              "13     2\n",
              "9      2\n",
              "6      2\n",
              "5      2\n",
              "17     1\n",
              "14     1\n",
              "18     1\n",
              "20     1\n",
              "10     1\n",
              "7      1\n",
              "3      1\n",
              "2      1\n",
              "1      1\n",
              "Name: team_1, dtype: int64"
            ]
          },
          "metadata": {
            "tags": []
          },
          "execution_count": 476
        }
      ]
    },
    {
      "cell_type": "code",
      "metadata": {
        "colab": {
          "base_uri": "https://localhost:8080/"
        },
        "id": "fl6siv2V15QS",
        "outputId": "f2538acf-2432-460f-b8bb-438248bc6de0"
      },
      "source": [
        "t4['team_2'].value_counts()"
      ],
      "execution_count": 477,
      "outputs": [
        {
          "output_type": "execute_result",
          "data": {
            "text/plain": [
              "98    100\n",
              "58     78\n",
              "59     77\n",
              "90     63\n",
              "77     61\n",
              "70     61\n",
              "71     57\n",
              "72     56\n",
              "36     49\n",
              "41     43\n",
              "38     42\n",
              "40     36\n",
              "39     35\n",
              "35     21\n",
              "33     21\n",
              "37     18\n",
              "54     16\n",
              "32     15\n",
              "34     15\n",
              "29     12\n",
              "22      9\n",
              "28      9\n",
              "14      7\n",
              "26      7\n",
              "30      6\n",
              "13      6\n",
              "6       5\n",
              "31      5\n",
              "20      5\n",
              "5       4\n",
              "8       4\n",
              "11      4\n",
              "16      4\n",
              "17      3\n",
              "27      2\n",
              "18      2\n",
              "23      2\n",
              "24      2\n",
              "25      2\n",
              "19      1\n",
              "12      1\n",
              "21      1\n",
              "10      1\n",
              "9       1\n",
              "7       1\n",
              "4       1\n",
              "Name: team_2, dtype: int64"
            ]
          },
          "metadata": {
            "tags": []
          },
          "execution_count": 477
        }
      ]
    },
    {
      "cell_type": "code",
      "metadata": {
        "colab": {
          "base_uri": "https://localhost:8080/"
        },
        "id": "chU6eaWmEhf4",
        "outputId": "7cfdd901-72c8-4d37-d438-1431ef11d4de"
      },
      "source": [
        "t4['home_team'].value_counts()"
      ],
      "execution_count": 478,
      "outputs": [
        {
          "output_type": "execute_result",
          "data": {
            "text/plain": [
              "0     405\n",
              "77     70\n",
              "71     62\n",
              "90     51\n",
              "70     48\n",
              "72     46\n",
              "58     43\n",
              "59     42\n",
              "39     38\n",
              "37     27\n",
              "36     24\n",
              "98     18\n",
              "41     16\n",
              "31     15\n",
              "40     12\n",
              "33      7\n",
              "28      6\n",
              "38      5\n",
              "29      5\n",
              "25      5\n",
              "32      4\n",
              "30      4\n",
              "15      4\n",
              "11      4\n",
              "18      3\n",
              "35      3\n",
              "34      2\n",
              "23      2\n",
              "Name: home_team, dtype: int64"
            ]
          },
          "metadata": {
            "tags": []
          },
          "execution_count": 478
        }
      ]
    },
    {
      "cell_type": "code",
      "metadata": {
        "colab": {
          "base_uri": "https://localhost:8080/"
        },
        "id": "O3Y2dKuf143g",
        "outputId": "5d2737ff-8d24-4791-ea0c-a7053cb28be6"
      },
      "source": [
        "t4['toss_winner'].value_counts()"
      ],
      "execution_count": 479,
      "outputs": [
        {
          "output_type": "execute_result",
          "data": {
            "text/plain": [
              "98    79\n",
              "72    73\n",
              "77    69\n",
              "58    67\n",
              "70    66\n",
              "90    64\n",
              "71    60\n",
              "59    58\n",
              "41    48\n",
              "39    48\n",
              "36    39\n",
              "54    39\n",
              "40    33\n",
              "37    25\n",
              "34    22\n",
              "38    19\n",
              "33    18\n",
              "31    14\n",
              "29    14\n",
              "35    13\n",
              "32    11\n",
              "28    10\n",
              "27    10\n",
              "30     7\n",
              "11     7\n",
              "22     6\n",
              "25     5\n",
              "6      5\n",
              "26     4\n",
              "24     4\n",
              "19     4\n",
              "14     4\n",
              "5      3\n",
              "13     3\n",
              "4      3\n",
              "23     3\n",
              "17     2\n",
              "20     2\n",
              "21     2\n",
              "9      2\n",
              "7      1\n",
              "16     1\n",
              "10     1\n",
              "12     1\n",
              "18     1\n",
              "2      1\n",
              "Name: toss_winner, dtype: int64"
            ]
          },
          "metadata": {
            "tags": []
          },
          "execution_count": 479
        }
      ]
    },
    {
      "cell_type": "code",
      "metadata": {
        "colab": {
          "base_uri": "https://localhost:8080/"
        },
        "id": "TdFDhYT714es",
        "outputId": "25157fc9-2ddd-4915-d310-1a26326e7fbf"
      },
      "source": [
        "t4['match_winner'].value_counts()"
      ],
      "execution_count": 480,
      "outputs": [
        {
          "output_type": "execute_result",
          "data": {
            "text/plain": [
              "98    98\n",
              "90    90\n",
              "77    77\n",
              "72    72\n",
              "71    71\n",
              "70    70\n",
              "59    59\n",
              "58    58\n",
              "54    54\n",
              "41    39\n",
              "40    36\n",
              "39    30\n",
              "38    23\n",
              "37    21\n",
              "36    17\n",
              "35    16\n",
              "34    15\n",
              "33    14\n",
              "32    13\n",
              "31    12\n",
              "30    12\n",
              "29    11\n",
              "28     9\n",
              "27     8\n",
              "26     6\n",
              "25     5\n",
              "24     4\n",
              "23     4\n",
              "22     4\n",
              "21     3\n",
              "16     2\n",
              "13     2\n",
              "14     2\n",
              "15     2\n",
              "18     2\n",
              "17     2\n",
              "19     2\n",
              "20     2\n",
              "12     1\n",
              "11     1\n",
              "10     1\n",
              "9      1\n",
              "Name: match_winner, dtype: int64"
            ]
          },
          "metadata": {
            "tags": []
          },
          "execution_count": 480
        }
      ]
    },
    {
      "cell_type": "code",
      "metadata": {
        "colab": {
          "base_uri": "https://localhost:8080/"
        },
        "id": "nEnUEkMWmq_T",
        "outputId": "ba2f827e-3268-46f0-9620-a3bc7d3e2a7a"
      },
      "source": [
        "t4.info()"
      ],
      "execution_count": 481,
      "outputs": [
        {
          "output_type": "stream",
          "text": [
            "<class 'pandas.core.frame.DataFrame'>\n",
            "Int64Index: 971 entries, 0 to 970\n",
            "Data columns (total 13 columns):\n",
            " #   Column         Non-Null Count  Dtype \n",
            "---  ------         --------------  ----- \n",
            " 0   year           971 non-null    int64 \n",
            " 1   month          971 non-null    int64 \n",
            " 2   day            971 non-null    int64 \n",
            " 3   city           971 non-null    object\n",
            " 4   venue          971 non-null    object\n",
            " 5   home_team      971 non-null    int64 \n",
            " 6   team_1         971 non-null    int64 \n",
            " 7   team_2         971 non-null    int64 \n",
            " 8   toss_winner    971 non-null    int64 \n",
            " 9   toss_decision  971 non-null    object\n",
            " 10  umpire_1       971 non-null    object\n",
            " 11  umpire_2       971 non-null    object\n",
            " 12  match_winner   971 non-null    int64 \n",
            "dtypes: int64(8), object(5)\n",
            "memory usage: 106.2+ KB\n"
          ],
          "name": "stdout"
        }
      ]
    },
    {
      "cell_type": "code",
      "metadata": {
        "colab": {
          "base_uri": "https://localhost:8080/",
          "height": 1000
        },
        "id": "0pSpSAVqnfVI",
        "outputId": "c5fc70be-7709-4521-bd0e-d793e62f8038"
      },
      "source": [
        "from sklearn.preprocessing import LabelEncoder\n",
        "\n",
        "ftr_list = ['city', 'venue', 'toss_decision', 'umpire_1', 'umpire_2']\n",
        "encoder = LabelEncoder()\n",
        "for ftr in ftr_list:\n",
        "    t4[ftr] = encoder.fit_transform(t4[ftr])\n",
        "    print(encoder.classes_)\n",
        "\n",
        "t4"
      ],
      "execution_count": 482,
      "outputs": [
        {
          "output_type": "stream",
          "text": [
            "['Abu Dhabi' 'Adelaide' 'Ahmedabad' 'Al Amarat' 'Amstelveen' 'Antigua'\n",
            " 'Auckland' 'Bangalore' 'Bangkok' 'Barbados' 'Basseterre' 'Belfast'\n",
            " 'Birmingham' 'Bloemfontein' 'Bready' 'Brisbane' 'Bristol' 'Bulawayo'\n",
            " 'Canberra' 'Cape Town' 'Cardiff' 'Carrara' 'Castel' 'Centurion'\n",
            " 'Chandigarh' 'Chennai' 'Chester-le-Street' 'Chittagong' 'Christchurch'\n",
            " 'Colombo' 'Coolidge' 'Cuttack' 'Dehradun' 'Delhi' 'Derry' 'Deventer'\n",
            " 'Dhaka' 'Dharamsala' 'Dominica' 'Dubai' 'Dublin' 'Dunedin' 'Durban'\n",
            " 'East London' 'Edinburgh' 'Fatullah' 'Greater Noida' 'Gros Islet'\n",
            " 'Guwahati' 'Guyana' 'Hambantota' 'Hamilton' 'Harare' 'Hobart' 'Hong Kong'\n",
            " 'Hyderabad' 'Indore' 'Jamaica' 'Johannesburg' 'Kampala' 'Kandy' 'Kanpur'\n",
            " 'Karachi' 'Khulna' 'Kimberley' 'King City' 'Kirtipur' 'Kolkata'\n",
            " 'Kuala Lumpur' 'Lahore' 'Lauderhill' 'London' 'Londonderry' 'Lucknow'\n",
            " 'Manchester' 'Melbourne' 'Mirpur' 'Moara Vlasiei' 'Mombasa'\n",
            " 'Mount Maunganui' 'Mumbai' 'Nagpur' 'Nairobi' 'Napier' 'Nelson'\n",
            " 'Nottingham' 'Paarl' 'Perth' 'Port Elizabeth' 'Port Moresby'\n",
            " 'Potchefstroom' 'Providence' 'Pune' 'Rajkot' 'Ranchi' 'Rawalpindi'\n",
            " 'Rotterdam' 'Sharjah' 'Singapore' 'Southampton' 'St Georges' 'St Kitts'\n",
            " 'St Lucia' 'St Peter Port' 'St Vincent' 'Sydney' 'Sylhet' 'Taunton'\n",
            " 'The Hague' 'Thiruvananthapuram' 'Townsville' 'Trinidad' 'Utrecht'\n",
            " 'Victoria' 'Visakhapatnam' 'Wellington' 'Windhoek']\n",
            "['AMI Stadium' 'Adelaide Oval'\n",
            " 'Al Amerat Cricket Ground Oman Cricket Ministry Turf 1'\n",
            " 'Al Amerat Cricket Ground Oman Cricket Ministry Turf 2' 'Amini Park'\n",
            " 'Arnos Vale Ground' 'Arun Jaitley Stadium' 'Barabati Stadium'\n",
            " 'Barsapara Cricket Stadium' 'Bay Oval' 'Beausejour Stadium'\n",
            " 'Bellerive Oval' 'Bermuda National Stadium'\n",
            " 'Bharat Ratna Shri Atal Bihari Vajpayee Ekana Cricket Stadium'\n",
            " 'Boland Park' 'Brabourne Stadium' 'Bready Cricket Club'\n",
            " 'Brisbane Cricket Ground' 'Buffalo Park' 'Carrara Oval'\n",
            " 'Central Broward Regional Park Stadium Turf Ground'\n",
            " 'Civil Service Cricket Club' 'Clontarf Cricket Club Ground'\n",
            " 'College Field' 'Coolidge Cricket Ground' 'County Ground'\n",
            " 'Darren Sammy National Cricket Stadium' 'De Beers Diamond Oval'\n",
            " 'Dr. Y.S. Rajasekhara Reddy ACA-VDCA Cricket Stadium'\n",
            " 'Dubai International Cricket Stadium' 'Eden Gardens' 'Eden Park'\n",
            " 'Edgbaston' 'Feroz Shah Kotla' 'Gaddafi Stadium'\n",
            " 'Grange Cricket Club Ground' 'Greater Noida Sports Complex Ground'\n",
            " 'Green Park' 'Greenfield International Stadium' 'Gymkhana Club Ground'\n",
            " 'Hagley Oval' 'Harare Sports Club' 'Hazelaarweg'\n",
            " 'Himachal Pradesh Cricket Association Stadium' 'Holkar Cricket Stadium'\n",
            " 'ICC Academy' 'ICC Academy Ground No 2' 'ICC Global Cricket Academy'\n",
            " 'Indian Association Ground' 'JSCA International Stadium Complex'\n",
            " 'Jade Stadium' 'Kennington Oval' 'Kensington Oval'\n",
            " 'Khan Shaheb Osman Ali Stadium' 'King George V Sports Ground' 'Kingsmead'\n",
            " 'Kinrara Academy Oval' 'Kyambogo Cricket Oval' 'Lords'\n",
            " 'Lugogo Cricket Oval' 'M Chinnaswamy Stadium' 'M.Chinnaswamy Stadium'\n",
            " 'MA Chidambaram Stadium' 'Maharashtra Cricket Association Stadium'\n",
            " 'Mahinda Rajapaksa International Cricket Stadium' 'Mangaung Oval'\n",
            " 'Manuka Oval' 'Maple Leaf North-West Ground' 'McLean Park'\n",
            " 'Melbourne Cricket Ground' 'Mission Road Ground'\n",
            " 'Moara Vlasiei Cricket Ground' 'Mombasa Sports Club Ground'\n",
            " 'Moses Mabhida Stadium' 'Narendra Modi Stadium'\n",
            " 'National Cricket Stadium' 'National Stadium' 'New Wanderers Stadium'\n",
            " 'Newlands' 'OUTsurance Oval' 'Old Trafford' 'P Sara Oval'\n",
            " 'Pallekele International Cricket Stadium' 'Perth Stadium'\n",
            " 'Providence Stadium' 'Punjab Cricket Association IS Bindra Stadium'\n",
            " 'Punjab Cricket Association Stadium' 'Queens Park Oval'\n",
            " 'Queens Sports Club' 'R Premadasa Stadium' 'R.Premadasa Stadium'\n",
            " 'Rajiv Gandhi International Cricket Stadium'\n",
            " 'Rajiv Gandhi International Stadium' 'Rawalpindi Cricket Stadium'\n",
            " 'Riverside Ground' 'Sabina Park' 'Sardar Patel Stadium'\n",
            " 'Saurashtra Cricket Association Stadium' 'Saxton Oval' 'Seddon Park'\n",
            " 'Senwes Park' 'Sharjah Cricket Stadium' 'Sheikh Abu Naser Stadium'\n",
            " 'Sheikh Zayed Stadium' 'Shere Bangla National Stadium' 'Simonds Stadium'\n",
            " 'Sir Vivian Richards Stadium' 'Sky Stadium' 'Sophia Gardens'\n",
            " 'Sportpark Het Schootsveld' 'Sportpark Maarschalkerweerd'\n",
            " 'Sportpark Westvliet' 'St Georges Park' 'Stadium Australia'\n",
            " 'Subrata Roy Sahara Stadium' 'SuperSport Park' 'Sydney Cricket Ground'\n",
            " 'Sylhet International Cricket Stadium' 'Terdthai Cricket Ground'\n",
            " 'The Rose Bowl' 'The Village' 'The Wanderers Stadium' 'Tolerance Oval'\n",
            " 'Tony Ireland Stadium' 'Trent Bridge'\n",
            " 'Tribhuvan University International Cricket Ground'\n",
            " 'United Cricket Club Ground' 'University Oval' 'VRA Ground'\n",
            " 'Vidarbha Cricket Association Stadium' 'Wanderers Cricket Ground'\n",
            " 'Wankhede Stadium' 'Warner Park'\n",
            " 'Western Australia Cricket Association Ground' 'Westpac Stadium'\n",
            " 'White Hill Field' 'Windsor Park' 'Zahur Ahmed Chowdhury Stadium']\n",
            "['bat' 'field']\n",
            "['A Kapa' 'A Louw' 'A Paleker' 'AG Wharf' 'AJ Neill' 'AJT Dowdalls'\n",
            " 'AK Chaudhary' 'AL Hill' 'AM Saheba' 'AT Holdstock'\n",
            " 'Adriaan van den Dries' 'Afzal Pathan' 'Afzalkhan Pathan'\n",
            " 'Ahmed Shah Durrani' 'Ahmed Shah Pakteen' 'Ahmed Shahab' 'Ahsan Raza'\n",
            " 'Akbar Ali' 'Aleem Dar' 'Anantha Rajamani' 'Anisur Rahman' 'Arif Ansari'\n",
            " 'Asad Rauf' 'Asif Yaqoob' 'B Manikandan' 'BB Pradhan' 'BF Bowden'\n",
            " 'BG Jerling' 'BNJ Oxenford' 'BP Jele' 'BR Doctrove' 'Bismillah Shinwari'\n",
            " 'C Brooks' 'C Shamshuddin' 'CB Gaffaney' 'CK Nandan' 'CM Brown'\n",
            " 'CR Duncan' 'D Odhiambo' 'D Sevakumaran' 'DA Haggo' 'DB Hair' 'DH Mclean'\n",
            " 'DJ Harper' 'Dharmendra Manani' 'EAR de Silva' 'Emmanuel Byiringiro'\n",
            " 'Emmerson Carrington' 'Enamul Haque' 'GA Abood' 'GAV Baxter'\n",
            " 'GO Brathwaite' 'HDPK Dharmasena' 'HE Kearns' 'HKG Jansen'\n",
            " 'Hardeep Jadeja' 'Harikrishna Pillai' 'I Chabi' 'ID Gunawardene'\n",
            " 'IJ Gould' 'IL Howell' 'IN Ramage' 'Iftikhar Ali' 'Imran Mustafa'\n",
            " 'JD Cloete' 'JD Ward' 'JJ Luck' 'JM Williams' 'JS Wilson' 'K Bayney'\n",
            " 'KN Ananthapadmanabhan' 'Kehinde Olanbiwonnu' 'L Poobalan' 'L Rusere'\n",
            " 'LE Hannibal' 'LS Reifer' 'M Burns' 'M Erasmus' 'M Hawthorne' 'MA Gough'\n",
            " 'MD Martell' 'MG Silva' 'MJ Saggers' 'MR Benson' 'Marthinus Louw'\n",
            " 'Masudur Rahman' 'Mathan Kumar' 'N Duguid' 'N Sivan' 'NA Malcolm'\n",
            " 'NG Bagh' 'NJ Llong' 'Nadeem Ghauri' 'Nadir Shah' 'Nasir Ali'\n",
            " 'Nitin Menon' 'O Chirombe' 'P Wilson' 'PA Gustard' 'PD Jones' 'PD Parker'\n",
            " 'PJ Hartley' 'PJ Nero' 'PK Baldwin' 'PR Reiffel' 'R Black' 'R DMello'\n",
            " 'RA Kettleborough' 'RB Tiffin' 'RE Koertzen' 'REJ Martinesz' 'RJ Bailey'\n",
            " 'RJ Tucker' 'RK Illingworth' 'RMPJ Rambukwella' 'RR Wimalasiri'\n",
            " 'RSA Palliyaguruge' 'RT Robinson' 'Rahul Asher' 'Rashid Riaz'\n",
            " 'Riyaz Kurupkar' 'Rizwan Akram' 'Rudy Ismandy' 'S Asnani' 'S George'\n",
            " 'S Ravi' 'SB Haig' 'SD Fry' 'SJ Davis' 'SJ Nogajski' 'SJA Taufel'\n",
            " 'SR Modi' 'SS Hazare' 'SV Sarda' 'Samad Akbar' 'Sarika Prasad'\n",
            " 'Sharfuddoula' 'Shozab Raza' 'Syed Atif Naqvi' 'TJ Matibiri'\n",
            " 'Tabarak Dar' 'Tanvir Ahmed' 'V Kalidas' 'VA Kulkarni' 'Vinod Babu'\n",
            " 'WPM van Liemt' 'Zaidan Taha']\n",
            "['A Begg' 'A Louw' 'A Natarajan' 'A Paleker' 'AG Wharf' 'AJ Neill'\n",
            " 'AK Chaudhary' 'AK Rana' 'AL Hill' 'AM Saheba' 'AT Holdstock'\n",
            " 'Adriaan van den Dries' 'Afzal Pathan' 'Afzalkhan Pathan'\n",
            " 'Ahmed Shah Durrani' 'Ahmed Shah Pakteen' 'Ahsan Raza' 'Akbar Ali'\n",
            " 'Aleem Dar' 'Anisur Rahman' 'Asad Rauf' 'B Manikandan' 'BB Pradhan'\n",
            " 'BF Bowden' 'BG Frost' 'BG Jerling' 'BNJ Oxenford' 'BP Jele'\n",
            " 'BR Doctrove' 'C Shamshuddin' 'C Thorburn' 'CB Gaffaney' 'CK Nandan'\n",
            " 'CR Duncan' 'Claus Schumacher' 'D Odhiambo' 'D Sevakumaran' 'DA Haggo'\n",
            " 'DH Mclean' 'DJ Harper' 'DJ Millns' 'DJ Walker' 'EA Watkin'\n",
            " 'EAR de Silva' 'Emmanuel Byiringiro' 'Emmerson Carrington' 'Enamul Haque'\n",
            " 'GA Abood' 'GO Brathwaite' 'Gazi Sohel' 'H Grewal' 'HDPK Dharmasena'\n",
            " 'HKG Jansen' 'Hardeep Jadeja' 'I Chabi' 'IA De Silva' 'ID Gunawardene'\n",
            " 'IJ Gould' 'IL Howell' 'IN Ramage' 'IO Oyieko' 'Iftikhar Ali'\n",
            " 'Imran Mustafa' 'Izatullah Safi' 'Izmir Azraf' 'JD Cloete' 'JD Ward'\n",
            " 'JM Williams' 'JS Wilson' 'JW Lloyds' 'KH Hurter' 'KN Ananthapadmanabhan'\n",
            " 'Kehinde Olanbiwonnu' 'L Rusere' 'LE Hannibal' 'LS Reifer' 'M Burns'\n",
            " 'M Erasmus' 'M Hawthorne' 'M Savage' 'MA Gough' 'MD Martell' 'MR Benson'\n",
            " 'MV Waldron' 'Marthinus Louw' 'Masudur Rahman' 'Mathan Kumar'\n",
            " 'Mohammed Younis' 'N Duguid' 'N Sivan' 'NA Malcolm' 'NJ Llong'\n",
            " 'Nadeem Ghauri' 'Nadir Shah' 'Nitin Menon' 'P Wilson' 'PA Gustard'\n",
            " 'PA Reynolds' 'PD Jones' 'PD Parker' 'PJ Hartley' 'PJ Nero' 'PK Baldwin'\n",
            " 'PR Reiffel' 'R Black' 'RA Kettleborough' 'RB Tiffin' 'RE Koertzen'\n",
            " 'REJ Martinesz' 'RJ Bailey' 'RJ Tucker' 'RK Illingworth' 'RL Parry'\n",
            " 'RMPJ Rambukwella' 'RP Smith' 'RR Wimalasiri' 'RSA Palliyaguruge'\n",
            " 'RT Robinson' 'Rabiul Hoque' 'Rahat Ali Chaudhry' 'Rahul Asher'\n",
            " 'Rashid Riaz' 'Rizwan Akram' 'S George' 'S Ravi' 'SAJ Craig' 'SB Haig'\n",
            " 'SD Fry' 'SJ Davis' 'SJ Nogajski' 'SJA Taufel' 'SK Tarapore' 'SL Shastri'\n",
            " 'SR Modi' 'Sanjay Gurung' 'Sarika Prasad' 'Sharfuddoula' 'Shiju Sam'\n",
            " 'Shozab Raza' 'T Senthil Kumar' 'TH Wijewardene' 'TJ Matibiri'\n",
            " 'Tabarak Dar' 'Tanvir Ahmed' 'Taranjeet Singh' 'V Kalidas' 'VA Kulkarni'\n",
            " 'VK Sharma' 'Vinod Babu' 'WPM van Liemt' 'WR Knights' 'Zameer Haider']\n"
          ],
          "name": "stdout"
        },
        {
          "output_type": "execute_result",
          "data": {
            "text/html": [
              "<div>\n",
              "<style scoped>\n",
              "    .dataframe tbody tr th:only-of-type {\n",
              "        vertical-align: middle;\n",
              "    }\n",
              "\n",
              "    .dataframe tbody tr th {\n",
              "        vertical-align: top;\n",
              "    }\n",
              "\n",
              "    .dataframe thead th {\n",
              "        text-align: right;\n",
              "    }\n",
              "</style>\n",
              "<table border=\"1\" class=\"dataframe\">\n",
              "  <thead>\n",
              "    <tr style=\"text-align: right;\">\n",
              "      <th></th>\n",
              "      <th>year</th>\n",
              "      <th>month</th>\n",
              "      <th>day</th>\n",
              "      <th>city</th>\n",
              "      <th>venue</th>\n",
              "      <th>home_team</th>\n",
              "      <th>team_1</th>\n",
              "      <th>team_2</th>\n",
              "      <th>toss_winner</th>\n",
              "      <th>toss_decision</th>\n",
              "      <th>umpire_1</th>\n",
              "      <th>umpire_2</th>\n",
              "      <th>match_winner</th>\n",
              "    </tr>\n",
              "  </thead>\n",
              "  <tbody>\n",
              "    <tr>\n",
              "      <th>0</th>\n",
              "      <td>2005</td>\n",
              "      <td>2</td>\n",
              "      <td>17</td>\n",
              "      <td>6</td>\n",
              "      <td>31</td>\n",
              "      <td>77</td>\n",
              "      <td>77</td>\n",
              "      <td>72</td>\n",
              "      <td>72</td>\n",
              "      <td>0</td>\n",
              "      <td>26</td>\n",
              "      <td>8</td>\n",
              "      <td>72</td>\n",
              "    </tr>\n",
              "    <tr>\n",
              "      <th>1</th>\n",
              "      <td>2005</td>\n",
              "      <td>6</td>\n",
              "      <td>13</td>\n",
              "      <td>99</td>\n",
              "      <td>119</td>\n",
              "      <td>70</td>\n",
              "      <td>70</td>\n",
              "      <td>72</td>\n",
              "      <td>70</td>\n",
              "      <td>0</td>\n",
              "      <td>91</td>\n",
              "      <td>69</td>\n",
              "      <td>70</td>\n",
              "    </tr>\n",
              "    <tr>\n",
              "      <th>2</th>\n",
              "      <td>2005</td>\n",
              "      <td>10</td>\n",
              "      <td>21</td>\n",
              "      <td>58</td>\n",
              "      <td>77</td>\n",
              "      <td>71</td>\n",
              "      <td>71</td>\n",
              "      <td>77</td>\n",
              "      <td>77</td>\n",
              "      <td>1</td>\n",
              "      <td>60</td>\n",
              "      <td>25</td>\n",
              "      <td>77</td>\n",
              "    </tr>\n",
              "    <tr>\n",
              "      <th>3</th>\n",
              "      <td>2006</td>\n",
              "      <td>1</td>\n",
              "      <td>9</td>\n",
              "      <td>15</td>\n",
              "      <td>17</td>\n",
              "      <td>72</td>\n",
              "      <td>72</td>\n",
              "      <td>71</td>\n",
              "      <td>72</td>\n",
              "      <td>0</td>\n",
              "      <td>28</td>\n",
              "      <td>112</td>\n",
              "      <td>72</td>\n",
              "    </tr>\n",
              "    <tr>\n",
              "      <th>4</th>\n",
              "      <td>2006</td>\n",
              "      <td>2</td>\n",
              "      <td>16</td>\n",
              "      <td>6</td>\n",
              "      <td>31</td>\n",
              "      <td>77</td>\n",
              "      <td>58</td>\n",
              "      <td>77</td>\n",
              "      <td>77</td>\n",
              "      <td>1</td>\n",
              "      <td>26</td>\n",
              "      <td>8</td>\n",
              "      <td>77</td>\n",
              "    </tr>\n",
              "    <tr>\n",
              "      <th>...</th>\n",
              "      <td>...</td>\n",
              "      <td>...</td>\n",
              "      <td>...</td>\n",
              "      <td>...</td>\n",
              "      <td>...</td>\n",
              "      <td>...</td>\n",
              "      <td>...</td>\n",
              "      <td>...</td>\n",
              "      <td>...</td>\n",
              "      <td>...</td>\n",
              "      <td>...</td>\n",
              "      <td>...</td>\n",
              "      <td>...</td>\n",
              "    </tr>\n",
              "    <tr>\n",
              "      <th>966</th>\n",
              "      <td>2021</td>\n",
              "      <td>3</td>\n",
              "      <td>17</td>\n",
              "      <td>0</td>\n",
              "      <td>103</td>\n",
              "      <td>0</td>\n",
              "      <td>54</td>\n",
              "      <td>36</td>\n",
              "      <td>36</td>\n",
              "      <td>1</td>\n",
              "      <td>18</td>\n",
              "      <td>63</td>\n",
              "      <td>54</td>\n",
              "    </tr>\n",
              "    <tr>\n",
              "      <th>967</th>\n",
              "      <td>2021</td>\n",
              "      <td>3</td>\n",
              "      <td>18</td>\n",
              "      <td>2</td>\n",
              "      <td>74</td>\n",
              "      <td>90</td>\n",
              "      <td>90</td>\n",
              "      <td>70</td>\n",
              "      <td>70</td>\n",
              "      <td>1</td>\n",
              "      <td>70</td>\n",
              "      <td>94</td>\n",
              "      <td>90</td>\n",
              "    </tr>\n",
              "    <tr>\n",
              "      <th>968</th>\n",
              "      <td>2021</td>\n",
              "      <td>3</td>\n",
              "      <td>19</td>\n",
              "      <td>0</td>\n",
              "      <td>103</td>\n",
              "      <td>0</td>\n",
              "      <td>54</td>\n",
              "      <td>36</td>\n",
              "      <td>54</td>\n",
              "      <td>0</td>\n",
              "      <td>13</td>\n",
              "      <td>18</td>\n",
              "      <td>54</td>\n",
              "    </tr>\n",
              "    <tr>\n",
              "      <th>969</th>\n",
              "      <td>2021</td>\n",
              "      <td>3</td>\n",
              "      <td>20</td>\n",
              "      <td>2</td>\n",
              "      <td>74</td>\n",
              "      <td>90</td>\n",
              "      <td>90</td>\n",
              "      <td>70</td>\n",
              "      <td>70</td>\n",
              "      <td>1</td>\n",
              "      <td>6</td>\n",
              "      <td>94</td>\n",
              "      <td>90</td>\n",
              "    </tr>\n",
              "    <tr>\n",
              "      <th>970</th>\n",
              "      <td>2021</td>\n",
              "      <td>3</td>\n",
              "      <td>20</td>\n",
              "      <td>0</td>\n",
              "      <td>103</td>\n",
              "      <td>0</td>\n",
              "      <td>54</td>\n",
              "      <td>36</td>\n",
              "      <td>54</td>\n",
              "      <td>0</td>\n",
              "      <td>18</td>\n",
              "      <td>63</td>\n",
              "      <td>54</td>\n",
              "    </tr>\n",
              "  </tbody>\n",
              "</table>\n",
              "<p>971 rows × 13 columns</p>\n",
              "</div>"
            ],
            "text/plain": [
              "     year  month  day  city  ...  toss_decision  umpire_1  umpire_2  match_winner\n",
              "0    2005      2   17     6  ...              0        26         8            72\n",
              "1    2005      6   13    99  ...              0        91        69            70\n",
              "2    2005     10   21    58  ...              1        60        25            77\n",
              "3    2006      1    9    15  ...              0        28       112            72\n",
              "4    2006      2   16     6  ...              1        26         8            77\n",
              "..    ...    ...  ...   ...  ...            ...       ...       ...           ...\n",
              "966  2021      3   17     0  ...              1        18        63            54\n",
              "967  2021      3   18     2  ...              1        70        94            90\n",
              "968  2021      3   19     0  ...              0        13        18            54\n",
              "969  2021      3   20     2  ...              1         6        94            90\n",
              "970  2021      3   20     0  ...              0        18        63            54\n",
              "\n",
              "[971 rows x 13 columns]"
            ]
          },
          "metadata": {
            "tags": []
          },
          "execution_count": 482
        }
      ]
    },
    {
      "cell_type": "code",
      "metadata": {
        "colab": {
          "base_uri": "https://localhost:8080/"
        },
        "id": "beGKS4vsn6sx",
        "outputId": "925da298-627c-4ed7-a732-9f8100c2db76"
      },
      "source": [
        "t4.info()"
      ],
      "execution_count": 483,
      "outputs": [
        {
          "output_type": "stream",
          "text": [
            "<class 'pandas.core.frame.DataFrame'>\n",
            "Int64Index: 971 entries, 0 to 970\n",
            "Data columns (total 13 columns):\n",
            " #   Column         Non-Null Count  Dtype\n",
            "---  ------         --------------  -----\n",
            " 0   year           971 non-null    int64\n",
            " 1   month          971 non-null    int64\n",
            " 2   day            971 non-null    int64\n",
            " 3   city           971 non-null    int64\n",
            " 4   venue          971 non-null    int64\n",
            " 5   home_team      971 non-null    int64\n",
            " 6   team_1         971 non-null    int64\n",
            " 7   team_2         971 non-null    int64\n",
            " 8   toss_winner    971 non-null    int64\n",
            " 9   toss_decision  971 non-null    int64\n",
            " 10  umpire_1       971 non-null    int64\n",
            " 11  umpire_2       971 non-null    int64\n",
            " 12  match_winner   971 non-null    int64\n",
            "dtypes: int64(13)\n",
            "memory usage: 106.2 KB\n"
          ],
          "name": "stdout"
        }
      ]
    },
    {
      "cell_type": "code",
      "metadata": {
        "colab": {
          "base_uri": "https://localhost:8080/",
          "height": 1000
        },
        "id": "fdUfRVDun_nd",
        "outputId": "a633b775-a7af-4cd4-d262-5dcd09f926f1"
      },
      "source": [
        "t4.hist(figsize = (20,20))"
      ],
      "execution_count": 484,
      "outputs": [
        {
          "output_type": "execute_result",
          "data": {
            "text/plain": [
              "array([[<matplotlib.axes._subplots.AxesSubplot object at 0x7fa826773250>,\n",
              "        <matplotlib.axes._subplots.AxesSubplot object at 0x7fa82676ae50>,\n",
              "        <matplotlib.axes._subplots.AxesSubplot object at 0x7fa825e5c650>,\n",
              "        <matplotlib.axes._subplots.AxesSubplot object at 0x7fa827fe0d90>],\n",
              "       [<matplotlib.axes._subplots.AxesSubplot object at 0x7fa825ebc510>,\n",
              "        <matplotlib.axes._subplots.AxesSubplot object at 0x7fa825eb4b50>,\n",
              "        <matplotlib.axes._subplots.AxesSubplot object at 0x7fa825f80e50>,\n",
              "        <matplotlib.axes._subplots.AxesSubplot object at 0x7fa82737e350>],\n",
              "       [<matplotlib.axes._subplots.AxesSubplot object at 0x7fa82737e390>,\n",
              "        <matplotlib.axes._subplots.AxesSubplot object at 0x7fa827dd9950>,\n",
              "        <matplotlib.axes._subplots.AxesSubplot object at 0x7fa826d90310>,\n",
              "        <matplotlib.axes._subplots.AxesSubplot object at 0x7fa82698f850>],\n",
              "       [<matplotlib.axes._subplots.AxesSubplot object at 0x7fa825e8fdd0>,\n",
              "        <matplotlib.axes._subplots.AxesSubplot object at 0x7fa826893390>,\n",
              "        <matplotlib.axes._subplots.AxesSubplot object at 0x7fa827eab950>,\n",
              "        <matplotlib.axes._subplots.AxesSubplot object at 0x7fa827ee2e10>]],\n",
              "      dtype=object)"
            ]
          },
          "metadata": {
            "tags": []
          },
          "execution_count": 484
        },
        {
          "output_type": "display_data",
          "data": {
            "image/png": "[encoded data removed]",
            "text/plain": [
              "<Figure size 1440x1440 with 16 Axes>"
            ]
          },
          "metadata": {
            "tags": []
          }
        }
      ]
    },
    {
      "cell_type": "code",
      "metadata": {
        "colab": {
          "base_uri": "https://localhost:8080/",
          "height": 502
        },
        "id": "ftly2ZHspHgi",
        "outputId": "a8083bdb-0298-468b-cdf2-670f830b77ac"
      },
      "source": [
        "t4['match_winner'].hist(bins=50)"
      ],
      "execution_count": 485,
      "outputs": [
        {
          "output_type": "execute_result",
          "data": {
            "text/plain": [
              "<matplotlib.axes._subplots.AxesSubplot at 0x7fa8268c5a10>"
            ]
          },
          "metadata": {
            "tags": []
          },
          "execution_count": 485
        },
        {
          "output_type": "display_data",
          "data": {
            "image/png": "[encoded data removed]",
            "text/plain": [
              "<Figure size 864x576 with 1 Axes>"
            ]
          },
          "metadata": {
            "tags": []
          }
        }
      ]
    },
    {
      "cell_type": "code",
      "metadata": {
        "colab": {
          "base_uri": "https://localhost:8080/",
          "height": 502
        },
        "id": "qUBuPYvQpIDs",
        "outputId": "81537321-e510-43ee-80e8-624d35be262e"
      },
      "source": [
        "t4['toss_winner'].hist(bins=50)"
      ],
      "execution_count": 486,
      "outputs": [
        {
          "output_type": "execute_result",
          "data": {
            "text/plain": [
              "<matplotlib.axes._subplots.AxesSubplot at 0x7fa8270a2150>"
            ]
          },
          "metadata": {
            "tags": []
          },
          "execution_count": 486
        },
        {
          "output_type": "display_data",
          "data": {
            "image/png": "[encoded data removed]",
            "text/plain": [
              "<Figure size 864x576 with 1 Axes>"
            ]
          },
          "metadata": {
            "tags": []
          }
        }
      ]
    },
    {
      "cell_type": "code",
      "metadata": {
        "colab": {
          "base_uri": "https://localhost:8080/"
        },
        "id": "FRLhAlAfo8u4",
        "outputId": "a462e892-2070-43c2-fe85-f7c34cbe3201"
      },
      "source": [
        "t4.isnull().sum()"
      ],
      "execution_count": 487,
      "outputs": [
        {
          "output_type": "execute_result",
          "data": {
            "text/plain": [
              "year             0\n",
              "month            0\n",
              "day              0\n",
              "city             0\n",
              "venue            0\n",
              "home_team        0\n",
              "team_1           0\n",
              "team_2           0\n",
              "toss_winner      0\n",
              "toss_decision    0\n",
              "umpire_1         0\n",
              "umpire_2         0\n",
              "match_winner     0\n",
              "dtype: int64"
            ]
          },
          "metadata": {
            "tags": []
          },
          "execution_count": 487
        }
      ]
    },
    {
      "cell_type": "code",
      "metadata": {
        "colab": {
          "base_uri": "https://localhost:8080/",
          "height": 557
        },
        "id": "TtCS9GXvpwFk",
        "outputId": "f87585bc-940c-403b-ad0a-337799cba1d8"
      },
      "source": [
        "# Confusion Matrix\n",
        "\n",
        "import seaborn as sns\n",
        "sns.set(rc={'figure.figsize': (12,8)})\n",
        "ax = sns.heatmap(t4.corr(), annot=True)"
      ],
      "execution_count": 488,
      "outputs": [
        {
          "output_type": "display_data",
          "data": {
            "image/png": "[encoded data removed]",
            "text/plain": [
              "<Figure size 864x576 with 2 Axes>"
            ]
          },
          "metadata": {
            "tags": []
          }
        }
      ]
    },
    {
      "cell_type": "code",
      "metadata": {
        "id": "xzVv1mf3s8oq"
      },
      "source": [
        "def correlation(dataset, threshold):\n",
        "    col_corr = []\n",
        "    corr_matrix = dataset.corr()\n",
        "    for i in range(len(corr_matrix.columns)):\n",
        "        for j in range(i):\n",
        "            if abs(corr_matrix.iloc[i, j]) >= threshold and i!=j:\n",
        "                colname = corr_matrix.columns[i]\n",
        "                col_corr.append(colname)\n",
        "    return col_corr"
      ],
      "execution_count": 489,
      "outputs": []
    },
    {
      "cell_type": "code",
      "metadata": {
        "colab": {
          "base_uri": "https://localhost:8080/"
        },
        "id": "9NZZdkLHF59x",
        "outputId": "9dc2bf68-dd50-4fdc-8082-6ced16d9b342"
      },
      "source": [
        "t4.columns"
      ],
      "execution_count": 490,
      "outputs": [
        {
          "output_type": "execute_result",
          "data": {
            "text/plain": [
              "Index(['year', 'month', 'day', 'city', 'venue', 'home_team', 'team_1',\n",
              "       'team_2', 'toss_winner', 'toss_decision', 'umpire_1', 'umpire_2',\n",
              "       'match_winner'],\n",
              "      dtype='object')"
            ]
          },
          "metadata": {
            "tags": []
          },
          "execution_count": 490
        }
      ]
    },
    {
      "cell_type": "code",
      "metadata": {
        "colab": {
          "base_uri": "https://localhost:8080/"
        },
        "id": "zHUSNN83tI2Z",
        "outputId": "9429f09a-9b6a-4bbf-81dd-2c78c810580f"
      },
      "source": [
        "corr_columns = correlation(t4, 0.15)\n",
        "corr_columns = list(dict.fromkeys(corr_columns))\n",
        "corr_columns"
      ],
      "execution_count": 491,
      "outputs": [
        {
          "output_type": "execute_result",
          "data": {
            "text/plain": [
              "['venue', 'team_1', 'team_2', 'toss_winner', 'match_winner']"
            ]
          },
          "metadata": {
            "tags": []
          },
          "execution_count": 491
        }
      ]
    },
    {
      "cell_type": "code",
      "metadata": {
        "id": "Liy0o5GeZKlv"
      },
      "source": [
        "X = t4.drop(['match_winner', 'year', 'month', 'day', 'umpire_1', 'umpire_2'], axis = 1)\n",
        "y = t4['match_winner']"
      ],
      "execution_count": 492,
      "outputs": []
    },
    {
      "cell_type": "code",
      "metadata": {
        "colab": {
          "base_uri": "https://localhost:8080/",
          "height": 419
        },
        "id": "n-CCHYGuZbju",
        "outputId": "2d2dd9c4-274d-40e8-e0fe-3bc67d9ce795"
      },
      "source": [
        "X"
      ],
      "execution_count": 493,
      "outputs": [
        {
          "output_type": "execute_result",
          "data": {
            "text/html": [
              "<div>\n",
              "<style scoped>\n",
              "    .dataframe tbody tr th:only-of-type {\n",
              "        vertical-align: middle;\n",
              "    }\n",
              "\n",
              "    .dataframe tbody tr th {\n",
              "        vertical-align: top;\n",
              "    }\n",
              "\n",
              "    .dataframe thead th {\n",
              "        text-align: right;\n",
              "    }\n",
              "</style>\n",
              "<table border=\"1\" class=\"dataframe\">\n",
              "  <thead>\n",
              "    <tr style=\"text-align: right;\">\n",
              "      <th></th>\n",
              "      <th>city</th>\n",
              "      <th>venue</th>\n",
              "      <th>home_team</th>\n",
              "      <th>team_1</th>\n",
              "      <th>team_2</th>\n",
              "      <th>toss_winner</th>\n",
              "      <th>toss_decision</th>\n",
              "    </tr>\n",
              "  </thead>\n",
              "  <tbody>\n",
              "    <tr>\n",
              "      <th>0</th>\n",
              "      <td>6</td>\n",
              "      <td>31</td>\n",
              "      <td>77</td>\n",
              "      <td>77</td>\n",
              "      <td>72</td>\n",
              "      <td>72</td>\n",
              "      <td>0</td>\n",
              "    </tr>\n",
              "    <tr>\n",
              "      <th>1</th>\n",
              "      <td>99</td>\n",
              "      <td>119</td>\n",
              "      <td>70</td>\n",
              "      <td>70</td>\n",
              "      <td>72</td>\n",
              "      <td>70</td>\n",
              "      <td>0</td>\n",
              "    </tr>\n",
              "    <tr>\n",
              "      <th>2</th>\n",
              "      <td>58</td>\n",
              "      <td>77</td>\n",
              "      <td>71</td>\n",
              "      <td>71</td>\n",
              "      <td>77</td>\n",
              "      <td>77</td>\n",
              "      <td>1</td>\n",
              "    </tr>\n",
              "    <tr>\n",
              "      <th>3</th>\n",
              "      <td>15</td>\n",
              "      <td>17</td>\n",
              "      <td>72</td>\n",
              "      <td>72</td>\n",
              "      <td>71</td>\n",
              "      <td>72</td>\n",
              "      <td>0</td>\n",
              "    </tr>\n",
              "    <tr>\n",
              "      <th>4</th>\n",
              "      <td>6</td>\n",
              "      <td>31</td>\n",
              "      <td>77</td>\n",
              "      <td>58</td>\n",
              "      <td>77</td>\n",
              "      <td>77</td>\n",
              "      <td>1</td>\n",
              "    </tr>\n",
              "    <tr>\n",
              "      <th>...</th>\n",
              "      <td>...</td>\n",
              "      <td>...</td>\n",
              "      <td>...</td>\n",
              "      <td>...</td>\n",
              "      <td>...</td>\n",
              "      <td>...</td>\n",
              "      <td>...</td>\n",
              "    </tr>\n",
              "    <tr>\n",
              "      <th>966</th>\n",
              "      <td>0</td>\n",
              "      <td>103</td>\n",
              "      <td>0</td>\n",
              "      <td>54</td>\n",
              "      <td>36</td>\n",
              "      <td>36</td>\n",
              "      <td>1</td>\n",
              "    </tr>\n",
              "    <tr>\n",
              "      <th>967</th>\n",
              "      <td>2</td>\n",
              "      <td>74</td>\n",
              "      <td>90</td>\n",
              "      <td>90</td>\n",
              "      <td>70</td>\n",
              "      <td>70</td>\n",
              "      <td>1</td>\n",
              "    </tr>\n",
              "    <tr>\n",
              "      <th>968</th>\n",
              "      <td>0</td>\n",
              "      <td>103</td>\n",
              "      <td>0</td>\n",
              "      <td>54</td>\n",
              "      <td>36</td>\n",
              "      <td>54</td>\n",
              "      <td>0</td>\n",
              "    </tr>\n",
              "    <tr>\n",
              "      <th>969</th>\n",
              "      <td>2</td>\n",
              "      <td>74</td>\n",
              "      <td>90</td>\n",
              "      <td>90</td>\n",
              "      <td>70</td>\n",
              "      <td>70</td>\n",
              "      <td>1</td>\n",
              "    </tr>\n",
              "    <tr>\n",
              "      <th>970</th>\n",
              "      <td>0</td>\n",
              "      <td>103</td>\n",
              "      <td>0</td>\n",
              "      <td>54</td>\n",
              "      <td>36</td>\n",
              "      <td>54</td>\n",
              "      <td>0</td>\n",
              "    </tr>\n",
              "  </tbody>\n",
              "</table>\n",
              "<p>971 rows × 7 columns</p>\n",
              "</div>"
            ],
            "text/plain": [
              "     city  venue  home_team  team_1  team_2  toss_winner  toss_decision\n",
              "0       6     31         77      77      72           72              0\n",
              "1      99    119         70      70      72           70              0\n",
              "2      58     77         71      71      77           77              1\n",
              "3      15     17         72      72      71           72              0\n",
              "4       6     31         77      58      77           77              1\n",
              "..    ...    ...        ...     ...     ...          ...            ...\n",
              "966     0    103          0      54      36           36              1\n",
              "967     2     74         90      90      70           70              1\n",
              "968     0    103          0      54      36           54              0\n",
              "969     2     74         90      90      70           70              1\n",
              "970     0    103          0      54      36           54              0\n",
              "\n",
              "[971 rows x 7 columns]"
            ]
          },
          "metadata": {
            "tags": []
          },
          "execution_count": 493
        }
      ]
    },
    {
      "cell_type": "code",
      "metadata": {
        "colab": {
          "base_uri": "https://localhost:8080/"
        },
        "id": "hNS0RxoyZgz7",
        "outputId": "5992c1b8-ef48-4608-b84e-b820b227150e"
      },
      "source": [
        "y"
      ],
      "execution_count": 494,
      "outputs": [
        {
          "output_type": "execute_result",
          "data": {
            "text/plain": [
              "0      72\n",
              "1      70\n",
              "2      77\n",
              "3      72\n",
              "4      77\n",
              "       ..\n",
              "966    54\n",
              "967    90\n",
              "968    54\n",
              "969    90\n",
              "970    54\n",
              "Name: match_winner, Length: 971, dtype: int64"
            ]
          },
          "metadata": {
            "tags": []
          },
          "execution_count": 494
        }
      ]
    },
    {
      "cell_type": "code",
      "metadata": {
        "id": "i0Eo5fkvZiNk"
      },
      "source": [
        "from sklearn.model_selection import train_test_split\n",
        "from sklearn.metrics import classification_report\n",
        "from sklearn.metrics import confusion_matrix\n",
        "from sklearn.metrics import roc_auc_score\n",
        "from sklearn.metrics import roc_curve\n",
        "\n",
        "X_train, X_test, y_train, y_test = train_test_split(X, y, test_size = 0.20, random_state = 0)"
      ],
      "execution_count": 495,
      "outputs": []
    },
    {
      "cell_type": "markdown",
      "metadata": {
        "id": "0W-HFDd3-U01"
      },
      "source": [
        "# DecisionTreeClassifier"
      ]
    },
    {
      "cell_type": "code",
      "metadata": {
        "colab": {
          "base_uri": "https://localhost:8080/"
        },
        "id": "vHpMRjdvZybs",
        "outputId": "62beea75-04d3-44fa-c232-45421bfd28be"
      },
      "source": [
        "from sklearn.tree import DecisionTreeClassifier\n",
        "decisiontree = DecisionTreeClassifier()\n",
        "print(cross_val_score(decisiontree, X, y, cv=4))"
      ],
      "execution_count": 496,
      "outputs": [
        {
          "output_type": "stream",
          "text": [
            "[0.44855967 0.44855967 0.42386831 0.44214876]\n"
          ],
          "name": "stdout"
        }
      ]
    },
    {
      "cell_type": "code",
      "metadata": {
        "colab": {
          "base_uri": "https://localhost:8080/"
        },
        "id": "LBXcdGcDZ2B2",
        "outputId": "32c3873a-5eab-4a83-d438-9e61e3c883d3"
      },
      "source": [
        "decisiontree.fit(X_train, y_train)\n",
        "predictions = decisiontree.predict(X_train)\n",
        "score = decisiontree.score(X_train, y_train)\n",
        "print(score) # Accuracy "
      ],
      "execution_count": 497,
      "outputs": [
        {
          "output_type": "stream",
          "text": [
            "0.9523195876288659\n"
          ],
          "name": "stdout"
        }
      ]
    },
    {
      "cell_type": "code",
      "metadata": {
        "colab": {
          "base_uri": "https://localhost:8080/"
        },
        "id": "IcG0G_RS6k8i",
        "outputId": "f88ccd72-12d2-4dfa-e1f4-9a74be66c3ba"
      },
      "source": [
        "predictions = decisiontree.predict(X_test)\n",
        "score = decisiontree.score(X_test, y_test)\n",
        "print(score) # Accuracy"
      ],
      "execution_count": 498,
      "outputs": [
        {
          "output_type": "stream",
          "text": [
            "0.47692307692307695\n"
          ],
          "name": "stdout"
        }
      ]
    },
    {
      "cell_type": "code",
      "metadata": {
        "colab": {
          "base_uri": "https://localhost:8080/"
        },
        "id": "FXnppg9kZ7EO",
        "outputId": "48a3d60a-f44a-4bde-c4cb-9978d903f808"
      },
      "source": [
        "cm = metrics.confusion_matrix(y_test, predictions)\n",
        "print(cm)"
      ],
      "execution_count": 499,
      "outputs": [
        {
          "output_type": "stream",
          "text": [
            "[[ 0  0  0 ...  0  0  0]\n",
            " [ 0  0  0 ...  0  0  0]\n",
            " [ 0  0  0 ...  0  0  0]\n",
            " ...\n",
            " [ 0  0  0 ...  7  0  0]\n",
            " [ 0  0  0 ...  0 13  0]\n",
            " [ 0  0  0 ...  1  1  8]]\n"
          ],
          "name": "stdout"
        }
      ]
    },
    {
      "cell_type": "code",
      "metadata": {
        "colab": {
          "base_uri": "https://localhost:8080/",
          "height": 526
        },
        "id": "fweC38q3a9TM",
        "outputId": "20e3df4a-83a1-4ba1-ba8a-eb66c1c75f00"
      },
      "source": [
        "plt.figure(figsize=(9,9))\n",
        "sns.heatmap(cm, annot=True, fmt=\".3f\", linewidths=.5, square = True, cmap = 'Blues_r');\n",
        "plt.ylabel('y_test');\n",
        "plt.xlabel('predictions');\n",
        "all_sample_title = 'Accuracy Score: {0}'.format(score)\n",
        "plt.title(all_sample_title, size = 15);"
      ],
      "execution_count": 500,
      "outputs": [
        {
          "output_type": "display_data",
          "data": {
            "image/png": "[encoded data removed]",
            "text/plain": [
              "<Figure size 648x648 with 2 Axes>"
            ]
          },
          "metadata": {
            "tags": []
          }
        }
      ]
    },
    {
      "cell_type": "code",
      "metadata": {
        "colab": {
          "base_uri": "https://localhost:8080/"
        },
        "id": "TPnLPB5bbFh7",
        "outputId": "3b792bac-5156-465f-ca92-aae432e1137f"
      },
      "source": [
        "print(metrics.classification_report(y_test, predictions))\n",
        "confusion_matrix(y_test, predictions).ravel()"
      ],
      "execution_count": 501,
      "outputs": [
        {
          "output_type": "stream",
          "text": [
            "              precision    recall  f1-score   support\n",
            "\n",
            "           9       0.00      0.00      0.00         1\n",
            "          10       0.00      0.00      0.00         0\n",
            "          11       0.00      0.00      0.00         1\n",
            "          16       0.00      0.00      0.00         0\n",
            "          17       0.00      0.00      0.00         0\n",
            "          18       0.00      0.00      0.00         0\n",
            "          20       0.00      0.00      0.00         1\n",
            "          22       0.00      0.00      0.00         3\n",
            "          23       0.00      0.00      0.00         2\n",
            "          24       1.00      1.00      1.00         1\n",
            "          25       1.00      1.00      1.00         1\n",
            "          26       0.00      0.00      0.00         0\n",
            "          27       0.50      0.67      0.57         3\n",
            "          28       0.00      0.00      0.00         1\n",
            "          29       0.00      0.00      0.00         1\n",
            "          30       0.75      1.00      0.86         3\n",
            "          31       0.33      0.50      0.40         2\n",
            "          32       0.33      0.33      0.33         3\n",
            "          33       0.50      1.00      0.67         3\n",
            "          34       0.50      1.00      0.67         1\n",
            "          35       1.00      0.20      0.33         5\n",
            "          36       0.17      0.50      0.25         2\n",
            "          37       0.67      0.67      0.67         3\n",
            "          38       0.33      0.33      0.33         3\n",
            "          39       0.17      0.17      0.17         6\n",
            "          40       0.50      0.50      0.50         8\n",
            "          41       0.60      0.27      0.37        11\n",
            "          54       0.69      0.92      0.79        12\n",
            "          58       0.33      0.42      0.37        12\n",
            "          59       0.29      0.31      0.30        13\n",
            "          70       0.33      0.36      0.35        11\n",
            "          71       0.53      0.53      0.53        17\n",
            "          72       0.50      0.35      0.41        17\n",
            "          77       0.70      0.64      0.67        11\n",
            "          90       0.62      0.52      0.57        25\n",
            "          98       0.73      0.67      0.70        12\n",
            "\n",
            "    accuracy                           0.48       195\n",
            "   macro avg       0.36      0.38      0.36       195\n",
            "weighted avg       0.50      0.48      0.47       195\n",
            "\n"
          ],
          "name": "stdout"
        },
        {
          "output_type": "execute_result",
          "data": {
            "text/plain": [
              "array([0, 0, 0, ..., 1, 1, 8])"
            ]
          },
          "metadata": {
            "tags": []
          },
          "execution_count": 501
        }
      ]
    },
    {
      "cell_type": "code",
      "metadata": {
        "id": "Gs68jtZC-jUW"
      },
      "source": [
        "#metrics.plot_roc_curve(decisiontree, X_test, y_test)  \n",
        "#plt.show()"
      ],
      "execution_count": 502,
      "outputs": []
    },
    {
      "cell_type": "markdown",
      "metadata": {
        "id": "7Bj8od4A-dT_"
      },
      "source": [
        "# Random Forest"
      ]
    },
    {
      "cell_type": "code",
      "metadata": {
        "colab": {
          "base_uri": "https://localhost:8080/"
        },
        "id": "ZvNhuOq-9qs0",
        "outputId": "467f3f49-d879-4ae9-a764-7d2355474a39"
      },
      "source": [
        "from sklearn.ensemble import RandomForestClassifier\n",
        "randomforest = RandomForestClassifier()\n",
        "print(cross_val_score(randomforest, X, y, cv=3))"
      ],
      "execution_count": 503,
      "outputs": [
        {
          "output_type": "stream",
          "text": [
            "[0.49382716 0.52160494 0.47678019]\n"
          ],
          "name": "stdout"
        }
      ]
    },
    {
      "cell_type": "code",
      "metadata": {
        "colab": {
          "base_uri": "https://localhost:8080/"
        },
        "id": "N4pqZfu8_Ou4",
        "outputId": "475fee3e-8bde-4260-9e3e-f8dfc1203187"
      },
      "source": [
        "randomforest.fit(X_train, y_train)\n",
        "predictions = randomforest.predict(X_train)\n",
        "score = randomforest.score(X_train, y_train)\n",
        "print(score) # Accuracy "
      ],
      "execution_count": 504,
      "outputs": [
        {
          "output_type": "stream",
          "text": [
            "0.9523195876288659\n"
          ],
          "name": "stdout"
        }
      ]
    },
    {
      "cell_type": "code",
      "metadata": {
        "colab": {
          "base_uri": "https://localhost:8080/"
        },
        "id": "z9qm5j4o_Yp_",
        "outputId": "65b98f83-94ea-4566-d0f7-aa0e31c4efa3"
      },
      "source": [
        "predictions = randomforest.predict(X_test)\n",
        "score = randomforest.score(X_test, y_test)\n",
        "print(score) # Accuracy"
      ],
      "execution_count": 505,
      "outputs": [
        {
          "output_type": "stream",
          "text": [
            "0.5282051282051282\n"
          ],
          "name": "stdout"
        }
      ]
    },
    {
      "cell_type": "code",
      "metadata": {
        "colab": {
          "base_uri": "https://localhost:8080/"
        },
        "id": "AemMuT1uAjju",
        "outputId": "1abebfd0-a9c9-4197-e26f-edf0ca049e1d"
      },
      "source": [
        "cm = metrics.confusion_matrix(y_test, predictions)\n",
        "print(cm)"
      ],
      "execution_count": 506,
      "outputs": [
        {
          "output_type": "stream",
          "text": [
            "[[ 0  0  0 ...  0  0  0]\n",
            " [ 0  0  0 ...  0  0  0]\n",
            " [ 0  0  0 ...  0  0  0]\n",
            " ...\n",
            " [ 0  0  0 ... 11  0  0]\n",
            " [ 0  0  0 ...  0 17  1]\n",
            " [ 0  0  0 ...  1  1  8]]\n"
          ],
          "name": "stdout"
        }
      ]
    },
    {
      "cell_type": "code",
      "metadata": {
        "colab": {
          "base_uri": "https://localhost:8080/",
          "height": 526
        },
        "id": "IKXcFMGgAlTn",
        "outputId": "297c3c74-e45f-4ba6-af55-536d94e4c199"
      },
      "source": [
        "plt.figure(figsize=(9,9))\n",
        "sns.heatmap(cm, annot=True, fmt=\".3f\", linewidths=.5, square = True, cmap = 'Blues_r');\n",
        "plt.ylabel('y_test');\n",
        "plt.xlabel('predictions');\n",
        "all_sample_title = 'Accuracy Score: {0}'.format(score)\n",
        "plt.title(all_sample_title, size = 15);"
      ],
      "execution_count": 507,
      "outputs": [
        {
          "output_type": "display_data",
          "data": {
            "image/png": "[encoded data removed]",
            "text/plain": [
              "<Figure size 648x648 with 2 Axes>"
            ]
          },
          "metadata": {
            "tags": []
          }
        }
      ]
    },
    {
      "cell_type": "code",
      "metadata": {
        "colab": {
          "base_uri": "https://localhost:8080/"
        },
        "id": "6mbLtlLUAtSK",
        "outputId": "7772f18b-46f2-40ec-81dd-d144671167bb"
      },
      "source": [
        "print(metrics.classification_report(y_test, predictions))\n",
        "confusion_matrix(y_test, predictions).ravel()"
      ],
      "execution_count": 508,
      "outputs": [
        {
          "output_type": "stream",
          "text": [
            "              precision    recall  f1-score   support\n",
            "\n",
            "           9       0.00      0.00      0.00         1\n",
            "          11       0.00      0.00      0.00         1\n",
            "          12       0.00      0.00      0.00         0\n",
            "          16       0.00      0.00      0.00         0\n",
            "          18       0.00      0.00      0.00         0\n",
            "          20       0.00      0.00      0.00         1\n",
            "          22       0.00      0.00      0.00         3\n",
            "          23       0.00      0.00      0.00         2\n",
            "          24       0.00      0.00      0.00         1\n",
            "          25       1.00      1.00      1.00         1\n",
            "          26       0.00      0.00      0.00         0\n",
            "          27       0.67      0.67      0.67         3\n",
            "          28       0.00      0.00      0.00         1\n",
            "          29       0.00      0.00      0.00         1\n",
            "          30       0.50      0.67      0.57         3\n",
            "          31       0.33      0.50      0.40         2\n",
            "          32       0.33      0.33      0.33         3\n",
            "          33       0.50      1.00      0.67         3\n",
            "          34       1.00      1.00      1.00         1\n",
            "          35       0.67      0.40      0.50         5\n",
            "          36       0.50      0.50      0.50         2\n",
            "          37       0.50      1.00      0.67         3\n",
            "          38       0.33      0.33      0.33         3\n",
            "          39       0.17      0.17      0.17         6\n",
            "          40       0.43      0.38      0.40         8\n",
            "          41       0.60      0.27      0.37        11\n",
            "          54       0.71      1.00      0.83        12\n",
            "          58       0.33      0.50      0.40        12\n",
            "          59       0.33      0.31      0.32        13\n",
            "          70       0.45      0.45      0.45        11\n",
            "          71       0.64      0.53      0.58        17\n",
            "          72       0.86      0.35      0.50        17\n",
            "          77       0.69      1.00      0.81        11\n",
            "          90       0.63      0.68      0.65        25\n",
            "          98       0.67      0.67      0.67        12\n",
            "\n",
            "    accuracy                           0.53       195\n",
            "   macro avg       0.37      0.39      0.37       195\n",
            "weighted avg       0.54      0.53      0.51       195\n",
            "\n"
          ],
          "name": "stdout"
        },
        {
          "output_type": "execute_result",
          "data": {
            "text/plain": [
              "array([0, 0, 0, ..., 1, 1, 8])"
            ]
          },
          "metadata": {
            "tags": []
          },
          "execution_count": 508
        }
      ]
    },
    {
      "cell_type": "code",
      "metadata": {
        "id": "CQglv_d1AxBK"
      },
      "source": [
        "#metrics.plot_roc_curve(randomforest, X_test, y_test)  \n",
        "#plt.show()"
      ],
      "execution_count": 509,
      "outputs": []
    },
    {
      "cell_type": "markdown",
      "metadata": {
        "id": "KqIbsWhrA_Pa"
      },
      "source": [
        "# SVM"
      ]
    },
    {
      "cell_type": "code",
      "metadata": {
        "colab": {
          "base_uri": "https://localhost:8080/"
        },
        "id": "0Id0i_Z9BGS4",
        "outputId": "2f4e6fae-8216-4dea-ea63-80e3f79b1541"
      },
      "source": [
        "from sklearn import svm\n",
        "supvm = svm.SVC(kernel='poly', degree=8)\n",
        "print(cross_val_score(supvm, X, y, cv=3))"
      ],
      "execution_count": 510,
      "outputs": [
        {
          "output_type": "stream",
          "text": [
            "[0.29320988 0.3117284  0.28482972]\n"
          ],
          "name": "stdout"
        }
      ]
    },
    {
      "cell_type": "code",
      "metadata": {
        "colab": {
          "base_uri": "https://localhost:8080/"
        },
        "id": "4AYuFkmmBPq1",
        "outputId": "b7c994c2-973c-4625-b27f-90e10ab73a02"
      },
      "source": [
        "supvm.fit(X_train, y_train)\n",
        "predictions = supvm.predict(X_train)\n",
        "score = supvm.score(X_train, y_train)\n",
        "print(score) # Accuracy "
      ],
      "execution_count": 511,
      "outputs": [
        {
          "output_type": "stream",
          "text": [
            "0.7835051546391752\n"
          ],
          "name": "stdout"
        }
      ]
    },
    {
      "cell_type": "code",
      "metadata": {
        "colab": {
          "base_uri": "https://localhost:8080/"
        },
        "id": "uTnu8J80BVC1",
        "outputId": "f156ba72-fc3b-4ed2-a8ce-d64756824037"
      },
      "source": [
        "predictions = supvm.predict(X_test)\n",
        "score = supvm.score(X_test, y_test)\n",
        "print(score) # Accuracy "
      ],
      "execution_count": 512,
      "outputs": [
        {
          "output_type": "stream",
          "text": [
            "0.29743589743589743\n"
          ],
          "name": "stdout"
        }
      ]
    },
    {
      "cell_type": "code",
      "metadata": {
        "colab": {
          "base_uri": "https://localhost:8080/"
        },
        "id": "Ox-nyhADBaGW",
        "outputId": "1e9ca28e-5737-40a7-ed24-ed470f37e2d6"
      },
      "source": [
        "cm = metrics.confusion_matrix(y_test, predictions)\n",
        "print(cm)"
      ],
      "execution_count": 513,
      "outputs": [
        {
          "output_type": "stream",
          "text": [
            "[[0 0 0 ... 0 0 0]\n",
            " [0 0 0 ... 0 0 0]\n",
            " [0 0 0 ... 0 0 0]\n",
            " ...\n",
            " [0 0 0 ... 6 0 0]\n",
            " [0 0 0 ... 5 6 1]\n",
            " [0 0 0 ... 1 4 5]]\n"
          ],
          "name": "stdout"
        }
      ]
    },
    {
      "cell_type": "code",
      "metadata": {
        "colab": {
          "base_uri": "https://localhost:8080/",
          "height": 530
        },
        "id": "w7p_uKSRBcgs",
        "outputId": "7ec9ad9a-859b-4d11-b422-f8c5c125aa3a"
      },
      "source": [
        "plt.figure(figsize=(9,9))\n",
        "sns.heatmap(cm, annot=True, fmt=\".3f\", linewidths=.5, square = True, cmap = 'Blues_r');\n",
        "plt.ylabel('y_test');\n",
        "plt.xlabel('predictions');\n",
        "all_sample_title = 'Accuracy Score: {0}'.format(score)\n",
        "plt.title(all_sample_title, size = 15);"
      ],
      "execution_count": 514,
      "outputs": [
        {
          "output_type": "display_data",
          "data": {
            "image/png": "[encoded data removed]",
            "text/plain": [
              "<Figure size 648x648 with 2 Axes>"
            ]
          },
          "metadata": {
            "tags": []
          }
        }
      ]
    },
    {
      "cell_type": "code",
      "metadata": {
        "colab": {
          "base_uri": "https://localhost:8080/"
        },
        "id": "mgEs8XnzBfSK",
        "outputId": "51b35586-a024-49dd-825b-da7bd20c715c"
      },
      "source": [
        "print(metrics.classification_report(y_test, predictions))\n",
        "\n",
        "confusion_matrix(y_test, predictions).ravel()"
      ],
      "execution_count": 515,
      "outputs": [
        {
          "output_type": "stream",
          "text": [
            "              precision    recall  f1-score   support\n",
            "\n",
            "           9       0.00      0.00      0.00         1\n",
            "          11       0.00      0.00      0.00         1\n",
            "          13       0.00      0.00      0.00         0\n",
            "          18       0.00      0.00      0.00         0\n",
            "          20       0.50      1.00      0.67         1\n",
            "          21       0.00      0.00      0.00         0\n",
            "          22       0.00      0.00      0.00         3\n",
            "          23       0.00      0.00      0.00         2\n",
            "          24       0.00      0.00      0.00         1\n",
            "          25       1.00      1.00      1.00         1\n",
            "          26       0.00      0.00      0.00         0\n",
            "          27       0.00      0.00      0.00         3\n",
            "          28       0.50      1.00      0.67         1\n",
            "          29       0.00      0.00      0.00         1\n",
            "          30       1.00      0.33      0.50         3\n",
            "          31       0.33      0.50      0.40         2\n",
            "          32       0.00      0.00      0.00         3\n",
            "          33       0.50      0.67      0.57         3\n",
            "          34       0.00      0.00      0.00         1\n",
            "          35       1.00      0.20      0.33         5\n",
            "          36       0.00      0.00      0.00         2\n",
            "          37       0.33      0.33      0.33         3\n",
            "          38       0.00      0.00      0.00         3\n",
            "          39       0.00      0.00      0.00         6\n",
            "          40       0.17      0.62      0.26         8\n",
            "          41       0.33      0.09      0.14        11\n",
            "          54       0.71      1.00      0.83        12\n",
            "          58       0.20      0.25      0.22        12\n",
            "          59       0.24      0.31      0.27        13\n",
            "          70       0.12      0.18      0.15        11\n",
            "          71       0.21      0.18      0.19        17\n",
            "          72       0.22      0.12      0.15        17\n",
            "          77       0.38      0.55      0.44        11\n",
            "          90       0.32      0.24      0.27        25\n",
            "          98       0.62      0.42      0.50        12\n",
            "\n",
            "    accuracy                           0.30       195\n",
            "   macro avg       0.25      0.26      0.23       195\n",
            "weighted avg       0.31      0.30      0.28       195\n",
            "\n"
          ],
          "name": "stdout"
        },
        {
          "output_type": "execute_result",
          "data": {
            "text/plain": [
              "array([0, 0, 0, ..., 1, 4, 5])"
            ]
          },
          "metadata": {
            "tags": []
          },
          "execution_count": 515
        }
      ]
    },
    {
      "cell_type": "code",
      "metadata": {
        "id": "tbqU9-ARBkPN"
      },
      "source": [
        "#metrics.plot_roc_curve(supvm, X_test, y_test)  \n",
        "#plt.show()"
      ],
      "execution_count": 516,
      "outputs": []
    },
    {
      "cell_type": "markdown",
      "metadata": {
        "id": "7ihfviRc9rf7"
      },
      "source": [
        "# Prediction"
      ]
    },
    {
      "cell_type": "code",
      "metadata": {
        "colab": {
          "base_uri": "https://localhost:8080/"
        },
        "id": "AoVnOg5OqA3d",
        "outputId": "069ea9e8-039e-491b-a3a4-763a570a25f3"
      },
      "source": [
        "from sklearn.model_selection import train_test_split\n",
        "\n",
        "train_df, test_df = train_test_split(t4, test_size=0.2, random_state=5)\n",
        "\n",
        "print(train_df.columns)\n",
        "print(train_df.shape)\n",
        "\n",
        "print(test_df.columns)\n",
        "print(test_df.shape)"
      ],
      "execution_count": 517,
      "outputs": [
        {
          "output_type": "stream",
          "text": [
            "Index(['year', 'month', 'day', 'city', 'venue', 'home_team', 'team_1',\n",
            "       'team_2', 'toss_winner', 'toss_decision', 'umpire_1', 'umpire_2',\n",
            "       'match_winner'],\n",
            "      dtype='object')\n",
            "(776, 13)\n",
            "Index(['year', 'month', 'day', 'city', 'venue', 'home_team', 'team_1',\n",
            "       'team_2', 'toss_winner', 'toss_decision', 'umpire_1', 'umpire_2',\n",
            "       'match_winner'],\n",
            "      dtype='object')\n",
            "(195, 13)\n"
          ],
          "name": "stdout"
        }
      ]
    },
    {
      "cell_type": "code",
      "metadata": {
        "id": "spq1zqNYrnM-"
      },
      "source": [
        "from sklearn.linear_model import LogisticRegression\n",
        "from sklearn.ensemble import RandomForestClassifier\n",
        "from sklearn.metrics import accuracy_score\n",
        "from sklearn.model_selection import cross_val_score\n",
        "import warnings\n",
        "warnings.filterwarnings('ignore')\n",
        "\n",
        "def print_model_scores(model, data, predictor, target):\n",
        "    model.fit(data[predictor], data[target])\n",
        "    predictions = model.predict(data[predictor])\n",
        "    accuracy = accuracy_score(predictions, data[target])\n",
        "    print('Accuracy: %s' % '{0:.2}'.format(accuracy))\n",
        "    scores = cross_val_score(model, data[predictor], data[target], scoring=\"neg_mean_squared_error\", cv=5)\n",
        "    print('Cross-Validation Scores: {}'.format(np.sqrt(-scores)))\n",
        "    print(f'Average RMSE: {np.sqrt(-scores).mean()}')"
      ],
      "execution_count": 518,
      "outputs": []
    },
    {
      "cell_type": "code",
      "metadata": {
        "id": "Ns4-ORe6rr4H",
        "colab": {
          "base_uri": "https://localhost:8080/"
        },
        "outputId": "31e57ce8-d678-4c20-e541-e787025fc2c7"
      },
      "source": [
        "# Logistic Regression\n",
        "\n",
        "target_var = [\"match_winner\"]\n",
        "predictor_var = ['city', 'venue', 'home_team', 'team_1',\n",
        "       'team_2', 'toss_winner', 'toss_decision']\n",
        "model = LogisticRegression()\n",
        "\n",
        "print_model_scores(model, train_df, predictor_var, target_var)"
      ],
      "execution_count": 519,
      "outputs": [
        {
          "output_type": "stream",
          "text": [
            "Accuracy: 0.23\n",
            "Cross-Validation Scores: [26.4489106  26.03930032 24.17983697 21.82392886 28.19505791]\n",
            "Average RMSE: 25.337406932557577\n"
          ],
          "name": "stdout"
        }
      ]
    },
    {
      "cell_type": "code",
      "metadata": {
        "colab": {
          "base_uri": "https://localhost:8080/"
        },
        "id": "5tM1oQvgt4p3",
        "outputId": "59ba2f20-be99-4901-9131-859fc3f7eca9"
      },
      "source": [
        "# Random Forest Classifier\n",
        "model = RandomForestClassifier()\n",
        "print_model_scores(model, train_df, predictor_var, target_var)"
      ],
      "execution_count": 520,
      "outputs": [
        {
          "output_type": "stream",
          "text": [
            "Accuracy: 0.95\n",
            "Cross-Validation Scores: [10.13751601 11.89741094 11.76544969 12.6552297  12.55979248]\n",
            "Average RMSE: 11.803079762980822\n"
          ],
          "name": "stdout"
        }
      ]
    },
    {
      "cell_type": "code",
      "metadata": {
        "colab": {
          "base_uri": "https://localhost:8080/"
        },
        "id": "2O1C-3IeuHiv",
        "outputId": "7ae63b8f-1512-4cb8-b5c1-39aff1bd6ea8"
      },
      "source": [
        "# Sample Test\n",
        "import re\n",
        "t = test_df.sample().to_numpy().tolist()\n",
        "t = str(t)[1:-1]\n",
        "temp = re.findall(r'\\d+', t)\n",
        "res = list(map(int, temp))\n",
        "print(res)\n",
        "year, month, day, city, venue, home_team, team_1, team_2, toss_winner, toss_decision, umpire_1, umpire_2, match_winner = res\n",
        "\n",
        "inp = [city, venue, home_team, team_1, team_2, toss_winner, toss_decision]\n",
        "\n",
        "\n",
        "inp = np.array(inp).reshape((1, -1))\n",
        "print(inp)\n",
        "output = model.predict(inp)\n",
        "print(output)\n",
        "print(f\"team_1: {list(team_encodings.keys())[list(team_encode_dict['all_teams'].values()).index(team_1)]}\")\n",
        "print(f\"team_2: {list(team_encodings.keys())[list(team_encode_dict['all_teams'].values()).index(team_2)]}\")\n",
        "print(f\"Actual winner is: {list(team_encodings.keys())[list(team_encode_dict['all_teams'].values()).index(match_winner)]}\")\n",
        "print(f\"Predicted winner: {list(team_encodings.keys())[list(team_encode_dict['all_teams'].values()).index(output)]}\")"
      ],
      "execution_count": 521,
      "outputs": [
        {
          "output_type": "stream",
          "text": [
            "[2019, 10, 18, 39, 45, 0, 29, 40, 40, 0, 36, 115, 40]\n",
            "[[39 45  0 29 40 40  0]]\n",
            "[40]\n",
            "team_1: Kenya\n",
            "team_2: Netherlands\n",
            "Actual winner is: Netherlands\n",
            "Predicted winner: Netherlands\n"
          ],
          "name": "stdout"
        }
      ]
    },
    {
      "cell_type": "code",
      "metadata": {
        "colab": {
          "base_uri": "https://localhost:8080/"
        },
        "id": "kWEgSlUZC1to",
        "outputId": "8fe2dce8-cfdb-422e-df0b-c5555a811be4"
      },
      "source": [
        "print_model_scores(model, test_df, predictor_var, target_var)"
      ],
      "execution_count": 522,
      "outputs": [
        {
          "output_type": "stream",
          "text": [
            "Accuracy: 0.99\n",
            "Cross-Validation Scores: [10.17412505 13.66729204 10.26570092 13.37333742 18.44882041]\n",
            "Average RMSE: 13.185855168352607\n"
          ],
          "name": "stdout"
        }
      ]
    },
    {
      "cell_type": "code",
      "metadata": {
        "colab": {
          "base_uri": "https://localhost:8080/"
        },
        "id": "g0Udc5_lWRs-",
        "outputId": "2319c5f9-22fa-46d5-806f-752d79dbbca3"
      },
      "source": [
        "pd.Series(index=predictor_var, data=model.feature_importances_)"
      ],
      "execution_count": 523,
      "outputs": [
        {
          "output_type": "execute_result",
          "data": {
            "text/plain": [
              "city             0.142399\n",
              "venue            0.152053\n",
              "home_team        0.109867\n",
              "team_1           0.177523\n",
              "team_2           0.202878\n",
              "toss_winner      0.172794\n",
              "toss_decision    0.042485\n",
              "dtype: float64"
            ]
          },
          "metadata": {
            "tags": []
          },
          "execution_count": 523
        }
      ]
    },
    {
      "cell_type": "code",
      "metadata": {
        "colab": {
          "base_uri": "https://localhost:8080/"
        },
        "id": "5kEufFY-W5gQ",
        "outputId": "7cd81c57-08b3-44b2-dbe3-99ad32b83447"
      },
      "source": [
        "from sklearn.tree import DecisionTreeClassifier\n",
        "model = DecisionTreeClassifier()\n",
        "print_model_scores(model, train_df, predictor_var, target_var)"
      ],
      "execution_count": 527,
      "outputs": [
        {
          "output_type": "stream",
          "text": [
            "Accuracy: 0.95\n",
            "Cross-Validation Scores: [10.64882322 14.48380631 12.40525383 13.07126867 12.89636108]\n",
            "Average RMSE: 12.70110261927506\n"
          ],
          "name": "stdout"
        }
      ]
    },
    {
      "cell_type": "code",
      "metadata": {
        "colab": {
          "base_uri": "https://localhost:8080/"
        },
        "id": "Tv5E3aRJXDb_",
        "outputId": "7ffaa914-8392-47d4-d8e0-c79aa1a68e26"
      },
      "source": [
        "# Sample Test\n",
        "import re\n",
        "t = test_df.sample().to_numpy().tolist()\n",
        "t = str(t)[1:-1]\n",
        "temp = re.findall(r'\\d+', t)\n",
        "res = list(map(int, temp))\n",
        "\n",
        "year, month, day, city, venue, home_team, team_1, team_2, toss_winner, toss_decision, umpire_1, umpire_2, match_winner = res\n",
        "\n",
        "inp = [city, venue, home_team, team_1, team_2, toss_winner, toss_decision]\n",
        "\n",
        "print(inp)\n",
        "inp = np.array(inp).reshape((1, -1))\n",
        "print(inp)\n",
        "output = model.predict(inp)\n",
        "print(output)\n",
        "print(f\"team_1: {list(team_encodings.keys())[list(team_encode_dict['all_teams'].values()).index(team_1)]}\")\n",
        "print(f\"team_2: {list(team_encodings.keys())[list(team_encode_dict['all_teams'].values()).index(team_2)]}\")\n",
        "print(f\"Actual winner is: {list(team_encodings.keys())[list(team_encode_dict['all_teams'].values()).index(match_winner)]}\")\n",
        "print(f\"Predicted winner: {list(team_encodings.keys())[list(team_encode_dict['all_teams'].values()).index(output)]}\")"
      ],
      "execution_count": 559,
      "outputs": [
        {
          "output_type": "stream",
          "text": [
            "[27, 137, 0, 40, 71, 40, 1]\n",
            "[[ 27 137   0  40  71  40   1]]\n",
            "[71]\n",
            "team_1: Netherlands\n",
            "team_2: South Africa\n",
            "Actual winner is: South Africa\n",
            "Predicted winner: South Africa\n"
          ],
          "name": "stdout"
        }
      ]
    },
    {
      "cell_type": "code",
      "metadata": {
        "colab": {
          "base_uri": "https://localhost:8080/"
        },
        "id": "NMGavLU1ERE6",
        "outputId": "283ab353-9e78-46dd-82f5-9be976955afa"
      },
      "source": [
        "print_model_scores(model, test_df, predictor_var, target_var)"
      ],
      "execution_count": 560,
      "outputs": [
        {
          "output_type": "stream",
          "text": [
            "Accuracy: 0.99\n",
            "Cross-Validation Scores: [11.22268764 15.54728107 13.30895207 12.71683721 16.71863692]\n",
            "Average RMSE: 13.902878983530991\n"
          ],
          "name": "stdout"
        }
      ]
    }
  ]
}