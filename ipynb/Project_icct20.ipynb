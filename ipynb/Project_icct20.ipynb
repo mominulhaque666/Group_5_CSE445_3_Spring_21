{
  "nbformat": 4,
  "nbformat_minor": 0,
  "metadata": {
    "colab": {
      "name": "Project_icct20.ipynb",
      "provenance": [],
      "collapsed_sections": [],
      "authorship_tag": "ABX9TyMfHC6vj8BD/WwJ8ecNV9qv",
      "include_colab_link": true
    },
    "kernelspec": {
      "name": "python3",
      "display_name": "Python 3"
    },
    "language_info": {
      "name": "python"
    }
  },
  "cells": [
    {
      "cell_type": "markdown",
      "metadata": {
        "id": "view-in-github",
        "colab_type": "text"
      },
      "source": [
        "<a href=\"https://colab.research.google.com/github/nahidosen/Group_5_CSE445_3_Spring_21/blob/main/ipynb/Project_icct20.ipynb\" target=\"_parent\"><img src=\"https://colab.research.google.com/assets/colab-badge.svg\" alt=\"Open In Colab\"/></a>"
      ]
    },
    {
      "cell_type": "code",
      "metadata": {
        "colab": {
          "base_uri": "https://localhost:8080/"
        },
        "id": "2Nm_NxUaHBSp",
        "outputId": "55232519-e974-46f2-c0dc-abccbc785be7"
      },
      "source": [
        "!pip install scikit-plot"
      ],
      "execution_count": 322,
      "outputs": [
        {
          "output_type": "stream",
          "text": [
            "Requirement already satisfied: scikit-plot in /usr/local/lib/python3.7/dist-packages (0.3.7)\n",
            "Requirement already satisfied: matplotlib>=1.4.0 in /usr/local/lib/python3.7/dist-packages (from scikit-plot) (3.2.2)\n",
            "Requirement already satisfied: joblib>=0.10 in /usr/local/lib/python3.7/dist-packages (from scikit-plot) (1.0.1)\n",
            "Requirement already satisfied: scipy>=0.9 in /usr/local/lib/python3.7/dist-packages (from scikit-plot) (1.4.1)\n",
            "Requirement already satisfied: scikit-learn>=0.18 in /usr/local/lib/python3.7/dist-packages (from scikit-plot) (0.22.2.post1)\n",
            "Requirement already satisfied: pyparsing!=2.0.4,!=2.1.2,!=2.1.6,>=2.0.1 in /usr/local/lib/python3.7/dist-packages (from matplotlib>=1.4.0->scikit-plot) (2.4.7)\n",
            "Requirement already satisfied: python-dateutil>=2.1 in /usr/local/lib/python3.7/dist-packages (from matplotlib>=1.4.0->scikit-plot) (2.8.1)\n",
            "Requirement already satisfied: numpy>=1.11 in /usr/local/lib/python3.7/dist-packages (from matplotlib>=1.4.0->scikit-plot) (1.19.5)\n",
            "Requirement already satisfied: kiwisolver>=1.0.1 in /usr/local/lib/python3.7/dist-packages (from matplotlib>=1.4.0->scikit-plot) (1.3.1)\n",
            "Requirement already satisfied: cycler>=0.10 in /usr/local/lib/python3.7/dist-packages (from matplotlib>=1.4.0->scikit-plot) (0.10.0)\n",
            "Requirement already satisfied: six>=1.5 in /usr/local/lib/python3.7/dist-packages (from python-dateutil>=2.1->matplotlib>=1.4.0->scikit-plot) (1.15.0)\n"
          ],
          "name": "stdout"
        }
      ]
    },
    {
      "cell_type": "code",
      "metadata": {
        "id": "IOfFEWZZsWVY"
      },
      "source": [
        "# Importing necessary packages\n",
        "\n",
        "import pandas as pd\n",
        "import numpy as np\n",
        "import matplotlib.pyplot as plt\n",
        "plt.style.use('ggplot')\n",
        "import seaborn as sns\n",
        "import scikitplot as skplt\n",
        "from sklearn.impute import SimpleImputer\n",
        "from sklearn import metrics\n",
        "from sklearn.model_selection import cross_val_score"
      ],
      "execution_count": 323,
      "outputs": []
    },
    {
      "cell_type": "code",
      "metadata": {
        "colab": {
          "base_uri": "https://localhost:8080/",
          "height": 728
        },
        "id": "LXdNuULVDDSR",
        "outputId": "b343bf53-6799-44fd-f52a-258466d9c4fb"
      },
      "source": [
        "data = 'https://raw.githubusercontent.com/nahidosen/Group_5_CSE445_3_Spring_21/main/dataset/IT20%20.csv'\n",
        "t = pd.read_csv(data)\n",
        "t"
      ],
      "execution_count": 324,
      "outputs": [
        {
          "output_type": "execute_result",
          "data": {
            "text/html": [
              "<div>\n",
              "<style scoped>\n",
              "    .dataframe tbody tr th:only-of-type {\n",
              "        vertical-align: middle;\n",
              "    }\n",
              "\n",
              "    .dataframe tbody tr th {\n",
              "        vertical-align: top;\n",
              "    }\n",
              "\n",
              "    .dataframe thead th {\n",
              "        text-align: right;\n",
              "    }\n",
              "</style>\n",
              "<table border=\"1\" class=\"dataframe\">\n",
              "  <thead>\n",
              "    <tr style=\"text-align: right;\">\n",
              "      <th></th>\n",
              "      <th>dates</th>\n",
              "      <th>venue</th>\n",
              "      <th>city</th>\n",
              "      <th>home_team</th>\n",
              "      <th>team_1</th>\n",
              "      <th>team_2</th>\n",
              "      <th>total_matches_team1</th>\n",
              "      <th>total_matches_team2</th>\n",
              "      <th>toss_winner</th>\n",
              "      <th>total_wins_team1</th>\n",
              "      <th>total_wins_team2</th>\n",
              "      <th>toss_decision</th>\n",
              "      <th>umpire_1</th>\n",
              "      <th>umpire_2</th>\n",
              "      <th>match_winner</th>\n",
              "      <th>head_to_head</th>\n",
              "      <th>total_loses_team1</th>\n",
              "      <th>total_loses_team2</th>\n",
              "      <th>win_ratio_team1</th>\n",
              "      <th>win_ratio_team2</th>\n",
              "      <th>lose_ratio_team1</th>\n",
              "      <th>lose_ratio_team2</th>\n",
              "    </tr>\n",
              "  </thead>\n",
              "  <tbody>\n",
              "    <tr>\n",
              "      <th>0</th>\n",
              "      <td>2005-02-17</td>\n",
              "      <td>Eden Park</td>\n",
              "      <td>Auckland</td>\n",
              "      <td>New Zealand</td>\n",
              "      <td>New Zealand</td>\n",
              "      <td>Australia</td>\n",
              "      <td>NaN</td>\n",
              "      <td>0.0</td>\n",
              "      <td>Australia</td>\n",
              "      <td>NaN</td>\n",
              "      <td>1.0</td>\n",
              "      <td>bat</td>\n",
              "      <td>BF Bowden</td>\n",
              "      <td>AL Hill</td>\n",
              "      <td>Australia</td>\n",
              "      <td>1.0</td>\n",
              "      <td>NaN</td>\n",
              "      <td>NaN</td>\n",
              "      <td>NaN</td>\n",
              "      <td>NaN</td>\n",
              "      <td>NaN</td>\n",
              "      <td>NaN</td>\n",
              "    </tr>\n",
              "    <tr>\n",
              "      <th>1</th>\n",
              "      <td>2005-06-13</td>\n",
              "      <td>The Rose Bowl</td>\n",
              "      <td>Southampton</td>\n",
              "      <td>England</td>\n",
              "      <td>England</td>\n",
              "      <td>Australia</td>\n",
              "      <td>NaN</td>\n",
              "      <td>1.0</td>\n",
              "      <td>England</td>\n",
              "      <td>NaN</td>\n",
              "      <td>NaN</td>\n",
              "      <td>bat</td>\n",
              "      <td>NJ Llong</td>\n",
              "      <td>JW Lloyds</td>\n",
              "      <td>England</td>\n",
              "      <td>NaN</td>\n",
              "      <td>NaN</td>\n",
              "      <td>NaN</td>\n",
              "      <td>NaN</td>\n",
              "      <td>NaN</td>\n",
              "      <td>NaN</td>\n",
              "      <td>NaN</td>\n",
              "    </tr>\n",
              "    <tr>\n",
              "      <th>2</th>\n",
              "      <td>2005-10-21</td>\n",
              "      <td>New Wanderers Stadium</td>\n",
              "      <td>Johannesburg</td>\n",
              "      <td>South Africa</td>\n",
              "      <td>South Africa</td>\n",
              "      <td>New Zealand</td>\n",
              "      <td>NaN</td>\n",
              "      <td>NaN</td>\n",
              "      <td>New Zealand</td>\n",
              "      <td>NaN</td>\n",
              "      <td>NaN</td>\n",
              "      <td>field</td>\n",
              "      <td>IL Howell</td>\n",
              "      <td>BG Jerling</td>\n",
              "      <td>New Zealand</td>\n",
              "      <td>NaN</td>\n",
              "      <td>NaN</td>\n",
              "      <td>NaN</td>\n",
              "      <td>NaN</td>\n",
              "      <td>NaN</td>\n",
              "      <td>NaN</td>\n",
              "      <td>NaN</td>\n",
              "    </tr>\n",
              "    <tr>\n",
              "      <th>3</th>\n",
              "      <td>2006-01-09</td>\n",
              "      <td>Brisbane Cricket Ground</td>\n",
              "      <td>Brisbane</td>\n",
              "      <td>Australia</td>\n",
              "      <td>Australia</td>\n",
              "      <td>South Africa</td>\n",
              "      <td>2.0</td>\n",
              "      <td>NaN</td>\n",
              "      <td>Australia</td>\n",
              "      <td>NaN</td>\n",
              "      <td>NaN</td>\n",
              "      <td>bat</td>\n",
              "      <td>BNJ Oxenford</td>\n",
              "      <td>RL Parry</td>\n",
              "      <td>Australia</td>\n",
              "      <td>NaN</td>\n",
              "      <td>NaN</td>\n",
              "      <td>NaN</td>\n",
              "      <td>NaN</td>\n",
              "      <td>NaN</td>\n",
              "      <td>NaN</td>\n",
              "      <td>NaN</td>\n",
              "    </tr>\n",
              "    <tr>\n",
              "      <th>4</th>\n",
              "      <td>2006-02-16</td>\n",
              "      <td>Eden Park</td>\n",
              "      <td>Auckland</td>\n",
              "      <td>New Zealand</td>\n",
              "      <td>West Indies</td>\n",
              "      <td>New Zealand</td>\n",
              "      <td>NaN</td>\n",
              "      <td>NaN</td>\n",
              "      <td>New Zealand</td>\n",
              "      <td>NaN</td>\n",
              "      <td>NaN</td>\n",
              "      <td>field</td>\n",
              "      <td>BF Bowden</td>\n",
              "      <td>AL Hill</td>\n",
              "      <td>New Zealand</td>\n",
              "      <td>NaN</td>\n",
              "      <td>NaN</td>\n",
              "      <td>NaN</td>\n",
              "      <td>NaN</td>\n",
              "      <td>NaN</td>\n",
              "      <td>NaN</td>\n",
              "      <td>NaN</td>\n",
              "    </tr>\n",
              "    <tr>\n",
              "      <th>...</th>\n",
              "      <td>...</td>\n",
              "      <td>...</td>\n",
              "      <td>...</td>\n",
              "      <td>...</td>\n",
              "      <td>...</td>\n",
              "      <td>...</td>\n",
              "      <td>...</td>\n",
              "      <td>...</td>\n",
              "      <td>...</td>\n",
              "      <td>...</td>\n",
              "      <td>...</td>\n",
              "      <td>...</td>\n",
              "      <td>...</td>\n",
              "      <td>...</td>\n",
              "      <td>...</td>\n",
              "      <td>...</td>\n",
              "      <td>...</td>\n",
              "      <td>...</td>\n",
              "      <td>...</td>\n",
              "      <td>...</td>\n",
              "      <td>...</td>\n",
              "      <td>...</td>\n",
              "    </tr>\n",
              "    <tr>\n",
              "      <th>966</th>\n",
              "      <td>2021-03-17</td>\n",
              "      <td>Sheikh Zayed Stadium</td>\n",
              "      <td>Abu Dhabi</td>\n",
              "      <td>none</td>\n",
              "      <td>Afghanistan</td>\n",
              "      <td>Zimbabwe</td>\n",
              "      <td>NaN</td>\n",
              "      <td>NaN</td>\n",
              "      <td>Zimbabwe</td>\n",
              "      <td>NaN</td>\n",
              "      <td>NaN</td>\n",
              "      <td>field</td>\n",
              "      <td>Aleem Dar</td>\n",
              "      <td>Izatullah Safi</td>\n",
              "      <td>Afghanistan</td>\n",
              "      <td>NaN</td>\n",
              "      <td>NaN</td>\n",
              "      <td>NaN</td>\n",
              "      <td>NaN</td>\n",
              "      <td>NaN</td>\n",
              "      <td>NaN</td>\n",
              "      <td>NaN</td>\n",
              "    </tr>\n",
              "    <tr>\n",
              "      <th>967</th>\n",
              "      <td>2021-03-18</td>\n",
              "      <td>Narendra Modi Stadium</td>\n",
              "      <td>Ahmedabad</td>\n",
              "      <td>India</td>\n",
              "      <td>India</td>\n",
              "      <td>England</td>\n",
              "      <td>NaN</td>\n",
              "      <td>NaN</td>\n",
              "      <td>England</td>\n",
              "      <td>NaN</td>\n",
              "      <td>NaN</td>\n",
              "      <td>field</td>\n",
              "      <td>KN Ananthapadmanabhan</td>\n",
              "      <td>Nitin Menon</td>\n",
              "      <td>India</td>\n",
              "      <td>NaN</td>\n",
              "      <td>NaN</td>\n",
              "      <td>NaN</td>\n",
              "      <td>NaN</td>\n",
              "      <td>NaN</td>\n",
              "      <td>NaN</td>\n",
              "      <td>NaN</td>\n",
              "    </tr>\n",
              "    <tr>\n",
              "      <th>968</th>\n",
              "      <td>2021-03-19</td>\n",
              "      <td>Sheikh Zayed Stadium</td>\n",
              "      <td>Abu Dhabi</td>\n",
              "      <td>none</td>\n",
              "      <td>Afghanistan</td>\n",
              "      <td>Zimbabwe</td>\n",
              "      <td>NaN</td>\n",
              "      <td>NaN</td>\n",
              "      <td>Afghanistan</td>\n",
              "      <td>NaN</td>\n",
              "      <td>NaN</td>\n",
              "      <td>bat</td>\n",
              "      <td>Ahmed Shah Durrani</td>\n",
              "      <td>Aleem Dar</td>\n",
              "      <td>Afghanistan</td>\n",
              "      <td>NaN</td>\n",
              "      <td>NaN</td>\n",
              "      <td>NaN</td>\n",
              "      <td>NaN</td>\n",
              "      <td>NaN</td>\n",
              "      <td>NaN</td>\n",
              "      <td>NaN</td>\n",
              "    </tr>\n",
              "    <tr>\n",
              "      <th>969</th>\n",
              "      <td>2021-03-20</td>\n",
              "      <td>Narendra Modi Stadium</td>\n",
              "      <td>Ahmedabad</td>\n",
              "      <td>India</td>\n",
              "      <td>India</td>\n",
              "      <td>England</td>\n",
              "      <td>NaN</td>\n",
              "      <td>NaN</td>\n",
              "      <td>England</td>\n",
              "      <td>NaN</td>\n",
              "      <td>NaN</td>\n",
              "      <td>field</td>\n",
              "      <td>AK Chaudhary</td>\n",
              "      <td>Nitin Menon</td>\n",
              "      <td>India</td>\n",
              "      <td>NaN</td>\n",
              "      <td>NaN</td>\n",
              "      <td>NaN</td>\n",
              "      <td>NaN</td>\n",
              "      <td>NaN</td>\n",
              "      <td>NaN</td>\n",
              "      <td>NaN</td>\n",
              "    </tr>\n",
              "    <tr>\n",
              "      <th>970</th>\n",
              "      <td>2021-03-20</td>\n",
              "      <td>Sheikh Zayed Stadium</td>\n",
              "      <td>Abu Dhabi</td>\n",
              "      <td>none</td>\n",
              "      <td>Afghanistan</td>\n",
              "      <td>Zimbabwe</td>\n",
              "      <td>NaN</td>\n",
              "      <td>NaN</td>\n",
              "      <td>Afghanistan</td>\n",
              "      <td>NaN</td>\n",
              "      <td>NaN</td>\n",
              "      <td>bat</td>\n",
              "      <td>Aleem Dar</td>\n",
              "      <td>Izatullah Safi</td>\n",
              "      <td>Afghanistan</td>\n",
              "      <td>NaN</td>\n",
              "      <td>NaN</td>\n",
              "      <td>NaN</td>\n",
              "      <td>NaN</td>\n",
              "      <td>NaN</td>\n",
              "      <td>NaN</td>\n",
              "      <td>NaN</td>\n",
              "    </tr>\n",
              "  </tbody>\n",
              "</table>\n",
              "<p>971 rows × 22 columns</p>\n",
              "</div>"
            ],
            "text/plain": [
              "          dates                    venue  ... lose_ratio_team1 lose_ratio_team2\n",
              "0    2005-02-17                Eden Park  ...              NaN              NaN\n",
              "1    2005-06-13            The Rose Bowl  ...              NaN              NaN\n",
              "2    2005-10-21    New Wanderers Stadium  ...              NaN              NaN\n",
              "3    2006-01-09  Brisbane Cricket Ground  ...              NaN              NaN\n",
              "4    2006-02-16                Eden Park  ...              NaN              NaN\n",
              "..          ...                      ...  ...              ...              ...\n",
              "966  2021-03-17     Sheikh Zayed Stadium  ...              NaN              NaN\n",
              "967  2021-03-18    Narendra Modi Stadium  ...              NaN              NaN\n",
              "968  2021-03-19     Sheikh Zayed Stadium  ...              NaN              NaN\n",
              "969  2021-03-20    Narendra Modi Stadium  ...              NaN              NaN\n",
              "970  2021-03-20     Sheikh Zayed Stadium  ...              NaN              NaN\n",
              "\n",
              "[971 rows x 22 columns]"
            ]
          },
          "metadata": {
            "tags": []
          },
          "execution_count": 324
        }
      ]
    },
    {
      "cell_type": "markdown",
      "metadata": {
        "id": "CHXv3MQQPBKy"
      },
      "source": [
        "# EDA"
      ]
    },
    {
      "cell_type": "code",
      "metadata": {
        "colab": {
          "base_uri": "https://localhost:8080/"
        },
        "id": "mz620CKdJkdx",
        "outputId": "266ac3d3-ba1c-42a1-dd45-423d5114899d"
      },
      "source": [
        "t.columns"
      ],
      "execution_count": 325,
      "outputs": [
        {
          "output_type": "execute_result",
          "data": {
            "text/plain": [
              "Index(['dates', 'venue', 'city', 'home_team', 'team_1', 'team_2',\n",
              "       'total_matches_team1', 'total_matches_team2', 'toss_winner',\n",
              "       'total_wins_team1', 'total_wins_team2', 'toss_decision', 'umpire_1',\n",
              "       'umpire_2', 'match_winner', 'head_to_head', 'total_loses_team1',\n",
              "       'total_loses_team2', 'win_ratio_team1', 'win_ratio_team2',\n",
              "       'lose_ratio_team1', 'lose_ratio_team2'],\n",
              "      dtype='object')"
            ]
          },
          "metadata": {
            "tags": []
          },
          "execution_count": 325
        }
      ]
    },
    {
      "cell_type": "code",
      "metadata": {
        "colab": {
          "base_uri": "https://localhost:8080/"
        },
        "id": "ixvbzZq1GE0P",
        "outputId": "d6d7becd-5e8a-4674-b795-c0e112dd78e2"
      },
      "source": [
        "t.info()"
      ],
      "execution_count": 326,
      "outputs": [
        {
          "output_type": "stream",
          "text": [
            "<class 'pandas.core.frame.DataFrame'>\n",
            "RangeIndex: 971 entries, 0 to 970\n",
            "Data columns (total 22 columns):\n",
            " #   Column               Non-Null Count  Dtype  \n",
            "---  ------               --------------  -----  \n",
            " 0   dates                971 non-null    object \n",
            " 1   venue                971 non-null    object \n",
            " 2   city                 971 non-null    object \n",
            " 3   home_team            971 non-null    object \n",
            " 4   team_1               971 non-null    object \n",
            " 5   team_2               971 non-null    object \n",
            " 6   total_matches_team1  80 non-null     float64\n",
            " 7   total_matches_team2  56 non-null     float64\n",
            " 8   toss_winner          971 non-null    object \n",
            " 9   total_wins_team1     0 non-null      float64\n",
            " 10  total_wins_team2     1 non-null      float64\n",
            " 11  toss_decision        971 non-null    object \n",
            " 12  umpire_1             971 non-null    object \n",
            " 13  umpire_2             971 non-null    object \n",
            " 14  match_winner         971 non-null    object \n",
            " 15  head_to_head         3 non-null      float64\n",
            " 16  total_loses_team1    0 non-null      float64\n",
            " 17  total_loses_team2    0 non-null      float64\n",
            " 18  win_ratio_team1      0 non-null      float64\n",
            " 19  win_ratio_team2      0 non-null      float64\n",
            " 20  lose_ratio_team1     0 non-null      float64\n",
            " 21  lose_ratio_team2     0 non-null      float64\n",
            "dtypes: float64(11), object(11)\n",
            "memory usage: 167.0+ KB\n"
          ],
          "name": "stdout"
        }
      ]
    },
    {
      "cell_type": "code",
      "metadata": {
        "colab": {
          "base_uri": "https://localhost:8080/"
        },
        "id": "dM1LL2G5mA00",
        "outputId": "724416e9-b4dd-4d2e-ea94-da5589865e47"
      },
      "source": [
        "t2 = t\n",
        "t2 = t.dropna(axis=1)\n",
        "t2.info()"
      ],
      "execution_count": 327,
      "outputs": [
        {
          "output_type": "stream",
          "text": [
            "<class 'pandas.core.frame.DataFrame'>\n",
            "RangeIndex: 971 entries, 0 to 970\n",
            "Data columns (total 11 columns):\n",
            " #   Column         Non-Null Count  Dtype \n",
            "---  ------         --------------  ----- \n",
            " 0   dates          971 non-null    object\n",
            " 1   venue          971 non-null    object\n",
            " 2   city           971 non-null    object\n",
            " 3   home_team      971 non-null    object\n",
            " 4   team_1         971 non-null    object\n",
            " 5   team_2         971 non-null    object\n",
            " 6   toss_winner    971 non-null    object\n",
            " 7   toss_decision  971 non-null    object\n",
            " 8   umpire_1       971 non-null    object\n",
            " 9   umpire_2       971 non-null    object\n",
            " 10  match_winner   971 non-null    object\n",
            "dtypes: object(11)\n",
            "memory usage: 83.6+ KB\n"
          ],
          "name": "stdout"
        }
      ]
    },
    {
      "cell_type": "code",
      "metadata": {
        "colab": {
          "base_uri": "https://localhost:8080/"
        },
        "id": "WstiqDPtS5OU",
        "outputId": "c57168a1-9c21-4794-9d03-909f6619d6ea"
      },
      "source": [
        "t2.isnull().sum() "
      ],
      "execution_count": 328,
      "outputs": [
        {
          "output_type": "execute_result",
          "data": {
            "text/plain": [
              "dates            0\n",
              "venue            0\n",
              "city             0\n",
              "home_team        0\n",
              "team_1           0\n",
              "team_2           0\n",
              "toss_winner      0\n",
              "toss_decision    0\n",
              "umpire_1         0\n",
              "umpire_2         0\n",
              "match_winner     0\n",
              "dtype: int64"
            ]
          },
          "metadata": {
            "tags": []
          },
          "execution_count": 328
        }
      ]
    },
    {
      "cell_type": "code",
      "metadata": {
        "colab": {
          "base_uri": "https://localhost:8080/"
        },
        "id": "AwU5zK3aXXtv",
        "outputId": "9e6d0bdb-8e20-4da5-d2ca-44d57516e027"
      },
      "source": [
        "t2.nunique()"
      ],
      "execution_count": 329,
      "outputs": [
        {
          "output_type": "execute_result",
          "data": {
            "text/plain": [
              "dates            722\n",
              "venue            138\n",
              "city             117\n",
              "home_team         28\n",
              "team_1            48\n",
              "team_2            46\n",
              "toss_winner       46\n",
              "toss_decision      2\n",
              "umpire_1         147\n",
              "umpire_2         152\n",
              "match_winner      42\n",
              "dtype: int64"
            ]
          },
          "metadata": {
            "tags": []
          },
          "execution_count": 329
        }
      ]
    },
    {
      "cell_type": "code",
      "metadata": {
        "colab": {
          "base_uri": "https://localhost:8080/"
        },
        "id": "YYDI1siBJQ4A",
        "outputId": "fffc8127-7cb1-46eb-b016-538b0699ae1d"
      },
      "source": [
        "t2['venue'].value_counts().sort_index()"
      ],
      "execution_count": 330,
      "outputs": [
        {
          "output_type": "execute_result",
          "data": {
            "text/plain": [
              "AMI Stadium                                               3\n",
              "Adelaide Oval                                             5\n",
              "Al Amerat Cricket Ground Oman Cricket Ministry Turf 1    19\n",
              "Al Amerat Cricket Ground Oman Cricket Ministry Turf 2     3\n",
              "Amini Park                                                6\n",
              "                                                         ..\n",
              "Western Australia Cricket Association Ground              2\n",
              "Westpac Stadium                                          14\n",
              "White Hill Field                                          8\n",
              "Windsor Park                                              2\n",
              "Zahur Ahmed Chowdhury Stadium                            20\n",
              "Name: venue, Length: 138, dtype: int64"
            ]
          },
          "metadata": {
            "tags": []
          },
          "execution_count": 330
        }
      ]
    },
    {
      "cell_type": "code",
      "metadata": {
        "id": "nRi0V6AQbqQu"
      },
      "source": [
        "#ipl_2 = ipl\n",
        "#ipl_2['city'] = ipl_2['city'].replace('Bengaluru', 'Bangalore')\n",
        "#ipl_2['city'].value_counts().sort_index()"
      ],
      "execution_count": 331,
      "outputs": []
    },
    {
      "cell_type": "code",
      "metadata": {
        "colab": {
          "base_uri": "https://localhost:8080/"
        },
        "id": "3IKTtDqpJaBP",
        "outputId": "eda71242-b67a-4a45-ca37-c28c5444e5b2"
      },
      "source": [
        "t2['city'].sort_values().unique()"
      ],
      "execution_count": 332,
      "outputs": [
        {
          "output_type": "execute_result",
          "data": {
            "text/plain": [
              "array(['Abu Dhabi', 'Adelaide', 'Ahmedabad', 'Al Amarat', 'Amstelveen',\n",
              "       'Antigua', 'Auckland', 'Bangalore', 'Bangkok', 'Barbados',\n",
              "       'Basseterre', 'Belfast', 'Birmingham', 'Bloemfontein', 'Bready',\n",
              "       'Brisbane', 'Bristol', 'Bulawayo', 'Canberra', 'Cape Town',\n",
              "       'Cardiff', 'Carrara', 'Castel', 'Centurion', 'Chandigarh',\n",
              "       'Chennai', 'Chester-le-Street', 'Chittagong', 'Christchurch',\n",
              "       'Colombo', 'Coolidge', 'Cuttack', 'Dehradun', 'Delhi', 'Derry',\n",
              "       'Deventer', 'Dhaka', 'Dharamsala', 'Dominica', 'Dubai', 'Dublin',\n",
              "       'Dunedin', 'Durban', 'East London', 'Edinburgh', 'Fatullah',\n",
              "       'Greater Noida', 'Gros Islet', 'Guwahati', 'Guyana', 'Hambantota',\n",
              "       'Hamilton', 'Harare', 'Hobart', 'Hong Kong', 'Hyderabad', 'Indore',\n",
              "       'Jamaica', 'Johannesburg', 'Kampala', 'Kandy', 'Kanpur', 'Karachi',\n",
              "       'Khulna', 'Kimberley', 'King City', 'Kirtipur', 'Kolkata',\n",
              "       'Kuala Lumpur', 'Lahore', 'Lauderhill', 'London', 'Londonderry',\n",
              "       'Lucknow', 'Manchester', 'Melbourne', 'Mirpur', 'Moara Vlasiei',\n",
              "       'Mombasa', 'Mount Maunganui', 'Mumbai', 'Nagpur', 'Nairobi',\n",
              "       'Napier', 'Nelson', 'Nottingham', 'Paarl', 'Perth',\n",
              "       'Port Elizabeth', 'Port Moresby', 'Potchefstroom', 'Providence',\n",
              "       'Pune', 'Rajkot', 'Ranchi', 'Rawalpindi', 'Rotterdam', 'Sharjah',\n",
              "       'Singapore', 'Southampton', 'St Georges', 'St Kitts', 'St Lucia',\n",
              "       'St Peter Port', 'St Vincent', 'Sydney', 'Sylhet', 'Taunton',\n",
              "       'The Hague', 'Thiruvananthapuram', 'Townsville', 'Trinidad',\n",
              "       'Utrecht', 'Victoria', 'Visakhapatnam', 'Wellington', 'Windhoek'],\n",
              "      dtype=object)"
            ]
          },
          "metadata": {
            "tags": []
          },
          "execution_count": 332
        }
      ]
    },
    {
      "cell_type": "code",
      "metadata": {
        "colab": {
          "base_uri": "https://localhost:8080/"
        },
        "id": "_2wpZsP3JhZ3",
        "outputId": "7f74ad29-b236-43a6-ad22-b416d5ea9f88"
      },
      "source": [
        "t2['home_team'].value_counts().sort_index()"
      ],
      "execution_count": 333,
      "outputs": [
        {
          "output_type": "execute_result",
          "data": {
            "text/plain": [
              "Australia                46\n",
              "Bangladesh               38\n",
              "Bermuda                   5\n",
              "England                  48\n",
              "Guernsey                  2\n",
              "Hong Kong                 2\n",
              "India                    51\n",
              "Ireland                  16\n",
              "Kenya                     5\n",
              "Malaysia                 15\n",
              "Namibia                   4\n",
              "Nepal                     3\n",
              "Netherlands              12\n",
              "New Zealand              70\n",
              "Oman                      7\n",
              "Pakistan                 18\n",
              "Papua New Guinea          4\n",
              "Romania                   3\n",
              "Scotland                  5\n",
              "Singapore                 6\n",
              "South Africa             62\n",
              "Sri Lanka                42\n",
              "Thailand                  4\n",
              "Uganda                    4\n",
              "United Arab Emirates     27\n",
              "West Indies              43\n",
              "Zimbabwe                 24\n",
              "none                    405\n",
              "Name: home_team, dtype: int64"
            ]
          },
          "metadata": {
            "tags": []
          },
          "execution_count": 333
        }
      ]
    },
    {
      "cell_type": "code",
      "metadata": {
        "id": "MMJGQuttkJ3m"
      },
      "source": [
        "#ipl_2['venue'] = ipl_2['venue'].replace('M Chinnaswamy Stadium', 'M. Chinnaswamy Stadium')\n",
        "#ipl_2['venue'].value_counts().sort_index()"
      ],
      "execution_count": 334,
      "outputs": []
    },
    {
      "cell_type": "code",
      "metadata": {
        "colab": {
          "base_uri": "https://localhost:8080/"
        },
        "id": "r2P9mVTwQK2Q",
        "outputId": "e924b9fd-362c-42af-e00b-d496fed6db47"
      },
      "source": [
        "t2['team_1'].value_counts().sort_index()"
      ],
      "execution_count": 335,
      "outputs": [
        {
          "output_type": "execute_result",
          "data": {
            "text/plain": [
              "Afghanistan                 62\n",
              "Australia                   80\n",
              "Bahrain                      1\n",
              "Bangladesh                  56\n",
              "Bermuda                     10\n",
              "Bhutan                       1\n",
              "Botswana                     2\n",
              "Bulgaria                     2\n",
              "Canada                      19\n",
              "Cayman Islands               2\n",
              "Denmark                      5\n",
              "England                     70\n",
              "Germany                      3\n",
              "Ghana                        3\n",
              "Guernsey                     4\n",
              "Hong Kong                   27\n",
              "India                       77\n",
              "Iran                         1\n",
              "Ireland                     43\n",
              "Isle of Man                  1\n",
              "Italy                        1\n",
              "Jersey                       3\n",
              "Kenya                       16\n",
              "Kuwait                       5\n",
              "Malaysia                    17\n",
              "Maldives                     3\n",
              "Namibia                     10\n",
              "Nepal                       10\n",
              "Netherlands                 28\n",
              "New Zealand                 81\n",
              "Nigeria                      1\n",
              "Oman                        10\n",
              "Pakistan                    57\n",
              "Papua New Guinea             5\n",
              "Philippines                  3\n",
              "Qatar                        1\n",
              "Romania                      1\n",
              "Saudi Arabia                 1\n",
              "Scotland                     7\n",
              "Singapore                    6\n",
              "South Africa                69\n",
              "Sri Lanka                   51\n",
              "Thailand                     4\n",
              "Uganda                       4\n",
              "United Arab Emirates        27\n",
              "United States of America     2\n",
              "West Indies                 51\n",
              "Zimbabwe                    28\n",
              "Name: team_1, dtype: int64"
            ]
          },
          "metadata": {
            "tags": []
          },
          "execution_count": 335
        }
      ]
    },
    {
      "cell_type": "code",
      "metadata": {
        "colab": {
          "base_uri": "https://localhost:8080/"
        },
        "id": "g6g_ImW-Tsyq",
        "outputId": "e0e0d086-6b46-41b4-9e6c-bb8c694666ee"
      },
      "source": [
        "t2['team_2'].value_counts().sort_index()"
      ],
      "execution_count": 336,
      "outputs": [
        {
          "output_type": "execute_result",
          "data": {
            "text/plain": [
              "Afghanistan                  16\n",
              "Australia                    56\n",
              "Bahrain                       1\n",
              "Bangladesh                   35\n",
              "Bermuda                       2\n",
              "Bhutan                        1\n",
              "Botswana                      5\n",
              "Bulgaria                      1\n",
              "Canada                        2\n",
              "Cayman Islands                4\n",
              "Denmark                       1\n",
              "England                      61\n",
              "Germany                       2\n",
              "Ghana                         1\n",
              "Guernsey                      2\n",
              "Hong Kong                    15\n",
              "India                        63\n",
              "Ireland                      43\n",
              "Italy                         3\n",
              "Jersey                        7\n",
              "Kenya                        12\n",
              "Kuwait                        1\n",
              "Malaysia                      5\n",
              "Maldives                      4\n",
              "Namibia                       6\n",
              "Nepal                        21\n",
              "Netherlands                  36\n",
              "New Zealand                  61\n",
              "Nigeria                       7\n",
              "Norway                        4\n",
              "Oman                         21\n",
              "Pakistan                    100\n",
              "Papua New Guinea             15\n",
              "Philippines                   1\n",
              "Qatar                         5\n",
              "Romania                       2\n",
              "Scotland                     42\n",
              "Singapore                     9\n",
              "South Africa                 57\n",
              "Sri Lanka                    77\n",
              "Thailand                      4\n",
              "United Arab Emirates         18\n",
              "United States of America      6\n",
              "Vanuatu                       9\n",
              "West Indies                  78\n",
              "Zimbabwe                     49\n",
              "Name: team_2, dtype: int64"
            ]
          },
          "metadata": {
            "tags": []
          },
          "execution_count": 336
        }
      ]
    },
    {
      "cell_type": "code",
      "metadata": {
        "colab": {
          "base_uri": "https://localhost:8080/"
        },
        "id": "cY1j1c6Kl7aa",
        "outputId": "49bd03e6-586d-492c-b7fb-314708814c5b"
      },
      "source": [
        "t2['toss_winner'].value_counts().sort_index()"
      ],
      "execution_count": 337,
      "outputs": [
        {
          "output_type": "execute_result",
          "data": {
            "text/plain": [
              "Afghanistan                 39\n",
              "Australia                   73\n",
              "Bahrain                      1\n",
              "Bangladesh                  48\n",
              "Bermuda                      5\n",
              "Bhutan                       1\n",
              "Botswana                     5\n",
              "Bulgaria                     2\n",
              "Canada                      10\n",
              "Cayman Islands               3\n",
              "Denmark                      4\n",
              "England                     66\n",
              "Germany                      4\n",
              "Ghana                        3\n",
              "Guernsey                     3\n",
              "Hong Kong                   22\n",
              "India                       64\n",
              "Ireland                     48\n",
              "Isle of Man                  1\n",
              "Italy                        2\n",
              "Jersey                       4\n",
              "Kenya                       14\n",
              "Kuwait                       2\n",
              "Malaysia                    14\n",
              "Maldives                     1\n",
              "Namibia                      7\n",
              "Nepal                       13\n",
              "Netherlands                 33\n",
              "New Zealand                 69\n",
              "Nigeria                      4\n",
              "Oman                        18\n",
              "Pakistan                    79\n",
              "Papua New Guinea            11\n",
              "Philippines                  1\n",
              "Qatar                        2\n",
              "Romania                      1\n",
              "Scotland                    19\n",
              "Singapore                   10\n",
              "South Africa                60\n",
              "Sri Lanka                   58\n",
              "Thailand                     7\n",
              "United Arab Emirates        25\n",
              "United States of America     3\n",
              "Vanuatu                      6\n",
              "West Indies                 67\n",
              "Zimbabwe                    39\n",
              "Name: toss_winner, dtype: int64"
            ]
          },
          "metadata": {
            "tags": []
          },
          "execution_count": 337
        }
      ]
    },
    {
      "cell_type": "code",
      "metadata": {
        "colab": {
          "base_uri": "https://localhost:8080/"
        },
        "id": "yFwuU1yKT2E-",
        "outputId": "b70faa34-c8ba-4ba6-956a-e3d023230cb3"
      },
      "source": [
        "t2['toss_decision'].value_counts().sort_index()"
      ],
      "execution_count": 338,
      "outputs": [
        {
          "output_type": "execute_result",
          "data": {
            "text/plain": [
              "bat      472\n",
              "field    499\n",
              "Name: toss_decision, dtype: int64"
            ]
          },
          "metadata": {
            "tags": []
          },
          "execution_count": 338
        }
      ]
    },
    {
      "cell_type": "code",
      "metadata": {
        "colab": {
          "base_uri": "https://localhost:8080/"
        },
        "id": "e5AWH9OoVD9v",
        "outputId": "15aba701-2424-449d-86ee-021110419c7a"
      },
      "source": [
        "t2['umpire_1'].value_counts().sort_index()"
      ],
      "execution_count": 339,
      "outputs": [
        {
          "output_type": "execute_result",
          "data": {
            "text/plain": [
              "A Kapa            3\n",
              "A Louw            3\n",
              "A Paleker        19\n",
              "AG Wharf          6\n",
              "AJ Neill          2\n",
              "                 ..\n",
              "V Kalidas        11\n",
              "VA Kulkarni      10\n",
              "Vinod Babu        2\n",
              "WPM van Liemt     1\n",
              "Zaidan Taha       2\n",
              "Name: umpire_1, Length: 147, dtype: int64"
            ]
          },
          "metadata": {
            "tags": []
          },
          "execution_count": 339
        }
      ]
    },
    {
      "cell_type": "code",
      "metadata": {
        "colab": {
          "base_uri": "https://localhost:8080/"
        },
        "id": "hpAs3IOvVDqT",
        "outputId": "20a4e1dd-e61f-4c60-b21b-c3c18c9d2c7b"
      },
      "source": [
        "t2['umpire_2'].value_counts().sort_index()"
      ],
      "execution_count": 340,
      "outputs": [
        {
          "output_type": "execute_result",
          "data": {
            "text/plain": [
              "A Begg            1\n",
              "A Louw            1\n",
              "A Natarajan       2\n",
              "A Paleker         1\n",
              "AG Wharf         14\n",
              "                 ..\n",
              "VK Sharma         2\n",
              "Vinod Babu        3\n",
              "WPM van Liemt     2\n",
              "WR Knights       23\n",
              "Zameer Haider    12\n",
              "Name: umpire_2, Length: 152, dtype: int64"
            ]
          },
          "metadata": {
            "tags": []
          },
          "execution_count": 340
        }
      ]
    },
    {
      "cell_type": "code",
      "metadata": {
        "colab": {
          "base_uri": "https://localhost:8080/"
        },
        "id": "zPNm6C5DU0GW",
        "outputId": "31d57c82-c860-459e-97dc-a55094545971"
      },
      "source": [
        "t2['match_winner'].value_counts().sort_index()"
      ],
      "execution_count": 341,
      "outputs": [
        {
          "output_type": "execute_result",
          "data": {
            "text/plain": [
              "Afghanistan                 54\n",
              "Australia                   72\n",
              "Bahrain                      1\n",
              "Bangladesh                  30\n",
              "Bermuda                      5\n",
              "Bulgaria                     1\n",
              "Canada                       8\n",
              "Denmark                      2\n",
              "England                     70\n",
              "Germany                      4\n",
              "Guernsey                     4\n",
              "Hong Kong                   15\n",
              "India                       90\n",
              "Ireland                     39\n",
              "Italy                        2\n",
              "Jersey                       6\n",
              "Kenya                       11\n",
              "Kuwait                       3\n",
              "Malaysia                    12\n",
              "Maldives                     2\n",
              "Namibia                     12\n",
              "Nepal                       16\n",
              "Netherlands                 36\n",
              "New Zealand                 77\n",
              "Nigeria                      2\n",
              "Oman                        14\n",
              "Pakistan                    98\n",
              "Papua New Guinea            13\n",
              "Philippines                  1\n",
              "Qatar                        2\n",
              "Romania                      2\n",
              "Scotland                    23\n",
              "Singapore                    9\n",
              "South Africa                71\n",
              "Sri Lanka                   59\n",
              "Thailand                     1\n",
              "Uganda                       2\n",
              "United Arab Emirates        21\n",
              "United States of America     2\n",
              "Vanuatu                      4\n",
              "West Indies                 58\n",
              "Zimbabwe                    17\n",
              "Name: match_winner, dtype: int64"
            ]
          },
          "metadata": {
            "tags": []
          },
          "execution_count": 341
        }
      ]
    },
    {
      "cell_type": "code",
      "metadata": {
        "colab": {
          "base_uri": "https://localhost:8080/"
        },
        "id": "CamTiqe1qMlk",
        "outputId": "d7d00c82-1570-4e4b-82ed-a3a7e703cbd9"
      },
      "source": [
        "t2.info()"
      ],
      "execution_count": 342,
      "outputs": [
        {
          "output_type": "stream",
          "text": [
            "<class 'pandas.core.frame.DataFrame'>\n",
            "RangeIndex: 971 entries, 0 to 970\n",
            "Data columns (total 11 columns):\n",
            " #   Column         Non-Null Count  Dtype \n",
            "---  ------         --------------  ----- \n",
            " 0   dates          971 non-null    object\n",
            " 1   venue          971 non-null    object\n",
            " 2   city           971 non-null    object\n",
            " 3   home_team      971 non-null    object\n",
            " 4   team_1         971 non-null    object\n",
            " 5   team_2         971 non-null    object\n",
            " 6   toss_winner    971 non-null    object\n",
            " 7   toss_decision  971 non-null    object\n",
            " 8   umpire_1       971 non-null    object\n",
            " 9   umpire_2       971 non-null    object\n",
            " 10  match_winner   971 non-null    object\n",
            "dtypes: object(11)\n",
            "memory usage: 83.6+ KB\n"
          ],
          "name": "stdout"
        }
      ]
    },
    {
      "cell_type": "code",
      "metadata": {
        "colab": {
          "base_uri": "https://localhost:8080/"
        },
        "id": "Rq0I3kyHTwxU",
        "outputId": "8db32e3f-b59f-4ea4-99b8-7873ff6f6870"
      },
      "source": [
        "t2 = t2.drop_duplicates(keep = 'first')\n",
        "t2.info()"
      ],
      "execution_count": 343,
      "outputs": [
        {
          "output_type": "stream",
          "text": [
            "<class 'pandas.core.frame.DataFrame'>\n",
            "Int64Index: 971 entries, 0 to 970\n",
            "Data columns (total 11 columns):\n",
            " #   Column         Non-Null Count  Dtype \n",
            "---  ------         --------------  ----- \n",
            " 0   dates          971 non-null    object\n",
            " 1   venue          971 non-null    object\n",
            " 2   city           971 non-null    object\n",
            " 3   home_team      971 non-null    object\n",
            " 4   team_1         971 non-null    object\n",
            " 5   team_2         971 non-null    object\n",
            " 6   toss_winner    971 non-null    object\n",
            " 7   toss_decision  971 non-null    object\n",
            " 8   umpire_1       971 non-null    object\n",
            " 9   umpire_2       971 non-null    object\n",
            " 10  match_winner   971 non-null    object\n",
            "dtypes: object(11)\n",
            "memory usage: 91.0+ KB\n"
          ],
          "name": "stdout"
        }
      ]
    },
    {
      "cell_type": "code",
      "metadata": {
        "colab": {
          "base_uri": "https://localhost:8080/"
        },
        "id": "Aq6U4tWu3M1O",
        "outputId": "f921e72e-9828-44e6-8e00-0820bcf97f27"
      },
      "source": [
        "t2['dates'] = pd.to_datetime(t2['dates'])\n",
        "t2['year'] = t2['dates'].dt.year\n",
        "t2['month'] = t2['dates'].dt.month\n",
        "t2['day'] = t2['dates'].dt.day\n",
        "t2.info()"
      ],
      "execution_count": 344,
      "outputs": [
        {
          "output_type": "stream",
          "text": [
            "<class 'pandas.core.frame.DataFrame'>\n",
            "Int64Index: 971 entries, 0 to 970\n",
            "Data columns (total 14 columns):\n",
            " #   Column         Non-Null Count  Dtype         \n",
            "---  ------         --------------  -----         \n",
            " 0   dates          971 non-null    datetime64[ns]\n",
            " 1   venue          971 non-null    object        \n",
            " 2   city           971 non-null    object        \n",
            " 3   home_team      971 non-null    object        \n",
            " 4   team_1         971 non-null    object        \n",
            " 5   team_2         971 non-null    object        \n",
            " 6   toss_winner    971 non-null    object        \n",
            " 7   toss_decision  971 non-null    object        \n",
            " 8   umpire_1       971 non-null    object        \n",
            " 9   umpire_2       971 non-null    object        \n",
            " 10  match_winner   971 non-null    object        \n",
            " 11  year           971 non-null    int64         \n",
            " 12  month          971 non-null    int64         \n",
            " 13  day            971 non-null    int64         \n",
            "dtypes: datetime64[ns](1), int64(3), object(10)\n",
            "memory usage: 113.8+ KB\n"
          ],
          "name": "stdout"
        }
      ]
    },
    {
      "cell_type": "code",
      "metadata": {
        "colab": {
          "base_uri": "https://localhost:8080/"
        },
        "id": "qc_j8A4k4Ij-",
        "outputId": "9519ba61-c43e-4202-c377-53d26e2880d5"
      },
      "source": [
        "print(min(t2['dates']))\n",
        "print(max(t2['dates']))"
      ],
      "execution_count": 345,
      "outputs": [
        {
          "output_type": "stream",
          "text": [
            "2005-02-17 00:00:00\n",
            "2021-03-20 00:00:00\n"
          ],
          "name": "stdout"
        }
      ]
    },
    {
      "cell_type": "code",
      "metadata": {
        "colab": {
          "base_uri": "https://localhost:8080/",
          "height": 708
        },
        "id": "oEMKD96a4E1R",
        "outputId": "b61627a1-f7c8-473e-c6ac-38d01b5df736"
      },
      "source": [
        "t3 = t2\n",
        "t3 = t3.drop(['dates'], axis = 1)\n",
        "t3"
      ],
      "execution_count": 346,
      "outputs": [
        {
          "output_type": "execute_result",
          "data": {
            "text/html": [
              "<div>\n",
              "<style scoped>\n",
              "    .dataframe tbody tr th:only-of-type {\n",
              "        vertical-align: middle;\n",
              "    }\n",
              "\n",
              "    .dataframe tbody tr th {\n",
              "        vertical-align: top;\n",
              "    }\n",
              "\n",
              "    .dataframe thead th {\n",
              "        text-align: right;\n",
              "    }\n",
              "</style>\n",
              "<table border=\"1\" class=\"dataframe\">\n",
              "  <thead>\n",
              "    <tr style=\"text-align: right;\">\n",
              "      <th></th>\n",
              "      <th>venue</th>\n",
              "      <th>city</th>\n",
              "      <th>home_team</th>\n",
              "      <th>team_1</th>\n",
              "      <th>team_2</th>\n",
              "      <th>toss_winner</th>\n",
              "      <th>toss_decision</th>\n",
              "      <th>umpire_1</th>\n",
              "      <th>umpire_2</th>\n",
              "      <th>match_winner</th>\n",
              "      <th>year</th>\n",
              "      <th>month</th>\n",
              "      <th>day</th>\n",
              "    </tr>\n",
              "  </thead>\n",
              "  <tbody>\n",
              "    <tr>\n",
              "      <th>0</th>\n",
              "      <td>Eden Park</td>\n",
              "      <td>Auckland</td>\n",
              "      <td>New Zealand</td>\n",
              "      <td>New Zealand</td>\n",
              "      <td>Australia</td>\n",
              "      <td>Australia</td>\n",
              "      <td>bat</td>\n",
              "      <td>BF Bowden</td>\n",
              "      <td>AL Hill</td>\n",
              "      <td>Australia</td>\n",
              "      <td>2005</td>\n",
              "      <td>2</td>\n",
              "      <td>17</td>\n",
              "    </tr>\n",
              "    <tr>\n",
              "      <th>1</th>\n",
              "      <td>The Rose Bowl</td>\n",
              "      <td>Southampton</td>\n",
              "      <td>England</td>\n",
              "      <td>England</td>\n",
              "      <td>Australia</td>\n",
              "      <td>England</td>\n",
              "      <td>bat</td>\n",
              "      <td>NJ Llong</td>\n",
              "      <td>JW Lloyds</td>\n",
              "      <td>England</td>\n",
              "      <td>2005</td>\n",
              "      <td>6</td>\n",
              "      <td>13</td>\n",
              "    </tr>\n",
              "    <tr>\n",
              "      <th>2</th>\n",
              "      <td>New Wanderers Stadium</td>\n",
              "      <td>Johannesburg</td>\n",
              "      <td>South Africa</td>\n",
              "      <td>South Africa</td>\n",
              "      <td>New Zealand</td>\n",
              "      <td>New Zealand</td>\n",
              "      <td>field</td>\n",
              "      <td>IL Howell</td>\n",
              "      <td>BG Jerling</td>\n",
              "      <td>New Zealand</td>\n",
              "      <td>2005</td>\n",
              "      <td>10</td>\n",
              "      <td>21</td>\n",
              "    </tr>\n",
              "    <tr>\n",
              "      <th>3</th>\n",
              "      <td>Brisbane Cricket Ground</td>\n",
              "      <td>Brisbane</td>\n",
              "      <td>Australia</td>\n",
              "      <td>Australia</td>\n",
              "      <td>South Africa</td>\n",
              "      <td>Australia</td>\n",
              "      <td>bat</td>\n",
              "      <td>BNJ Oxenford</td>\n",
              "      <td>RL Parry</td>\n",
              "      <td>Australia</td>\n",
              "      <td>2006</td>\n",
              "      <td>1</td>\n",
              "      <td>9</td>\n",
              "    </tr>\n",
              "    <tr>\n",
              "      <th>4</th>\n",
              "      <td>Eden Park</td>\n",
              "      <td>Auckland</td>\n",
              "      <td>New Zealand</td>\n",
              "      <td>West Indies</td>\n",
              "      <td>New Zealand</td>\n",
              "      <td>New Zealand</td>\n",
              "      <td>field</td>\n",
              "      <td>BF Bowden</td>\n",
              "      <td>AL Hill</td>\n",
              "      <td>New Zealand</td>\n",
              "      <td>2006</td>\n",
              "      <td>2</td>\n",
              "      <td>16</td>\n",
              "    </tr>\n",
              "    <tr>\n",
              "      <th>...</th>\n",
              "      <td>...</td>\n",
              "      <td>...</td>\n",
              "      <td>...</td>\n",
              "      <td>...</td>\n",
              "      <td>...</td>\n",
              "      <td>...</td>\n",
              "      <td>...</td>\n",
              "      <td>...</td>\n",
              "      <td>...</td>\n",
              "      <td>...</td>\n",
              "      <td>...</td>\n",
              "      <td>...</td>\n",
              "      <td>...</td>\n",
              "    </tr>\n",
              "    <tr>\n",
              "      <th>966</th>\n",
              "      <td>Sheikh Zayed Stadium</td>\n",
              "      <td>Abu Dhabi</td>\n",
              "      <td>none</td>\n",
              "      <td>Afghanistan</td>\n",
              "      <td>Zimbabwe</td>\n",
              "      <td>Zimbabwe</td>\n",
              "      <td>field</td>\n",
              "      <td>Aleem Dar</td>\n",
              "      <td>Izatullah Safi</td>\n",
              "      <td>Afghanistan</td>\n",
              "      <td>2021</td>\n",
              "      <td>3</td>\n",
              "      <td>17</td>\n",
              "    </tr>\n",
              "    <tr>\n",
              "      <th>967</th>\n",
              "      <td>Narendra Modi Stadium</td>\n",
              "      <td>Ahmedabad</td>\n",
              "      <td>India</td>\n",
              "      <td>India</td>\n",
              "      <td>England</td>\n",
              "      <td>England</td>\n",
              "      <td>field</td>\n",
              "      <td>KN Ananthapadmanabhan</td>\n",
              "      <td>Nitin Menon</td>\n",
              "      <td>India</td>\n",
              "      <td>2021</td>\n",
              "      <td>3</td>\n",
              "      <td>18</td>\n",
              "    </tr>\n",
              "    <tr>\n",
              "      <th>968</th>\n",
              "      <td>Sheikh Zayed Stadium</td>\n",
              "      <td>Abu Dhabi</td>\n",
              "      <td>none</td>\n",
              "      <td>Afghanistan</td>\n",
              "      <td>Zimbabwe</td>\n",
              "      <td>Afghanistan</td>\n",
              "      <td>bat</td>\n",
              "      <td>Ahmed Shah Durrani</td>\n",
              "      <td>Aleem Dar</td>\n",
              "      <td>Afghanistan</td>\n",
              "      <td>2021</td>\n",
              "      <td>3</td>\n",
              "      <td>19</td>\n",
              "    </tr>\n",
              "    <tr>\n",
              "      <th>969</th>\n",
              "      <td>Narendra Modi Stadium</td>\n",
              "      <td>Ahmedabad</td>\n",
              "      <td>India</td>\n",
              "      <td>India</td>\n",
              "      <td>England</td>\n",
              "      <td>England</td>\n",
              "      <td>field</td>\n",
              "      <td>AK Chaudhary</td>\n",
              "      <td>Nitin Menon</td>\n",
              "      <td>India</td>\n",
              "      <td>2021</td>\n",
              "      <td>3</td>\n",
              "      <td>20</td>\n",
              "    </tr>\n",
              "    <tr>\n",
              "      <th>970</th>\n",
              "      <td>Sheikh Zayed Stadium</td>\n",
              "      <td>Abu Dhabi</td>\n",
              "      <td>none</td>\n",
              "      <td>Afghanistan</td>\n",
              "      <td>Zimbabwe</td>\n",
              "      <td>Afghanistan</td>\n",
              "      <td>bat</td>\n",
              "      <td>Aleem Dar</td>\n",
              "      <td>Izatullah Safi</td>\n",
              "      <td>Afghanistan</td>\n",
              "      <td>2021</td>\n",
              "      <td>3</td>\n",
              "      <td>20</td>\n",
              "    </tr>\n",
              "  </tbody>\n",
              "</table>\n",
              "<p>971 rows × 13 columns</p>\n",
              "</div>"
            ],
            "text/plain": [
              "                       venue          city     home_team  ...  year month day\n",
              "0                  Eden Park      Auckland   New Zealand  ...  2005     2  17\n",
              "1              The Rose Bowl   Southampton       England  ...  2005     6  13\n",
              "2      New Wanderers Stadium  Johannesburg  South Africa  ...  2005    10  21\n",
              "3    Brisbane Cricket Ground      Brisbane     Australia  ...  2006     1   9\n",
              "4                  Eden Park      Auckland   New Zealand  ...  2006     2  16\n",
              "..                       ...           ...           ...  ...   ...   ...  ..\n",
              "966     Sheikh Zayed Stadium     Abu Dhabi          none  ...  2021     3  17\n",
              "967    Narendra Modi Stadium     Ahmedabad         India  ...  2021     3  18\n",
              "968     Sheikh Zayed Stadium     Abu Dhabi          none  ...  2021     3  19\n",
              "969    Narendra Modi Stadium     Ahmedabad         India  ...  2021     3  20\n",
              "970     Sheikh Zayed Stadium     Abu Dhabi          none  ...  2021     3  20\n",
              "\n",
              "[971 rows x 13 columns]"
            ]
          },
          "metadata": {
            "tags": []
          },
          "execution_count": 346
        }
      ]
    },
    {
      "cell_type": "code",
      "metadata": {
        "colab": {
          "base_uri": "https://localhost:8080/"
        },
        "id": "TsTpPNds4nmH",
        "outputId": "74acf2ce-62b1-41e4-9c52-c45003c981e6"
      },
      "source": [
        "t3.columns"
      ],
      "execution_count": 347,
      "outputs": [
        {
          "output_type": "execute_result",
          "data": {
            "text/plain": [
              "Index(['venue', 'city', 'home_team', 'team_1', 'team_2', 'toss_winner',\n",
              "       'toss_decision', 'umpire_1', 'umpire_2', 'match_winner', 'year',\n",
              "       'month', 'day'],\n",
              "      dtype='object')"
            ]
          },
          "metadata": {
            "tags": []
          },
          "execution_count": 347
        }
      ]
    },
    {
      "cell_type": "code",
      "metadata": {
        "colab": {
          "base_uri": "https://localhost:8080/",
          "height": 708
        },
        "id": "IENB1m-r4ZRF",
        "outputId": "ebbf4a6d-7e5b-48df-b835-3dd44101b1b7"
      },
      "source": [
        "t3 = t3[['year', 'month', 'day', 'city', 'venue', 'home_team', 'team_1', 'team_2', 'toss_winner',\n",
        "       'toss_decision', 'umpire_1', 'umpire_2', 'match_winner']]\n",
        "t3"
      ],
      "execution_count": 348,
      "outputs": [
        {
          "output_type": "execute_result",
          "data": {
            "text/html": [
              "<div>\n",
              "<style scoped>\n",
              "    .dataframe tbody tr th:only-of-type {\n",
              "        vertical-align: middle;\n",
              "    }\n",
              "\n",
              "    .dataframe tbody tr th {\n",
              "        vertical-align: top;\n",
              "    }\n",
              "\n",
              "    .dataframe thead th {\n",
              "        text-align: right;\n",
              "    }\n",
              "</style>\n",
              "<table border=\"1\" class=\"dataframe\">\n",
              "  <thead>\n",
              "    <tr style=\"text-align: right;\">\n",
              "      <th></th>\n",
              "      <th>year</th>\n",
              "      <th>month</th>\n",
              "      <th>day</th>\n",
              "      <th>city</th>\n",
              "      <th>venue</th>\n",
              "      <th>home_team</th>\n",
              "      <th>team_1</th>\n",
              "      <th>team_2</th>\n",
              "      <th>toss_winner</th>\n",
              "      <th>toss_decision</th>\n",
              "      <th>umpire_1</th>\n",
              "      <th>umpire_2</th>\n",
              "      <th>match_winner</th>\n",
              "    </tr>\n",
              "  </thead>\n",
              "  <tbody>\n",
              "    <tr>\n",
              "      <th>0</th>\n",
              "      <td>2005</td>\n",
              "      <td>2</td>\n",
              "      <td>17</td>\n",
              "      <td>Auckland</td>\n",
              "      <td>Eden Park</td>\n",
              "      <td>New Zealand</td>\n",
              "      <td>New Zealand</td>\n",
              "      <td>Australia</td>\n",
              "      <td>Australia</td>\n",
              "      <td>bat</td>\n",
              "      <td>BF Bowden</td>\n",
              "      <td>AL Hill</td>\n",
              "      <td>Australia</td>\n",
              "    </tr>\n",
              "    <tr>\n",
              "      <th>1</th>\n",
              "      <td>2005</td>\n",
              "      <td>6</td>\n",
              "      <td>13</td>\n",
              "      <td>Southampton</td>\n",
              "      <td>The Rose Bowl</td>\n",
              "      <td>England</td>\n",
              "      <td>England</td>\n",
              "      <td>Australia</td>\n",
              "      <td>England</td>\n",
              "      <td>bat</td>\n",
              "      <td>NJ Llong</td>\n",
              "      <td>JW Lloyds</td>\n",
              "      <td>England</td>\n",
              "    </tr>\n",
              "    <tr>\n",
              "      <th>2</th>\n",
              "      <td>2005</td>\n",
              "      <td>10</td>\n",
              "      <td>21</td>\n",
              "      <td>Johannesburg</td>\n",
              "      <td>New Wanderers Stadium</td>\n",
              "      <td>South Africa</td>\n",
              "      <td>South Africa</td>\n",
              "      <td>New Zealand</td>\n",
              "      <td>New Zealand</td>\n",
              "      <td>field</td>\n",
              "      <td>IL Howell</td>\n",
              "      <td>BG Jerling</td>\n",
              "      <td>New Zealand</td>\n",
              "    </tr>\n",
              "    <tr>\n",
              "      <th>3</th>\n",
              "      <td>2006</td>\n",
              "      <td>1</td>\n",
              "      <td>9</td>\n",
              "      <td>Brisbane</td>\n",
              "      <td>Brisbane Cricket Ground</td>\n",
              "      <td>Australia</td>\n",
              "      <td>Australia</td>\n",
              "      <td>South Africa</td>\n",
              "      <td>Australia</td>\n",
              "      <td>bat</td>\n",
              "      <td>BNJ Oxenford</td>\n",
              "      <td>RL Parry</td>\n",
              "      <td>Australia</td>\n",
              "    </tr>\n",
              "    <tr>\n",
              "      <th>4</th>\n",
              "      <td>2006</td>\n",
              "      <td>2</td>\n",
              "      <td>16</td>\n",
              "      <td>Auckland</td>\n",
              "      <td>Eden Park</td>\n",
              "      <td>New Zealand</td>\n",
              "      <td>West Indies</td>\n",
              "      <td>New Zealand</td>\n",
              "      <td>New Zealand</td>\n",
              "      <td>field</td>\n",
              "      <td>BF Bowden</td>\n",
              "      <td>AL Hill</td>\n",
              "      <td>New Zealand</td>\n",
              "    </tr>\n",
              "    <tr>\n",
              "      <th>...</th>\n",
              "      <td>...</td>\n",
              "      <td>...</td>\n",
              "      <td>...</td>\n",
              "      <td>...</td>\n",
              "      <td>...</td>\n",
              "      <td>...</td>\n",
              "      <td>...</td>\n",
              "      <td>...</td>\n",
              "      <td>...</td>\n",
              "      <td>...</td>\n",
              "      <td>...</td>\n",
              "      <td>...</td>\n",
              "      <td>...</td>\n",
              "    </tr>\n",
              "    <tr>\n",
              "      <th>966</th>\n",
              "      <td>2021</td>\n",
              "      <td>3</td>\n",
              "      <td>17</td>\n",
              "      <td>Abu Dhabi</td>\n",
              "      <td>Sheikh Zayed Stadium</td>\n",
              "      <td>none</td>\n",
              "      <td>Afghanistan</td>\n",
              "      <td>Zimbabwe</td>\n",
              "      <td>Zimbabwe</td>\n",
              "      <td>field</td>\n",
              "      <td>Aleem Dar</td>\n",
              "      <td>Izatullah Safi</td>\n",
              "      <td>Afghanistan</td>\n",
              "    </tr>\n",
              "    <tr>\n",
              "      <th>967</th>\n",
              "      <td>2021</td>\n",
              "      <td>3</td>\n",
              "      <td>18</td>\n",
              "      <td>Ahmedabad</td>\n",
              "      <td>Narendra Modi Stadium</td>\n",
              "      <td>India</td>\n",
              "      <td>India</td>\n",
              "      <td>England</td>\n",
              "      <td>England</td>\n",
              "      <td>field</td>\n",
              "      <td>KN Ananthapadmanabhan</td>\n",
              "      <td>Nitin Menon</td>\n",
              "      <td>India</td>\n",
              "    </tr>\n",
              "    <tr>\n",
              "      <th>968</th>\n",
              "      <td>2021</td>\n",
              "      <td>3</td>\n",
              "      <td>19</td>\n",
              "      <td>Abu Dhabi</td>\n",
              "      <td>Sheikh Zayed Stadium</td>\n",
              "      <td>none</td>\n",
              "      <td>Afghanistan</td>\n",
              "      <td>Zimbabwe</td>\n",
              "      <td>Afghanistan</td>\n",
              "      <td>bat</td>\n",
              "      <td>Ahmed Shah Durrani</td>\n",
              "      <td>Aleem Dar</td>\n",
              "      <td>Afghanistan</td>\n",
              "    </tr>\n",
              "    <tr>\n",
              "      <th>969</th>\n",
              "      <td>2021</td>\n",
              "      <td>3</td>\n",
              "      <td>20</td>\n",
              "      <td>Ahmedabad</td>\n",
              "      <td>Narendra Modi Stadium</td>\n",
              "      <td>India</td>\n",
              "      <td>India</td>\n",
              "      <td>England</td>\n",
              "      <td>England</td>\n",
              "      <td>field</td>\n",
              "      <td>AK Chaudhary</td>\n",
              "      <td>Nitin Menon</td>\n",
              "      <td>India</td>\n",
              "    </tr>\n",
              "    <tr>\n",
              "      <th>970</th>\n",
              "      <td>2021</td>\n",
              "      <td>3</td>\n",
              "      <td>20</td>\n",
              "      <td>Abu Dhabi</td>\n",
              "      <td>Sheikh Zayed Stadium</td>\n",
              "      <td>none</td>\n",
              "      <td>Afghanistan</td>\n",
              "      <td>Zimbabwe</td>\n",
              "      <td>Afghanistan</td>\n",
              "      <td>bat</td>\n",
              "      <td>Aleem Dar</td>\n",
              "      <td>Izatullah Safi</td>\n",
              "      <td>Afghanistan</td>\n",
              "    </tr>\n",
              "  </tbody>\n",
              "</table>\n",
              "<p>971 rows × 13 columns</p>\n",
              "</div>"
            ],
            "text/plain": [
              "     year  month  day  ...               umpire_1        umpire_2 match_winner\n",
              "0    2005      2   17  ...              BF Bowden         AL Hill    Australia\n",
              "1    2005      6   13  ...               NJ Llong       JW Lloyds      England\n",
              "2    2005     10   21  ...              IL Howell      BG Jerling  New Zealand\n",
              "3    2006      1    9  ...           BNJ Oxenford        RL Parry    Australia\n",
              "4    2006      2   16  ...              BF Bowden         AL Hill  New Zealand\n",
              "..    ...    ...  ...  ...                    ...             ...          ...\n",
              "966  2021      3   17  ...              Aleem Dar  Izatullah Safi  Afghanistan\n",
              "967  2021      3   18  ...  KN Ananthapadmanabhan     Nitin Menon        India\n",
              "968  2021      3   19  ...     Ahmed Shah Durrani       Aleem Dar  Afghanistan\n",
              "969  2021      3   20  ...           AK Chaudhary     Nitin Menon        India\n",
              "970  2021      3   20  ...              Aleem Dar  Izatullah Safi  Afghanistan\n",
              "\n",
              "[971 rows x 13 columns]"
            ]
          },
          "metadata": {
            "tags": []
          },
          "execution_count": 348
        }
      ]
    },
    {
      "cell_type": "code",
      "metadata": {
        "colab": {
          "base_uri": "https://localhost:8080/"
        },
        "id": "pX4-cy4nj5ZP",
        "outputId": "f1a4e1b5-ffb5-4688-e40c-20fcb728414d"
      },
      "source": [
        "t3.columns"
      ],
      "execution_count": 349,
      "outputs": [
        {
          "output_type": "execute_result",
          "data": {
            "text/plain": [
              "Index(['year', 'month', 'day', 'city', 'venue', 'home_team', 'team_1',\n",
              "       'team_2', 'toss_winner', 'toss_decision', 'umpire_1', 'umpire_2',\n",
              "       'match_winner'],\n",
              "      dtype='object')"
            ]
          },
          "metadata": {
            "tags": []
          },
          "execution_count": 349
        }
      ]
    },
    {
      "cell_type": "code",
      "metadata": {
        "colab": {
          "base_uri": "https://localhost:8080/"
        },
        "id": "dVswlTCQjHbH",
        "outputId": "ab04e606-d444-4e5d-90f8-4f78bc749d56"
      },
      "source": [
        "team1 = t3['team_1'].sort_values().unique()\n",
        "team1"
      ],
      "execution_count": 350,
      "outputs": [
        {
          "output_type": "execute_result",
          "data": {
            "text/plain": [
              "array(['Afghanistan', 'Australia', 'Bahrain', 'Bangladesh', 'Bermuda',\n",
              "       'Bhutan', 'Botswana', 'Bulgaria', 'Canada', 'Cayman Islands',\n",
              "       'Denmark', 'England', 'Germany', 'Ghana', 'Guernsey', 'Hong Kong',\n",
              "       'India', 'Iran', 'Ireland', 'Isle of Man', 'Italy', 'Jersey',\n",
              "       'Kenya', 'Kuwait', 'Malaysia', 'Maldives', 'Namibia', 'Nepal',\n",
              "       'Netherlands', 'New Zealand', 'Nigeria', 'Oman', 'Pakistan',\n",
              "       'Papua New Guinea', 'Philippines', 'Qatar', 'Romania',\n",
              "       'Saudi Arabia', 'Scotland', 'Singapore', 'South Africa',\n",
              "       'Sri Lanka', 'Thailand', 'Uganda', 'United Arab Emirates',\n",
              "       'United States of America', 'West Indies', 'Zimbabwe'],\n",
              "      dtype=object)"
            ]
          },
          "metadata": {
            "tags": []
          },
          "execution_count": 350
        }
      ]
    },
    {
      "cell_type": "code",
      "metadata": {
        "colab": {
          "base_uri": "https://localhost:8080/"
        },
        "id": "INSYD1TzjW9E",
        "outputId": "06f06ceb-9058-4afd-9b99-1f44f7edbe12"
      },
      "source": [
        "t3['team_2'].sort_values().unique()"
      ],
      "execution_count": 351,
      "outputs": [
        {
          "output_type": "execute_result",
          "data": {
            "text/plain": [
              "array(['Afghanistan', 'Australia', 'Bahrain', 'Bangladesh', 'Bermuda',\n",
              "       'Bhutan', 'Botswana', 'Bulgaria', 'Canada', 'Cayman Islands',\n",
              "       'Denmark', 'England', 'Germany', 'Ghana', 'Guernsey', 'Hong Kong',\n",
              "       'India', 'Ireland', 'Italy', 'Jersey', 'Kenya', 'Kuwait',\n",
              "       'Malaysia', 'Maldives', 'Namibia', 'Nepal', 'Netherlands',\n",
              "       'New Zealand', 'Nigeria', 'Norway', 'Oman', 'Pakistan',\n",
              "       'Papua New Guinea', 'Philippines', 'Qatar', 'Romania', 'Scotland',\n",
              "       'Singapore', 'South Africa', 'Sri Lanka', 'Thailand',\n",
              "       'United Arab Emirates', 'United States of America', 'Vanuatu',\n",
              "       'West Indies', 'Zimbabwe'], dtype=object)"
            ]
          },
          "metadata": {
            "tags": []
          },
          "execution_count": 351
        }
      ]
    },
    {
      "cell_type": "code",
      "metadata": {
        "colab": {
          "base_uri": "https://localhost:8080/"
        },
        "id": "j0BA3cdFkBxX",
        "outputId": "b99700e2-f8b5-40b1-8c79-e281ee9ca046"
      },
      "source": [
        "t3['toss_winner'].sort_values().unique()"
      ],
      "execution_count": 352,
      "outputs": [
        {
          "output_type": "execute_result",
          "data": {
            "text/plain": [
              "array(['Afghanistan', 'Australia', 'Bahrain', 'Bangladesh', 'Bermuda',\n",
              "       'Bhutan', 'Botswana', 'Bulgaria', 'Canada', 'Cayman Islands',\n",
              "       'Denmark', 'England', 'Germany', 'Ghana', 'Guernsey', 'Hong Kong',\n",
              "       'India', 'Ireland', 'Isle of Man', 'Italy', 'Jersey', 'Kenya',\n",
              "       'Kuwait', 'Malaysia', 'Maldives', 'Namibia', 'Nepal',\n",
              "       'Netherlands', 'New Zealand', 'Nigeria', 'Oman', 'Pakistan',\n",
              "       'Papua New Guinea', 'Philippines', 'Qatar', 'Romania', 'Scotland',\n",
              "       'Singapore', 'South Africa', 'Sri Lanka', 'Thailand',\n",
              "       'United Arab Emirates', 'United States of America', 'Vanuatu',\n",
              "       'West Indies', 'Zimbabwe'], dtype=object)"
            ]
          },
          "metadata": {
            "tags": []
          },
          "execution_count": 352
        }
      ]
    },
    {
      "cell_type": "code",
      "metadata": {
        "colab": {
          "base_uri": "https://localhost:8080/"
        },
        "id": "IJRAxxqUj__n",
        "outputId": "fdaef16e-3ca2-4cd0-df7a-08c93c2c3b04"
      },
      "source": [
        "winner = t3['match_winner'].sort_values().unique()\n",
        "winner"
      ],
      "execution_count": 353,
      "outputs": [
        {
          "output_type": "execute_result",
          "data": {
            "text/plain": [
              "array(['Afghanistan', 'Australia', 'Bahrain', 'Bangladesh', 'Bermuda',\n",
              "       'Bulgaria', 'Canada', 'Denmark', 'England', 'Germany', 'Guernsey',\n",
              "       'Hong Kong', 'India', 'Ireland', 'Italy', 'Jersey', 'Kenya',\n",
              "       'Kuwait', 'Malaysia', 'Maldives', 'Namibia', 'Nepal',\n",
              "       'Netherlands', 'New Zealand', 'Nigeria', 'Oman', 'Pakistan',\n",
              "       'Papua New Guinea', 'Philippines', 'Qatar', 'Romania', 'Scotland',\n",
              "       'Singapore', 'South Africa', 'Sri Lanka', 'Thailand', 'Uganda',\n",
              "       'United Arab Emirates', 'United States of America', 'Vanuatu',\n",
              "       'West Indies', 'Zimbabwe'], dtype=object)"
            ]
          },
          "metadata": {
            "tags": []
          },
          "execution_count": 353
        }
      ]
    },
    {
      "cell_type": "code",
      "metadata": {
        "colab": {
          "base_uri": "https://localhost:8080/"
        },
        "id": "ION0_D85mR2A",
        "outputId": "b8c559e3-0705-44a2-8e4c-c3046f775068"
      },
      "source": [
        "t4 = t3\n",
        "t4.info()"
      ],
      "execution_count": 354,
      "outputs": [
        {
          "output_type": "stream",
          "text": [
            "<class 'pandas.core.frame.DataFrame'>\n",
            "Int64Index: 971 entries, 0 to 970\n",
            "Data columns (total 13 columns):\n",
            " #   Column         Non-Null Count  Dtype \n",
            "---  ------         --------------  ----- \n",
            " 0   year           971 non-null    int64 \n",
            " 1   month          971 non-null    int64 \n",
            " 2   day            971 non-null    int64 \n",
            " 3   city           971 non-null    object\n",
            " 4   venue          971 non-null    object\n",
            " 5   home_team      971 non-null    object\n",
            " 6   team_1         971 non-null    object\n",
            " 7   team_2         971 non-null    object\n",
            " 8   toss_winner    971 non-null    object\n",
            " 9   toss_decision  971 non-null    object\n",
            " 10  umpire_1       971 non-null    object\n",
            " 11  umpire_2       971 non-null    object\n",
            " 12  match_winner   971 non-null    object\n",
            "dtypes: int64(3), object(10)\n",
            "memory usage: 106.2+ KB\n"
          ],
          "name": "stdout"
        }
      ]
    },
    {
      "cell_type": "code",
      "metadata": {
        "colab": {
          "base_uri": "https://localhost:8080/"
        },
        "id": "J454BEsrtX5u",
        "outputId": "e7485ddc-ae09-448f-c6d4-21318557a4d2"
      },
      "source": [
        "t4['team_1'].nunique()"
      ],
      "execution_count": 355,
      "outputs": [
        {
          "output_type": "execute_result",
          "data": {
            "text/plain": [
              "48"
            ]
          },
          "metadata": {
            "tags": []
          },
          "execution_count": 355
        }
      ]
    },
    {
      "cell_type": "code",
      "metadata": {
        "colab": {
          "base_uri": "https://localhost:8080/"
        },
        "id": "shes6X8etXj7",
        "outputId": "c79c0898-50a8-4bdc-de3b-6c03f6e06e6a"
      },
      "source": [
        "t4['team_2'].nunique()"
      ],
      "execution_count": 356,
      "outputs": [
        {
          "output_type": "execute_result",
          "data": {
            "text/plain": [
              "46"
            ]
          },
          "metadata": {
            "tags": []
          },
          "execution_count": 356
        }
      ]
    },
    {
      "cell_type": "code",
      "metadata": {
        "colab": {
          "base_uri": "https://localhost:8080/"
        },
        "id": "cxO0_R5GtXR3",
        "outputId": "8e7cdb5d-33c1-451e-b10d-8b305d748080"
      },
      "source": [
        "t4['toss_winner'].nunique()"
      ],
      "execution_count": 357,
      "outputs": [
        {
          "output_type": "execute_result",
          "data": {
            "text/plain": [
              "46"
            ]
          },
          "metadata": {
            "tags": []
          },
          "execution_count": 357
        }
      ]
    },
    {
      "cell_type": "code",
      "metadata": {
        "colab": {
          "base_uri": "https://localhost:8080/"
        },
        "id": "STCqWYg3r9zs",
        "outputId": "b06501ce-de33-4253-b0b9-9d55a49c1925"
      },
      "source": [
        "t4['match_winner'].nunique()"
      ],
      "execution_count": 358,
      "outputs": [
        {
          "output_type": "execute_result",
          "data": {
            "text/plain": [
              "42"
            ]
          },
          "metadata": {
            "tags": []
          },
          "execution_count": 358
        }
      ]
    },
    {
      "cell_type": "code",
      "metadata": {
        "colab": {
          "base_uri": "https://localhost:8080/"
        },
        "id": "bCr2uVFItWDp",
        "outputId": "237d125b-f5ad-4393-d660-6dd5f644eb80"
      },
      "source": [
        "t4['match_winner'].value_counts()"
      ],
      "execution_count": 359,
      "outputs": [
        {
          "output_type": "execute_result",
          "data": {
            "text/plain": [
              "Pakistan                    98\n",
              "India                       90\n",
              "New Zealand                 77\n",
              "Australia                   72\n",
              "South Africa                71\n",
              "England                     70\n",
              "Sri Lanka                   59\n",
              "West Indies                 58\n",
              "Afghanistan                 54\n",
              "Ireland                     39\n",
              "Netherlands                 36\n",
              "Bangladesh                  30\n",
              "Scotland                    23\n",
              "United Arab Emirates        21\n",
              "Zimbabwe                    17\n",
              "Nepal                       16\n",
              "Hong Kong                   15\n",
              "Oman                        14\n",
              "Papua New Guinea            13\n",
              "Namibia                     12\n",
              "Malaysia                    12\n",
              "Kenya                       11\n",
              "Singapore                    9\n",
              "Canada                       8\n",
              "Jersey                       6\n",
              "Bermuda                      5\n",
              "Germany                      4\n",
              "Guernsey                     4\n",
              "Vanuatu                      4\n",
              "Kuwait                       3\n",
              "Qatar                        2\n",
              "United States of America     2\n",
              "Denmark                      2\n",
              "Italy                        2\n",
              "Maldives                     2\n",
              "Uganda                       2\n",
              "Nigeria                      2\n",
              "Romania                      2\n",
              "Philippines                  1\n",
              "Thailand                     1\n",
              "Bahrain                      1\n",
              "Bulgaria                     1\n",
              "Name: match_winner, dtype: int64"
            ]
          },
          "metadata": {
            "tags": []
          },
          "execution_count": 359
        }
      ]
    },
    {
      "cell_type": "code",
      "metadata": {
        "colab": {
          "base_uri": "https://localhost:8080/"
        },
        "id": "y13fCh5GDhf9",
        "outputId": "e1e8d8b2-a855-4e71-8f32-856b1ad3d7ae"
      },
      "source": [
        "t4['home_team'].value_counts()"
      ],
      "execution_count": 360,
      "outputs": [
        {
          "output_type": "execute_result",
          "data": {
            "text/plain": [
              "none                    405\n",
              "New Zealand              70\n",
              "South Africa             62\n",
              "India                    51\n",
              "England                  48\n",
              "Australia                46\n",
              "West Indies              43\n",
              "Sri Lanka                42\n",
              "Bangladesh               38\n",
              "United Arab Emirates     27\n",
              "Zimbabwe                 24\n",
              "Pakistan                 18\n",
              "Ireland                  16\n",
              "Malaysia                 15\n",
              "Netherlands              12\n",
              "Oman                      7\n",
              "Singapore                 6\n",
              "Bermuda                   5\n",
              "Scotland                  5\n",
              "Kenya                     5\n",
              "Namibia                   4\n",
              "Thailand                  4\n",
              "Uganda                    4\n",
              "Papua New Guinea          4\n",
              "Nepal                     3\n",
              "Romania                   3\n",
              "Guernsey                  2\n",
              "Hong Kong                 2\n",
              "Name: home_team, dtype: int64"
            ]
          },
          "metadata": {
            "tags": []
          },
          "execution_count": 360
        }
      ]
    },
    {
      "cell_type": "code",
      "metadata": {
        "colab": {
          "base_uri": "https://localhost:8080/"
        },
        "id": "jl5hbuj_ugIQ",
        "outputId": "ac75a6a1-223f-449b-c839-43baca053c95"
      },
      "source": [
        "neverwon = np.setdiff1d(team1, winner)\n",
        "neverwon"
      ],
      "execution_count": 361,
      "outputs": [
        {
          "output_type": "execute_result",
          "data": {
            "text/plain": [
              "array(['Bhutan', 'Botswana', 'Cayman Islands', 'Ghana', 'Iran',\n",
              "       'Isle of Man', 'Saudi Arabia'], dtype=object)"
            ]
          },
          "metadata": {
            "tags": []
          },
          "execution_count": 361
        }
      ]
    },
    {
      "cell_type": "code",
      "metadata": {
        "colab": {
          "base_uri": "https://localhost:8080/",
          "height": 575
        },
        "id": "xvVAwzIefaoC",
        "outputId": "ac68ea81-375b-42cd-911b-29d3359aba30"
      },
      "source": [
        "# Creating Dictionaries\n",
        "\n",
        "team_encodings = {\n",
        "    'Pakistan'                    : 98,\n",
        "    'India'                       : 90,\n",
        "    'New Zealand'                 : 77,\n",
        "    'Australia'                   : 72,\n",
        "    'South Africa'                : 71,\n",
        "    'England'                     : 70,\n",
        "    'Sri Lanka'                   : 59,\n",
        "    'West Indies'                 : 58,\n",
        "    'Afghanistan'                 : 54,\n",
        "    'Ireland'                     : 41,\n",
        "    'Netherlands'                 : 40,\n",
        "    'Bangladesh'                  : 39,\n",
        "    'Scotland'                    : 38,\n",
        "    'United Arab Emirates'        : 37,\n",
        "    'Zimbabwe'                    : 36,\n",
        "    'Nepal'                       : 35,\n",
        "    'Hong Kong'                   : 34,\n",
        "    'Oman'                        : 33,\n",
        "    'Papua New Guinea'            : 32,\n",
        "    'Malaysia'                    : 31,\n",
        "    'Namibia'                     : 30,\n",
        "    'Kenya'                       : 29,\n",
        "    'Singapore'                   : 28,\n",
        "    'Canada'                      : 27,\n",
        "    'Jersey'                      : 26,\n",
        "    'Bermuda'                     : 25,\n",
        "    'Germany'                     : 24,\n",
        "    'Guernsey'                    : 23,\n",
        "    'Vanuatu'                     : 22,\n",
        "    'Kuwait'                      : 21,\n",
        "    'Qatar'                       : 20,\n",
        "    'Denmark'                     : 19,\n",
        "    'Romania'                     : 18,\n",
        "    'Italy'                       : 17,\n",
        "    'Maldives'                    : 16,\n",
        "    'Uganda'                      : 15,\n",
        "    'Nigeria'                     : 14,\n",
        "    'United States of America'    : 13,\n",
        "    'Philippines'                 : 12,\n",
        "    'Thailand'                    : 11,    \n",
        "    'Bahrain'                     : 10,    \n",
        "    'Bulgaria'                    : 9,\n",
        "    'Norway'                      : 8,\n",
        "    'Bhutan'                      : 7,\n",
        "    'Botswana'                    : 6,\n",
        "    'Cayman Islands'              : 5,\n",
        "    'Ghana'                       : 4,\n",
        "    'Iran'                        : 3,\n",
        "    'Isle of Man'                 : 2,\n",
        "    'Saudi Arabia'                : 1,\n",
        "    'none'                        : 0\n",
        "}\n",
        "\n",
        "team_encode_dict = {\n",
        "    'all_teams': team_encodings,\n",
        "    'team_1': team_encodings,\n",
        "    'team_2': team_encodings,\n",
        "    'home_team': team_encodings,\n",
        "    'toss_winner': team_encodings,\n",
        "    'match_winner': team_encodings\n",
        "}\n",
        "t4.replace(team_encode_dict, inplace=True)\n",
        "t4"
      ],
      "execution_count": 362,
      "outputs": [
        {
          "output_type": "stream",
          "text": [
            "{'Pakistan': 98, 'India': 90, 'New Zealand': 77, 'Australia': 72, 'South Africa': 71, 'England': 70, 'Sri Lanka': 59, 'West Indies': 58, 'Afghanistan': 54, 'Ireland': 41, 'Netherlands': 40, 'Bangladesh': 39, 'Scotland': 38, 'United Arab Emirates': 37, 'Zimbabwe': 36, 'Nepal': 35, 'Hong Kong': 34, 'Oman': 33, 'Papua New Guinea': 32, 'Malaysia': 31, 'Namibia': 30, 'Kenya': 29, 'Singapore': 28, 'Canada': 27, 'Jersey': 26, 'Bermuda': 25, 'Germany': 24, 'Guernsey': 23, 'Vanuatu': 22, 'Kuwait': 21, 'Qatar': 20, 'Denmark': 19, 'Romania': 18, 'Italy': 17, 'Maldives': 16, 'Uganda': 15, 'Nigeria': 14, 'United States of America': 13, 'Philippines': 12, 'Thailand': 11, 'Bahrain': 10, 'Bulgaria': 9, 'Norway': 8, 'Bhutan': 7, 'Botswana': 6, 'Cayman Islands': 5, 'Ghana': 4, 'Iran': 3, 'Isle of Man': 2, 'Saudi Arabia': 1, 'none': 0}\n"
          ],
          "name": "stdout"
        },
        {
          "output_type": "execute_result",
          "data": {
            "text/html": [
              "<div>\n",
              "<style scoped>\n",
              "    .dataframe tbody tr th:only-of-type {\n",
              "        vertical-align: middle;\n",
              "    }\n",
              "\n",
              "    .dataframe tbody tr th {\n",
              "        vertical-align: top;\n",
              "    }\n",
              "\n",
              "    .dataframe thead th {\n",
              "        text-align: right;\n",
              "    }\n",
              "</style>\n",
              "<table border=\"1\" class=\"dataframe\">\n",
              "  <thead>\n",
              "    <tr style=\"text-align: right;\">\n",
              "      <th></th>\n",
              "      <th>year</th>\n",
              "      <th>month</th>\n",
              "      <th>day</th>\n",
              "      <th>city</th>\n",
              "      <th>venue</th>\n",
              "      <th>home_team</th>\n",
              "      <th>team_1</th>\n",
              "      <th>team_2</th>\n",
              "      <th>toss_winner</th>\n",
              "      <th>toss_decision</th>\n",
              "      <th>umpire_1</th>\n",
              "      <th>umpire_2</th>\n",
              "      <th>match_winner</th>\n",
              "    </tr>\n",
              "  </thead>\n",
              "  <tbody>\n",
              "    <tr>\n",
              "      <th>0</th>\n",
              "      <td>2005</td>\n",
              "      <td>2</td>\n",
              "      <td>17</td>\n",
              "      <td>Auckland</td>\n",
              "      <td>Eden Park</td>\n",
              "      <td>77</td>\n",
              "      <td>77</td>\n",
              "      <td>72</td>\n",
              "      <td>72</td>\n",
              "      <td>bat</td>\n",
              "      <td>BF Bowden</td>\n",
              "      <td>AL Hill</td>\n",
              "      <td>72</td>\n",
              "    </tr>\n",
              "    <tr>\n",
              "      <th>1</th>\n",
              "      <td>2005</td>\n",
              "      <td>6</td>\n",
              "      <td>13</td>\n",
              "      <td>Southampton</td>\n",
              "      <td>The Rose Bowl</td>\n",
              "      <td>70</td>\n",
              "      <td>70</td>\n",
              "      <td>72</td>\n",
              "      <td>70</td>\n",
              "      <td>bat</td>\n",
              "      <td>NJ Llong</td>\n",
              "      <td>JW Lloyds</td>\n",
              "      <td>70</td>\n",
              "    </tr>\n",
              "    <tr>\n",
              "      <th>2</th>\n",
              "      <td>2005</td>\n",
              "      <td>10</td>\n",
              "      <td>21</td>\n",
              "      <td>Johannesburg</td>\n",
              "      <td>New Wanderers Stadium</td>\n",
              "      <td>71</td>\n",
              "      <td>71</td>\n",
              "      <td>77</td>\n",
              "      <td>77</td>\n",
              "      <td>field</td>\n",
              "      <td>IL Howell</td>\n",
              "      <td>BG Jerling</td>\n",
              "      <td>77</td>\n",
              "    </tr>\n",
              "    <tr>\n",
              "      <th>3</th>\n",
              "      <td>2006</td>\n",
              "      <td>1</td>\n",
              "      <td>9</td>\n",
              "      <td>Brisbane</td>\n",
              "      <td>Brisbane Cricket Ground</td>\n",
              "      <td>72</td>\n",
              "      <td>72</td>\n",
              "      <td>71</td>\n",
              "      <td>72</td>\n",
              "      <td>bat</td>\n",
              "      <td>BNJ Oxenford</td>\n",
              "      <td>RL Parry</td>\n",
              "      <td>72</td>\n",
              "    </tr>\n",
              "    <tr>\n",
              "      <th>4</th>\n",
              "      <td>2006</td>\n",
              "      <td>2</td>\n",
              "      <td>16</td>\n",
              "      <td>Auckland</td>\n",
              "      <td>Eden Park</td>\n",
              "      <td>77</td>\n",
              "      <td>58</td>\n",
              "      <td>77</td>\n",
              "      <td>77</td>\n",
              "      <td>field</td>\n",
              "      <td>BF Bowden</td>\n",
              "      <td>AL Hill</td>\n",
              "      <td>77</td>\n",
              "    </tr>\n",
              "    <tr>\n",
              "      <th>...</th>\n",
              "      <td>...</td>\n",
              "      <td>...</td>\n",
              "      <td>...</td>\n",
              "      <td>...</td>\n",
              "      <td>...</td>\n",
              "      <td>...</td>\n",
              "      <td>...</td>\n",
              "      <td>...</td>\n",
              "      <td>...</td>\n",
              "      <td>...</td>\n",
              "      <td>...</td>\n",
              "      <td>...</td>\n",
              "      <td>...</td>\n",
              "    </tr>\n",
              "    <tr>\n",
              "      <th>966</th>\n",
              "      <td>2021</td>\n",
              "      <td>3</td>\n",
              "      <td>17</td>\n",
              "      <td>Abu Dhabi</td>\n",
              "      <td>Sheikh Zayed Stadium</td>\n",
              "      <td>0</td>\n",
              "      <td>54</td>\n",
              "      <td>36</td>\n",
              "      <td>36</td>\n",
              "      <td>field</td>\n",
              "      <td>Aleem Dar</td>\n",
              "      <td>Izatullah Safi</td>\n",
              "      <td>54</td>\n",
              "    </tr>\n",
              "    <tr>\n",
              "      <th>967</th>\n",
              "      <td>2021</td>\n",
              "      <td>3</td>\n",
              "      <td>18</td>\n",
              "      <td>Ahmedabad</td>\n",
              "      <td>Narendra Modi Stadium</td>\n",
              "      <td>90</td>\n",
              "      <td>90</td>\n",
              "      <td>70</td>\n",
              "      <td>70</td>\n",
              "      <td>field</td>\n",
              "      <td>KN Ananthapadmanabhan</td>\n",
              "      <td>Nitin Menon</td>\n",
              "      <td>90</td>\n",
              "    </tr>\n",
              "    <tr>\n",
              "      <th>968</th>\n",
              "      <td>2021</td>\n",
              "      <td>3</td>\n",
              "      <td>19</td>\n",
              "      <td>Abu Dhabi</td>\n",
              "      <td>Sheikh Zayed Stadium</td>\n",
              "      <td>0</td>\n",
              "      <td>54</td>\n",
              "      <td>36</td>\n",
              "      <td>54</td>\n",
              "      <td>bat</td>\n",
              "      <td>Ahmed Shah Durrani</td>\n",
              "      <td>Aleem Dar</td>\n",
              "      <td>54</td>\n",
              "    </tr>\n",
              "    <tr>\n",
              "      <th>969</th>\n",
              "      <td>2021</td>\n",
              "      <td>3</td>\n",
              "      <td>20</td>\n",
              "      <td>Ahmedabad</td>\n",
              "      <td>Narendra Modi Stadium</td>\n",
              "      <td>90</td>\n",
              "      <td>90</td>\n",
              "      <td>70</td>\n",
              "      <td>70</td>\n",
              "      <td>field</td>\n",
              "      <td>AK Chaudhary</td>\n",
              "      <td>Nitin Menon</td>\n",
              "      <td>90</td>\n",
              "    </tr>\n",
              "    <tr>\n",
              "      <th>970</th>\n",
              "      <td>2021</td>\n",
              "      <td>3</td>\n",
              "      <td>20</td>\n",
              "      <td>Abu Dhabi</td>\n",
              "      <td>Sheikh Zayed Stadium</td>\n",
              "      <td>0</td>\n",
              "      <td>54</td>\n",
              "      <td>36</td>\n",
              "      <td>54</td>\n",
              "      <td>bat</td>\n",
              "      <td>Aleem Dar</td>\n",
              "      <td>Izatullah Safi</td>\n",
              "      <td>54</td>\n",
              "    </tr>\n",
              "  </tbody>\n",
              "</table>\n",
              "<p>971 rows × 13 columns</p>\n",
              "</div>"
            ],
            "text/plain": [
              "     year  month  day  ...               umpire_1        umpire_2  match_winner\n",
              "0    2005      2   17  ...              BF Bowden         AL Hill            72\n",
              "1    2005      6   13  ...               NJ Llong       JW Lloyds            70\n",
              "2    2005     10   21  ...              IL Howell      BG Jerling            77\n",
              "3    2006      1    9  ...           BNJ Oxenford        RL Parry            72\n",
              "4    2006      2   16  ...              BF Bowden         AL Hill            77\n",
              "..    ...    ...  ...  ...                    ...             ...           ...\n",
              "966  2021      3   17  ...              Aleem Dar  Izatullah Safi            54\n",
              "967  2021      3   18  ...  KN Ananthapadmanabhan     Nitin Menon            90\n",
              "968  2021      3   19  ...     Ahmed Shah Durrani       Aleem Dar            54\n",
              "969  2021      3   20  ...           AK Chaudhary     Nitin Menon            90\n",
              "970  2021      3   20  ...              Aleem Dar  Izatullah Safi            54\n",
              "\n",
              "[971 rows x 13 columns]"
            ]
          },
          "metadata": {
            "tags": []
          },
          "execution_count": 362
        }
      ]
    },
    {
      "cell_type": "code",
      "metadata": {
        "colab": {
          "base_uri": "https://localhost:8080/"
        },
        "id": "gKm62AW7L_Y8",
        "outputId": "741fd373-5d1c-43c4-b6cf-7dce0f42dae6"
      },
      "source": [
        "print(team_encode_dict['all_teams'])"
      ],
      "execution_count": 412,
      "outputs": [
        {
          "output_type": "stream",
          "text": [
            "{'Pakistan': 98, 'India': 90, 'New Zealand': 77, 'Australia': 72, 'South Africa': 71, 'England': 70, 'Sri Lanka': 59, 'West Indies': 58, 'Afghanistan': 54, 'Ireland': 41, 'Netherlands': 40, 'Bangladesh': 39, 'Scotland': 38, 'United Arab Emirates': 37, 'Zimbabwe': 36, 'Nepal': 35, 'Hong Kong': 34, 'Oman': 33, 'Papua New Guinea': 32, 'Malaysia': 31, 'Namibia': 30, 'Kenya': 29, 'Singapore': 28, 'Canada': 27, 'Jersey': 26, 'Bermuda': 25, 'Germany': 24, 'Guernsey': 23, 'Vanuatu': 22, 'Kuwait': 21, 'Qatar': 20, 'Denmark': 19, 'Romania': 18, 'Italy': 17, 'Maldives': 16, 'Uganda': 15, 'Nigeria': 14, 'United States of America': 13, 'Philippines': 12, 'Thailand': 11, 'Bahrain': 10, 'Bulgaria': 9, 'Norway': 8, 'Bhutan': 7, 'Botswana': 6, 'Cayman Islands': 5, 'Ghana': 4, 'Iran': 3, 'Isle of Man': 2, 'Saudi Arabia': 1, 'none': 0}\n"
          ],
          "name": "stdout"
        }
      ]
    },
    {
      "cell_type": "code",
      "metadata": {
        "colab": {
          "base_uri": "https://localhost:8080/"
        },
        "id": "OIz5L21O13iq",
        "outputId": "6b7544c5-822c-4b62-bded-b6013d173505"
      },
      "source": [
        "t4['team_1'].value_counts()"
      ],
      "execution_count": 363,
      "outputs": [
        {
          "output_type": "execute_result",
          "data": {
            "text/plain": [
              "77    81\n",
              "72    80\n",
              "90    77\n",
              "70    70\n",
              "71    69\n",
              "54    62\n",
              "98    57\n",
              "39    56\n",
              "59    51\n",
              "58    51\n",
              "41    43\n",
              "36    28\n",
              "40    28\n",
              "34    27\n",
              "37    27\n",
              "27    19\n",
              "31    17\n",
              "29    16\n",
              "30    10\n",
              "35    10\n",
              "33    10\n",
              "25    10\n",
              "38     7\n",
              "28     6\n",
              "21     5\n",
              "32     5\n",
              "19     5\n",
              "11     4\n",
              "15     4\n",
              "23     4\n",
              "4      3\n",
              "12     3\n",
              "16     3\n",
              "26     3\n",
              "24     3\n",
              "13     2\n",
              "9      2\n",
              "6      2\n",
              "5      2\n",
              "17     1\n",
              "14     1\n",
              "18     1\n",
              "20     1\n",
              "10     1\n",
              "7      1\n",
              "3      1\n",
              "2      1\n",
              "1      1\n",
              "Name: team_1, dtype: int64"
            ]
          },
          "metadata": {
            "tags": []
          },
          "execution_count": 363
        }
      ]
    },
    {
      "cell_type": "code",
      "metadata": {
        "colab": {
          "base_uri": "https://localhost:8080/"
        },
        "id": "fl6siv2V15QS",
        "outputId": "85559ab5-6911-4847-d64b-e9b004092ebd"
      },
      "source": [
        "t4['team_2'].value_counts()"
      ],
      "execution_count": 364,
      "outputs": [
        {
          "output_type": "execute_result",
          "data": {
            "text/plain": [
              "98    100\n",
              "58     78\n",
              "59     77\n",
              "90     63\n",
              "77     61\n",
              "70     61\n",
              "71     57\n",
              "72     56\n",
              "36     49\n",
              "41     43\n",
              "38     42\n",
              "40     36\n",
              "39     35\n",
              "35     21\n",
              "33     21\n",
              "37     18\n",
              "54     16\n",
              "32     15\n",
              "34     15\n",
              "29     12\n",
              "22      9\n",
              "28      9\n",
              "14      7\n",
              "26      7\n",
              "30      6\n",
              "13      6\n",
              "6       5\n",
              "31      5\n",
              "20      5\n",
              "5       4\n",
              "8       4\n",
              "11      4\n",
              "16      4\n",
              "17      3\n",
              "27      2\n",
              "18      2\n",
              "23      2\n",
              "24      2\n",
              "25      2\n",
              "19      1\n",
              "12      1\n",
              "21      1\n",
              "10      1\n",
              "9       1\n",
              "7       1\n",
              "4       1\n",
              "Name: team_2, dtype: int64"
            ]
          },
          "metadata": {
            "tags": []
          },
          "execution_count": 364
        }
      ]
    },
    {
      "cell_type": "code",
      "metadata": {
        "colab": {
          "base_uri": "https://localhost:8080/"
        },
        "id": "chU6eaWmEhf4",
        "outputId": "f9fa6c7a-eeaa-42e5-9157-e69b35cf30b3"
      },
      "source": [
        "t4['home_team'].value_counts()"
      ],
      "execution_count": 365,
      "outputs": [
        {
          "output_type": "execute_result",
          "data": {
            "text/plain": [
              "0     405\n",
              "77     70\n",
              "71     62\n",
              "90     51\n",
              "70     48\n",
              "72     46\n",
              "58     43\n",
              "59     42\n",
              "39     38\n",
              "37     27\n",
              "36     24\n",
              "98     18\n",
              "41     16\n",
              "31     15\n",
              "40     12\n",
              "33      7\n",
              "28      6\n",
              "38      5\n",
              "29      5\n",
              "25      5\n",
              "32      4\n",
              "30      4\n",
              "15      4\n",
              "11      4\n",
              "18      3\n",
              "35      3\n",
              "34      2\n",
              "23      2\n",
              "Name: home_team, dtype: int64"
            ]
          },
          "metadata": {
            "tags": []
          },
          "execution_count": 365
        }
      ]
    },
    {
      "cell_type": "code",
      "metadata": {
        "colab": {
          "base_uri": "https://localhost:8080/"
        },
        "id": "O3Y2dKuf143g",
        "outputId": "d34b705c-ab8f-42ac-db6b-96a557db8e87"
      },
      "source": [
        "t4['toss_winner'].value_counts()"
      ],
      "execution_count": 366,
      "outputs": [
        {
          "output_type": "execute_result",
          "data": {
            "text/plain": [
              "98    79\n",
              "72    73\n",
              "77    69\n",
              "58    67\n",
              "70    66\n",
              "90    64\n",
              "71    60\n",
              "59    58\n",
              "41    48\n",
              "39    48\n",
              "36    39\n",
              "54    39\n",
              "40    33\n",
              "37    25\n",
              "34    22\n",
              "38    19\n",
              "33    18\n",
              "31    14\n",
              "29    14\n",
              "35    13\n",
              "32    11\n",
              "28    10\n",
              "27    10\n",
              "30     7\n",
              "11     7\n",
              "22     6\n",
              "25     5\n",
              "6      5\n",
              "26     4\n",
              "24     4\n",
              "19     4\n",
              "14     4\n",
              "5      3\n",
              "13     3\n",
              "4      3\n",
              "23     3\n",
              "17     2\n",
              "20     2\n",
              "21     2\n",
              "9      2\n",
              "7      1\n",
              "16     1\n",
              "10     1\n",
              "12     1\n",
              "18     1\n",
              "2      1\n",
              "Name: toss_winner, dtype: int64"
            ]
          },
          "metadata": {
            "tags": []
          },
          "execution_count": 366
        }
      ]
    },
    {
      "cell_type": "code",
      "metadata": {
        "colab": {
          "base_uri": "https://localhost:8080/"
        },
        "id": "TdFDhYT714es",
        "outputId": "b6cf3be9-94c4-49d0-96f9-2743af8e8faa"
      },
      "source": [
        "t4['match_winner'].value_counts()"
      ],
      "execution_count": 367,
      "outputs": [
        {
          "output_type": "execute_result",
          "data": {
            "text/plain": [
              "98    98\n",
              "90    90\n",
              "77    77\n",
              "72    72\n",
              "71    71\n",
              "70    70\n",
              "59    59\n",
              "58    58\n",
              "54    54\n",
              "41    39\n",
              "40    36\n",
              "39    30\n",
              "38    23\n",
              "37    21\n",
              "36    17\n",
              "35    16\n",
              "34    15\n",
              "33    14\n",
              "32    13\n",
              "31    12\n",
              "30    12\n",
              "29    11\n",
              "28     9\n",
              "27     8\n",
              "26     6\n",
              "25     5\n",
              "24     4\n",
              "23     4\n",
              "22     4\n",
              "21     3\n",
              "16     2\n",
              "13     2\n",
              "14     2\n",
              "15     2\n",
              "18     2\n",
              "17     2\n",
              "19     2\n",
              "20     2\n",
              "12     1\n",
              "11     1\n",
              "10     1\n",
              "9      1\n",
              "Name: match_winner, dtype: int64"
            ]
          },
          "metadata": {
            "tags": []
          },
          "execution_count": 367
        }
      ]
    },
    {
      "cell_type": "code",
      "metadata": {
        "colab": {
          "base_uri": "https://localhost:8080/"
        },
        "id": "nEnUEkMWmq_T",
        "outputId": "646a61cb-0a4d-49a8-92df-043436da585e"
      },
      "source": [
        "t4.info()"
      ],
      "execution_count": 368,
      "outputs": [
        {
          "output_type": "stream",
          "text": [
            "<class 'pandas.core.frame.DataFrame'>\n",
            "Int64Index: 971 entries, 0 to 970\n",
            "Data columns (total 13 columns):\n",
            " #   Column         Non-Null Count  Dtype \n",
            "---  ------         --------------  ----- \n",
            " 0   year           971 non-null    int64 \n",
            " 1   month          971 non-null    int64 \n",
            " 2   day            971 non-null    int64 \n",
            " 3   city           971 non-null    object\n",
            " 4   venue          971 non-null    object\n",
            " 5   home_team      971 non-null    int64 \n",
            " 6   team_1         971 non-null    int64 \n",
            " 7   team_2         971 non-null    int64 \n",
            " 8   toss_winner    971 non-null    int64 \n",
            " 9   toss_decision  971 non-null    object\n",
            " 10  umpire_1       971 non-null    object\n",
            " 11  umpire_2       971 non-null    object\n",
            " 12  match_winner   971 non-null    int64 \n",
            "dtypes: int64(8), object(5)\n",
            "memory usage: 106.2+ KB\n"
          ],
          "name": "stdout"
        }
      ]
    },
    {
      "cell_type": "code",
      "metadata": {
        "colab": {
          "base_uri": "https://localhost:8080/",
          "height": 1000
        },
        "id": "0pSpSAVqnfVI",
        "outputId": "a95b7132-892f-4c73-fbba-9ec1393f8612"
      },
      "source": [
        "from sklearn.preprocessing import LabelEncoder\n",
        "\n",
        "ftr_list = ['city', 'venue', 'toss_decision', 'umpire_1', 'umpire_2']\n",
        "encoder = LabelEncoder()\n",
        "for ftr in ftr_list:\n",
        "    t4[ftr] = encoder.fit_transform(t4[ftr])\n",
        "    print(encoder.classes_)\n",
        "\n",
        "t4"
      ],
      "execution_count": 369,
      "outputs": [
        {
          "output_type": "stream",
          "text": [
            "['Abu Dhabi' 'Adelaide' 'Ahmedabad' 'Al Amarat' 'Amstelveen' 'Antigua'\n",
            " 'Auckland' 'Bangalore' 'Bangkok' 'Barbados' 'Basseterre' 'Belfast'\n",
            " 'Birmingham' 'Bloemfontein' 'Bready' 'Brisbane' 'Bristol' 'Bulawayo'\n",
            " 'Canberra' 'Cape Town' 'Cardiff' 'Carrara' 'Castel' 'Centurion'\n",
            " 'Chandigarh' 'Chennai' 'Chester-le-Street' 'Chittagong' 'Christchurch'\n",
            " 'Colombo' 'Coolidge' 'Cuttack' 'Dehradun' 'Delhi' 'Derry' 'Deventer'\n",
            " 'Dhaka' 'Dharamsala' 'Dominica' 'Dubai' 'Dublin' 'Dunedin' 'Durban'\n",
            " 'East London' 'Edinburgh' 'Fatullah' 'Greater Noida' 'Gros Islet'\n",
            " 'Guwahati' 'Guyana' 'Hambantota' 'Hamilton' 'Harare' 'Hobart' 'Hong Kong'\n",
            " 'Hyderabad' 'Indore' 'Jamaica' 'Johannesburg' 'Kampala' 'Kandy' 'Kanpur'\n",
            " 'Karachi' 'Khulna' 'Kimberley' 'King City' 'Kirtipur' 'Kolkata'\n",
            " 'Kuala Lumpur' 'Lahore' 'Lauderhill' 'London' 'Londonderry' 'Lucknow'\n",
            " 'Manchester' 'Melbourne' 'Mirpur' 'Moara Vlasiei' 'Mombasa'\n",
            " 'Mount Maunganui' 'Mumbai' 'Nagpur' 'Nairobi' 'Napier' 'Nelson'\n",
            " 'Nottingham' 'Paarl' 'Perth' 'Port Elizabeth' 'Port Moresby'\n",
            " 'Potchefstroom' 'Providence' 'Pune' 'Rajkot' 'Ranchi' 'Rawalpindi'\n",
            " 'Rotterdam' 'Sharjah' 'Singapore' 'Southampton' 'St Georges' 'St Kitts'\n",
            " 'St Lucia' 'St Peter Port' 'St Vincent' 'Sydney' 'Sylhet' 'Taunton'\n",
            " 'The Hague' 'Thiruvananthapuram' 'Townsville' 'Trinidad' 'Utrecht'\n",
            " 'Victoria' 'Visakhapatnam' 'Wellington' 'Windhoek']\n",
            "['AMI Stadium' 'Adelaide Oval'\n",
            " 'Al Amerat Cricket Ground Oman Cricket Ministry Turf 1'\n",
            " 'Al Amerat Cricket Ground Oman Cricket Ministry Turf 2' 'Amini Park'\n",
            " 'Arnos Vale Ground' 'Arun Jaitley Stadium' 'Barabati Stadium'\n",
            " 'Barsapara Cricket Stadium' 'Bay Oval' 'Beausejour Stadium'\n",
            " 'Bellerive Oval' 'Bermuda National Stadium'\n",
            " 'Bharat Ratna Shri Atal Bihari Vajpayee Ekana Cricket Stadium'\n",
            " 'Boland Park' 'Brabourne Stadium' 'Bready Cricket Club'\n",
            " 'Brisbane Cricket Ground' 'Buffalo Park' 'Carrara Oval'\n",
            " 'Central Broward Regional Park Stadium Turf Ground'\n",
            " 'Civil Service Cricket Club' 'Clontarf Cricket Club Ground'\n",
            " 'College Field' 'Coolidge Cricket Ground' 'County Ground'\n",
            " 'Darren Sammy National Cricket Stadium' 'De Beers Diamond Oval'\n",
            " 'Dr. Y.S. Rajasekhara Reddy ACA-VDCA Cricket Stadium'\n",
            " 'Dubai International Cricket Stadium' 'Eden Gardens' 'Eden Park'\n",
            " 'Edgbaston' 'Feroz Shah Kotla' 'Gaddafi Stadium'\n",
            " 'Grange Cricket Club Ground' 'Greater Noida Sports Complex Ground'\n",
            " 'Green Park' 'Greenfield International Stadium' 'Gymkhana Club Ground'\n",
            " 'Hagley Oval' 'Harare Sports Club' 'Hazelaarweg'\n",
            " 'Himachal Pradesh Cricket Association Stadium' 'Holkar Cricket Stadium'\n",
            " 'ICC Academy' 'ICC Academy Ground No 2' 'ICC Global Cricket Academy'\n",
            " 'Indian Association Ground' 'JSCA International Stadium Complex'\n",
            " 'Jade Stadium' 'Kennington Oval' 'Kensington Oval'\n",
            " 'Khan Shaheb Osman Ali Stadium' 'King George V Sports Ground' 'Kingsmead'\n",
            " 'Kinrara Academy Oval' 'Kyambogo Cricket Oval' 'Lords'\n",
            " 'Lugogo Cricket Oval' 'M Chinnaswamy Stadium' 'M.Chinnaswamy Stadium'\n",
            " 'MA Chidambaram Stadium' 'Maharashtra Cricket Association Stadium'\n",
            " 'Mahinda Rajapaksa International Cricket Stadium' 'Mangaung Oval'\n",
            " 'Manuka Oval' 'Maple Leaf North-West Ground' 'McLean Park'\n",
            " 'Melbourne Cricket Ground' 'Mission Road Ground'\n",
            " 'Moara Vlasiei Cricket Ground' 'Mombasa Sports Club Ground'\n",
            " 'Moses Mabhida Stadium' 'Narendra Modi Stadium'\n",
            " 'National Cricket Stadium' 'National Stadium' 'New Wanderers Stadium'\n",
            " 'Newlands' 'OUTsurance Oval' 'Old Trafford' 'P Sara Oval'\n",
            " 'Pallekele International Cricket Stadium' 'Perth Stadium'\n",
            " 'Providence Stadium' 'Punjab Cricket Association IS Bindra Stadium'\n",
            " 'Punjab Cricket Association Stadium' 'Queens Park Oval'\n",
            " 'Queens Sports Club' 'R Premadasa Stadium' 'R.Premadasa Stadium'\n",
            " 'Rajiv Gandhi International Cricket Stadium'\n",
            " 'Rajiv Gandhi International Stadium' 'Rawalpindi Cricket Stadium'\n",
            " 'Riverside Ground' 'Sabina Park' 'Sardar Patel Stadium'\n",
            " 'Saurashtra Cricket Association Stadium' 'Saxton Oval' 'Seddon Park'\n",
            " 'Senwes Park' 'Sharjah Cricket Stadium' 'Sheikh Abu Naser Stadium'\n",
            " 'Sheikh Zayed Stadium' 'Shere Bangla National Stadium' 'Simonds Stadium'\n",
            " 'Sir Vivian Richards Stadium' 'Sky Stadium' 'Sophia Gardens'\n",
            " 'Sportpark Het Schootsveld' 'Sportpark Maarschalkerweerd'\n",
            " 'Sportpark Westvliet' 'St Georges Park' 'Stadium Australia'\n",
            " 'Subrata Roy Sahara Stadium' 'SuperSport Park' 'Sydney Cricket Ground'\n",
            " 'Sylhet International Cricket Stadium' 'Terdthai Cricket Ground'\n",
            " 'The Rose Bowl' 'The Village' 'The Wanderers Stadium' 'Tolerance Oval'\n",
            " 'Tony Ireland Stadium' 'Trent Bridge'\n",
            " 'Tribhuvan University International Cricket Ground'\n",
            " 'United Cricket Club Ground' 'University Oval' 'VRA Ground'\n",
            " 'Vidarbha Cricket Association Stadium' 'Wanderers Cricket Ground'\n",
            " 'Wankhede Stadium' 'Warner Park'\n",
            " 'Western Australia Cricket Association Ground' 'Westpac Stadium'\n",
            " 'White Hill Field' 'Windsor Park' 'Zahur Ahmed Chowdhury Stadium']\n",
            "['bat' 'field']\n",
            "['A Kapa' 'A Louw' 'A Paleker' 'AG Wharf' 'AJ Neill' 'AJT Dowdalls'\n",
            " 'AK Chaudhary' 'AL Hill' 'AM Saheba' 'AT Holdstock'\n",
            " 'Adriaan van den Dries' 'Afzal Pathan' 'Afzalkhan Pathan'\n",
            " 'Ahmed Shah Durrani' 'Ahmed Shah Pakteen' 'Ahmed Shahab' 'Ahsan Raza'\n",
            " 'Akbar Ali' 'Aleem Dar' 'Anantha Rajamani' 'Anisur Rahman' 'Arif Ansari'\n",
            " 'Asad Rauf' 'Asif Yaqoob' 'B Manikandan' 'BB Pradhan' 'BF Bowden'\n",
            " 'BG Jerling' 'BNJ Oxenford' 'BP Jele' 'BR Doctrove' 'Bismillah Shinwari'\n",
            " 'C Brooks' 'C Shamshuddin' 'CB Gaffaney' 'CK Nandan' 'CM Brown'\n",
            " 'CR Duncan' 'D Odhiambo' 'D Sevakumaran' 'DA Haggo' 'DB Hair' 'DH Mclean'\n",
            " 'DJ Harper' 'Dharmendra Manani' 'EAR de Silva' 'Emmanuel Byiringiro'\n",
            " 'Emmerson Carrington' 'Enamul Haque' 'GA Abood' 'GAV Baxter'\n",
            " 'GO Brathwaite' 'HDPK Dharmasena' 'HE Kearns' 'HKG Jansen'\n",
            " 'Hardeep Jadeja' 'Harikrishna Pillai' 'I Chabi' 'ID Gunawardene'\n",
            " 'IJ Gould' 'IL Howell' 'IN Ramage' 'Iftikhar Ali' 'Imran Mustafa'\n",
            " 'JD Cloete' 'JD Ward' 'JJ Luck' 'JM Williams' 'JS Wilson' 'K Bayney'\n",
            " 'KN Ananthapadmanabhan' 'Kehinde Olanbiwonnu' 'L Poobalan' 'L Rusere'\n",
            " 'LE Hannibal' 'LS Reifer' 'M Burns' 'M Erasmus' 'M Hawthorne' 'MA Gough'\n",
            " 'MD Martell' 'MG Silva' 'MJ Saggers' 'MR Benson' 'Marthinus Louw'\n",
            " 'Masudur Rahman' 'Mathan Kumar' 'N Duguid' 'N Sivan' 'NA Malcolm'\n",
            " 'NG Bagh' 'NJ Llong' 'Nadeem Ghauri' 'Nadir Shah' 'Nasir Ali'\n",
            " 'Nitin Menon' 'O Chirombe' 'P Wilson' 'PA Gustard' 'PD Jones' 'PD Parker'\n",
            " 'PJ Hartley' 'PJ Nero' 'PK Baldwin' 'PR Reiffel' 'R Black' 'R DMello'\n",
            " 'RA Kettleborough' 'RB Tiffin' 'RE Koertzen' 'REJ Martinesz' 'RJ Bailey'\n",
            " 'RJ Tucker' 'RK Illingworth' 'RMPJ Rambukwella' 'RR Wimalasiri'\n",
            " 'RSA Palliyaguruge' 'RT Robinson' 'Rahul Asher' 'Rashid Riaz'\n",
            " 'Riyaz Kurupkar' 'Rizwan Akram' 'Rudy Ismandy' 'S Asnani' 'S George'\n",
            " 'S Ravi' 'SB Haig' 'SD Fry' 'SJ Davis' 'SJ Nogajski' 'SJA Taufel'\n",
            " 'SR Modi' 'SS Hazare' 'SV Sarda' 'Samad Akbar' 'Sarika Prasad'\n",
            " 'Sharfuddoula' 'Shozab Raza' 'Syed Atif Naqvi' 'TJ Matibiri'\n",
            " 'Tabarak Dar' 'Tanvir Ahmed' 'V Kalidas' 'VA Kulkarni' 'Vinod Babu'\n",
            " 'WPM van Liemt' 'Zaidan Taha']\n",
            "['A Begg' 'A Louw' 'A Natarajan' 'A Paleker' 'AG Wharf' 'AJ Neill'\n",
            " 'AK Chaudhary' 'AK Rana' 'AL Hill' 'AM Saheba' 'AT Holdstock'\n",
            " 'Adriaan van den Dries' 'Afzal Pathan' 'Afzalkhan Pathan'\n",
            " 'Ahmed Shah Durrani' 'Ahmed Shah Pakteen' 'Ahsan Raza' 'Akbar Ali'\n",
            " 'Aleem Dar' 'Anisur Rahman' 'Asad Rauf' 'B Manikandan' 'BB Pradhan'\n",
            " 'BF Bowden' 'BG Frost' 'BG Jerling' 'BNJ Oxenford' 'BP Jele'\n",
            " 'BR Doctrove' 'C Shamshuddin' 'C Thorburn' 'CB Gaffaney' 'CK Nandan'\n",
            " 'CR Duncan' 'Claus Schumacher' 'D Odhiambo' 'D Sevakumaran' 'DA Haggo'\n",
            " 'DH Mclean' 'DJ Harper' 'DJ Millns' 'DJ Walker' 'EA Watkin'\n",
            " 'EAR de Silva' 'Emmanuel Byiringiro' 'Emmerson Carrington' 'Enamul Haque'\n",
            " 'GA Abood' 'GO Brathwaite' 'Gazi Sohel' 'H Grewal' 'HDPK Dharmasena'\n",
            " 'HKG Jansen' 'Hardeep Jadeja' 'I Chabi' 'IA De Silva' 'ID Gunawardene'\n",
            " 'IJ Gould' 'IL Howell' 'IN Ramage' 'IO Oyieko' 'Iftikhar Ali'\n",
            " 'Imran Mustafa' 'Izatullah Safi' 'Izmir Azraf' 'JD Cloete' 'JD Ward'\n",
            " 'JM Williams' 'JS Wilson' 'JW Lloyds' 'KH Hurter' 'KN Ananthapadmanabhan'\n",
            " 'Kehinde Olanbiwonnu' 'L Rusere' 'LE Hannibal' 'LS Reifer' 'M Burns'\n",
            " 'M Erasmus' 'M Hawthorne' 'M Savage' 'MA Gough' 'MD Martell' 'MR Benson'\n",
            " 'MV Waldron' 'Marthinus Louw' 'Masudur Rahman' 'Mathan Kumar'\n",
            " 'Mohammed Younis' 'N Duguid' 'N Sivan' 'NA Malcolm' 'NJ Llong'\n",
            " 'Nadeem Ghauri' 'Nadir Shah' 'Nitin Menon' 'P Wilson' 'PA Gustard'\n",
            " 'PA Reynolds' 'PD Jones' 'PD Parker' 'PJ Hartley' 'PJ Nero' 'PK Baldwin'\n",
            " 'PR Reiffel' 'R Black' 'RA Kettleborough' 'RB Tiffin' 'RE Koertzen'\n",
            " 'REJ Martinesz' 'RJ Bailey' 'RJ Tucker' 'RK Illingworth' 'RL Parry'\n",
            " 'RMPJ Rambukwella' 'RP Smith' 'RR Wimalasiri' 'RSA Palliyaguruge'\n",
            " 'RT Robinson' 'Rabiul Hoque' 'Rahat Ali Chaudhry' 'Rahul Asher'\n",
            " 'Rashid Riaz' 'Rizwan Akram' 'S George' 'S Ravi' 'SAJ Craig' 'SB Haig'\n",
            " 'SD Fry' 'SJ Davis' 'SJ Nogajski' 'SJA Taufel' 'SK Tarapore' 'SL Shastri'\n",
            " 'SR Modi' 'Sanjay Gurung' 'Sarika Prasad' 'Sharfuddoula' 'Shiju Sam'\n",
            " 'Shozab Raza' 'T Senthil Kumar' 'TH Wijewardene' 'TJ Matibiri'\n",
            " 'Tabarak Dar' 'Tanvir Ahmed' 'Taranjeet Singh' 'V Kalidas' 'VA Kulkarni'\n",
            " 'VK Sharma' 'Vinod Babu' 'WPM van Liemt' 'WR Knights' 'Zameer Haider']\n"
          ],
          "name": "stdout"
        },
        {
          "output_type": "execute_result",
          "data": {
            "text/html": [
              "<div>\n",
              "<style scoped>\n",
              "    .dataframe tbody tr th:only-of-type {\n",
              "        vertical-align: middle;\n",
              "    }\n",
              "\n",
              "    .dataframe tbody tr th {\n",
              "        vertical-align: top;\n",
              "    }\n",
              "\n",
              "    .dataframe thead th {\n",
              "        text-align: right;\n",
              "    }\n",
              "</style>\n",
              "<table border=\"1\" class=\"dataframe\">\n",
              "  <thead>\n",
              "    <tr style=\"text-align: right;\">\n",
              "      <th></th>\n",
              "      <th>year</th>\n",
              "      <th>month</th>\n",
              "      <th>day</th>\n",
              "      <th>city</th>\n",
              "      <th>venue</th>\n",
              "      <th>home_team</th>\n",
              "      <th>team_1</th>\n",
              "      <th>team_2</th>\n",
              "      <th>toss_winner</th>\n",
              "      <th>toss_decision</th>\n",
              "      <th>umpire_1</th>\n",
              "      <th>umpire_2</th>\n",
              "      <th>match_winner</th>\n",
              "    </tr>\n",
              "  </thead>\n",
              "  <tbody>\n",
              "    <tr>\n",
              "      <th>0</th>\n",
              "      <td>2005</td>\n",
              "      <td>2</td>\n",
              "      <td>17</td>\n",
              "      <td>6</td>\n",
              "      <td>31</td>\n",
              "      <td>77</td>\n",
              "      <td>77</td>\n",
              "      <td>72</td>\n",
              "      <td>72</td>\n",
              "      <td>0</td>\n",
              "      <td>26</td>\n",
              "      <td>8</td>\n",
              "      <td>72</td>\n",
              "    </tr>\n",
              "    <tr>\n",
              "      <th>1</th>\n",
              "      <td>2005</td>\n",
              "      <td>6</td>\n",
              "      <td>13</td>\n",
              "      <td>99</td>\n",
              "      <td>119</td>\n",
              "      <td>70</td>\n",
              "      <td>70</td>\n",
              "      <td>72</td>\n",
              "      <td>70</td>\n",
              "      <td>0</td>\n",
              "      <td>91</td>\n",
              "      <td>69</td>\n",
              "      <td>70</td>\n",
              "    </tr>\n",
              "    <tr>\n",
              "      <th>2</th>\n",
              "      <td>2005</td>\n",
              "      <td>10</td>\n",
              "      <td>21</td>\n",
              "      <td>58</td>\n",
              "      <td>77</td>\n",
              "      <td>71</td>\n",
              "      <td>71</td>\n",
              "      <td>77</td>\n",
              "      <td>77</td>\n",
              "      <td>1</td>\n",
              "      <td>60</td>\n",
              "      <td>25</td>\n",
              "      <td>77</td>\n",
              "    </tr>\n",
              "    <tr>\n",
              "      <th>3</th>\n",
              "      <td>2006</td>\n",
              "      <td>1</td>\n",
              "      <td>9</td>\n",
              "      <td>15</td>\n",
              "      <td>17</td>\n",
              "      <td>72</td>\n",
              "      <td>72</td>\n",
              "      <td>71</td>\n",
              "      <td>72</td>\n",
              "      <td>0</td>\n",
              "      <td>28</td>\n",
              "      <td>112</td>\n",
              "      <td>72</td>\n",
              "    </tr>\n",
              "    <tr>\n",
              "      <th>4</th>\n",
              "      <td>2006</td>\n",
              "      <td>2</td>\n",
              "      <td>16</td>\n",
              "      <td>6</td>\n",
              "      <td>31</td>\n",
              "      <td>77</td>\n",
              "      <td>58</td>\n",
              "      <td>77</td>\n",
              "      <td>77</td>\n",
              "      <td>1</td>\n",
              "      <td>26</td>\n",
              "      <td>8</td>\n",
              "      <td>77</td>\n",
              "    </tr>\n",
              "    <tr>\n",
              "      <th>...</th>\n",
              "      <td>...</td>\n",
              "      <td>...</td>\n",
              "      <td>...</td>\n",
              "      <td>...</td>\n",
              "      <td>...</td>\n",
              "      <td>...</td>\n",
              "      <td>...</td>\n",
              "      <td>...</td>\n",
              "      <td>...</td>\n",
              "      <td>...</td>\n",
              "      <td>...</td>\n",
              "      <td>...</td>\n",
              "      <td>...</td>\n",
              "    </tr>\n",
              "    <tr>\n",
              "      <th>966</th>\n",
              "      <td>2021</td>\n",
              "      <td>3</td>\n",
              "      <td>17</td>\n",
              "      <td>0</td>\n",
              "      <td>103</td>\n",
              "      <td>0</td>\n",
              "      <td>54</td>\n",
              "      <td>36</td>\n",
              "      <td>36</td>\n",
              "      <td>1</td>\n",
              "      <td>18</td>\n",
              "      <td>63</td>\n",
              "      <td>54</td>\n",
              "    </tr>\n",
              "    <tr>\n",
              "      <th>967</th>\n",
              "      <td>2021</td>\n",
              "      <td>3</td>\n",
              "      <td>18</td>\n",
              "      <td>2</td>\n",
              "      <td>74</td>\n",
              "      <td>90</td>\n",
              "      <td>90</td>\n",
              "      <td>70</td>\n",
              "      <td>70</td>\n",
              "      <td>1</td>\n",
              "      <td>70</td>\n",
              "      <td>94</td>\n",
              "      <td>90</td>\n",
              "    </tr>\n",
              "    <tr>\n",
              "      <th>968</th>\n",
              "      <td>2021</td>\n",
              "      <td>3</td>\n",
              "      <td>19</td>\n",
              "      <td>0</td>\n",
              "      <td>103</td>\n",
              "      <td>0</td>\n",
              "      <td>54</td>\n",
              "      <td>36</td>\n",
              "      <td>54</td>\n",
              "      <td>0</td>\n",
              "      <td>13</td>\n",
              "      <td>18</td>\n",
              "      <td>54</td>\n",
              "    </tr>\n",
              "    <tr>\n",
              "      <th>969</th>\n",
              "      <td>2021</td>\n",
              "      <td>3</td>\n",
              "      <td>20</td>\n",
              "      <td>2</td>\n",
              "      <td>74</td>\n",
              "      <td>90</td>\n",
              "      <td>90</td>\n",
              "      <td>70</td>\n",
              "      <td>70</td>\n",
              "      <td>1</td>\n",
              "      <td>6</td>\n",
              "      <td>94</td>\n",
              "      <td>90</td>\n",
              "    </tr>\n",
              "    <tr>\n",
              "      <th>970</th>\n",
              "      <td>2021</td>\n",
              "      <td>3</td>\n",
              "      <td>20</td>\n",
              "      <td>0</td>\n",
              "      <td>103</td>\n",
              "      <td>0</td>\n",
              "      <td>54</td>\n",
              "      <td>36</td>\n",
              "      <td>54</td>\n",
              "      <td>0</td>\n",
              "      <td>18</td>\n",
              "      <td>63</td>\n",
              "      <td>54</td>\n",
              "    </tr>\n",
              "  </tbody>\n",
              "</table>\n",
              "<p>971 rows × 13 columns</p>\n",
              "</div>"
            ],
            "text/plain": [
              "     year  month  day  city  ...  toss_decision  umpire_1  umpire_2  match_winner\n",
              "0    2005      2   17     6  ...              0        26         8            72\n",
              "1    2005      6   13    99  ...              0        91        69            70\n",
              "2    2005     10   21    58  ...              1        60        25            77\n",
              "3    2006      1    9    15  ...              0        28       112            72\n",
              "4    2006      2   16     6  ...              1        26         8            77\n",
              "..    ...    ...  ...   ...  ...            ...       ...       ...           ...\n",
              "966  2021      3   17     0  ...              1        18        63            54\n",
              "967  2021      3   18     2  ...              1        70        94            90\n",
              "968  2021      3   19     0  ...              0        13        18            54\n",
              "969  2021      3   20     2  ...              1         6        94            90\n",
              "970  2021      3   20     0  ...              0        18        63            54\n",
              "\n",
              "[971 rows x 13 columns]"
            ]
          },
          "metadata": {
            "tags": []
          },
          "execution_count": 369
        }
      ]
    },
    {
      "cell_type": "code",
      "metadata": {
        "colab": {
          "base_uri": "https://localhost:8080/"
        },
        "id": "beGKS4vsn6sx",
        "outputId": "647e7901-3adf-4281-90fe-fbeeba57b39d"
      },
      "source": [
        "t4.info()"
      ],
      "execution_count": 370,
      "outputs": [
        {
          "output_type": "stream",
          "text": [
            "<class 'pandas.core.frame.DataFrame'>\n",
            "Int64Index: 971 entries, 0 to 970\n",
            "Data columns (total 13 columns):\n",
            " #   Column         Non-Null Count  Dtype\n",
            "---  ------         --------------  -----\n",
            " 0   year           971 non-null    int64\n",
            " 1   month          971 non-null    int64\n",
            " 2   day            971 non-null    int64\n",
            " 3   city           971 non-null    int64\n",
            " 4   venue          971 non-null    int64\n",
            " 5   home_team      971 non-null    int64\n",
            " 6   team_1         971 non-null    int64\n",
            " 7   team_2         971 non-null    int64\n",
            " 8   toss_winner    971 non-null    int64\n",
            " 9   toss_decision  971 non-null    int64\n",
            " 10  umpire_1       971 non-null    int64\n",
            " 11  umpire_2       971 non-null    int64\n",
            " 12  match_winner   971 non-null    int64\n",
            "dtypes: int64(13)\n",
            "memory usage: 106.2 KB\n"
          ],
          "name": "stdout"
        }
      ]
    },
    {
      "cell_type": "code",
      "metadata": {
        "colab": {
          "base_uri": "https://localhost:8080/",
          "height": 1000
        },
        "id": "fdUfRVDun_nd",
        "outputId": "95d030f3-da24-4b8e-d7c6-fa395150fc7f"
      },
      "source": [
        "t4.hist(figsize = (20,20))"
      ],
      "execution_count": 371,
      "outputs": [
        {
          "output_type": "execute_result",
          "data": {
            "text/plain": [
              "array([[<matplotlib.axes._subplots.AxesSubplot object at 0x7f473567c190>,\n",
              "        <matplotlib.axes._subplots.AxesSubplot object at 0x7f472f2d19d0>,\n",
              "        <matplotlib.axes._subplots.AxesSubplot object at 0x7f473e0e4d10>,\n",
              "        <matplotlib.axes._subplots.AxesSubplot object at 0x7f473e0a2890>],\n",
              "       [<matplotlib.axes._subplots.AxesSubplot object at 0x7f47348b9590>,\n",
              "        <matplotlib.axes._subplots.AxesSubplot object at 0x7f473443a890>,\n",
              "        <matplotlib.axes._subplots.AxesSubplot object at 0x7f4734436c50>,\n",
              "        <matplotlib.axes._subplots.AxesSubplot object at 0x7f472fb81950>],\n",
              "       [<matplotlib.axes._subplots.AxesSubplot object at 0x7f472fbc0a50>,\n",
              "        <matplotlib.axes._subplots.AxesSubplot object at 0x7f472fb56550>,\n",
              "        <matplotlib.axes._subplots.AxesSubplot object at 0x7f472fa19e90>,\n",
              "        <matplotlib.axes._subplots.AxesSubplot object at 0x7f472fc25550>],\n",
              "       [<matplotlib.axes._subplots.AxesSubplot object at 0x7f4735632bd0>,\n",
              "        <matplotlib.axes._subplots.AxesSubplot object at 0x7f47340a1290>,\n",
              "        <matplotlib.axes._subplots.AxesSubplot object at 0x7f472fbbd250>,\n",
              "        <matplotlib.axes._subplots.AxesSubplot object at 0x7f47341dc7d0>]],\n",
              "      dtype=object)"
            ]
          },
          "metadata": {
            "tags": []
          },
          "execution_count": 371
        },
        {
          "output_type": "display_data",
          "data": {
            "image/png": "[encoded data removed]",
            "text/plain": [
              "<Figure size 1440x1440 with 16 Axes>"
            ]
          },
          "metadata": {
            "tags": []
          }
        }
      ]
    },
    {
      "cell_type": "code",
      "metadata": {
        "colab": {
          "base_uri": "https://localhost:8080/",
          "height": 502
        },
        "id": "ftly2ZHspHgi",
        "outputId": "1ccf578f-7f49-48bd-d5ca-b8296e2059f5"
      },
      "source": [
        "t4['match_winner'].hist(bins=50)"
      ],
      "execution_count": 372,
      "outputs": [
        {
          "output_type": "execute_result",
          "data": {
            "text/plain": [
              "<matplotlib.axes._subplots.AxesSubplot at 0x7f472f9a1dd0>"
            ]
          },
          "metadata": {
            "tags": []
          },
          "execution_count": 372
        },
        {
          "output_type": "display_data",
          "data": {
            "image/png": "[encoded data removed]",
            "text/plain": [
              "<Figure size 864x576 with 1 Axes>"
            ]
          },
          "metadata": {
            "tags": []
          }
        }
      ]
    },
    {
      "cell_type": "code",
      "metadata": {
        "colab": {
          "base_uri": "https://localhost:8080/",
          "height": 502
        },
        "id": "qUBuPYvQpIDs",
        "outputId": "a09f8f90-a94c-4402-f20d-7d67c3753d5d"
      },
      "source": [
        "t4['toss_winner'].hist(bins=50)"
      ],
      "execution_count": 373,
      "outputs": [
        {
          "output_type": "execute_result",
          "data": {
            "text/plain": [
              "<matplotlib.axes._subplots.AxesSubplot at 0x7f472f8a2fd0>"
            ]
          },
          "metadata": {
            "tags": []
          },
          "execution_count": 373
        },
        {
          "output_type": "display_data",
          "data": {
            "image/png": "[encoded data removed]",
            "text/plain": [
              "<Figure size 864x576 with 1 Axes>"
            ]
          },
          "metadata": {
            "tags": []
          }
        }
      ]
    },
    {
      "cell_type": "code",
      "metadata": {
        "colab": {
          "base_uri": "https://localhost:8080/"
        },
        "id": "FRLhAlAfo8u4",
        "outputId": "a2ef5761-2bfa-40cc-970e-a35742fdf441"
      },
      "source": [
        "t4.isnull().sum()"
      ],
      "execution_count": 374,
      "outputs": [
        {
          "output_type": "execute_result",
          "data": {
            "text/plain": [
              "year             0\n",
              "month            0\n",
              "day              0\n",
              "city             0\n",
              "venue            0\n",
              "home_team        0\n",
              "team_1           0\n",
              "team_2           0\n",
              "toss_winner      0\n",
              "toss_decision    0\n",
              "umpire_1         0\n",
              "umpire_2         0\n",
              "match_winner     0\n",
              "dtype: int64"
            ]
          },
          "metadata": {
            "tags": []
          },
          "execution_count": 374
        }
      ]
    },
    {
      "cell_type": "code",
      "metadata": {
        "colab": {
          "base_uri": "https://localhost:8080/",
          "height": 557
        },
        "id": "TtCS9GXvpwFk",
        "outputId": "d02a1029-d1c3-401e-d66a-83665d2e508e"
      },
      "source": [
        "# Confusion Matrix\n",
        "\n",
        "import seaborn as sns\n",
        "sns.set(rc={'figure.figsize': (12,8)})\n",
        "ax = sns.heatmap(t4.corr(), annot=True)"
      ],
      "execution_count": 375,
      "outputs": [
        {
          "output_type": "display_data",
          "data": {
            "image/png": "[encoded data removed]",
            "text/plain": [
              "<Figure size 864x576 with 2 Axes>"
            ]
          },
          "metadata": {
            "tags": []
          }
        }
      ]
    },
    {
      "cell_type": "code",
      "metadata": {
        "id": "xzVv1mf3s8oq"
      },
      "source": [
        "def correlation(dataset, threshold):\n",
        "    col_corr = []\n",
        "    corr_matrix = dataset.corr()\n",
        "    for i in range(len(corr_matrix.columns)):\n",
        "        for j in range(i):\n",
        "            if abs(corr_matrix.iloc[i, j]) >= threshold and i!=j:\n",
        "                colname = corr_matrix.columns[i]\n",
        "                col_corr.append(colname)\n",
        "    return col_corr"
      ],
      "execution_count": 376,
      "outputs": []
    },
    {
      "cell_type": "code",
      "metadata": {
        "colab": {
          "base_uri": "https://localhost:8080/"
        },
        "id": "9NZZdkLHF59x",
        "outputId": "5168d70e-d52e-4007-a6d9-dd4add615b32"
      },
      "source": [
        "t4.columns"
      ],
      "execution_count": 377,
      "outputs": [
        {
          "output_type": "execute_result",
          "data": {
            "text/plain": [
              "Index(['year', 'month', 'day', 'city', 'venue', 'home_team', 'team_1',\n",
              "       'team_2', 'toss_winner', 'toss_decision', 'umpire_1', 'umpire_2',\n",
              "       'match_winner'],\n",
              "      dtype='object')"
            ]
          },
          "metadata": {
            "tags": []
          },
          "execution_count": 377
        }
      ]
    },
    {
      "cell_type": "code",
      "metadata": {
        "colab": {
          "base_uri": "https://localhost:8080/"
        },
        "id": "zHUSNN83tI2Z",
        "outputId": "22f8f767-68f5-45ad-d51e-cd6e059ee1f8"
      },
      "source": [
        "corr_columns = correlation(t4, 0.15)\n",
        "corr_columns = list(dict.fromkeys(corr_columns))\n",
        "corr_columns"
      ],
      "execution_count": 446,
      "outputs": [
        {
          "output_type": "execute_result",
          "data": {
            "text/plain": [
              "['venue', 'team_1', 'team_2', 'toss_winner', 'match_winner']"
            ]
          },
          "metadata": {
            "tags": []
          },
          "execution_count": 446
        }
      ]
    },
    {
      "cell_type": "code",
      "metadata": {
        "id": "Liy0o5GeZKlv"
      },
      "source": [
        "X = t4.drop(['match_winner'], axis = 1)\n",
        "y = t4['match_winner']"
      ],
      "execution_count": 379,
      "outputs": []
    },
    {
      "cell_type": "code",
      "metadata": {
        "colab": {
          "base_uri": "https://localhost:8080/",
          "height": 419
        },
        "id": "n-CCHYGuZbju",
        "outputId": "4a59dfab-9701-404d-d506-fb67d66830f0"
      },
      "source": [
        "X"
      ],
      "execution_count": 380,
      "outputs": [
        {
          "output_type": "execute_result",
          "data": {
            "text/html": [
              "<div>\n",
              "<style scoped>\n",
              "    .dataframe tbody tr th:only-of-type {\n",
              "        vertical-align: middle;\n",
              "    }\n",
              "\n",
              "    .dataframe tbody tr th {\n",
              "        vertical-align: top;\n",
              "    }\n",
              "\n",
              "    .dataframe thead th {\n",
              "        text-align: right;\n",
              "    }\n",
              "</style>\n",
              "<table border=\"1\" class=\"dataframe\">\n",
              "  <thead>\n",
              "    <tr style=\"text-align: right;\">\n",
              "      <th></th>\n",
              "      <th>year</th>\n",
              "      <th>month</th>\n",
              "      <th>day</th>\n",
              "      <th>city</th>\n",
              "      <th>venue</th>\n",
              "      <th>home_team</th>\n",
              "      <th>team_1</th>\n",
              "      <th>team_2</th>\n",
              "      <th>toss_winner</th>\n",
              "      <th>toss_decision</th>\n",
              "      <th>umpire_1</th>\n",
              "      <th>umpire_2</th>\n",
              "    </tr>\n",
              "  </thead>\n",
              "  <tbody>\n",
              "    <tr>\n",
              "      <th>0</th>\n",
              "      <td>2005</td>\n",
              "      <td>2</td>\n",
              "      <td>17</td>\n",
              "      <td>6</td>\n",
              "      <td>31</td>\n",
              "      <td>77</td>\n",
              "      <td>77</td>\n",
              "      <td>72</td>\n",
              "      <td>72</td>\n",
              "      <td>0</td>\n",
              "      <td>26</td>\n",
              "      <td>8</td>\n",
              "    </tr>\n",
              "    <tr>\n",
              "      <th>1</th>\n",
              "      <td>2005</td>\n",
              "      <td>6</td>\n",
              "      <td>13</td>\n",
              "      <td>99</td>\n",
              "      <td>119</td>\n",
              "      <td>70</td>\n",
              "      <td>70</td>\n",
              "      <td>72</td>\n",
              "      <td>70</td>\n",
              "      <td>0</td>\n",
              "      <td>91</td>\n",
              "      <td>69</td>\n",
              "    </tr>\n",
              "    <tr>\n",
              "      <th>2</th>\n",
              "      <td>2005</td>\n",
              "      <td>10</td>\n",
              "      <td>21</td>\n",
              "      <td>58</td>\n",
              "      <td>77</td>\n",
              "      <td>71</td>\n",
              "      <td>71</td>\n",
              "      <td>77</td>\n",
              "      <td>77</td>\n",
              "      <td>1</td>\n",
              "      <td>60</td>\n",
              "      <td>25</td>\n",
              "    </tr>\n",
              "    <tr>\n",
              "      <th>3</th>\n",
              "      <td>2006</td>\n",
              "      <td>1</td>\n",
              "      <td>9</td>\n",
              "      <td>15</td>\n",
              "      <td>17</td>\n",
              "      <td>72</td>\n",
              "      <td>72</td>\n",
              "      <td>71</td>\n",
              "      <td>72</td>\n",
              "      <td>0</td>\n",
              "      <td>28</td>\n",
              "      <td>112</td>\n",
              "    </tr>\n",
              "    <tr>\n",
              "      <th>4</th>\n",
              "      <td>2006</td>\n",
              "      <td>2</td>\n",
              "      <td>16</td>\n",
              "      <td>6</td>\n",
              "      <td>31</td>\n",
              "      <td>77</td>\n",
              "      <td>58</td>\n",
              "      <td>77</td>\n",
              "      <td>77</td>\n",
              "      <td>1</td>\n",
              "      <td>26</td>\n",
              "      <td>8</td>\n",
              "    </tr>\n",
              "    <tr>\n",
              "      <th>...</th>\n",
              "      <td>...</td>\n",
              "      <td>...</td>\n",
              "      <td>...</td>\n",
              "      <td>...</td>\n",
              "      <td>...</td>\n",
              "      <td>...</td>\n",
              "      <td>...</td>\n",
              "      <td>...</td>\n",
              "      <td>...</td>\n",
              "      <td>...</td>\n",
              "      <td>...</td>\n",
              "      <td>...</td>\n",
              "    </tr>\n",
              "    <tr>\n",
              "      <th>966</th>\n",
              "      <td>2021</td>\n",
              "      <td>3</td>\n",
              "      <td>17</td>\n",
              "      <td>0</td>\n",
              "      <td>103</td>\n",
              "      <td>0</td>\n",
              "      <td>54</td>\n",
              "      <td>36</td>\n",
              "      <td>36</td>\n",
              "      <td>1</td>\n",
              "      <td>18</td>\n",
              "      <td>63</td>\n",
              "    </tr>\n",
              "    <tr>\n",
              "      <th>967</th>\n",
              "      <td>2021</td>\n",
              "      <td>3</td>\n",
              "      <td>18</td>\n",
              "      <td>2</td>\n",
              "      <td>74</td>\n",
              "      <td>90</td>\n",
              "      <td>90</td>\n",
              "      <td>70</td>\n",
              "      <td>70</td>\n",
              "      <td>1</td>\n",
              "      <td>70</td>\n",
              "      <td>94</td>\n",
              "    </tr>\n",
              "    <tr>\n",
              "      <th>968</th>\n",
              "      <td>2021</td>\n",
              "      <td>3</td>\n",
              "      <td>19</td>\n",
              "      <td>0</td>\n",
              "      <td>103</td>\n",
              "      <td>0</td>\n",
              "      <td>54</td>\n",
              "      <td>36</td>\n",
              "      <td>54</td>\n",
              "      <td>0</td>\n",
              "      <td>13</td>\n",
              "      <td>18</td>\n",
              "    </tr>\n",
              "    <tr>\n",
              "      <th>969</th>\n",
              "      <td>2021</td>\n",
              "      <td>3</td>\n",
              "      <td>20</td>\n",
              "      <td>2</td>\n",
              "      <td>74</td>\n",
              "      <td>90</td>\n",
              "      <td>90</td>\n",
              "      <td>70</td>\n",
              "      <td>70</td>\n",
              "      <td>1</td>\n",
              "      <td>6</td>\n",
              "      <td>94</td>\n",
              "    </tr>\n",
              "    <tr>\n",
              "      <th>970</th>\n",
              "      <td>2021</td>\n",
              "      <td>3</td>\n",
              "      <td>20</td>\n",
              "      <td>0</td>\n",
              "      <td>103</td>\n",
              "      <td>0</td>\n",
              "      <td>54</td>\n",
              "      <td>36</td>\n",
              "      <td>54</td>\n",
              "      <td>0</td>\n",
              "      <td>18</td>\n",
              "      <td>63</td>\n",
              "    </tr>\n",
              "  </tbody>\n",
              "</table>\n",
              "<p>971 rows × 12 columns</p>\n",
              "</div>"
            ],
            "text/plain": [
              "     year  month  day  city  ...  toss_winner  toss_decision  umpire_1  umpire_2\n",
              "0    2005      2   17     6  ...           72              0        26         8\n",
              "1    2005      6   13    99  ...           70              0        91        69\n",
              "2    2005     10   21    58  ...           77              1        60        25\n",
              "3    2006      1    9    15  ...           72              0        28       112\n",
              "4    2006      2   16     6  ...           77              1        26         8\n",
              "..    ...    ...  ...   ...  ...          ...            ...       ...       ...\n",
              "966  2021      3   17     0  ...           36              1        18        63\n",
              "967  2021      3   18     2  ...           70              1        70        94\n",
              "968  2021      3   19     0  ...           54              0        13        18\n",
              "969  2021      3   20     2  ...           70              1         6        94\n",
              "970  2021      3   20     0  ...           54              0        18        63\n",
              "\n",
              "[971 rows x 12 columns]"
            ]
          },
          "metadata": {
            "tags": []
          },
          "execution_count": 380
        }
      ]
    },
    {
      "cell_type": "code",
      "metadata": {
        "colab": {
          "base_uri": "https://localhost:8080/"
        },
        "id": "hNS0RxoyZgz7",
        "outputId": "53f0c18b-f36c-4e8b-ae4d-297449f97ec8"
      },
      "source": [
        "y"
      ],
      "execution_count": 381,
      "outputs": [
        {
          "output_type": "execute_result",
          "data": {
            "text/plain": [
              "0      72\n",
              "1      70\n",
              "2      77\n",
              "3      72\n",
              "4      77\n",
              "       ..\n",
              "966    54\n",
              "967    90\n",
              "968    54\n",
              "969    90\n",
              "970    54\n",
              "Name: match_winner, Length: 971, dtype: int64"
            ]
          },
          "metadata": {
            "tags": []
          },
          "execution_count": 381
        }
      ]
    },
    {
      "cell_type": "code",
      "metadata": {
        "id": "i0Eo5fkvZiNk"
      },
      "source": [
        "from sklearn.model_selection import train_test_split\n",
        "from sklearn.metrics import classification_report\n",
        "from sklearn.metrics import confusion_matrix\n",
        "from sklearn.metrics import roc_auc_score\n",
        "from sklearn.metrics import roc_curve\n",
        "\n",
        "X_train, X_test, y_train, y_test = train_test_split(X, y, test_size = 0.20, random_state = 0)"
      ],
      "execution_count": 382,
      "outputs": []
    },
    {
      "cell_type": "markdown",
      "metadata": {
        "id": "0W-HFDd3-U01"
      },
      "source": [
        "# DecisionTreeClassifier"
      ]
    },
    {
      "cell_type": "code",
      "metadata": {
        "colab": {
          "base_uri": "https://localhost:8080/"
        },
        "id": "vHpMRjdvZybs",
        "outputId": "8293e73e-07ad-4dfc-e299-adfa4ac73b22"
      },
      "source": [
        "from sklearn.tree import DecisionTreeClassifier\n",
        "decisiontree = DecisionTreeClassifier()\n",
        "print(cross_val_score(decisiontree, X, y, cv=4))"
      ],
      "execution_count": 383,
      "outputs": [
        {
          "output_type": "stream",
          "text": [
            "[0.34156379 0.3127572  0.39917695 0.3553719 ]\n"
          ],
          "name": "stdout"
        }
      ]
    },
    {
      "cell_type": "code",
      "metadata": {
        "colab": {
          "base_uri": "https://localhost:8080/"
        },
        "id": "LBXcdGcDZ2B2",
        "outputId": "843faabb-9b14-4221-9142-bc25e9afd9b4"
      },
      "source": [
        "decisiontree.fit(X_train, y_train)\n",
        "predictions = decisiontree.predict(X_train)\n",
        "score = decisiontree.score(X_train, y_train)\n",
        "print(score) # Accuracy "
      ],
      "execution_count": 384,
      "outputs": [
        {
          "output_type": "stream",
          "text": [
            "1.0\n"
          ],
          "name": "stdout"
        }
      ]
    },
    {
      "cell_type": "code",
      "metadata": {
        "colab": {
          "base_uri": "https://localhost:8080/"
        },
        "id": "IcG0G_RS6k8i",
        "outputId": "f469618c-78f9-412a-e133-4ad9db350d82"
      },
      "source": [
        "predictions = decisiontree.predict(X_test)\n",
        "score = decisiontree.score(X_test, y_test)\n",
        "print(score) # Accuracy"
      ],
      "execution_count": 385,
      "outputs": [
        {
          "output_type": "stream",
          "text": [
            "0.5333333333333333\n"
          ],
          "name": "stdout"
        }
      ]
    },
    {
      "cell_type": "code",
      "metadata": {
        "colab": {
          "base_uri": "https://localhost:8080/"
        },
        "id": "FXnppg9kZ7EO",
        "outputId": "eaac2605-e510-4d40-ad21-6004e5e6118e"
      },
      "source": [
        "cm = metrics.confusion_matrix(y_test, predictions)\n",
        "print(cm)"
      ],
      "execution_count": 386,
      "outputs": [
        {
          "output_type": "stream",
          "text": [
            "[[ 0  0  0 ...  0  0  0]\n",
            " [ 0  0  0 ...  0  0  0]\n",
            " [ 0  0  0 ...  0  0  0]\n",
            " ...\n",
            " [ 0  0  0 ... 10  0  0]\n",
            " [ 0  0  0 ...  0 18  0]\n",
            " [ 0  0  0 ...  1  1  7]]\n"
          ],
          "name": "stdout"
        }
      ]
    },
    {
      "cell_type": "code",
      "metadata": {
        "colab": {
          "base_uri": "https://localhost:8080/",
          "height": 530
        },
        "id": "fweC38q3a9TM",
        "outputId": "951bc168-e9b9-4c8a-c51f-3acd99151b07"
      },
      "source": [
        "plt.figure(figsize=(9,9))\n",
        "sns.heatmap(cm, annot=True, fmt=\".3f\", linewidths=.5, square = True, cmap = 'Blues_r');\n",
        "plt.ylabel('y_test');\n",
        "plt.xlabel('predictions');\n",
        "all_sample_title = 'Accuracy Score: {0}'.format(score)\n",
        "plt.title(all_sample_title, size = 15);"
      ],
      "execution_count": 387,
      "outputs": [
        {
          "output_type": "display_data",
          "data": {
            "image/png": "[encoded data removed]",
            "text/plain": [
              "<Figure size 648x648 with 2 Axes>"
            ]
          },
          "metadata": {
            "tags": []
          }
        }
      ]
    },
    {
      "cell_type": "code",
      "metadata": {
        "colab": {
          "base_uri": "https://localhost:8080/"
        },
        "id": "TPnLPB5bbFh7",
        "outputId": "ca254f04-3c88-4904-a0ed-5e8fd65fd0dc"
      },
      "source": [
        "print(metrics.classification_report(y_test, predictions))\n",
        "confusion_matrix(y_test, predictions).ravel()"
      ],
      "execution_count": 388,
      "outputs": [
        {
          "output_type": "stream",
          "text": [
            "              precision    recall  f1-score   support\n",
            "\n",
            "           9       0.00      0.00      0.00         1\n",
            "          10       0.00      0.00      0.00         0\n",
            "          11       0.00      0.00      0.00         1\n",
            "          12       0.00      0.00      0.00         0\n",
            "          16       0.00      0.00      0.00         0\n",
            "          19       0.00      0.00      0.00         0\n",
            "          20       0.00      0.00      0.00         1\n",
            "          21       0.00      0.00      0.00         0\n",
            "          22       0.00      0.00      0.00         3\n",
            "          23       0.00      0.00      0.00         2\n",
            "          24       1.00      1.00      1.00         1\n",
            "          25       1.00      1.00      1.00         1\n",
            "          27       0.50      0.67      0.57         3\n",
            "          28       0.00      0.00      0.00         1\n",
            "          29       0.00      0.00      0.00         1\n",
            "          30       0.75      1.00      0.86         3\n",
            "          31       0.33      0.50      0.40         2\n",
            "          32       0.50      0.33      0.40         3\n",
            "          33       0.43      1.00      0.60         3\n",
            "          34       0.20      1.00      0.33         1\n",
            "          35       1.00      0.20      0.33         5\n",
            "          36       0.00      0.00      0.00         2\n",
            "          37       0.75      1.00      0.86         3\n",
            "          38       0.50      0.67      0.57         3\n",
            "          39       0.22      0.33      0.27         6\n",
            "          40       0.38      0.38      0.38         8\n",
            "          41       0.67      0.36      0.47        11\n",
            "          54       0.80      1.00      0.89        12\n",
            "          58       0.42      0.42      0.42        12\n",
            "          59       0.14      0.08      0.10        13\n",
            "          70       0.42      0.45      0.43        11\n",
            "          71       0.56      0.53      0.55        17\n",
            "          72       0.47      0.53      0.50        17\n",
            "          77       0.77      0.91      0.83        11\n",
            "          90       0.78      0.72      0.75        25\n",
            "          98       0.70      0.58      0.64        12\n",
            "\n",
            "    accuracy                           0.53       195\n",
            "   macro avg       0.37      0.41      0.37       195\n",
            "weighted avg       0.54      0.53      0.52       195\n",
            "\n"
          ],
          "name": "stdout"
        },
        {
          "output_type": "execute_result",
          "data": {
            "text/plain": [
              "array([0, 0, 0, ..., 1, 1, 7])"
            ]
          },
          "metadata": {
            "tags": []
          },
          "execution_count": 388
        }
      ]
    },
    {
      "cell_type": "code",
      "metadata": {
        "id": "Gs68jtZC-jUW"
      },
      "source": [
        "#metrics.plot_roc_curve(decisiontree, X_test, y_test)  \n",
        "#plt.show()"
      ],
      "execution_count": 389,
      "outputs": []
    },
    {
      "cell_type": "markdown",
      "metadata": {
        "id": "7Bj8od4A-dT_"
      },
      "source": [
        "# Random Forest"
      ]
    },
    {
      "cell_type": "code",
      "metadata": {
        "colab": {
          "base_uri": "https://localhost:8080/"
        },
        "id": "ZvNhuOq-9qs0",
        "outputId": "f0ece81d-be1c-485f-9c6c-a41a4efdaea7"
      },
      "source": [
        "from sklearn.ensemble import RandomForestClassifier\n",
        "randomforest = RandomForestClassifier()\n",
        "print(cross_val_score(randomforest, X, y, cv=3))"
      ],
      "execution_count": 390,
      "outputs": [
        {
          "output_type": "stream",
          "text": [
            "[0.47839506 0.46296296 0.38390093]\n"
          ],
          "name": "stdout"
        }
      ]
    },
    {
      "cell_type": "code",
      "metadata": {
        "colab": {
          "base_uri": "https://localhost:8080/"
        },
        "id": "N4pqZfu8_Ou4",
        "outputId": "d07a1363-93f1-4ab8-df2d-025ce8db453b"
      },
      "source": [
        "randomforest.fit(X_train, y_train)\n",
        "predictions = randomforest.predict(X_train)\n",
        "score = randomforest.score(X_train, y_train)\n",
        "print(score) # Accuracy "
      ],
      "execution_count": 391,
      "outputs": [
        {
          "output_type": "stream",
          "text": [
            "1.0\n"
          ],
          "name": "stdout"
        }
      ]
    },
    {
      "cell_type": "code",
      "metadata": {
        "colab": {
          "base_uri": "https://localhost:8080/"
        },
        "id": "z9qm5j4o_Yp_",
        "outputId": "c3ae23b4-95e2-4a5d-89b0-a78d9588b7eb"
      },
      "source": [
        "predictions = randomforest.predict(X_test)\n",
        "score = randomforest.score(X_test, y_test)\n",
        "print(score) # Accuracy"
      ],
      "execution_count": 392,
      "outputs": [
        {
          "output_type": "stream",
          "text": [
            "0.5025641025641026\n"
          ],
          "name": "stdout"
        }
      ]
    },
    {
      "cell_type": "code",
      "metadata": {
        "colab": {
          "base_uri": "https://localhost:8080/"
        },
        "id": "AemMuT1uAjju",
        "outputId": "44834996-343f-4d1c-db68-8e7c33c30123"
      },
      "source": [
        "cm = metrics.confusion_matrix(y_test, predictions)\n",
        "print(cm)"
      ],
      "execution_count": 393,
      "outputs": [
        {
          "output_type": "stream",
          "text": [
            "[[ 0  0  0 ...  0  0  0]\n",
            " [ 0  0  0 ...  0  0  0]\n",
            " [ 0  0  0 ...  0  0  0]\n",
            " ...\n",
            " [ 0  0  0 ...  9  0  0]\n",
            " [ 0  0  0 ...  0 16  1]\n",
            " [ 0  0  0 ...  1  1  9]]\n"
          ],
          "name": "stdout"
        }
      ]
    },
    {
      "cell_type": "code",
      "metadata": {
        "colab": {
          "base_uri": "https://localhost:8080/",
          "height": 530
        },
        "id": "IKXcFMGgAlTn",
        "outputId": "764b7b65-ba49-4cd2-cd61-4eb4f2fea40b"
      },
      "source": [
        "plt.figure(figsize=(9,9))\n",
        "sns.heatmap(cm, annot=True, fmt=\".3f\", linewidths=.5, square = True, cmap = 'Blues_r');\n",
        "plt.ylabel('y_test');\n",
        "plt.xlabel('predictions');\n",
        "all_sample_title = 'Accuracy Score: {0}'.format(score)\n",
        "plt.title(all_sample_title, size = 15);"
      ],
      "execution_count": 394,
      "outputs": [
        {
          "output_type": "display_data",
          "data": {
            "image/png": "[encoded data removed]",
            "text/plain": [
              "<Figure size 648x648 with 2 Axes>"
            ]
          },
          "metadata": {
            "tags": []
          }
        }
      ]
    },
    {
      "cell_type": "code",
      "metadata": {
        "colab": {
          "base_uri": "https://localhost:8080/"
        },
        "id": "6mbLtlLUAtSK",
        "outputId": "c029a110-4415-4e78-8623-ad5ee89ce9af"
      },
      "source": [
        "print(metrics.classification_report(y_test, predictions))\n",
        "confusion_matrix(y_test, predictions).ravel()"
      ],
      "execution_count": 395,
      "outputs": [
        {
          "output_type": "stream",
          "text": [
            "              precision    recall  f1-score   support\n",
            "\n",
            "           9       0.00      0.00      0.00         1\n",
            "          11       0.00      0.00      0.00         1\n",
            "          12       0.00      0.00      0.00         0\n",
            "          16       0.00      0.00      0.00         0\n",
            "          18       0.00      0.00      0.00         0\n",
            "          19       0.00      0.00      0.00         0\n",
            "          20       0.00      0.00      0.00         1\n",
            "          22       1.00      0.33      0.50         3\n",
            "          23       1.00      0.50      0.67         2\n",
            "          24       0.00      0.00      0.00         1\n",
            "          25       1.00      1.00      1.00         1\n",
            "          27       0.67      0.67      0.67         3\n",
            "          28       0.00      0.00      0.00         1\n",
            "          29       0.00      0.00      0.00         1\n",
            "          30       0.60      1.00      0.75         3\n",
            "          31       0.50      0.50      0.50         2\n",
            "          32       0.33      0.33      0.33         3\n",
            "          33       0.50      0.67      0.57         3\n",
            "          34       1.00      1.00      1.00         1\n",
            "          35       0.50      0.20      0.29         5\n",
            "          36       0.50      1.00      0.67         2\n",
            "          37       0.60      1.00      0.75         3\n",
            "          38       0.25      0.33      0.29         3\n",
            "          39       0.20      0.17      0.18         6\n",
            "          40       0.29      0.25      0.27         8\n",
            "          41       0.50      0.18      0.27        11\n",
            "          54       0.67      1.00      0.80        12\n",
            "          58       0.33      0.50      0.40        12\n",
            "          59       0.40      0.31      0.35        13\n",
            "          70       0.33      0.36      0.35        11\n",
            "          71       0.75      0.53      0.62        17\n",
            "          72       0.50      0.24      0.32        17\n",
            "          77       0.60      0.82      0.69        11\n",
            "          90       0.62      0.64      0.63        25\n",
            "          98       0.64      0.75      0.69        12\n",
            "\n",
            "    accuracy                           0.50       195\n",
            "   macro avg       0.41      0.41      0.39       195\n",
            "weighted avg       0.52      0.50      0.49       195\n",
            "\n"
          ],
          "name": "stdout"
        },
        {
          "output_type": "execute_result",
          "data": {
            "text/plain": [
              "array([0, 0, 0, ..., 1, 1, 9])"
            ]
          },
          "metadata": {
            "tags": []
          },
          "execution_count": 395
        }
      ]
    },
    {
      "cell_type": "code",
      "metadata": {
        "id": "CQglv_d1AxBK"
      },
      "source": [
        "#metrics.plot_roc_curve(randomforest, X_test, y_test)  \n",
        "#plt.show()"
      ],
      "execution_count": 396,
      "outputs": []
    },
    {
      "cell_type": "markdown",
      "metadata": {
        "id": "KqIbsWhrA_Pa"
      },
      "source": [
        "# SVM"
      ]
    },
    {
      "cell_type": "code",
      "metadata": {
        "colab": {
          "base_uri": "https://localhost:8080/"
        },
        "id": "0Id0i_Z9BGS4",
        "outputId": "f6b333bc-951c-4eee-dc3c-f6ff633baa2b"
      },
      "source": [
        "from sklearn import svm\n",
        "supvm = svm.SVC(kernel='poly', degree=8)\n",
        "print(cross_val_score(supvm, X, y, cv=3))"
      ],
      "execution_count": 397,
      "outputs": [
        {
          "output_type": "stream",
          "text": [
            "[0.10802469 0.11111111 0.09597523]\n"
          ],
          "name": "stdout"
        }
      ]
    },
    {
      "cell_type": "code",
      "metadata": {
        "colab": {
          "base_uri": "https://localhost:8080/"
        },
        "id": "4AYuFkmmBPq1",
        "outputId": "a1c9cfa4-73b4-4047-ff97-9ba71469cdb6"
      },
      "source": [
        "supvm.fit(X_train, y_train)\n",
        "predictions = supvm.predict(X_train)\n",
        "score = supvm.score(X_train, y_train)\n",
        "print(score) # Accuracy "
      ],
      "execution_count": 398,
      "outputs": [
        {
          "output_type": "stream",
          "text": [
            "0.1327319587628866\n"
          ],
          "name": "stdout"
        }
      ]
    },
    {
      "cell_type": "code",
      "metadata": {
        "colab": {
          "base_uri": "https://localhost:8080/"
        },
        "id": "uTnu8J80BVC1",
        "outputId": "f51aba23-d7a1-4eec-88f7-67421bc3355e"
      },
      "source": [
        "predictions = supvm.predict(X_test)\n",
        "score = supvm.score(X_test, y_test)\n",
        "print(score) # Accuracy "
      ],
      "execution_count": 399,
      "outputs": [
        {
          "output_type": "stream",
          "text": [
            "0.08205128205128205\n"
          ],
          "name": "stdout"
        }
      ]
    },
    {
      "cell_type": "code",
      "metadata": {
        "colab": {
          "base_uri": "https://localhost:8080/"
        },
        "id": "Ox-nyhADBaGW",
        "outputId": "32bbe027-331e-4d2c-be9e-08d614ca6ad2"
      },
      "source": [
        "cm = metrics.confusion_matrix(y_test, predictions)\n",
        "print(cm)"
      ],
      "execution_count": 400,
      "outputs": [
        {
          "output_type": "stream",
          "text": [
            "[[ 0  0  0  0  0  0  0  0  0  0  0  0  0  0  0  0  0  0  0  0  0  0  1  0\n",
            "   0  0  0  0  0  0  0]\n",
            " [ 0  0  0  0  0  0  0  0  0  0  0  0  0  0  0  0  0  0  0  0  0  0  1  0\n",
            "   0  0  0  0  0  0  0]\n",
            " [ 0  0  0  0  0  0  0  0  0  0  0  0  0  0  0  0  0  0  0  0  0  0  1  0\n",
            "   0  0  0  0  0  0  0]\n",
            " [ 0  0  0  0  0  0  0  0  0  0  0  0  0  0  0  0  0  0  0  0  0  0  2  0\n",
            "   0  0  0  0  0  0  1]\n",
            " [ 0  0  0  0  0  0  0  0  0  0  0  0  0  0  0  0  0  0  0  0  0  0  2  0\n",
            "   0  0  0  0  0  0  0]\n",
            " [ 0  0  0  0  0  0  0  0  0  0  0  0  0  0  0  0  0  0  0  0  0  0  1  0\n",
            "   0  0  0  0  0  0  0]\n",
            " [ 0  0  0  0  0  0  0  0  0  0  0  0  0  0  0  0  0  0  0  0  0  0  1  0\n",
            "   0  0  0  0  0  0  0]\n",
            " [ 0  0  0  0  0  0  0  0  0  0  0  0  0  0  0  0  0  0  0  0  0  0  3  0\n",
            "   0  0  0  0  0  0  0]\n",
            " [ 0  0  0  0  0  0  0  0  0  0  0  0  0  0  0  0  0  0  0  0  0  0  1  0\n",
            "   0  0  0  0  0  0  0]\n",
            " [ 0  0  0  0  0  0  0  0  0  0  0  0  0  0  0  0  0  0  0  0  0  0  1  0\n",
            "   0  0  0  0  0  0  0]\n",
            " [ 0  0  0  0  0  0  0  0  0  0  0  0  0  0  0  0  0  0  0  0  0  0  3  0\n",
            "   0  0  0  0  0  0  0]\n",
            " [ 0  0  0  0  0  0  0  0  0  0  0  0  0  0  0  0  0  0  0  0  0  0  1  0\n",
            "   0  0  0  0  0  0  1]\n",
            " [ 0  0  0  0  0  0  0  0  0  0  0  0  0  0  0  0  0  0  0  0  0  0  3  0\n",
            "   0  0  0  0  0  0  0]\n",
            " [ 0  0  0  0  0  0  0  0  0  0  0  0  0  0  0  0  0  0  0  0  0  0  2  0\n",
            "   0  0  0  0  0  0  1]\n",
            " [ 0  0  0  0  0  0  0  0  0  0  0  0  0  0  0  0  0  0  0  0  0  0  0  0\n",
            "   0  0  0  0  0  0  1]\n",
            " [ 0  0  0  0  0  0  0  0  0  0  0  0  0  0  0  0  0  0  0  0  0  0  1  0\n",
            "   0  0  0  0  0  0  4]\n",
            " [ 0  0  0  0  0  0  0  0  0  0  0  0  0  0  0  0  0  0  0  0  0  0  1  0\n",
            "   0  0  0  0  0  0  1]\n",
            " [ 0  0  0  0  0  0  0  0  0  0  0  0  0  0  0  0  0  0  0  0  0  0  1  0\n",
            "   0  0  0  0  1  0  1]\n",
            " [ 0  0  0  0  0  0  0  0  0  0  0  0  0  0  0  0  0  0  0  0  0  0  0  0\n",
            "   0  0  0  0  0  0  3]\n",
            " [ 0  0  0  0  0  0  0  0  0  0  0  0  0  0  0  0  0  0  0  0  0  0  1  0\n",
            "   0  0  0  0  1  0  4]\n",
            " [ 0  0  0  0  0  0  0  0  0  0  0  0  0  0  0  0  0  0  0  0  0  0  1  0\n",
            "   0  0  0  0  0  0  7]\n",
            " [ 0  0  0  0  0  0  0  0  0  0  0  0  0  0  0  0  0  0  0  0  0  0  2  0\n",
            "   0  0  0  0  0  0  9]\n",
            " [ 0  0  0  0  0  0  0  0  0  0  0  0  0  0  0  0  0  0  0  0  0  0  4  0\n",
            "   0  0  0  0  0  0  8]\n",
            " [ 0  0  0  0  0  0  0  0  0  0  0  0  0  0  0  0  0  0  0  0  0  0  0  0\n",
            "   0  0  0  0  0  0 12]\n",
            " [ 0  0  0  0  0  0  0  0  0  0  0  0  0  0  0  0  0  0  0  0  0  0  0  0\n",
            "   0  0  0  0  0  0 13]\n",
            " [ 0  0  0  0  0  0  0  0  0  0  0  0  0  0  0  0  0  0  0  0  0  0  0  0\n",
            "   0  0  0  0  0  0 11]\n",
            " [ 0  0  0  0  0  0  0  0  0  0  0  0  0  0  0  0  0  0  0  0  0  0  0  0\n",
            "   0  0  0  0  0  0 17]\n",
            " [ 0  0  0  0  0  0  0  0  0  0  0  0  0  0  0  0  0  0  0  0  0  0  0  0\n",
            "   0  0  0  0  0  0 17]\n",
            " [ 0  0  0  0  0  0  0  0  0  0  0  0  0  0  0  0  0  0  0  0  0  0  0  0\n",
            "   0  0  0  0  0  0 11]\n",
            " [ 0  0  0  0  0  0  0  0  0  0  0  0  0  0  0  0  0  0  0  0  0  0  0  0\n",
            "   0  0  0  0  1  0 24]\n",
            " [ 0  0  0  0  0  0  0  0  0  0  0  0  0  0  0  0  0  0  0  0  0  0  0  0\n",
            "   0  0  0  0  0  0 12]]\n"
          ],
          "name": "stdout"
        }
      ]
    },
    {
      "cell_type": "code",
      "metadata": {
        "colab": {
          "base_uri": "https://localhost:8080/",
          "height": 526
        },
        "id": "w7p_uKSRBcgs",
        "outputId": "fbcb15e5-3205-4ebf-f5f0-5fa16ba67c9e"
      },
      "source": [
        "plt.figure(figsize=(9,9))\n",
        "sns.heatmap(cm, annot=True, fmt=\".3f\", linewidths=.5, square = True, cmap = 'Blues_r');\n",
        "plt.ylabel('y_test');\n",
        "plt.xlabel('predictions');\n",
        "all_sample_title = 'Accuracy Score: {0}'.format(score)\n",
        "plt.title(all_sample_title, size = 15);"
      ],
      "execution_count": 401,
      "outputs": [
        {
          "output_type": "display_data",
          "data": {
            "image/png": "[encoded data removed]",
            "text/plain": [
              "<Figure size 648x648 with 2 Axes>"
            ]
          },
          "metadata": {
            "tags": []
          }
        }
      ]
    },
    {
      "cell_type": "code",
      "metadata": {
        "colab": {
          "base_uri": "https://localhost:8080/"
        },
        "id": "mgEs8XnzBfSK",
        "outputId": "78c60eeb-0dd1-40cf-f469-a39808d06cca"
      },
      "source": [
        "print(metrics.classification_report(y_test, predictions))\n",
        "\n",
        "confusion_matrix(y_test, predictions).ravel()"
      ],
      "execution_count": 402,
      "outputs": [
        {
          "output_type": "stream",
          "text": [
            "              precision    recall  f1-score   support\n",
            "\n",
            "           9       0.00      0.00      0.00         1\n",
            "          11       0.00      0.00      0.00         1\n",
            "          20       0.00      0.00      0.00         1\n",
            "          22       0.00      0.00      0.00         3\n",
            "          23       0.00      0.00      0.00         2\n",
            "          24       0.00      0.00      0.00         1\n",
            "          25       0.00      0.00      0.00         1\n",
            "          27       0.00      0.00      0.00         3\n",
            "          28       0.00      0.00      0.00         1\n",
            "          29       0.00      0.00      0.00         1\n",
            "          30       0.00      0.00      0.00         3\n",
            "          31       0.00      0.00      0.00         2\n",
            "          32       0.00      0.00      0.00         3\n",
            "          33       0.00      0.00      0.00         3\n",
            "          34       0.00      0.00      0.00         1\n",
            "          35       0.00      0.00      0.00         5\n",
            "          36       0.00      0.00      0.00         2\n",
            "          37       0.00      0.00      0.00         3\n",
            "          38       0.00      0.00      0.00         3\n",
            "          39       0.00      0.00      0.00         6\n",
            "          40       0.00      0.00      0.00         8\n",
            "          41       0.00      0.00      0.00        11\n",
            "          54       0.12      0.33      0.17        12\n",
            "          58       0.00      0.00      0.00        12\n",
            "          59       0.00      0.00      0.00        13\n",
            "          70       0.00      0.00      0.00        11\n",
            "          71       0.00      0.00      0.00        17\n",
            "          72       0.00      0.00      0.00        17\n",
            "          77       0.00      0.00      0.00        11\n",
            "          90       0.00      0.00      0.00        25\n",
            "          98       0.08      1.00      0.14        12\n",
            "\n",
            "    accuracy                           0.08       195\n",
            "   macro avg       0.01      0.04      0.01       195\n",
            "weighted avg       0.01      0.08      0.02       195\n",
            "\n"
          ],
          "name": "stdout"
        },
        {
          "output_type": "execute_result",
          "data": {
            "text/plain": [
              "array([ 0,  0,  0,  0,  0,  0,  0,  0,  0,  0,  0,  0,  0,  0,  0,  0,  0,\n",
              "        0,  0,  0,  0,  0,  1,  0,  0,  0,  0,  0,  0,  0,  0,  0,  0,  0,\n",
              "        0,  0,  0,  0,  0,  0,  0,  0,  0,  0,  0,  0,  0,  0,  0,  0,  0,\n",
              "        0,  0,  1,  0,  0,  0,  0,  0,  0,  0,  0,  0,  0,  0,  0,  0,  0,\n",
              "        0,  0,  0,  0,  0,  0,  0,  0,  0,  0,  0,  0,  0,  0,  0,  0,  1,\n",
              "        0,  0,  0,  0,  0,  0,  0,  0,  0,  0,  0,  0,  0,  0,  0,  0,  0,\n",
              "        0,  0,  0,  0,  0,  0,  0,  0,  0,  0,  0,  0,  0,  2,  0,  0,  0,\n",
              "        0,  0,  0,  0,  1,  0,  0,  0,  0,  0,  0,  0,  0,  0,  0,  0,  0,\n",
              "        0,  0,  0,  0,  0,  0,  0,  0,  0,  0,  2,  0,  0,  0,  0,  0,  0,\n",
              "        0,  0,  0,  0,  0,  0,  0,  0,  0,  0,  0,  0,  0,  0,  0,  0,  0,\n",
              "        0,  0,  0,  0,  0,  0,  0,  1,  0,  0,  0,  0,  0,  0,  0,  0,  0,\n",
              "        0,  0,  0,  0,  0,  0,  0,  0,  0,  0,  0,  0,  0,  0,  0,  0,  0,\n",
              "        0,  0,  0,  0,  1,  0,  0,  0,  0,  0,  0,  0,  0,  0,  0,  0,  0,\n",
              "        0,  0,  0,  0,  0,  0,  0,  0,  0,  0,  0,  0,  0,  0,  0,  0,  0,\n",
              "        0,  3,  0,  0,  0,  0,  0,  0,  0,  0,  0,  0,  0,  0,  0,  0,  0,\n",
              "        0,  0,  0,  0,  0,  0,  0,  0,  0,  0,  0,  0,  0,  0,  0,  1,  0,\n",
              "        0,  0,  0,  0,  0,  0,  0,  0,  0,  0,  0,  0,  0,  0,  0,  0,  0,\n",
              "        0,  0,  0,  0,  0,  0,  0,  0,  0,  0,  0,  0,  1,  0,  0,  0,  0,\n",
              "        0,  0,  0,  0,  0,  0,  0,  0,  0,  0,  0,  0,  0,  0,  0,  0,  0,\n",
              "        0,  0,  0,  0,  0,  0,  0,  0,  0,  3,  0,  0,  0,  0,  0,  0,  0,\n",
              "        0,  0,  0,  0,  0,  0,  0,  0,  0,  0,  0,  0,  0,  0,  0,  0,  0,\n",
              "        0,  0,  0,  0,  0,  0,  1,  0,  0,  0,  0,  0,  0,  0,  1,  0,  0,\n",
              "        0,  0,  0,  0,  0,  0,  0,  0,  0,  0,  0,  0,  0,  0,  0,  0,  0,\n",
              "        0,  0,  0,  3,  0,  0,  0,  0,  0,  0,  0,  0,  0,  0,  0,  0,  0,\n",
              "        0,  0,  0,  0,  0,  0,  0,  0,  0,  0,  0,  0,  0,  0,  0,  0,  0,\n",
              "        2,  0,  0,  0,  0,  0,  0,  0,  1,  0,  0,  0,  0,  0,  0,  0,  0,\n",
              "        0,  0,  0,  0,  0,  0,  0,  0,  0,  0,  0,  0,  0,  0,  0,  0,  0,\n",
              "        0,  0,  0,  0,  0,  1,  0,  0,  0,  0,  0,  0,  0,  0,  0,  0,  0,\n",
              "        0,  0,  0,  0,  0,  0,  0,  0,  0,  0,  0,  1,  0,  0,  0,  0,  0,\n",
              "        0,  0,  4,  0,  0,  0,  0,  0,  0,  0,  0,  0,  0,  0,  0,  0,  0,\n",
              "        0,  0,  0,  0,  0,  0,  0,  0,  1,  0,  0,  0,  0,  0,  0,  0,  1,\n",
              "        0,  0,  0,  0,  0,  0,  0,  0,  0,  0,  0,  0,  0,  0,  0,  0,  0,\n",
              "        0,  0,  0,  0,  0,  1,  0,  0,  0,  0,  0,  1,  0,  1,  0,  0,  0,\n",
              "        0,  0,  0,  0,  0,  0,  0,  0,  0,  0,  0,  0,  0,  0,  0,  0,  0,\n",
              "        0,  0,  0,  0,  0,  0,  0,  0,  0,  0,  3,  0,  0,  0,  0,  0,  0,\n",
              "        0,  0,  0,  0,  0,  0,  0,  0,  0,  0,  0,  0,  0,  0,  0,  0,  1,\n",
              "        0,  0,  0,  0,  0,  1,  0,  4,  0,  0,  0,  0,  0,  0,  0,  0,  0,\n",
              "        0,  0,  0,  0,  0,  0,  0,  0,  0,  0,  0,  0,  0,  1,  0,  0,  0,\n",
              "        0,  0,  0,  0,  7,  0,  0,  0,  0,  0,  0,  0,  0,  0,  0,  0,  0,\n",
              "        0,  0,  0,  0,  0,  0,  0,  0,  0,  0,  2,  0,  0,  0,  0,  0,  0,\n",
              "        0,  9,  0,  0,  0,  0,  0,  0,  0,  0,  0,  0,  0,  0,  0,  0,  0,\n",
              "        0,  0,  0,  0,  0,  0,  0,  4,  0,  0,  0,  0,  0,  0,  0,  8,  0,\n",
              "        0,  0,  0,  0,  0,  0,  0,  0,  0,  0,  0,  0,  0,  0,  0,  0,  0,\n",
              "        0,  0,  0,  0,  0,  0,  0,  0,  0,  0,  0,  0, 12,  0,  0,  0,  0,\n",
              "        0,  0,  0,  0,  0,  0,  0,  0,  0,  0,  0,  0,  0,  0,  0,  0,  0,\n",
              "        0,  0,  0,  0,  0,  0,  0,  0,  0, 13,  0,  0,  0,  0,  0,  0,  0,\n",
              "        0,  0,  0,  0,  0,  0,  0,  0,  0,  0,  0,  0,  0,  0,  0,  0,  0,\n",
              "        0,  0,  0,  0,  0,  0, 11,  0,  0,  0,  0,  0,  0,  0,  0,  0,  0,\n",
              "        0,  0,  0,  0,  0,  0,  0,  0,  0,  0,  0,  0,  0,  0,  0,  0,  0,\n",
              "        0,  0,  0, 17,  0,  0,  0,  0,  0,  0,  0,  0,  0,  0,  0,  0,  0,\n",
              "        0,  0,  0,  0,  0,  0,  0,  0,  0,  0,  0,  0,  0,  0,  0,  0,  0,\n",
              "       17,  0,  0,  0,  0,  0,  0,  0,  0,  0,  0,  0,  0,  0,  0,  0,  0,\n",
              "        0,  0,  0,  0,  0,  0,  0,  0,  0,  0,  0,  0,  0,  0, 11,  0,  0,\n",
              "        0,  0,  0,  0,  0,  0,  0,  0,  0,  0,  0,  0,  0,  0,  0,  0,  0,\n",
              "        0,  0,  0,  0,  0,  0,  0,  0,  0,  1,  0, 24,  0,  0,  0,  0,  0,\n",
              "        0,  0,  0,  0,  0,  0,  0,  0,  0,  0,  0,  0,  0,  0,  0,  0,  0,\n",
              "        0,  0,  0,  0,  0,  0,  0,  0, 12])"
            ]
          },
          "metadata": {
            "tags": []
          },
          "execution_count": 402
        }
      ]
    },
    {
      "cell_type": "code",
      "metadata": {
        "id": "tbqU9-ARBkPN"
      },
      "source": [
        "#metrics.plot_roc_curve(supvm, X_test, y_test)  \n",
        "#plt.show()"
      ],
      "execution_count": 403,
      "outputs": []
    },
    {
      "cell_type": "markdown",
      "metadata": {
        "id": "7ihfviRc9rf7"
      },
      "source": [
        "# Prediction"
      ]
    },
    {
      "cell_type": "code",
      "metadata": {
        "colab": {
          "base_uri": "https://localhost:8080/"
        },
        "id": "AoVnOg5OqA3d",
        "outputId": "a5b4f7f2-86a6-4341-ef8a-cfe7726055c1"
      },
      "source": [
        "from sklearn.model_selection import train_test_split\n",
        "\n",
        "train_df, test_df = train_test_split(t4, test_size=0.2, random_state=5)\n",
        "\n",
        "print(train_df.columns)\n",
        "print(train_df.shape)\n",
        "\n",
        "print(test_df.columns)\n",
        "print(test_df.shape)"
      ],
      "execution_count": 406,
      "outputs": [
        {
          "output_type": "stream",
          "text": [
            "Index(['year', 'month', 'day', 'city', 'venue', 'home_team', 'team_1',\n",
            "       'team_2', 'toss_winner', 'toss_decision', 'umpire_1', 'umpire_2',\n",
            "       'match_winner'],\n",
            "      dtype='object')\n",
            "(776, 13)\n",
            "Index(['year', 'month', 'day', 'city', 'venue', 'home_team', 'team_1',\n",
            "       'team_2', 'toss_winner', 'toss_decision', 'umpire_1', 'umpire_2',\n",
            "       'match_winner'],\n",
            "      dtype='object')\n",
            "(195, 13)\n"
          ],
          "name": "stdout"
        }
      ]
    },
    {
      "cell_type": "code",
      "metadata": {
        "id": "spq1zqNYrnM-"
      },
      "source": [
        "from sklearn.linear_model import LogisticRegression\n",
        "from sklearn.ensemble import RandomForestClassifier\n",
        "from sklearn.metrics import accuracy_score\n",
        "from sklearn.model_selection import cross_val_score\n",
        "import warnings\n",
        "warnings.filterwarnings('ignore')\n",
        "\n",
        "def print_model_scores(model, data, predictor, target):\n",
        "    model.fit(data[predictor], data[target])\n",
        "    predictions = model.predict(data[predictor])\n",
        "    accuracy = accuracy_score(predictions, data[target])\n",
        "    print('Accuracy: %s' % '{0:.2}'.format(accuracy))\n",
        "    scores = cross_val_score(model, data[predictor], data[target], scoring=\"neg_mean_squared_error\", cv=5)\n",
        "    print('Cross-Validation Scores: {}'.format(np.sqrt(-scores)))\n",
        "    print(f'Average RMSE: {np.sqrt(-scores).mean()}')"
      ],
      "execution_count": 407,
      "outputs": []
    },
    {
      "cell_type": "code",
      "metadata": {
        "id": "Ns4-ORe6rr4H",
        "colab": {
          "base_uri": "https://localhost:8080/"
        },
        "outputId": "68570a4e-2c97-49db-e24a-5575df89d6d8"
      },
      "source": [
        "# Logistic Regression\n",
        "\n",
        "target_var = [\"match_winner\"]\n",
        "predictor_var = ['year', 'month', 'day', 'city', 'venue', 'home_team', 'team_1',\n",
        "       'team_2', 'toss_winner', 'toss_decision', 'umpire_1', 'umpire_2']\n",
        "model = LogisticRegression()\n",
        "\n",
        "print_model_scores(model, train_df, predictor_var, target_var)"
      ],
      "execution_count": 408,
      "outputs": [
        {
          "output_type": "stream",
          "text": [
            "Accuracy: 0.27\n",
            "Cross-Validation Scores: [14.40352521 14.02325258 15.11162765 16.51314237 16.52837248]\n",
            "Average RMSE: 15.315984058199689\n"
          ],
          "name": "stdout"
        }
      ]
    },
    {
      "cell_type": "code",
      "metadata": {
        "colab": {
          "base_uri": "https://localhost:8080/"
        },
        "id": "5tM1oQvgt4p3",
        "outputId": "42e46235-1d3a-4d18-c234-14139cf8b591"
      },
      "source": [
        "# Random Forest Classifier\n",
        "model = RandomForestClassifier()\n",
        "print_model_scores(model, train_df, predictor_var, target_var)"
      ],
      "execution_count": 447,
      "outputs": [
        {
          "output_type": "stream",
          "text": [
            "Accuracy: 1.0\n",
            "Cross-Validation Scores: [10.22753949 10.79814799 12.00080642 12.1840721  12.24297033]\n",
            "Average RMSE: 11.490707267949222\n"
          ],
          "name": "stdout"
        }
      ]
    },
    {
      "cell_type": "code",
      "metadata": {
        "colab": {
          "base_uri": "https://localhost:8080/"
        },
        "id": "2O1C-3IeuHiv",
        "outputId": "50210358-2904-4f35-efc7-7f820d301e06"
      },
      "source": [
        "# Sample Test\n",
        "import re\n",
        "t = test_df.sample().to_numpy().tolist()\n",
        "t = str(t)[1:-1]\n",
        "temp = re.findall(r'\\d+', t)\n",
        "res = list(map(int, temp))\n",
        "print(res)\n",
        "year, month, day, city, venue, home_team, team_1, team_2, toss_winner, toss_decision, umpire_1, umpire_2, match_winner = res\n",
        "\n",
        "inp = [year, month, day, city, venue, home_team, team_1, team_2, toss_winner, toss_decision, umpire_1, umpire_2]\n",
        "\n",
        "\n",
        "inp = np.array(inp).reshape((1, -1))\n",
        "print(inp)\n",
        "output = model.predict(inp)\n",
        "print(output)\n",
        "print(f\"team_1: {list(team_encodings.keys())[list(team_encode_dict['all_teams'].values()).index(team_1)]}\")\n",
        "print(f\"team_2: {list(team_encodings.keys())[list(team_encode_dict['all_teams'].values()).index(team_2)]}\")\n",
        "print(f\"Actual winner is: {list(team_encodings.keys())[list(team_encode_dict['all_teams'].values()).index(match_winner)]}\")\n",
        "print(f\"Predicted winner: {list(team_encodings.keys())[list(team_encode_dict['all_teams'].values()).index(output)]}\")"
      ],
      "execution_count": 453,
      "outputs": [
        {
          "output_type": "stream",
          "text": [
            "[2018, 12, 17, 106, 117, 39, 39, 58, 39, 0, 136, 143, 58]\n",
            "[[2018   12   17  106  117   39   39   58   39    0  136  143]]\n",
            "[39]\n",
            "team_1: Bangladesh\n",
            "team_2: West Indies\n",
            "Actual winner is: West Indies\n",
            "Predicted winner: Bangladesh\n"
          ],
          "name": "stdout"
        }
      ]
    },
    {
      "cell_type": "code",
      "metadata": {
        "colab": {
          "base_uri": "https://localhost:8080/"
        },
        "id": "kWEgSlUZC1to",
        "outputId": "48eebf57-d012-48c2-8e3c-cae89d59da5a"
      },
      "source": [
        "print_model_scores(model, test_df, predictor_var, target_var)"
      ],
      "execution_count": 425,
      "outputs": [
        {
          "output_type": "stream",
          "text": [
            "Accuracy: 1.0\n",
            "Cross-Validation Scores: [12.54632442 11.82674067 11.13207424 11.77894689 17.46938714]\n",
            "Average RMSE: 12.950694671941118\n"
          ],
          "name": "stdout"
        }
      ]
    },
    {
      "cell_type": "code",
      "metadata": {
        "colab": {
          "base_uri": "https://localhost:8080/"
        },
        "id": "g0Udc5_lWRs-",
        "outputId": "3d542d52-0509-44bb-d9eb-d218943dacae"
      },
      "source": [
        "pd.Series(index=predictor_var, data=model.feature_importances_)"
      ],
      "execution_count": 426,
      "outputs": [
        {
          "output_type": "execute_result",
          "data": {
            "text/plain": [
              "year             0.063424\n",
              "month            0.061691\n",
              "day              0.076976\n",
              "city             0.075734\n",
              "venue            0.084689\n",
              "home_team        0.069960\n",
              "team_1           0.119752\n",
              "team_2           0.134338\n",
              "toss_winner      0.124873\n",
              "toss_decision    0.023323\n",
              "umpire_1         0.085762\n",
              "umpire_2         0.079477\n",
              "dtype: float64"
            ]
          },
          "metadata": {
            "tags": []
          },
          "execution_count": 426
        }
      ]
    },
    {
      "cell_type": "code",
      "metadata": {
        "colab": {
          "base_uri": "https://localhost:8080/"
        },
        "id": "5kEufFY-W5gQ",
        "outputId": "c95ebbe5-6bd9-40fc-f47b-cbe42a56642a"
      },
      "source": [
        "from sklearn.tree import DecisionTreeClassifier\n",
        "model = DecisionTreeClassifier()\n",
        "print_model_scores(model, train_df, predictor_var, target_var)"
      ],
      "execution_count": 430,
      "outputs": [
        {
          "output_type": "stream",
          "text": [
            "Accuracy: 1.0\n",
            "Cross-Validation Scores: [12.70750838 13.8538454  13.52655691 14.11976423 12.77901506]\n",
            "Average RMSE: 13.397337995360232\n"
          ],
          "name": "stdout"
        }
      ]
    },
    {
      "cell_type": "code",
      "metadata": {
        "colab": {
          "base_uri": "https://localhost:8080/"
        },
        "id": "Tv5E3aRJXDb_",
        "outputId": "1d10d390-3d77-454b-f5eb-5ba87d29ed74"
      },
      "source": [
        "# Sample Test\n",
        "import re\n",
        "t = test_df.sample().to_numpy().tolist()\n",
        "t = str(t)[1:-1]\n",
        "temp = re.findall(r'\\d+', t)\n",
        "res = list(map(int, temp))\n",
        "\n",
        "year, month, day, city, venue, home_team, team_1, team_2, toss_winner, toss_decision, umpire_1, umpire_2, match_winner = res\n",
        "\n",
        "inp = [year, month, day, city, venue, home_team, team_1, team_2, toss_winner, toss_decision, umpire_1, umpire_2]\n",
        "\n",
        "print(inp)\n",
        "inp = np.array(inp).reshape((1, -1))\n",
        "print(inp)\n",
        "output = model.predict(inp)\n",
        "print(output)\n",
        "print(f\"team_1: {list(team_encodings.keys())[list(team_encode_dict['all_teams'].values()).index(team_1)]}\")\n",
        "print(f\"team_2: {list(team_encodings.keys())[list(team_encode_dict['all_teams'].values()).index(team_2)]}\")\n",
        "print(f\"Actual winner is: {list(team_encodings.keys())[list(team_encode_dict['all_teams'].values()).index(match_winner)]}\")\n",
        "print(f\"Predicted winner: {list(team_encodings.keys())[list(team_encode_dict['all_teams'].values()).index(output)]}\")"
      ],
      "execution_count": 454,
      "outputs": [
        {
          "output_type": "stream",
          "text": [
            "[2017, 10, 26, 13, 65, 71, 71, 39, 71, 0, 9, 123]\n",
            "[[2017   10   26   13   65   71   71   39   71    0    9  123]]\n",
            "[71]\n",
            "team_1: South Africa\n",
            "team_2: Bangladesh\n",
            "Actual winner is: South Africa\n",
            "Predicted winner: South Africa\n"
          ],
          "name": "stdout"
        }
      ]
    },
    {
      "cell_type": "code",
      "metadata": {
        "colab": {
          "base_uri": "https://localhost:8080/"
        },
        "id": "NMGavLU1ERE6",
        "outputId": "60663da2-ef0a-4586-bfae-3478b6e124d3"
      },
      "source": [
        "print_model_scores(model, test_df, predictor_var, target_var)"
      ],
      "execution_count": 428,
      "outputs": [
        {
          "output_type": "stream",
          "text": [
            "Accuracy: 1.0\n",
            "Cross-Validation Scores: [11.59686076 17.44588703 13.56938485 11.63328558 19.79316121]\n",
            "Average RMSE: 14.807715885940462\n"
          ],
          "name": "stdout"
        }
      ]
    }
  ]
}